{
 "metadata": {
  "name": "",
  "signature": "sha256:c749c13f1835972a4475f27b7bc07eb2729631b5b2bbb0a9baf4badad5eb8bed"
 },
 "nbformat": 3,
 "nbformat_minor": 0,
 "worksheets": [
  {
   "cells": [
    {
     "cell_type": "heading",
     "level": 5,
     "metadata": {},
     "source": [
      "Proposition suivante :\n",
      "- basculer toutes les cotisations non-contributives (patronales et salariales) vers la CSG\n",
      "- supprimer les exon\u00e9rations Fillon\n",
      "- voir les effets sur le salaire net en raisonnant \u00e0 salaire superbrut constant"
     ]
    },
    {
     "cell_type": "code",
     "collapsed": false,
     "input": [
      "from datetime import date\n",
      "\n",
      "from openfisca_france import init_country\n",
      "from openfisca_france.model.base import *"
     ],
     "language": "python",
     "metadata": {},
     "outputs": []
    },
    {
     "cell_type": "heading",
     "level": 2,
     "metadata": {},
     "source": [
      "Adaptation pour faciliter l'usage de ce notebook"
     ]
    },
    {
     "cell_type": "markdown",
     "metadata": {},
     "source": [
      "_Ce correctif permet de red\u00e9finir plusieurs fois la m\u00eame variable sans provoquer d'erreur._"
     ]
    },
    {
     "cell_type": "code",
     "collapsed": false,
     "input": [
      "import functools\n",
      "\n",
      "from openfisca_core.formulas import make_reference_formula_decorator\n",
      "from openfisca_france.entities import entity_class_by_symbol\n",
      "\n",
      "reference_formula = make_reference_formula_decorator(entity_class_by_symbol = entity_class_by_symbol, update = True)\n",
      "reference_input_variable = functools.partial(reference_input_variable, update = True)"
     ],
     "language": "python",
     "metadata": {},
     "outputs": []
    },
    {
     "cell_type": "heading",
     "level": 1,
     "metadata": {},
     "source": [
      "Variable avec formule"
     ]
    },
    {
     "cell_type": "heading",
     "level": 1,
     "metadata": {},
     "source": [
      "Variable avec diff\u00e9rentes formules en fonction de la date"
     ]
    },
    {
     "cell_type": "heading",
     "level": 1,
     "metadata": {},
     "source": [
      "Syst\u00e8me socio-fiscal"
     ]
    },
    {
     "cell_type": "code",
     "collapsed": false,
     "input": [
      "TaxBenefitSystem = init_country()\n",
      "tax_benefit_system = TaxBenefitSystem()"
     ],
     "language": "python",
     "metadata": {},
     "outputs": []
    },
    {
     "cell_type": "heading",
     "level": 1,
     "metadata": {},
     "source": [
      "Simulation"
     ]
    },
    {
     "cell_type": "code",
     "collapsed": false,
     "input": [
      "simulation = tax_benefit_system.new_scenario().init_single_entity(\n",
      "    period = 2014,\n",
      "    parent1 = dict(\n",
      "        birth = date(1980, 1, 1),\n",
      "        sali = 12000,\n",
      "        ),\n",
      "    parent2 = dict(\n",
      "        birth = date(1980, 1, 1),\n",
      "        sali = 6000,\n",
      "        ),\n",
      "    enfants = [\n",
      "        dict(\n",
      "            birth = date(2014, 1, 1),\n",
      "            ),\n",
      "        ],\n",
      "    ).new_simulation(debug = True)"
     ],
     "language": "python",
     "metadata": {},
     "outputs": []
    },
    {
     "cell_type": "code",
     "collapsed": false,
     "input": [
      "simulation.calculate('salsuperbrut')"
     ],
     "language": "python",
     "metadata": {},
     "outputs": []
    },
    {
     "cell_type": "heading",
     "level": 1,
     "metadata": {},
     "source": [
      "R\u00e9forme"
     ]
    },
    {
     "cell_type": "code",
     "collapsed": false,
     "input": [
      "from openfisca_core import reforms"
     ],
     "language": "python",
     "metadata": {},
     "outputs": []
    },
    {
     "cell_type": "code",
     "collapsed": false,
     "input": [
      "ReformeCotisationsRDB = reforms.new_simple_reform_class(\n",
      "    name = u\"R\u00e9forme des cotisations pour un Revenu de base\",\n",
      "    reference = tax_benefit_system,\n",
      "    )"
     ],
     "language": "python",
     "metadata": {},
     "outputs": []
    },
    {
     "cell_type": "code",
     "collapsed": false,
     "input": [
      "@ReformeCotisationsRDB.formula\n",
      "class cotisations_contributives(SimpleFormulaColumn):\n",
      "    column = FloatCol\n",
      "    entity_class = Individus\n",
      "    label = u\"Nouvelles cotisations contributives\"\n",
      "\n",
      "\n",
      "    def function(self, simulation, period):\n",
      "        ags = simulation.calculate('ags', period)\n",
      "        agff_tranche_a_employeur = simulation.calculate('agff_tranche_a_employeur', period)\n",
      "        apec_employeur = simulation.calculate('apec_employeur', period)\n",
      "        arrco_tranche_a_employeur = simulation.calculate('arrco_tranche_a_employeur', period)\n",
      "        assedic_employeur = simulation.calculate('assedic_employeur', period)\n",
      "        cotisation_exceptionnelle_temporaire_employeur = simulation.calculate('cotisation_exceptionnelle_temporaire_employeur', period)\n",
      "        fonds_emploi_hospitalier = simulation.calculate('fonds_emploi_hospitalier', period)\n",
      "        ircantec_employeur = simulation.calculate('ircantec_employeur', period)\n",
      "        pension_civile_employeur = simulation.calculate('pension_civile_employeur', period)\n",
      "        prevoyance_obligatoire_cadre = simulation.calculate('prevoyance_obligatoire_cadre', period)\n",
      "        rafp_employeur = simulation.calculate('rafp_employeur', period)\n",
      "        vieillesse_deplafonnee_employeur = simulation.calculate('vieillesse_deplafonnee_employeur', period)\n",
      "        vieillesse_plafonnee_employeur = simulation.calculate('vieillesse_plafonnee_employeur', period)\n",
      "        allocations_temporaires_invalidite = simulation.calculate('allocations_temporaires_invalidite', period)\n",
      "        accident_du_travail = simulation.calculate('accident_du_travail', period)\n",
      "        agff_tranche_a_employe = simulation.calculate('agff_tranche_a_employe', period)\n",
      "        agirc_tranche_b_employe = simulation.calculate('agirc_tranche_b_employe', period)\n",
      "        apec_employe = simulation.calculate('apec_employe', period)\n",
      "        arrco_tranche_a_employe = simulation.calculate('arrco_tranche_a_employe', period)\n",
      "        assedic_employe = simulation.calculate('assedic_employe', period)\n",
      "        cotisation_exceptionnelle_temporaire_employe = simulation.calculate('cotisation_exceptionnelle_temporaire_employe', period)\n",
      "        ircantec_employe = simulation.calculate('ircantec_employe', period)\n",
      "        pension_civile_employe = simulation.calculate('pension_civile_employe', period)\n",
      "        rafp_employe = simulation.calculate('rafp_employe', period)\n",
      "        vieillesse_deplafonnee_employe = simulation.calculate('vieillesse_deplafonnee_employe', period)\n",
      "        vieillesse_plafonnee_employe = simulation.calculate('vieillesse_plafonnee_employe', period)\n",
      "\n",
      "        cotisations_patronales_contributives = (\n",
      "            # cotisations patronales contributives dans le prive\n",
      "            ags +\n",
      "            agff_tranche_a_employeur +\n",
      "            apec_employeur +\n",
      "            arrco_tranche_a_employeur +\n",
      "            assedic_employeur +\n",
      "            cotisation_exceptionnelle_temporaire_employeur +\n",
      "            prevoyance_obligatoire_cadre +  # TODO contributive ou pas\n",
      "            vieillesse_deplafonnee_employeur +\n",
      "            vieillesse_plafonnee_employeur +\n",
      "            # cotisations patronales contributives dans le public\n",
      "            fonds_emploi_hospitalier +\n",
      "            ircantec_employeur +\n",
      "            pension_civile_employeur +\n",
      "            rafp_employeur +\n",
      "            # anciennes cot patronales non-contributives class\u00e9es ici comme contributives\n",
      "            allocations_temporaires_invalidite +\n",
      "            accident_du_travail +\n",
      "            # anciennes cotisations salariales contributives dans le prive\n",
      "            agff_tranche_a_employe +\n",
      "            agirc_tranche_b_employe +\n",
      "            apec_employe +\n",
      "            arrco_tranche_a_employe +\n",
      "            assedic_employe +\n",
      "            cotisation_exceptionnelle_temporaire_employe +\n",
      "            vieillesse_deplafonnee_employe +\n",
      "            vieillesse_plafonnee_employe +\n",
      "            # anciennes cotisations salariales contributives dans le public\n",
      "            ircantec_employe +\n",
      "            pension_civile_employe +\n",
      "            rafp_employe\n",
      "            )\n",
      "        return period, cotisations_contributives\n",
      "        "
     ],
     "language": "python",
     "metadata": {},
     "outputs": []
    },
    {
     "cell_type": "code",
     "collapsed": false,
     "input": [],
     "language": "python",
     "metadata": {},
     "outputs": []
    },
    {
     "cell_type": "code",
     "collapsed": false,
     "input": [],
     "language": "python",
     "metadata": {},
     "outputs": []
    },
    {
     "cell_type": "code",
     "collapsed": false,
     "input": [],
     "language": "python",
     "metadata": {},
     "outputs": []
    },
    {
     "cell_type": "code",
     "collapsed": false,
     "input": [
      "reform = ReformeCotisationsRDB()"
     ],
     "language": "python",
     "metadata": {},
     "outputs": []
    },
    {
     "cell_type": "code",
     "collapsed": false,
     "input": [
      "reform_simulation = reform.new_scenario().init_single_entity(\n",
      "    period = 2014,\n",
      "    parent1 = dict(\n",
      "        birth = date(1980, 1, 1),\n",
      "        sali = 12000,\n",
      "        ),\n",
      "    parent2 = dict(\n",
      "        birth = date(1980, 1, 1),\n",
      "        sali = 6000,\n",
      "        ),\n",
      "    enfants = [\n",
      "        dict(\n",
      "            birth = date(2014, 1, 1),\n",
      "            ),\n",
      "        ],\n",
      "    ).new_simulation(debug = True)"
     ],
     "language": "python",
     "metadata": {},
     "outputs": []
    },
    {
     "cell_type": "code",
     "collapsed": false,
     "input": [
      "reform_simulation.calculate('salsuperbrut', '2014-12')"
     ],
     "language": "python",
     "metadata": {},
     "outputs": []
    },
    {
     "cell_type": "code",
     "collapsed": false,
     "input": [
      "reform_simulation.calculate('chomage_net', '2014-12')"
     ],
     "language": "python",
     "metadata": {},
     "outputs": []
    },
    {
     "cell_type": "code",
     "collapsed": false,
     "input": [
      "reform_simulation.calculate('revenu_net', '2014-12')"
     ],
     "language": "python",
     "metadata": {},
     "outputs": []
    },
    {
     "cell_type": "code",
     "collapsed": false,
     "input": [],
     "language": "python",
     "metadata": {},
     "outputs": []
    }
   ],
   "metadata": {}
  }
 ]
}