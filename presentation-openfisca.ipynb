{
 "metadata": {
  "name": "",
  "signature": "sha256:8bbb87af615757e5185e8114da8a4cd11d5fba38af3a4526afec34931395b097"
 },
 "nbformat": 3,
 "nbformat_minor": 0,
 "worksheets": [
  {
   "cells": [
    {
     "cell_type": "heading",
     "level": 1,
     "metadata": {},
     "source": [
      "Principaux modules d'OpenFisca"
     ]
    },
    {
     "cell_type": "markdown",
     "metadata": {},
     "source": [
      "- OpenFisca-Core : moteur d'OpenFisca\n",
      "- OpenFisca-France : l\u00e9gislation socio-fiscale fran\u00e7aise\n",
      "- OpenFisca-Web-API : API web (utilise OpenFisca-Core + OpenFisca-France)\n",
      "- OpenFisca-Web-UI : Simulateur web d'OpenFisca (appelle OpenFisca-Web-API en HTTP)\n",
      "- OpenFisca-France-Reform-Landais-Piketty-Saez : Un exemple de r\u00e9forme\n",
      "\n",
      "Les sources des modules : https://github.com/openfisca/"
     ]
    },
    {
     "cell_type": "heading",
     "level": 1,
     "metadata": {},
     "source": [
      "Utilisation simplifi\u00e9e d'OpenFisca"
     ]
    },
    {
     "cell_type": "code",
     "collapsed": false,
     "input": [
      "from datetime import date\n",
      "\n",
      "from openfisca_france import init_country\n",
      "from openfisca_france.model.base import *"
     ],
     "language": "python",
     "metadata": {},
     "outputs": [],
     "prompt_number": 26
    },
    {
     "cell_type": "heading",
     "level": 2,
     "metadata": {},
     "source": [
      "Adaptation pour faciliter l'usage de ce notebook"
     ]
    },
    {
     "cell_type": "markdown",
     "metadata": {},
     "source": [
      "_Ce correctif permet de red\u00e9finir plusieurs fois la m\u00eame variable sans provoquer d'erreur._"
     ]
    },
    {
     "cell_type": "code",
     "collapsed": false,
     "input": [
      "import functools\n",
      "\n",
      "from openfisca_core.formulas import make_reference_formula_decorator\n",
      "from openfisca_france.entities import entity_class_by_symbol\n",
      "\n",
      "reference_formula = make_reference_formula_decorator(entity_class_by_symbol = entity_class_by_symbol, update = True)\n",
      "reference_input_variable = functools.partial(reference_input_variable, update = True)"
     ],
     "language": "python",
     "metadata": {},
     "outputs": [],
     "prompt_number": 27
    },
    {
     "cell_type": "heading",
     "level": 1,
     "metadata": {
      "slideshow": {
       "slide_type": "slide"
      }
     },
     "source": [
      "Variable d'entr\u00e9e"
     ]
    },
    {
     "cell_type": "code",
     "collapsed": false,
     "input": [
      "reference_input_variable(\n",
      "    column = FloatCol,  # le type de variable : BoolCol, FloatCol, EnumCol, IntCol, StrCol...\n",
      "    entity_class = Individus,  # Individus, Familles, FoyersFiscaux ou Menages\n",
      "    label = \"Salaire brut\",\n",
      "    name = 'salaire_brut',\n",
      "    )"
     ],
     "language": "python",
     "metadata": {
      "slideshow": {
       "slide_type": "slide"
      }
     },
     "outputs": [],
     "prompt_number": 29
    },
    {
     "cell_type": "heading",
     "level": 1,
     "metadata": {},
     "source": [
      "Variable avec formule"
     ]
    },
    {
     "cell_type": "code",
     "collapsed": false,
     "input": [
      "@reference_formula\n",
      "class salaire_net(SimpleFormulaColumn):\n",
      "    column = FloatCol\n",
      "    entity_class = Individus\n",
      "    label = u\"Salaire net\"\n",
      "\n",
      "    def function(self, simulation, period):\n",
      "        period = period.start.period(u'month').offset('first-of')\n",
      "        salaire_brut = simulation.calculate('salaire_brut', period)\n",
      "\n",
      "        return period, salaire_brut * 0.8"
     ],
     "language": "python",
     "metadata": {},
     "outputs": [],
     "prompt_number": 30
    },
    {
     "cell_type": "code",
     "collapsed": false,
     "input": [
      "@reference_formula\n",
      "class salaire_imposable(SimpleFormulaColumn):\n",
      "    column = FloatCol\n",
      "    entity_class = Individus\n",
      "    label = u\"Salaire imposable\"\n",
      "\n",
      "    def function(self, simulation, period):\n",
      "        period = period.start.period(u'year').offset('first-of')\n",
      "        salaire_net = simulation.calculate('salaire_net', period)\n",
      "\n",
      "        return period, salaire_net * 0.9"
     ],
     "language": "python",
     "metadata": {},
     "outputs": [],
     "prompt_number": 31
    },
    {
     "cell_type": "heading",
     "level": 1,
     "metadata": {},
     "source": [
      "Variable avec diff\u00e9rentes formules en fonction de la date"
     ]
    },
    {
     "cell_type": "code",
     "collapsed": false,
     "input": [
      "@reference_formula\n",
      "class revenu_social_activite(DatedFormulaColumn):\n",
      "    column = FloatCol\n",
      "    entity_class = Individus\n",
      "    label = u\"RSA\"\n",
      "\n",
      "    @dated_function(date(2010, 1, 1), date(2010, 12, 31))\n",
      "    def function_2010(self, simulation, period):\n",
      "        period = period.start.period(u'month').offset('first-of')\n",
      "        salaire_net = simulation.calculate('salaire_net', period)\n",
      "        age = simulation.calculate('age', period)\n",
      "\n",
      "        return period, (age >= 18) * (salaire_net < 500) * 100.0\n",
      "\n",
      "    @dated_function(date(2011, 1, 1))\n",
      "    def function_2011_2014(self, simulation, period):\n",
      "        period = period.start.period(u'month').offset('first-of')\n",
      "        salaire_net = simulation.calculate('salaire_net', period)\n",
      "        age = simulation.calculate('age', period)\n",
      "\n",
      "        return period, (age >= 18) * (salaire_net < 600) * 200.0"
     ],
     "language": "python",
     "metadata": {},
     "outputs": [],
     "prompt_number": 32
    },
    {
     "cell_type": "heading",
     "level": 1,
     "metadata": {},
     "source": [
      "Syst\u00e8me socio-fiscal"
     ]
    },
    {
     "cell_type": "code",
     "collapsed": false,
     "input": [
      "TaxBenefitSystem = init_country()\n",
      "tax_benefit_system = TaxBenefitSystem()"
     ],
     "language": "python",
     "metadata": {},
     "outputs": [],
     "prompt_number": 33
    },
    {
     "cell_type": "heading",
     "level": 1,
     "metadata": {},
     "source": [
      "Simulation"
     ]
    },
    {
     "cell_type": "code",
     "collapsed": false,
     "input": [
      "simulation = tax_benefit_system.new_scenario().init_single_entity(\n",
      "    period = 2014,\n",
      "    parent1 = dict(\n",
      "        birth = date(1980, 1, 1),\n",
      "        salaire_brut = 12000,\n",
      "        ),\n",
      "    parent2 = dict(\n",
      "        birth = date(1980, 1, 1),\n",
      "        salaire_brut = 6000,\n",
      "        ),\n",
      "    enfants = [\n",
      "        dict(\n",
      "            birth = date(2014, 1, 1),\n",
      "            ),\n",
      "        ],\n",
      "    ).new_simulation(debug = True)"
     ],
     "language": "python",
     "metadata": {},
     "outputs": [],
     "prompt_number": 34
    },
    {
     "cell_type": "code",
     "collapsed": false,
     "input": [
      "simulation.calculate('salaire_net')"
     ],
     "language": "python",
     "metadata": {},
     "outputs": [
      {
       "metadata": {},
       "output_type": "pyout",
       "prompt_number": 35,
       "text": [
        "array([ 9600.,  4800.,     0.], dtype=float32)"
       ]
      }
     ],
     "prompt_number": 35
    },
    {
     "cell_type": "code",
     "collapsed": false,
     "input": [
      "simulation.calculate('salaire_imposable')"
     ],
     "language": "python",
     "metadata": {},
     "outputs": [
      {
       "metadata": {},
       "output_type": "pyout",
       "prompt_number": 36,
       "text": [
        "array([ 8640.,  4320.,     0.], dtype=float32)"
       ]
      }
     ],
     "prompt_number": 36
    },
    {
     "cell_type": "code",
     "collapsed": false,
     "input": [
      "simulation.calculate('salaire_net', '2014-12')"
     ],
     "language": "python",
     "metadata": {},
     "outputs": [
      {
       "metadata": {},
       "output_type": "pyout",
       "prompt_number": 37,
       "text": [
        "array([ 800.,  400.,    0.], dtype=float32)"
       ]
      }
     ],
     "prompt_number": 37
    },
    {
     "cell_type": "code",
     "collapsed": false,
     "input": [
      "simulation.calculate('revenu_social_activite', '2014-12')"
     ],
     "language": "python",
     "metadata": {},
     "outputs": [
      {
       "metadata": {},
       "output_type": "pyout",
       "prompt_number": 38,
       "text": [
        "array([   0.,  200.,    0.], dtype=float32)"
       ]
      }
     ],
     "prompt_number": 38
    },
    {
     "cell_type": "code",
     "collapsed": false,
     "input": [
      "simulation.calculate('revenu_social_activite')"
     ],
     "language": "python",
     "metadata": {},
     "outputs": [
      {
       "metadata": {},
       "output_type": "pyout",
       "prompt_number": 39,
       "text": [
        "array([    0.,  2400.,     0.], dtype=float32)"
       ]
      }
     ],
     "prompt_number": 39
    },
    {
     "cell_type": "heading",
     "level": 1,
     "metadata": {},
     "source": [
      "R\u00e9forme"
     ]
    },
    {
     "cell_type": "code",
     "collapsed": false,
     "input": [
      "from openfisca_core import reforms"
     ],
     "language": "python",
     "metadata": {},
     "outputs": [],
     "prompt_number": 40
    },
    {
     "cell_type": "code",
     "collapsed": false,
     "input": [
      "ReformeRevenuDeBase = reforms.make_reform(\n",
      "    name = u\"R\u00e9forme Revenu de base\",\n",
      "    reference = tax_benefit_system,\n",
      "    )"
     ],
     "language": "python",
     "metadata": {},
     "outputs": [],
     "prompt_number": 41
    },
    {
     "cell_type": "code",
     "collapsed": false,
     "input": [
      "ReformeRevenuDeBase.input_variable(\n",
      "    column = FloatCol,\n",
      "    entity_class = Individus,  # Individus, Familles, FoyersFiscaux ou Menages\n",
      "    label = u\"Ch\u00f4mage brut\",\n",
      "    name = 'chomage_brut',\n",
      "    )"
     ],
     "language": "python",
     "metadata": {},
     "outputs": [],
     "prompt_number": 47
    },
    {
     "cell_type": "code",
     "collapsed": false,
     "input": [
      "@ReformeRevenuDeBase.formula\n",
      "class chomage_net(SimpleFormulaColumn):\n",
      "    column = FloatCol\n",
      "    entity_class = Individus\n",
      "    label = u\"Ch\u00f4mage net\"\n",
      "\n",
      "    def function(self, simulation, period):\n",
      "        period = period.start.period(u'month').offset('first-of')\n",
      "        chomage_brut = simulation.calculate('chomage_brut', period)\n",
      "\n",
      "        return period, chomage_brut * 0.8"
     ],
     "language": "python",
     "metadata": {},
     "outputs": [],
     "prompt_number": 43
    },
    {
     "cell_type": "code",
     "collapsed": false,
     "input": [
      "@ReformeRevenuDeBase.formula\n",
      "class revenu_net(SimpleFormulaColumn):\n",
      "    column = FloatCol\n",
      "    entity_class = Individus\n",
      "    label = u\"Revenu net\"\n",
      "\n",
      "    def function(self, simulation, period):\n",
      "        period = period.start.period(u'month').offset('first-of')\n",
      "        chomage_net = simulation.calculate('chomage_net', period)\n",
      "        salaire_net = simulation.calculate('salaire_net', period)\n",
      "\n",
      "        return period, chomage_net + salaire_net"
     ],
     "language": "python",
     "metadata": {},
     "outputs": [],
     "prompt_number": 44
    },
    {
     "cell_type": "code",
     "collapsed": false,
     "input": [
      "reform = ReformeRevenuDeBase()"
     ],
     "language": "python",
     "metadata": {},
     "outputs": [],
     "prompt_number": 45
    },
    {
     "cell_type": "code",
     "collapsed": false,
     "input": [
      "reform_simulation = reform.new_scenario().init_single_entity(\n",
      "    period = 2014,\n",
      "    parent1 = dict(\n",
      "        birth = date(1980, 1, 1),\n",
      "        salaire_brut = 12000,\n",
      "        ),\n",
      "    parent2 = dict(\n",
      "        birth = date(1980, 1, 1),\n",
      "        chomage_brut = 6000,\n",
      "        ),\n",
      "    enfants = [\n",
      "        dict(\n",
      "            birth = date(2014, 1, 1),\n",
      "            ),\n",
      "        ],\n",
      "    ).new_simulation(debug = True)"
     ],
     "language": "python",
     "metadata": {},
     "outputs": [
      {
       "ename": "ValueError",
       "evalue": "{'test_case': {'individus': {'ind1': {'chomage_brut': u'Unexpected item'}}}} for: {'axes': None, 'period': Period((u'year', Instant((2014, 1, 1)), 1)), 'test_case': {'foyers_fiscaux': OrderedDict([(0, {'personnes_a_charge': ['ind2'], 'declarants': ['ind0', 'ind1']})]), 'individus': OrderedDict([('ind0', {u'salaire_brut': 12000.0, u'birth': datetime.date(1980, 1, 1)}), ('ind1', {u'birth': datetime.date(1980, 1, 1), 'chomage_brut': 6000}), ('ind2', {u'birth': datetime.date(2014, 1, 1)})]), 'familles': OrderedDict([(0, {'parents': ['ind0', 'ind1'], 'enfants': ['ind2']})]), 'menages': OrderedDict([(0, {'conjoint': 'ind1', 'autres': [], 'enfants': ['ind2'], 'personne_de_reference': 'ind0'})])}}",
       "output_type": "pyerr",
       "traceback": [
        "\u001b[0;31m---------------------------------------------------------------------------\u001b[0m\n\u001b[0;31mValueError\u001b[0m                                Traceback (most recent call last)",
        "\u001b[0;32m<ipython-input-46-0027b90f608a>\u001b[0m in \u001b[0;36m<module>\u001b[0;34m()\u001b[0m\n\u001b[1;32m     11\u001b[0m     enfants = [\n\u001b[1;32m     12\u001b[0m         dict(\n\u001b[0;32m---> 13\u001b[0;31m             \u001b[0mbirth\u001b[0m \u001b[0;34m=\u001b[0m \u001b[0mdate\u001b[0m\u001b[0;34m(\u001b[0m\u001b[0;36m2014\u001b[0m\u001b[0;34m,\u001b[0m \u001b[0;36m1\u001b[0m\u001b[0;34m,\u001b[0m \u001b[0;36m1\u001b[0m\u001b[0;34m)\u001b[0m\u001b[0;34m,\u001b[0m\u001b[0;34m\u001b[0m\u001b[0m\n\u001b[0m\u001b[1;32m     14\u001b[0m             ),\n\u001b[1;32m     15\u001b[0m         ],\n",
        "\u001b[0;32m/home/cbenz/Dev/openfisca/openfisca-france/openfisca_france/scenarios.pyc\u001b[0m in \u001b[0;36minit_single_entity\u001b[0;34m(self, axes, enfants, famille, foyer_fiscal, menage, parent1, parent2, period)\u001b[0m\n\u001b[1;32m     97\u001b[0m                 \u001b[0mfoyers_fiscaux\u001b[0m \u001b[0;34m=\u001b[0m \u001b[0;34m[\u001b[0m\u001b[0mfoyer_fiscal\u001b[0m\u001b[0;34m]\u001b[0m\u001b[0;34m,\u001b[0m\u001b[0;34m\u001b[0m\u001b[0m\n\u001b[1;32m     98\u001b[0m                 \u001b[0mindividus\u001b[0m \u001b[0;34m=\u001b[0m \u001b[0mindividus\u001b[0m\u001b[0;34m,\u001b[0m\u001b[0;34m\u001b[0m\u001b[0m\n\u001b[0;32m---> 99\u001b[0;31m                 \u001b[0mmenages\u001b[0m \u001b[0;34m=\u001b[0m \u001b[0;34m[\u001b[0m\u001b[0mmenage\u001b[0m\u001b[0;34m]\u001b[0m\u001b[0;34m,\u001b[0m\u001b[0;34m\u001b[0m\u001b[0m\n\u001b[0m\u001b[1;32m    100\u001b[0m                 ),\n\u001b[1;32m    101\u001b[0m             ))\n",
        "\u001b[0;32m/home/cbenz/Dev/biryani/biryani/baseconv.pyc\u001b[0m in \u001b[0;36mcheck_converter\u001b[0;34m(*args, **kwargs)\u001b[0m\n\u001b[1;32m   2642\u001b[0m                 \u001b[0;32mif\u001b[0m \u001b[0mclear_on_error\u001b[0m\u001b[0;34m:\u001b[0m\u001b[0;34m\u001b[0m\u001b[0m\n\u001b[1;32m   2643\u001b[0m                     \u001b[0;32mreturn\u001b[0m \u001b[0mNone\u001b[0m\u001b[0;34m\u001b[0m\u001b[0m\n\u001b[0;32m-> 2644\u001b[0;31m                 \u001b[0;32mraise\u001b[0m \u001b[0mValueError\u001b[0m\u001b[0;34m(\u001b[0m\u001b[0;34mu'{0} for: {1}'\u001b[0m\u001b[0;34m.\u001b[0m\u001b[0mformat\u001b[0m\u001b[0;34m(\u001b[0m\u001b[0merror\u001b[0m\u001b[0;34m,\u001b[0m \u001b[0mvalue\u001b[0m\u001b[0;34m)\u001b[0m\u001b[0;34m.\u001b[0m\u001b[0mencode\u001b[0m\u001b[0;34m(\u001b[0m\u001b[0;34m'utf-8'\u001b[0m\u001b[0;34m)\u001b[0m\u001b[0;34m)\u001b[0m\u001b[0;34m\u001b[0m\u001b[0m\n\u001b[0m\u001b[1;32m   2645\u001b[0m             \u001b[0;32mreturn\u001b[0m \u001b[0mvalue\u001b[0m\u001b[0;34m\u001b[0m\u001b[0m\n\u001b[1;32m   2646\u001b[0m         \u001b[0;32mreturn\u001b[0m \u001b[0mcheck_converter\u001b[0m\u001b[0;34m\u001b[0m\u001b[0m\n",
        "\u001b[0;31mValueError\u001b[0m: {'test_case': {'individus': {'ind1': {'chomage_brut': u'Unexpected item'}}}} for: {'axes': None, 'period': Period((u'year', Instant((2014, 1, 1)), 1)), 'test_case': {'foyers_fiscaux': OrderedDict([(0, {'personnes_a_charge': ['ind2'], 'declarants': ['ind0', 'ind1']})]), 'individus': OrderedDict([('ind0', {u'salaire_brut': 12000.0, u'birth': datetime.date(1980, 1, 1)}), ('ind1', {u'birth': datetime.date(1980, 1, 1), 'chomage_brut': 6000}), ('ind2', {u'birth': datetime.date(2014, 1, 1)})]), 'familles': OrderedDict([(0, {'parents': ['ind0', 'ind1'], 'enfants': ['ind2']})]), 'menages': OrderedDict([(0, {'conjoint': 'ind1', 'autres': [], 'enfants': ['ind2'], 'personne_de_reference': 'ind0'})])}}"
       ]
      }
     ],
     "prompt_number": 46
    },
    {
     "cell_type": "code",
     "collapsed": false,
     "input": [
      "reform_simulation.calculate('salaire_net', '2014-12')"
     ],
     "language": "python",
     "metadata": {},
     "outputs": []
    },
    {
     "cell_type": "code",
     "collapsed": false,
     "input": [
      "reform_simulation.calculate('chomage_net', '2014-12')"
     ],
     "language": "python",
     "metadata": {},
     "outputs": []
    },
    {
     "cell_type": "code",
     "collapsed": false,
     "input": [
      "reform_simulation.calculate('revenu_net', '2014-12')"
     ],
     "language": "python",
     "metadata": {},
     "outputs": []
    },
    {
     "cell_type": "code",
     "collapsed": false,
     "input": [],
     "language": "python",
     "metadata": {},
     "outputs": []
    }
   ],
   "metadata": {}
  }
 ]
}