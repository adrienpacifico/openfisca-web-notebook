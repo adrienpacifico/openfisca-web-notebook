{
 "metadata": {
  "name": "",
  "signature": "sha256:4091ce31f4a9c74a8d5342c00ee98fe8cb542aeca102c0cc37be9dceeb0cb277"
 },
 "nbformat": 3,
 "nbformat_minor": 0,
 "worksheets": []
}