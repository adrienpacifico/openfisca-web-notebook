{
 "metadata": {
  "name": "",
  "signature": "sha256:6cde98c22091132116f3a5b07231d62df2f6bb7d4a3d2d7e72ec13029a0c2453"
 },
 "nbformat": 3,
 "nbformat_minor": 0,
 "worksheets": [
  {
   "cells": [
    {
     "cell_type": "heading",
     "level": 5,
     "metadata": {},
     "source": [
      "L'objectif est de calculer des taux "
     ]
    },
    {
     "cell_type": "code",
     "collapsed": false,
     "input": [
      "from datetime import date\n",
      "\n",
      "from openfisca_france import init_country\n",
      "from openfisca_france.model.base import *"
     ],
     "language": "python",
     "metadata": {},
     "outputs": [],
     "prompt_number": 1
    },
    {
     "cell_type": "heading",
     "level": 2,
     "metadata": {},
     "source": [
      "Adaptation pour faciliter l'usage de ce notebook"
     ]
    },
    {
     "cell_type": "markdown",
     "metadata": {},
     "source": [
      "_Ce correctif permet de red\u00e9finir plusieurs fois la m\u00eame variable sans provoquer d'erreur._"
     ]
    },
    {
     "cell_type": "code",
     "collapsed": false,
     "input": [
      "import functools\n",
      "\n",
      "from openfisca_core.formulas import make_reference_formula_decorator\n",
      "from openfisca_france.entities import entity_class_by_symbol\n",
      "\n",
      "reference_formula = make_reference_formula_decorator(entity_class_by_symbol = entity_class_by_symbol, update = True)\n",
      "reference_input_variable = functools.partial(reference_input_variable, update = True)"
     ],
     "language": "python",
     "metadata": {},
     "outputs": [],
     "prompt_number": 2
    },
    {
     "cell_type": "heading",
     "level": 1,
     "metadata": {},
     "source": [
      "Variable avec formule"
     ]
    },
    {
     "cell_type": "heading",
     "level": 1,
     "metadata": {},
     "source": [
      "Variable avec diff\u00e9rentes formules en fonction de la date"
     ]
    },
    {
     "cell_type": "heading",
     "level": 1,
     "metadata": {},
     "source": [
      "Syst\u00e8me socio-fiscal"
     ]
    },
    {
     "cell_type": "code",
     "collapsed": false,
     "input": [
      "TaxBenefitSystem = init_country()\n",
      "tax_benefit_system = TaxBenefitSystem()"
     ],
     "language": "python",
     "metadata": {},
     "outputs": [],
     "prompt_number": 3
    },
    {
     "cell_type": "heading",
     "level": 1,
     "metadata": {},
     "source": [
      "Simulation"
     ]
    },
    {
     "cell_type": "code",
     "collapsed": false,
     "input": [
      "# age = 60\n",
      "# ages = [12, 37, 28]\n",
      "\n",
      "# jean_eric = {\n",
      "#     'name': u'Jean-\u00c9ric',\n",
      "#     'age': 33,\n",
      "# }\n",
      "# aurelie = dict(\n",
      "#     name = u'Aur\u00e9lie',\n",
      "#     age = 33,\n",
      "# )\n",
      "\n",
      "# personnes = [aurelie, jean_eric]"
     ],
     "language": "python",
     "metadata": {},
     "outputs": [],
     "prompt_number": 4
    },
    {
     "cell_type": "code",
     "collapsed": false,
     "input": [
      "simulation = tax_benefit_system.new_scenario().init_single_entity(\n",
      "    period = 2014,\n",
      "    parent1 = dict(\n",
      "        birth = date(1980, 1, 1),\n",
      "        salaire_de_base = 12000,\n",
      "        ),\n",
      "    parent2 = dict(\n",
      "        birth = date(1980, 1, 1),\n",
      "        salaire_de_base = 6000,\n",
      "        ),\n",
      "    enfants = [\n",
      "        dict(\n",
      "            birth = date(2014, 1, 1),\n",
      "            ),\n",
      "        ],\n",
      "    ).new_simulation(debug = True)"
     ],
     "language": "python",
     "metadata": {},
     "outputs": [],
     "prompt_number": 5
    },
    {
     "cell_type": "code",
     "collapsed": false,
     "input": [
      "simulation.calculate(\"salsuperbrut\")"
     ],
     "language": "python",
     "metadata": {},
     "outputs": [
      {
       "metadata": {},
       "output_type": "pyout",
       "prompt_number": 6,
       "text": [
        "array([ 11180.56933594,   5180.56933594,      0.        ], dtype=float32)"
       ]
      }
     ],
     "prompt_number": 6
    },
    {
     "cell_type": "code",
     "collapsed": false,
     "input": [
      "simulation.calculate(\"revdisp\")"
     ],
     "language": "python",
     "metadata": {},
     "outputs": [
      {
       "metadata": {},
       "output_type": "pyout",
       "prompt_number": 7,
       "text": [
        "array([ 20358.859375], dtype=float32)"
       ]
      }
     ],
     "prompt_number": 7
    },
    {
     "cell_type": "heading",
     "level": 1,
     "metadata": {},
     "source": [
      "R\u00e9forme"
     ]
    },
    {
     "cell_type": "code",
     "collapsed": false,
     "input": [
      "from openfisca_core import reforms"
     ],
     "language": "python",
     "metadata": {},
     "outputs": [],
     "prompt_number": 8
    },
    {
     "cell_type": "code",
     "collapsed": false,
     "input": [
      "Reform = reforms.make_reform(\n",
      "    key = 'cotisations_revenu_de_base',\n",
      "    name = u\"R\u00e9forme des cotisations pour un Revenu de base\",\n",
      "    reference = tax_benefit_system,\n",
      "    )"
     ],
     "language": "python",
     "metadata": {},
     "outputs": [],
     "prompt_number": 9
    },
    {
     "cell_type": "code",
     "collapsed": false,
     "input": [
      "@Reform.formula\n",
      "class cotisations_contributives(SimpleFormulaColumn):\n",
      "    column = FloatCol\n",
      "    entity_class = Individus\n",
      "    label = u\"Nouvelles cotisations contributives\"\n",
      "\n",
      "\n",
      "    def function(self, simulation, period):\n",
      "        ags = simulation.calculate('ags', period)\n",
      "        agff_tranche_a_employeur = simulation.calculate('agff_tranche_a_employeur', period)\n",
      "        apec_employeur = simulation.calculate('apec_employeur', period)\n",
      "        arrco_tranche_a_employeur = simulation.calculate('arrco_tranche_a_employeur', period)\n",
      "        assedic_employeur = simulation.calculate('assedic_employeur', period)\n",
      "        cotisation_exceptionnelle_temporaire_employeur = simulation.calculate('cotisation_exceptionnelle_temporaire_employeur', period)\n",
      "        fonds_emploi_hospitalier = simulation.calculate('fonds_emploi_hospitalier', period)\n",
      "        ircantec_employeur = simulation.calculate('ircantec_employeur', period)\n",
      "        pension_civile_employeur = simulation.calculate('pension_civile_employeur', period)\n",
      "        prevoyance_obligatoire_cadre = simulation.calculate('prevoyance_obligatoire_cadre', period)\n",
      "        rafp_employeur = simulation.calculate('rafp_employeur', period)\n",
      "        vieillesse_deplafonnee_employeur = simulation.calculate('vieillesse_deplafonnee_employeur', period)\n",
      "        vieillesse_plafonnee_employeur = simulation.calculate('vieillesse_plafonnee_employeur', period)\n",
      "        allocations_temporaires_invalidite = simulation.calculate('allocations_temporaires_invalidite', period)\n",
      "        accident_du_travail = simulation.calculate('accident_du_travail', period)\n",
      "        agff_tranche_a_employe = simulation.calculate('agff_tranche_a_employe', period)\n",
      "        agirc_tranche_b_employe = simulation.calculate('agirc_tranche_b_employe', period)\n",
      "        apec_employe = simulation.calculate('apec_employe', period)\n",
      "        arrco_tranche_a_employe = simulation.calculate('arrco_tranche_a_employe', period)\n",
      "        assedic_employe = simulation.calculate('assedic_employe', period)\n",
      "        cotisation_exceptionnelle_temporaire_employe = simulation.calculate('cotisation_exceptionnelle_temporaire_employe', period)\n",
      "        ircantec_employe = simulation.calculate('ircantec_employe', period)\n",
      "        pension_civile_employe = simulation.calculate('pension_civile_employe', period)\n",
      "        rafp_employe = simulation.calculate('rafp_employe', period)\n",
      "        vieillesse_deplafonnee_employe = simulation.calculate('vieillesse_deplafonnee_employe', period)\n",
      "        vieillesse_plafonnee_employe = simulation.calculate('vieillesse_plafonnee_employe', period)\n",
      "\n",
      "        cotisations_contributives = (\n",
      "            # cotisations patronales contributives dans le prive\n",
      "            ags +\n",
      "            agff_tranche_a_employeur +\n",
      "            apec_employeur +\n",
      "            arrco_tranche_a_employeur +\n",
      "            assedic_employeur +\n",
      "            cotisation_exceptionnelle_temporaire_employeur +\n",
      "            prevoyance_obligatoire_cadre +  # TODO contributive ou pas\n",
      "            vieillesse_deplafonnee_employeur +\n",
      "            vieillesse_plafonnee_employeur +\n",
      "            # cotisations patronales contributives dans le public\n",
      "            fonds_emploi_hospitalier +\n",
      "            ircantec_employeur +\n",
      "            pension_civile_employeur +\n",
      "            rafp_employeur +\n",
      "            # anciennes cot patronales non-contributives class\u00e9es ici comme contributives\n",
      "            allocations_temporaires_invalidite +\n",
      "            accident_du_travail +\n",
      "            # anciennes cotisations salariales contributives dans le prive\n",
      "            agff_tranche_a_employe +\n",
      "            agirc_tranche_b_employe +\n",
      "            apec_employe +\n",
      "            arrco_tranche_a_employe +\n",
      "            assedic_employe +\n",
      "            cotisation_exceptionnelle_temporaire_employe +\n",
      "            vieillesse_deplafonnee_employe +\n",
      "            vieillesse_plafonnee_employe +\n",
      "            # anciennes cotisations salariales contributives dans le public\n",
      "            ircantec_employe +\n",
      "            pension_civile_employe +\n",
      "            rafp_employe\n",
      "            )\n",
      "        return period, cotisations_contributives\n",
      "        "
     ],
     "language": "python",
     "metadata": {},
     "outputs": [],
     "prompt_number": 10
    },
    {
     "cell_type": "code",
     "collapsed": false,
     "input": [
      "@Reform.formula\n",
      "class nouv_salbrut(SimpleFormulaColumn):\n",
      "    reference = tax_benefit_system.column_by_name['salaire_de_base']\n",
      "\n",
      "# Le salaire brut se d\u00e9finit dans la r\u00e9forme comme le salaire super-brut auquel\n",
      "# on retranche les cotisations contributives \n",
      "    \n",
      "    def function(self, simulation, period):\n",
      "        period = period.start.period('month').offset('first-of')\n",
      "        salsuperbrut = simulation.calculate('salsuperbrut', period)\n",
      "        cotisations_contributives = simulation.calculate('cotisations_contributives', period)\n",
      "        \n",
      "        nouv_salbrut = (\n",
      "            salsuperbrut -\n",
      "            cotisations_contributives\n",
      "            )\n",
      "        return period, nouv_salbrut"
     ],
     "language": "python",
     "metadata": {},
     "outputs": [],
     "prompt_number": 11
    },
    {
     "cell_type": "code",
     "collapsed": false,
     "input": [
      "@Reform.formula\n",
      "class nouv_csg(SimpleFormulaColumn):\n",
      "    reference = tax_benefit_system.column_by_name['csg_imposable_salaire']\n",
      "\n",
      "# On applique une CSG unique \u00e0 22,5% qui finance toutes les prestations non-contributives \n",
      "    \n",
      "    def function(self, simulation, period):\n",
      "        period = period.start.period('month').offset('first-of')\n",
      "        nouv_salbrut = simulation.calculate('nouv_salbrut', period)\n",
      "        \n",
      "        nouv_csg = (\n",
      "            -0.225 * nouv_salbrut\n",
      "            )\n",
      "        return period, nouv_csg"
     ],
     "language": "python",
     "metadata": {},
     "outputs": [],
     "prompt_number": 12
    },
    {
     "cell_type": "code",
     "collapsed": false,
     "input": [
      "@Reform.formula\n",
      "class salnet(SimpleFormulaColumn):\n",
      "    reference = tax_benefit_system.column_by_name['salaire_net']\n",
      "\n",
      "# On retire la nouvelle CSG (pas celle qui finance le RDB) pour trouver le nouveau salaire net\n",
      "    \n",
      "    def function(self, simulation, period):\n",
      "        period = period.start.period('month').offset('first-of')\n",
      "        nouv_salbrut = simulation.calculate('nouv_salbrut', period)\n",
      "        nouv_csg = simulation.calculate('nouv_csg', period)\n",
      "        \n",
      "        salnet = (\n",
      "            nouv_salbrut +\n",
      "            nouv_csg\n",
      "            )\n",
      "        return period, salnet"
     ],
     "language": "python",
     "metadata": {},
     "outputs": [],
     "prompt_number": 13
    },
    {
     "cell_type": "code",
     "collapsed": false,
     "input": [
      "@Reform.formula\n",
      "class sal(SimpleFormulaColumn):\n",
      "    reference = tax_benefit_system.column_by_name['salaire_de_base']\n",
      "\n",
      "# Nous sommes partis du nouveau salaire net et par rapport au salaire imposable actuel,\n",
      "# nous avons supprim\u00e9 : les heures sup, la d\u00e9ductibilit\u00e9 de CSG\n",
      "    \n",
      "    \n",
      "    def function(self, simulation, period):\n",
      "        period = period\n",
      "        salnet = simulation.calculate('salnet', period)\n",
      "        primes_fonction_publique = simulation.calculate('primes_fonction_publique', period)\n",
      "        indemnite_residence = simulation.calculate('indemnite_residence', period)\n",
      "        supp_familial_traitement = simulation.calculate('supp_familial_traitement', period)\n",
      "        rev_microsocial_declarant1 = simulation.calculate('rev_microsocial_declarant1', period)\n",
      "\n",
      "        return period, (\n",
      "            salnet +\n",
      "            primes_fonction_publique +\n",
      "            indemnite_residence +\n",
      "            supp_familial_traitement +\n",
      "            hsup +\n",
      "            rev_microsocial_declarant1\n",
      "            )"
     ],
     "language": "python",
     "metadata": {},
     "outputs": [],
     "prompt_number": 14
    },
    {
     "cell_type": "code",
     "collapsed": false,
     "input": [
      "reform = Reform()"
     ],
     "language": "python",
     "metadata": {},
     "outputs": [],
     "prompt_number": 15
    },
    {
     "cell_type": "code",
     "collapsed": false,
     "input": [
      "reform_simulation = reform.new_scenario().init_single_entity(\n",
      "    period = 2014,\n",
      "    parent1 = dict(\n",
      "        birth = date(1980, 1, 1),\n",
      "        salaire_de_base = 12000,\n",
      "        ),\n",
      "    parent2 = dict(\n",
      "        birth = date(1980, 1, 1),\n",
      "        salaire_de_base = 6000,\n",
      "        ),\n",
      "    enfants = [\n",
      "        dict(\n",
      "            birth = date(2014, 1, 1),\n",
      "            ),\n",
      "        ],\n",
      "    ).new_simulation(debug = True)"
     ],
     "language": "python",
     "metadata": {},
     "outputs": [],
     "prompt_number": 16
    },
    {
     "cell_type": "code",
     "collapsed": false,
     "input": [
      "reform_simulation.calculate('salsuperbrut')"
     ],
     "language": "python",
     "metadata": {},
     "outputs": [
      {
       "metadata": {},
       "output_type": "pyout",
       "prompt_number": 17,
       "text": [
        "array([ 11180.56933594,   5180.56933594,      0.        ], dtype=float32)"
       ]
      }
     ],
     "prompt_number": 17
    },
    {
     "cell_type": "code",
     "collapsed": false,
     "input": [
      "reform_simulation.calculate('cotisations_contributives')"
     ],
     "language": "python",
     "metadata": {},
     "outputs": [
      {
       "output_type": "stream",
       "stream": "stderr",
       "text": [
        "ERROR:openfisca_core.formulas:An error occurred while calling formula cotisations_contributives@individus<2014> in module __main__\n"
       ]
      },
      {
       "ename": "KeyError",
       "evalue": "'agff_tranche_a_employeur'",
       "output_type": "pyerr",
       "traceback": [
        "\u001b[0;31m---------------------------------------------------------------------------\u001b[0m\n\u001b[0;31mKeyError\u001b[0m                                  Traceback (most recent call last)",
        "\u001b[0;32m<ipython-input-18-c56b25471fe0>\u001b[0m in \u001b[0;36m<module>\u001b[0;34m()\u001b[0m\n\u001b[0;32m----> 1\u001b[0;31m \u001b[0mreform_simulation\u001b[0m\u001b[0;34m.\u001b[0m\u001b[0mcalculate\u001b[0m\u001b[0;34m(\u001b[0m\u001b[0;34m'cotisations_contributives'\u001b[0m\u001b[0;34m)\u001b[0m\u001b[0;34m\u001b[0m\u001b[0m\n\u001b[0m",
        "\u001b[0;32m/home/cbenz/Dev/openfisca/openfisca-core/openfisca_core/simulations.pyc\u001b[0m in \u001b[0;36mcalculate\u001b[0;34m(self, column_name, period, accept_other_period, requested_formulas_by_period)\u001b[0m\n\u001b[1;32m     89\u001b[0m             \u001b[0mperiod\u001b[0m \u001b[0;34m=\u001b[0m \u001b[0mself\u001b[0m\u001b[0;34m.\u001b[0m\u001b[0mperiod\u001b[0m\u001b[0;34m\u001b[0m\u001b[0m\n\u001b[1;32m     90\u001b[0m         return self.compute(column_name, period = period, accept_other_period = accept_other_period,\n\u001b[0;32m---> 91\u001b[0;31m             requested_formulas_by_period = requested_formulas_by_period).array\n\u001b[0m\u001b[1;32m     92\u001b[0m \u001b[0;34m\u001b[0m\u001b[0m\n\u001b[1;32m     93\u001b[0m     \u001b[0;32mdef\u001b[0m \u001b[0mcalculate_add\u001b[0m\u001b[0;34m(\u001b[0m\u001b[0mself\u001b[0m\u001b[0;34m,\u001b[0m \u001b[0mcolumn_name\u001b[0m\u001b[0;34m,\u001b[0m \u001b[0mperiod\u001b[0m \u001b[0;34m=\u001b[0m \u001b[0mNone\u001b[0m\u001b[0;34m,\u001b[0m \u001b[0mrequested_formulas_by_period\u001b[0m \u001b[0;34m=\u001b[0m \u001b[0mNone\u001b[0m\u001b[0;34m)\u001b[0m\u001b[0;34m:\u001b[0m\u001b[0;34m\u001b[0m\u001b[0m\n",
        "\u001b[0;32m/home/cbenz/Dev/openfisca/openfisca-core/openfisca_core/simulations.pyc\u001b[0m in \u001b[0;36mcompute\u001b[0;34m(self, column_name, period, accept_other_period, requested_formulas_by_period)\u001b[0m\n\u001b[1;32m    170\u001b[0m                 \u001b[0mcaller_input_variables_infos\u001b[0m\u001b[0;34m.\u001b[0m\u001b[0mappend\u001b[0m\u001b[0;34m(\u001b[0m\u001b[0mvariable_infos\u001b[0m\u001b[0;34m)\u001b[0m\u001b[0;34m\u001b[0m\u001b[0m\n\u001b[1;32m    171\u001b[0m         return self.entity_by_column_name[column_name].compute(column_name, period = period,\n\u001b[0;32m--> 172\u001b[0;31m             accept_other_period = accept_other_period, requested_formulas_by_period = requested_formulas_by_period)\n\u001b[0m\u001b[1;32m    173\u001b[0m \u001b[0;34m\u001b[0m\u001b[0m\n\u001b[1;32m    174\u001b[0m     \u001b[0;32mdef\u001b[0m \u001b[0mcompute_add\u001b[0m\u001b[0;34m(\u001b[0m\u001b[0mself\u001b[0m\u001b[0;34m,\u001b[0m \u001b[0mcolumn_name\u001b[0m\u001b[0;34m,\u001b[0m \u001b[0mperiod\u001b[0m \u001b[0;34m=\u001b[0m \u001b[0mNone\u001b[0m\u001b[0;34m,\u001b[0m \u001b[0mrequested_formulas_by_period\u001b[0m \u001b[0;34m=\u001b[0m \u001b[0mNone\u001b[0m\u001b[0;34m)\u001b[0m\u001b[0;34m:\u001b[0m\u001b[0;34m\u001b[0m\u001b[0m\n",
        "\u001b[0;32m/home/cbenz/Dev/openfisca/openfisca-core/openfisca_core/entities.py\u001b[0m in \u001b[0;36mcompute\u001b[0;34m(self, column_name, period, accept_other_period, requested_formulas_by_period)\u001b[0m\n\u001b[1;32m     78\u001b[0m     \u001b[0;32mdef\u001b[0m \u001b[0mcompute\u001b[0m\u001b[0;34m(\u001b[0m\u001b[0mself\u001b[0m\u001b[0;34m,\u001b[0m \u001b[0mcolumn_name\u001b[0m\u001b[0;34m,\u001b[0m \u001b[0mperiod\u001b[0m \u001b[0;34m=\u001b[0m \u001b[0mNone\u001b[0m\u001b[0;34m,\u001b[0m \u001b[0maccept_other_period\u001b[0m \u001b[0;34m=\u001b[0m \u001b[0mFalse\u001b[0m\u001b[0;34m,\u001b[0m \u001b[0mrequested_formulas_by_period\u001b[0m \u001b[0;34m=\u001b[0m \u001b[0mNone\u001b[0m\u001b[0;34m)\u001b[0m\u001b[0;34m:\u001b[0m\u001b[0;34m\u001b[0m\u001b[0m\n\u001b[1;32m     79\u001b[0m         return self.get_or_new_holder(column_name).compute(period = period, accept_other_period = accept_other_period,\n\u001b[0;32m---> 80\u001b[0;31m             requested_formulas_by_period = requested_formulas_by_period)\n\u001b[0m\u001b[1;32m     81\u001b[0m \u001b[0;34m\u001b[0m\u001b[0m\n\u001b[1;32m     82\u001b[0m     \u001b[0;32mdef\u001b[0m \u001b[0mcompute_add\u001b[0m\u001b[0;34m(\u001b[0m\u001b[0mself\u001b[0m\u001b[0;34m,\u001b[0m \u001b[0mcolumn_name\u001b[0m\u001b[0;34m,\u001b[0m \u001b[0mperiod\u001b[0m \u001b[0;34m=\u001b[0m \u001b[0mNone\u001b[0m\u001b[0;34m,\u001b[0m \u001b[0mrequested_formulas_by_period\u001b[0m \u001b[0;34m=\u001b[0m \u001b[0mNone\u001b[0m\u001b[0;34m)\u001b[0m\u001b[0;34m:\u001b[0m\u001b[0;34m\u001b[0m\u001b[0m\n",
        "\u001b[0;32m/home/cbenz/Dev/openfisca/openfisca-core/openfisca_core/holders.pyc\u001b[0m in \u001b[0;36mcompute\u001b[0;34m(self, period, accept_other_period, requested_formulas_by_period)\u001b[0m\n\u001b[1;32m    158\u001b[0m                 \u001b[0;32mand\u001b[0m \u001b[0;34m(\u001b[0m\u001b[0mcolumn_stop_instant\u001b[0m \u001b[0;32mis\u001b[0m \u001b[0mNone\u001b[0m \u001b[0;32mor\u001b[0m \u001b[0mperiod\u001b[0m\u001b[0;34m.\u001b[0m\u001b[0mstart\u001b[0m \u001b[0;34m<=\u001b[0m \u001b[0mcolumn_stop_instant\u001b[0m\u001b[0;34m)\u001b[0m\u001b[0;34m:\u001b[0m\u001b[0;34m\u001b[0m\u001b[0m\n\u001b[1;32m    159\u001b[0m             formula_dated_holder = self.formula.compute(period = period,\n\u001b[0;32m--> 160\u001b[0;31m                 requested_formulas_by_period = requested_formulas_by_period)\n\u001b[0m\u001b[1;32m    161\u001b[0m             \u001b[0;32massert\u001b[0m \u001b[0mformula_dated_holder\u001b[0m \u001b[0;32mis\u001b[0m \u001b[0;32mnot\u001b[0m \u001b[0mNone\u001b[0m\u001b[0;34m\u001b[0m\u001b[0m\n\u001b[1;32m    162\u001b[0m             \u001b[0;32mif\u001b[0m \u001b[0;32mnot\u001b[0m \u001b[0mcolumn\u001b[0m\u001b[0;34m.\u001b[0m\u001b[0mis_permanent\u001b[0m\u001b[0;34m:\u001b[0m\u001b[0;34m\u001b[0m\u001b[0m\n",
        "\u001b[0;32m/home/cbenz/Dev/openfisca/openfisca-core/openfisca_core/formulas.pyc\u001b[0m in \u001b[0;36mcompute\u001b[0;34m(self, period, requested_formulas_by_period)\u001b[0m\n\u001b[1;32m    513\u001b[0m \u001b[0;34m\u001b[0m\u001b[0m\n\u001b[1;32m    514\u001b[0m         \u001b[0;32mtry\u001b[0m\u001b[0;34m:\u001b[0m\u001b[0;34m\u001b[0m\u001b[0m\n\u001b[0;32m--> 515\u001b[0;31m             \u001b[0mformula_result\u001b[0m \u001b[0;34m=\u001b[0m \u001b[0mself\u001b[0m\u001b[0;34m.\u001b[0m\u001b[0mbase_function\u001b[0m\u001b[0;34m(\u001b[0m\u001b[0msimulation\u001b[0m\u001b[0;34m,\u001b[0m \u001b[0mperiod\u001b[0m\u001b[0;34m)\u001b[0m\u001b[0;34m\u001b[0m\u001b[0m\n\u001b[0m\u001b[1;32m    516\u001b[0m         \u001b[0;32mexcept\u001b[0m\u001b[0;34m:\u001b[0m\u001b[0;34m\u001b[0m\u001b[0m\n\u001b[1;32m    517\u001b[0m             log.error(u'An error occurred while calling formula {}@{}<{}> in module {}'.format(\n",
        "\u001b[0;32m/home/cbenz/Dev/openfisca/openfisca-core/openfisca_core/formulas.pyc\u001b[0m in \u001b[0;36mrequested_period_default_value\u001b[0;34m(formula, simulation, period)\u001b[0m\n\u001b[1;32m   1385\u001b[0m \u001b[0;32mdef\u001b[0m \u001b[0mrequested_period_default_value\u001b[0m\u001b[0;34m(\u001b[0m\u001b[0mformula\u001b[0m\u001b[0;34m,\u001b[0m \u001b[0msimulation\u001b[0m\u001b[0;34m,\u001b[0m \u001b[0mperiod\u001b[0m\u001b[0;34m)\u001b[0m\u001b[0;34m:\u001b[0m\u001b[0;34m\u001b[0m\u001b[0m\n\u001b[1;32m   1386\u001b[0m     \u001b[0;32mif\u001b[0m \u001b[0mformula\u001b[0m\u001b[0;34m.\u001b[0m\u001b[0mfunction\u001b[0m \u001b[0;32mis\u001b[0m \u001b[0;32mnot\u001b[0m \u001b[0mNone\u001b[0m\u001b[0;34m:\u001b[0m\u001b[0;34m\u001b[0m\u001b[0m\n\u001b[0;32m-> 1387\u001b[0;31m         \u001b[0;32mreturn\u001b[0m \u001b[0mformula\u001b[0m\u001b[0;34m.\u001b[0m\u001b[0mfunction\u001b[0m\u001b[0;34m(\u001b[0m\u001b[0msimulation\u001b[0m\u001b[0;34m,\u001b[0m \u001b[0mperiod\u001b[0m\u001b[0;34m)\u001b[0m\u001b[0;34m\u001b[0m\u001b[0m\n\u001b[0m\u001b[1;32m   1388\u001b[0m     \u001b[0mholder\u001b[0m \u001b[0;34m=\u001b[0m \u001b[0mformula\u001b[0m\u001b[0;34m.\u001b[0m\u001b[0mholder\u001b[0m\u001b[0;34m\u001b[0m\u001b[0m\n\u001b[1;32m   1389\u001b[0m     \u001b[0mcolumn\u001b[0m \u001b[0;34m=\u001b[0m \u001b[0mholder\u001b[0m\u001b[0;34m.\u001b[0m\u001b[0mcolumn\u001b[0m\u001b[0;34m\u001b[0m\u001b[0m\n",
        "\u001b[0;32m<ipython-input-10-bc13ea261785>\u001b[0m in \u001b[0;36mfunction\u001b[0;34m(self, simulation, period)\u001b[0m\n\u001b[1;32m      8\u001b[0m     \u001b[0;32mdef\u001b[0m \u001b[0mfunction\u001b[0m\u001b[0;34m(\u001b[0m\u001b[0mself\u001b[0m\u001b[0;34m,\u001b[0m \u001b[0msimulation\u001b[0m\u001b[0;34m,\u001b[0m \u001b[0mperiod\u001b[0m\u001b[0;34m)\u001b[0m\u001b[0;34m:\u001b[0m\u001b[0;34m\u001b[0m\u001b[0m\n\u001b[1;32m      9\u001b[0m         \u001b[0mags\u001b[0m \u001b[0;34m=\u001b[0m \u001b[0msimulation\u001b[0m\u001b[0;34m.\u001b[0m\u001b[0mcalculate\u001b[0m\u001b[0;34m(\u001b[0m\u001b[0;34m'ags'\u001b[0m\u001b[0;34m,\u001b[0m \u001b[0mperiod\u001b[0m\u001b[0;34m)\u001b[0m\u001b[0;34m\u001b[0m\u001b[0m\n\u001b[0;32m---> 10\u001b[0;31m         \u001b[0magff_tranche_a_employeur\u001b[0m \u001b[0;34m=\u001b[0m \u001b[0msimulation\u001b[0m\u001b[0;34m.\u001b[0m\u001b[0mcalculate\u001b[0m\u001b[0;34m(\u001b[0m\u001b[0;34m'agff_tranche_a_employeur'\u001b[0m\u001b[0;34m,\u001b[0m \u001b[0mperiod\u001b[0m\u001b[0;34m)\u001b[0m\u001b[0;34m\u001b[0m\u001b[0m\n\u001b[0m\u001b[1;32m     11\u001b[0m         \u001b[0mapec_employeur\u001b[0m \u001b[0;34m=\u001b[0m \u001b[0msimulation\u001b[0m\u001b[0;34m.\u001b[0m\u001b[0mcalculate\u001b[0m\u001b[0;34m(\u001b[0m\u001b[0;34m'apec_employeur'\u001b[0m\u001b[0;34m,\u001b[0m \u001b[0mperiod\u001b[0m\u001b[0;34m)\u001b[0m\u001b[0;34m\u001b[0m\u001b[0m\n\u001b[1;32m     12\u001b[0m         \u001b[0marrco_tranche_a_employeur\u001b[0m \u001b[0;34m=\u001b[0m \u001b[0msimulation\u001b[0m\u001b[0;34m.\u001b[0m\u001b[0mcalculate\u001b[0m\u001b[0;34m(\u001b[0m\u001b[0;34m'arrco_tranche_a_employeur'\u001b[0m\u001b[0;34m,\u001b[0m \u001b[0mperiod\u001b[0m\u001b[0;34m)\u001b[0m\u001b[0;34m\u001b[0m\u001b[0m\n",
        "\u001b[0;32m/home/cbenz/Dev/openfisca/openfisca-core/openfisca_core/simulations.pyc\u001b[0m in \u001b[0;36mcalculate\u001b[0;34m(self, column_name, period, accept_other_period, requested_formulas_by_period)\u001b[0m\n\u001b[1;32m     89\u001b[0m             \u001b[0mperiod\u001b[0m \u001b[0;34m=\u001b[0m \u001b[0mself\u001b[0m\u001b[0;34m.\u001b[0m\u001b[0mperiod\u001b[0m\u001b[0;34m\u001b[0m\u001b[0m\n\u001b[1;32m     90\u001b[0m         return self.compute(column_name, period = period, accept_other_period = accept_other_period,\n\u001b[0;32m---> 91\u001b[0;31m             requested_formulas_by_period = requested_formulas_by_period).array\n\u001b[0m\u001b[1;32m     92\u001b[0m \u001b[0;34m\u001b[0m\u001b[0m\n\u001b[1;32m     93\u001b[0m     \u001b[0;32mdef\u001b[0m \u001b[0mcalculate_add\u001b[0m\u001b[0;34m(\u001b[0m\u001b[0mself\u001b[0m\u001b[0;34m,\u001b[0m \u001b[0mcolumn_name\u001b[0m\u001b[0;34m,\u001b[0m \u001b[0mperiod\u001b[0m \u001b[0;34m=\u001b[0m \u001b[0mNone\u001b[0m\u001b[0;34m,\u001b[0m \u001b[0mrequested_formulas_by_period\u001b[0m \u001b[0;34m=\u001b[0m \u001b[0mNone\u001b[0m\u001b[0;34m)\u001b[0m\u001b[0;34m:\u001b[0m\u001b[0;34m\u001b[0m\u001b[0m\n",
        "\u001b[0;32m/home/cbenz/Dev/openfisca/openfisca-core/openfisca_core/simulations.pyc\u001b[0m in \u001b[0;36mcompute\u001b[0;34m(self, column_name, period, accept_other_period, requested_formulas_by_period)\u001b[0m\n\u001b[1;32m    169\u001b[0m             \u001b[0;32mif\u001b[0m \u001b[0mvariable_infos\u001b[0m \u001b[0;32mnot\u001b[0m \u001b[0;32min\u001b[0m \u001b[0mcaller_input_variables_infos\u001b[0m\u001b[0;34m:\u001b[0m\u001b[0;34m\u001b[0m\u001b[0m\n\u001b[1;32m    170\u001b[0m                 \u001b[0mcaller_input_variables_infos\u001b[0m\u001b[0;34m.\u001b[0m\u001b[0mappend\u001b[0m\u001b[0;34m(\u001b[0m\u001b[0mvariable_infos\u001b[0m\u001b[0;34m)\u001b[0m\u001b[0;34m\u001b[0m\u001b[0m\n\u001b[0;32m--> 171\u001b[0;31m         return self.entity_by_column_name[column_name].compute(column_name, period = period,\n\u001b[0m\u001b[1;32m    172\u001b[0m             accept_other_period = accept_other_period, requested_formulas_by_period = requested_formulas_by_period)\n\u001b[1;32m    173\u001b[0m \u001b[0;34m\u001b[0m\u001b[0m\n",
        "\u001b[0;31mKeyError\u001b[0m: 'agff_tranche_a_employeur'"
       ]
      }
     ],
     "prompt_number": 18
    },
    {
     "cell_type": "code",
     "collapsed": false,
     "input": [
      "reform_simulation.calculate('nouv_salbrut')"
     ],
     "language": "python",
     "metadata": {},
     "outputs": []
    },
    {
     "cell_type": "code",
     "collapsed": false,
     "input": [
      "reform_simulation.calculate('salbrut')"
     ],
     "language": "python",
     "metadata": {},
     "outputs": []
    },
    {
     "cell_type": "code",
     "collapsed": false,
     "input": [
      "reform_simulation.calculate('salnet')"
     ],
     "language": "python",
     "metadata": {},
     "outputs": []
    },
    {
     "cell_type": "code",
     "collapsed": false,
     "input": [],
     "language": "python",
     "metadata": {},
     "outputs": []
    }
   ],
   "metadata": {}
  }
 ]
}