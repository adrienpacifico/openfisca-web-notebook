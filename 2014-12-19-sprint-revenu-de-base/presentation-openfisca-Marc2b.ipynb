{
 "metadata": {
  "name": "",
  "signature": "sha256:91992cbc0ae242298046f50ad75cdde423c7affa6fcd054f0e2a2ad438b7a768"
 },
 "nbformat": 3,
 "nbformat_minor": 0,
 "worksheets": [
  {
   "cells": [
    {
     "cell_type": "code",
     "collapsed": false,
     "input": [
      "from datetime import date\n",
      "\n",
      "from openfisca_france import init_country\n",
      "from openfisca_france.model.base import *"
     ],
     "language": "python",
     "metadata": {},
     "outputs": [],
     "prompt_number": 1
    },
    {
     "cell_type": "heading",
     "level": 2,
     "metadata": {},
     "source": [
      "Adaptation pour faciliter l'usage de ce notebook"
     ]
    },
    {
     "cell_type": "markdown",
     "metadata": {},
     "source": [
      "_Ce correctif permet de red\u00e9finir plusieurs fois la m\u00eame variable sans provoquer d'erreur._"
     ]
    },
    {
     "cell_type": "code",
     "collapsed": false,
     "input": [
      "import functools\n",
      "\n",
      "from openfisca_core.formulas import make_reference_formula_decorator\n",
      "from openfisca_france.entities import entity_class_by_symbol\n",
      "\n",
      "reference_formula = make_reference_formula_decorator(entity_class_by_symbol = entity_class_by_symbol, update = True)\n",
      "reference_input_variable = functools.partial(reference_input_variable, update = True)"
     ],
     "language": "python",
     "metadata": {},
     "outputs": [],
     "prompt_number": 2
    },
    {
     "cell_type": "heading",
     "level": 1,
     "metadata": {},
     "source": [
      "Syst\u00e8me socio-fiscal"
     ]
    },
    {
     "cell_type": "code",
     "collapsed": false,
     "input": [
      "TaxBenefitSystem = init_country()\n",
      "tax_benefit_system = TaxBenefitSystem()"
     ],
     "language": "python",
     "metadata": {},
     "outputs": [],
     "prompt_number": 3
    },
    {
     "cell_type": "code",
     "collapsed": false,
     "input": [
      "from openfisca_core import reforms"
     ],
     "language": "python",
     "metadata": {},
     "outputs": [],
     "prompt_number": 4
    },
    {
     "cell_type": "code",
     "collapsed": false,
     "input": [
      "ReformeRevenuDeBase = reforms.new_simple_reform_class(\n",
      "    name = u\"R\u00e9forme Revenu de base\",\n",
      "    reference = tax_benefit_system,\n",
      "    )"
     ],
     "language": "python",
     "metadata": {},
     "outputs": [],
     "prompt_number": 5
    },
    {
     "cell_type": "heading",
     "level": 1,
     "metadata": {},
     "source": [
      "R\u00e9forme : 1. Revenu de base enfant"
     ]
    },
    {
     "cell_type": "code",
     "collapsed": false,
     "input": [
      "from numpy import logical_not as not_, minimum as min_, maximum as max_\n",
      "\n",
      "@ReformeRevenuDeBase.formula\n",
      "class nbptr(SimpleFormulaColumn):\n",
      "    reference = FoyersFiscaux.column_by_name['nbptr']\n",
      "\n",
      "    # On enl\u00e8ve les enfants du calcul du nbptr (quotient_familial.enf*)\n",
      "    \n",
      "    def function(self, simulation, period):\n",
      "        '''\n",
      "        Nombre de parts du foyer\n",
      "        'foy'\n",
      "        note 1 enfants et r\u00e9sidence altern\u00e9e (formulaire 2041 GV page 10)\n",
      "\n",
      "        quotient_familial.conj : nb part associ\u00e9es au conjoint d'un couple mari\u00e9 ou pacs\u00e9\n",
      "        quotient_familial.enf1 : nb part 2 premiers enfants\n",
      "        quotient_familial.enf2 : nb part enfants de rang 3 ou plus\n",
      "        quotient_familial.inv1 : nb part supp enfants invalides (I, G)\n",
      "        quotient_familial.inv2 : nb part supp adultes invalides (R)\n",
      "        quotient_familial.not31 : nb part supp note 3 : cases W ou G pour veuf, celib ou div\n",
      "        quotient_familial.not32 : nb part supp note 3 : personne seule ayant \u00e9lev\u00e9 des enfants\n",
      "        quotient_familial.not41 : nb part supp adultes invalides (vous et/ou conjoint) note 4\n",
      "        quotient_familial.not42 : nb part supp adultes anciens combattants (vous et/ou conjoint) note 4\n",
      "        quotient_familial.not6 : nb part supp note 6\n",
      "        quotient_familial.isol : demi-part parent isol\u00e9 (T)\n",
      "        quotient_familial.edcd : enfant issu du mariage avec conjoint d\u00e9c\u00e9d\u00e9;\n",
      "        '''\n",
      "        period = period.start.offset('first-of', 'month').period('year')\n",
      "        nb_pac = simulation.calculate('nb_pac', period)\n",
      "        marpac = simulation.calculate('marpac', period)\n",
      "        celdiv = simulation.calculate('celdiv', period)\n",
      "        veuf = simulation.calculate('veuf', period)\n",
      "        jveuf = simulation.calculate('jveuf', period)\n",
      "        nbF = simulation.calculate('nbF', period)\n",
      "        nbG = simulation.calculate('nbG', period)\n",
      "        nbH = simulation.calculate('nbH', period)\n",
      "        nbI = simulation.calculate('nbI', period)\n",
      "        nbR = simulation.calculate('nbR', period)\n",
      "        nbJ = simulation.calculate('nbJ', period)\n",
      "        caseP = simulation.calculate('caseP', period)\n",
      "        caseW = simulation.calculate('caseW', period)\n",
      "        caseG = simulation.calculate('caseG', period)\n",
      "        caseE = simulation.calculate('caseE', period)\n",
      "        caseK = simulation.calculate('caseK', period)\n",
      "        caseN = simulation.calculate('caseN', period)\n",
      "        caseF = simulation.calculate('caseF', period)\n",
      "        caseS = simulation.calculate('caseS', period)\n",
      "        caseL = simulation.calculate('caseL', period)\n",
      "        caseT = simulation.calculate('caseT', period)\n",
      "        quotient_familial = simulation.legislation_at(period.start).ir.quotient_familial\n",
      "\n",
      "        no_pac = nb_pac == 0  # Aucune personne \u00e0 charge en garde exclusive\n",
      "        has_pac = not_(no_pac)\n",
      "        no_alt = nbH == 0  # Aucun enfant \u00e0 charge en garde altern\u00e9e\n",
      "        has_alt = not_(no_alt)\n",
      "\n",
      "        # # nombre de parts li\u00e9es aux enfants \u00e0 charge\n",
      "        # que des enfants en r\u00e9sidence altern\u00e9e\n",
      "        enf1 = (no_pac & has_alt) * (quotient_familial.enf1 * min_(nbH, 2) * 0.5\n",
      "                                     + quotient_familial.enf2 * max_(nbH - 2, 0) * 0.5)\n",
      "        # pas que des enfants en r\u00e9sidence altern\u00e9e\n",
      "        enf2 = (has_pac & has_alt) * ((nb_pac == 1) * (quotient_familial.enf1 * min_(nbH, 1) * 0.5\n",
      "            + quotient_familial.enf2 * max_(nbH - 1, 0) * 0.5) + (nb_pac > 1) * (quotient_familial.enf2 * nbH * 0.5))\n",
      "        # pas d'enfant en r\u00e9sidence altern\u00e9e\n",
      "        enf3 = quotient_familial.enf1 * min_(nb_pac, 2) + quotient_familial.enf2 * max_((nb_pac - 2), 0)\n",
      "\n",
      "        enf = enf1 + enf2 + enf3\n",
      "        # # note 2 : nombre de parts li\u00e9es aux invalides (enfant + adulte)\n",
      "        n2 = quotient_familial.inv1 * (nbG + nbI / 2) + quotient_familial.inv2 * nbR\n",
      "\n",
      "        # # note 3 : Pas de personne \u00e0 charge\n",
      "        # - invalide\n",
      "\n",
      "        n31a = quotient_familial.not31a * (no_pac & no_alt & caseP)\n",
      "        # - ancien combatant\n",
      "        n31b = quotient_familial.not31b * (no_pac & no_alt & (caseW | caseG))\n",
      "        n31 = max_(n31a, n31b)\n",
      "        # - personne seule ayant \u00e9lev\u00e9 des enfants\n",
      "        n32 = quotient_familial.not32 * (no_pac & no_alt & ((caseE | caseK) & not_(caseN)))\n",
      "        n3 = max_(n31, n32)\n",
      "        # # note 4 Invalidit\u00e9 de la personne ou du conjoint pour les mari\u00e9s ou\n",
      "        # # jeunes veuf(ve)s\n",
      "        n4 = max_(quotient_familial.not41 * (1 * caseP + 1 * caseF), quotient_familial.not42 * (caseW | caseS))\n",
      "\n",
      "        # # note 5\n",
      "        #  - enfant du conjoint d\u00e9c\u00e9d\u00e9\n",
      "        n51 = quotient_familial.cdcd * (caseL & ((nbF + nbJ) > 0))\n",
      "        #  - enfant autre et parent isol\u00e9\n",
      "        n52 = quotient_familial.isol * caseT * (((no_pac & has_alt) * ((nbH == 1) * 0.5 + (nbH >= 2))) + 1 * has_pac)\n",
      "        n5 = max_(n51, n52)\n",
      "\n",
      "        # # note 6 invalide avec personne \u00e0 charge\n",
      "        n6 = quotient_familial.not6 * (caseP & (has_pac | has_alt))\n",
      "\n",
      "        # # note 7 Parent isol\u00e9\n",
      "        n7 = quotient_familial.isol * caseT * ((no_pac & has_alt) * ((nbH == 1) * 0.5 + (nbH >= 2)) + 1 * has_pac)\n",
      "\n",
      "        # # R\u00e9gime des mari\u00e9s ou pacs\u00e9s\n",
      "        #m = 1 + quotient_familial.conj + enf + n2 + n4\n",
      "        m = 1 + quotient_familial.conj + n2 + n4\n",
      "        \n",
      "        # # veufs  hors jveuf\n",
      "     # v = 1 + enf + n2 + n3 + n5 + n6\n",
      "        v = 1 + n2 + n3 + n5 + n6\n",
      "        \n",
      "        # # celib div\n",
      "        #c = 1 + enf + n2 + n3 + n6 + n7\n",
      "        c = 1 + n2 + n3 + n6 + n7\n",
      "\n",
      "        return period, (marpac | jveuf) * m + (veuf & not_(jveuf)) * v + celdiv * c\n"
     ],
     "language": "python",
     "metadata": {},
     "outputs": [],
     "prompt_number": 6
    },
    {
     "cell_type": "code",
     "collapsed": false,
     "input": [
      "\n",
      "# Suppression des allocations familiales\n",
      "@ReformeRevenuDeBase.formula\n",
      "class af(SimpleFormulaColumn):\n",
      "    reference = Familles.column_by_name['af']\n",
      "\n",
      "    def function(self, simulation, period):\n",
      "        period = period.start.offset('first-of', 'month').period('month')\n",
      "        af_base = simulation.calculate('af_base', period)\n",
      "        af_majo = simulation.calculate('af_majo', period)\n",
      "        af_forf = simulation.calculate('af_forf', period)\n",
      "\n",
      "        #return period, af_base + af_majo + af_forf\n",
      "        return period, af_base * 0"
     ],
     "language": "python",
     "metadata": {},
     "outputs": [],
     "prompt_number": 7
    },
    {
     "cell_type": "code",
     "collapsed": false,
     "input": [
      "from numpy import round\n",
      "\n",
      "# Suppression du compl\u00e9ment familial\n",
      "\n",
      "@ReformeRevenuDeBase.formula\n",
      "class cf(SimpleFormulaColumn):\n",
      "    reference = Familles.column_by_name['cf']\n",
      "\n",
      "    def function(self, simulation, period):\n",
      "        '''\n",
      "        L'allocation de base de la paje n'est pas cumulable avec le compl\u00e9ment familial\n",
      "        '''\n",
      "        period = period.start.offset('first-of', 'month').period('year')\n",
      "        paje_base_temp = simulation.calculate('paje_base_temp', period)\n",
      "        apje_temp = simulation.calculate('apje_temp', period)\n",
      "        ape_temp = simulation.calculate('ape_temp', period)\n",
      "        cf_temp = simulation.calculate('cf_temp', period)\n",
      "        residence_mayotte = simulation.calculate('residence_mayotte', period)\n",
      "\n",
      "        cf_brut = (paje_base_temp < cf_temp) * (apje_temp <= cf_temp) * (ape_temp <= cf_temp) * cf_temp\n",
      "        #return period, not_(residence_mayotte) * round(cf_brut, 2)\n",
      "        return period, not_(residence_mayotte) * round(cf_brut, 2) * 0"
     ],
     "language": "python",
     "metadata": {},
     "outputs": [],
     "prompt_number": 8
    },
    {
     "cell_type": "code",
     "collapsed": false,
     "input": [
      "\n",
      "# Suppression de l'allocation de rentr\u00e9e scolaire\n",
      "\n",
      "@ReformeRevenuDeBase.formula\n",
      "class ars(SimpleFormulaColumn):\n",
      "    reference = Familles.column_by_name['ars']\n",
      "\n",
      "    def function(self, simulation, period):\n",
      "        '''\n",
      "        Allocation de rentr\u00e9e scolaire brute de CRDS\n",
      "        '''\n",
      "        \n",
      "        period = period.start.offset('first-of', 'month').period('year')\n",
      "        age_holder = simulation.compute('age', period)\n",
      "        af_nbenf = simulation.calculate('af_nbenf', period)\n",
      "        smic55_holder = simulation.compute('smic55', period)\n",
      "        br_pf = simulation.calculate('br_pf', period)\n",
      "\n",
      "        return period, br_pf * 0"
     ],
     "language": "python",
     "metadata": {},
     "outputs": [],
     "prompt_number": 9
    },
    {
     "cell_type": "code",
     "collapsed": false,
     "input": [
      "\n",
      "# Suppression du nombre d'enfants dans le calcul du RSA socle\n",
      "\n",
      "@ReformeRevenuDeBase.formula\n",
      "class rsa_socle(SimpleFormulaColumn):\n",
      "    reference = Familles.column_by_name['rsa_socle']\n",
      "\n",
      "    def function(self, simulation, period):\n",
      "        period = period.start.offset('first-of', 'month').period('month')\n",
      "        age_holder = simulation.compute('age', period)\n",
      "        smic55_holder = simulation.compute('smic55', period)\n",
      "        activite_holder = simulation.compute('activite', period)\n",
      "        nb_par = simulation.calculate('nb_par', period)\n",
      "        rmi = simulation.legislation_at(period.start).minim.rmi\n",
      "\n",
      "        age_parents = self.split_by_roles(age_holder, roles = [CHEF, PART])\n",
      "        activite_parents = self.split_by_roles(activite_holder, roles = [CHEF, PART])\n",
      "        age_enf = self.split_by_roles(age_holder, roles = ENFS)\n",
      "        smic55_enf = self.split_by_roles(smic55_holder, roles = ENFS)\n",
      "\n",
      "        nbp = nb_par\n",
      "\n",
      "        eligib = (\n",
      "            (age_parents[CHEF] >= rmi.age_pac)\n",
      "            *\n",
      "            not_(activite_parents[CHEF] == 2)\n",
      "            ) | (\n",
      "                (age_parents[PART] >= rmi.age_pac) * not_(activite_parents[PART] == 2)\n",
      "                )\n",
      "\n",
      "        taux = (\n",
      "            1 + (nbp >= 2) * rmi.txp2 +\n",
      "            (nbp >= 3) * rmi.txp3 +\n",
      "            (nbp >= 4) * ((nb_par == 1) * rmi.txps + (nb_par != 1) * rmi.txp3) +\n",
      "            max_(nbp - 4, 0) * rmi.txps\n",
      "            )\n",
      "        return period, eligib * rmi.rmi * taux"
     ],
     "language": "python",
     "metadata": {},
     "outputs": [],
     "prompt_number": 10
    },
    {
     "cell_type": "code",
     "collapsed": false,
     "input": [
      "# Suppression du nombre d'enfants dans le calcul du RSA forfait logement\n",
      "\n",
      "@ReformeRevenuDeBase.formula\n",
      "class rmi_nbp(SimpleFormulaColumn):\n",
      "    reference = Familles.column_by_name['rmi_nbp']\n",
      "\n",
      "    def function(self, simulation, period):\n",
      "        period = period.start.offset('first-of', 'month').period('month')\n",
      "        age_holder = simulation.compute('age', period)\n",
      "        smic55_holder = simulation.compute('smic55', period)\n",
      "        nb_par = simulation.calculate('nb_par', period)\n",
      "        P = simulation.legislation_at(period.start).minim.rmi\n",
      "\n",
      "        age = self.split_by_roles(age_holder, roles = ENFS)\n",
      "        smic55 = self.split_by_roles(smic55_holder, roles = ENFS)\n",
      "\n",
      "        return period, nb_par # + nb_enf(age, smic55, 0, P.age_pac - 1)\n"
     ],
     "language": "python",
     "metadata": {},
     "outputs": [],
     "prompt_number": 11
    },
    {
     "cell_type": "code",
     "collapsed": false,
     "input": [
      "# Suppression de la cotisation patronale famille \n",
      "\n",
      "@ReformeRevenuDeBase.formula\n",
      "class famille(SimpleFormulaColumn):\n",
      "    reference = Individus.column_by_name['famille']\n",
      "\n",
      "    def function(self, simulation, period):\n",
      "        period = period.start.period(u'month').offset('first-of')\n",
      "        salbrut = simulation.calculate('salbrut', period)\n",
      "        \n",
      "        return period, salbrut * 0"
     ],
     "language": "python",
     "metadata": {},
     "outputs": [],
     "prompt_number": 12
    },
    {
     "cell_type": "code",
     "collapsed": false,
     "input": [
      "# Baisse de l'\u00e9xon\u00e9ration Fillon\n",
      "\n",
      "# /!\\ CHANGER LES PARAM\u00c8TRES DE L'\u00c9XON\u00c9RATION FILLON (-5,25%)\n",
      "\n",
      "#@ReformeRevenuDeBase.formula\n",
      "#def taux_exo_fillon(ratio_smic_salaire, majoration, P):\n",
      "#    '''\n",
      "#    Exon\u00e9ration Fillon\n",
      "#    http://www.securite-sociale.fr/comprendre/dossiers/exocotisations/exoenvigueur/fillon.htm\n",
      "#    '''\n",
      "#    # La divison par z\u00e9ro engendre un warning\n",
      "#    # Le montant maximum de l\u2019all\u00e8gement d\u00e9pend de l\u2019effectif de l\u2019entreprise.\n",
      "#    # Le montant est calcul\u00e9 chaque ann\u00e9e civile, pour chaque salari\u00e9 ;\n",
      "#    # il est \u00e9gal au produit de la totalit\u00e9 de la r\u00e9mun\u00e9ration annuelle telle\n",
      "#    # que vis\u00e9e \u00e0 l\u2019article L. 242-1 du code de la S\u00e9curit\u00e9 sociale par un\n",
      "#    # coefficient.\n",
      "#    # Ce montant est major\u00e9 de 10 % pour les entreprises de travail temporaire\n",
      "#    # au titre des salari\u00e9s temporaires pour lesquels elle est tenue \u00e0\n",
      "#    # l\u2019obligation d\u2019indemnisation compensatrice de cong\u00e9s pay\u00e9s.\n",
      "\n",
      "#    Pf = P.exo_bas_sal.fillon\n",
      "#    seuil = Pf.seuil\n",
      "#    tx_max = (Pf.tx_max * not_(majoration) + Pf.tx_max2 * majoration) - 0.0525\n",
      "#    if seuil <= 1:\n",
      "#        return 0\n",
      "#    # r\u00e8gle d'arrondi: 4 d\u00e9cimales au dix-milli\u00e8me le plus proche\n",
      "#    taux_fillon = round_(tx_max * min_(1, max_(seuil * ratio_smic_salaire - 1, 0) / (seuil - 1)), 4)\n",
      "#    return taux_fillon"
     ],
     "language": "python",
     "metadata": {},
     "outputs": [],
     "prompt_number": 13
    },
    {
     "cell_type": "code",
     "collapsed": false,
     "input": [
      "# Cr\u00e9ation d'un revenu de base enfant - Version famille\n",
      "\n",
      "from openfisca_france.model.pfam import nb_enf\n",
      "\n",
      "@ReformeRevenuDeBase.formula\n",
      "class rdb_enfant_famille(SimpleFormulaColumn):\n",
      "    column = FloatCol\n",
      "    entity_class = Familles\n",
      "    label = u\"Revenu de base enfant\"\n",
      "\n",
      "    def function(self, simulation, period):\n",
      "        period = period.start.offset('first-of', 'month').period('month')\n",
      "        age_holder = simulation.compute('age', period)\n",
      "        P = simulation.legislation_at(period.start).fam.af        \n",
      "        bmaf = P.bmaf\n",
      "\n",
      "        \n",
      "        smic55_holder = simulation.compute('smic55', period)\n",
      "        smic55 = self.split_by_roles(smic55_holder, roles = ENFS)        \n",
      "        age = self.split_by_roles(age_holder, roles = ENFS)\n",
      "        \n",
      "        smic5 = {\n",
      "            role: array * 0\n",
      "            for role, array in smic55.iteritems()\n",
      "            }\n",
      "        nbenf_inf13 = nb_enf(age, smic5, 0, 13)\n",
      "        nbenf_sup14 = nb_enf(age, smic5, 14, 18)\n",
      "        \n",
      "        return period, (nbenf_inf13 * 0.41 + nbenf_sup14 * 0.57) * bmaf\n",
      "\n",
      "# Les taux 0,41 et 0,16 (0,57-0,41) sont issus des allocations familiales\n"
     ],
     "language": "python",
     "metadata": {},
     "outputs": [],
     "prompt_number": 14
    },
    {
     "cell_type": "code",
     "collapsed": false,
     "input": [
      "# Cr\u00e9ation d'un revenu de base enfant - Version individus\n",
      "\n",
      "@ReformeRevenuDeBase.formula\n",
      "class rdb_enf(SimpleFormulaColumn):\n",
      "    column = FloatCol\n",
      "    entity_class = Individus\n",
      "    label = u\"Revenu de base enfant\"\n",
      "\n",
      "    def function(self, simulation, period):\n",
      "        period = period.start.offset('first-of', 'month').period('month')\n",
      "        age = simulation.calculate('age')\n",
      "        P = simulation.legislation_at(period.start).fam.af        \n",
      "        bmaf = P.bmaf\n",
      "        \n",
      "        return period, ((age < 14) * 0.41 + not_(age < 14) * 0.57) * bmaf * (age <= 18)"
     ],
     "language": "python",
     "metadata": {},
     "outputs": [],
     "prompt_number": 15
    },
    {
     "cell_type": "code",
     "collapsed": false,
     "input": [
      "# Cr\u00e9ation d'une CSG enfant\n",
      "\n",
      "@ReformeRevenuDeBase.formula\n",
      "class csgenf(SimpleFormulaColumn):\n",
      "    column = FloatCol\n",
      "    entity_class = Individus\n",
      "    label = u\"CSG enfant\"\n",
      "\n",
      "    def function(self, simulation, period):\n",
      "        period = period.start.offset('first-of', 'month').period('month')\n",
      "        revnet = simulation.calculate('revenu_net_individu', period)\n",
      "\n",
      "        montant_csg = revnet * 0.025\n",
      "        return period, - montant_csg\n",
      "\n",
      "@ReformeRevenuDeBase.formula\n",
      "class csg(SimpleFormulaColumn):\n",
      "    reference = Individus.column_by_name['csg']\n",
      "\n",
      "    def function(self, simulation, period):\n",
      "        \"\"\"Contribution sociale g\u00e9n\u00e9ralis\u00e9e\"\"\"\n",
      "        period = period.start.offset('first-of', 'month').period('year')\n",
      "        csgsali = simulation.calculate('csgsali', period)\n",
      "        csgsald = simulation.calculate('csgsald', period)\n",
      "        csgchoi = simulation.calculate('csgchoi', period)\n",
      "        csgchod = simulation.calculate('csgchod', period)\n",
      "        csgrsti = simulation.calculate('csgrsti', period)\n",
      "        csgrstd = simulation.calculate('csgrstd', period)\n",
      "        csg_fon_holder = simulation.compute('csg_fon', period)\n",
      "        csg_cap_lib_declarant1 = simulation.calculate('csg_cap_lib_declarant1', period)\n",
      "        csg_cap_bar_declarant1 = simulation.calculate('csg_cap_bar_declarant1', period)\n",
      "        csg_pv_mo_holder = simulation.compute('csg_pv_mo', period)\n",
      "        csg_pv_immo_holder = simulation.compute('csg_pv_immo', period)\n",
      "        \n",
      "        csgenfant = simulation.calculate('csgenf', period)\n",
      "\n",
      "        csg_fon = self.cast_from_entity_to_role(csg_fon_holder, role = VOUS)\n",
      "        csg_pv_immo = self.cast_from_entity_to_role(csg_pv_immo_holder, role = VOUS)\n",
      "        csg_pv_mo = self.cast_from_entity_to_role(csg_pv_mo_holder, role = VOUS)\n",
      "\n",
      "        return period, (csgsali + csgsald + csgchoi + csgchod + csgrsti + csgrstd +\n",
      "                csg_fon + csg_cap_lib_declarant1 + csg_pv_mo + csg_pv_immo + csg_cap_bar_declarant1 + csgenfant)\n"
     ],
     "language": "python",
     "metadata": {},
     "outputs": [],
     "prompt_number": 16
    },
    {
     "cell_type": "code",
     "collapsed": false,
     "input": [
      "@ReformeRevenuDeBase.formula\n",
      "class revdisp(SimpleFormulaColumn):\n",
      "    reference = Menages.column_by_name['revdisp']\n",
      "\n",
      "    def function(self, simulation, period):\n",
      "        '''\n",
      "        Revenu disponible - m\u00e9nage\n",
      "        'men'\n",
      "        '''\n",
      "        period = period.start.offset('first-of', 'month').period('year')\n",
      "        rev_trav_holder = simulation.compute('rev_trav', period)\n",
      "        pen_holder = simulation.compute('pen', period)\n",
      "        rev_cap_holder = simulation.compute('rev_cap', period)\n",
      "        psoc_holder = simulation.compute('psoc', period)\n",
      "        ppe_holder = simulation.compute('ppe', period)\n",
      "        impo = simulation.calculate('impo', period)\n",
      "        rdb_enfant_holder = simulation.compute('rdb_enf', period)\n",
      "\n",
      "        pen = self.sum_by_entity(pen_holder)\n",
      "        ppe = self.cast_from_entity_to_role(ppe_holder, role = VOUS)\n",
      "        ppe = self.sum_by_entity(ppe)\n",
      "        psoc = self.cast_from_entity_to_role(psoc_holder, role = CHEF)\n",
      "        psoc = self.sum_by_entity(psoc)\n",
      "        rev_cap = self.sum_by_entity(rev_cap_holder)\n",
      "        rev_trav = self.sum_by_entity(rev_trav_holder)\n",
      "        rdb_enfant = self.sum_by_entity(rdb_enfant_holder)\n",
      "\n",
      "        return period, rev_trav + pen + rev_cap + psoc + ppe + impo + rdb_enfant"
     ],
     "language": "python",
     "metadata": {},
     "outputs": [],
     "prompt_number": 17
    },
    {
     "cell_type": "heading",
     "level": 1,
     "metadata": {},
     "source": [
      "Tests"
     ]
    },
    {
     "cell_type": "code",
     "collapsed": false,
     "input": [
      "reform = ReformeRevenuDeBase()"
     ],
     "language": "python",
     "metadata": {},
     "outputs": [],
     "prompt_number": 18
    },
    {
     "cell_type": "code",
     "collapsed": false,
     "input": [
      "simulation = tax_benefit_system.new_scenario().init_single_entity(\n",
      "    period = 2014,\n",
      "    parent1 = dict(\n",
      "        birth = date(1980, 1, 1),\n",
      "        sali = 12000,\n",
      "        statmarit = u'Mari\u00e9',\n",
      "        ),\n",
      "    parent2 = dict(\n",
      "        birth = date(1980, 1, 1),\n",
      "        sali = 46000,\n",
      "        statmarit = u'Mari\u00e9',\n",
      "        ),\n",
      "    enfants = [\n",
      "        dict(\n",
      "            birth = date(2010, 1, 1),\n",
      "            ),\n",
      "        dict(\n",
      "            birth = date(2005, 1, 1),\n",
      "            ),\n",
      "        dict(\n",
      "            birth = date(1999, 1, 1),\n",
      "            ),\n",
      "        ],\n",
      "    ).new_simulation(debug = True)"
     ],
     "language": "python",
     "metadata": {},
     "outputs": [],
     "prompt_number": 56
    },
    {
     "cell_type": "code",
     "collapsed": false,
     "input": [
      "simulation_pauvre = tax_benefit_system.new_scenario().init_single_entity(\n",
      "    period = 2014,\n",
      "    parent1 = dict(\n",
      "        birth = date(1980, 1, 1),\n",
      "        sali = 12000,\n",
      "        statmarit = u'Mari\u00e9',\n",
      "        ),\n",
      "    parent2 = dict(\n",
      "        birth = date(1980, 1, 1),\n",
      "        sali = 6000,\n",
      "        statmarit = u'Mari\u00e9',\n",
      "        ),\n",
      "    enfants = [\n",
      "        dict(\n",
      "            birth = date(2010, 1, 1),\n",
      "            ),\n",
      "        dict(\n",
      "            birth = date(2005, 1, 1),\n",
      "            ),\n",
      "        dict(\n",
      "            birth = date(1999, 1, 1),\n",
      "            ),\n",
      "        ],\n",
      "    ).new_simulation(debug = True)"
     ],
     "language": "python",
     "metadata": {},
     "outputs": [],
     "prompt_number": 57
    },
    {
     "cell_type": "code",
     "collapsed": false,
     "input": [
      "reform_simulation = reform.new_scenario().init_single_entity(\n",
      "    period = 2014,\n",
      "    parent1 = dict(\n",
      "        birth = date(1980, 1, 1),\n",
      "        sali = 12000,\n",
      "        statmarit = u'Mari\u00e9',\n",
      "        ),\n",
      "    parent2 = dict(\n",
      "        birth = date(1980, 1, 1),\n",
      "        sali = 46000,\n",
      "        statmarit = u'Mari\u00e9',\n",
      "        ),\n",
      "    enfants = [\n",
      "        dict(\n",
      "            birth = date(2010, 1, 1),\n",
      "            ),\n",
      "        dict(\n",
      "            birth = date(2005, 1, 1),\n",
      "            ),\n",
      "        dict(\n",
      "            birth = date(1999, 1, 1),\n",
      "            ),\n",
      "        ],\n",
      "    ).new_simulation(debug = True)"
     ],
     "language": "python",
     "metadata": {},
     "outputs": [],
     "prompt_number": 58
    },
    {
     "cell_type": "code",
     "collapsed": false,
     "input": [
      "reform_simulation_pauvre = reform.new_scenario().init_single_entity(\n",
      "    period = 2014,\n",
      "    parent1 = dict(\n",
      "        birth = date(1980, 1, 1),\n",
      "        sali = 12000,\n",
      "        statmarit = u'Mari\u00e9',\n",
      "        ),\n",
      "    parent2 = dict(\n",
      "        birth = date(1980, 1, 1),\n",
      "        sali = 6000,\n",
      "        statmarit = u'Mari\u00e9',\n",
      "        ),\n",
      "    enfants = [\n",
      "        dict(\n",
      "            birth = date(2010, 1, 1),\n",
      "            ),\n",
      "        dict(\n",
      "            birth = date(2005, 1, 1),\n",
      "            ),\n",
      "        dict(\n",
      "            birth = date(1999, 1, 1),\n",
      "            ),\n",
      "        ],\n",
      "    ).new_simulation(debug = True)"
     ],
     "language": "python",
     "metadata": {},
     "outputs": [],
     "prompt_number": 59
    },
    {
     "cell_type": "code",
     "collapsed": false,
     "input": [
      "simulation.calculate('nbptr')"
     ],
     "language": "python",
     "metadata": {},
     "outputs": [
      {
       "metadata": {},
       "output_type": "pyout",
       "prompt_number": 60,
       "text": [
        "array([ 4.], dtype=float32)"
       ]
      }
     ],
     "prompt_number": 60
    },
    {
     "cell_type": "code",
     "collapsed": false,
     "input": [
      "reform_simulation.calculate('nbptr')"
     ],
     "language": "python",
     "metadata": {},
     "outputs": [
      {
       "metadata": {},
       "output_type": "pyout",
       "prompt_number": 61,
       "text": [
        "array([ 2.], dtype=float32)"
       ]
      }
     ],
     "prompt_number": 61
    },
    {
     "cell_type": "code",
     "collapsed": false,
     "input": [
      "simulation.calculate('af')"
     ],
     "language": "python",
     "metadata": {},
     "outputs": [
      {
       "metadata": {},
       "output_type": "pyout",
       "prompt_number": 62,
       "text": [
        "array([ 4331.87988281], dtype=float32)"
       ]
      }
     ],
     "prompt_number": 62
    },
    {
     "cell_type": "code",
     "collapsed": false,
     "input": [
      "reform_simulation.calculate('af')"
     ],
     "language": "python",
     "metadata": {},
     "outputs": [
      {
       "metadata": {},
       "output_type": "pyout",
       "prompt_number": 63,
       "text": [
        "array([ 0.], dtype=float32)"
       ]
      }
     ],
     "prompt_number": 63
    },
    {
     "cell_type": "code",
     "collapsed": false,
     "input": [
      "simulation.calculate('cf')"
     ],
     "language": "python",
     "metadata": {},
     "outputs": [
      {
       "metadata": {},
       "output_type": "pyout",
       "prompt_number": 64,
       "text": [
        "array([ 0.], dtype=float32)"
       ]
      }
     ],
     "prompt_number": 64
    },
    {
     "cell_type": "code",
     "collapsed": false,
     "input": [
      "reform_simulation.calculate('cf')"
     ],
     "language": "python",
     "metadata": {},
     "outputs": [
      {
       "metadata": {},
       "output_type": "pyout",
       "prompt_number": 65,
       "text": [
        "array([ 0.], dtype=float32)"
       ]
      }
     ],
     "prompt_number": 65
    },
    {
     "cell_type": "code",
     "collapsed": false,
     "input": [
      "simulation.calculate('ars')"
     ],
     "language": "python",
     "metadata": {},
     "outputs": [
      {
       "metadata": {},
       "output_type": "pyout",
       "prompt_number": 66,
       "text": [
        "array([ 757.79266357], dtype=float32)"
       ]
      }
     ],
     "prompt_number": 66
    },
    {
     "cell_type": "code",
     "collapsed": false,
     "input": [
      "reform_simulation.calculate('ars')"
     ],
     "language": "python",
     "metadata": {},
     "outputs": [
      {
       "metadata": {},
       "output_type": "pyout",
       "prompt_number": 67,
       "text": [
        "array([ 0.], dtype=float32)"
       ]
      }
     ],
     "prompt_number": 67
    },
    {
     "cell_type": "code",
     "collapsed": false,
     "input": [
      "simulation.calculate('rsa')"
     ],
     "language": "python",
     "metadata": {},
     "outputs": [
      {
       "metadata": {},
       "output_type": "pyout",
       "prompt_number": 68,
       "text": [
        "array([ 1003.38574219], dtype=float32)"
       ]
      }
     ],
     "prompt_number": 68
    },
    {
     "cell_type": "code",
     "collapsed": false,
     "input": [
      "reform_simulation.calculate('rsa')"
     ],
     "language": "python",
     "metadata": {},
     "outputs": [
      {
       "metadata": {},
       "output_type": "pyout",
       "prompt_number": 69,
       "text": [
        "array([ 334.37060547], dtype=float32)"
       ]
      }
     ],
     "prompt_number": 69
    },
    {
     "cell_type": "code",
     "collapsed": false,
     "input": [
      "simulation.calculate('rmi_nbp')"
     ],
     "language": "python",
     "metadata": {},
     "outputs": [
      {
       "metadata": {},
       "output_type": "pyout",
       "prompt_number": 70,
       "text": [
        "array([ 60.])"
       ]
      }
     ],
     "prompt_number": 70
    },
    {
     "cell_type": "code",
     "collapsed": false,
     "input": [
      "reform_simulation.calculate('rmi_nbp')"
     ],
     "language": "python",
     "metadata": {},
     "outputs": [
      {
       "metadata": {},
       "output_type": "pyout",
       "prompt_number": 71,
       "text": [
        "array([ 24.])"
       ]
      }
     ],
     "prompt_number": 71
    },
    {
     "cell_type": "code",
     "collapsed": false,
     "input": [
      "simulation.calculate('famille')"
     ],
     "language": "python",
     "metadata": {},
     "outputs": [
      {
       "metadata": {},
       "output_type": "pyout",
       "prompt_number": 72,
       "text": [
        "array([ -778.36157227, -2962.89233398,    -0.        ,    -0.        ,\n",
        "          -0.        ], dtype=float32)"
       ]
      }
     ],
     "prompt_number": 72
    },
    {
     "cell_type": "code",
     "collapsed": false,
     "input": [
      "reform_simulation.calculate('famille')"
     ],
     "language": "python",
     "metadata": {},
     "outputs": [
      {
       "metadata": {},
       "output_type": "pyout",
       "prompt_number": 73,
       "text": [
        "array([ 0.,  0.,  0.,  0.,  0.], dtype=float32)"
       ]
      }
     ],
     "prompt_number": 73
    },
    {
     "cell_type": "code",
     "collapsed": false,
     "input": [
      "reform_simulation.calculate('rdb_enfant_famille')"
     ],
     "language": "python",
     "metadata": {},
     "outputs": [
      {
       "metadata": {},
       "output_type": "pyout",
       "prompt_number": 74,
       "text": [
        "array([ 6765.49121094], dtype=float32)"
       ]
      }
     ],
     "prompt_number": 74
    },
    {
     "cell_type": "code",
     "collapsed": false,
     "input": [
      "reform_simulation.calculate('rdb_enf')"
     ],
     "language": "python",
     "metadata": {},
     "outputs": [
      {
       "metadata": {},
       "output_type": "pyout",
       "prompt_number": 75,
       "text": [
        "array([    0.        ,     0.        ,  1995.57678223,  1995.57678223,\n",
        "        2774.33837891], dtype=float32)"
       ]
      }
     ],
     "prompt_number": 75
    },
    {
     "cell_type": "code",
     "collapsed": false,
     "input": [
      "reform_simulation.calculate('csgenf')"
     ],
     "language": "python",
     "metadata": {},
     "outputs": [
      {
       "metadata": {},
       "output_type": "pyout",
       "prompt_number": 76,
       "text": [
        "array([ -299.99996948, -1188.52087402,    -0.        ,    -0.        ,\n",
        "          -0.        ], dtype=float32)"
       ]
      }
     ],
     "prompt_number": 76
    },
    {
     "cell_type": "code",
     "collapsed": false,
     "input": [
      "simulation.calculate('csg')"
     ],
     "language": "python",
     "metadata": {},
     "outputs": [
      {
       "metadata": {},
       "output_type": "pyout",
       "prompt_number": 77,
       "text": [
        "array([-1092.48596191, -4158.63085938,     0.        ,     0.        ,\n",
        "           0.        ], dtype=float32)"
       ]
      }
     ],
     "prompt_number": 77
    },
    {
     "cell_type": "code",
     "collapsed": false,
     "input": [
      "reform_simulation.calculate('csg')"
     ],
     "language": "python",
     "metadata": {},
     "outputs": [
      {
       "metadata": {},
       "output_type": "pyout",
       "prompt_number": 80,
       "text": [
        "array([-1392.48596191, -5347.15185547,     0.        ,     0.        ,\n",
        "           0.        ], dtype=float32)"
       ]
      }
     ],
     "prompt_number": 80
    },
    {
     "cell_type": "code",
     "collapsed": false,
     "input": [
      "simulation.calculate('revdisp')"
     ],
     "language": "python",
     "metadata": {},
     "outputs": [
      {
       "metadata": {},
       "output_type": "pyout",
       "prompt_number": 81,
       "text": [
        "array([ 64081.46875], dtype=float32)"
       ]
      }
     ],
     "prompt_number": 81
    },
    {
     "cell_type": "code",
     "collapsed": false,
     "input": [
      "reform_simulation.calculate('revdisp')"
     ],
     "language": "python",
     "metadata": {},
     "outputs": [
      {
       "metadata": {},
       "output_type": "pyout",
       "prompt_number": 82,
       "text": [
        "array([ 62391.12890625], dtype=float32)"
       ]
      }
     ],
     "prompt_number": 82
    },
    {
     "cell_type": "code",
     "collapsed": false,
     "input": [
      "simulation_pauvre.calculate('revdisp')"
     ],
     "language": "python",
     "metadata": {},
     "outputs": [
      {
       "metadata": {},
       "output_type": "pyout",
       "prompt_number": 93,
       "text": [
        "array([ 27838.2578125], dtype=float32)"
       ]
      }
     ],
     "prompt_number": 93
    },
    {
     "cell_type": "code",
     "collapsed": false,
     "input": [
      "reform_simulation_pauvre.calculate('revdisp')"
     ],
     "language": "python",
     "metadata": {},
     "outputs": [
      {
       "metadata": {},
       "output_type": "pyout",
       "prompt_number": 94,
       "text": [
        "array([ 25799.73828125], dtype=float32)"
       ]
      }
     ],
     "prompt_number": 94
    },
    {
     "cell_type": "code",
     "collapsed": false,
     "input": [
      "simulation.calculate('sali')"
     ],
     "language": "python",
     "metadata": {},
     "outputs": [
      {
       "metadata": {},
       "output_type": "pyout",
       "prompt_number": 83,
       "text": [
        "array([12000, 46000,     0,     0,     0], dtype=int32)"
       ]
      }
     ],
     "prompt_number": 83
    },
    {
     "cell_type": "code",
     "collapsed": false,
     "input": [
      "reform_simulation.calculate('sali')"
     ],
     "language": "python",
     "metadata": {},
     "outputs": [
      {
       "metadata": {},
       "output_type": "pyout",
       "prompt_number": 84,
       "text": [
        "array([12000, 46000,     0,     0,     0], dtype=int32)"
       ]
      }
     ],
     "prompt_number": 84
    },
    {
     "cell_type": "code",
     "collapsed": false,
     "input": [
      "simulation.calculate('salsuperbrut')"
     ],
     "language": "python",
     "metadata": {},
     "outputs": [
      {
       "metadata": {},
       "output_type": "pyout",
       "prompt_number": 85,
       "text": [
        "array([ 17051.3046875,  80584.203125 ,      0.       ,      0.       ,\n",
        "            0.       ], dtype=float32)"
       ]
      }
     ],
     "prompt_number": 85
    },
    {
     "cell_type": "code",
     "collapsed": false,
     "input": [
      "reform_simulation.calculate('salsuperbrut')"
     ],
     "language": "python",
     "metadata": {},
     "outputs": [
      {
       "metadata": {},
       "output_type": "pyout",
       "prompt_number": 86,
       "text": [
        "array([ 16272.94433594,  77621.3125    ,      0.        ,      0.        ,\n",
        "            0.        ], dtype=float32)"
       ]
      }
     ],
     "prompt_number": 86
    },
    {
     "cell_type": "code",
     "collapsed": false,
     "input": [
      "simulation.calculate('salnet')"
     ],
     "language": "python",
     "metadata": {},
     "outputs": [
      {
       "metadata": {},
       "output_type": "pyout",
       "prompt_number": 101,
       "text": [
        "array([ 11577.5703125 ,  45932.82421875,      0.        ,      0.        ,\n",
        "            0.        ], dtype=float32)"
       ]
      }
     ],
     "prompt_number": 101
    },
    {
     "cell_type": "code",
     "collapsed": false,
     "input": [
      "reform_simulation.calculate('salnet')"
     ],
     "language": "python",
     "metadata": {},
     "outputs": [
      {
       "metadata": {},
       "output_type": "pyout",
       "prompt_number": 102,
       "text": [
        "array([ 11577.5703125 ,  45932.82421875,      0.        ,      0.        ,\n",
        "            0.        ], dtype=float32)"
       ]
      }
     ],
     "prompt_number": 102
    },
    {
     "cell_type": "code",
     "collapsed": false,
     "input": [
      "simulation.calculate('pfam')"
     ],
     "language": "python",
     "metadata": {},
     "outputs": [
      {
       "metadata": {},
       "output_type": "pyout",
       "prompt_number": 91,
       "text": [
        "array([ 5064.22412109], dtype=float32)"
       ]
      }
     ],
     "prompt_number": 91
    },
    {
     "cell_type": "code",
     "collapsed": false,
     "input": [
      "reform_simulation.calculate('pfam')"
     ],
     "language": "python",
     "metadata": {},
     "outputs": [
      {
       "metadata": {},
       "output_type": "pyout",
       "prompt_number": 92,
       "text": [
        "array([ 0.], dtype=float32)"
       ]
      }
     ],
     "prompt_number": 92
    },
    {
     "cell_type": "code",
     "collapsed": false,
     "input": [
      "simulation_pauvre.calculate('psoc')"
     ],
     "language": "python",
     "metadata": {},
     "outputs": [
      {
       "metadata": {},
       "output_type": "pyout",
       "prompt_number": 114,
       "text": [
        "array([ 9838.26074219], dtype=float32)"
       ]
      }
     ],
     "prompt_number": 114
    },
    {
     "cell_type": "code",
     "collapsed": false,
     "input": [
      "simulation.calculate('cotisations_salariales')"
     ],
     "language": "python",
     "metadata": {},
     "outputs": [
      {
       "metadata": {},
       "output_type": "pyout",
       "prompt_number": 129,
       "text": [
        "array([-2083.04370117, -6067.34082031,    -0.        ,    -0.        ,\n",
        "          -0.        ], dtype=float32)"
       ]
      }
     ],
     "prompt_number": 129
    },
    {
     "cell_type": "code",
     "collapsed": false,
     "input": [
      "reform_simulation_pauvre.calculate('pfam')"
     ],
     "language": "python",
     "metadata": {},
     "outputs": [
      {
       "metadata": {},
       "output_type": "pyout",
       "prompt_number": 98,
       "text": [
        "array([ 0.], dtype=float32)"
       ]
      }
     ],
     "prompt_number": 98
    },
    {
     "cell_type": "code",
     "collapsed": false,
     "input": [
      "simulation.calculate('irpp')"
     ],
     "language": "python",
     "metadata": {},
     "outputs": [
      {
       "metadata": {},
       "output_type": "pyout",
       "prompt_number": 100,
       "text": [
        "array([-2075.79711914], dtype=float32)"
       ]
      }
     ],
     "prompt_number": 100
    },
    {
     "cell_type": "code",
     "collapsed": false,
     "input": [
      "reform_simulation.calculate('irpp')"
     ],
     "language": "python",
     "metadata": {},
     "outputs": [
      {
       "metadata": {},
       "output_type": "pyout",
       "prompt_number": 99,
       "text": [
        "array([-4798.390625], dtype=float32)"
       ]
      }
     ],
     "prompt_number": 99
    },
    {
     "cell_type": "code",
     "collapsed": false,
     "input": [
      "simulation.calculate('allegement_fillon')"
     ],
     "language": "python",
     "metadata": {},
     "outputs": [
      {
       "metadata": {},
       "output_type": "pyout",
       "prompt_number": 103,
       "text": [
        "array([ 4166.08691406,     0.        ,     0.        ,     0.        ,\n",
        "           0.        ], dtype=float32)"
       ]
      }
     ],
     "prompt_number": 103
    },
    {
     "cell_type": "code",
     "collapsed": false,
     "input": [],
     "language": "python",
     "metadata": {},
     "outputs": []
    }
   ],
   "metadata": {}
  }
 ]
}