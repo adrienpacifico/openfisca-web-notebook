{
 "metadata": {
  "name": "",
  "signature": "sha256:e934eeac383643b00cae890b16564e0c5052ea3effd98fdae48d22b24f793f99"
 },
 "nbformat": 3,
 "nbformat_minor": 0,
 "worksheets": [
  {
   "cells": [
    {
     "cell_type": "heading",
     "level": 5,
     "metadata": {},
     "source": [
      "L'objectif est de calculer des taux "
     ]
    },
    {
     "cell_type": "code",
     "collapsed": false,
     "input": [
      "from datetime import date\n",
      "\n",
      "from openfisca_france import init_country\n",
      "from openfisca_france.model.base import *"
     ],
     "language": "python",
     "metadata": {},
     "outputs": [],
     "prompt_number": 1
    },
    {
     "cell_type": "heading",
     "level": 2,
     "metadata": {},
     "source": [
      "Adaptation pour faciliter l'usage de ce notebook"
     ]
    },
    {
     "cell_type": "markdown",
     "metadata": {},
     "source": [
      "_Ce correctif permet de red\u00e9finir plusieurs fois la m\u00eame variable sans provoquer d'erreur._"
     ]
    },
    {
     "cell_type": "code",
     "collapsed": false,
     "input": [
      "import functools\n",
      "\n",
      "from openfisca_core.formulas import make_reference_formula_decorator\n",
      "from openfisca_france.entities import entity_class_by_symbol\n",
      "\n",
      "reference_formula = make_reference_formula_decorator(entity_class_by_symbol = entity_class_by_symbol, update = True)\n",
      "reference_input_variable = functools.partial(reference_input_variable, update = True)"
     ],
     "language": "python",
     "metadata": {},
     "outputs": [],
     "prompt_number": 2
    },
    {
     "cell_type": "heading",
     "level": 1,
     "metadata": {},
     "source": [
      "Variable avec formule"
     ]
    },
    {
     "cell_type": "heading",
     "level": 1,
     "metadata": {},
     "source": [
      "Variable avec diff\u00e9rentes formules en fonction de la date"
     ]
    },
    {
     "cell_type": "heading",
     "level": 1,
     "metadata": {},
     "source": [
      "Syst\u00e8me socio-fiscal"
     ]
    },
    {
     "cell_type": "code",
     "collapsed": false,
     "input": [
      "TaxBenefitSystem = init_country()\n",
      "tax_benefit_system = TaxBenefitSystem()"
     ],
     "language": "python",
     "metadata": {},
     "outputs": [],
     "prompt_number": 3
    },
    {
     "cell_type": "heading",
     "level": 1,
     "metadata": {},
     "source": [
      "Simulation"
     ]
    },
    {
     "cell_type": "code",
     "collapsed": false,
     "input": [
      "simulation = tax_benefit_system.new_scenario().init_single_entity(\n",
      "    period = 2014,\n",
      "    parent1 = dict(\n",
      "        birth = date(1980, 1, 1),\n",
      "        sali = 12000,\n",
      "        ),\n",
      "    parent2 = dict(\n",
      "        birth = date(1980, 1, 1),\n",
      "        sali = 6000,\n",
      "        ),\n",
      "    enfants = [\n",
      "        dict(\n",
      "            birth = date(2014, 1, 1),\n",
      "            ),\n",
      "        ],\n",
      "    ).new_simulation(debug = True)"
     ],
     "language": "python",
     "metadata": {},
     "outputs": [],
     "prompt_number": 4
    },
    {
     "cell_type": "code",
     "collapsed": false,
     "input": [
      "simulation.calculate('salsuperbrut')"
     ],
     "language": "python",
     "metadata": {},
     "outputs": [
      {
       "metadata": {},
       "output_type": "pyout",
       "prompt_number": 5,
       "text": [
        "array([ 17051.3046875 ,   8525.65234375,      0.        ], dtype=float32)"
       ]
      }
     ],
     "prompt_number": 5
    },
    {
     "cell_type": "heading",
     "level": 1,
     "metadata": {},
     "source": [
      "R\u00e9forme"
     ]
    },
    {
     "cell_type": "code",
     "collapsed": false,
     "input": [
      "from openfisca_core import reforms"
     ],
     "language": "python",
     "metadata": {},
     "outputs": [],
     "prompt_number": 30
    },
    {
     "cell_type": "code",
     "collapsed": false,
     "input": [
      "ReformeCotisationsRDB = reforms.new_simple_reform_class(\n",
      "    name = u\"R\u00e9forme des cotisations pour un Revenu de base\",\n",
      "    reference = tax_benefit_system,\n",
      "    )"
     ],
     "language": "python",
     "metadata": {},
     "outputs": [],
     "prompt_number": 31
    },
    {
     "cell_type": "code",
     "collapsed": false,
     "input": [
      "@ReformeCotisationsRDB.formula\n",
      "class cotisations_contributives(SimpleFormulaColumn):\n",
      "    column = FloatCol\n",
      "    entity_class = Individus\n",
      "    label = u\"Nouvelles cotisations contributives\"\n",
      "\n",
      "\n",
      "    def function(self, simulation, period):\n",
      "        ags = simulation.calculate('ags', period)\n",
      "        agff_tranche_a_employeur = simulation.calculate('agff_tranche_a_employeur', period)\n",
      "        apec_employeur = simulation.calculate('apec_employeur', period)\n",
      "        arrco_tranche_a_employeur = simulation.calculate('arrco_tranche_a_employeur', period)\n",
      "        assedic_employeur = simulation.calculate('assedic_employeur', period)\n",
      "        cotisation_exceptionnelle_temporaire_employeur = simulation.calculate('cotisation_exceptionnelle_temporaire_employeur', period)\n",
      "        fonds_emploi_hospitalier = simulation.calculate('fonds_emploi_hospitalier', period)\n",
      "        ircantec_employeur = simulation.calculate('ircantec_employeur', period)\n",
      "        pension_civile_employeur = simulation.calculate('pension_civile_employeur', period)\n",
      "        prevoyance_obligatoire_cadre = simulation.calculate('prevoyance_obligatoire_cadre', period)\n",
      "        rafp_employeur = simulation.calculate('rafp_employeur', period)\n",
      "        vieillesse_deplafonnee_employeur = simulation.calculate('vieillesse_deplafonnee_employeur', period)\n",
      "        vieillesse_plafonnee_employeur = simulation.calculate('vieillesse_plafonnee_employeur', period)\n",
      "        allocations_temporaires_invalidite = simulation.calculate('allocations_temporaires_invalidite', period)\n",
      "        accident_du_travail = simulation.calculate('accident_du_travail', period)\n",
      "        agff_tranche_a_employe = simulation.calculate('agff_tranche_a_employe', period)\n",
      "        agirc_tranche_b_employe = simulation.calculate('agirc_tranche_b_employe', period)\n",
      "        apec_employe = simulation.calculate('apec_employe', period)\n",
      "        arrco_tranche_a_employe = simulation.calculate('arrco_tranche_a_employe', period)\n",
      "        assedic_employe = simulation.calculate('assedic_employe', period)\n",
      "        cotisation_exceptionnelle_temporaire_employe = simulation.calculate('cotisation_exceptionnelle_temporaire_employe', period)\n",
      "        ircantec_employe = simulation.calculate('ircantec_employe', period)\n",
      "        pension_civile_employe = simulation.calculate('pension_civile_employe', period)\n",
      "        rafp_employe = simulation.calculate('rafp_employe', period)\n",
      "        vieillesse_deplafonnee_employe = simulation.calculate('vieillesse_deplafonnee_employe', period)\n",
      "        vieillesse_plafonnee_employe = simulation.calculate('vieillesse_plafonnee_employe', period)\n",
      "\n",
      "        cotisations_contributives = (\n",
      "            # cotisations patronales contributives dans le prive\n",
      "            ags +\n",
      "            agff_tranche_a_employeur +\n",
      "            apec_employeur +\n",
      "            arrco_tranche_a_employeur +\n",
      "            assedic_employeur +\n",
      "            cotisation_exceptionnelle_temporaire_employeur +\n",
      "            prevoyance_obligatoire_cadre +  # TODO contributive ou pas\n",
      "            vieillesse_deplafonnee_employeur +\n",
      "            vieillesse_plafonnee_employeur +\n",
      "            # cotisations patronales contributives dans le public\n",
      "            fonds_emploi_hospitalier +\n",
      "            ircantec_employeur +\n",
      "            pension_civile_employeur +\n",
      "            rafp_employeur +\n",
      "            # anciennes cot patronales non-contributives class\u00e9es ici comme contributives\n",
      "            allocations_temporaires_invalidite +\n",
      "            accident_du_travail +\n",
      "            # anciennes cotisations salariales contributives dans le prive\n",
      "            agff_tranche_a_employe +\n",
      "            agirc_tranche_b_employe +\n",
      "            apec_employe +\n",
      "            arrco_tranche_a_employe +\n",
      "            assedic_employe +\n",
      "            cotisation_exceptionnelle_temporaire_employe +\n",
      "            vieillesse_deplafonnee_employe +\n",
      "            vieillesse_plafonnee_employe +\n",
      "            # anciennes cotisations salariales contributives dans le public\n",
      "            ircantec_employe +\n",
      "            pension_civile_employe +\n",
      "            rafp_employe\n",
      "            )\n",
      "        return period, cotisations_contributives\n",
      "        "
     ],
     "language": "python",
     "metadata": {},
     "outputs": [],
     "prompt_number": 32
    },
    {
     "cell_type": "code",
     "collapsed": false,
     "input": [
      "@ReformeCotisationsRDB.formula\n",
      "class nouv_salbrut(SimpleFormulaColumn):\n",
      "    reference = tax_benefit_system.column_by_name['salbrut']\n",
      "\n",
      "# Le salaire brut se d\u00e9finit dans la r\u00e9forme comme le salaire super-brut auquel\n",
      "# on retranche les cotisations contributives \n",
      "    \n",
      "    def function(self, simulation, period):\n",
      "        period = period.start.period('month').offset('first-of')\n",
      "        salsuperbrut = simulation.calculate('salsuperbrut', period)\n",
      "        cotisations_contributives = simulation.calculate('cotisations_contributives', period)\n",
      "        \n",
      "        nouv_salbrut = (\n",
      "            salsuperbrut -\n",
      "            cotisations_contributives\n",
      "            )\n",
      "        return period, nouv_salbrut"
     ],
     "language": "python",
     "metadata": {},
     "outputs": [],
     "prompt_number": 33
    },
    {
     "cell_type": "code",
     "collapsed": false,
     "input": [
      "@ReformeCotisationsRDB.formula\n",
      "class nouv_csg(SimpleFormulaColumn):\n",
      "    reference = tax_benefit_system.column_by_name['csgsali']\n",
      "\n",
      "# On applique une CSG unique \u00e0 22,5% qui finance toutes les prestations non-contributives \n",
      "    \n",
      "    def function(self, simulation, period):\n",
      "        period = period.start.period('month').offset('first-of')\n",
      "        nouv_salbrut = simulation.calculate('nouv_salbrut', period)\n",
      "        \n",
      "        nouv_csg = (\n",
      "            -0.225 * nouv_salbrut\n",
      "            )\n",
      "        return period, nouv_csg"
     ],
     "language": "python",
     "metadata": {},
     "outputs": [],
     "prompt_number": 44
    },
    {
     "cell_type": "code",
     "collapsed": false,
     "input": [
      "@ReformeCotisationsRDB.formula\n",
      "class salnet(SimpleFormulaColumn):\n",
      "    reference = tax_benefit_system.column_by_name['salnet']\n",
      "\n",
      "# On retire la nouvelle CSG (pas celle qui finance le RDB) pour trouver le nouveau salaire net\n",
      "    \n",
      "    def function(self, simulation, period):\n",
      "        period = period.start.period('month').offset('first-of')\n",
      "        nouv_salbrut = simulation.calculate('nouv_salbrut', period)\n",
      "        nouv_csg = simulation.calculate('nouv_csg', period)\n",
      "        \n",
      "        salnet = (\n",
      "            nouv_salbrut +\n",
      "            nouv_csg\n",
      "            )\n",
      "        return period, salnet"
     ],
     "language": "python",
     "metadata": {},
     "outputs": [],
     "prompt_number": 45
    },
    {
     "cell_type": "code",
     "collapsed": false,
     "input": [
      "@ReformeCotisationsRDB.formula\n",
      "class sal(SimpleFormulaColumn):\n",
      "    reference = tax_benefit_system.column_by_name['sal']\n",
      "\n",
      "# Nous sommes partis du nouveau salaire net et par rapport au salaire imposable actuel,\n",
      "# nous avons supprim\u00e9 : les heures sup, la d\u00e9ductibilit\u00e9 de CSG\n",
      "    \n",
      "    \n",
      "    def function(self, simulation, period):\n",
      "        period = period\n",
      "        salnet = simulation.calculate('salnet', period)\n",
      "        primes_fonction_publique = simulation.calculate('primes_fonction_publique', period)\n",
      "        indemnite_residence = simulation.calculate('indemnite_residence', period)\n",
      "        supp_familial_traitement = simulation.calculate('supp_familial_traitement', period)\n",
      "        rev_microsocial_declarant1 = simulation.calculate('rev_microsocial_declarant1', period)\n",
      "\n",
      "        return period, (\n",
      "            salnet +\n",
      "            primes_fonction_publique +\n",
      "            indemnite_residence +\n",
      "            supp_familial_traitement +\n",
      "            hsup +\n",
      "            rev_microsocial_declarant1\n",
      "            )"
     ],
     "language": "python",
     "metadata": {},
     "outputs": [],
     "prompt_number": 47
    },
    {
     "cell_type": "code",
     "collapsed": false,
     "input": [
      "reform = ReformeCotisationsRDB()"
     ],
     "language": "python",
     "metadata": {},
     "outputs": [],
     "prompt_number": 34
    },
    {
     "cell_type": "code",
     "collapsed": false,
     "input": [
      "reform_simulation = reform.new_scenario().init_single_entity(\n",
      "    period = 2014,\n",
      "    parent1 = dict(\n",
      "        birth = date(1980, 1, 1),\n",
      "        sali = 12000,\n",
      "        ),\n",
      "    parent2 = dict(\n",
      "        birth = date(1980, 1, 1),\n",
      "        sali = 6000,\n",
      "        ),\n",
      "    enfants = [\n",
      "        dict(\n",
      "            birth = date(2014, 1, 1),\n",
      "            ),\n",
      "        ],\n",
      "    ).new_simulation(debug = True)"
     ],
     "language": "python",
     "metadata": {},
     "outputs": [],
     "prompt_number": 50
    },
    {
     "cell_type": "code",
     "collapsed": false,
     "input": [
      "reform_simulation.calculate('salsuperbrut')"
     ],
     "language": "python",
     "metadata": {},
     "outputs": [
      {
       "metadata": {},
       "output_type": "pyout",
       "prompt_number": 36,
       "text": [
        "array([ 17051.3046875 ,   8525.65234375,      0.        ], dtype=float32)"
       ]
      }
     ],
     "prompt_number": 36
    },
    {
     "cell_type": "code",
     "collapsed": false,
     "input": [
      "reform_simulation.calculate('cotisations_contributives')"
     ],
     "language": "python",
     "metadata": {},
     "outputs": [
      {
       "metadata": {},
       "output_type": "pyout",
       "prompt_number": 37,
       "text": [
        "array([-5141.63378906, -2570.81689453,    -0.        ], dtype=float32)"
       ]
      }
     ],
     "prompt_number": 37
    },
    {
     "cell_type": "code",
     "collapsed": false,
     "input": [
      "reform_simulation.calculate('nouv_salbrut')"
     ],
     "language": "python",
     "metadata": {},
     "outputs": [
      {
       "metadata": {},
       "output_type": "pyout",
       "prompt_number": 39,
       "text": [
        "array([ 22192.93945312,  11096.46972656,      0.        ], dtype=float32)"
       ]
      }
     ],
     "prompt_number": 39
    },
    {
     "cell_type": "code",
     "collapsed": false,
     "input": [
      "reform_simulation.calculate('salbrut')"
     ],
     "language": "python",
     "metadata": {},
     "outputs": [
      {
       "metadata": {},
       "output_type": "pyout",
       "prompt_number": 40,
       "text": [
        "array([ 14825.93261719,   7412.96630859,      0.        ], dtype=float32)"
       ]
      }
     ],
     "prompt_number": 40
    },
    {
     "cell_type": "code",
     "collapsed": false,
     "input": [
      "reform_simulation.calculate('salnet')"
     ],
     "language": "python",
     "metadata": {},
     "outputs": [
      {
       "metadata": {},
       "output_type": "pyout",
       "prompt_number": 51,
       "text": [
        "array([ 17199.52734375,   8599.76367188,      0.        ], dtype=float32)"
       ]
      }
     ],
     "prompt_number": 51
    },
    {
     "cell_type": "code",
     "collapsed": false,
     "input": [],
     "language": "python",
     "metadata": {},
     "outputs": []
    }
   ],
   "metadata": {}
  }
 ]
}