{
 "metadata": {
  "name": "",
  "signature": "sha256:8521b57ebe45da633813cc0932555bc9c824677a1e38c1138fe193a5c3a9e392"
 },
 "nbformat": 3,
 "nbformat_minor": 0,
 "worksheets": [
  {
   "cells": [
    {
     "cell_type": "heading",
     "level": 1,
     "metadata": {},
     "source": [
      "Principaux modules d'OpenFisca"
     ]
    },
    {
     "cell_type": "markdown",
     "metadata": {},
     "source": [
      "- OpenFisca-Core : moteur d'OpenFisca\n",
      "- OpenFisca-France : l\u00e9gislation socio-fiscale fran\u00e7aise\n",
      "- OpenFisca-Web-API : API web (utilise OpenFisca-Core + OpenFisca-France)\n",
      "- OpenFisca-Web-UI : Simulateur web d'OpenFisca (appelle OpenFisca-Web-API en HTTP)\n",
      "- OpenFisca-France-Reform-Landais-Piketty-Saez : Un exemple de r\u00e9forme\n",
      "\n",
      "Les sources des modules : https://github.com/openfisca/"
     ]
    },
    {
     "cell_type": "heading",
     "level": 1,
     "metadata": {},
     "source": [
      "Utilisation simplifi\u00e9e d'OpenFisca"
     ]
    },
    {
     "cell_type": "code",
     "collapsed": false,
     "input": [
      "from datetime import date\n",
      "\n",
      "from openfisca_france import init_country\n",
      "from openfisca_france.model.base import *"
     ],
     "language": "python",
     "metadata": {},
     "outputs": [],
     "prompt_number": 12
    },
    {
     "cell_type": "heading",
     "level": 2,
     "metadata": {},
     "source": [
      "Adaptation pour faciliter l'usage de ce notebook"
     ]
    },
    {
     "cell_type": "markdown",
     "metadata": {},
     "source": [
      "_Ce correctif permet de red\u00e9finir plusieurs fois la m\u00eame variable sans provoquer d'erreur._"
     ]
    },
    {
     "cell_type": "code",
     "collapsed": false,
     "input": [
      "import functools\n",
      "\n",
      "from openfisca_core.formulas import make_reference_formula_decorator\n",
      "from openfisca_france.entities import entity_class_by_symbol\n",
      "\n",
      "reference_formula = make_reference_formula_decorator(entity_class_by_symbol = entity_class_by_symbol, update = True)\n",
      "reference_input_variable = functools.partial(reference_input_variable, update = True)"
     ],
     "language": "python",
     "metadata": {},
     "outputs": [],
     "prompt_number": 13
    },
    {
     "cell_type": "heading",
     "level": 1,
     "metadata": {
      "slideshow": {
       "slide_type": "slide"
      }
     },
     "source": [
      "Variable d'entr\u00e9e"
     ]
    },
    {
     "cell_type": "code",
     "collapsed": false,
     "input": [
      "reference_input_variable(\n",
      "    column = FloatCol,  # le type de variable : BoolCol, FloatCol, EnumCol, IntCol, StrCol...\n",
      "    entity_class = Individus,  # Individus, Familles, FoyersFiscaux ou Menages\n",
      "    label = \"Salaire brut\",\n",
      "    name = 'salaire_brut',\n",
      "    )"
     ],
     "language": "python",
     "metadata": {
      "slideshow": {
       "slide_type": "slide"
      }
     },
     "outputs": [],
     "prompt_number": 15
    },
    {
     "cell_type": "heading",
     "level": 1,
     "metadata": {},
     "source": [
      "Variable avec formule"
     ]
    },
    {
     "cell_type": "code",
     "collapsed": false,
     "input": [
      "@reference_formula\n",
      "class salaire_net(SimpleFormulaColumn):\n",
      "    column = FloatCol\n",
      "    entity_class = Individus\n",
      "    label = u\"Salaire net\"\n",
      "\n",
      "    def function(self, simulation, period):\n",
      "        period = period.start.period(u'month').offset('first-of')\n",
      "        salaire_brut = simulation.calculate('salaire_brut', period)\n",
      "\n",
      "        return period, salaire_brut * 0.8"
     ],
     "language": "python",
     "metadata": {},
     "outputs": [],
     "prompt_number": 16
    },
    {
     "cell_type": "code",
     "collapsed": false,
     "input": [
      "@reference_formula\n",
      "class salaire_imposable(SimpleFormulaColumn):\n",
      "    column = FloatCol\n",
      "    entity_class = Individus\n",
      "    label = u\"Salaire imposable\"\n",
      "\n",
      "    def function(self, simulation, period):\n",
      "        period = period.start.period(u'year').offset('first-of')\n",
      "        salaire_net = simulation.calculate('salaire_net', period)\n",
      "\n",
      "        return period, salaire_net * 0.9"
     ],
     "language": "python",
     "metadata": {},
     "outputs": [],
     "prompt_number": 17
    },
    {
     "cell_type": "heading",
     "level": 1,
     "metadata": {},
     "source": [
      "Variable avec diff\u00e9rentes formules en fonction de la date"
     ]
    },
    {
     "cell_type": "code",
     "collapsed": false,
     "input": [
      "@reference_formula\n",
      "class revenu_social_activite(DatedFormulaColumn):\n",
      "    column = FloatCol\n",
      "    entity_class = Individus\n",
      "    label = u\"RSA\"\n",
      "\n",
      "    @dated_function(date(2010, 1, 1), date(2010, 12, 31))\n",
      "    def function_2010(self, simulation, period):\n",
      "        period = period.start.period(u'month').offset('first-of')\n",
      "        salaire_net = simulation.calculate('salaire_net', period)\n",
      "        age = simulation.calculate('age', period)\n",
      "\n",
      "        return period, (age >= 18) * (salaire_net < 500) * 100.0\n",
      "\n",
      "    @dated_function(date(2011, 1, 1))\n",
      "    def function_2011_2014(self, simulation, period):\n",
      "        period = period.start.period(u'month').offset('first-of')\n",
      "        salaire_net = simulation.calculate('salaire_net', period)\n",
      "        age = simulation.calculate('age', period)\n",
      "\n",
      "        return period, (age >= 18) * (salaire_net < 600) * 200.0"
     ],
     "language": "python",
     "metadata": {},
     "outputs": [],
     "prompt_number": 18
    },
    {
     "cell_type": "heading",
     "level": 1,
     "metadata": {},
     "source": [
      "Syst\u00e8me socio-fiscal"
     ]
    },
    {
     "cell_type": "code",
     "collapsed": false,
     "input": [
      "TaxBenefitSystem = init_country()\n",
      "tax_benefit_system = TaxBenefitSystem()"
     ],
     "language": "python",
     "metadata": {},
     "outputs": [],
     "prompt_number": 19
    },
    {
     "cell_type": "heading",
     "level": 1,
     "metadata": {},
     "source": [
      "Simulation"
     ]
    },
    {
     "cell_type": "code",
     "collapsed": false,
     "input": [
      "simulation = tax_benefit_system.new_scenario().init_single_entity(\n",
      "    period = 2014,\n",
      "    parent1 = dict(\n",
      "        birth = date(1980, 1, 1),\n",
      "        salaire_brut = 12000,\n",
      "        ),\n",
      "    parent2 = dict(\n",
      "        birth = date(1980, 1, 1),\n",
      "        salaire_brut = 6000,\n",
      "        ),\n",
      "    enfants = [\n",
      "        dict(\n",
      "            birth = date(2014, 1, 1),\n",
      "            ),\n",
      "        ],\n",
      "    ).new_simulation(debug = True)"
     ],
     "language": "python",
     "metadata": {},
     "outputs": [],
     "prompt_number": 20
    },
    {
     "cell_type": "code",
     "collapsed": false,
     "input": [
      "simulation.calculate_add_divide('salaire_net')"
     ],
     "language": "python",
     "metadata": {},
     "outputs": [
      {
       "metadata": {},
       "output_type": "pyout",
       "prompt_number": 22,
       "text": [
        "array([ 0.,  0.,  0.], dtype=float32)"
       ]
      }
     ],
     "prompt_number": 22
    },
    {
     "cell_type": "code",
     "collapsed": false,
     "input": [
      "simulation.calculate('salaire_imposable')"
     ],
     "language": "python",
     "metadata": {},
     "outputs": [
      {
       "metadata": {},
       "output_type": "pyout",
       "prompt_number": 10,
       "text": [
        "array([ 8640.,  4320.,     0.], dtype=float32)"
       ]
      }
     ],
     "prompt_number": 10
    },
    {
     "cell_type": "code",
     "collapsed": false,
     "input": [
      "simulation.calculate('salaire_net', '2014-12')"
     ],
     "language": "python",
     "metadata": {},
     "outputs": [
      {
       "metadata": {},
       "output_type": "pyout",
       "prompt_number": 11,
       "text": [
        "array([ 800.,  400.,    0.], dtype=float32)"
       ]
      }
     ],
     "prompt_number": 11
    },
    {
     "cell_type": "code",
     "collapsed": false,
     "input": [
      "simulation.calculate('revenu_social_activite', '2014-12')"
     ],
     "language": "python",
     "metadata": {},
     "outputs": [
      {
       "metadata": {},
       "output_type": "pyout",
       "prompt_number": 12,
       "text": [
        "array([   0.,  200.,    0.], dtype=float32)"
       ]
      }
     ],
     "prompt_number": 12
    },
    {
     "cell_type": "code",
     "collapsed": false,
     "input": [
      "simulation.calculate('revenu_social_activite')"
     ],
     "language": "python",
     "metadata": {},
     "outputs": [
      {
       "metadata": {},
       "output_type": "pyout",
       "prompt_number": 13,
       "text": [
        "array([    0.,  2400.,     0.], dtype=float32)"
       ]
      }
     ],
     "prompt_number": 13
    },
    {
     "cell_type": "heading",
     "level": 1,
     "metadata": {},
     "source": [
      "R\u00e9forme"
     ]
    },
    {
     "cell_type": "code",
     "collapsed": false,
     "input": [
      "from openfisca_core import reforms"
     ],
     "language": "python",
     "metadata": {},
     "outputs": [],
     "prompt_number": 23
    },
    {
     "cell_type": "code",
     "collapsed": false,
     "input": [
      "ReformeRevenuDeBase = reforms.make_reform(\n",
      "    name = u\"R\u00e9forme Revenu de base\",\n",
      "    reference = tax_benefit_system,\n",
      "    )"
     ],
     "language": "python",
     "metadata": {},
     "outputs": [],
     "prompt_number": 26
    },
    {
     "cell_type": "code",
     "collapsed": false,
     "input": [
      "ReformeRevenuDeBase.input_variable(\n",
      "    column = FloatCol,\n",
      "    entity_class = Individus,  # Individus, Familles, FoyersFiscaux ou Menages\n",
      "    label = u\"Ch\u00f4mage brut\",\n",
      "    name = 'chomage_brut',\n",
      "    )"
     ],
     "language": "python",
     "metadata": {},
     "outputs": [],
     "prompt_number": 27
    },
    {
     "cell_type": "code",
     "collapsed": false,
     "input": [
      "@ReformeRevenuDeBase.formula\n",
      "class chomage_net(SimpleFormulaColumn):\n",
      "    column = FloatCol\n",
      "    entity_class = Individus\n",
      "    label = u\"Ch\u00f4mage net\"\n",
      "\n",
      "    def function(self, simulation, period):\n",
      "        period = period.start.period(u'month').offset('first-of')\n",
      "        chomage_brut = simulation.calculate('chomage_brut', period)\n",
      "\n",
      "        return period, chomage_brut * 0.8"
     ],
     "language": "python",
     "metadata": {},
     "outputs": [],
     "prompt_number": 28
    },
    {
     "cell_type": "code",
     "collapsed": false,
     "input": [
      "@ReformeRevenuDeBase.formula\n",
      "class revenu_net(SimpleFormulaColumn):\n",
      "    column = FloatCol\n",
      "    entity_class = Individus\n",
      "    label = u\"Revenu net\"\n",
      "\n",
      "    def function(self, simulation, period):\n",
      "        period = period.start.period(u'month').offset('first-of')\n",
      "        chomage_net = simulation.calculate('chomage_net', period)\n",
      "        salaire_net = simulation.calculate('salaire_net', period)\n",
      "\n",
      "        return period, chomage_net + salaire_net"
     ],
     "language": "python",
     "metadata": {},
     "outputs": [],
     "prompt_number": 29
    },
    {
     "cell_type": "code",
     "collapsed": false,
     "input": [
      "reform = ReformeRevenuDeBase()"
     ],
     "language": "python",
     "metadata": {},
     "outputs": [],
     "prompt_number": 30
    },
    {
     "cell_type": "code",
     "collapsed": false,
     "input": [
      "reform_simulation = reform.new_scenario().init_single_entity(\n",
      "    period = 2014,\n",
      "    parent1 = dict(\n",
      "        birth = date(1980, 1, 1),\n",
      "        salaire_brut = 12000,\n",
      "        ),\n",
      "    parent2 = dict(\n",
      "        birth = date(1980, 1, 1),\n",
      "        chomage_brut = 6000,\n",
      "        ),\n",
      "    enfants = [\n",
      "        dict(\n",
      "            birth = date(2014, 1, 1),\n",
      "            ),\n",
      "        ],\n",
      "    ).new_simulation(debug = True)"
     ],
     "language": "python",
     "metadata": {},
     "outputs": [],
     "prompt_number": 31
    },
    {
     "cell_type": "code",
     "collapsed": false,
     "input": [
      "reform_simulation.calculate('salaire_net', '2014-12')"
     ],
     "language": "python",
     "metadata": {},
     "outputs": [
      {
       "metadata": {},
       "output_type": "pyout",
       "prompt_number": 32,
       "text": [
        "array([ 0.,  0.,  0.], dtype=float32)"
       ]
      }
     ],
     "prompt_number": 32
    },
    {
     "cell_type": "code",
     "collapsed": false,
     "input": [
      "reform_simulation.calculate('chomage_net', '2014-12')"
     ],
     "language": "python",
     "metadata": {},
     "outputs": [
      {
       "metadata": {},
       "output_type": "pyout",
       "prompt_number": 33,
       "text": [
        "array([ 0.,  0.,  0.], dtype=float32)"
       ]
      }
     ],
     "prompt_number": 33
    },
    {
     "cell_type": "code",
     "collapsed": false,
     "input": [
      "reform_simulation.calculate('revenu_net', '2014-12')"
     ],
     "language": "python",
     "metadata": {},
     "outputs": [
      {
       "metadata": {},
       "output_type": "pyout",
       "prompt_number": 34,
       "text": [
        "array([ 0.,  0.,  0.], dtype=float32)"
       ]
      }
     ],
     "prompt_number": 34
    },
    {
     "cell_type": "code",
     "collapsed": false,
     "input": [],
     "language": "python",
     "metadata": {},
     "outputs": []
    }
   ],
   "metadata": {}
  }
 ]
}