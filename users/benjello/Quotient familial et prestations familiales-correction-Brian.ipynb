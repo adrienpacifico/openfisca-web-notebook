{
 "metadata": {
  "name": "",
  "signature": "sha256:a65ceeaeb87ea948075bc8ca20ac215dacacd5c8605a5d6e98548b8ddbc8950d"
 },
 "nbformat": 3,
 "nbformat_minor": 0,
 "worksheets": [
  {
   "cells": [
    {
     "cell_type": "heading",
     "level": 1,
     "metadata": {},
     "source": [
      "Sur les avantages familiaux"
     ]
    },
    {
     "cell_type": "code",
     "collapsed": false,
     "input": [
      "%matplotlib inline\n",
      "import matplotlib.pyplot as plt\n",
      "import pylab as plt\n",
      "import numpy as np\n",
      "from openfisca_matplotlib import graphs"
     ],
     "language": "python",
     "metadata": {},
     "outputs": [],
     "prompt_number": 9
    },
    {
     "cell_type": "code",
     "collapsed": false,
     "input": [
      "from datetime import date  # module n\u00e9cessaire pour la d\u00e9finition des dates, dont notamment les dates de naissances\n",
      "import openfisca_france    # module d\u00e9crivant le syst\u00e8me socio-fiscal fran\u00e7ais\n",
      "\n",
      "TaxBenefitSystem = openfisca_france.init_country()  # Initialisation de la classe d\u00e9crivant le syst\u00e8me socio-fiscal fran\u00e7ais\n",
      "tax_benefit_system = TaxBenefitSystem()  # Cr\u00e9ation d'une instance du syst\u00e8me socio-fiscal fran\u00e7ais "
     ],
     "language": "python",
     "metadata": {
      "slideshow": {
       "slide_type": "slide"
      }
     },
     "outputs": [],
     "prompt_number": 10
    },
    {
     "cell_type": "code",
     "collapsed": false,
     "input": [
      "salaire_imposable_maximal = 200000"
     ],
     "language": "python",
     "metadata": {},
     "outputs": [],
     "prompt_number": 11
    },
    {
     "cell_type": "code",
     "collapsed": false,
     "input": [
      "def couple_avec_enfants(nombre_enfants = 0, year = 2014):\n",
      "    enfant = [dict(\n",
      "        birth = date(2005, 1, 1),\n",
      "        )]\n",
      "    enfants = enfant * nombre_enfants\n",
      "    simulation = tax_benefit_system.new_scenario().init_single_entity(\n",
      "        axes = [\n",
      "            dict(\n",
      "                count = 100,\n",
      "                min = 0,\n",
      "                max = salaire_imposable_maximal * 3,\n",
      "                name = salaire_imposable_maximal,\n",
      "                ),\n",
      "            ],\n",
      "        period = \"{}:3\".format(year-2),\n",
      "        parent1 = dict(\n",
      "            birth = date(1980, 1, 1),\n",
      "            ),\n",
      "        parent2 = dict(\n",
      "            birth = date(1980, 1, 1)\n",
      "            ),\n",
      "        enfants = enfants,\n",
      "        menage = dict(\n",
      "            loyer = 1000 * 3,\n",
      "            so = 4,\n",
      "            ),\n",
      "        ).new_simulation(debug = True)\n",
      "    return simulation"
     ],
     "language": "python",
     "metadata": {},
     "outputs": [],
     "prompt_number": 17
    },
    {
     "cell_type": "heading",
     "level": 2,
     "metadata": {},
     "source": [
      "Gain li\u00e9 \u00e0 l'enfant marginal"
     ]
    },
    {
     "cell_type": "code",
     "collapsed": false,
     "input": [
      "def gain_enfant_marginal(rang_enfant, variable = \"revdisp\", year = 2014):\n",
      "    assert rang_enfant >= 1\n",
      "    situation_initiale = couple_avec_enfants(rang_enfant-1, year)\n",
      "    situation_finale = couple_avec_enfants(rang_enfant, year)\n",
      "    revdisp_initial = situation_initiale.calculate(variable, period = year)\n",
      "    revdisp_final = situation_finale.calculate(variable, period = year)\n",
      "    return revdisp_final - revdisp_initial"
     ],
     "language": "python",
     "metadata": {},
     "outputs": [],
     "prompt_number": 13
    },
    {
     "cell_type": "code",
     "collapsed": false,
     "input": [
      "couple_0_enfant = couple_avec_enfants(nombre_enfants = 0)\n",
      "salaire_imposable = couple_0_enfant.calculate('sal', period = 2014)[:200:2] \n",
      "#\u00a0salaire imposable est une variable associ\u00e9e \u00e0 l'entit\u00e9 individu\n",
      "print salaire_imposable"
     ],
     "language": "python",
     "metadata": {},
     "outputs": [
      {
       "output_type": "stream",
       "stream": "stdout",
       "text": [
        "[ 0.  0.  0.  0.  0.  0.  0.  0.  0.  0.  0.  0.  0.  0.  0.  0.  0.  0.\n",
        "  0.  0.  0.  0.  0.  0.  0.  0.  0.  0.  0.  0.  0.  0.  0.  0.  0.  0.\n",
        "  0.  0.  0.  0.  0.  0.  0.  0.  0.  0.  0.  0.  0.  0.  0.  0.  0.  0.\n",
        "  0.  0.  0.  0.  0.  0.  0.  0.  0.  0.  0.  0.  0.  0.  0.  0.  0.  0.\n",
        "  0.  0.  0.  0.  0.  0.  0.  0.  0.  0.  0.  0.  0.  0.  0.  0.  0.  0.\n",
        "  0.  0.  0.  0.  0.  0.  0.  0.  0.  0.]\n"
       ]
      }
     ],
     "prompt_number": 16
    },
    {
     "cell_type": "code",
     "collapsed": false,
     "input": [
      "fig = plt.figure()\n",
      "for rang_enfant in range(1, 4):\n",
      "    plt.plot(salaire_imposable, gain_enfant_marginal(rang_enfant, year = 2014), label = u\"{}e enfant\".format(rang_enfant))\n",
      "plt.legend(loc = 4, shadow=True, fancybox=True)\n",
      "plt.xlim([0,salaire_imposable_maximal])\n",
      "plt.show()"
     ],
     "language": "python",
     "metadata": {},
     "outputs": [
      {
       "metadata": {},
       "output_type": "display_data",
       "png": "[encoded data removed]",
       "text": [
        "<matplotlib.figure.Figure at 0x7ff092e137d0>"
       ]
      }
     ],
     "prompt_number": 15
    },
    {
     "cell_type": "code",
     "collapsed": false,
     "input": [
      "fig = plt.figure()\n",
      "rang_enfant = 1\n",
      "for year in range(2010, 2015):\n",
      "    plt.plot(salaire_imposable, gain_enfant_marginal(rang_enfant, year = year), label = \"{}\".format(year))\n",
      "plt.legend(loc = 4, shadow=True, fancybox=True)\n",
      "plt.xlim([0, salaire_imposable_maximal])\n",
      "plt.show()"
     ],
     "language": "python",
     "metadata": {},
     "outputs": []
    },
    {
     "cell_type": "code",
     "collapsed": false,
     "input": [
      "fig = plt.figure()\n",
      "rang_enfant = 2\n",
      "for year in range(2010, 2015):\n",
      "    plt.plot(salaire_imposable, gain_enfant_marginal(rang_enfant, year = year), label = \"{}\".format(year))\n",
      "plt.legend(loc = 4, shadow=True, fancybox=True)\n",
      "plt.xlim([0, salaire_imposable_maximal])\n",
      "plt.show()"
     ],
     "language": "python",
     "metadata": {},
     "outputs": []
    },
    {
     "cell_type": "code",
     "collapsed": false,
     "input": [
      "fig = plt.figure()\n",
      "rang_enfant = 3\n",
      "for year in range(2010, 2015):\n",
      "    plt.plot(salaire_imposable, gain_enfant_marginal(rang_enfant, year = year), label = \"{}\".format(year))\n",
      "plt.legend(loc = 4, shadow=True, fancybox=True)\n",
      "plt.xlim([0, salaire_imposable_maximal])\n",
      "plt.show()"
     ],
     "language": "python",
     "metadata": {},
     "outputs": []
    },
    {
     "cell_type": "code",
     "collapsed": false,
     "input": [
      "fig = plt.figure()\n",
      "rang_enfant = 1\n",
      "for year in range(2010, 2015):\n",
      "    plt.plot(salaire_imposable, gain_enfant_marginal(rang_enfant, year = year), label = \"{} enfant\".format(rang_enfant))\n",
      "plt.legend(loc = 4, shadow=True, fancybox=True)\n",
      "plt.xlim([0, salaire_imposable_maximal])\n",
      "plt.show()"
     ],
     "language": "python",
     "metadata": {},
     "outputs": []
    },
    {
     "cell_type": "code",
     "collapsed": false,
     "input": [
      "fig = plt.figure()\n",
      "rang_enfant = 1\n",
      "year = 2014\n",
      "for variable in ['af', 'revdisp', 'impo']:\n",
      "    plt.plot(salaire_imposable, gain_enfant_marginal(rang_enfant, variable = variable, year = year),\n",
      "             label = \"gain en {}\".format(variable))\n",
      "plt.legend(loc = 4, shadow=True, fancybox=True)\n",
      "plt.xlim([0, salaire_imposable_maximal])\n",
      "plt.show()"
     ],
     "language": "python",
     "metadata": {},
     "outputs": []
    },
    {
     "cell_type": "code",
     "collapsed": false,
     "input": [
      "fig = plt.figure()\n",
      "rang_enfant = 2\n",
      "year = 2014\n",
      "for variable in ['af', 'revdisp', 'impo']:\n",
      "    plt.plot(salaire_imposable, gain_enfant_marginal(rang_enfant, variable = variable, year = year),\n",
      "             label = \"gain en {}\".format(variable))\n",
      "plt.legend(loc = 4, shadow=True, fancybox=True)\n",
      "plt.xlim([0, salaire_imposable_maximal])\n",
      "plt.show()"
     ],
     "language": "python",
     "metadata": {},
     "outputs": []
    },
    {
     "cell_type": "code",
     "collapsed": false,
     "input": [
      "fig = plt.figure()\n",
      "rang_enfant = 3\n",
      "year = 2014\n",
      "for variable in ['af', 'revdisp', 'impo']:\n",
      "    plt.plot(salaire_imposable, gain_enfant_marginal(rang_enfant, variable = variable, year = year),\n",
      "             label = \"gain en {}\".format(variable))\n",
      "plt.legend(loc = 4, shadow=True, fancybox=True)\n",
      "plt.xlim([0, salaire_imposable_maximal])\n",
      "plt.show()"
     ],
     "language": "python",
     "metadata": {},
     "outputs": []
    },
    {
     "cell_type": "code",
     "collapsed": false,
     "input": [
      "fig1 = plt.figure()\n",
      "rang_enfant = 1\n",
      "year = 2014\n",
      "for variable in ['revdisp', 'impo']:\n",
      "    plt.plot(salaire_imposable, gain_enfant_marginal(rang_enfant, variable = variable, year = year),\n",
      "             label = \"gain en {}\".format(variable))\n",
      "plt.legend(loc = 4, shadow=True, fancybox=True)\n",
      "plt.xlim([0, salaire_imposable_maximal])\n",
      "\n",
      "fig2 = plt.figure()\n",
      "rang_enfant = 2\n",
      "year = 2014\n",
      "for variable in ['revdisp', 'impo']:\n",
      "    plt.plot(salaire_imposable, gain_enfant_marginal(rang_enfant, variable = variable, year = year),\n",
      "             label = \"gain en {}\".format(variable))\n",
      "plt.legend(loc = 4, shadow=True, fancybox=True)\n",
      "plt.xlim([0, salaire_imposable_maximal])\n",
      "plt.show()\n",
      "\n",
      "fig3 = plt.figure()\n",
      "rang_enfant = 3\n",
      "year = 2014\n",
      "for variable in ['revdisp', 'impo']:\n",
      "    plt.plot(salaire_imposable, gain_enfant_marginal(rang_enfant, variable = variable, year = year),\n",
      "             label = \"gain en {}\".format(variable))\n",
      "plt.legend(loc = 4, shadow=True, fancybox=True)\n",
      "plt.xlim([0, salaire_imposable_maximal])\n",
      "plt.show()"
     ],
     "language": "python",
     "metadata": {},
     "outputs": [
      {
       "metadata": {},
       "output_type": "pyout",
       "prompt_number": 9,
       "text": [
        "(0, 200000)"
       ]
      },
      {
       "metadata": {},
       "output_type": "display_data",
       "png": "[encoded data removed]",
       "text": [
        "<matplotlib.figure.Figure at 0x7f39392edf10>"
       ]
      },
      {
       "metadata": {},
       "output_type": "display_data",
       "png": "[encoded data removed]",
       "text": [
        "<matplotlib.figure.Figure at 0x7f3938316190>"
       ]
      },
      {
       "metadata": {},
       "output_type": "display_data",
       "png": "[encoded data removed]",
       "text": [
        "<matplotlib.figure.Figure at 0x7f3938322790>"
       ]
      }
     ],
     "prompt_number": 9
    },
    {
     "cell_type": "code",
     "collapsed": false,
     "input": [],
     "language": "python",
     "metadata": {},
     "outputs": []
    }
   ],
   "metadata": {}
  }
 ]
}