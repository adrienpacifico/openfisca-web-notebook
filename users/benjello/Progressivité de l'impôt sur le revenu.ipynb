{
 "metadata": {
  "name": "",
  "signature": "sha256:46607356827cd5544049f5e31fed9dca49a146f29bba0102c4f66d93748adc06"
 },
 "nbformat": 3,
 "nbformat_minor": 0,
 "worksheets": [
  {
   "cells": [
    {
     "cell_type": "heading",
     "level": 1,
     "metadata": {},
     "source": [
      "Illustration de la progressivit\u00e9 de l'imp\u00f4t sur le revenu"
     ]
    },
    {
     "cell_type": "heading",
     "level": 2,
     "metadata": {},
     "source": [
      "Initialisation\n"
     ]
    },
    {
     "cell_type": "markdown",
     "metadata": {},
     "source": [
      "Nous importons les modules n\u00e9c\u00e9ssaires et initialisons le syst\u00e8me socio-fiscal.\n"
     ]
    },
    {
     "cell_type": "code",
     "collapsed": false,
     "input": [
      "%matplotlib inline\n",
      "import matplotlib.pyplot as plt"
     ],
     "language": "python",
     "metadata": {},
     "outputs": [],
     "prompt_number": 8
    },
    {
     "cell_type": "code",
     "collapsed": false,
     "input": [
      "from datetime import date  # module n\u00e9cessaire pour la d\u00e9finition des dates, dont notamment les dates de naissances\n",
      "import openfisca_france    # module d\u00e9crivant le syst\u00e8me socio-fiscal fran\u00e7ais\n",
      "\n",
      "TaxBenefitSystem = openfisca_france.init_country()  # Initialisation de la classe d\u00e9crivant le syst\u00e8me socio-fiscal fran\u00e7ais\n",
      "tax_benefit_system = TaxBenefitSystem()  # Cr\u00e9ation d'une instance du syst\u00e8me socio-fiscal fran\u00e7ais "
     ],
     "language": "python",
     "metadata": {},
     "outputs": [],
     "prompt_number": 9
    },
    {
     "cell_type": "heading",
     "level": 2,
     "metadata": {},
     "source": [
      "Concavit\u00e9 de l'imp\u00f4t"
     ]
    },
    {
     "cell_type": "code",
     "collapsed": false,
     "input": [
      "simulation = tax_benefit_system.new_scenario().init_single_entity(\n",
      "    axes = [\n",
      "        dict(\n",
      "            count = 300,\n",
      "            min = 0,\n",
      "            max = 50000,\n",
      "            name = 'salaire_imposable',\n",
      "            ),\n",
      "        ],\n",
      "    period = 2014,\n",
      "    parent1 = dict(\n",
      "        birth = date(1980, 1, 1),\n",
      "        )\n",
      "    ).new_simulation(debug = True)"
     ],
     "language": "python",
     "metadata": {},
     "outputs": [],
     "prompt_number": 29
    },
    {
     "cell_type": "code",
     "collapsed": false,
     "input": [
      "salaire_imposable = simulation.calculate('salaire_imposable')\n",
      "impot = - simulation.calculate('impo')"
     ],
     "language": "python",
     "metadata": {},
     "outputs": [],
     "prompt_number": 30
    },
    {
     "cell_type": "code",
     "collapsed": false,
     "input": [
      "plt.plot(salaire_imposable, impot)\n",
      "plt.ylabel(u\"Imp\u00f4t sur le revenu\")\n",
      "plt.xlabel(u\"Salaires imposables\")"
     ],
     "language": "python",
     "metadata": {},
     "outputs": [
      {
       "metadata": {},
       "output_type": "pyout",
       "prompt_number": 31,
       "text": [
        "<matplotlib.text.Text at 0x7fc0e760c490>"
       ]
      },
      {
       "metadata": {},
       "output_type": "display_data",
       "png": "[encoded data removed]",
       "text": [
        "<matplotlib.figure.Figure at 0x7fc0e7529a50>"
       ]
      }
     ],
     "prompt_number": 31
    },
    {
     "cell_type": "markdown",
     "metadata": {},
     "source": [
      "L'imp\u00f4t pay\u00e9 est continu: il n'augmente brusquement son imp\u00f4t lorsque l'on change de tranche contrairement \n",
      "\u00e0 ce que pensent beaucoup de personnes."
     ]
    },
    {
     "cell_type": "heading",
     "level": 2,
     "metadata": {},
     "source": [
      "Taux moyen"
     ]
    },
    {
     "cell_type": "code",
     "collapsed": false,
     "input": [
      "taux_moyen = impot / salaire_imposable  "
     ],
     "language": "python",
     "metadata": {},
     "outputs": [],
     "prompt_number": 32
    },
    {
     "cell_type": "code",
     "collapsed": false,
     "input": [
      "taux_moyen = impot / (salaire_imposable * (salaire_imposable != 0) + (salaire_imposable == 0) )  "
     ],
     "language": "python",
     "metadata": {},
     "outputs": [],
     "prompt_number": 33
    },
    {
     "cell_type": "code",
     "collapsed": false,
     "input": [
      "plt.plot(salaire_imposable, taux_moyen)\n",
      "plt.ylabel(\"Taux moyen\")\n",
      "plt.xlabel(\"Salaire imposable\")"
     ],
     "language": "python",
     "metadata": {},
     "outputs": [
      {
       "metadata": {},
       "output_type": "pyout",
       "prompt_number": 34,
       "text": [
        "<matplotlib.text.Text at 0x7fc0e763e150>"
       ]
      },
      {
       "metadata": {},
       "output_type": "display_data",
       "png": "[encoded data removed]",
       "text": [
        "<matplotlib.figure.Figure at 0x7fc0e764a310>"
       ]
      }
     ],
     "prompt_number": 34
    },
    {
     "cell_type": "heading",
     "level": 2,
     "metadata": {},
     "source": [
      "Taux marginal"
     ]
    },
    {
     "cell_type": "code",
     "collapsed": false,
     "input": [
      "taux_marginal =  (impot[:-1] - impot[1:]) / (salaire_imposable[:-1] - salaire_imposable[1:] ) "
     ],
     "language": "python",
     "metadata": {},
     "outputs": [],
     "prompt_number": 35
    },
    {
     "cell_type": "code",
     "collapsed": false,
     "input": [
      "plt.plot(salaire_imposable[:-1], taux_marginal)"
     ],
     "language": "python",
     "metadata": {},
     "outputs": [
      {
       "metadata": {},
       "output_type": "pyout",
       "prompt_number": 36,
       "text": [
        "[<matplotlib.lines.Line2D at 0x7fc0e736c550>]"
       ]
      },
      {
       "metadata": {},
       "output_type": "display_data",
       "png": "[encoded data removed]",
       "text": [
        "<matplotlib.figure.Figure at 0x7fc0e763e450>"
       ]
      }
     ],
     "prompt_number": 36
    },
    {
     "cell_type": "code",
     "collapsed": false,
     "input": [
      "taux_marginal[40], taux_marginal[95]"
     ],
     "language": "python",
     "metadata": {},
     "outputs": [
      {
       "metadata": {},
       "output_type": "pyout",
       "prompt_number": 37,
       "text": [
        "(-0.0, 0.25320974)"
       ]
      }
     ],
     "prompt_number": 37
    },
    {
     "cell_type": "markdown",
     "metadata": {},
     "source": [
      "On retrouve les atux marginaux des tranches \u00e0 14% et \u00e0 30% (il ne faut pas oublier l'abattement de 10% pour frais professionnels)"
     ]
    },
    {
     "cell_type": "heading",
     "level": 3,
     "metadata": {},
     "source": [
      "Remarque: utilisation de fonction d\u00e9di\u00e9es"
     ]
    },
    {
     "cell_type": "markdown",
     "metadata": {},
     "source": [
      "Il est possible d'utiliser des fonctions d\u00e9di\u00e9es au calcul des taux marginaux et des taux moyens pay\u00e9s sur certaines concept de revenus. On reproduit ci-dessous "
     ]
    },
    {
     "cell_type": "code",
     "collapsed": false,
     "input": [
      "from openfisca_core.rates import average_rate, marginal_rate"
     ],
     "language": "python",
     "metadata": {},
     "outputs": [],
     "prompt_number": 38
    },
    {
     "cell_type": "code",
     "collapsed": false,
     "input": [
      "revenu_apres_impot = simulation.calculate('revenu_net_individu') + simulation.calculate('impo') "
     ],
     "language": "python",
     "metadata": {},
     "outputs": [],
     "prompt_number": 39
    },
    {
     "cell_type": "code",
     "collapsed": false,
     "input": [
      "plt.plot(salaire_imposable[1:], average_rate(revenu_apres_impot[1:], salaire_imposable[1:]))"
     ],
     "language": "python",
     "metadata": {},
     "outputs": [
      {
       "metadata": {},
       "output_type": "pyout",
       "prompt_number": 40,
       "text": [
        "[<matplotlib.lines.Line2D at 0x7fc0e7354210>]"
       ]
      },
      {
       "metadata": {},
       "output_type": "display_data",
       "png": "[encoded data removed]",
       "text": [
        "<matplotlib.figure.Figure at 0x7fc0e7477890>"
       ]
      }
     ],
     "prompt_number": 40
    },
    {
     "cell_type": "code",
     "collapsed": false,
     "input": [
      "plt.plot(salaire_imposable[2:], marginal_rate(revenu_apres_impot[1:], salaire_imposable[1:]))"
     ],
     "language": "python",
     "metadata": {},
     "outputs": [
      {
       "metadata": {},
       "output_type": "pyout",
       "prompt_number": 41,
       "text": [
        "[<matplotlib.lines.Line2D at 0x7fc0e6ce8090>]"
       ]
      },
      {
       "metadata": {},
       "output_type": "display_data",
       "png": "[encoded data removed]",
       "text": [
        "<matplotlib.figure.Figure at 0x7fc0e76579d0>"
       ]
      }
     ],
     "prompt_number": 41
    },
    {
     "cell_type": "markdown",
     "metadata": {},
     "source": [
      "Exercice: montrer que le taux moyen tend vers le taux marginal \u00e0 l'infini"
     ]
    },
    {
     "cell_type": "code",
     "collapsed": false,
     "input": [],
     "language": "python",
     "metadata": {},
     "outputs": []
    }
   ],
   "metadata": {}
  }
 ]
}