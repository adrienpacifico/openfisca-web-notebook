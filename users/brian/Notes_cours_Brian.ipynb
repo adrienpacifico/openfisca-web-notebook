{
 "metadata": {
  "name": "",
  "signature": "sha256:323c1df1266f0bd5030e85176049b6877990eb7bfdccff9c69ee6a9eff9ac526"
 },
 "nbformat": 3,
 "nbformat_minor": 0,
 "worksheets": [
  {
   "cells": [
    {
     "cell_type": "markdown",
     "metadata": {},
     "source": [
      "gain de l'enfant ? gain \u00e0 l'enfant pour un rang donn\u00e9 (0,1,2,3) pour une ann\u00e9e donn\u00e9e (2011,2012,2013,2014)"
     ]
    },
    {
     "cell_type": "markdown",
     "metadata": {},
     "source": [
      "salaire_imposable = couple_0_enfant.calculate('sal', period = 2011)"
     ]
    },
    {
     "cell_type": "markdown",
     "metadata": {},
     "source": [
      "Qu'est-ce que je veux en sortie de mon code ? "
     ]
    },
    {
     "cell_type": "markdown",
     "metadata": {},
     "source": [
      "def gain (nombre_enfants = 0, year = 2014) :\n",
      "    gain = salaire_imposable - salaire_imposable \n",
      "    gain = revenu disponible final - revenu disponible initial\n",
      "    return gain"
     ]
    },
    {
     "cell_type": "code",
     "collapsed": false,
     "input": [
      "def gain (nombre_enfants = 0, year = 2014)\n",
      "    salaire_imposable1 = [dict(\n",
      "        couple_1_enfant.calculate('sal', period = year),\n",
      "        )]\n",
      "    gain1 = salaire_imposable1 - salaire_imposable"
     ],
     "language": "python",
     "metadata": {},
     "outputs": [
      {
       "ename": "SyntaxError",
       "evalue": "invalid syntax (<ipython-input-22-d4a22d702da5>, line 1)",
       "output_type": "pyerr",
       "traceback": [
        "\u001b[0;36m  File \u001b[0;32m\"<ipython-input-22-d4a22d702da5>\"\u001b[0;36m, line \u001b[0;32m1\u001b[0m\n\u001b[0;31m    def gain (nombre_enfants = 0, year = 2014)\u001b[0m\n\u001b[0m                                              ^\u001b[0m\n\u001b[0;31mSyntaxError\u001b[0m\u001b[0;31m:\u001b[0m invalid syntax\n"
       ]
      }
     ],
     "prompt_number": 22
    },
    {
     "cell_type": "markdown",
     "metadata": {},
     "source": [
      "La simulation a pour but de calculer"
     ]
    },
    {
     "cell_type": "code",
     "collapsed": false,
     "input": [
      "une_autre_chaine = \"et celle-ci\""
     ],
     "language": "python",
     "metadata": {},
     "outputs": [],
     "prompt_number": 23
    },
    {
     "cell_type": "code",
     "collapsed": false,
     "input": [
      "une_autre_chaine"
     ],
     "language": "python",
     "metadata": {},
     "outputs": [
      {
       "metadata": {},
       "output_type": "pyout",
       "prompt_number": 24,
       "text": [
        "'et celle-ci'"
       ]
      }
     ],
     "prompt_number": 24
    },
    {
     "cell_type": "code",
     "collapsed": false,
     "input": [
      "chaine_de_caracteres = \"caracteres \""
     ],
     "language": "python",
     "metadata": {},
     "outputs": [],
     "prompt_number": 25
    },
    {
     "cell_type": "code",
     "collapsed": false,
     "input": [
      "chaine_de_caracteres"
     ],
     "language": "python",
     "metadata": {},
     "outputs": [
      {
       "metadata": {},
       "output_type": "pyout",
       "prompt_number": 26,
       "text": [
        "'caracteres '"
       ]
      }
     ],
     "prompt_number": 26
    },
    {
     "cell_type": "code",
     "collapsed": false,
     "input": [
      "chaine_de_caracteres + une_autre_chaine"
     ],
     "language": "python",
     "metadata": {},
     "outputs": [
      {
       "metadata": {},
       "output_type": "pyout",
       "prompt_number": 27,
       "text": [
        "'caracteres et celle-ci'"
       ]
      }
     ],
     "prompt_number": 27
    },
    {
     "cell_type": "code",
     "collapsed": false,
     "input": [
      "nombre = 6\n",
      "facteur1 = 2\n",
      "facteur2 = 3\n",
      "\"ceci est le nombre {1}={2}*{1}\".format(nombre, facteur1, facteur2)"
     ],
     "language": "python",
     "metadata": {},
     "outputs": [
      {
       "metadata": {},
       "output_type": "pyout",
       "prompt_number": 28,
       "text": [
        "'ceci est le nombre 2=3*2'"
       ]
      }
     ],
     "prompt_number": 28
    },
    {
     "cell_type": "markdown",
     "metadata": {},
     "source": [
      "l'arriv\u00e9e du troisi\u00e8me enfant est beaucoup aid\u00e9 pour les familles pauvres gr\u00e2ce au compl\u00e9ment familial"
     ]
    },
    {
     "cell_type": "markdown",
     "metadata": {},
     "source": [
      "Quand on ne sait pas combien d'it\u00e9rations va faire le programme "
     ]
    },
    {
     "cell_type": "markdown",
     "metadata": {},
     "source": [
      "mon probl\u00e8me c'\u00e9tait : je n'arrivais pas \u00e0 stocker les ann\u00e9es; comment stocker plusieurs informations ?"
     ]
    },
    {
     "cell_type": "markdown",
     "metadata": {},
     "source": [
      "\u00e9crire en le moins possible en faisanr le moins d'erreurs possibles"
     ]
    },
    {
     "cell_type": "code",
     "collapsed": false,
     "input": [
      "for year in range(2010, 2015): \n",
      "    print year"
     ],
     "language": "python",
     "metadata": {},
     "outputs": [
      {
       "output_type": "stream",
       "stream": "stdout",
       "text": [
        "2010\n",
        "2011\n",
        "2012\n",
        "2013\n",
        "2014\n"
       ]
      }
     ],
     "prompt_number": 29
    },
    {
     "cell_type": "markdown",
     "metadata": {},
     "source": [
      "un dictionnaire est un ensemble de clefs / valeurs. C'est pas ordonn\u00e9 mais index\u00e9."
     ]
    },
    {
     "cell_type": "markdown",
     "metadata": {},
     "source": [
      "Python commence toujours \u00e0 0."
     ]
    },
    {
     "cell_type": "code",
     "collapsed": false,
     "input": [
      "ma_liste = [1, 2, 3, 4]"
     ],
     "language": "python",
     "metadata": {},
     "outputs": [],
     "prompt_number": 30
    },
    {
     "cell_type": "code",
     "collapsed": false,
     "input": [
      "for year in ma_liste"
     ],
     "language": "python",
     "metadata": {},
     "outputs": [
      {
       "ename": "SyntaxError",
       "evalue": "invalid syntax (<ipython-input-47-d913bbefe8f3>, line 1)",
       "output_type": "pyerr",
       "traceback": [
        "\u001b[0;36m  File \u001b[0;32m\"<ipython-input-47-d913bbefe8f3>\"\u001b[0;36m, line \u001b[0;32m1\u001b[0m\n\u001b[0;31m    for year in ma_liste\u001b[0m\n\u001b[0m                        ^\u001b[0m\n\u001b[0;31mSyntaxError\u001b[0m\u001b[0;31m:\u001b[0m invalid syntax\n"
       ]
      }
     ],
     "prompt_number": 47
    },
    {
     "cell_type": "code",
     "collapsed": false,
     "input": [
      "ma_liste.pop()"
     ],
     "language": "python",
     "metadata": {},
     "outputs": [
      {
       "metadata": {},
       "output_type": "pyout",
       "prompt_number": 32,
       "text": [
        "4"
       ]
      }
     ],
     "prompt_number": 32
    },
    {
     "cell_type": "code",
     "collapsed": false,
     "input": [
      "ma_liste"
     ],
     "language": "python",
     "metadata": {},
     "outputs": [
      {
       "metadata": {},
       "output_type": "pyout",
       "prompt_number": 33,
       "text": [
        "[1, 2, 3]"
       ]
      }
     ],
     "prompt_number": 33
    },
    {
     "cell_type": "markdown",
     "metadata": {},
     "source": [
      "la fonction .pop permet d'extraire des \u00e9l\u00e9ements de la liste"
     ]
    },
    {
     "cell_type": "markdown",
     "metadata": {},
     "source": [
      "la fonction .append rajoute l'\u00e9lement de la liste"
     ]
    },
    {
     "cell_type": "markdown",
     "metadata": {},
     "source": [
      "comment cr\u00e9er une liste dans la boucle des ann\u00e9es par rapport \u00e0 notre exo ? "
     ]
    },
    {
     "cell_type": "markdown",
     "metadata": {},
     "source": [
      "D'abord, je cr\u00e9e une liste vite"
     ]
    },
    {
     "cell_type": "code",
     "collapsed": false,
     "input": [
      "def gain(year):\n",
      "    return float(year) / 2\n",
      "mon_dico = dict()"
     ],
     "language": "python",
     "metadata": {},
     "outputs": [],
     "prompt_number": 45
    },
    {
     "cell_type": "code",
     "collapsed": false,
     "input": [
      "for year in range(2010, 2015):\n",
      "    print year\n",
      "    print gain(year)\n",
      "    mon_dico[year] = gain(year)\n",
      "    print mon_dico"
     ],
     "language": "python",
     "metadata": {},
     "outputs": [
      {
       "output_type": "stream",
       "stream": "stdout",
       "text": [
        "2010\n",
        "1005.0\n",
        "{2010: 1005.0}\n",
        "2011\n",
        "1005.5\n",
        "{2010: 1005.0, 2011: 1005.5}\n",
        "2012\n",
        "1006.0\n",
        "{2010: 1005.0, 2011: 1005.5, 2012: 1006.0}\n",
        "2013\n",
        "1006.5\n",
        "{2010: 1005.0, 2011: 1005.5, 2012: 1006.0, 2013: 1006.5}\n",
        "2014\n",
        "1007.0\n",
        "{2010: 1005.0, 2011: 1005.5, 2012: 1006.0, 2013: 1006.5, 2014: 1007.0}\n"
       ]
      }
     ],
     "prompt_number": 46
    },
    {
     "cell_type": "code",
     "collapsed": false,
     "input": [
      "ma_liste = list()\n",
      "for year in range(2010, 2015): \n",
      "    print year\n",
      "    ma_liste.append(year)\n",
      "    \n",
      "print ma_liste"
     ],
     "language": "python",
     "metadata": {},
     "outputs": [
      {
       "output_type": "stream",
       "stream": "stdout",
       "text": [
        "2010\n",
        "2011\n",
        "2012\n",
        "2013\n",
        "2014\n",
        "[2010, 2011, 2012, 2013, 2014]\n"
       ]
      }
     ],
     "prompt_number": 48
    },
    {
     "cell_type": "code",
     "collapsed": false,
     "input": [
      "for year in ma_liste:\n",
      "    print year"
     ],
     "language": "python",
     "metadata": {},
     "outputs": [
      {
       "output_type": "stream",
       "stream": "stdout",
       "text": [
        "2010\n",
        "2011\n",
        "2012\n",
        "2013\n",
        "2014\n"
       ]
      }
     ],
     "prompt_number": 50
    },
    {
     "cell_type": "code",
     "collapsed": false,
     "input": [
      "for key, value in mon_dico.iteritems():\n",
      "    print key\n",
      "    print value\n",
      "    print \"====\""
     ],
     "language": "python",
     "metadata": {},
     "outputs": [
      {
       "output_type": "stream",
       "stream": "stdout",
       "text": [
        "2010\n",
        "1005.0\n",
        "====\n",
        "2011\n",
        "1005.5\n",
        "====\n",
        "2012\n",
        "1006.0\n",
        "====\n",
        "2013\n",
        "1006.5\n",
        "====\n",
        "2014\n",
        "1007.0\n",
        "====\n"
       ]
      }
     ],
     "prompt_number": 51
    },
    {
     "cell_type": "code",
     "collapsed": false,
     "input": [
      "print mon_dico.keys()\n",
      "print type(mon_dico.keys())"
     ],
     "language": "python",
     "metadata": {},
     "outputs": [
      {
       "output_type": "stream",
       "stream": "stdout",
       "text": [
        "[2010, 2011, 2012, 2013, 2014]\n",
        "<type 'list'>\n"
       ]
      }
     ],
     "prompt_number": 53
    },
    {
     "cell_type": "code",
     "collapsed": false,
     "input": [
      "print mon_dico.value()\n",
      "print type(mon_dico.value())"
     ],
     "language": "python",
     "metadata": {},
     "outputs": [
      {
       "ename": "AttributeError",
       "evalue": "'dict' object has no attribute 'value'",
       "output_type": "pyerr",
       "traceback": [
        "\u001b[0;31m---------------------------------------------------------------------------\u001b[0m\n\u001b[0;31mAttributeError\u001b[0m                            Traceback (most recent call last)",
        "\u001b[0;32m<ipython-input-54-1401521dc124>\u001b[0m in \u001b[0;36m<module>\u001b[0;34m()\u001b[0m\n\u001b[0;32m----> 1\u001b[0;31m \u001b[0;32mprint\u001b[0m \u001b[0mmon_dico\u001b[0m\u001b[0;34m.\u001b[0m\u001b[0mvalue\u001b[0m\u001b[0;34m(\u001b[0m\u001b[0;34m)\u001b[0m\u001b[0;34m\u001b[0m\u001b[0m\n\u001b[0m\u001b[1;32m      2\u001b[0m \u001b[0;32mprint\u001b[0m \u001b[0mtype\u001b[0m\u001b[0;34m(\u001b[0m\u001b[0mmon_dico\u001b[0m\u001b[0;34m.\u001b[0m\u001b[0mvalue\u001b[0m\u001b[0;34m(\u001b[0m\u001b[0;34m)\u001b[0m\u001b[0;34m)\u001b[0m\u001b[0;34m\u001b[0m\u001b[0m\n",
        "\u001b[0;31mAttributeError\u001b[0m: 'dict' object has no attribute 'value'"
       ]
      }
     ],
     "prompt_number": 54
    },
    {
     "cell_type": "markdown",
     "metadata": {},
     "source": [
      "construire un dictionnaire avec les gains par ann\u00e9e et par enfant\n",
      "on veut construire avec une boucle qui va s'appeler \"gain_by_year\" "
     ]
    },
    {
     "cell_type": "markdown",
     "metadata": {},
     "source": [
      "cr\u00e9er trois dicos : gain_by_year_margin_0_1\n",
      "gain_by_year_margin_0_2\n",
      "gain_by_year_margin_0_3"
     ]
    },
    {
     "cell_type": "markdown",
     "metadata": {},
     "source": [
      "projet : les familles qui ont un \u00e9tudiant peuvent le garder \u00e0 la fois dans le foyer fiscal et plus, l'enfant peut avoir une \n",
      "aide au logement. \n",
      "Les riches qui en b\u00e9n\u00e9ficient "
     ]
    }
   ],
   "metadata": {}
  }
 ]
}