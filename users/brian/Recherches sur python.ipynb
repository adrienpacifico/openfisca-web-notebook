{
 "metadata": {
  "name": "",
  "signature": "sha256:66e3c758228a25f31c6f1f812ae6d8edb990df79f4a8f5fd59009c8270176650"
 },
 "nbformat": 3,
 "nbformat_minor": 0,
 "worksheets": [
  {
   "cells": [
    {
     "cell_type": "heading",
     "level": 6,
     "metadata": {},
     "source": [
      "J'ai fait des recherches sur id() : la fonction id() la fonction id() \n",
      "permet de connaitre l'adresse m\u00e9moire (apr\u00e8s une conversion en hexa). \n",
      "\n",
      "J'ai trouv\u00e9 cet exemple:"
     ]
    },
    {
     "cell_type": "code",
     "collapsed": false,
     "input": [
      "d = {}\n",
      "d[1] = \"un\"\n",
      "d[2] = \"deux\"\n",
      "d[10] = d[1]\n",
      "del d[1]"
     ],
     "language": "python",
     "metadata": {},
     "outputs": [],
     "prompt_number": 1
    },
    {
     "cell_type": "heading",
     "level": 6,
     "metadata": {},
     "source": [
      "dans l'exemple id(d[1] avant changement) = id(d[10 apr\u00e8s changement) il n'y a pas de \"recopie\" de la valeur, c'est la m\u00eame et au m\u00eame emplacement m\u00e9moire.\n",
      "\n",
      "python utilise un compteur de r\u00e9f\u00e9rence. la chaine \"un\" est r\u00e9f\u00e9renc\u00e9e 1 fois par d[1].\n",
      "\n",
      "d\u00e8s que je fais d[10] = d[1], la chaine \"un\" est r\u00e9f\u00e9renc\u00e9e 2 fois, une fois par d[1] et une fois par d[10].\n",
      "\n",
      "d\u00e8s que je fais del d[1] elle n'est plus r\u00e9f\u00e9renc\u00e9e que par d[10] donc la chaine ne part pas au ramasse miettes, pas de soucis."
     ]
    },
    {
     "cell_type": "code",
     "collapsed": false,
     "input": [
      "b = [1]\n",
      "id(b)\n"
     ],
     "language": "python",
     "metadata": {},
     "outputs": [
      {
       "metadata": {},
       "output_type": "pyout",
       "prompt_number": 2,
       "text": [
        "139702380267568"
       ]
      }
     ],
     "prompt_number": 2
    },
    {
     "cell_type": "code",
     "collapsed": false,
     "input": [
      "b += [2]\n",
      "id(b)"
     ],
     "language": "python",
     "metadata": {},
     "outputs": [
      {
       "metadata": {},
       "output_type": "pyout",
       "prompt_number": 3,
       "text": [
        "139702380267568"
       ]
      }
     ],
     "prompt_number": 3
    },
    {
     "cell_type": "heading",
     "level": 6,
     "metadata": {},
     "source": [
      "Conclusion : pas de changement de string pour les listes apparements"
     ]
    }
   ],
   "metadata": {}
  }
 ]
}