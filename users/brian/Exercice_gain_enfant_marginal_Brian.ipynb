{
 "metadata": {
  "name": "",
  "signature": "sha256:7e11afd5ac83b5cd2f6744abe9341348f09abb6ba744fe82b5e8185ca7b3332b"
 },
 "nbformat": 3,
 "nbformat_minor": 0,
 "worksheets": [
  {
   "cells": [
    {
     "cell_type": "code",
     "collapsed": false,
     "input": [
      "%matplotlib inline\n",
      "import matplotlib.pyplot as plt\n",
      "import pylab as plt\n",
      "import numpy as np\n",
      "from openfisca_matplotlib import graphs"
     ],
     "language": "python",
     "metadata": {},
     "outputs": [],
     "prompt_number": 24
    },
    {
     "cell_type": "code",
     "collapsed": false,
     "input": [
      "from datetime import date  # Module n\u00e9cessaire pour la d\u00e9finition des dates, dont notamment les dates de naissances\n",
      "import openfisca_france    # Module d\u00e9crivant le syst\u00e8me socio-fiscal fran\u00e7ais\n",
      "\n",
      "TaxBenefitSystem = openfisca_france.init_country()  # Initialisation de la classe d\u00e9crivant le syst\u00e8me socio-fiscal fran\u00e7ais\n",
      "tax_benefit_system = TaxBenefitSystem()             # Cr\u00e9ation d'une instance du syst\u00e8me socio-fiscal fran\u00e7ais "
     ],
     "language": "python",
     "metadata": {},
     "outputs": [],
     "prompt_number": 2
    },
    {
     "cell_type": "code",
     "collapsed": false,
     "input": [
      "def couple_avec_enfants(nombre_enfants = 0, year = 2014):\n",
      "    enfant = [dict(\n",
      "        birth = date(2005, 1, 1),\n",
      "        )]\n",
      "    enfants = enfant * nombre_enfants\n",
      "    simulation = tax_benefit_system.new_scenario().init_single_entity(\n",
      "        axes = [\n",
      "            dict(\n",
      "                count = 100,\n",
      "                min = 0,\n",
      "                max = 200000 * 3,\n",
      "                name = 'sal',\n",
      "                ),\n",
      "            ],\n",
      "        period = \"{}:3\".format(year-2),\n",
      "        parent1 = dict(\n",
      "            birth = date(1980, 1, 1),\n",
      "            ),\n",
      "        parent2 = dict(\n",
      "            birth = date(1980, 1, 1)\n",
      "            ),\n",
      "        enfants = enfants,\n",
      "        menage = dict(\n",
      "            loyer = 1000,\n",
      "            so = 4,\n",
      "            ),\n",
      "        ).new_simulation(debug = True)\n",
      "    return simulation"
     ],
     "language": "python",
     "metadata": {},
     "outputs": [],
     "prompt_number": 3
    },
    {
     "cell_type": "code",
     "collapsed": false,
     "input": [
      "enfant = [dict(\n",
      "        birth = date(2005, 1, 1),\n",
      "        )]\n",
      "enfants = enfant * 2\n",
      "enfants"
     ],
     "language": "python",
     "metadata": {},
     "outputs": [
      {
       "metadata": {},
       "output_type": "pyout",
       "prompt_number": 4,
       "text": [
        "[{'birth': datetime.date(2005, 1, 1)}, {'birth': datetime.date(2005, 1, 1)}]"
       ]
      }
     ],
     "prompt_number": 4
    },
    {
     "cell_type": "code",
     "collapsed": false,
     "input": [
      "salaire_imposable_maximal = 200000"
     ],
     "language": "python",
     "metadata": {},
     "outputs": [],
     "prompt_number": 5
    },
    {
     "cell_type": "heading",
     "level": 1,
     "metadata": {},
     "source": [
      "Essai 1"
     ]
    },
    {
     "cell_type": "code",
     "collapsed": false,
     "input": [
      "year = 2011\n",
      "while (year <= 2014):\n",
      "    year = year + 1 # de 2011 \u00e0 2014\n",
      "    couple_0_enfant = couple_avec_enfants(nombre_enfants = 0, year = year)  \n",
      "    couple_1_enfant = couple_avec_enfants(nombre_enfants = 1, year = year)\n",
      "    couple_2_enfant = couple_avec_enfants(nombre_enfants = 2, year = year)\n",
      "    couple_3_enfant = couple_avec_enfants(nombre_enfants = 3, year = year)"
     ],
     "language": "python",
     "metadata": {},
     "outputs": [],
     "prompt_number": 6
    },
    {
     "cell_type": "code",
     "collapsed": false,
     "input": [
      "salaire_imposable = couple_0_enfant.calculate('sal', period = year)[:200:2]\n",
      "salaire_imposable.shape # salaire imposable est une variable associ\u00e9e \u00e0 l'entit\u00e9 individu"
     ],
     "language": "python",
     "metadata": {},
     "outputs": [
      {
       "metadata": {},
       "output_type": "pyout",
       "prompt_number": 7,
       "text": [
        "(100,)"
       ]
      }
     ],
     "prompt_number": 7
    },
    {
     "cell_type": "code",
     "collapsed": false,
     "input": [
      "revdisp0 = couple_0_enfant.calculate(\"revdisp\", period = year+1)\n",
      "revdisp1 = couple_1_enfant.calculate(\"revdisp\", period = year+1)\n",
      "revdisp2 = couple_2_enfant.calculate(\"revdisp\", period = year+1)\n",
      "revdisp3 = couple_3_enfant.calculate(\"revdisp\", period = year+1)\n",
      "type (couple_0_enfant)"
     ],
     "language": "python",
     "metadata": {},
     "outputs": [
      {
       "metadata": {},
       "output_type": "pyout",
       "prompt_number": 8,
       "text": [
        "openfisca_core.simulations.Simulation"
       ]
      }
     ],
     "prompt_number": 8
    },
    {
     "cell_type": "code",
     "collapsed": false,
     "input": [
      "fig = plt.figure()\n",
      "p0 = plt.plot(salaire_imposable, revdisp0, label = \"0 enfant\")\n",
      "p1 = plt.plot(salaire_imposable, revdisp1, label = \"1 enfant\")\n",
      "p2 = plt.plot(salaire_imposable, revdisp2, label = \"2 enfants\")\n",
      "p3 = plt.plot(salaire_imposable, revdisp3, label = \"3 enfants\")\n",
      "plt.legend(loc = 4, shadow=True, fancybox=True)"
     ],
     "language": "python",
     "metadata": {},
     "outputs": [
      {
       "metadata": {},
       "output_type": "pyout",
       "prompt_number": 9,
       "text": [
        "<matplotlib.legend.Legend at 0x7fe25ad72790>"
       ]
      },
      {
       "metadata": {},
       "output_type": "display_data",
       "png": "[encoded data removed]",
       "text": [
        "<matplotlib.figure.Figure at 0x7fe25addd3d0>"
       ]
      }
     ],
     "prompt_number": 9
    },
    {
     "cell_type": "code",
     "collapsed": false,
     "input": [
      "fig = plt.figure()\n",
      "plt.plot(salaire_imposable, revdisp1 - revdisp0, label = \"1er enfant\")\n",
      "plt.plot(salaire_imposable, revdisp2 - revdisp1, label = \"2e enfant\")\n",
      "plt.plot(salaire_imposable, revdisp3 - revdisp2, label = \"3e enfant\")\n",
      "plt.legend(loc = 4, shadow=True, fancybox=True)"
     ],
     "language": "python",
     "metadata": {},
     "outputs": [
      {
       "metadata": {},
       "output_type": "pyout",
       "prompt_number": 10,
       "text": [
        "<matplotlib.legend.Legend at 0x7fe25abdac50>"
       ]
      },
      {
       "metadata": {},
       "output_type": "display_data",
       "png": "[encoded data removed]",
       "text": [
        "<matplotlib.figure.Figure at 0x7fe25b4cbd90>"
       ]
      }
     ],
     "prompt_number": 10
    },
    {
     "cell_type": "heading",
     "level": 1,
     "metadata": {},
     "source": [
      "Essai 2"
     ]
    },
    {
     "cell_type": "code",
     "collapsed": false,
     "input": [
      "year1 = 2011\n",
      "couple_0_enfant1 = couple_avec_enfants(nombre_enfants = 0, year = year1)\n",
      "couple_1_enfant1 = couple_avec_enfants(nombre_enfants = 1, year = year1)\n",
      "couple_2_enfant1 = couple_avec_enfants(nombre_enfants = 2, year = year1)\n",
      "couple_3_enfant1 = couple_avec_enfants(nombre_enfants = 3, year = year1)"
     ],
     "language": "python",
     "metadata": {},
     "outputs": [],
     "prompt_number": 11
    },
    {
     "cell_type": "code",
     "collapsed": false,
     "input": [
      "year2 = 2012\n",
      "couple_0_enfant2 = couple_avec_enfants(nombre_enfants = 0, year = year2)\n",
      "couple_1_enfant2 = couple_avec_enfants(nombre_enfants = 1, year = year2)\n",
      "couple_2_enfant2 = couple_avec_enfants(nombre_enfants = 2, year = year2)\n",
      "couple_3_enfant2 = couple_avec_enfants(nombre_enfants = 3, year = year2)"
     ],
     "language": "python",
     "metadata": {},
     "outputs": [],
     "prompt_number": 12
    },
    {
     "cell_type": "code",
     "collapsed": false,
     "input": [
      "year3 = 2013\n",
      "couple_0_enfant3 = couple_avec_enfants(nombre_enfants = 0, year = year3)\n",
      "couple_1_enfant3 = couple_avec_enfants(nombre_enfants = 1, year = year3)\n",
      "couple_2_enfant3 = couple_avec_enfants(nombre_enfants = 2, year = year3)\n",
      "couple_3_enfant3 = couple_avec_enfants(nombre_enfants = 3, year = year3)"
     ],
     "language": "python",
     "metadata": {},
     "outputs": [],
     "prompt_number": 13
    },
    {
     "cell_type": "code",
     "collapsed": false,
     "input": [
      "year4 = 2014\n",
      "couple_0_enfant4 = couple_avec_enfants(nombre_enfants = 0, year = year4)\n",
      "couple_1_enfant4 = couple_avec_enfants(nombre_enfants = 1, year = year4)\n",
      "couple_2_enfant4 = couple_avec_enfants(nombre_enfants = 2, year = year4)\n",
      "couple_3_enfant4 = couple_avec_enfants(nombre_enfants = 3, year = year4)"
     ],
     "language": "python",
     "metadata": {},
     "outputs": [],
     "prompt_number": 14
    },
    {
     "cell_type": "code",
     "collapsed": false,
     "input": [
      "salaire_imposable = couple_0_enfant.calculate('sal', period = year)[:200:2]\n",
      "salaire_imposable.shape # salaire imposable est une variable associ\u00e9e \u00e0 l'entit\u00e9 individu\n",
      "print salaire_imposable"
     ],
     "language": "python",
     "metadata": {},
     "outputs": [
      {
       "output_type": "stream",
       "stream": "stdout",
       "text": [
        "[ 0.  0.  0.  0.  0.  0.  0.  0.  0.  0.  0.  0.  0.  0.  0.  0.  0.  0.\n",
        "  0.  0.  0.  0.  0.  0.  0.  0.  0.  0.  0.  0.  0.  0.  0.  0.  0.  0.\n",
        "  0.  0.  0.  0.  0.  0.  0.  0.  0.  0.  0.  0.  0.  0.  0.  0.  0.  0.\n",
        "  0.  0.  0.  0.  0.  0.  0.  0.  0.  0.  0.  0.  0.  0.  0.  0.  0.  0.\n",
        "  0.  0.  0.  0.  0.  0.  0.  0.  0.  0.  0.  0.  0.  0.  0.  0.  0.  0.\n",
        "  0.  0.  0.  0.  0.  0.  0.  0.  0.  0.]\n"
       ]
      }
     ],
     "prompt_number": 15
    },
    {
     "cell_type": "code",
     "collapsed": false,
     "input": [
      "revdisp0 = couple_0_enfant.calculate(\"revdisp\", period = year)\n",
      "revdisp1 = couple_1_enfant.calculate(\"revdisp\", period = year)\n",
      "revdisp2 = couple_2_enfant.calculate(\"revdisp\", period = year)\n",
      "revdisp3 = couple_3_enfant.calculate(\"revdisp\", period = year)\n",
      "type (couple_0_enfant)"
     ],
     "language": "python",
     "metadata": {},
     "outputs": [
      {
       "metadata": {},
       "output_type": "pyout",
       "prompt_number": 28,
       "text": [
        "openfisca_core.simulations.Simulation"
       ]
      }
     ],
     "prompt_number": 28
    },
    {
     "cell_type": "code",
     "collapsed": false,
     "input": [
      "fig = plt.figure()\n",
      "p0 = plt.plot(salaire_imposable, revdisp0, label = u\"0 enfant\")\n",
      "p1 = plt.plot(salaire_imposable, revdisp1, label = u\"1 enfant\")\n",
      "p2 = plt.plot(salaire_imposable, revdisp2, label = u\"2 enfants\")\n",
      "p3 = plt.plot(salaire_imposable, revdisp3, label = u\"3 enfants\")\n",
      "plt.legend(loc = 4, shadow=True, fancybox=True)"
     ],
     "language": "python",
     "metadata": {},
     "outputs": [
      {
       "metadata": {},
       "output_type": "pyout",
       "prompt_number": 27,
       "text": [
        "<matplotlib.legend.Legend at 0x7fe25919d210>"
       ]
      },
      {
       "metadata": {},
       "output_type": "display_data",
       "png": "[encoded data removed]",
       "text": [
        "<matplotlib.figure.Figure at 0x7fe25911f6d0>"
       ]
      }
     ],
     "prompt_number": 27
    },
    {
     "cell_type": "code",
     "collapsed": false,
     "input": [
      "fig = plt.figure()\n",
      "plt.plot(salaire_imposable, revdisp1 - revdisp0, label = \"1er enfant\")\n",
      "plt.plot(salaire_imposable, revdisp2 - revdisp1, label = \"2e enfant\")\n",
      "plt.plot(salaire_imposable, revdisp3 - revdisp2, label = \"3e enfant\")\n",
      "plt.legend(loc = 4, shadow=True, fancybox=True)\n",
      "plt.show()"
     ],
     "language": "python",
     "metadata": {},
     "outputs": [
      {
       "metadata": {},
       "output_type": "display_data",
       "png": "[encoded data removed]",
       "text": [
        "<matplotlib.figure.Figure at 0x7fe2592d1c50>"
       ]
      }
     ],
     "prompt_number": 25
    },
    {
     "cell_type": "code",
     "collapsed": false,
     "input": [],
     "language": "python",
     "metadata": {},
     "outputs": []
    }
   ],
   "metadata": {}
  }
 ]
}