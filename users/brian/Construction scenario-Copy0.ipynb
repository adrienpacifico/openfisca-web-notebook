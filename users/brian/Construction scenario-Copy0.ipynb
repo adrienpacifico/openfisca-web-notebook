{
 "metadata": {
  "name": "",
  "signature": "sha256:d81bbabd432cf89052d33bad4af09422c16044c7de29bd08095081b5c881c361"
 },
 "nbformat": 3,
 "nbformat_minor": 0,
 "worksheets": [
  {
   "cells": [
    {
     "cell_type": "code",
     "collapsed": false,
     "input": [],
     "language": "python",
     "metadata": {},
     "outputs": []
    }
   ],
   "metadata": {}
  }
 ]
}