{
 "metadata": {
  "name": "",
  "signature": "sha256:b5e8e34ab60283604f0c2c304a69994fbfebc8583329369fe44c3b922bb0cdc8"
 },
 "nbformat": 3,
 "nbformat_minor": 0,
 "worksheets": [
  {
   "cells": [
    {
     "cell_type": "heading",
     "level": 1,
     "metadata": {},
     "source": [
      "Quand y a t-il des gains ou pertes fiscaux lorsque l'enfant se d\u00e9tache du foyer fiscal et quitte le m\u00e9nage familial ?"
     ]
    },
    {
     "cell_type": "code",
     "collapsed": false,
     "input": [
      "%matplotlib inline \n",
      "import matplotlib.pyplot as plt\n",
      "import numpy as np\n",
      "\n",
      "import datetime\n",
      "import openfisca_france \n",
      "from openfisca_matplotlib import graphs\n",
      "from openfisca_core import periods\n",
      "\n",
      "TaxBenefitSystem = openfisca_france.init_country()  \n",
      "tax_benefit_system = TaxBenefitSystem() \n",
      "Period = periods.Period\n",
      "Instant = periods.Instant"
     ],
     "language": "python",
     "metadata": {},
     "outputs": [],
     "prompt_number": 93
    },
    {
     "cell_type": "code",
     "collapsed": false,
     "input": [
      "# Je definis ci-dessous les variables \"individus\" et \"familles\" et la liste \"variables\" avant les quatre scenarios"
     ],
     "language": "python",
     "metadata": {},
     "outputs": [],
     "prompt_number": 94
    },
    {
     "cell_type": "code",
     "collapsed": false,
     "input": [
      "individus = [ \n",
      "\n",
      "    {'id': 'ind0', u'salaire_de_base':{\n",
      "        periods.period(\"2013\"): 20000.0,\n",
      "        periods.period(\"2014\"): 20000.0,\n",
      "        }, \n",
      "        'birth': datetime.date(1960, 1, 1)\n",
      "    },\n",
      "\n",
      "    {'id': 'ind1', u'salaire_de_base': {\n",
      "        periods.period(\"2013\"): 20000.0,\n",
      "        periods.period(\"2014\"): 20000.0,\n",
      "         },\n",
      "        'birth': datetime.date(1961, 12, 1)\n",
      "    },\n",
      "\n",
      "    {'id' :'ind2',  'birth': datetime.date(2014-22, 1, 1)}\n",
      "\n",
      "    ]"
     ],
     "language": "python",
     "metadata": {},
     "outputs": [],
     "prompt_number": 95
    },
    {
     "cell_type": "code",
     "collapsed": false,
     "input": [
      "familles = [\n",
      "    {'id': 0, 'enfants': ['ind2'], 'parents': ['ind0', 'ind1']}\n",
      "    ] "
     ],
     "language": "python",
     "metadata": {},
     "outputs": [],
     "prompt_number": 96
    },
    {
     "cell_type": "code",
     "collapsed": false,
     "input": [
      "variables = [\n",
      "'sal', \n",
      "'revdisp', \n",
      "'impo', \n",
      "'tax_hab', \n",
      "'irpp', \n",
      "'iai', \n",
      "'credits_impot', \n",
      "'cehr', \n",
      "'apl', \n",
      "'als', \n",
      "'alv', \n",
      "'alf', \n",
      "'mini', \n",
      "'aspa', \n",
      "'aah', \n",
      "'caah', \n",
      "'asi', \n",
      "'aefa', \n",
      "'api', \n",
      "'ass', \n",
      "'psa', \n",
      "'rsa', \n",
      "'ars', \n",
      "'teicaa', \n",
      "'af', \n",
      "'pfam', \n",
      "'rng', \n",
      "'asf', \n",
      "'nbptr',\n",
      "] "
     ],
     "language": "python",
     "metadata": {},
     "outputs": [],
     "prompt_number": 97
    },
    {
     "cell_type": "heading",
     "level": 2,
     "metadata": {},
     "source": [
      "1/ Les quatre sc\u00e9narios"
     ]
    },
    {
     "cell_type": "heading",
     "level": 3,
     "metadata": {},
     "source": [
      "a) Scenario_m_ff "
     ]
    },
    {
     "cell_type": "code",
     "collapsed": false,
     "input": [
      "menages = [\n",
      "    {'id': 0, 'conjoint': 'ind1', 'autres': [], 'enfants': ['ind2'], 'personne_de_reference': 'ind0'}\n",
      "    ]"
     ],
     "language": "python",
     "metadata": {},
     "outputs": [],
     "prompt_number": 56
    },
    {
     "cell_type": "code",
     "collapsed": false,
     "input": [
      "foyers_fiscaux = [\n",
      "    {'id': 0, 'personnes_a_charge': ['ind2'], 'declarants': ['ind0', 'ind1']}\n",
      "    ] "
     ],
     "language": "python",
     "metadata": {},
     "outputs": [],
     "prompt_number": 57
    },
    {
     "cell_type": "code",
     "collapsed": false,
     "input": [
      "test_case_m_ff = {'individus' : individus, 'menages' : menages,'familles' : familles, 'foyers_fiscaux' : foyers_fiscaux}"
     ],
     "language": "python",
     "metadata": {},
     "outputs": [],
     "prompt_number": 58
    },
    {
     "cell_type": "code",
     "collapsed": false,
     "input": [
      "scenario_m_ff = tax_benefit_system.new_scenario()\n",
      "type(scenario_m_ff)"
     ],
     "language": "python",
     "metadata": {},
     "outputs": [
      {
       "metadata": {},
       "output_type": "pyout",
       "prompt_number": 59,
       "text": [
        "openfisca_france.scenarios.Scenario"
       ]
      }
     ],
     "prompt_number": 59
    },
    {
     "cell_type": "code",
     "collapsed": false,
     "input": [
      "scenario_m_ff.test_case = test_case_m_ff"
     ],
     "language": "python",
     "metadata": {},
     "outputs": [],
     "prompt_number": 60
    },
    {
     "cell_type": "code",
     "collapsed": false,
     "input": [
      "scenario_m_ff.period = periods.period(\"2014\")  "
     ],
     "language": "python",
     "metadata": {},
     "outputs": [],
     "prompt_number": 61
    },
    {
     "cell_type": "code",
     "collapsed": false,
     "input": [
      "simulation_m_ff = scenario_m_ff.new_simulation(debug = True , trace = True)"
     ],
     "language": "python",
     "metadata": {},
     "outputs": [],
     "prompt_number": 62
    },
    {
     "cell_type": "heading",
     "level": 3,
     "metadata": {},
     "source": [
      "b) Scenario_m_2ff"
     ]
    },
    {
     "cell_type": "code",
     "collapsed": false,
     "input": [
      "foyers_fiscaux_par = [\n",
      "    {'id': 0, 'personnes_a_charge': [], 'declarants': ['ind0', 'ind1']}\n",
      "    ]\n",
      "# Ici, je cr\u00e9e le foyer fiscal des parents (d\u00e9claration commune des parents)"
     ],
     "language": "python",
     "metadata": {},
     "outputs": [],
     "prompt_number": 63
    },
    {
     "cell_type": "code",
     "collapsed": false,
     "input": [
      "foyers_fiscaux_enf = [\n",
      "    {'id': 1, 'personnes_a_charge': [], 'declarants': ['ind2']}\n",
      "    ]\n",
      "# Ici, je cr\u00e9e le foyer fiscal du jeune gar\u00e7on qui veut devenir ind\u00e9pendant"
     ],
     "language": "python",
     "metadata": {},
     "outputs": [],
     "prompt_number": 64
    },
    {
     "cell_type": "code",
     "collapsed": false,
     "input": [
      "foyers_fiscaux_div = foyers_fiscaux_par + foyers_fiscaux_enf #fusion des deux nouveaux foyers pour \u00e9conomie dans le test_case\n",
      "# \"div\" pour \"divis\u00e9\""
     ],
     "language": "python",
     "metadata": {},
     "outputs": [],
     "prompt_number": 65
    },
    {
     "cell_type": "code",
     "collapsed": false,
     "input": [
      "test_case_m_2ff = {\n",
      "'individus' : individus, \n",
      "'menages' : menages, \n",
      "'familles' : familles, \n",
      "'foyers_fiscaux' : foyers_fiscaux_div,\n",
      "} "
     ],
     "language": "python",
     "metadata": {},
     "outputs": [],
     "prompt_number": 66
    },
    {
     "cell_type": "code",
     "collapsed": false,
     "input": [
      "scenario_m_2ff = tax_benefit_system.new_scenario()\n",
      "type(scenario_m_2ff)"
     ],
     "language": "python",
     "metadata": {},
     "outputs": [
      {
       "metadata": {},
       "output_type": "pyout",
       "prompt_number": 67,
       "text": [
        "openfisca_france.scenarios.Scenario"
       ]
      }
     ],
     "prompt_number": 67
    },
    {
     "cell_type": "code",
     "collapsed": false,
     "input": [
      "scenario_m_2ff.test_case = test_case_m_2ff "
     ],
     "language": "python",
     "metadata": {},
     "outputs": [],
     "prompt_number": 68
    },
    {
     "cell_type": "code",
     "collapsed": false,
     "input": [
      "scenario_m_2ff.period = periods.period(\"2014\")"
     ],
     "language": "python",
     "metadata": {},
     "outputs": [],
     "prompt_number": 69
    },
    {
     "cell_type": "code",
     "collapsed": false,
     "input": [
      "simulation_m_2ff = scenario_m_2ff.new_simulation(debug = True , trace = True) "
     ],
     "language": "python",
     "metadata": {},
     "outputs": [],
     "prompt_number": 70
    },
    {
     "cell_type": "heading",
     "level": 3,
     "metadata": {},
     "source": [
      "c) Scenario_2m_ff "
     ]
    },
    {
     "cell_type": "code",
     "collapsed": false,
     "input": [
      "menages_par = [\n",
      "    {'id': 0, 'conjoint': 'ind1', 'autres': [], 'enfants': [], 'personne_de_reference': 'ind0'}\n",
      "    ]\n",
      "# puisque l'enfant quitte la maison familiale pour aller \u00e9tudier, il quitte le m\u00e9nage"
     ],
     "language": "python",
     "metadata": {},
     "outputs": [],
     "prompt_number": 71
    },
    {
     "cell_type": "code",
     "collapsed": false,
     "input": [
      "menages_enf = [\n",
      "    {'id': 1, 'autres': [], 'enfants': [], 'personne_de_reference': 'ind2'}\n",
      "    ]\n",
      "# et donc il forme un nouveau m\u00e9nage"
     ],
     "language": "python",
     "metadata": {},
     "outputs": [],
     "prompt_number": 72
    },
    {
     "cell_type": "code",
     "collapsed": false,
     "input": [
      "menages_div = menages_par + menages_enf # fusion des deux m\u00e9nages pour \u00e9conomie dans le test_case"
     ],
     "language": "python",
     "metadata": {},
     "outputs": [],
     "prompt_number": 73
    },
    {
     "cell_type": "code",
     "collapsed": false,
     "input": [
      "test_case_2m_ff = {\n",
      "'individus' : individus, \n",
      "'foyers_fiscaux' : foyers_fiscaux,\n",
      "'familles' : familles, \n",
      "'menages' : menages_div,\n",
      "}  "
     ],
     "language": "python",
     "metadata": {},
     "outputs": [],
     "prompt_number": 74
    },
    {
     "cell_type": "code",
     "collapsed": false,
     "input": [
      "scenario_2m_ff = tax_benefit_system.new_scenario()\n",
      "type(scenario_2m_ff)"
     ],
     "language": "python",
     "metadata": {},
     "outputs": [
      {
       "metadata": {},
       "output_type": "pyout",
       "prompt_number": 75,
       "text": [
        "openfisca_france.scenarios.Scenario"
       ]
      }
     ],
     "prompt_number": 75
    },
    {
     "cell_type": "code",
     "collapsed": false,
     "input": [
      "scenario_2m_ff.test_case = test_case_2m_ff"
     ],
     "language": "python",
     "metadata": {},
     "outputs": [],
     "prompt_number": 76
    },
    {
     "cell_type": "code",
     "collapsed": false,
     "input": [
      "scenario_2m_ff.period = periods.period(\"2014\")"
     ],
     "language": "python",
     "metadata": {},
     "outputs": [],
     "prompt_number": 77
    },
    {
     "cell_type": "code",
     "collapsed": false,
     "input": [
      "simulation_2m_ff = scenario_2m_ff.new_simulation(debug = True , trace = True)"
     ],
     "language": "python",
     "metadata": {},
     "outputs": [],
     "prompt_number": 78
    },
    {
     "cell_type": "heading",
     "level": 3,
     "metadata": {},
     "source": [
      "d) Scenario_2m_2ff"
     ]
    },
    {
     "cell_type": "code",
     "collapsed": false,
     "input": [
      "test_case_2m_2ff = {\n",
      "'individus' : individus, \n",
      "'menages' : menages_div,\n",
      "'familles' : familles, \n",
      "'foyers_fiscaux' : foyers_fiscaux_div,\n",
      "}  "
     ],
     "language": "python",
     "metadata": {},
     "outputs": [],
     "prompt_number": 79
    },
    {
     "cell_type": "code",
     "collapsed": false,
     "input": [
      "scenario_2m_2ff = tax_benefit_system.new_scenario()\n",
      "type(scenario_2m_2ff)"
     ],
     "language": "python",
     "metadata": {},
     "outputs": [
      {
       "metadata": {},
       "output_type": "pyout",
       "prompt_number": 80,
       "text": [
        "openfisca_france.scenarios.Scenario"
       ]
      }
     ],
     "prompt_number": 80
    },
    {
     "cell_type": "code",
     "collapsed": false,
     "input": [
      "scenario_2m_2ff.test_case = test_case_2m_2ff"
     ],
     "language": "python",
     "metadata": {},
     "outputs": [],
     "prompt_number": 81
    },
    {
     "cell_type": "code",
     "collapsed": false,
     "input": [
      "scenario_2m_2ff.period = periods.period(\"2014\")"
     ],
     "language": "python",
     "metadata": {},
     "outputs": [],
     "prompt_number": 82
    },
    {
     "cell_type": "code",
     "collapsed": false,
     "input": [
      "simulation_2m_2ff = scenario_2m_2ff.new_simulation(debug = True , trace = True) "
     ],
     "language": "python",
     "metadata": {},
     "outputs": [],
     "prompt_number": 83
    },
    {
     "cell_type": "heading",
     "level": 2,
     "metadata": {},
     "source": [
      "2/ Synth\u00e8se des r\u00e9sultats"
     ]
    },
    {
     "cell_type": "code",
     "collapsed": false,
     "input": [
      "for variable in variables: \n",
      "    print variable, simulation_m_ff.calculate(variable), simulation_m_2ff.calculate(variable), simulation_2m_ff.calculate(variable), simulation_2m_2ff.calculate(variable)"
     ],
     "language": "python",
     "metadata": {},
     "outputs": [
      {
       "output_type": "stream",
       "stream": "stdout",
       "text": [
        "sal "
       ]
      },
      {
       "output_type": "stream",
       "stream": "stdout",
       "text": [
        "[ 20000.  20000.      0.] "
       ]
      },
      {
       "output_type": "stream",
       "stream": "stdout",
       "text": [
        "[ 20000.  20000.      0.] "
       ]
      },
      {
       "output_type": "stream",
       "stream": "stdout",
       "text": [
        "[ 20000.  20000.      0.] "
       ]
      },
      {
       "output_type": "stream",
       "stream": "stdout",
       "text": [
        "[ 20000.  20000.      0.]\n",
        "revdisp "
       ]
      },
      {
       "output_type": "stream",
       "stream": "stdout",
       "text": [
        "[ 47432.5390625] "
       ]
      },
      {
       "output_type": "stream",
       "stream": "stdout",
       "text": [
        "[ 45924.5390625] "
       ]
      },
      {
       "output_type": "stream",
       "stream": "stdout",
       "text": [
        "[ 47432.5390625      0.       ] "
       ]
      },
      {
       "output_type": "stream",
       "stream": "stdout",
       "text": [
        "[ 45924.5390625      0.       ]\n",
        "impo [-3653.16015625] [-5161.16015625] [-3653.16015625     0.        ] [-5161.16015625     0.        ]\n",
        "tax_hab [ 0.] [ 0.] [ 0.  0.] [ 0.  0.]\n",
        "irpp [-3653.16015625] [-5161.16015625     0.        ] [-3653.16015625] [-5161.16015625     0.        ]\n",
        "iai [ 3653.16015625] [ 5161.16015625     0.        ] [ 3653.16015625] [ 5161.16015625     0.        ]\n",
        "credits_impot [ 0.] [ 0.  0.] [ 0.] [ 0.  0.]\n",
        "cehr [ 0.] [ 0.  0.] [ 0.] [ 0.  0.]\n",
        "apl [ 0.] [ 0.] [ 0.] [ 0.]\n",
        "als [ 0.] [ 0.] [ 0.] [ 0.]\n",
        "alv [ 0.] [ 0.  0.] [ 0.] [ 0.  0.]\n",
        "alf [ 0.] [ 0.] [ 0.] [ 0.]\n",
        "mini [ 11085.69921875] [ 11085.69921875] [ 11085.69921875] [ 11085.69921875]\n",
        "aspa [ 0.] [ 0.] [ 0.] [ 0.]\n",
        "aah [ 0.  0.  0.] [ 0.  0.  0.] [ 0.  0.  0.] [ 0.  0.  0.]\n",
        "caah [ 0.  0.  0.] [ 0.  0.  0.] [ 0.  0.  0.] [ 0.  0.  0.]\n",
        "asi [ 0.] [ 0.] [ 0.] [ 0.]\n",
        "aefa [ 228.67500305] [ 228.67500305] [ 228.67500305] [ 228.67500305]\n",
        "api [ 0.] [ 0.] [ 0.] [ 0.]\n",
        "ass [ 0.] [ 0.] [ 0.] [ 0.]\n",
        "psa [ 0.] [ 0.] [ 0.] [ 0.]\n",
        "rsa [ 10857.02441406] [ 10857.02441406] [ 10857.02441406] [ 10857.02441406]\n",
        "ars [ 0.] [ 0.] [ 0.] [ 0.]\n",
        "teicaa [ 0.] [ 0.  0.] [ 0.] [ 0.  0.]\n",
        "af [ 0.] [ 0.] [ 0.] [ 0.]\n",
        "pfam [ 0.] [ 0.] [ 0.] [ 0.]\n",
        "rng [ 36000.] [ 36000.      0.] [ 36000.] [ 36000.      0.]\n",
        "asf [ 0.] [ 0.] [ 0.] [ 0.]\n",
        "nbptr [ 1.5] [ 1.  1.] [ 1.5]"
       ]
      },
      {
       "output_type": "stream",
       "stream": "stdout",
       "text": [
        " [ 1.  1.]\n"
       ]
      }
     ],
     "prompt_number": 84
    },
    {
     "cell_type": "heading",
     "level": 2,
     "metadata": {},
     "source": [
      "3/ Repr\u00e9sentations graphiques"
     ]
    },
    {
     "cell_type": "code",
     "collapsed": false,
     "input": [
      "year = 2014"
     ],
     "language": "python",
     "metadata": {},
     "outputs": [],
     "prompt_number": 85
    },
    {
     "cell_type": "code",
     "collapsed": false,
     "input": [
      "salaire_imposable = simulation_m_ff.calculate('sal', period = year)[:200:2] \n",
      "salaire_imposable.shape\n",
      "print salaire_imposable\n",
      "# dans tous les sc\u00e9narios, le salaire_imposable reste le m\u00eame."
     ],
     "language": "python",
     "metadata": {},
     "outputs": [
      {
       "output_type": "stream",
       "stream": "stdout",
       "text": [
        "[ 20000.      0.]\n"
       ]
      }
     ],
     "prompt_number": 86
    },
    {
     "cell_type": "heading",
     "level": 3,
     "metadata": {},
     "source": [
      "a) Gain en imp\u00f4ts li\u00e9 au d\u00e9tachement fiscal"
     ]
    },
    {
     "cell_type": "code",
     "collapsed": false,
     "input": [
      "impo_m_ff = simulation_m_ff.calculate(\"impo\", period = year)\n",
      "impo_2m_2ff = simulation_2m_2ff.calculate(\"impo\", period = year)\n",
      "type (simulation_m_ff) \n",
      "# on pourrait aussi calculer et repr\u00e9senter \"irpp\" \n",
      "# mais comme l'\u00e9volution de \"impo\" et \"irpp\" sont identiques, j'ai choisi de n'en repr\u00e9senter qu'une."
     ],
     "language": "python",
     "metadata": {},
     "outputs": [
      {
       "metadata": {},
       "output_type": "pyout",
       "prompt_number": 87,
       "text": [
        "openfisca_core.simulations.Simulation"
       ]
      }
     ],
     "prompt_number": 87
    },
    {
     "cell_type": "code",
     "collapsed": false,
     "input": [
      "fig = plt.figure()\n",
      "plt.plot(salaire_imposable, impo_2m_2ff - impo_m_ff, label = u\"gain en impo li\u00e9 au d\u00e9tachement fiscal\") \n",
      "#\u00a0il faut mettre un u devant les u\"cha\u00eenes de caract\u00e8res contenant des accents et autres caract\u00e8res sp\u00e9ciaux\" \n",
      "plt.legend(loc = 4, shadow=True, fancybox=True)"
     ],
     "language": "python",
     "metadata": {},
     "outputs": [
      {
       "metadata": {},
       "output_type": "pyout",
       "prompt_number": 89,
       "text": [
        "<matplotlib.legend.Legend at 0x7f55bedac710>"
       ]
      },
      {
       "metadata": {},
       "output_type": "display_data",
       "png": "[encoded data removed]",
       "text": [
        "<matplotlib.figure.Figure at 0x7f55bed32710>"
       ]
      }
     ],
     "prompt_number": 89
    },
    {
     "cell_type": "code",
     "collapsed": false,
     "input": [
      "fig = plt.figure()\n",
      "plt.plot(salaire_imposable, impo_m_ff, label = u\"impo li\u00e9 sans d\u00e9tachement fiscal\") \n",
      "plt.plot(salaire_imposable, impo_2m_2ff, label = u\"impo li\u00e9 avec d\u00e9tachement fiscal\")\n",
      "#\u00a0il faut mettre un u devant les u\"cha\u00eenes de caract\u00e8res contenant des accents et autres caract\u00e8res sp\u00e9ciaux\" \n",
      "plt.legend(loc = 4, shadow=True, fancybox=True)"
     ],
     "language": "python",
     "metadata": {},
     "outputs": []
    },
    {
     "cell_type": "heading",
     "level": 3,
     "metadata": {},
     "source": [
      "b) Gain en revenu disponible li\u00e9 au d\u00e9tachement fiscal"
     ]
    },
    {
     "cell_type": "code",
     "collapsed": false,
     "input": [
      "revdisp_m_ff = simulation_m_ff.calculate(\"revdisp\", period = year)\n",
      "revdisp_2m_2ff = simulation_2m_2ff.calculate(\"revdisp\", period = year)\n",
      "type (simulation_m_ff) "
     ],
     "language": "python",
     "metadata": {},
     "outputs": [
      {
       "metadata": {},
       "output_type": "pyout",
       "prompt_number": 90,
       "text": [
        "openfisca_core.simulations.Simulation"
       ]
      }
     ],
     "prompt_number": 90
    },
    {
     "cell_type": "code",
     "collapsed": false,
     "input": [
      "fig = plt.figure()\n",
      "plt.plot(salaire_imposable, revdisp_2m_2ff - revdisp_m_ff, label = u\"gain revdisp li\u00e9 au d\u00e9tachement fiscal\")\n",
      "plt.legend(loc = 4, shadow=True, fancybox=True)"
     ],
     "language": "python",
     "metadata": {},
     "outputs": [
      {
       "metadata": {},
       "output_type": "pyout",
       "prompt_number": 92,
       "text": [
        "<matplotlib.legend.Legend at 0x7f55bead8610>"
       ]
      },
      {
       "metadata": {},
       "output_type": "display_data",
       "png": "[encoded data removed]",
       "text": [
        "<matplotlib.figure.Figure at 0x7f55bed28b10>"
       ]
      }
     ],
     "prompt_number": 92
    }
   ],
   "metadata": {}
  }
 ]
}