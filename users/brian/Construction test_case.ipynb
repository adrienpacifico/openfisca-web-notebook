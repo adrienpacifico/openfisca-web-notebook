{
 "metadata": {
  "name": "",
  "signature": "sha256:e1a0a660015b32a81b87f1e047bc8c1d2e84952b916a15d071575fb425869fcb"
 },
 "nbformat": 3,
 "nbformat_minor": 0,
 "worksheets": [
  {
   "cells": [
    {
     "cell_type": "code",
     "collapsed": false,
     "input": [
      "%matplotlib inline "
     ],
     "language": "python",
     "metadata": {},
     "outputs": [],
     "prompt_number": 29
    },
    {
     "cell_type": "code",
     "collapsed": false,
     "input": [
      "test_case_m_f_2ff = {\n",
      "'individus' : individus, \n",
      "'menages' : menages, \n",
      "'familles' : familles, \n",
      "'foyers_fiscaux' : [(0, {'id': 0, 'personnes_a_charge': [], 'declarants_id': ['ind0', 'ind1']}), \n",
      "                    (0, {'id': 1, 'personnes_a_charge': [], 'declarants_id': ['ind2']})\n",
      "                    ]\n",
      "} "
     ],
     "language": "python",
     "metadata": {},
     "outputs": []
    },
    {
     "cell_type": "code",
     "collapsed": false,
     "input": [
      "import matplotlib.pyplot as plt\n",
      "from datetime import date "
     ],
     "language": "python",
     "metadata": {},
     "outputs": [],
     "prompt_number": 30
    },
    {
     "cell_type": "code",
     "collapsed": false,
     "input": [
      "from collections import OrderedDict"
     ],
     "language": "python",
     "metadata": {},
     "outputs": [],
     "prompt_number": 31
    },
    {
     "cell_type": "code",
     "collapsed": false,
     "input": [
      "import openfisca_france    \n",
      "TaxBenefitSystem = openfisca_france.init_country() \n",
      "tax_benefit_system = TaxBenefitSystem() "
     ],
     "language": "python",
     "metadata": {},
     "outputs": [],
     "prompt_number": 32
    },
    {
     "cell_type": "code",
     "collapsed": false,
     "input": [
      "simulation = tax_benefit_system.new_scenario().init_single_entity(\n",
      "    period = 2014,\n",
      "    parent1 = dict(\n",
      "        birth = datetime.date(1980, 1, 1),\n",
      "        salbrut = 24000,\n",
      "    )\n",
      "    ).new_simulation(debug = True)"
     ],
     "language": "python",
     "metadata": {},
     "outputs": [],
     "prompt_number": 34
    },
    {
     "cell_type": "code",
     "collapsed": false,
     "input": [
      "individus = OrderedDict([\n",
      "    ('ind0', {u'salbrut': 24000.0, 'birth': datetime.date(1960, 1, 1), 'id': 'ind0'}), \n",
      "    ('ind1', {u'salbrut': 23000.0, 'birth': datetime.date(1961, 12, 1), 'id': 'ind1'}), \n",
      "    ('ind2', {'birth': datetime.date(2005, 1, 1), 'id': 'ind2'})\n",
      "    ])\n",
      "print individus "
     ],
     "language": "python",
     "metadata": {},
     "outputs": [
      {
       "output_type": "stream",
       "stream": "stdout",
       "text": [
        "OrderedDict([('ind0', {u'salbrut': 24000.0, 'id': 'ind0', 'birth': datetime.date(1960, 1, 1)}), ('ind1', {u'salbrut': 23000.0, 'id': 'ind1', 'birth': datetime.date(1961, 12, 1)}), ('ind2', {'id': 'ind2', 'birth': datetime.date(2005, 1, 1)})])\n"
       ]
      }
     ],
     "prompt_number": 35
    },
    {
     "cell_type": "code",
     "collapsed": false,
     "input": [
      "menages = OrderedDict([\n",
      "    (0, {'conjoint': 'ind1', 'autres': [], 'enfants': ['ind2'], 'id': 0, 'personne_de_reference': 'ind0'})\n",
      "    ])\n",
      "print menages"
     ],
     "language": "python",
     "metadata": {},
     "outputs": [
      {
       "output_type": "stream",
       "stream": "stdout",
       "text": [
        "OrderedDict([(0, {'conjoint': 'ind1', 'autres': [], 'enfants': ['ind2'], 'id': 0, 'personne_de_reference': 'ind0'})])\n"
       ]
      }
     ],
     "prompt_number": 36
    },
    {
     "cell_type": "code",
     "collapsed": false,
     "input": [
      "familles = OrderedDict([\n",
      "    (0, {'enfants': ['ind2'], 'id': 0, 'parents': ['ind0', 'ind1']})\n",
      "    ])\n",
      "print familles"
     ],
     "language": "python",
     "metadata": {},
     "outputs": [
      {
       "output_type": "stream",
       "stream": "stdout",
       "text": [
        "OrderedDict([(0, {'parents': ['ind0', 'ind1'], 'enfants': ['ind2'], 'id': 0})])\n"
       ]
      }
     ],
     "prompt_number": 37
    },
    {
     "cell_type": "code",
     "collapsed": false,
     "input": [
      "foyers_fiscaux = OrderedDict([\n",
      "    (0, {'personnes_a_charge': ['ind2'], 'id': 0, 'declarants': ['ind0', 'ind1']})\n",
      "    ]) \n",
      "print foyers_fiscaux"
     ],
     "language": "python",
     "metadata": {},
     "outputs": [
      {
       "output_type": "stream",
       "stream": "stdout",
       "text": [
        "OrderedDict([(0, {'personnes_a_charge': ['ind2'], 'declarants': ['ind0', 'ind1'], 'id': 0})])\n"
       ]
      }
     ],
     "prompt_number": 38
    },
    {
     "cell_type": "code",
     "collapsed": false,
     "input": [
      "test_case = {'individus' : individus, 'menages' : menages, 'familles' : familles, 'foyers_fiscaux' : foyers_fiscaux}"
     ],
     "language": "python",
     "metadata": {},
     "outputs": [],
     "prompt_number": 39
    },
    {
     "cell_type": "code",
     "collapsed": false,
     "input": [
      "scenario = tax_benefit_system.new_scenario()\n",
      "type(scenario)"
     ],
     "language": "python",
     "metadata": {},
     "outputs": [
      {
       "metadata": {},
       "output_type": "pyout",
       "prompt_number": 40,
       "text": [
        "openfisca_france.scenarios.Scenario"
       ]
      }
     ],
     "prompt_number": 40
    },
    {
     "cell_type": "code",
     "collapsed": false,
     "input": [
      "scenario.test_case = test_case\n",
      "from openfisca_core import periods\n",
      "scenario.period = periods.period(\"2014\")"
     ],
     "language": "python",
     "metadata": {},
     "outputs": [],
     "prompt_number": 43
    },
    {
     "cell_type": "code",
     "collapsed": false,
     "input": [
      "simulation = scenario.new_simulation(debug = True)"
     ],
     "language": "python",
     "metadata": {},
     "outputs": [
      {
       "ename": "TypeError",
       "evalue": "string indices must be integers, not unicode",
       "output_type": "pyerr",
       "traceback": [
        "\u001b[0;31m---------------------------------------------------------------------------\u001b[0m\n\u001b[0;31mTypeError\u001b[0m                                 Traceback (most recent call last)",
        "\u001b[0;32m<ipython-input-59-25b5fffdec77>\u001b[0m in \u001b[0;36m<module>\u001b[0;34m()\u001b[0m\n\u001b[0;32m----> 1\u001b[0;31m \u001b[0msimulation\u001b[0m \u001b[0;34m=\u001b[0m \u001b[0mscenario\u001b[0m\u001b[0;34m.\u001b[0m\u001b[0mnew_simulation\u001b[0m\u001b[0;34m(\u001b[0m\u001b[0mdebug\u001b[0m \u001b[0;34m=\u001b[0m \u001b[0mTrue\u001b[0m\u001b[0;34m)\u001b[0m\u001b[0;34m\u001b[0m\u001b[0m\n\u001b[0m",
        "\u001b[0;32m/home/openfisca/openfisca-core/openfisca_core/scenarios.pyc\u001b[0m in \u001b[0;36mnew_simulation\u001b[0;34m(self, debug, debug_all, reference, trace)\u001b[0m\n\u001b[1;32m    309\u001b[0m             \u001b[0mtrace\u001b[0m \u001b[0;34m=\u001b[0m \u001b[0mtrace\u001b[0m\u001b[0;34m,\u001b[0m\u001b[0;34m\u001b[0m\u001b[0m\n\u001b[1;32m    310\u001b[0m             )\n\u001b[0;32m--> 311\u001b[0;31m         \u001b[0mself\u001b[0m\u001b[0;34m.\u001b[0m\u001b[0mfill_simulation\u001b[0m\u001b[0;34m(\u001b[0m\u001b[0msimulation\u001b[0m\u001b[0;34m)\u001b[0m\u001b[0;34m\u001b[0m\u001b[0m\n\u001b[0m\u001b[1;32m    312\u001b[0m         \u001b[0;32mreturn\u001b[0m \u001b[0msimulation\u001b[0m\u001b[0;34m\u001b[0m\u001b[0m\n\u001b[1;32m    313\u001b[0m \u001b[0;34m\u001b[0m\u001b[0m\n",
        "\u001b[0;32m/home/openfisca/openfisca-core/openfisca_core/scenarios.pyc\u001b[0m in \u001b[0;36mfill_simulation\u001b[0;34m(self, simulation, variables_name_to_skip)\u001b[0m\n\u001b[1;32m     89\u001b[0m         person_index_by_id = dict(\n\u001b[1;32m     90\u001b[0m             \u001b[0;34m(\u001b[0m\u001b[0mperson\u001b[0m\u001b[0;34m[\u001b[0m\u001b[0;34mu'id'\u001b[0m\u001b[0;34m]\u001b[0m\u001b[0;34m,\u001b[0m \u001b[0mperson_index\u001b[0m\u001b[0;34m)\u001b[0m\u001b[0;34m\u001b[0m\u001b[0m\n\u001b[0;32m---> 91\u001b[0;31m             \u001b[0;32mfor\u001b[0m \u001b[0mperson_index\u001b[0m\u001b[0;34m,\u001b[0m \u001b[0mperson\u001b[0m \u001b[0;32min\u001b[0m \u001b[0menumerate\u001b[0m\u001b[0;34m(\u001b[0m\u001b[0mtest_case\u001b[0m\u001b[0;34m[\u001b[0m\u001b[0mpersons\u001b[0m\u001b[0;34m.\u001b[0m\u001b[0mkey_plural\u001b[0m\u001b[0;34m]\u001b[0m\u001b[0;34m)\u001b[0m\u001b[0;34m\u001b[0m\u001b[0m\n\u001b[0m\u001b[1;32m     92\u001b[0m             )\n\u001b[1;32m     93\u001b[0m \u001b[0;34m\u001b[0m\u001b[0m\n",
        "\u001b[0;32m/home/openfisca/openfisca-core/openfisca_core/scenarios.pyc\u001b[0m in \u001b[0;36m<genexpr>\u001b[0;34m((person_index, person))\u001b[0m\n\u001b[1;32m     89\u001b[0m         person_index_by_id = dict(\n\u001b[1;32m     90\u001b[0m             \u001b[0;34m(\u001b[0m\u001b[0mperson\u001b[0m\u001b[0;34m[\u001b[0m\u001b[0;34mu'id'\u001b[0m\u001b[0;34m]\u001b[0m\u001b[0;34m,\u001b[0m \u001b[0mperson_index\u001b[0m\u001b[0;34m)\u001b[0m\u001b[0;34m\u001b[0m\u001b[0m\n\u001b[0;32m---> 91\u001b[0;31m             \u001b[0;32mfor\u001b[0m \u001b[0mperson_index\u001b[0m\u001b[0;34m,\u001b[0m \u001b[0mperson\u001b[0m \u001b[0;32min\u001b[0m \u001b[0menumerate\u001b[0m\u001b[0;34m(\u001b[0m\u001b[0mtest_case\u001b[0m\u001b[0;34m[\u001b[0m\u001b[0mpersons\u001b[0m\u001b[0;34m.\u001b[0m\u001b[0mkey_plural\u001b[0m\u001b[0;34m]\u001b[0m\u001b[0;34m)\u001b[0m\u001b[0;34m\u001b[0m\u001b[0m\n\u001b[0m\u001b[1;32m     92\u001b[0m             )\n\u001b[1;32m     93\u001b[0m \u001b[0;34m\u001b[0m\u001b[0m\n",
        "\u001b[0;31mTypeError\u001b[0m: string indices must be integers, not unicode"
       ]
      }
     ],
     "prompt_number": 59
    },
    {
     "cell_type": "code",
     "collapsed": false,
     "input": [
      "variables = ['revdisp', 'impo'] #je peux completer cette liste par toutes les variables que je veux\n",
      "for variable in variables:\n",
      "    print variable, simulation.calculate(variable)"
     ],
     "language": "python",
     "metadata": {},
     "outputs": [
      {
       "output_type": "stream",
       "stream": "stdout",
       "text": [
        "revdisp "
       ]
      },
      {
       "output_type": "stream",
       "stream": "stdout",
       "text": [
        "[ 22231.69726562]\n",
        "impo [-1515.83874512]\n"
       ]
      }
     ],
     "prompt_number": 44
    },
    {
     "cell_type": "heading",
     "level": 2,
     "metadata": {},
     "source": [
      "Part II : Scenario_3i_m_f_2ff"
     ]
    },
    {
     "cell_type": "heading",
     "level": 6,
     "metadata": {},
     "source": [
      "Le jeune gar\u00e7on d\u00e9cide de quitter le foyer fiscal de sa famille. \n",
      "\n",
      "Je construis le sc\u00e9nario  Scenario_3i_m_f_2ff :  trois individus, un m\u00e9nage, une famille, deux foyer fiscaux"
     ]
    },
    {
     "cell_type": "code",
     "collapsed": false,
     "input": [
      "individus = OrderedDict([\n",
      "    ('ind0', {u'salbrut': 24000.0, 'birth': datetime.date(1960, 1, 1), 'id': 'ind0'}), \n",
      "    ('ind1', {u'salbrut': 23000.0, 'birth': datetime.date(1961, 12, 1), 'id': 'ind1'}), \n",
      "    ('ind2', {'birth': datetime.date(2005, 1, 1), 'id': 'ind2'})\n",
      "    ])\n",
      "print individus "
     ],
     "language": "python",
     "metadata": {},
     "outputs": [
      {
       "ename": "NameError",
       "evalue": "name 'OrderedDict' is not defined",
       "output_type": "pyerr",
       "traceback": [
        "\u001b[0;31m---------------------------------------------------------------------------\u001b[0m\n\u001b[0;31mNameError\u001b[0m                                 Traceback (most recent call last)",
        "\u001b[0;32m<ipython-input-3-688777181c44>\u001b[0m in \u001b[0;36m<module>\u001b[0;34m()\u001b[0m\n\u001b[0;32m----> 1\u001b[0;31m individus = OrderedDict([\n\u001b[0m\u001b[1;32m      2\u001b[0m     \u001b[0;34m(\u001b[0m\u001b[0;34m'ind0'\u001b[0m\u001b[0;34m,\u001b[0m \u001b[0;34m{\u001b[0m\u001b[0;34mu'salbrut'\u001b[0m\u001b[0;34m:\u001b[0m \u001b[0;36m24000.0\u001b[0m\u001b[0;34m,\u001b[0m \u001b[0;34m'birth'\u001b[0m\u001b[0;34m:\u001b[0m \u001b[0mdatetime\u001b[0m\u001b[0;34m.\u001b[0m\u001b[0mdate\u001b[0m\u001b[0;34m(\u001b[0m\u001b[0;36m1960\u001b[0m\u001b[0;34m,\u001b[0m \u001b[0;36m1\u001b[0m\u001b[0;34m,\u001b[0m \u001b[0;36m1\u001b[0m\u001b[0;34m)\u001b[0m\u001b[0;34m,\u001b[0m \u001b[0;34m'id'\u001b[0m\u001b[0;34m:\u001b[0m \u001b[0;34m'ind0'\u001b[0m\u001b[0;34m}\u001b[0m\u001b[0;34m)\u001b[0m\u001b[0;34m,\u001b[0m\u001b[0;34m\u001b[0m\u001b[0m\n\u001b[1;32m      3\u001b[0m     \u001b[0;34m(\u001b[0m\u001b[0;34m'ind1'\u001b[0m\u001b[0;34m,\u001b[0m \u001b[0;34m{\u001b[0m\u001b[0;34mu'salbrut'\u001b[0m\u001b[0;34m:\u001b[0m \u001b[0;36m23000.0\u001b[0m\u001b[0;34m,\u001b[0m \u001b[0;34m'birth'\u001b[0m\u001b[0;34m:\u001b[0m \u001b[0mdatetime\u001b[0m\u001b[0;34m.\u001b[0m\u001b[0mdate\u001b[0m\u001b[0;34m(\u001b[0m\u001b[0;36m1961\u001b[0m\u001b[0;34m,\u001b[0m \u001b[0;36m12\u001b[0m\u001b[0;34m,\u001b[0m \u001b[0;36m1\u001b[0m\u001b[0;34m)\u001b[0m\u001b[0;34m,\u001b[0m \u001b[0;34m'id'\u001b[0m\u001b[0;34m:\u001b[0m \u001b[0;34m'ind1'\u001b[0m\u001b[0;34m}\u001b[0m\u001b[0;34m)\u001b[0m\u001b[0;34m,\u001b[0m\u001b[0;34m\u001b[0m\u001b[0m\n\u001b[1;32m      4\u001b[0m     \u001b[0;34m(\u001b[0m\u001b[0;34m'ind2'\u001b[0m\u001b[0;34m,\u001b[0m \u001b[0;34m{\u001b[0m\u001b[0;34m'birth'\u001b[0m\u001b[0;34m:\u001b[0m \u001b[0mdatetime\u001b[0m\u001b[0;34m.\u001b[0m\u001b[0mdate\u001b[0m\u001b[0;34m(\u001b[0m\u001b[0;36m2005\u001b[0m\u001b[0;34m,\u001b[0m \u001b[0;36m1\u001b[0m\u001b[0;34m,\u001b[0m \u001b[0;36m1\u001b[0m\u001b[0;34m)\u001b[0m\u001b[0;34m,\u001b[0m \u001b[0;34m'id'\u001b[0m\u001b[0;34m:\u001b[0m \u001b[0;34m'ind2'\u001b[0m\u001b[0;34m}\u001b[0m\u001b[0;34m)\u001b[0m\u001b[0;34m\u001b[0m\u001b[0m\n\u001b[1;32m      5\u001b[0m     ])\n",
        "\u001b[0;31mNameError\u001b[0m: name 'OrderedDict' is not defined"
       ]
      }
     ],
     "prompt_number": 3
    },
    {
     "cell_type": "code",
     "collapsed": false,
     "input": [
      "menages = OrderedDict([\n",
      "    (0, {'conjoint': 'ind1', 'autres': [], 'enfants': ['ind2'], 'id': 0, 'personne_de_reference': 'ind0'})\n",
      "    ])\n",
      "print menages"
     ],
     "language": "python",
     "metadata": {},
     "outputs": [
      {
       "output_type": "stream",
       "stream": "stdout",
       "text": [
        "OrderedDict([(0, {'conjoint': 'ind1', 'autres': [], 'enfants': ['ind2'], 'personne_de_reference': 'ind0'})])\n"
       ]
      }
     ],
     "prompt_number": 252
    },
    {
     "cell_type": "code",
     "collapsed": false,
     "input": [
      "familles = OrderedDict([\n",
      "    (0, {'enfants': ['ind2'], 'id': 0, 'parents': ['ind0', 'ind1']})\n",
      "    ])\n",
      "print familles"
     ],
     "language": "python",
     "metadata": {},
     "outputs": [
      {
       "output_type": "stream",
       "stream": "stdout",
       "text": [
        "OrderedDict([(0, {'parents': ['ind0', 'ind1'], 'enfants': ['ind2']})])\n"
       ]
      }
     ],
     "prompt_number": 253
    },
    {
     "cell_type": "code",
     "collapsed": false,
     "input": [
      "foyers_fiscaux_par = OrderedDict([\n",
      "    (0, {'personnes_a_charge': [], 'id': 0, 'declarants': ['ind0', 'ind1']})\n",
      "    ]) \n",
      "print foyers_fiscaux_par"
     ],
     "language": "python",
     "metadata": {},
     "outputs": [
      {
       "output_type": "stream",
       "stream": "stdout",
       "text": [
        "OrderedDict([(0, {'declarants': ['ind0', 'ind1']})])\n"
       ]
      }
     ],
     "prompt_number": 254
    },
    {
     "cell_type": "code",
     "collapsed": false,
     "input": [
      "foyers_fiscaux_enf = OrderedDict([\n",
      "    (0, {'personnes_a_charge': [], 'id': 0, 'declarants': ['ind2']})\n",
      "    ]) \n",
      "print foyers_fiscaux_enf"
     ],
     "language": "python",
     "metadata": {},
     "outputs": [
      {
       "output_type": "stream",
       "stream": "stdout",
       "text": [
        "OrderedDict([(0, {'declarants': ['ind2']})])\n"
       ]
      }
     ],
     "prompt_number": 255
    },
    {
     "cell_type": "heading",
     "level": 6,
     "metadata": {},
     "source": [
      "Ici, j'ai cr\u00e9\u00e9 deux foyers fiscaux : foyers_fiscaux_par pour les parents, avec deux d\u00e9clarants (sans personne \u00e0 charge) \n",
      "et foyers_fiscaux_enf pour le jeune qui d\u00e9cide de devenir progressivement autonome"
     ]
    },
    {
     "cell_type": "code",
     "collapsed": false,
     "input": [
      "liste_2ff = [foyers_fiscaux_par, foyers_fiscaux_enf]"
     ],
     "language": "python",
     "metadata": {},
     "outputs": [],
     "prompt_number": 256
    },
    {
     "cell_type": "code",
     "collapsed": false,
     "input": [
      "test_case_3i_m_f_2ff = {'individus' : individus, 'menages' : menages, 'familles' : familles,  \n",
      "             'foyers_fiscaux' : liste_2ff}"
     ],
     "language": "python",
     "metadata": {},
     "outputs": [],
     "prompt_number": 257
    },
    {
     "cell_type": "heading",
     "level": 6,
     "metadata": {},
     "source": [
      "Dans le test_case, cette fois je rajoute les deux foyers_fiscaux "
     ]
    },
    {
     "cell_type": "code",
     "collapsed": false,
     "input": [
      "scenario_3i_m_f_2ff = tax_benefit_system.new_scenario()\n",
      "type(scenario_3i_m_f_2ff)"
     ],
     "language": "python",
     "metadata": {},
     "outputs": [
      {
       "metadata": {},
       "output_type": "pyout",
       "prompt_number": 258,
       "text": [
        "openfisca_france.scenarios.Scenario"
       ]
      }
     ],
     "prompt_number": 258
    },
    {
     "cell_type": "code",
     "collapsed": false,
     "input": [
      "scenario.test_case = test_case_3i_m_f_2ff\n",
      "from openfisca_core import periods\n",
      "scenario.period = periods.period(\"2014\")"
     ],
     "language": "python",
     "metadata": {},
     "outputs": [],
     "prompt_number": 259
    },
    {
     "cell_type": "code",
     "collapsed": false,
     "input": [
      "simulation = scenario.new_simulation()"
     ],
     "language": "python",
     "metadata": {},
     "outputs": [
      {
       "ename": "AttributeError",
       "evalue": "'list' object has no attribute 'itervalues'",
       "output_type": "pyerr",
       "traceback": [
        "\u001b[0;31m---------------------------------------------------------------------------\u001b[0m\n\u001b[0;31mAttributeError\u001b[0m                            Traceback (most recent call last)",
        "\u001b[0;32m<ipython-input-260-011549bf84b4>\u001b[0m in \u001b[0;36m<module>\u001b[0;34m()\u001b[0m\n\u001b[0;32m----> 1\u001b[0;31m \u001b[0msimulation\u001b[0m \u001b[0;34m=\u001b[0m \u001b[0mscenario\u001b[0m\u001b[0;34m.\u001b[0m\u001b[0mnew_simulation\u001b[0m\u001b[0;34m(\u001b[0m\u001b[0;34m)\u001b[0m\u001b[0;34m\u001b[0m\u001b[0m\n\u001b[0m",
        "\u001b[0;32m/home/openfisca/openfisca-core/openfisca_core/scenarios.pyc\u001b[0m in \u001b[0;36mnew_simulation\u001b[0;34m(self, debug, debug_all, reference, trace)\u001b[0m\n\u001b[1;32m    360\u001b[0m             \u001b[0mtrace\u001b[0m \u001b[0;34m=\u001b[0m \u001b[0mtrace\u001b[0m\u001b[0;34m,\u001b[0m\u001b[0;34m\u001b[0m\u001b[0m\n\u001b[1;32m    361\u001b[0m             )\n\u001b[0;32m--> 362\u001b[0;31m         \u001b[0mself\u001b[0m\u001b[0;34m.\u001b[0m\u001b[0mfill_simulation\u001b[0m\u001b[0;34m(\u001b[0m\u001b[0msimulation\u001b[0m\u001b[0;34m)\u001b[0m\u001b[0;34m\u001b[0m\u001b[0m\n\u001b[0m\u001b[1;32m    363\u001b[0m         \u001b[0;32mreturn\u001b[0m \u001b[0msimulation\u001b[0m\u001b[0;34m\u001b[0m\u001b[0m\n\u001b[1;32m    364\u001b[0m \u001b[0;34m\u001b[0m\u001b[0m\n",
        "\u001b[0;32m/home/openfisca/openfisca-core/openfisca_core/scenarios.pyc\u001b[0m in \u001b[0;36mfill_simulation\u001b[0;34m(self, simulation, variables_name_to_skip)\u001b[0m\n\u001b[1;32m     99\u001b[0m             persons.get_or_new_holder(entity.role_for_person_variable_name).array = person_entity_role_array = np.empty(\n\u001b[1;32m    100\u001b[0m                 steps_count * persons.step_size, dtype = column_by_name[entity.role_for_person_variable_name].dtype)\n\u001b[0;32m--> 101\u001b[0;31m             \u001b[0;32mfor\u001b[0m \u001b[0mmember_index\u001b[0m\u001b[0;34m,\u001b[0m \u001b[0mmember\u001b[0m \u001b[0;32min\u001b[0m \u001b[0menumerate\u001b[0m\u001b[0;34m(\u001b[0m\u001b[0mtest_case\u001b[0m\u001b[0;34m[\u001b[0m\u001b[0mentity_key_plural\u001b[0m\u001b[0;34m]\u001b[0m\u001b[0;34m.\u001b[0m\u001b[0mitervalues\u001b[0m\u001b[0;34m(\u001b[0m\u001b[0;34m)\u001b[0m\u001b[0;34m)\u001b[0m\u001b[0;34m:\u001b[0m\u001b[0;34m\u001b[0m\u001b[0m\n\u001b[0m\u001b[1;32m    102\u001b[0m                 \u001b[0;32mfor\u001b[0m \u001b[0mperson_role\u001b[0m\u001b[0;34m,\u001b[0m \u001b[0mperson_id\u001b[0m \u001b[0;32min\u001b[0m \u001b[0mentity\u001b[0m\u001b[0;34m.\u001b[0m\u001b[0miter_member_persons_role_and_id\u001b[0m\u001b[0;34m(\u001b[0m\u001b[0mmember\u001b[0m\u001b[0;34m)\u001b[0m\u001b[0;34m:\u001b[0m\u001b[0;34m\u001b[0m\u001b[0m\n\u001b[1;32m    103\u001b[0m                     \u001b[0mperson_index\u001b[0m \u001b[0;34m=\u001b[0m \u001b[0mperson_index_by_id\u001b[0m\u001b[0;34m[\u001b[0m\u001b[0mperson_id\u001b[0m\u001b[0;34m]\u001b[0m\u001b[0;34m\u001b[0m\u001b[0m\n",
        "\u001b[0;31mAttributeError\u001b[0m: 'list' object has no attribute 'itervalues'"
       ]
      }
     ],
     "prompt_number": 260
    },
    {
     "cell_type": "code",
     "collapsed": false,
     "input": [
      "variables = ['revdisp', 'impo'] #je peux completer cette liste par toutes les variables que je veux\n",
      "for variable in variables:\n",
      "    print variable, simulation.calculate(variable)"
     ],
     "language": "python",
     "metadata": {},
     "outputs": [
      {
       "output_type": "stream",
       "stream": "stdout",
       "text": [
        "revdisp [ 41352.609375]\n",
        "impo [-4907.14355469]\n"
       ]
      }
     ],
     "prompt_number": 235
    },
    {
     "cell_type": "heading",
     "level": 6,
     "metadata": {},
     "source": [
      "Conclusion : perte ou gain fiscal ?"
     ]
    },
    {
     "cell_type": "code",
     "collapsed": false,
     "input": [],
     "language": "python",
     "metadata": {},
     "outputs": []
    },
    {
     "cell_type": "code",
     "collapsed": false,
     "input": [],
     "language": "python",
     "metadata": {},
     "outputs": []
    },
    {
     "cell_type": "code",
     "collapsed": false,
     "input": [],
     "language": "python",
     "metadata": {},
     "outputs": []
    },
    {
     "cell_type": "heading",
     "level": 2,
     "metadata": {},
     "source": [
      "Scenario_3i_2m_f_2ff : trois individus, deux m\u00e9nages, une famille, deux foyer fiscaux"
     ]
    },
    {
     "cell_type": "heading",
     "level": 6,
     "metadata": {},
     "source": [
      "Et maintenant le jeune gar\u00e7on part faire ses \u00e9tudes dans une autre ville. Je cr\u00e9\u00e9 le sc\u00e9nario "
     ]
    },
    {
     "cell_type": "code",
     "collapsed": false,
     "input": [
      "individus = OrderedDict([\n",
      "    ('ind0', {u'salbrut': 24000.0, 'birth': datetime.date(1960, 1, 1)}), \n",
      "    ('ind1', {u'salbrut': 23000.0, 'birth': datetime.date(1961, 12, 1)}), \n",
      "    ('ind2', {'birth': datetime.date(2005, 1, 1)})\n",
      "    ])\n",
      "print individus "
     ],
     "language": "python",
     "metadata": {},
     "outputs": []
    },
    {
     "cell_type": "code",
     "collapsed": false,
     "input": [
      "menages_par = OrderedDict([\n",
      "    (0, {'conjoint': 'ind1', 'autres': [], 'enfants': [], 'personne_de_reference': 'ind0'})\n",
      "    ])\n",
      "print menages_par"
     ],
     "language": "python",
     "metadata": {},
     "outputs": []
    },
    {
     "cell_type": "code",
     "collapsed": false,
     "input": [
      "menages_enf = OrderedDict([\n",
      "    (0, {'conjoint': [], 'autres': [], 'enfants': [], 'personne_de_reference': 'ind2'})\n",
      "    ])\n",
      "print menages_enf"
     ],
     "language": "python",
     "metadata": {},
     "outputs": []
    },
    {
     "cell_type": "heading",
     "level": 6,
     "metadata": {},
     "source": [
      "Ici, je cr\u00e9\u00e9 deux m\u00e9nages car le jeune a d\u00e9cid\u00e9 de devenir enti\u00e8rement autonome : il a quitt\u00e9 le foyer fiscal dans le sc\u00e9nario 2\n",
      "    et maintenant il quitte aussi le m\u00e9nage familial"
     ]
    },
    {
     "cell_type": "code",
     "collapsed": false,
     "input": [
      "familles = OrderedDict([\n",
      "    (0, {'enfants': ['ind2'], 'parents': ['ind0', 'ind1']})\n",
      "    ])\n",
      "print familles"
     ],
     "language": "python",
     "metadata": {},
     "outputs": []
    },
    {
     "cell_type": "code",
     "collapsed": false,
     "input": [
      "foyers_fiscaux_par = OrderedDict([\n",
      "    (0, {'personnes_a_charge': [], 'declarants': ['ind0', 'ind1']})\n",
      "    ]) \n",
      "print foyers_fiscaux_par"
     ],
     "language": "python",
     "metadata": {},
     "outputs": []
    },
    {
     "cell_type": "code",
     "collapsed": false,
     "input": [
      "foyers_fiscaux_enf = OrderedDict([\n",
      "    (0, {'personnes_a_charge': [], 'declarants': ['ind2']})\n",
      "    ]) \n",
      "print foyers_fiscaux_enf"
     ],
     "language": "python",
     "metadata": {},
     "outputs": []
    },
    {
     "cell_type": "heading",
     "level": 6,
     "metadata": {},
     "source": [
      "toujours deux foyers fiscaux"
     ]
    },
    {
     "cell_type": "heading",
     "level": 6,
     "metadata": {},
     "source": [
      "Je cr\u00e9\u00e9 une liste ou pas ? je sais pas encore..."
     ]
    },
    {
     "cell_type": "code",
     "collapsed": false,
     "input": [
      "test_case_3i_2m_f_2ff = {'individus' : individus, 'menages' : ['menages_par', 'menages_enf'], 'familles' : familles, \n",
      "             'foyers_fiscaux' : ['foyers_fiscaux_par', 'foyers_fiscaux_enf']}"
     ],
     "language": "python",
     "metadata": {},
     "outputs": []
    },
    {
     "cell_type": "code",
     "collapsed": false,
     "input": [
      "scenario_3i_2m_f_2ff = tax_benefit_system.new_scenario()\n",
      "type(scenario_3i_2m_f_2ff)"
     ],
     "language": "python",
     "metadata": {},
     "outputs": []
    },
    {
     "cell_type": "code",
     "collapsed": false,
     "input": [
      "scenario.test_case = test_case_3i_2m_f_2ff\n",
      "from openfisca_core import periods\n",
      "scenario.period = periods.period(\"2014\")"
     ],
     "language": "python",
     "metadata": {},
     "outputs": []
    },
    {
     "cell_type": "code",
     "collapsed": false,
     "input": [
      "simulation = scenario.new_simulation()"
     ],
     "language": "python",
     "metadata": {},
     "outputs": []
    },
    {
     "cell_type": "code",
     "collapsed": false,
     "input": [
      "variables = ['revdisp', 'impo'] #je peux completer cette liste par toutes les variables que je veux\n",
      "for variable in variables:\n",
      "    print variable, simulation.calculate(variable)"
     ],
     "language": "python",
     "metadata": {},
     "outputs": []
    },
    {
     "cell_type": "heading",
     "level": 6,
     "metadata": {},
     "source": [
      "Conclusion : perte ou gain fiscal ?"
     ]
    },
    {
     "cell_type": "code",
     "collapsed": false,
     "input": [],
     "language": "python",
     "metadata": {},
     "outputs": []
    },
    {
     "cell_type": "code",
     "collapsed": false,
     "input": [],
     "language": "python",
     "metadata": {},
     "outputs": []
    },
    {
     "cell_type": "code",
     "collapsed": false,
     "input": [],
     "language": "python",
     "metadata": {},
     "outputs": []
    }
   ],
   "metadata": {}
  }
 ]
}