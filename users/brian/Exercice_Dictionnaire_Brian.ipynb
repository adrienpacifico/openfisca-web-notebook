{
 "metadata": {
  "name": "",
  "signature": "sha256:fc4c19d229ef810459e7ff963d77a88d9e460c0d1dd01d3536827470cf2c9d2d"
 },
 "nbformat": 3,
 "nbformat_minor": 0,
 "worksheets": [
  {
   "cells": [
    {
     "cell_type": "heading",
     "level": 1,
     "metadata": {},
     "source": [
      "Sur les avantages familiaux"
     ]
    },
    {
     "cell_type": "code",
     "collapsed": false,
     "input": [
      "%matplotlib inline\n",
      "import matplotlib.pyplot as plt\n",
      "from openfisca_matplotlib import graphs"
     ],
     "language": "python",
     "metadata": {},
     "outputs": []
    },
    {
     "cell_type": "code",
     "collapsed": false,
     "input": [
      "from datetime import date  # module n\u00e9cessaire pour la d\u00e9finition des dates, dont notamment les dates de naissances\n",
      "import openfisca_france    # module d\u00e9crivant le syst\u00e8me socio-fiscal fran\u00e7ais\n",
      "\n",
      "TaxBenefitSystem = openfisca_france.init_country()  # Initialisation de la classe d\u00e9crivant le syst\u00e8me socio-fiscal fran\u00e7ais\n",
      "tax_benefit_system = TaxBenefitSystem()  # Cr\u00e9ation d'une instance du syst\u00e8me socio-fiscal fran\u00e7ais "
     ],
     "language": "python",
     "metadata": {
      "slideshow": {
       "slide_type": "slide"
      }
     },
     "outputs": []
    },
    {
     "cell_type": "code",
     "collapsed": false,
     "input": [
      "salaire_imposable_maximal = 80000"
     ],
     "language": "python",
     "metadata": {},
     "outputs": []
    },
    {
     "cell_type": "code",
     "collapsed": false,
     "input": [
      "def couple_avec_enfants(nombre_enfants = 0, year = 2014):\n",
      "    enfant = [dict(\n",
      "        birth = date(2005, 1, 1),\n",
      "        )]\n",
      "    enfants = enfant * nombre_enfants\n",
      "    simulation = tax_benefit_system.new_scenario().init_single_entity(\n",
      "        axes = [\n",
      "            dict(\n",
      "                count = 100,\n",
      "                min = 0,\n",
      "                max = salaire_imposable_maximal * 3,\n",
      "                name = 'sal',\n",
      "                ),\n",
      "            ],\n",
      "        period = \"{}:3\".format(year-2),\n",
      "        parent1 = dict(\n",
      "            birth = date(1980, 1, 1),\n",
      "            ),\n",
      "        parent2 = dict(\n",
      "            birth = date(1980, 1, 1)\n",
      "            ),\n",
      "        enfants = enfants,\n",
      "        menage = dict(\n",
      "            loyer = 1000 * 3,\n",
      "            so = 4,\n",
      "            ),\n",
      "        ).new_simulation(debug = True)\n",
      "    return simulation"
     ],
     "language": "python",
     "metadata": {},
     "outputs": []
    },
    {
     "cell_type": "heading",
     "level": 2,
     "metadata": {},
     "source": [
      "Gain li\u00e9 \u00e0 l'enfant marginal"
     ]
    },
    {
     "cell_type": "code",
     "collapsed": false,
     "input": [
      "def gain_enfant_marginal(rang_enfant, year = 2014):\n",
      "    assert rang_enfant >= 1\n",
      "    situation_initiale = couple_avec_enfants(rang_enfant-1, year)\n",
      "    situation_finale = couple_avec_enfants(rang_enfant, year)\n",
      "    revdisp_initial = situation_initiale.calculate(\"revdisp\", period = year)\n",
      "    revdisp_final = situation_finale.calculate(\"revdisp\", period = year)\n",
      "    return revdisp_final - revdisp_initial"
     ],
     "language": "python",
     "metadata": {},
     "outputs": []
    },
    {
     "cell_type": "code",
     "collapsed": false,
     "input": [
      "couple_0_enfant = couple_avec_enfants(nombre_enfants = 0)\n",
      "salaire_imposable = couple_0_enfant.calculate('sal', period = 2014)[:200:2] \n",
      "#\u00a0salaire imposable est une variable associ\u00e9e \u00e0 l'entit\u00e9 individu"
     ],
     "language": "python",
     "metadata": {},
     "outputs": []
    },
    {
     "cell_type": "code",
     "collapsed": false,
     "input": [
      "gain_margin_1_by_year = dict()\n",
      "for year in range(2010, 2015):\n",
      "    gain_margin_1_by_year[year] = gain_enfant_marginal(1, year = year)"
     ],
     "language": "python",
     "metadata": {},
     "outputs": []
    },
    {
     "cell_type": "code",
     "collapsed": false,
     "input": [
      "gain_margin_2_by_year = dict()\n",
      "for year in range(2010, 2015):\n",
      "    gain_margin_2_by_year[year] = gain_enfant_marginal(2, year = year)"
     ],
     "language": "python",
     "metadata": {},
     "outputs": []
    },
    {
     "cell_type": "code",
     "collapsed": false,
     "input": [
      "gain_margin_3_by_year = dict()\n",
      "for year in range(2010, 2015):\n",
      "    gain_margin_3_by_year[year] = gain_enfant_marginal(3, year = year)"
     ],
     "language": "python",
     "metadata": {},
     "outputs": []
    },
    {
     "cell_type": "code",
     "collapsed": false,
     "input": [
      "liste_des_gains_marginaux = [gain_by_year_margin_0_1, gain_by_year_margin_0_2, gain_by_year_margin_0_3]\n",
      "liste_des_gains_marginaux"
     ],
     "language": "python",
     "metadata": {},
     "outputs": []
    },
    {
     "cell_type": "code",
     "collapsed": false,
     "input": [
      "gains_marginaux = dict()\n",
      "for rang_enfant in range (1,4):\n",
      "    for year in range (2010,2015):\n",
      "        gains_marginaux[rang_enfant, year]= gain_enfant_marginal(rang_enfant, year = year)\n",
      "    print gains_marginaux"
     ],
     "language": "python",
     "metadata": {},
     "outputs": []
    }
   ],
   "metadata": {}
  }
 ]
}