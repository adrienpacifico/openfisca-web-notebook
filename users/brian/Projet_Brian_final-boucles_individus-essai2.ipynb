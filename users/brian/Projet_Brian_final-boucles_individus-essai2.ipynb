{
 "metadata": {
  "name": "",
  "signature": "sha256:b2c2eb8c4ec0076e789cb6cd2238055c51d1b85a7baa8c0e406533848fdb2709"
 },
 "nbformat": 3,
 "nbformat_minor": 0,
 "worksheets": [
  {
   "cells": [
    {
     "cell_type": "heading",
     "level": 1,
     "metadata": {},
     "source": [
      "Quand y a t-il des gains ou pertes fiscaux lorsque l'enfant se d\u00e9tache du foyer fiscal et quitte le m\u00e9nage familial ?"
     ]
    },
    {
     "cell_type": "heading",
     "level": 1,
     "metadata": {},
     "source": [
      "Plan"
     ]
    },
    {
     "cell_type": "markdown",
     "metadata": {},
     "source": [
      "1. Importation, d\u00e9finition variables\n",
      "2. Scenario_m_ff\n",
      "3. Scenario_2m_2ff\n",
      "4. R\u00e9sultats\n",
      "5. Tableaux\n",
      "6. Graphiques\n",
      "    * Gain en Irpp li\u00e9 au d\u00e9tachement fiscal\n",
      "    * Gain en Revdisp li\u00e9 au d\u00e9tachement fiscal\n",
      "7. Commentaires"
     ]
    },
    {
     "cell_type": "heading",
     "level": 1,
     "metadata": {},
     "source": [
      "1. Importation, d\u00e9finition variables"
     ]
    },
    {
     "cell_type": "code",
     "collapsed": false,
     "input": [
      "%matplotlib inline \n",
      "import matplotlib.pyplot as plt\n",
      "import numpy as np\n",
      "import pandas as pd\n",
      "\n",
      "import datetime\n",
      "import openfisca_france \n",
      "from openfisca_matplotlib import graphs\n",
      "from openfisca_core import periods\n",
      "\n",
      "TaxBenefitSystem = openfisca_france.init_country()  \n",
      "tax_benefit_system = TaxBenefitSystem() \n",
      "Period = periods.Period\n",
      "Instant = periods.Instant"
     ],
     "language": "python",
     "metadata": {},
     "outputs": [],
     "prompt_number": 1
    },
    {
     "cell_type": "code",
     "collapsed": false,
     "input": [
      "variables = [\n",
      "'sal', \n",
      "'revdisp', \n",
      "'impo', \n",
      "'tax_hab', \n",
      "'irpp', \n",
      "'iai', \n",
      "'credits_impot', \n",
      "'cehr', \n",
      "'apl', \n",
      "'als', \n",
      "'alv', \n",
      "'alf', \n",
      "'mini', \n",
      "'aspa', \n",
      "'aah', \n",
      "'caah', \n",
      "'asi', \n",
      "'aefa', \n",
      "'api', \n",
      "'ass', \n",
      "'psa', \n",
      "'rsa', \n",
      "'ars', \n",
      "'teicaa', \n",
      "'af', \n",
      "'pfam', \n",
      "'rng', \n",
      "'asf', \n",
      "'nbptr',\n",
      "] "
     ],
     "language": "python",
     "metadata": {},
     "outputs": [],
     "prompt_number": 2
    },
    {
     "cell_type": "code",
     "collapsed": false,
     "input": [
      "individus1 = [ \n",
      "\n",
      "    {'id' :'ind0',  'birth': datetime.date(2014-22, 1, 1)},\n",
      "\n",
      "    {'id': 'ind1', u'salaire_de_base':{\n",
      "        Period((u'year', Instant((2013, 1, 1)), 1)): 30000.0,\n",
      "        Period((u'year', Instant((2014, 1, 1)), 1)): 30000.0,\n",
      "        }, \n",
      "        'birth': datetime.date(1960, 1, 1)},\n",
      "\n",
      "    {'id': 'ind2', u'salaire_de_base': {\n",
      "        Period((u'year', Instant((2013, 1, 1)), 1)): 30000.0,\n",
      "        Period((u'year', Instant((2014, 1, 1)), 1)): 30000.0,\n",
      "         },\n",
      "        'birth': datetime.date(1961, 12, 1)},\n",
      "]"
     ],
     "language": "python",
     "metadata": {},
     "outputs": [],
     "prompt_number": 3
    },
    {
     "cell_type": "code",
     "collapsed": false,
     "input": [
      "individus2 = [ \n",
      "\n",
      "    {'id' :'ind5',  'birth': datetime.date(2014-22, 1, 1)},\n",
      "\n",
      "    {'id': 'ind3', u'salaire_de_base':{\n",
      "        Period((u'year', Instant((2013, 1, 1)), 1)): 60000.0,\n",
      "        Period((u'year', Instant((2014, 1, 1)), 1)): 60000.0,\n",
      "        }, \n",
      "        'birth': datetime.date(1960, 1, 1)},\n",
      "\n",
      "    {'id': 'ind4', u'salaire_de_base': {\n",
      "        Period((u'year', Instant((2013, 1, 1)), 1)): 60000.0,\n",
      "        Period((u'year', Instant((2014, 1, 1)), 1)): 60000.0,\n",
      "         },\n",
      "        'birth': datetime.date(1961, 12, 1)},\n",
      "]"
     ],
     "language": "python",
     "metadata": {},
     "outputs": [],
     "prompt_number": 4
    },
    {
     "cell_type": "code",
     "collapsed": false,
     "input": [
      "liste_individus = individus1 + individus2"
     ],
     "language": "python",
     "metadata": {},
     "outputs": [],
     "prompt_number": 5
    },
    {
     "cell_type": "code",
     "collapsed": false,
     "input": [
      "familles1 = [\n",
      "    {'id': 0, 'enfants': ['ind0'], 'parents': ['ind1', 'ind2']}\n",
      "    ] "
     ],
     "language": "python",
     "metadata": {},
     "outputs": [],
     "prompt_number": 6
    },
    {
     "cell_type": "code",
     "collapsed": false,
     "input": [
      "familles2 = [\n",
      "    {'id': 1, 'enfants': ['ind5'], 'parents': ['ind1', 'ind2']}\n",
      "    ]"
     ],
     "language": "python",
     "metadata": {},
     "outputs": [],
     "prompt_number": 7
    },
    {
     "cell_type": "code",
     "collapsed": false,
     "input": [
      "liste_familles = familles1 + familles2"
     ],
     "language": "python",
     "metadata": {},
     "outputs": [],
     "prompt_number": 8
    },
    {
     "cell_type": "heading",
     "level": 1,
     "metadata": {},
     "source": [
      "2. Scenario_m_ff "
     ]
    },
    {
     "cell_type": "heading",
     "level": 4,
     "metadata": {},
     "source": [
      "L'enfant est avec ses parents. Je construis le scenario_m_ff : trois individus, une famille, un m\u00e9nage, un foyer fiscal."
     ]
    },
    {
     "cell_type": "code",
     "collapsed": false,
     "input": [
      "menages1 = [\n",
      "        {'id': 0, 'conjoint': 'ind0', 'autres': [], 'enfants': ['ind0'], 'personne_de_reference': 'ind1'}\n",
      "        ]"
     ],
     "language": "python",
     "metadata": {},
     "outputs": [],
     "prompt_number": 9
    },
    {
     "cell_type": "code",
     "collapsed": false,
     "input": [
      "menages2 = [\n",
      "        {'id': 1, 'conjoint': 'ind3', 'autres': [], 'enfants': ['ind5'], 'personne_de_reference': 'ind4'}\n",
      "        ]"
     ],
     "language": "python",
     "metadata": {},
     "outputs": [],
     "prompt_number": 10
    },
    {
     "cell_type": "code",
     "collapsed": false,
     "input": [
      "liste_menages = menages1 + menages2"
     ],
     "language": "python",
     "metadata": {},
     "outputs": [],
     "prompt_number": 11
    },
    {
     "cell_type": "code",
     "collapsed": false,
     "input": [
      "foyers_fiscaux1 = [\n",
      "        {'id': 0, 'personnes_a_charge': ['ind0'], 'declarants': ['ind1', 'ind2']}\n",
      "        ]"
     ],
     "language": "python",
     "metadata": {},
     "outputs": [],
     "prompt_number": 12
    },
    {
     "cell_type": "code",
     "collapsed": false,
     "input": [
      "foyers_fiscaux2 = [\n",
      "        {'id': 1, 'personnes_a_charge': ['ind5'], 'declarants': ['ind3', 'ind4']}\n",
      "        ]"
     ],
     "language": "python",
     "metadata": {},
     "outputs": [],
     "prompt_number": 13
    },
    {
     "cell_type": "code",
     "collapsed": false,
     "input": [
      "liste_foyers_fiscaux = foyers_fiscaux1 + foyers_fiscaux2"
     ],
     "language": "python",
     "metadata": {},
     "outputs": [],
     "prompt_number": 14
    },
    {
     "cell_type": "code",
     "collapsed": false,
     "input": [
      "test_case_m_ff = {\n",
      "'individus' : liste_individus, \n",
      "'menages' : liste_menages,\n",
      "'familles' : liste_familles, \n",
      "'foyers_fiscaux' : liste_foyers_fiscaux,\n",
      "}"
     ],
     "language": "python",
     "metadata": {},
     "outputs": [],
     "prompt_number": 15
    },
    {
     "cell_type": "code",
     "collapsed": false,
     "input": [
      "scenario_m_ff = tax_benefit_system.new_scenario()\n",
      "type(scenario_m_ff)"
     ],
     "language": "python",
     "metadata": {},
     "outputs": [
      {
       "metadata": {},
       "output_type": "pyout",
       "prompt_number": 16,
       "text": [
        "openfisca_france.scenarios.Scenario"
       ]
      }
     ],
     "prompt_number": 16
    },
    {
     "cell_type": "code",
     "collapsed": false,
     "input": [
      "scenario_m_ff.test_case = test_case_m_ff"
     ],
     "language": "python",
     "metadata": {},
     "outputs": [],
     "prompt_number": 17
    },
    {
     "cell_type": "code",
     "collapsed": false,
     "input": [
      "for year in range(2013,2015):\n",
      "    scenario_m_ff.period = periods.period(year)"
     ],
     "language": "python",
     "metadata": {},
     "outputs": [],
     "prompt_number": 18
    },
    {
     "cell_type": "code",
     "collapsed": false,
     "input": [
      "simulation_m_ff = scenario_m_ff.new_simulation(debug = True , trace = True)"
     ],
     "language": "python",
     "metadata": {},
     "outputs": [],
     "prompt_number": 19
    },
    {
     "cell_type": "heading",
     "level": 1,
     "metadata": {},
     "source": [
      "3. Scenario_2m_2ff"
     ]
    },
    {
     "cell_type": "heading",
     "level": 4,
     "metadata": {},
     "source": [
      "L'enfant quitte le m\u00e9nage et le foyer fiscal de ses parents. Je construis le scenario_2m_2ff : trois individus, une famille, deux m\u00e9nages, deux foyerx fiscaux."
     ]
    },
    {
     "cell_type": "code",
     "collapsed": false,
     "input": [
      "foyers_fiscaux_par1 = [\n",
      "    {'id': 0, 'personnes_a_charge': [], 'declarants': ['ind0', 'ind1']}\n",
      "    ]\n",
      "# Ici, je cr\u00e9e le foyer fiscal des parents (d\u00e9claration commune des parents)"
     ],
     "language": "python",
     "metadata": {},
     "outputs": [],
     "prompt_number": 20
    },
    {
     "cell_type": "code",
     "collapsed": false,
     "input": [
      "foyers_fiscaux_enf1 = [\n",
      "    {'id': 1, 'personnes_a_charge': [], 'declarants': ['ind2']}\n",
      "    ]\n",
      "# Ici, je cr\u00e9e le foyer fiscal du jeune gar\u00e7on qui veut devenir ind\u00e9pendant"
     ],
     "language": "python",
     "metadata": {},
     "outputs": [],
     "prompt_number": 21
    },
    {
     "cell_type": "code",
     "collapsed": false,
     "input": [
      "foyers_fiscaux_div1 = foyers_fiscaux_par1 + foyers_fiscaux_enf1 #fusion des deux nouveaux foyers pour \u00e9conomie dans le test_case\n",
      "# \"div\" pour \"divis\u00e9\""
     ],
     "language": "python",
     "metadata": {},
     "outputs": [],
     "prompt_number": 22
    },
    {
     "cell_type": "code",
     "collapsed": false,
     "input": [
      "foyers_fiscaux_par2 = [\n",
      "    {'id': 2, 'personnes_a_charge': [], 'declarants': ['ind3', 'ind4']}\n",
      "    ]"
     ],
     "language": "python",
     "metadata": {},
     "outputs": [],
     "prompt_number": 24
    },
    {
     "cell_type": "code",
     "collapsed": false,
     "input": [
      "foyers_fiscaux_enf2 = [\n",
      "    {'id': 3, 'personnes_a_charge': [], 'declarants': ['ind5']}\n",
      "    ]\n",
      "# Ici, je cr\u00e9e le foyer fiscal du jeune gar\u00e7on qui veut devenir ind\u00e9pendant"
     ],
     "language": "python",
     "metadata": {},
     "outputs": [],
     "prompt_number": 25
    },
    {
     "cell_type": "code",
     "collapsed": false,
     "input": [
      "foyers_fiscaux_div2 = foyers_fiscaux_par2 + foyers_fiscaux_enf2"
     ],
     "language": "python",
     "metadata": {},
     "outputs": [],
     "prompt_number": 26
    },
    {
     "cell_type": "code",
     "collapsed": false,
     "input": [
      "liste_foyers_fiscaux_2m_2ff = foyers_fiscaux_div1 + foyers_fiscaux_div2"
     ],
     "language": "python",
     "metadata": {},
     "outputs": [],
     "prompt_number": 27
    },
    {
     "cell_type": "code",
     "collapsed": false,
     "input": [
      "menages_par1 = [\n",
      "    {'id': 0, 'conjoint': 'ind1', 'autres': [], 'enfants': [], 'personne_de_reference': 'ind0'}\n",
      "    ]"
     ],
     "language": "python",
     "metadata": {},
     "outputs": [],
     "prompt_number": 28
    },
    {
     "cell_type": "code",
     "collapsed": false,
     "input": [
      "menages_enf1 = [\n",
      "    {'id': 1, 'autres': [], 'enfants': [], 'personne_de_reference': 'ind2'}\n",
      "    ]"
     ],
     "language": "python",
     "metadata": {},
     "outputs": [],
     "prompt_number": 30
    },
    {
     "cell_type": "code",
     "collapsed": false,
     "input": [
      "menages_par2 = [\n",
      "    {'id': 2, 'conjoint': 'ind4', 'autres': [], 'enfants': [], 'personne_de_reference': 'ind3'}\n",
      "    ]"
     ],
     "language": "python",
     "metadata": {},
     "outputs": [],
     "prompt_number": 31
    },
    {
     "cell_type": "code",
     "collapsed": false,
     "input": [
      "menages_enf2 = [\n",
      "    {'id': 3, 'autres': [], 'enfants': [], 'personne_de_reference': 'ind5'}\n",
      "    ]"
     ],
     "language": "python",
     "metadata": {},
     "outputs": [],
     "prompt_number": 32
    },
    {
     "cell_type": "code",
     "collapsed": false,
     "input": [
      "menages_div1 = menages_par1 + menages_enf1 # fusion des deux m\u00e9nages pour \u00e9conomie dans le test_case"
     ],
     "language": "python",
     "metadata": {},
     "outputs": [],
     "prompt_number": 33
    },
    {
     "cell_type": "code",
     "collapsed": false,
     "input": [
      "menages_div2 = menages_par2 + menages_enf2"
     ],
     "language": "python",
     "metadata": {},
     "outputs": [],
     "prompt_number": 34
    },
    {
     "cell_type": "code",
     "collapsed": false,
     "input": [
      "liste_menages_2m_2ff = menages_div1 + menages_div2"
     ],
     "language": "python",
     "metadata": {},
     "outputs": [],
     "prompt_number": 35
    },
    {
     "cell_type": "code",
     "collapsed": false,
     "input": [
      "test_case_2m_2ff = {\n",
      "'individus' : liste_individus, \n",
      "'menages' : liste_menages_2m_2ff,\n",
      "'familles' : liste_familles, \n",
      "'foyers_fiscaux' : liste_foyers_fiscaux_2m_2ff,\n",
      "}"
     ],
     "language": "python",
     "metadata": {},
     "outputs": [],
     "prompt_number": 36
    },
    {
     "cell_type": "code",
     "collapsed": false,
     "input": [
      "scenario_2m_2ff = tax_benefit_system.new_scenario()\n",
      "type(scenario_2m_2ff)"
     ],
     "language": "python",
     "metadata": {},
     "outputs": [
      {
       "metadata": {},
       "output_type": "pyout",
       "prompt_number": 39,
       "text": [
        "openfisca_france.scenarios.Scenario"
       ]
      }
     ],
     "prompt_number": 39
    },
    {
     "cell_type": "code",
     "collapsed": false,
     "input": [
      "scenario_2m_2ff.test_case = test_case_2m_2ff"
     ],
     "language": "python",
     "metadata": {},
     "outputs": [],
     "prompt_number": 40
    },
    {
     "cell_type": "code",
     "collapsed": false,
     "input": [
      "for year in range(2013,2015):\n",
      "    scenario_2m_2ff.period = periods.period(year)"
     ],
     "language": "python",
     "metadata": {},
     "outputs": [],
     "prompt_number": 41
    },
    {
     "cell_type": "code",
     "collapsed": false,
     "input": [
      "simulation_2m_2ff = scenario_2m_2ff.new_simulation(debug = True , trace = True) "
     ],
     "language": "python",
     "metadata": {},
     "outputs": [],
     "prompt_number": 42
    },
    {
     "cell_type": "heading",
     "level": 1,
     "metadata": {},
     "source": [
      "4. R\u00e9sultats"
     ]
    },
    {
     "cell_type": "markdown",
     "metadata": {},
     "source": [
      "Adrien : Je remet ta boucle comme elle \u00e9tait au d\u00e9part. Il faut que tu comprenne comment marche la boucle.\n",
      "Pour chaque variable dans ta liste de variables, tu va afficher le nom de la variable et l'imprimer (print).\n",
      "\n",
      "Quand tu arrive a la fin de ta boule variable est \u00e9gal au dernier \u00e9l\u00e9ment de ta liste de variable. Donc quand tu \u00e9cris :\n",
      "liste_m_ff = simulation_m_ff.calculate(variable) c'est \u00e9quivalent a \u00e9crire liste_m_ff = simulation_m_ff.calculate(variables[-1:])\n",
      "\n",
      "Brian : ok Adrien, je te remercie pour ton explication. J'ai mieux compris."
     ]
    },
    {
     "cell_type": "code",
     "collapsed": false,
     "input": [
      "for variable in variables: \n",
      "    for year in range(2013,2015):\n",
      "        print variable, simulation_m_ff.calculate(variable, year), simulation_2m_2ff.calculate(variable, year)\n",
      "        liste_m_ff = simulation_m_ff.calculate(variable, year),  \n",
      "        liste_2m_2ff = simulation_2m_2ff.calculate(variable, year)\n",
      "        print liste_m_ff\n",
      "        print liste_2m_2ff"
     ],
     "language": "python",
     "metadata": {},
     "outputs": [
      {
       "output_type": "stream",
       "stream": "stderr",
       "text": [
        "ERROR:openfisca_core.formulas:An error occurred while transforming array for role menage[32512] in function zone_apl_individu\n"
       ]
      },
      {
       "output_type": "stream",
       "stream": "stderr",
       "text": [
        "ERROR:openfisca_core.formulas:An error occurred while calling formula indemnite_residence@individus<2013-01> in module openfisca_france.model.cotisations_sociales.travail_fonction_publique\n"
       ]
      },
      {
       "output_type": "stream",
       "stream": "stderr",
       "text": [
        "ERROR:openfisca_core.formulas:An error occurred while calling formula sal@individus<2013> in module openfisca_france.model.cotisations_sociales.travail_totaux\n"
       ]
      },
      {
       "output_type": "stream",
       "stream": "stdout",
       "text": [
        "sal"
       ]
      },
      {
       "ename": "IndexError",
       "evalue": "index -2093644168 is out of bounds for size 2",
       "output_type": "pyerr",
       "traceback": [
        "\u001b[0;31m---------------------------------------------------------------------------\u001b[0m\n\u001b[0;31mIndexError\u001b[0m                                Traceback (most recent call last)",
        "\u001b[0;32m<ipython-input-43-6b725b97643c>\u001b[0m in \u001b[0;36m<module>\u001b[0;34m()\u001b[0m\n\u001b[1;32m      1\u001b[0m \u001b[0;32mfor\u001b[0m \u001b[0mvariable\u001b[0m \u001b[0;32min\u001b[0m \u001b[0mvariables\u001b[0m\u001b[0;34m:\u001b[0m\u001b[0;34m\u001b[0m\u001b[0m\n\u001b[1;32m      2\u001b[0m     \u001b[0;32mfor\u001b[0m \u001b[0myear\u001b[0m \u001b[0;32min\u001b[0m \u001b[0mrange\u001b[0m\u001b[0;34m(\u001b[0m\u001b[0;36m2013\u001b[0m\u001b[0;34m,\u001b[0m\u001b[0;36m2015\u001b[0m\u001b[0;34m)\u001b[0m\u001b[0;34m:\u001b[0m\u001b[0;34m\u001b[0m\u001b[0m\n\u001b[0;32m----> 3\u001b[0;31m         \u001b[0;32mprint\u001b[0m \u001b[0mvariable\u001b[0m\u001b[0;34m,\u001b[0m \u001b[0msimulation_m_ff\u001b[0m\u001b[0;34m.\u001b[0m\u001b[0mcalculate\u001b[0m\u001b[0;34m(\u001b[0m\u001b[0mvariable\u001b[0m\u001b[0;34m,\u001b[0m \u001b[0myear\u001b[0m\u001b[0;34m)\u001b[0m\u001b[0;34m,\u001b[0m \u001b[0msimulation_2m_2ff\u001b[0m\u001b[0;34m.\u001b[0m\u001b[0mcalculate\u001b[0m\u001b[0;34m(\u001b[0m\u001b[0mvariable\u001b[0m\u001b[0;34m,\u001b[0m \u001b[0myear\u001b[0m\u001b[0;34m)\u001b[0m\u001b[0;34m\u001b[0m\u001b[0m\n\u001b[0m\u001b[1;32m      4\u001b[0m         \u001b[0mliste_m_ff\u001b[0m \u001b[0;34m=\u001b[0m \u001b[0msimulation_m_ff\u001b[0m\u001b[0;34m.\u001b[0m\u001b[0mcalculate\u001b[0m\u001b[0;34m(\u001b[0m\u001b[0mvariable\u001b[0m\u001b[0;34m,\u001b[0m \u001b[0myear\u001b[0m\u001b[0;34m)\u001b[0m\u001b[0;34m,\u001b[0m\u001b[0;34m\u001b[0m\u001b[0m\n\u001b[1;32m      5\u001b[0m         \u001b[0mliste_2m_2ff\u001b[0m \u001b[0;34m=\u001b[0m \u001b[0msimulation_2m_2ff\u001b[0m\u001b[0;34m.\u001b[0m\u001b[0mcalculate\u001b[0m\u001b[0;34m(\u001b[0m\u001b[0mvariable\u001b[0m\u001b[0;34m,\u001b[0m \u001b[0myear\u001b[0m\u001b[0;34m)\u001b[0m\u001b[0;34m\u001b[0m\u001b[0m\n",
        "\u001b[0;32m/home/openfisca/openfisca-core/openfisca_core/simulations.pyc\u001b[0m in \u001b[0;36mcalculate\u001b[0;34m(self, column_name, period, accept_other_period, requested_formulas_by_period)\u001b[0m\n\u001b[1;32m     89\u001b[0m             \u001b[0mperiod\u001b[0m \u001b[0;34m=\u001b[0m \u001b[0mself\u001b[0m\u001b[0;34m.\u001b[0m\u001b[0mperiod\u001b[0m\u001b[0;34m\u001b[0m\u001b[0m\n\u001b[1;32m     90\u001b[0m         return self.compute(column_name, period = period, accept_other_period = accept_other_period,\n\u001b[0;32m---> 91\u001b[0;31m             requested_formulas_by_period = requested_formulas_by_period).array\n\u001b[0m\u001b[1;32m     92\u001b[0m \u001b[0;34m\u001b[0m\u001b[0m\n\u001b[1;32m     93\u001b[0m     \u001b[0;32mdef\u001b[0m \u001b[0mcalculate_add\u001b[0m\u001b[0;34m(\u001b[0m\u001b[0mself\u001b[0m\u001b[0;34m,\u001b[0m \u001b[0mcolumn_name\u001b[0m\u001b[0;34m,\u001b[0m \u001b[0mperiod\u001b[0m \u001b[0;34m=\u001b[0m \u001b[0mNone\u001b[0m\u001b[0;34m,\u001b[0m \u001b[0mrequested_formulas_by_period\u001b[0m \u001b[0;34m=\u001b[0m \u001b[0mNone\u001b[0m\u001b[0;34m)\u001b[0m\u001b[0;34m:\u001b[0m\u001b[0;34m\u001b[0m\u001b[0m\n",
        "\u001b[0;32m/home/openfisca/openfisca-core/openfisca_core/simulations.pyc\u001b[0m in \u001b[0;36mcompute\u001b[0;34m(self, column_name, period, accept_other_period, requested_formulas_by_period)\u001b[0m\n\u001b[1;32m    160\u001b[0m                 \u001b[0mcaller_input_variables_infos\u001b[0m\u001b[0;34m.\u001b[0m\u001b[0mappend\u001b[0m\u001b[0;34m(\u001b[0m\u001b[0mvariable_infos\u001b[0m\u001b[0;34m)\u001b[0m\u001b[0;34m\u001b[0m\u001b[0m\n\u001b[1;32m    161\u001b[0m         return self.entity_by_column_name[column_name].compute(column_name, period = period,\n\u001b[0;32m--> 162\u001b[0;31m             accept_other_period = accept_other_period, requested_formulas_by_period = requested_formulas_by_period)\n\u001b[0m\u001b[1;32m    163\u001b[0m \u001b[0;34m\u001b[0m\u001b[0m\n\u001b[1;32m    164\u001b[0m     \u001b[0;32mdef\u001b[0m \u001b[0mcompute_add\u001b[0m\u001b[0;34m(\u001b[0m\u001b[0mself\u001b[0m\u001b[0;34m,\u001b[0m \u001b[0mcolumn_name\u001b[0m\u001b[0;34m,\u001b[0m \u001b[0mperiod\u001b[0m \u001b[0;34m=\u001b[0m \u001b[0mNone\u001b[0m\u001b[0;34m,\u001b[0m \u001b[0mrequested_formulas_by_period\u001b[0m \u001b[0;34m=\u001b[0m \u001b[0mNone\u001b[0m\u001b[0;34m)\u001b[0m\u001b[0;34m:\u001b[0m\u001b[0;34m\u001b[0m\u001b[0m\n",
        "\u001b[0;32m/home/openfisca/openfisca-core/openfisca_core/entities.pyc\u001b[0m in \u001b[0;36mcompute\u001b[0;34m(self, column_name, period, accept_other_period, requested_formulas_by_period)\u001b[0m\n\u001b[1;32m     73\u001b[0m     \u001b[0;32mdef\u001b[0m \u001b[0mcompute\u001b[0m\u001b[0;34m(\u001b[0m\u001b[0mself\u001b[0m\u001b[0;34m,\u001b[0m \u001b[0mcolumn_name\u001b[0m\u001b[0;34m,\u001b[0m \u001b[0mperiod\u001b[0m \u001b[0;34m=\u001b[0m \u001b[0mNone\u001b[0m\u001b[0;34m,\u001b[0m \u001b[0maccept_other_period\u001b[0m \u001b[0;34m=\u001b[0m \u001b[0mFalse\u001b[0m\u001b[0;34m,\u001b[0m \u001b[0mrequested_formulas_by_period\u001b[0m \u001b[0;34m=\u001b[0m \u001b[0mNone\u001b[0m\u001b[0;34m)\u001b[0m\u001b[0;34m:\u001b[0m\u001b[0;34m\u001b[0m\u001b[0m\n\u001b[1;32m     74\u001b[0m         return self.get_or_new_holder(column_name).compute(period = period, accept_other_period = accept_other_period,\n\u001b[0;32m---> 75\u001b[0;31m             requested_formulas_by_period = requested_formulas_by_period)\n\u001b[0m\u001b[1;32m     76\u001b[0m \u001b[0;34m\u001b[0m\u001b[0m\n\u001b[1;32m     77\u001b[0m     \u001b[0;32mdef\u001b[0m \u001b[0mcompute_add\u001b[0m\u001b[0;34m(\u001b[0m\u001b[0mself\u001b[0m\u001b[0;34m,\u001b[0m \u001b[0mcolumn_name\u001b[0m\u001b[0;34m,\u001b[0m \u001b[0mperiod\u001b[0m \u001b[0;34m=\u001b[0m \u001b[0mNone\u001b[0m\u001b[0;34m,\u001b[0m \u001b[0mrequested_formulas_by_period\u001b[0m \u001b[0;34m=\u001b[0m \u001b[0mNone\u001b[0m\u001b[0;34m)\u001b[0m\u001b[0;34m:\u001b[0m\u001b[0;34m\u001b[0m\u001b[0m\n",
        "\u001b[0;32m/home/openfisca/openfisca-core/openfisca_core/holders.pyc\u001b[0m in \u001b[0;36mcompute\u001b[0;34m(self, period, accept_other_period, requested_formulas_by_period)\u001b[0m\n\u001b[1;32m    157\u001b[0m                 \u001b[0;32mand\u001b[0m \u001b[0;34m(\u001b[0m\u001b[0mcolumn_stop_instant\u001b[0m \u001b[0;32mis\u001b[0m \u001b[0mNone\u001b[0m \u001b[0;32mor\u001b[0m \u001b[0mperiod\u001b[0m\u001b[0;34m.\u001b[0m\u001b[0mstart\u001b[0m \u001b[0;34m<=\u001b[0m \u001b[0mcolumn_stop_instant\u001b[0m\u001b[0;34m)\u001b[0m\u001b[0;34m:\u001b[0m\u001b[0;34m\u001b[0m\u001b[0m\n\u001b[1;32m    158\u001b[0m             formula_dated_holder = self.formula.compute(period = period,\n\u001b[0;32m--> 159\u001b[0;31m                 requested_formulas_by_period = requested_formulas_by_period)\n\u001b[0m\u001b[1;32m    160\u001b[0m             \u001b[0;32massert\u001b[0m \u001b[0mformula_dated_holder\u001b[0m \u001b[0;32mis\u001b[0m \u001b[0;32mnot\u001b[0m \u001b[0mNone\u001b[0m\u001b[0;34m\u001b[0m\u001b[0m\n\u001b[1;32m    161\u001b[0m             \u001b[0;32mif\u001b[0m \u001b[0;32mnot\u001b[0m \u001b[0mcolumn\u001b[0m\u001b[0;34m.\u001b[0m\u001b[0mis_permanent\u001b[0m\u001b[0;34m:\u001b[0m\u001b[0;34m\u001b[0m\u001b[0m\n",
        "\u001b[0;32m/home/openfisca/openfisca-core/openfisca_core/formulas.pyc\u001b[0m in \u001b[0;36mcompute\u001b[0;34m(self, period, requested_formulas_by_period)\u001b[0m\n\u001b[1;32m    496\u001b[0m \u001b[0;34m\u001b[0m\u001b[0m\n\u001b[1;32m    497\u001b[0m         \u001b[0;32mtry\u001b[0m\u001b[0;34m:\u001b[0m\u001b[0;34m\u001b[0m\u001b[0m\n\u001b[0;32m--> 498\u001b[0;31m             \u001b[0mformula_result\u001b[0m \u001b[0;34m=\u001b[0m \u001b[0mself\u001b[0m\u001b[0;34m.\u001b[0m\u001b[0mbase_function\u001b[0m\u001b[0;34m(\u001b[0m\u001b[0msimulation\u001b[0m\u001b[0;34m,\u001b[0m \u001b[0mperiod\u001b[0m\u001b[0;34m)\u001b[0m\u001b[0;34m\u001b[0m\u001b[0m\n\u001b[0m\u001b[1;32m    499\u001b[0m         \u001b[0;32mexcept\u001b[0m\u001b[0;34m:\u001b[0m\u001b[0;34m\u001b[0m\u001b[0m\n\u001b[1;32m    500\u001b[0m             log.error(u'An error occurred while calling formula {}@{}<{}> in module {}'.format(\n",
        "\u001b[0;32m/home/openfisca/openfisca-core/openfisca_core/formulas.pyc\u001b[0m in \u001b[0;36mrequested_period_default_value\u001b[0;34m(formula, simulation, period)\u001b[0m\n\u001b[1;32m   1182\u001b[0m \u001b[0;32mdef\u001b[0m \u001b[0mrequested_period_default_value\u001b[0m\u001b[0;34m(\u001b[0m\u001b[0mformula\u001b[0m\u001b[0;34m,\u001b[0m \u001b[0msimulation\u001b[0m\u001b[0;34m,\u001b[0m \u001b[0mperiod\u001b[0m\u001b[0;34m)\u001b[0m\u001b[0;34m:\u001b[0m\u001b[0;34m\u001b[0m\u001b[0m\n\u001b[1;32m   1183\u001b[0m     \u001b[0;32mif\u001b[0m \u001b[0mformula\u001b[0m\u001b[0;34m.\u001b[0m\u001b[0mfunction\u001b[0m \u001b[0;32mis\u001b[0m \u001b[0;32mnot\u001b[0m \u001b[0mNone\u001b[0m\u001b[0;34m:\u001b[0m\u001b[0;34m\u001b[0m\u001b[0m\n\u001b[0;32m-> 1184\u001b[0;31m         \u001b[0;32mreturn\u001b[0m \u001b[0mformula\u001b[0m\u001b[0;34m.\u001b[0m\u001b[0mfunction\u001b[0m\u001b[0;34m(\u001b[0m\u001b[0msimulation\u001b[0m\u001b[0;34m,\u001b[0m \u001b[0mperiod\u001b[0m\u001b[0;34m)\u001b[0m\u001b[0;34m\u001b[0m\u001b[0m\n\u001b[0m\u001b[1;32m   1185\u001b[0m     \u001b[0mholder\u001b[0m \u001b[0;34m=\u001b[0m \u001b[0mformula\u001b[0m\u001b[0;34m.\u001b[0m\u001b[0mholder\u001b[0m\u001b[0;34m\u001b[0m\u001b[0m\n\u001b[1;32m   1186\u001b[0m     \u001b[0mcolumn\u001b[0m \u001b[0;34m=\u001b[0m \u001b[0mholder\u001b[0m\u001b[0;34m.\u001b[0m\u001b[0mcolumn\u001b[0m\u001b[0;34m\u001b[0m\u001b[0m\n",
        "\u001b[0;32m/home/openfisca/openfisca-france/openfisca_france/model/cotisations_sociales/travail_totaux.pyc\u001b[0m in \u001b[0;36mfunction\u001b[0;34m(self, simulation, period)\u001b[0m\n\u001b[1;32m    354\u001b[0m         \u001b[0msalaire_de_base\u001b[0m \u001b[0;34m=\u001b[0m \u001b[0msimulation\u001b[0m\u001b[0;34m.\u001b[0m\u001b[0mcalculate_add\u001b[0m\u001b[0;34m(\u001b[0m\u001b[0;34m'salaire_de_base'\u001b[0m\u001b[0;34m,\u001b[0m \u001b[0mperiod\u001b[0m\u001b[0;34m)\u001b[0m\u001b[0;34m\u001b[0m\u001b[0m\n\u001b[1;32m    355\u001b[0m         \u001b[0mprimes_fonction_publique\u001b[0m \u001b[0;34m=\u001b[0m \u001b[0msimulation\u001b[0m\u001b[0;34m.\u001b[0m\u001b[0mcalculate_add\u001b[0m\u001b[0;34m(\u001b[0m\u001b[0;34m'primes_fonction_publique'\u001b[0m\u001b[0;34m,\u001b[0m \u001b[0mperiod\u001b[0m\u001b[0;34m)\u001b[0m\u001b[0;34m\u001b[0m\u001b[0m\n\u001b[0;32m--> 356\u001b[0;31m         \u001b[0mindemnite_residence\u001b[0m \u001b[0;34m=\u001b[0m \u001b[0msimulation\u001b[0m\u001b[0;34m.\u001b[0m\u001b[0mcalculate_add\u001b[0m\u001b[0;34m(\u001b[0m\u001b[0;34m'indemnite_residence'\u001b[0m\u001b[0;34m,\u001b[0m \u001b[0mperiod\u001b[0m\u001b[0;34m)\u001b[0m\u001b[0;34m\u001b[0m\u001b[0m\n\u001b[0m\u001b[1;32m    357\u001b[0m         \u001b[0msupp_familial_traitement\u001b[0m \u001b[0;34m=\u001b[0m \u001b[0msimulation\u001b[0m\u001b[0;34m.\u001b[0m\u001b[0mcalculate_add\u001b[0m\u001b[0;34m(\u001b[0m\u001b[0;34m'supp_familial_traitement'\u001b[0m\u001b[0;34m,\u001b[0m \u001b[0mperiod\u001b[0m\u001b[0;34m)\u001b[0m\u001b[0;34m\u001b[0m\u001b[0m\n\u001b[1;32m    358\u001b[0m         \u001b[0mcsgsald\u001b[0m \u001b[0;34m=\u001b[0m \u001b[0msimulation\u001b[0m\u001b[0;34m.\u001b[0m\u001b[0mcalculate_add\u001b[0m\u001b[0;34m(\u001b[0m\u001b[0;34m'csgsald'\u001b[0m\u001b[0;34m,\u001b[0m \u001b[0mperiod\u001b[0m\u001b[0;34m)\u001b[0m\u001b[0;34m\u001b[0m\u001b[0m\n",
        "\u001b[0;32m/home/openfisca/openfisca-core/openfisca_core/simulations.pyc\u001b[0m in \u001b[0;36mcalculate_add\u001b[0;34m(self, column_name, period, requested_formulas_by_period)\u001b[0m\n\u001b[1;32m     95\u001b[0m             \u001b[0mperiod\u001b[0m \u001b[0;34m=\u001b[0m \u001b[0mself\u001b[0m\u001b[0;34m.\u001b[0m\u001b[0mperiod\u001b[0m\u001b[0;34m\u001b[0m\u001b[0m\n\u001b[1;32m     96\u001b[0m         return self.compute_add(column_name, period = period,\n\u001b[0;32m---> 97\u001b[0;31m             requested_formulas_by_period = requested_formulas_by_period).array\n\u001b[0m\u001b[1;32m     98\u001b[0m \u001b[0;34m\u001b[0m\u001b[0m\n\u001b[1;32m     99\u001b[0m     \u001b[0;32mdef\u001b[0m \u001b[0mcalculate_add_divide\u001b[0m\u001b[0;34m(\u001b[0m\u001b[0mself\u001b[0m\u001b[0;34m,\u001b[0m \u001b[0mcolumn_name\u001b[0m\u001b[0;34m,\u001b[0m \u001b[0mperiod\u001b[0m \u001b[0;34m=\u001b[0m \u001b[0mNone\u001b[0m\u001b[0;34m,\u001b[0m \u001b[0mrequested_formulas_by_period\u001b[0m \u001b[0;34m=\u001b[0m \u001b[0mNone\u001b[0m\u001b[0;34m)\u001b[0m\u001b[0;34m:\u001b[0m\u001b[0;34m\u001b[0m\u001b[0m\n",
        "\u001b[0;32m/home/openfisca/openfisca-core/openfisca_core/simulations.pyc\u001b[0m in \u001b[0;36mcompute_add\u001b[0;34m(self, column_name, period, requested_formulas_by_period)\u001b[0m\n\u001b[1;32m    174\u001b[0m                 \u001b[0mcaller_input_variables_infos\u001b[0m\u001b[0;34m.\u001b[0m\u001b[0mappend\u001b[0m\u001b[0;34m(\u001b[0m\u001b[0mvariable_infos\u001b[0m\u001b[0;34m)\u001b[0m\u001b[0;34m\u001b[0m\u001b[0m\n\u001b[1;32m    175\u001b[0m         return self.entity_by_column_name[column_name].compute_add(column_name, period = period,\n\u001b[0;32m--> 176\u001b[0;31m             requested_formulas_by_period = requested_formulas_by_period)\n\u001b[0m\u001b[1;32m    177\u001b[0m \u001b[0;34m\u001b[0m\u001b[0m\n\u001b[1;32m    178\u001b[0m     \u001b[0;32mdef\u001b[0m \u001b[0mcompute_add_divide\u001b[0m\u001b[0;34m(\u001b[0m\u001b[0mself\u001b[0m\u001b[0;34m,\u001b[0m \u001b[0mcolumn_name\u001b[0m\u001b[0;34m,\u001b[0m \u001b[0mperiod\u001b[0m \u001b[0;34m=\u001b[0m \u001b[0mNone\u001b[0m\u001b[0;34m,\u001b[0m \u001b[0mrequested_formulas_by_period\u001b[0m \u001b[0;34m=\u001b[0m \u001b[0mNone\u001b[0m\u001b[0;34m)\u001b[0m\u001b[0;34m:\u001b[0m\u001b[0;34m\u001b[0m\u001b[0m\n",
        "\u001b[0;32m/home/openfisca/openfisca-core/openfisca_core/entities.pyc\u001b[0m in \u001b[0;36mcompute_add\u001b[0;34m(self, column_name, period, requested_formulas_by_period)\u001b[0m\n\u001b[1;32m     77\u001b[0m     \u001b[0;32mdef\u001b[0m \u001b[0mcompute_add\u001b[0m\u001b[0;34m(\u001b[0m\u001b[0mself\u001b[0m\u001b[0;34m,\u001b[0m \u001b[0mcolumn_name\u001b[0m\u001b[0;34m,\u001b[0m \u001b[0mperiod\u001b[0m \u001b[0;34m=\u001b[0m \u001b[0mNone\u001b[0m\u001b[0;34m,\u001b[0m \u001b[0mrequested_formulas_by_period\u001b[0m \u001b[0;34m=\u001b[0m \u001b[0mNone\u001b[0m\u001b[0;34m)\u001b[0m\u001b[0;34m:\u001b[0m\u001b[0;34m\u001b[0m\u001b[0m\n\u001b[1;32m     78\u001b[0m         return self.get_or_new_holder(column_name).compute_add(period = period,\n\u001b[0;32m---> 79\u001b[0;31m             requested_formulas_by_period = requested_formulas_by_period)\n\u001b[0m\u001b[1;32m     80\u001b[0m \u001b[0;34m\u001b[0m\u001b[0m\n\u001b[1;32m     81\u001b[0m     \u001b[0;32mdef\u001b[0m \u001b[0mcompute_add_divide\u001b[0m\u001b[0;34m(\u001b[0m\u001b[0mself\u001b[0m\u001b[0;34m,\u001b[0m \u001b[0mcolumn_name\u001b[0m\u001b[0;34m,\u001b[0m \u001b[0mperiod\u001b[0m \u001b[0;34m=\u001b[0m \u001b[0mNone\u001b[0m\u001b[0;34m,\u001b[0m \u001b[0mrequested_formulas_by_period\u001b[0m \u001b[0;34m=\u001b[0m \u001b[0mNone\u001b[0m\u001b[0;34m)\u001b[0m\u001b[0;34m:\u001b[0m\u001b[0;34m\u001b[0m\u001b[0m\n",
        "\u001b[0;32m/home/openfisca/openfisca-core/openfisca_core/holders.pyc\u001b[0m in \u001b[0;36mcompute_add\u001b[0;34m(self, period, requested_formulas_by_period)\u001b[0m\n\u001b[1;32m    196\u001b[0m                     \u001b[0mmonth_period\u001b[0m \u001b[0;34m=\u001b[0m \u001b[0mperiods\u001b[0m\u001b[0;34m.\u001b[0m\u001b[0mperiod\u001b[0m\u001b[0;34m(\u001b[0m\u001b[0;34mu'month'\u001b[0m\u001b[0;34m,\u001b[0m \u001b[0mperiods\u001b[0m\u001b[0;34m.\u001b[0m\u001b[0minstant\u001b[0m\u001b[0;34m(\u001b[0m\u001b[0;34m(\u001b[0m\u001b[0myear\u001b[0m\u001b[0;34m,\u001b[0m \u001b[0mmonth\u001b[0m\u001b[0;34m,\u001b[0m \u001b[0mday\u001b[0m\u001b[0;34m)\u001b[0m\u001b[0;34m)\u001b[0m\u001b[0;34m)\u001b[0m\u001b[0;34m\u001b[0m\u001b[0m\n\u001b[1;32m    197\u001b[0m                     month_array = self.calculate(period = month_period,\n\u001b[0;32m--> 198\u001b[0;31m                         requested_formulas_by_period = requested_formulas_by_period)\n\u001b[0m\u001b[1;32m    199\u001b[0m                     \u001b[0;32mif\u001b[0m \u001b[0marray\u001b[0m \u001b[0;32mis\u001b[0m \u001b[0mNone\u001b[0m\u001b[0;34m:\u001b[0m\u001b[0;34m\u001b[0m\u001b[0m\n\u001b[1;32m    200\u001b[0m                         \u001b[0marray\u001b[0m \u001b[0;34m=\u001b[0m \u001b[0mmonth_array\u001b[0m\u001b[0;34m.\u001b[0m\u001b[0mcopy\u001b[0m\u001b[0;34m(\u001b[0m\u001b[0;34m)\u001b[0m\u001b[0;34m\u001b[0m\u001b[0m\n",
        "\u001b[0;32m/home/openfisca/openfisca-core/openfisca_core/holders.pyc\u001b[0m in \u001b[0;36mcalculate\u001b[0;34m(self, period, accept_other_period, requested_formulas_by_period)\u001b[0m\n\u001b[1;32m    111\u001b[0m     \u001b[0;32mdef\u001b[0m \u001b[0mcalculate\u001b[0m\u001b[0;34m(\u001b[0m\u001b[0mself\u001b[0m\u001b[0;34m,\u001b[0m \u001b[0mperiod\u001b[0m \u001b[0;34m=\u001b[0m \u001b[0mNone\u001b[0m\u001b[0;34m,\u001b[0m \u001b[0maccept_other_period\u001b[0m \u001b[0;34m=\u001b[0m \u001b[0mFalse\u001b[0m\u001b[0;34m,\u001b[0m \u001b[0mrequested_formulas_by_period\u001b[0m \u001b[0;34m=\u001b[0m \u001b[0mNone\u001b[0m\u001b[0;34m)\u001b[0m\u001b[0;34m:\u001b[0m\u001b[0;34m\u001b[0m\u001b[0m\n\u001b[1;32m    112\u001b[0m         dated_holder = self.compute(period = period, accept_other_period = accept_other_period,\n\u001b[0;32m--> 113\u001b[0;31m             requested_formulas_by_period = requested_formulas_by_period)\n\u001b[0m\u001b[1;32m    114\u001b[0m         \u001b[0;32mreturn\u001b[0m \u001b[0mdated_holder\u001b[0m\u001b[0;34m.\u001b[0m\u001b[0marray\u001b[0m\u001b[0;34m\u001b[0m\u001b[0m\n\u001b[1;32m    115\u001b[0m \u001b[0;34m\u001b[0m\u001b[0m\n",
        "\u001b[0;32m/home/openfisca/openfisca-core/openfisca_core/holders.pyc\u001b[0m in \u001b[0;36mcompute\u001b[0;34m(self, period, accept_other_period, requested_formulas_by_period)\u001b[0m\n\u001b[1;32m    157\u001b[0m                 \u001b[0;32mand\u001b[0m \u001b[0;34m(\u001b[0m\u001b[0mcolumn_stop_instant\u001b[0m \u001b[0;32mis\u001b[0m \u001b[0mNone\u001b[0m \u001b[0;32mor\u001b[0m \u001b[0mperiod\u001b[0m\u001b[0;34m.\u001b[0m\u001b[0mstart\u001b[0m \u001b[0;34m<=\u001b[0m \u001b[0mcolumn_stop_instant\u001b[0m\u001b[0;34m)\u001b[0m\u001b[0;34m:\u001b[0m\u001b[0;34m\u001b[0m\u001b[0m\n\u001b[1;32m    158\u001b[0m             formula_dated_holder = self.formula.compute(period = period,\n\u001b[0;32m--> 159\u001b[0;31m                 requested_formulas_by_period = requested_formulas_by_period)\n\u001b[0m\u001b[1;32m    160\u001b[0m             \u001b[0;32massert\u001b[0m \u001b[0mformula_dated_holder\u001b[0m \u001b[0;32mis\u001b[0m \u001b[0;32mnot\u001b[0m \u001b[0mNone\u001b[0m\u001b[0;34m\u001b[0m\u001b[0m\n\u001b[1;32m    161\u001b[0m             \u001b[0;32mif\u001b[0m \u001b[0;32mnot\u001b[0m \u001b[0mcolumn\u001b[0m\u001b[0;34m.\u001b[0m\u001b[0mis_permanent\u001b[0m\u001b[0;34m:\u001b[0m\u001b[0;34m\u001b[0m\u001b[0m\n",
        "\u001b[0;32m/home/openfisca/openfisca-core/openfisca_core/formulas.pyc\u001b[0m in \u001b[0;36mcompute\u001b[0;34m(self, period, requested_formulas_by_period)\u001b[0m\n\u001b[1;32m    496\u001b[0m \u001b[0;34m\u001b[0m\u001b[0m\n\u001b[1;32m    497\u001b[0m         \u001b[0;32mtry\u001b[0m\u001b[0;34m:\u001b[0m\u001b[0;34m\u001b[0m\u001b[0m\n\u001b[0;32m--> 498\u001b[0;31m             \u001b[0mformula_result\u001b[0m \u001b[0;34m=\u001b[0m \u001b[0mself\u001b[0m\u001b[0;34m.\u001b[0m\u001b[0mbase_function\u001b[0m\u001b[0;34m(\u001b[0m\u001b[0msimulation\u001b[0m\u001b[0;34m,\u001b[0m \u001b[0mperiod\u001b[0m\u001b[0;34m)\u001b[0m\u001b[0;34m\u001b[0m\u001b[0m\n\u001b[0m\u001b[1;32m    499\u001b[0m         \u001b[0;32mexcept\u001b[0m\u001b[0;34m:\u001b[0m\u001b[0;34m\u001b[0m\u001b[0m\n\u001b[1;32m    500\u001b[0m             log.error(u'An error occurred while calling formula {}@{}<{}> in module {}'.format(\n",
        "\u001b[0;32m/home/openfisca/openfisca-core/openfisca_core/formulas.pyc\u001b[0m in \u001b[0;36mrequested_period_default_value\u001b[0;34m(formula, simulation, period)\u001b[0m\n\u001b[1;32m   1182\u001b[0m \u001b[0;32mdef\u001b[0m \u001b[0mrequested_period_default_value\u001b[0m\u001b[0;34m(\u001b[0m\u001b[0mformula\u001b[0m\u001b[0;34m,\u001b[0m \u001b[0msimulation\u001b[0m\u001b[0;34m,\u001b[0m \u001b[0mperiod\u001b[0m\u001b[0;34m)\u001b[0m\u001b[0;34m:\u001b[0m\u001b[0;34m\u001b[0m\u001b[0m\n\u001b[1;32m   1183\u001b[0m     \u001b[0;32mif\u001b[0m \u001b[0mformula\u001b[0m\u001b[0;34m.\u001b[0m\u001b[0mfunction\u001b[0m \u001b[0;32mis\u001b[0m \u001b[0;32mnot\u001b[0m \u001b[0mNone\u001b[0m\u001b[0;34m:\u001b[0m\u001b[0;34m\u001b[0m\u001b[0m\n\u001b[0;32m-> 1184\u001b[0;31m         \u001b[0;32mreturn\u001b[0m \u001b[0mformula\u001b[0m\u001b[0;34m.\u001b[0m\u001b[0mfunction\u001b[0m\u001b[0;34m(\u001b[0m\u001b[0msimulation\u001b[0m\u001b[0;34m,\u001b[0m \u001b[0mperiod\u001b[0m\u001b[0;34m)\u001b[0m\u001b[0;34m\u001b[0m\u001b[0m\n\u001b[0m\u001b[1;32m   1185\u001b[0m     \u001b[0mholder\u001b[0m \u001b[0;34m=\u001b[0m \u001b[0mformula\u001b[0m\u001b[0;34m.\u001b[0m\u001b[0mholder\u001b[0m\u001b[0;34m\u001b[0m\u001b[0m\n\u001b[1;32m   1186\u001b[0m     \u001b[0mcolumn\u001b[0m \u001b[0;34m=\u001b[0m \u001b[0mholder\u001b[0m\u001b[0;34m.\u001b[0m\u001b[0mcolumn\u001b[0m\u001b[0;34m\u001b[0m\u001b[0m\n",
        "\u001b[0;32m/home/openfisca/openfisca-france/openfisca_france/model/cotisations_sociales/travail_fonction_publique.pyc\u001b[0m in \u001b[0;36mfunction\u001b[0;34m(self, simulation, period)\u001b[0m\n\u001b[1;32m    212\u001b[0m         \u001b[0msalaire_de_base\u001b[0m \u001b[0;34m=\u001b[0m \u001b[0msimulation\u001b[0m\u001b[0;34m.\u001b[0m\u001b[0mcalculate\u001b[0m\u001b[0;34m(\u001b[0m\u001b[0;34m'salaire_de_base'\u001b[0m\u001b[0;34m,\u001b[0m \u001b[0mperiod\u001b[0m\u001b[0;34m)\u001b[0m\u001b[0;34m\u001b[0m\u001b[0m\n\u001b[1;32m    213\u001b[0m         \u001b[0mtype_sal\u001b[0m \u001b[0;34m=\u001b[0m \u001b[0msimulation\u001b[0m\u001b[0;34m.\u001b[0m\u001b[0mcalculate\u001b[0m\u001b[0;34m(\u001b[0m\u001b[0;34m'type_sal'\u001b[0m\u001b[0;34m,\u001b[0m \u001b[0mperiod\u001b[0m\u001b[0;34m)\u001b[0m\u001b[0;34m\u001b[0m\u001b[0m\n\u001b[0;32m--> 214\u001b[0;31m         \u001b[0mzone_apl_individu\u001b[0m \u001b[0;34m=\u001b[0m \u001b[0msimulation\u001b[0m\u001b[0;34m.\u001b[0m\u001b[0mcalculate\u001b[0m\u001b[0;34m(\u001b[0m\u001b[0;34m'zone_apl_individu'\u001b[0m\u001b[0;34m,\u001b[0m \u001b[0mperiod\u001b[0m\u001b[0;34m)\u001b[0m\u001b[0;34m\u001b[0m\u001b[0m\n\u001b[0m\u001b[1;32m    215\u001b[0m         \u001b[0m_P\u001b[0m \u001b[0;34m=\u001b[0m \u001b[0msimulation\u001b[0m\u001b[0;34m.\u001b[0m\u001b[0mlegislation_at\u001b[0m\u001b[0;34m(\u001b[0m\u001b[0mperiod\u001b[0m\u001b[0;34m.\u001b[0m\u001b[0mstart\u001b[0m\u001b[0;34m)\u001b[0m\u001b[0;34m\u001b[0m\u001b[0m\n\u001b[1;32m    216\u001b[0m \u001b[0;34m\u001b[0m\u001b[0m\n",
        "\u001b[0;32m/home/openfisca/openfisca-core/openfisca_core/simulations.pyc\u001b[0m in \u001b[0;36mcalculate\u001b[0;34m(self, column_name, period, accept_other_period, requested_formulas_by_period)\u001b[0m\n\u001b[1;32m     89\u001b[0m             \u001b[0mperiod\u001b[0m \u001b[0;34m=\u001b[0m \u001b[0mself\u001b[0m\u001b[0;34m.\u001b[0m\u001b[0mperiod\u001b[0m\u001b[0;34m\u001b[0m\u001b[0m\n\u001b[1;32m     90\u001b[0m         return self.compute(column_name, period = period, accept_other_period = accept_other_period,\n\u001b[0;32m---> 91\u001b[0;31m             requested_formulas_by_period = requested_formulas_by_period).array\n\u001b[0m\u001b[1;32m     92\u001b[0m \u001b[0;34m\u001b[0m\u001b[0m\n\u001b[1;32m     93\u001b[0m     \u001b[0;32mdef\u001b[0m \u001b[0mcalculate_add\u001b[0m\u001b[0;34m(\u001b[0m\u001b[0mself\u001b[0m\u001b[0;34m,\u001b[0m \u001b[0mcolumn_name\u001b[0m\u001b[0;34m,\u001b[0m \u001b[0mperiod\u001b[0m \u001b[0;34m=\u001b[0m \u001b[0mNone\u001b[0m\u001b[0;34m,\u001b[0m \u001b[0mrequested_formulas_by_period\u001b[0m \u001b[0;34m=\u001b[0m \u001b[0mNone\u001b[0m\u001b[0;34m)\u001b[0m\u001b[0;34m:\u001b[0m\u001b[0;34m\u001b[0m\u001b[0m\n",
        "\u001b[0;32m/home/openfisca/openfisca-core/openfisca_core/simulations.pyc\u001b[0m in \u001b[0;36mcompute\u001b[0;34m(self, column_name, period, accept_other_period, requested_formulas_by_period)\u001b[0m\n\u001b[1;32m    160\u001b[0m                 \u001b[0mcaller_input_variables_infos\u001b[0m\u001b[0;34m.\u001b[0m\u001b[0mappend\u001b[0m\u001b[0;34m(\u001b[0m\u001b[0mvariable_infos\u001b[0m\u001b[0;34m)\u001b[0m\u001b[0;34m\u001b[0m\u001b[0m\n\u001b[1;32m    161\u001b[0m         return self.entity_by_column_name[column_name].compute(column_name, period = period,\n\u001b[0;32m--> 162\u001b[0;31m             accept_other_period = accept_other_period, requested_formulas_by_period = requested_formulas_by_period)\n\u001b[0m\u001b[1;32m    163\u001b[0m \u001b[0;34m\u001b[0m\u001b[0m\n\u001b[1;32m    164\u001b[0m     \u001b[0;32mdef\u001b[0m \u001b[0mcompute_add\u001b[0m\u001b[0;34m(\u001b[0m\u001b[0mself\u001b[0m\u001b[0;34m,\u001b[0m \u001b[0mcolumn_name\u001b[0m\u001b[0;34m,\u001b[0m \u001b[0mperiod\u001b[0m \u001b[0;34m=\u001b[0m \u001b[0mNone\u001b[0m\u001b[0;34m,\u001b[0m \u001b[0mrequested_formulas_by_period\u001b[0m \u001b[0;34m=\u001b[0m \u001b[0mNone\u001b[0m\u001b[0;34m)\u001b[0m\u001b[0;34m:\u001b[0m\u001b[0;34m\u001b[0m\u001b[0m\n",
        "\u001b[0;32m/home/openfisca/openfisca-core/openfisca_core/entities.pyc\u001b[0m in \u001b[0;36mcompute\u001b[0;34m(self, column_name, period, accept_other_period, requested_formulas_by_period)\u001b[0m\n\u001b[1;32m     73\u001b[0m     \u001b[0;32mdef\u001b[0m \u001b[0mcompute\u001b[0m\u001b[0;34m(\u001b[0m\u001b[0mself\u001b[0m\u001b[0;34m,\u001b[0m \u001b[0mcolumn_name\u001b[0m\u001b[0;34m,\u001b[0m \u001b[0mperiod\u001b[0m \u001b[0;34m=\u001b[0m \u001b[0mNone\u001b[0m\u001b[0;34m,\u001b[0m \u001b[0maccept_other_period\u001b[0m \u001b[0;34m=\u001b[0m \u001b[0mFalse\u001b[0m\u001b[0;34m,\u001b[0m \u001b[0mrequested_formulas_by_period\u001b[0m \u001b[0;34m=\u001b[0m \u001b[0mNone\u001b[0m\u001b[0;34m)\u001b[0m\u001b[0;34m:\u001b[0m\u001b[0;34m\u001b[0m\u001b[0m\n\u001b[1;32m     74\u001b[0m         return self.get_or_new_holder(column_name).compute(period = period, accept_other_period = accept_other_period,\n\u001b[0;32m---> 75\u001b[0;31m             requested_formulas_by_period = requested_formulas_by_period)\n\u001b[0m\u001b[1;32m     76\u001b[0m \u001b[0;34m\u001b[0m\u001b[0m\n\u001b[1;32m     77\u001b[0m     \u001b[0;32mdef\u001b[0m \u001b[0mcompute_add\u001b[0m\u001b[0;34m(\u001b[0m\u001b[0mself\u001b[0m\u001b[0;34m,\u001b[0m \u001b[0mcolumn_name\u001b[0m\u001b[0;34m,\u001b[0m \u001b[0mperiod\u001b[0m \u001b[0;34m=\u001b[0m \u001b[0mNone\u001b[0m\u001b[0;34m,\u001b[0m \u001b[0mrequested_formulas_by_period\u001b[0m \u001b[0;34m=\u001b[0m \u001b[0mNone\u001b[0m\u001b[0;34m)\u001b[0m\u001b[0;34m:\u001b[0m\u001b[0;34m\u001b[0m\u001b[0m\n",
        "\u001b[0;32m/home/openfisca/openfisca-core/openfisca_core/holders.pyc\u001b[0m in \u001b[0;36mcompute\u001b[0;34m(self, period, accept_other_period, requested_formulas_by_period)\u001b[0m\n\u001b[1;32m    157\u001b[0m                 \u001b[0;32mand\u001b[0m \u001b[0;34m(\u001b[0m\u001b[0mcolumn_stop_instant\u001b[0m \u001b[0;32mis\u001b[0m \u001b[0mNone\u001b[0m \u001b[0;32mor\u001b[0m \u001b[0mperiod\u001b[0m\u001b[0;34m.\u001b[0m\u001b[0mstart\u001b[0m \u001b[0;34m<=\u001b[0m \u001b[0mcolumn_stop_instant\u001b[0m\u001b[0;34m)\u001b[0m\u001b[0;34m:\u001b[0m\u001b[0;34m\u001b[0m\u001b[0m\n\u001b[1;32m    158\u001b[0m             formula_dated_holder = self.formula.compute(period = period,\n\u001b[0;32m--> 159\u001b[0;31m                 requested_formulas_by_period = requested_formulas_by_period)\n\u001b[0m\u001b[1;32m    160\u001b[0m             \u001b[0;32massert\u001b[0m \u001b[0mformula_dated_holder\u001b[0m \u001b[0;32mis\u001b[0m \u001b[0;32mnot\u001b[0m \u001b[0mNone\u001b[0m\u001b[0;34m\u001b[0m\u001b[0m\n\u001b[1;32m    161\u001b[0m             \u001b[0;32mif\u001b[0m \u001b[0;32mnot\u001b[0m \u001b[0mcolumn\u001b[0m\u001b[0;34m.\u001b[0m\u001b[0mis_permanent\u001b[0m\u001b[0;34m:\u001b[0m\u001b[0;34m\u001b[0m\u001b[0m\n",
        "\u001b[0;32m/home/openfisca/openfisca-core/openfisca_core/formulas.pyc\u001b[0m in \u001b[0;36mcompute\u001b[0;34m(self, period, requested_formulas_by_period)\u001b[0m\n\u001b[1;32m    112\u001b[0m         \u001b[0moutput_period\u001b[0m \u001b[0;34m=\u001b[0m \u001b[0mvariable_dated_holder\u001b[0m\u001b[0;34m.\u001b[0m\u001b[0mperiod\u001b[0m\u001b[0;34m\u001b[0m\u001b[0m\n\u001b[1;32m    113\u001b[0m \u001b[0;34m\u001b[0m\u001b[0m\n\u001b[0;32m--> 114\u001b[0;31m         \u001b[0marray\u001b[0m \u001b[0;34m=\u001b[0m \u001b[0mself\u001b[0m\u001b[0;34m.\u001b[0m\u001b[0mtransform\u001b[0m\u001b[0;34m(\u001b[0m\u001b[0mvariable_dated_holder\u001b[0m\u001b[0;34m,\u001b[0m \u001b[0mroles\u001b[0m \u001b[0;34m=\u001b[0m \u001b[0mself\u001b[0m\u001b[0;34m.\u001b[0m\u001b[0mroles\u001b[0m\u001b[0;34m)\u001b[0m\u001b[0;34m\u001b[0m\u001b[0m\n\u001b[0m\u001b[1;32m    115\u001b[0m         \u001b[0;32mif\u001b[0m \u001b[0marray\u001b[0m\u001b[0;34m.\u001b[0m\u001b[0mdtype\u001b[0m \u001b[0;34m!=\u001b[0m \u001b[0mcolumn\u001b[0m\u001b[0;34m.\u001b[0m\u001b[0mdtype\u001b[0m\u001b[0;34m:\u001b[0m\u001b[0;34m\u001b[0m\u001b[0m\n\u001b[1;32m    116\u001b[0m             \u001b[0marray\u001b[0m \u001b[0;34m=\u001b[0m \u001b[0marray\u001b[0m\u001b[0;34m.\u001b[0m\u001b[0mastype\u001b[0m\u001b[0;34m(\u001b[0m\u001b[0mcolumn\u001b[0m\u001b[0;34m.\u001b[0m\u001b[0mdtype\u001b[0m\u001b[0;34m)\u001b[0m\u001b[0;34m\u001b[0m\u001b[0m\n",
        "\u001b[0;32m/home/openfisca/openfisca-core/openfisca_core/formulas.pyc\u001b[0m in \u001b[0;36mtransform\u001b[0;34m(self, dated_holder, roles)\u001b[0m\n\u001b[1;32m    312\u001b[0m             \u001b[0mboolean_filter\u001b[0m \u001b[0;34m=\u001b[0m \u001b[0mpersons\u001b[0m\u001b[0;34m.\u001b[0m\u001b[0mholder_by_name\u001b[0m\u001b[0;34m[\u001b[0m\u001b[0mentity\u001b[0m\u001b[0;34m.\u001b[0m\u001b[0mrole_for_person_variable_name\u001b[0m\u001b[0;34m]\u001b[0m\u001b[0;34m.\u001b[0m\u001b[0marray\u001b[0m \u001b[0;34m==\u001b[0m \u001b[0mrole\u001b[0m\u001b[0;34m\u001b[0m\u001b[0m\n\u001b[1;32m    313\u001b[0m             \u001b[0;32mtry\u001b[0m\u001b[0;34m:\u001b[0m\u001b[0;34m\u001b[0m\u001b[0m\n\u001b[0;32m--> 314\u001b[0;31m                 \u001b[0mtarget_array\u001b[0m\u001b[0;34m[\u001b[0m\u001b[0mboolean_filter\u001b[0m\u001b[0;34m]\u001b[0m \u001b[0;34m=\u001b[0m \u001b[0marray\u001b[0m\u001b[0;34m[\u001b[0m\u001b[0mentity_index_array\u001b[0m\u001b[0;34m[\u001b[0m\u001b[0mboolean_filter\u001b[0m\u001b[0;34m]\u001b[0m\u001b[0;34m]\u001b[0m\u001b[0;34m\u001b[0m\u001b[0m\n\u001b[0m\u001b[1;32m    315\u001b[0m             \u001b[0;32mexcept\u001b[0m\u001b[0;34m:\u001b[0m\u001b[0;34m\u001b[0m\u001b[0m\n\u001b[1;32m    316\u001b[0m                 log.error(u'An error occurred while transforming array for role {}[{}] in function {}'.format(\n",
        "\u001b[0;31mIndexError\u001b[0m: index -2093644168 is out of bounds for size 2"
       ]
      }
     ],
     "prompt_number": 43
    },
    {
     "cell_type": "heading",
     "level": 1,
     "metadata": {},
     "source": [
      "5. Tableaux"
     ]
    },
    {
     "cell_type": "code",
     "collapsed": false,
     "input": [
      "liste_scenario = ['scenario_m_ff', 'scenario_2m_2ff',]"
     ],
     "language": "python",
     "metadata": {},
     "outputs": [],
     "prompt_number": 43
    },
    {
     "cell_type": "code",
     "collapsed": false,
     "input": [
      "liste_simulations = [liste_m_ff, liste_2m_2ff,]"
     ],
     "language": "python",
     "metadata": {},
     "outputs": [],
     "prompt_number": 44
    },
    {
     "cell_type": "code",
     "collapsed": false,
     "input": [
      "# essai 1\n",
      "\n",
      "for variable in variables: \n",
      "    for year in range(2013,2015) :\n",
      "        print pd.DataFrame(\n",
      "        data = zip(*liste_simulations),\n",
      "        columns = liste_scenario, \n",
      "        index = (variable, variable),\n",
      "        )\n",
      "        \n",
      "# Brian 04/03/17h : Par rapport \u00e0 hier soir, j'ai r\u00e9ussi \u00e0 avancer \n",
      "# mais je comprends toujours pas pourquoi j'ai pas les r\u00e9sultats qui apparaissent.. .\n",
      "# @ Adrien : j'ai regard\u00e9 et essay\u00e9 de modifier mais ca ne change pas les r\u00e9sultats.."
     ],
     "language": "python",
     "metadata": {},
     "outputs": [
      {
       "output_type": "stream",
       "stream": "stdout",
       "text": [
        "    scenario_m_ff  scenario_2m_2ff\n",
        "sal         [1.5]                1\n",
        "sal         [1.5]                1\n",
        "    scenario_m_ff  scenario_2m_2ff\n",
        "sal         [1.5]                1\n",
        "sal         [1.5]                1\n",
        "        scenario_m_ff  scenario_2m_2ff\n",
        "revdisp         [1.5]                1\n",
        "revdisp         [1.5]                1\n",
        "        scenario_m_ff  scenario_2m_2ff\n",
        "revdisp         [1.5]                1\n",
        "revdisp         [1.5]                1\n",
        "     scenario_m_ff  scenario_2m_2ff\n",
        "impo         [1.5]                1\n",
        "impo         [1.5]                1\n",
        "     scenario_m_ff  scenario_2m_2ff\n",
        "impo         [1.5]                1\n",
        "impo         [1.5]                1\n",
        "        scenario_m_ff  scenario_2m_2ff\n",
        "tax_hab         [1.5]                1\n",
        "tax_hab         [1.5]                1\n",
        "        scenario_m_ff  scenario_2m_2ff\n",
        "tax_hab         [1.5]                1\n",
        "tax_hab         [1.5]                1\n",
        "     scenario_m_ff  scenario_2m_2ff\n",
        "irpp         [1.5]                1\n",
        "irpp         [1.5]                1\n",
        "     scenario_m_ff  scenario_2m_2ff\n",
        "irpp         [1.5]                1\n",
        "irpp         [1.5]                1\n",
        "    scenario_m_ff  scenario_2m_2ff\n",
        "iai         [1.5]                1\n",
        "iai         [1.5]                1\n",
        "    scenario_m_ff  scenario_2m_2ff\n",
        "iai         [1.5]                1\n",
        "iai         [1.5]                1\n",
        "              scenario_m_ff  scenario_2m_2ff\n",
        "credits_impot         [1.5]                1\n",
        "credits_impot         [1.5]                1\n",
        "              scenario_m_ff  scenario_2m_2ff\n",
        "credits_impot         [1.5]                1\n",
        "credits_impot         [1.5]                1\n",
        "     scenario_m_ff  scenario_2m_2ff\n",
        "cehr         [1.5]                1\n",
        "cehr         [1.5]                1"
       ]
      },
      {
       "output_type": "stream",
       "stream": "stdout",
       "text": [
        "\n",
        "     scenario_m_ff  scenario_2m_2ff\n",
        "cehr         [1.5]                1\n",
        "cehr         [1.5]                1\n",
        "    scenario_m_ff  scenario_2m_2ff\n",
        "apl         [1.5]                1\n",
        "apl         [1.5]                1\n",
        "    scenario_m_ff  scenario_2m_2ff\n",
        "apl         [1.5]                1\n",
        "apl         [1.5]                1\n",
        "    scenario_m_ff  scenario_2m_2ff\n",
        "als         [1.5]                1\n",
        "als         [1.5]                1\n",
        "    scenario_m_ff  scenario_2m_2ff\n",
        "als         [1.5]                1\n",
        "als         [1.5]                1\n",
        "    scenario_m_ff  scenario_2m_2ff\n",
        "alv         [1.5]                1\n",
        "alv         [1.5]                1\n",
        "    scenario_m_ff  scenario_2m_2ff\n",
        "alv         [1.5]                1\n",
        "alv         [1.5]                1\n",
        "    scenario_m_ff  scenario_2m_2ff\n",
        "alf         [1.5]                1\n",
        "alf         [1.5]                1\n",
        "    scenario_m_ff  scenario_2m_2ff\n",
        "alf         [1.5]                1\n",
        "alf         [1.5]                1\n",
        "     scenario_m_ff  scenario_2m_2ff\n",
        "mini         [1.5]                1\n",
        "mini         [1.5]                1\n",
        "     scenario_m_ff  scenario_2m_2ff\n",
        "mini         [1.5]                1\n",
        "mini         [1.5]                1\n",
        "     scenario_m_ff  scenario_2m_2ff\n",
        "aspa         [1.5]                1\n",
        "aspa         [1.5]                1\n",
        "     scenario_m_ff  scenario_2m_2ff\n",
        "aspa         [1.5]                1\n",
        "aspa         [1.5]                1\n",
        "    scenario_m_ff  scenario_2m_2ff\n",
        "aah         [1.5]                1\n",
        "aah         [1.5]                1"
       ]
      },
      {
       "output_type": "stream",
       "stream": "stdout",
       "text": [
        "\n",
        "    scenario_m_ff  scenario_2m_2ff\n",
        "aah         [1.5]                1\n",
        "aah         [1.5]                1\n",
        "     scenario_m_ff  scenario_2m_2ff\n",
        "caah         [1.5]                1\n",
        "caah         [1.5]                1\n",
        "     scenario_m_ff  scenario_2m_2ff\n",
        "caah         [1.5]                1\n",
        "caah         [1.5]                1\n",
        "    scenario_m_ff  scenario_2m_2ff\n",
        "asi         [1.5]                1\n",
        "asi         [1.5]                1\n",
        "    scenario_m_ff  scenario_2m_2ff\n",
        "asi         [1.5]                1\n",
        "asi         [1.5]                1\n",
        "     scenario_m_ff  scenario_2m_2ff\n",
        "aefa         [1.5]                1\n",
        "aefa         [1.5]                1\n",
        "     scenario_m_ff  scenario_2m_2ff\n",
        "aefa         [1.5]                1\n",
        "aefa         [1.5]                1\n",
        "    scenario_m_ff  scenario_2m_2ff\n",
        "api         [1.5]                1\n",
        "api         [1.5]                1\n",
        "    scenario_m_ff  scenario_2m_2ff\n",
        "api         [1.5]                1\n",
        "api         [1.5]                1\n",
        "    scenario_m_ff  scenario_2m_2ff\n",
        "ass         [1.5]                1\n",
        "ass         [1.5]                1\n",
        "    scenario_m_ff  scenario_2m_2ff\n",
        "ass         [1.5]                1\n",
        "ass         [1.5]                1\n",
        "    scenario_m_ff  scenario_2m_2ff\n",
        "psa         [1.5]                1\n",
        "psa         [1.5]                1\n",
        "    scenario_m_ff  scenario_2m_2ff\n",
        "psa         [1.5]                1\n",
        "psa         [1.5]                1\n",
        "    scenario_m_ff  scenario_2m_2ff\n",
        "rsa         [1.5]                1\n",
        "rsa         [1.5]                1\n",
        "    scenario_m_ff  scenario_2m_2ff\n",
        "rsa         [1.5]                1\n",
        "rsa         [1.5]                1"
       ]
      },
      {
       "output_type": "stream",
       "stream": "stdout",
       "text": [
        "\n",
        "    scenario_m_ff  scenario_2m_2ff\n",
        "ars         [1.5]                1\n",
        "ars         [1.5]                1\n",
        "    scenario_m_ff  scenario_2m_2ff\n",
        "ars         [1.5]                1\n",
        "ars         [1.5]                1\n",
        "       scenario_m_ff  scenario_2m_2ff\n",
        "teicaa         [1.5]                1\n",
        "teicaa         [1.5]                1\n",
        "       scenario_m_ff  scenario_2m_2ff\n",
        "teicaa         [1.5]                1\n",
        "teicaa         [1.5]                1\n",
        "   scenario_m_ff  scenario_2m_2ff\n",
        "af         [1.5]                1\n",
        "af         [1.5]                1\n",
        "   scenario_m_ff  scenario_2m_2ff\n",
        "af         [1.5]                1\n",
        "af         [1.5]                1\n",
        "     scenario_m_ff  scenario_2m_2ff\n",
        "pfam         [1.5]                1\n",
        "pfam         [1.5]                1\n",
        "     scenario_m_ff  scenario_2m_2ff\n",
        "pfam         [1.5]                1\n",
        "pfam         [1.5]                1\n",
        "    scenario_m_ff  scenario_2m_2ff\n",
        "rng         [1.5]                1\n",
        "rng         [1.5]                1\n",
        "    scenario_m_ff  scenario_2m_2ff\n",
        "rng         [1.5]                1\n",
        "rng         [1.5]                1\n",
        "    scenario_m_ff  scenario_2m_2ff\n",
        "asf         [1.5]                1\n",
        "asf         [1.5]                1\n",
        "    scenario_m_ff  scenario_2m_2ff\n",
        "asf         [1.5]                1\n",
        "asf         [1.5]                1\n",
        "      scenario_m_ff  scenario_2m_2ff\n",
        "nbptr         [1.5]                1\n",
        "nbptr         [1.5]                1\n",
        "      scenario_m_ff  scenario_2m_2ff\n",
        "nbptr         [1.5]                1\n",
        "nbptr         [1.5]                1"
       ]
      },
      {
       "output_type": "stream",
       "stream": "stdout",
       "text": [
        "\n"
       ]
      }
     ],
     "prompt_number": 95
    },
    {
     "cell_type": "code",
     "collapsed": false,
     "input": [
      "# essai 2\n",
      "\n",
      "for variable in variables: \n",
      "    for year in range(2013,2015) :\n",
      "        pd.DataFrame(\n",
      "        data = zip(*liste_m_ff),\n",
      "        columns = ['scenario_m_ff'], \n",
      "        index = (variable, variable),\n",
      "        )\n",
      "        df = pd.DataFrame(\n",
      "        data = zip(*liste_m_ff),\n",
      "        columns = ['scenario_m_ff'], \n",
      "        index = (variable, variable),\n",
      "        )\n",
      "        print df\n",
      "        \n",
      "# Brian 04/03/17h30 : Par rapport \u00e0 hier soir, j'ai r\u00e9ussi \u00e0 avancer \n",
      "# mais je comprends toujours pas pourquoi j'ai pas les r\u00e9sultats qui apparaissent.. .\n",
      "# @ Adrien : j'ai regard\u00e9 et essay\u00e9 de modifier mais ca ne change pas les r\u00e9sultats.."
     ],
     "language": "python",
     "metadata": {},
     "outputs": [
      {
       "output_type": "stream",
       "stream": "stdout",
       "text": [
        "     scenario_m_ff\n",
        "sal            1.5\n",
        "sal            1.5\n",
        "     scenario_m_ff\n",
        "sal            1.5\n",
        "sal            1.5\n",
        "         scenario_m_ff\n",
        "revdisp            1.5\n",
        "revdisp            1.5\n",
        "         scenario_m_ff\n",
        "revdisp            1.5\n",
        "revdisp            1.5\n",
        "      scenario_m_ff\n",
        "impo            1.5\n",
        "impo            1.5\n",
        "      scenario_m_ff\n",
        "impo            1.5\n",
        "impo            1.5\n",
        "         scenario_m_ff\n",
        "tax_hab            1.5\n",
        "tax_hab            1.5\n",
        "         scenario_m_ff\n",
        "tax_hab            1.5\n",
        "tax_hab            1.5\n",
        "      scenario_m_ff\n",
        "irpp            1.5\n",
        "irpp            1.5\n",
        "      scenario_m_ff\n",
        "irpp            1.5\n",
        "irpp            1.5\n",
        "     scenario_m_ff\n",
        "iai            1.5\n",
        "iai            1.5\n",
        "     scenario_m_ff\n",
        "iai            1.5\n",
        "iai            1.5\n",
        "               scenario_m_ff\n",
        "credits_impot            1.5\n",
        "credits_impot            1.5\n",
        "               scenario_m_ff\n",
        "credits_impot            1.5\n",
        "credits_impot            1.5\n",
        "      scenario_m_ff\n",
        "cehr            1.5\n",
        "cehr            1.5\n",
        "      scenario_m_ff\n",
        "cehr            1.5\n",
        "cehr            1.5\n",
        "     scenario_m_ff\n",
        "apl            1.5\n",
        "apl            1.5\n",
        "     scenario_m_ff\n",
        "apl            1.5\n",
        "apl            1.5\n",
        "     scenario_m_ff\n",
        "als            1.5\n",
        "als            1.5"
       ]
      },
      {
       "output_type": "stream",
       "stream": "stdout",
       "text": [
        "\n",
        "     scenario_m_ff\n",
        "als            1.5\n",
        "als            1.5\n",
        "     scenario_m_ff\n",
        "alv            1.5\n",
        "alv            1.5\n",
        "     scenario_m_ff\n",
        "alv            1.5\n",
        "alv            1.5\n",
        "     scenario_m_ff\n",
        "alf            1.5\n",
        "alf            1.5\n",
        "     scenario_m_ff\n",
        "alf            1.5\n",
        "alf            1.5\n",
        "      scenario_m_ff\n",
        "mini            1.5\n",
        "mini            1.5\n",
        "      scenario_m_ff\n",
        "mini            1.5\n",
        "mini            1.5\n",
        "      scenario_m_ff\n",
        "aspa            1.5\n",
        "aspa            1.5\n",
        "      scenario_m_ff\n",
        "aspa            1.5\n",
        "aspa            1.5\n",
        "     scenario_m_ff\n",
        "aah            1.5\n",
        "aah            1.5\n",
        "     scenario_m_ff\n",
        "aah            1.5\n",
        "aah            1.5\n",
        "      scenario_m_ff\n",
        "caah            1.5\n",
        "caah            1.5\n",
        "      scenario_m_ff\n",
        "caah            1.5\n",
        "caah            1.5\n",
        "     scenario_m_ff\n",
        "asi            1.5\n",
        "asi            1.5\n",
        "     scenario_m_ff\n",
        "asi            1.5\n",
        "asi            1.5\n",
        "      scenario_m_ff\n",
        "aefa            1.5\n",
        "aefa            1.5\n",
        "      scenario_m_ff\n",
        "aefa            1.5\n",
        "aefa            1.5\n",
        "     scenario_m_ff\n",
        "api            1.5\n",
        "api            1.5"
       ]
      },
      {
       "output_type": "stream",
       "stream": "stdout",
       "text": [
        "\n",
        "     scenario_m_ff\n",
        "api            1.5\n",
        "api            1.5\n",
        "     scenario_m_ff\n",
        "ass            1.5\n",
        "ass            1.5\n",
        "     scenario_m_ff\n",
        "ass            1.5\n",
        "ass            1.5\n",
        "     scenario_m_ff\n",
        "psa            1.5\n",
        "psa            1.5\n",
        "     scenario_m_ff\n",
        "psa            1.5\n",
        "psa            1.5\n",
        "     scenario_m_ff\n",
        "rsa            1.5\n",
        "rsa            1.5\n",
        "     scenario_m_ff\n",
        "rsa            1.5\n",
        "rsa            1.5\n",
        "     scenario_m_ff\n",
        "ars            1.5\n",
        "ars            1.5\n",
        "     scenario_m_ff\n",
        "ars            1.5\n",
        "ars            1.5\n",
        "        scenario_m_ff\n",
        "teicaa            1.5\n",
        "teicaa            1.5\n",
        "        scenario_m_ff\n",
        "teicaa            1.5\n",
        "teicaa            1.5\n",
        "    scenario_m_ff\n",
        "af            1.5\n",
        "af            1.5\n",
        "    scenario_m_ff\n",
        "af            1.5\n",
        "af            1.5\n",
        "      scenario_m_ff\n",
        "pfam            1.5\n",
        "pfam            1.5\n",
        "      scenario_m_ff\n",
        "pfam            1.5\n",
        "pfam            1.5\n",
        "     scenario_m_ff\n",
        "rng            1.5\n",
        "rng            1.5\n",
        "     scenario_m_ff\n",
        "rng            1.5\n",
        "rng            1.5\n",
        "     scenario_m_ff\n",
        "asf            1.5\n",
        "asf            1.5"
       ]
      },
      {
       "output_type": "stream",
       "stream": "stdout",
       "text": [
        "\n",
        "     scenario_m_ff\n",
        "asf            1.5\n",
        "asf            1.5\n",
        "       scenario_m_ff\n",
        "nbptr            1.5\n",
        "nbptr            1.5\n",
        "       scenario_m_ff\n",
        "nbptr            1.5\n",
        "nbptr            1.5\n"
       ]
      }
     ],
     "prompt_number": 118
    },
    {
     "cell_type": "code",
     "collapsed": false,
     "input": [
      "# essai 3 \n",
      "\n",
      "for variable in variables: \n",
      "    for year in range(2013,2015) :\n",
      "        print df"
     ],
     "language": "python",
     "metadata": {},
     "outputs": [
      {
       "output_type": "stream",
       "stream": "stdout",
       "text": [
        "       scenario_m_ff\n",
        "nbptr            1.5\n",
        "nbptr            1.5\n",
        "       scenario_m_ff\n",
        "nbptr            1.5\n",
        "nbptr            1.5\n",
        "       scenario_m_ff\n",
        "nbptr            1.5\n",
        "nbptr            1.5\n",
        "       scenario_m_ff\n",
        "nbptr            1.5\n",
        "nbptr            1.5\n",
        "       scenario_m_ff\n",
        "nbptr            1.5\n",
        "nbptr            1.5\n",
        "       scenario_m_ff\n",
        "nbptr            1.5\n",
        "nbptr            1.5\n",
        "       scenario_m_ff\n",
        "nbptr            1.5\n",
        "nbptr            1.5\n",
        "       scenario_m_ff\n",
        "nbptr            1.5\n",
        "nbptr            1.5\n",
        "       scenario_m_ff\n",
        "nbptr            1.5\n",
        "nbptr            1.5\n",
        "       scenario_m_ff\n",
        "nbptr            1.5\n",
        "nbptr            1.5\n",
        "       scenario_m_ff\n",
        "nbptr            1.5\n",
        "nbptr            1.5\n",
        "       scenario_m_ff\n",
        "nbptr            1.5\n",
        "nbptr            1.5\n",
        "       scenario_m_ff\n",
        "nbptr            1.5\n",
        "nbptr            1.5\n",
        "       scenario_m_ff\n",
        "nbptr            1.5\n",
        "nbptr            1.5\n",
        "       scenario_m_ff\n",
        "nbptr            1.5\n",
        "nbptr            1.5\n",
        "       scenario_m_ff\n",
        "nbptr            1.5\n",
        "nbptr            1.5\n",
        "       scenario_m_ff\n",
        "nbptr            1.5\n",
        "nbptr            1.5\n",
        "       scenario_m_ff\n",
        "nbptr            1.5\n",
        "nbptr            1.5\n",
        "       scenario_m_ff\n",
        "nbptr            1.5\n",
        "nbptr            1.5\n",
        "       scenario_m_ff\n",
        "nbptr            1.5\n",
        "nbptr            1.5\n",
        "       scenario_m_ff\n",
        "nbptr            1.5\n",
        "nbptr            1.5\n",
        "       scenario_m_ff\n",
        "nbptr            1.5\n",
        "nbptr            1.5\n",
        "       scenario_m_ff\n",
        "nbptr            1.5\n",
        "nbptr            1.5\n",
        "       scenario_m_ff\n",
        "nbptr            1.5\n",
        "nbptr            1.5\n",
        "       scenario_m_ff\n",
        "nbptr            1.5\n",
        "nbptr            1.5\n",
        "       scenario_m_ff\n",
        "nbptr            1.5\n",
        "nbptr            1.5\n",
        "       scenario_m_ff\n",
        "nbptr            1.5\n",
        "nbptr            1.5\n",
        "       scenario_m_ff\n",
        "nbptr            1.5\n",
        "nbptr            1.5\n",
        "       scenario_m_ff\n",
        "nbptr            1.5\n",
        "nbptr            1.5\n",
        "       scenario_m_ff\n",
        "nbptr            1.5\n",
        "nbptr            1.5\n",
        "       scenario_m_ff\n",
        "nbptr            1.5\n",
        "nbptr            1.5\n",
        "       scenario_m_ff\n",
        "nbptr            1.5\n",
        "nbptr            1.5\n",
        "       scenario_m_ff\n",
        "nbptr            1.5\n",
        "nbptr            1.5"
       ]
      },
      {
       "output_type": "stream",
       "stream": "stdout",
       "text": [
        "\n",
        "       scenario_m_ff\n",
        "nbptr            1.5\n",
        "nbptr            1.5\n",
        "       scenario_m_ff\n",
        "nbptr            1.5\n",
        "nbptr            1.5\n",
        "       scenario_m_ff\n",
        "nbptr            1.5\n",
        "nbptr            1.5\n",
        "       scenario_m_ff\n",
        "nbptr            1.5\n",
        "nbptr            1.5\n",
        "       scenario_m_ff\n",
        "nbptr            1.5\n",
        "nbptr            1.5\n",
        "       scenario_m_ff\n",
        "nbptr            1.5\n",
        "nbptr            1.5\n",
        "       scenario_m_ff\n",
        "nbptr            1.5\n",
        "nbptr            1.5\n",
        "       scenario_m_ff\n",
        "nbptr            1.5\n",
        "nbptr            1.5\n",
        "       scenario_m_ff\n",
        "nbptr            1.5\n",
        "nbptr            1.5\n",
        "       scenario_m_ff\n",
        "nbptr            1.5\n",
        "nbptr            1.5\n",
        "       scenario_m_ff\n",
        "nbptr            1.5\n",
        "nbptr            1.5\n",
        "       scenario_m_ff\n",
        "nbptr            1.5\n",
        "nbptr            1.5\n",
        "       scenario_m_ff\n",
        "nbptr            1.5\n",
        "nbptr            1.5\n",
        "       scenario_m_ff\n",
        "nbptr            1.5\n",
        "nbptr            1.5\n",
        "       scenario_m_ff\n",
        "nbptr            1.5\n",
        "nbptr            1.5\n",
        "       scenario_m_ff\n",
        "nbptr            1.5\n",
        "nbptr            1.5\n",
        "       scenario_m_ff\n",
        "nbptr            1.5\n",
        "nbptr            1.5\n",
        "       scenario_m_ff\n",
        "nbptr            1.5\n",
        "nbptr            1.5\n",
        "       scenario_m_ff\n",
        "nbptr            1.5\n",
        "nbptr            1.5\n",
        "       scenario_m_ff\n",
        "nbptr            1.5\n",
        "nbptr            1.5\n",
        "       scenario_m_ff\n",
        "nbptr            1.5\n",
        "nbptr            1.5\n",
        "       scenario_m_ff\n",
        "nbptr            1.5\n",
        "nbptr            1.5\n",
        "       scenario_m_ff\n",
        "nbptr            1.5\n",
        "nbptr            1.5\n",
        "       scenario_m_ff\n",
        "nbptr            1.5\n",
        "nbptr            1.5\n",
        "       scenario_m_ff\n",
        "nbptr            1.5\n",
        "nbptr            1.5\n"
       ]
      }
     ],
     "prompt_number": 122
    },
    {
     "cell_type": "heading",
     "level": 1,
     "metadata": {},
     "source": [
      "6. Graphiques"
     ]
    },
    {
     "cell_type": "heading",
     "level": 4,
     "metadata": {},
     "source": [
      "J'ai utilis\u00e9 une boucle for pour les ann\u00e9es, afin de repr\u00e9senter plusieurs courbes sur un m\u00eame graphique."
     ]
    },
    {
     "cell_type": "code",
     "collapsed": false,
     "input": [
      "for year in range (2013, 2015) :\n",
      "    salaire_imposable = simulation_m_ff.calculate('sal', period = year)[:200:2] \n",
      "    salaire_imposable.shape\n",
      "    print salaire_imposable\n"
     ],
     "language": "python",
     "metadata": {},
     "outputs": [
      {
       "output_type": "stream",
       "stream": "stdout",
       "text": [
        "[ 30000.      0.]\n",
        "[ 30000.      0.]\n"
       ]
      }
     ],
     "prompt_number": 63
    },
    {
     "cell_type": "heading",
     "level": 4,
     "metadata": {},
     "source": [
      "Dans tous les sc\u00e9narios, le salaire_imposable reste le m\u00eame."
     ]
    },
    {
     "cell_type": "heading",
     "level": 2,
     "metadata": {},
     "source": [
      "6.1 Gain en IRPP li\u00e9 au d\u00e9tachement fiscal"
     ]
    },
    {
     "cell_type": "code",
     "collapsed": false,
     "input": [
      "for year in range (2013, 2015) :\n",
      "    iai_m_ff = simulation_m_ff.calculate(\"iai\", period = year)\n",
      "    iai_2m_2ff = simulation_2m_2ff.calculate(\"iai\", period = year)\n",
      "    type (simulation_m_ff) "
     ],
     "language": "python",
     "metadata": {},
     "outputs": [],
     "prompt_number": 64
    },
    {
     "cell_type": "heading",
     "level": 4,
     "metadata": {},
     "source": [
      "On pourrait aussi calculer et repr\u00e9senter \"irpp\" mais comme l'\u00e9volution de \"impo\" et \"irpp\" sont identiques, j'ai choisi de n'en repr\u00e9senter qu'une."
     ]
    },
    {
     "cell_type": "heading",
     "level": 4,
     "metadata": {},
     "source": [
      "Ci-dessous, j'ai pu int\u00e9grer une boucle avec les ann\u00e9es : les deux courbes sont confondues car il n'y a pas de diff\u00e9rence de gain en iai entre 2013 et 2014 j'ai pr\u00e9f\u00e9r\u00e9 tout avoir sur un m\u00eame graphique mais on peut aussi avoir une ann\u00e9e par graphique (boucle for au d\u00e9but)"
     ]
    },
    {
     "cell_type": "code",
     "collapsed": false,
     "input": [
      "fig = plt.figure() \n",
      "for year in range (2013, 2015) :\n",
      "    plt.plot(salaire_imposable, iai_2m_2ff, label = u\"iai avec d\u00e9tachement fiscal\")\n",
      "    plt.ylabel(u\"Montant iai\", fontsize=12)\n",
      "    plt.xlabel(u\"salaire imposable\", fontsize=12)\n",
      "    plt.legend(loc = 4, shadow=True, fancybox=True)"
     ],
     "language": "python",
     "metadata": {},
     "outputs": [
      {
       "metadata": {},
       "output_type": "display_data",
       "png": "[encoded data removed]",
       "text": [
        "<matplotlib.figure.Figure at 0x7f75208b6590>"
       ]
      }
     ],
     "prompt_number": 108
    },
    {
     "cell_type": "code",
     "collapsed": false,
     "input": [
      "fig = plt.figure() \n",
      "for year in range (2013, 2015) :\n",
      "    plt.plot(salaire_imposable, iai_2m_2ff, label = u\"iai avec d\u00e9tachement fiscal\".format(year))\n",
      "    plt.ylabel(u\"Montant iai\", fontsize=12)\n",
      "    plt.xlabel(u\"salaire imposable\", fontsize=12)\n",
      "    plt.legend(loc = 4, shadow=True, fancybox=True)\n",
      "    \n",
      "# Brian : je voudrais que la l\u00e9gende stipule l'ann\u00e9e\n",
      "# Par exemple : 'iai avec d\u00e9tachement fiscal en 2013' etc."
     ],
     "language": "python",
     "metadata": {},
     "outputs": [
      {
       "metadata": {},
       "output_type": "display_data",
       "png": "[encoded data removed]",
       "text": [
        "<matplotlib.figure.Figure at 0x7f7520d5e990>"
       ]
      }
     ],
     "prompt_number": 112
    },
    {
     "cell_type": "code",
     "collapsed": false,
     "input": [
      "fig = plt.figure()\n",
      "for year in range (2013, 2015) : # Brian : de m\u00eame et les suivants aussi\n",
      "    plt.plot(salaire_imposable, iai_2m_2ff - iai_m_ff, label = u\"gain en iai li\u00e9 au d\u00e9t fiscal\")\n",
      "    plt.ylabel(u\"Diff\u00e9rence en iai\", fontsize=12)\n",
      "    plt.xlabel(u\"salaire imposable\", fontsize=12)\n",
      "    plt.legend(loc = 4, shadow=True, fancybox=True)"
     ],
     "language": "python",
     "metadata": {},
     "outputs": [
      {
       "metadata": {},
       "output_type": "display_data",
       "png": "[encoded data removed]",
       "text": [
        "<matplotlib.figure.Figure at 0x7f7520a36d10>"
       ]
      }
     ],
     "prompt_number": 67
    },
    {
     "cell_type": "heading",
     "level": 4,
     "metadata": {},
     "source": [
      "Note graphique : Pour un salaire_imposable de 14000 euros, d\u00e9tacher son enfant du foyer fiscal rapporte environ 500 euros en imp\u00f4ts avant imputation ce qui explique exactement le gain en Imp\u00f4t sur le revenu des personnes physique (irpp) ; la variation est identique entre iai et irpp. J'ai pris iai car variable positive."
     ]
    },
    {
     "cell_type": "heading",
     "level": 2,
     "metadata": {},
     "source": [
      "6.2 Gain en revdisp li\u00e9 au d\u00e9tachement fiscal"
     ]
    },
    {
     "cell_type": "code",
     "collapsed": false,
     "input": [
      "for year in range (2013, 2015) :\n",
      "    revdisp_m_ff = simulation_m_ff.calculate(\"revdisp\", period = year)\n",
      "    revdisp_2m_2ff = simulation_2m_2ff.calculate(\"revdisp\", period = year)\n",
      "    type (simulation_m_ff) \n",
      "    print pd.DataFrame(\n",
      "        data = [revdisp_m_ff, revdisp_2m_2ff],\n",
      "        columns = ['revdisp_m_ff', 'revdisp_2m_2ff'],\n",
      "        index = (year in range(2013,2015), year in range(2013,2015)),\n",
      "        )"
     ],
     "language": "python",
     "metadata": {},
     "outputs": [
      {
       "output_type": "stream",
       "stream": "stdout",
       "text": [
        "      revdisp_m_ff  revdisp_2m_2ff\n",
        "True  61647.011719             NaN\n",
        "True  60147.011719               0\n",
        "      revdisp_m_ff  revdisp_2m_2ff\n",
        "True  62032.542969             NaN\n",
        "True  60524.542969               0\n"
       ]
      }
     ],
     "prompt_number": 90
    },
    {
     "cell_type": "code",
     "collapsed": false,
     "input": [
      "fig = plt.figure()\n",
      "for year in range (2013, 2015) :\n",
      "    plt.plot(salaire_imposable, revdisp_2m_2ff, label = u\"revdisp avec d\u00e9t fiscal\")\n",
      "    plt.legend(loc = 4, shadow=True, fancybox=True)"
     ],
     "language": "python",
     "metadata": {},
     "outputs": [
      {
       "metadata": {},
       "output_type": "display_data",
       "png": "[encoded data removed]",
       "text": [
        "<matplotlib.figure.Figure at 0x7f75209deb90>"
       ]
      }
     ],
     "prompt_number": 72
    },
    {
     "cell_type": "code",
     "collapsed": false,
     "input": [
      "fig = plt.figure()\n",
      "for year in range (2013, 2015) :\n",
      "    plt.plot(salaire_imposable, revdisp_2m_2ff - revdisp_m_ff, label = u\"gain en revdisp li\u00e9 au d\u00e9t fiscal\")\n",
      "    plt.ylabel(u\"Diff en revenus dispo\", fontsize=12)\n",
      "    plt.xlabel(u\"salaire imposable\", fontsize=12)\n",
      "    plt.legend(loc = 4, shadow=True, fancybox=True)"
     ],
     "language": "python",
     "metadata": {},
     "outputs": [
      {
       "metadata": {},
       "output_type": "display_data",
       "png": "[encoded data removed]",
       "text": [
        "<matplotlib.figure.Figure at 0x7f7520a4ef90>"
       ]
      }
     ],
     "prompt_number": 79
    },
    {
     "cell_type": "heading",
     "level": 4,
     "metadata": {},
     "source": [
      "Note graphique : pour un salaire imposable de 15000\u20ac, le revenu disponible des parents est plus \u00e9lev\u00e9 sans d\u00e9tachement fiscal de leur enfant en 2013 et 2014"
     ]
    },
    {
     "cell_type": "heading",
     "level": 1,
     "metadata": {},
     "source": [
      "7. Commentaires"
     ]
    }
   ],
   "metadata": {}
  }
 ]
}