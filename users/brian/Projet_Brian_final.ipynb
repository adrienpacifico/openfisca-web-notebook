{
 "metadata": {
  "name": "",
  "signature": "sha256:8b287315e728372ce9fdbd8cd270ab5ce6044f10a945f83491d5f7a761eab811"
 },
 "nbformat": 3,
 "nbformat_minor": 0,
 "worksheets": [
  {
   "cells": [
    {
     "cell_type": "heading",
     "level": 1,
     "metadata": {},
     "source": [
      "Quand y a t-il des gains ou pertes fiscaux lorsque l'enfant se d\u00e9tache du foyer fiscal et quitte le m\u00e9nage familial ?"
     ]
    },
    {
     "cell_type": "heading",
     "level": 1,
     "metadata": {},
     "source": [
      "Plan"
     ]
    },
    {
     "cell_type": "markdown",
     "metadata": {},
     "source": [
      "1.Introduction\n",
      "    * 1.1. Description projet\n",
      "    * 1.2. M\u00e9thodologie\n",
      "    * 1.3. Test \u00e0 blanc et importation \n",
      "    * 1.4. D\u00e9finition variables\n",
      "\n",
      "2.Couple avec sal_de_base =  19 380 euros \n",
      "    * 2.1. Scenario_m_ff\n",
      "    * 2.2. Scenario_2m_2ff\n",
      "    * 2.3. R\u00e9sultats\n",
      "    * 2.4. Graphique gain en IRPP li\u00e9 au d\u00e9tachement fiscal\n",
      "    * 2.5. Graphique gain en Revdisp li\u00e9 au d\u00e9tachement fiscal\n",
      "     \n",
      "3.Couple avec sal_de_base = 223\u00a0710 euros \n",
      "    * 3.1. Scenario_m_ff\n",
      "    * 3.2. Scenario_2m_2ff\n",
      "    * 3.3. R\u00e9sultats\n",
      "    * 3.4. Graphique gain en IRPP li\u00e9 au d\u00e9tachement fiscal\n",
      "    * 3.5. Graphique gain en Revdisp li\u00e9 au d\u00e9tachement fiscal    \n",
      "    \n",
      "4.Synth\u00e8se des deux cas\n",
      "    * 4.1. Tableaux comparatifs et commentaires\n",
      "    * 4.2. Commentaires\n",
      "    \n",
      "5.Propositions pour des am\u00e9liorations\n",
      "    * 5.1. Graphiques avec boucles et nouvelle l\u00e9gende\n",
      "    * 5.2. Tableaux avec boucles imbriqu\u00e9es (5 essais)\n",
      "    * 5.3. Cr\u00e9ation de boucles pour cr\u00e9er un continuum de salaire (2 essais)\n",
      "    * 5.4. Etudier la diff\u00e9rence de gain entre APL et ratachement fiscal : APL ou rattachement fiscal ? (Actualit\u00e9 2015)\n",
      "    \n",
      "6.Bilan programmation\n",
      "\n",
      "    * 6.1. Comp\u00e9tences acquises avec Python\n",
      "    * 6.2. Journal de bord de programmation\n",
      "      * 12 f\u00e9vrier 2015\n",
      "      * 15 f\u00e9vrier 2015\n",
      "      * 16 f\u00e9vrier 2015\n",
      "      * 20 f\u00e9vrier 2015\n",
      "      * 21 f\u00e9vrier 2015\n",
      "      * 22 f\u00e9vrier 2015\n",
      "      * 23 f\u00e9vrier 2015\n",
      "      * 24 f\u00e9vrier 2015\n",
      "      * 25 f\u00e9vrier 2015      \n",
      "      * 26 f\u00e9vrier 2015\n",
      "      * 27 f\u00e9vrier 2015\n",
      "      * 1  mars 2015\n",
      "      * 2  mars 2015\n",
      "      * 3  mars 2015\n",
      "      * 4  mars 2015\n",
      "      * 5  mars 2015\n",
      "      * 7  mars 2015\n",
      "      * 9  mars 2015\n",
      "      * 10  mars 2015\n",
      "      * 11 mars 2015"
     ]
    },
    {
     "cell_type": "heading",
     "level": 1,
     "metadata": {},
     "source": [
      "1. Introduction"
     ]
    },
    {
     "cell_type": "markdown",
     "metadata": {},
     "source": [
      "    * 1.1. Description projet\n",
      "    * 1.2. M\u00e9thodologie\n",
      "    * 1.3. Test \u00e0 blanc et importation \n",
      "    * 1.4. D\u00e9finition variables"
     ]
    },
    {
     "cell_type": "heading",
     "level": 2,
     "metadata": {},
     "source": [
      "1.1. Description projet "
     ]
    },
    {
     "cell_type": "markdown",
     "metadata": {},
     "source": [
      "Ce projet me semble int\u00e9ressant car il pourrait permettre de donner un outil de d\u00e9cision fiscal pour les agents \u00e9conomiques dans leur programme de maximisation d\u2019avantage fiscal : payer le moins d\u2019imp\u00f4ts et recevoir le plus d\u2019aides en consid\u00e9rant l\u2019hypoth\u00e8se d\u2019homoeconomicus sans pr\u00e9f\u00e9rence altruiste pour la participation \u00e0 la provision de biens publics. \n",
      "\n",
      "De plus, cette \u00e9tude peut \u00eatre utile pour mettre en \u00e9vidence un conflit entre le principe de Pareto et une redistribution \u00ab juste \u00bb (qui reste \u00e0 d\u00e9finir). Pour le calcul de l'imp\u00f4t, le revenu imposable est divis\u00e9 par un certain nombre de parts d\u00e9pendant de la composition du foyer fiscal. Pour un couple mari\u00e9 par exemple, les deux premiers enfants comptent chacun pour une demi-part et le troisi\u00e8me enfant pour une part enti\u00e8re. Et chaque part de quotient familial permet d\u2019obtenir une r\u00e9duction d\u2019imp\u00f4t. \n",
      "\n",
      "Toutefois, selon Marie-Christine Sonkin (http://patrimoine.lesechos.fr/patrimoine/placement/0202992522342-faut-il-ou-non-choisir-de-detacher-son-enfant-etudiant-de-son-foyer-fiscal-604782.php ) :\n",
      "\n",
      "\u00ab L\u2019avantage en imp\u00f4t procur\u00e9 par chaque demi-part additionnelle est plafonn\u00e9. Et ce plafond ne cesse de baisser. Il est pass\u00e9 de 2336 euros en 2011 \u00e0 2000 euros en 2012 et devrait \u00eatre r\u00e9duit \u00e0 1500 euros pour les revenus per\u00e7us en 2013 \u00bb. D\u00e8s lors, m\u00eame si d\u2019apr\u00e8s vosdroits.service-public.fr, les enfants \u00e9tudiants peuvent \u00eatre rattach\u00e9s jusqu'\u00e0 25 ans au foyer fiscal (\u00ab vos enfants mineurs sont normalement consid\u00e9r\u00e9s \u00e0 votre charge \u00bb et , \u00ab pour \u00eatre rattach\u00e9 \u00e0 au foyer fiscal, l\u2019enfant enfant majeur doit, au 1er janvier 2014, avoir moins de 21 ans (ou 25 ans s'il poursuit des \u00e9tudes) \u00bb, vosdroits.service-public.fr),  il peut \u00eatre plus avantageux de les d\u00e9tacher. En effet, si les parents choisissent de ne pas rattacher leur enfant \u00e0 leur foyer fiscal, ils peuvent d\u00e9duire les frais qu\u2019ils engagent pour lui (h\u00e9bergement, nourriture, v\u00eatements, loyer s\u2019il a son propre logement\u2026), dans la limite de 5726 euros annuels. Il faut alors pouvoir prouver que l\u2019enfant est dans le besoin (absence de revenus suffisants) et \u00eatre en mesure de justifier la r\u00e9alit\u00e9 et le montant des d\u00e9penses effectu\u00e9es : charges d\u00e9ductibles. Sauf si l\u2019enfant vit chez ses parents qui peuvent alors d\u00e9duire les d\u00e9penses d\u2019h\u00e9bergement et de nourriture pour un forfait de 3386 euros annuels.\n",
      "\n",
      "Or, si le d\u00e9tachement fiscal ne profite pas \u00e0 tous les agents d\u2019une intensit\u00e9 \u00e9quitable, cela reviendrait \u00e0 reconna\u00eetre l\u2019existence d\u2019\u00e9ventuelles in\u00e9galit\u00e9s dans la capacit\u00e9 \u00e0 maximiser pleinement le programme d\u2019optimisation d\u2019avantage fiscal que les agents \u00e9conomiques poursuivent. Et, d\u2019apr\u00e8s la th\u00e9orie de la justice de Rawls (ann\u00e9e ?),  si ces in\u00e9galit\u00e9s ne profitent pas aux plus d\u00e9munis (les agents ayant un revenu imposable qui ne d\u00e9passe pas la premi\u00e8re tranche d\u2019imposition par exemple) alors elles ne sont pas tol\u00e9rables car elles cr\u00e9ent une injustice. Ainsi \u00e0 qui profite le d\u00e9tachement fiscal et selon quelle intensit\u00e9 ?\n",
      "\n",
      "Par ailleurs,  Les Echos ont publi\u00e9 jeudi 30 janvier dernier un rapport que trois organismes d\u2019Etat, le Conseil g\u00e9n\u00e9ral de l\u2019environnement et du d\u00e9veloppement durable (CGEDD), l\u2019Inspection g\u00e9n\u00e9rale des affaires sociales (IGAS) et l\u2019Inspection g\u00e9n\u00e9rale des finances (IGF) ont r\u00e9alis\u00e9 \u00e0 la demande du gouvernement. Ce rapport pr\u00e9voit la suppression du rattachement \n",
      "fiscal pour tout \u00e9tudiant qui re\u00e7oit les APL ce qui fait dire \u00e0 beaucoup que ce rapport est \u00ab explosif \u00bb (\n",
      "* http://www.lesechos.fr/economie-france/budget-fiscalite/0204119469632-logement-les-propositions-chocs-sur-la-table-du-gouvernement-pour-degager-des-economies-1088265.php \n",
      "* http://www.quelleenergie.fr/magazine/aspects-juridiques/rapport-choc-politique-logement-34148/ \n",
      "* http://www.letudiant.fr/actualite/apl-l-aide-au-logement-menacee-pour-les-etudiants.html). \n",
      "\n",
      "Pour l\u2019instant, comme l\u2019a La ministre du Logement, Sylvia Pinel, a d\u00e9clar\u00e9 dans un communiqu\u00e9 que ce rapport n'\u00e9tait qu'un \u00ab  document de travail. Il n'exprime pas la position du gouvernement, mais il vient contribuer \u00e0 sa r\u00e9flexion \u00bb (http://www.letudiant.fr/actualite/apl-l-aide-au-logement-menacee-pour-les-etudiants.html ). Ainsi, cette \u00e9tude peut permettre d\u2019anticiper l\u2019impact de cette mesure sur la situation fiscale des agents \u00e9conomiques.  "
     ]
    },
    {
     "cell_type": "heading",
     "level": 2,
     "metadata": {},
     "source": [
      "1.2. M\u00e9thodologie"
     ]
    },
    {
     "cell_type": "markdown",
     "metadata": {},
     "source": [
      "Nous d\u00e9finissons d\u2019abord un cas type : couple mari\u00e9 dont les deux individus ont le m\u00eame revenu imposable, ayant un enfant de 22 ans en 2015 qui est \u00e9tudiant et ne travaille pas. A partir de  cas type nous allons \u00e9tudier deux cas pour lesquels le salaire de base du couple varie. Nous d\u00e9finissons ces salaires en s\u2019appuyant sur le nouveau bar\u00e8me d\u2019imposition de 2015\n",
      "\n",
      "(http://www.impots.gouv.fr/portal/dgi/public/popup;jsessionid=JAGM0UA0H5PAFQFIEIQCFFQ?espId=0&typePage=cpr02&docOid=documentstandard_6889):\n",
      "\n",
      "Ainsi un couple avec un salaire_de_base de 19380 euros ; couple avec sal_de_base de 223\u00a0710 euros (Dans des recherches futures, nous pourrions d\u00e9finir un continuum de cas pour lequel le revenu imposable varie de 9690 euros \u00e0 1000000 euros selon un pas d\u00e9fini au pr\u00e9alable).\n",
      "\n",
      "Et, pour chacun des cas nous allons \u00e9tudier deux sc\u00e9narios : \n",
      "\n",
      "* scenario_m_ff: les parents et l\u2019enfant forment un seul m\u00e9nage et un  seul foyer fiscal ;\n",
      "* scenario_2m_2ff : l\u2019enfant quitte le m\u00e9nage et le foyer fiscal de ses parents. \n",
      "\n",
      "Afin de simplifier les notations dans la programmation, nous avons d\u00e9fini nos variables ainsi : \n",
      "m : m\u00e9nage ; ff : foyer fiscal ; ind0 et ind1 : parents ;  ind2 : enfant. \n",
      "\n",
      "D\u00e8s lors, nous allons pouvoir \u00e9tudier l\u2019impact du d\u00e9tachement fiscal gr\u00e2ce aux variables suivantes que nous avons choisi dans la ressource documentaire d\u2019openfisca.fr. Nous pr\u00e9sentons ici les principales :  \n"
     ]
    },
    {
     "cell_type": "heading",
     "level": 2,
     "metadata": {},
     "source": [
      "1.3.Importation et test \u00e0 blanc"
     ]
    },
    {
     "cell_type": "code",
     "collapsed": false,
     "input": [
      "%matplotlib inline\n",
      "import matplotlib.pyplot as plt\n",
      "import numpy as np\n",
      "import pandas as pd\n",
      "import collections\n",
      "import json\n",
      "\n",
      "import datetime\n",
      "import openfisca_france \n",
      "from openfisca_matplotlib import graphs\n",
      "from openfisca_core import periods\n",
      "from scipy import interpolate\n",
      "\n",
      "TaxBenefitSystem = openfisca_france.init_country()  \n",
      "tax_benefit_system = TaxBenefitSystem() \n",
      "Period = periods.Period\n",
      "Instant = periods.Instant"
     ],
     "language": "python",
     "metadata": {},
     "outputs": [],
     "prompt_number": 2
    },
    {
     "cell_type": "code",
     "collapsed": false,
     "input": [
      "TaxBenefitSystem = openfisca_france.init_country()  # Initialisation de la classe d\u00e9crivant le syst\u00e8me socio-fiscal fran\u00e7ais\n",
      "tax_benefit_system = TaxBenefitSystem()  "
     ],
     "language": "python",
     "metadata": {},
     "outputs": [],
     "prompt_number": 3
    },
    {
     "cell_type": "code",
     "collapsed": false,
     "input": [
      "scenario = tax_benefit_system.new_scenario().init_single_entity(\n",
      "    period = \"2014\",\n",
      "    parent1 = dict()\n",
      "    )\n",
      "simulation = scenario.new_simulation()\n",
      "simulation.calculate('revdisp')"
     ],
     "language": "python",
     "metadata": {},
     "outputs": [
      {
       "metadata": {},
       "output_type": "pyout",
       "prompt_number": 4,
       "text": [
        "array([ 6184.12988281], dtype=float32)"
       ]
      }
     ],
     "prompt_number": 4
    },
    {
     "cell_type": "code",
     "collapsed": false,
     "input": [
      "scenario.test_case"
     ],
     "language": "python",
     "metadata": {},
     "outputs": [
      {
       "metadata": {},
       "output_type": "pyout",
       "prompt_number": 5,
       "text": [
        "{'familles': [{'enfants': [], 'id': 0, 'parents': ['ind0']}],\n",
        " 'foyers_fiscaux': [{'declarants': ['ind0'],\n",
        "   'id': 0,\n",
        "   'personnes_a_charge': []}],\n",
        " 'individus': [{'id': 'ind0'}],\n",
        " 'menages': [{'autres': [],\n",
        "   'conjoint': None,\n",
        "   'enfants': [],\n",
        "   'id': 0,\n",
        "   'personne_de_reference': 'ind0'}]}"
       ]
      }
     ],
     "prompt_number": 5
    },
    {
     "cell_type": "heading",
     "level": 2,
     "metadata": {},
     "source": [
      "1.4. D\u00e9finition des variables"
     ]
    },
    {
     "cell_type": "code",
     "collapsed": false,
     "input": [
      "variables = [\n",
      "'sal', \n",
      "'revdisp', \n",
      "'impo', \n",
      "'tax_hab', \n",
      "'irpp', \n",
      "'iai', \n",
      "'credits_impot', \n",
      "'cehr', \n",
      "'apl', \n",
      "'als', \n",
      "'alv', \n",
      "'alf', \n",
      "'mini', \n",
      "'aspa', \n",
      "'aah', \n",
      "'caah', \n",
      "'asi', \n",
      "'aefa', \n",
      "'api', \n",
      "'ass', \n",
      "'psa', \n",
      "'rsa', \n",
      "'ars', \n",
      "'teicaa', \n",
      "'af', \n",
      "'pfam', \n",
      "'rng', \n",
      "'asf', \n",
      "'nbptr',\n",
      "] \n",
      "# ici quand je rajoute 'alset', il y a des probl\u00e8mes. Donc je ne l'ai pas mise."
     ],
     "language": "python",
     "metadata": {},
     "outputs": [],
     "prompt_number": 6
    },
    {
     "cell_type": "heading",
     "level": 1,
     "metadata": {},
     "source": [
      "2. Couple avec sal_imp =  19 380 euros "
     ]
    },
    {
     "cell_type": "markdown",
     "metadata": {},
     "source": [
      "    * 2.1 * Scenario_m_ff\n",
      "    * 2.2 * Scenario_2m_2ff\n",
      "    * 2.3 * R\u00e9sultats\n",
      "    * 2.4 * Graphique gain en IRPP li\u00e9 au d\u00e9tachement fiscal\n",
      "    * 2.5 * Graphique gain en Revdisp li\u00e9 au d\u00e9tachement fiscal"
     ]
    },
    {
     "cell_type": "code",
     "collapsed": false,
     "input": [
      "individus = [ \n",
      "\n",
      "    {'id': 'ind0', u'salaire_de_base':{\n",
      "        Period((u'year', Instant((2013, 1, 1)), 1)): 9690.0,\n",
      "        Period((u'year', Instant((2014, 1, 1)), 1)): 9690.0,\n",
      "        }, \n",
      "        'birth': datetime.date(1960, 1, 1)\n",
      "    },\n",
      "\n",
      "    {'id': 'ind1', u'salaire_de_base': {\n",
      "        Period((u'year', Instant((2013, 1, 1)), 1)): 9690.0,\n",
      "        Period((u'year', Instant((2014, 1, 1)), 1)): 9690.0,\n",
      "         },\n",
      "        'birth': datetime.date(1961, 12, 1)\n",
      "    },\n",
      "\n",
      "    {'id' :'ind2',  'birth': datetime.date(2014-22, 1, 1)}\n",
      "\n",
      "    ]"
     ],
     "language": "python",
     "metadata": {},
     "outputs": [],
     "prompt_number": 7
    },
    {
     "cell_type": "code",
     "collapsed": false,
     "input": [
      "familles = [\n",
      "    {'id': 0, 'enfants': ['ind2'], 'parents': ['ind0', 'ind1']}\n",
      "    ] "
     ],
     "language": "python",
     "metadata": {},
     "outputs": [],
     "prompt_number": 8
    },
    {
     "cell_type": "heading",
     "level": 2,
     "metadata": {},
     "source": [
      "2.1. Scenario_m_ff "
     ]
    },
    {
     "cell_type": "heading",
     "level": 4,
     "metadata": {},
     "source": [
      "L'enfant est avec ses parents. Je construis le scenario_m_ff : trois individus, une famille, un m\u00e9nage, un foyer fiscal."
     ]
    },
    {
     "cell_type": "code",
     "collapsed": false,
     "input": [
      "menages = [\n",
      "    {'id': 0, 'conjoint': 'ind1', 'autres': [], 'enfants': ['ind2'], 'personne_de_reference': 'ind0'}\n",
      "    ]"
     ],
     "language": "python",
     "metadata": {},
     "outputs": [],
     "prompt_number": 9
    },
    {
     "cell_type": "code",
     "collapsed": false,
     "input": [
      "foyers_fiscaux = [\n",
      "    {'id': 0, 'personnes_a_charge': ['ind2'], 'declarants': ['ind0', 'ind1']}\n",
      "    ] "
     ],
     "language": "python",
     "metadata": {},
     "outputs": [],
     "prompt_number": 10
    },
    {
     "cell_type": "code",
     "collapsed": false,
     "input": [
      "test_case_m_ff = {'individus' : individus, 'menages' : menages,'familles' : familles, 'foyers_fiscaux' : foyers_fiscaux}"
     ],
     "language": "python",
     "metadata": {},
     "outputs": [],
     "prompt_number": 11
    },
    {
     "cell_type": "code",
     "collapsed": false,
     "input": [
      "scenario_m_ff = tax_benefit_system.new_scenario()\n",
      "type(scenario_m_ff)"
     ],
     "language": "python",
     "metadata": {},
     "outputs": [
      {
       "metadata": {},
       "output_type": "pyout",
       "prompt_number": 12,
       "text": [
        "openfisca_france.scenarios.Scenario"
       ]
      }
     ],
     "prompt_number": 12
    },
    {
     "cell_type": "code",
     "collapsed": false,
     "input": [
      "scenario_m_ff.test_case = test_case_m_ff"
     ],
     "language": "python",
     "metadata": {},
     "outputs": [],
     "prompt_number": 13
    },
    {
     "cell_type": "code",
     "collapsed": false,
     "input": [
      "scenario_m_ff.period = periods.period(\"2014\")  "
     ],
     "language": "python",
     "metadata": {},
     "outputs": [],
     "prompt_number": 14
    },
    {
     "cell_type": "code",
     "collapsed": false,
     "input": [
      "simulation_m_ff = scenario_m_ff.new_simulation(debug = True , trace = True)"
     ],
     "language": "python",
     "metadata": {},
     "outputs": [],
     "prompt_number": 15
    },
    {
     "cell_type": "heading",
     "level": 2,
     "metadata": {},
     "source": [
      "2.2. Scenario_2m_2ff"
     ]
    },
    {
     "cell_type": "heading",
     "level": 4,
     "metadata": {},
     "source": [
      "L'enfant quitte le m\u00e9nage et le foyer fiscal de ses parents. Je construis le scenario_2m_2ff : trois individus, une famille, deux m\u00e9nages, deux foyerx fiscaux."
     ]
    },
    {
     "cell_type": "code",
     "collapsed": false,
     "input": [
      "foyers_fiscaux_par = [\n",
      "    {'id': 0, 'personnes_a_charge': [], 'declarants': ['ind0', 'ind1']}\n",
      "    ]\n",
      "# Ici, je cr\u00e9e le foyer fiscal des parents (d\u00e9claration commune des parents)"
     ],
     "language": "python",
     "metadata": {},
     "outputs": [],
     "prompt_number": 16
    },
    {
     "cell_type": "code",
     "collapsed": false,
     "input": [
      "foyers_fiscaux_enf = [\n",
      "    {'id': 1, 'personnes_a_charge': [], 'declarants': ['ind2']}\n",
      "    ]\n",
      "# Ici, je cr\u00e9e le foyer fiscal du jeune gar\u00e7on qui veut devenir ind\u00e9pendant"
     ],
     "language": "python",
     "metadata": {},
     "outputs": [],
     "prompt_number": 17
    },
    {
     "cell_type": "code",
     "collapsed": false,
     "input": [
      "foyers_fiscaux_div = foyers_fiscaux_par + foyers_fiscaux_enf #fusion des deux nouveaux foyers pour \u00e9conomie dans le test_case\n",
      "# \"div\" pour \"divis\u00e9\""
     ],
     "language": "python",
     "metadata": {},
     "outputs": [],
     "prompt_number": 18
    },
    {
     "cell_type": "code",
     "collapsed": false,
     "input": [
      "menages_par = [\n",
      "    {'id': 0, 'conjoint': 'ind1', 'autres': [], 'enfants': [], 'personne_de_reference': 'ind0'}\n",
      "    ]\n",
      "# puisque l'enfant quitte la maison familiale pour aller \u00e9tudier, il quitte le m\u00e9nage"
     ],
     "language": "python",
     "metadata": {},
     "outputs": [],
     "prompt_number": 19
    },
    {
     "cell_type": "code",
     "collapsed": false,
     "input": [
      "menages_enf = [\n",
      "    {'id': 1, 'autres': [], 'enfants': [], 'personne_de_reference': 'ind2'}\n",
      "    ]\n",
      "# et donc il forme un nouveau m\u00e9nage"
     ],
     "language": "python",
     "metadata": {},
     "outputs": [],
     "prompt_number": 20
    },
    {
     "cell_type": "code",
     "collapsed": false,
     "input": [
      "menages_div = menages_par + menages_enf # fusion des deux m\u00e9nages pour \u00e9conomie dans le test_case"
     ],
     "language": "python",
     "metadata": {},
     "outputs": [],
     "prompt_number": 21
    },
    {
     "cell_type": "code",
     "collapsed": false,
     "input": [
      "test_case_2m_2ff = {\n",
      "'individus' : individus, \n",
      "'menages' : menages_div,\n",
      "'familles' : familles, \n",
      "'foyers_fiscaux' : foyers_fiscaux_div,\n",
      "}  \n",
      "# Dans le test_case, cette fois je rajoute les deux foyers_fiscaux et les deux m\u00e9nages"
     ],
     "language": "python",
     "metadata": {},
     "outputs": [],
     "prompt_number": 22
    },
    {
     "cell_type": "code",
     "collapsed": false,
     "input": [
      "test_case_2m_2ff.keys() \n",
      "# ici je regarde les clefs de mon dico"
     ],
     "language": "python",
     "metadata": {},
     "outputs": [
      {
       "metadata": {},
       "output_type": "pyout",
       "prompt_number": 23,
       "text": [
        "['foyers_fiscaux', 'individus', 'familles', 'menages']"
       ]
      }
     ],
     "prompt_number": 23
    },
    {
     "cell_type": "code",
     "collapsed": false,
     "input": [
      "test_case_2m_2ff.values() \n",
      "# ici je regarde les clefs de mon dico"
     ],
     "language": "python",
     "metadata": {},
     "outputs": [
      {
       "metadata": {},
       "output_type": "pyout",
       "prompt_number": 24,
       "text": [
        "[[{'declarants': ['ind0', 'ind1'], 'id': 0, 'personnes_a_charge': []},\n",
        "  {'declarants': ['ind2'], 'id': 1, 'personnes_a_charge': []}],\n",
        " [{'birth': datetime.date(1960, 1, 1),\n",
        "   'id': 'ind0',\n",
        "   u'salaire_de_base': {Period((u'year', Instant((2013, 1, 1)), 1)): 9690.0,\n",
        "    Period((u'year', Instant((2014, 1, 1)), 1)): 9690.0}},\n",
        "  {'birth': datetime.date(1961, 12, 1),\n",
        "   'id': 'ind1',\n",
        "   u'salaire_de_base': {Period((u'year', Instant((2013, 1, 1)), 1)): 9690.0,\n",
        "    Period((u'year', Instant((2014, 1, 1)), 1)): 9690.0}},\n",
        "  {'birth': datetime.date(1992, 1, 1), 'id': 'ind2'}],\n",
        " [{'enfants': ['ind2'], 'id': 0, 'parents': ['ind0', 'ind1']}],\n",
        " [{'autres': [],\n",
        "   'conjoint': 'ind1',\n",
        "   'enfants': [],\n",
        "   'id': 0,\n",
        "   'personne_de_reference': 'ind0'},\n",
        "  {'autres': [], 'enfants': [], 'id': 1, 'personne_de_reference': 'ind2'}]]"
       ]
      }
     ],
     "prompt_number": 24
    },
    {
     "cell_type": "code",
     "collapsed": false,
     "input": [
      "scenario_2m_2ff = tax_benefit_system.new_scenario()\n",
      "type(scenario_2m_2ff)"
     ],
     "language": "python",
     "metadata": {},
     "outputs": [
      {
       "metadata": {},
       "output_type": "pyout",
       "prompt_number": 25,
       "text": [
        "openfisca_france.scenarios.Scenario"
       ]
      }
     ],
     "prompt_number": 25
    },
    {
     "cell_type": "code",
     "collapsed": false,
     "input": [
      "scenario_2m_2ff.test_case = test_case_2m_2ff"
     ],
     "language": "python",
     "metadata": {},
     "outputs": [],
     "prompt_number": 26
    },
    {
     "cell_type": "code",
     "collapsed": false,
     "input": [
      "scenario_2m_2ff.period = periods.period(\"2014\")"
     ],
     "language": "python",
     "metadata": {},
     "outputs": [],
     "prompt_number": 27
    },
    {
     "cell_type": "code",
     "collapsed": false,
     "input": [
      "simulation_2m_2ff = scenario_2m_2ff.new_simulation(debug = True , trace = True) "
     ],
     "language": "python",
     "metadata": {},
     "outputs": [],
     "prompt_number": 28
    },
    {
     "cell_type": "heading",
     "level": 2,
     "metadata": {},
     "source": [
      "2.3. R\u00e9sultats"
     ]
    },
    {
     "cell_type": "code",
     "collapsed": false,
     "input": [
      "for variable in variables: \n",
      "    for year in range(2013,2015) :\n",
      "        print variable, simulation_m_ff.calculate(variable, year), simulation_2m_2ff.calculate(variable, year)\n",
      "        liste_m_ff = simulation_m_ff.calculate(variable, year),  \n",
      "        liste_2m_2ff = simulation_2m_2ff.calculate(variable, year)\n",
      "        print liste_m_ff\n",
      "        print liste_2m_2ff"
     ],
     "language": "python",
     "metadata": {},
     "outputs": [
      {
       "output_type": "stream",
       "stream": "stdout",
       "text": [
        "sal "
       ]
      },
      {
       "output_type": "stream",
       "stream": "stdout",
       "text": [
        "[ 9690.  9690.     0.] "
       ]
      },
      {
       "output_type": "stream",
       "stream": "stdout",
       "text": [
        "[ 9690.  9690.     0.]\n",
        "(array([ 9690.,  9690.,     0.], dtype=float32),)\n",
        "[ 9690.  9690.     0.]\n",
        "sal "
       ]
      },
      {
       "output_type": "stream",
       "stream": "stdout",
       "text": [
        "[ 9690.  9690.     0.] "
       ]
      },
      {
       "output_type": "stream",
       "stream": "stdout",
       "text": [
        "[ 9690.  9690.     0.]\n",
        "(array([ 9690.,  9690.,     0.], dtype=float32),)\n",
        "[ 9690.  9690.     0.]\n",
        "revdisp "
       ]
      },
      {
       "output_type": "stream",
       "stream": "stdout",
       "text": [
        "[ 29929.10742188] "
       ]
      },
      {
       "output_type": "stream",
       "stream": "stdout",
       "text": [
        "[ 29024.171875      0.      ]\n",
        "(array([ 29929.10742188], dtype=float32),)\n",
        "[ 29024.171875      0.      ]\n",
        "revdisp "
       ]
      },
      {
       "output_type": "stream",
       "stream": "stdout",
       "text": [
        "[ 30365.72851562] "
       ]
      },
      {
       "output_type": "stream",
       "stream": "stdout",
       "text": [
        "[ 29380.41992188      0.        ]\n",
        "(array([ 30365.72851562], dtype=float32),)\n",
        "[ 29380.41992188      0.        ]\n",
        "impo [-187.10372925] [-1092.04003906     0.        ]\n",
        "(array([-187.10372925], dtype=float32),)\n",
        "[-1092.04003906     0.        ]\n",
        "impo [-99.97000122] [-1085.2800293     0.       ]\n",
        "(array([-99.97000122], dtype=float32),)\n",
        "[-1085.2800293     0.       ]\n",
        "tax_hab [ 0.] [ 0.  0.]\n",
        "(array([ 0.], dtype=float32),)\n",
        "[ 0.  0.]\n",
        "tax_hab [ 0.] [ 0.  0.]\n",
        "(array([ 0.], dtype=float32),)\n",
        "[ 0.  0.]\n",
        "irpp [-187.10372925] [-1092.04003906     0.        ]\n",
        "(array([-187.10372925], dtype=float32),)\n",
        "[-1092.04003906     0.        ]\n",
        "irpp [-99.97000122] [-1085.2800293     0.       ]\n",
        "(array([-99.97000122], dtype=float32),)\n",
        "[-1085.2800293     0.       ]\n",
        "iai [ 187.10372925] [ 1092.04003906     0.        ]\n",
        "(array([ 187.10372925], dtype=float32),)\n",
        "[ 1092.04003906     0.        ]\n",
        "iai [ 99.97000122] [ 1085.2800293     0.       ]\n",
        "(array([ 99.97000122], dtype=float32),)\n",
        "[ 1085.2800293     0.       ]\n",
        "credits_impot [ 0.] [ 0.  0.]\n",
        "(array([ 0.], dtype=float32),)\n",
        "[ 0.  0.]\n",
        "credits_impot [ 0.] [ 0.  0.]\n",
        "(array([ 0.], dtype=float32),)\n",
        "[ 0.  0.]\n",
        "cehr [ 0.] [ 0.  0.]\n",
        "(array([ 0.], dtype=float32),)\n",
        "[ 0.  0.]\n",
        "cehr [ 0.] [ 0.  0.]\n",
        "(array([ 0.], dtype=float32),)\n",
        "[ 0.  0.]\n",
        "apl [ 0.] [ 0.]\n",
        "(array([ 0.], dtype=float32),)\n",
        "[ 0.]\n",
        "apl [ 0.] [ 0.]\n",
        "(array([ 0.], dtype=float32),)\n",
        "[ 0.]\n",
        "als [ 0.] [ 0.]\n",
        "(array([ 0.], dtype=float32),)\n",
        "[ 0.]\n",
        "als [ 0.] [ 0.]\n",
        "(array([ 0.], dtype=float32),)\n",
        "[ 0.]\n",
        "alv [ 0.] [ 0.  0.]\n",
        "(array([ 0.], dtype=float32),)\n",
        "[ 0.  0.]\n",
        "alv [ 0.] [ 0.  0.]\n",
        "(array([ 0.], dtype=float32),)\n",
        "[ 0.  0.]\n",
        "alf [ 0.] [ 0.]\n",
        "(array([ 0.], dtype=float32),)\n",
        "[ 0.]\n",
        "alf [ 0.] [ 0.]\n",
        "(array([ 0.], dtype=float32),)"
       ]
      },
      {
       "output_type": "stream",
       "stream": "stdout",
       "text": [
        "\n",
        "[ 0.]\n",
        "mini [ 10736.20996094] [ 10736.20996094]\n",
        "(array([ 10736.20996094], dtype=float32),)\n",
        "[ 10736.20996094]\n",
        "mini [ 11085.69921875] [ 11085.69921875]\n",
        "(array([ 11085.69921875], dtype=float32),)\n",
        "[ 11085.69921875]\n",
        "aspa [ 0.] [ 0.]\n",
        "(array([ 0.], dtype=float32),)\n",
        "[ 0.]\n",
        "aspa [ 0.] [ 0.]\n",
        "(array([ 0.], dtype=float32),)\n",
        "[ 0.]\n",
        "aah [ 0.  0.  0.] [ 0.  0.  0.]\n",
        "(array([ 0.,  0.,  0.], dtype=float32),)\n",
        "[ 0.  0.  0.]\n",
        "aah [ 0.  0.  0.] [ 0.  0.  0.]\n",
        "(array([ 0.,  0.,  0.], dtype=float32),)\n",
        "[ 0.  0.  0.]\n",
        "caah [ 0.  0.  0.] [ 0.  0.  0.]\n",
        "(array([ 0.,  0.,  0.], dtype=float32),)\n",
        "[ 0.  0.  0.]\n",
        "caah [ 0.  0.  0.] [ 0.  0.  0.]\n",
        "(array([ 0.,  0.,  0.], dtype=float32),)\n",
        "[ 0.  0.  0.]\n",
        "asi [ 0.] [ 0.]\n",
        "(array([ 0.], dtype=float32),)\n",
        "[ 0.]\n",
        "asi [ 0.] [ 0.]\n",
        "(array([ 0.], dtype=float32),)\n",
        "[ 0.]\n",
        "aefa [ 228.67500305] [ 228.67500305]\n",
        "(array([ 228.67500305], dtype=float32),)\n",
        "[ 228.67500305]\n",
        "aefa [ 228.67500305] [ 228.67500305]\n",
        "(array([ 228.67500305], dtype=float32),)\n",
        "[ 228.67500305]\n",
        "api [ 0.] [ 0.]\n",
        "(array([ 0.], dtype=float32),)\n",
        "[ 0.]\n",
        "api [ 0.] [ 0.]\n",
        "(array([ 0.], dtype=float32),)\n",
        "[ 0.]\n",
        "ass [ 0.] [ 0.]\n",
        "(array([ 0.], dtype=float32),)\n",
        "[ 0.]\n",
        "ass [ 0.] [ 0.]\n",
        "(array([ 0.], dtype=float32),)\n",
        "[ 0.]\n",
        "psa [ 0.] [ 0.]\n",
        "(array([ 0.], dtype=float32),)\n",
        "[ 0.]\n",
        "psa [ 0.] [ 0.]\n",
        "(array([ 0.], dtype=float32),)\n",
        "[ 0.]\n",
        "rsa [ 10507.53515625] [ 10507.53515625]\n",
        "(array([ 10507.53515625], dtype=float32),)\n",
        "[ 10507.53515625]\n",
        "rsa [ 10857.02441406] [ 10857.02441406]\n",
        "(array([ 10857.02441406], dtype=float32),)\n",
        "[ 10857.02441406]\n",
        "ars [ 0.]"
       ]
      },
      {
       "output_type": "stream",
       "stream": "stdout",
       "text": [
        " [ 0.]\n",
        "(array([ 0.], dtype=float32),)\n",
        "[ 0.]\n",
        "ars [ 0.] [ 0.]\n",
        "(array([ 0.], dtype=float32),)\n",
        "[ 0.]\n",
        "teicaa [ 0.] [ 0.  0.]\n",
        "(array([ 0.], dtype=float32),)\n",
        "[ 0.  0.]\n",
        "teicaa [ 0.] [ 0.  0.]\n",
        "(array([ 0.], dtype=float32),)\n",
        "[ 0.  0.]\n",
        "af [ 0.] [ 0.]\n",
        "(array([ 0.], dtype=float32),)\n",
        "[ 0.]\n",
        "af [ 0.] [ 0.]\n",
        "(array([ 0.], dtype=float32),)\n",
        "[ 0.]\n",
        "pfam [ 0.] [ 0.]\n",
        "(array([ 0.], dtype=float32),)\n",
        "[ 0.]\n",
        "pfam [ 0.] [ 0.]\n",
        "(array([ 0.], dtype=float32),)\n",
        "[ 0.]\n",
        "rng [ 17442.] [ 17442.      0.]\n",
        "(array([ 17442.], dtype=float32),)\n",
        "[ 17442.      0.]\n",
        "rng [ 17442.] [ 17442.      0.]\n",
        "(array([ 17442.], dtype=float32),)\n",
        "[ 17442.      0.]\n",
        "asf [ 0.] [ 0.]\n",
        "(array([ 0.], dtype=float32),)\n",
        "[ 0.]\n",
        "asf [ 0.] [ 0.]\n",
        "(array([ 0.], dtype=float32),)\n",
        "[ 0.]\n",
        "nbptr [ 1.5] [ 1.  1.]\n",
        "(array([ 1.5], dtype=float32),)\n",
        "[ 1.  1.]\n",
        "nbptr [ 1.5] [ 1.  1.]\n",
        "(array([ 1.5], dtype=float32),)\n",
        "[ 1.  1.]\n"
       ]
      }
     ],
     "prompt_number": 29
    },
    {
     "cell_type": "heading",
     "level": 2,
     "metadata": {},
     "source": [
      "2.4. Graphique gain en IRPP li\u00e9 au d\u00e9tachement fiscal"
     ]
    },
    {
     "cell_type": "heading",
     "level": 4,
     "metadata": {},
     "source": [
      "J'ai utilis\u00e9 une boucle for pour les ann\u00e9es, afin de repr\u00e9senter plusieurs courbes sur un m\u00eame graphique. Les deux courbes sont confondues car les gains sont identiques."
     ]
    },
    {
     "cell_type": "code",
     "collapsed": false,
     "input": [
      "for year in range (2013, 2015) :\n",
      "    salaire_imposable = simulation_m_ff.calculate('sal', period = year)[:200:2] \n",
      "    salaire_imposable.shape\n",
      "    print salaire_imposable"
     ],
     "language": "python",
     "metadata": {},
     "outputs": [
      {
       "output_type": "stream",
       "stream": "stdout",
       "text": [
        "[ 9690.     0.]\n",
        "[ 9690.     0.]\n"
       ]
      }
     ],
     "prompt_number": 30
    },
    {
     "cell_type": "code",
     "collapsed": false,
     "input": [
      "for year in range (2013, 2015) :\n",
      "    iai_m_ff = simulation_m_ff.calculate(\"iai\", period = year)\n",
      "    iai_2m_2ff = simulation_2m_2ff.calculate(\"iai\", period = year)\n",
      "    type (simulation_m_ff) "
     ],
     "language": "python",
     "metadata": {},
     "outputs": [],
     "prompt_number": 31
    },
    {
     "cell_type": "heading",
     "level": 4,
     "metadata": {},
     "source": [
      "On pourrait aussi calculer et repr\u00e9senter \"impo\" mais comme l'\u00e9volution de \"impo\" et \"irpp\" sont identiques, j'ai choisi de n'en repr\u00e9senter qu'une."
     ]
    },
    {
     "cell_type": "markdown",
     "metadata": {},
     "source": [
      "Ci-dessous, j'ai pu int\u00e9grer une boucle avec les ann\u00e9es : les deux courbes sont confondues car il n'y a pas de diff\u00e9rence de gain en iai entre 2013 et 2014 j'ai pr\u00e9f\u00e9r\u00e9 tout avoir sur un m\u00eame graphique mais on peut aussi avoir une ann\u00e9e par graphique (boucle for au d\u00e9but)"
     ]
    },
    {
     "cell_type": "code",
     "collapsed": false,
     "input": [
      "fig = plt.figure() \n",
      "for year in range (2013, 2015) :\n",
      "    plt.plot(salaire_imposable, iai_2m_2ff, label = u\"iai avec d\u00e9tachement fiscal\")\n",
      "    plt.ylabel(u\"Montant iai\", fontsize=12)\n",
      "    plt.xlabel(u\"salaire imposable\", fontsize=12)\n",
      "    plt.legend(loc = 4, shadow=True, fancybox=True)"
     ],
     "language": "python",
     "metadata": {},
     "outputs": [
      {
       "metadata": {},
       "output_type": "display_data",
       "png": "[encoded data removed]",
       "text": [
        "<matplotlib.figure.Figure at 0x7f44ba57e0d0>"
       ]
      }
     ],
     "prompt_number": 32
    },
    {
     "cell_type": "code",
     "collapsed": false,
     "input": [
      "fig = plt.figure()\n",
      "for year in range (2013, 2015) : # Brian : de m\u00eame et les suivants aussi\n",
      "    plt.plot(salaire_imposable, iai_2m_2ff - iai_m_ff, label = u\"gain en iai li\u00e9 au d\u00e9t fiscal\")\n",
      "    plt.ylabel(u\"Diff\u00e9rence en iai\", fontsize=12)\n",
      "    plt.xlabel(u\"salaire imposable\", fontsize=12)\n",
      "    plt.legend(loc = 4, shadow=True, fancybox=True)"
     ],
     "language": "python",
     "metadata": {},
     "outputs": [
      {
       "metadata": {},
       "output_type": "display_data",
       "png": "[encoded data removed]",
       "text": [
        "<matplotlib.figure.Figure at 0x7f44b9afa2d0>"
       ]
      }
     ],
     "prompt_number": 33
    },
    {
     "cell_type": "heading",
     "level": 4,
     "metadata": {},
     "source": [
      "Note graphique : Pour un salaire_imposable de 14000 euros, d\u00e9tacher son enfant du foyer fiscal rapporte environ 500 euros en imp\u00f4ts avant imputation ce qui explique exactement le gain en Imp\u00f4t sur le revenu des personnes physique (irpp) ; la variation est identique entre iai et irpp. J'ai pris iai car variable positive."
     ]
    },
    {
     "cell_type": "heading",
     "level": 2,
     "metadata": {},
     "source": [
      "2.5. Graphique gain en Revdisp li\u00e9 au d\u00e9tachement fiscal"
     ]
    },
    {
     "cell_type": "heading",
     "level": 4,
     "metadata": {},
     "source": [
      "Ci-dessous, j'ai r\u00e9ussi \u00e0 int\u00e9grer un tableau avec panda \u00e0 l'int\u00e9rieur de ma boucle for"
     ]
    },
    {
     "cell_type": "code",
     "collapsed": false,
     "input": [
      "for year in range (2013, 2015) :\n",
      "    revdisp_m_ff = simulation_m_ff.calculate(\"revdisp\", period = year)\n",
      "    revdisp_2m_2ff = simulation_2m_2ff.calculate(\"revdisp\", period = year)\n",
      "    type (simulation_m_ff) \n",
      "    print pd.DataFrame(\n",
      "        data = [revdisp_m_ff, revdisp_2m_2ff],\n",
      "        columns = ['revdisp_m_ff', 'revdisp_2m_2ff'],\n",
      "        index = (year in range(2013,2015), year in range(2013,2015)),\n",
      "        )"
     ],
     "language": "python",
     "metadata": {},
     "outputs": [
      {
       "output_type": "stream",
       "stream": "stdout",
       "text": [
        "      revdisp_m_ff  revdisp_2m_2ff\n",
        "True  29929.107422             NaN\n",
        "True  29024.171875               0\n",
        "      revdisp_m_ff  revdisp_2m_2ff\n",
        "True  30365.728516             NaN\n",
        "True  29380.419922               0\n"
       ]
      }
     ],
     "prompt_number": 34
    },
    {
     "cell_type": "code",
     "collapsed": false,
     "input": [
      "fig = plt.figure()\n",
      "for year in range (2013, 2015) :\n",
      "    plt.plot(salaire_imposable, revdisp_2m_2ff, label = u\"revdisp avec d\u00e9t fiscal\")\n",
      "    plt.legend(loc = 4, shadow=True, fancybox=True)"
     ],
     "language": "python",
     "metadata": {},
     "outputs": [
      {
       "metadata": {},
       "output_type": "display_data",
       "png": "[encoded data removed]",
       "text": [
        "<matplotlib.figure.Figure at 0x7f44b9963c10>"
       ]
      }
     ],
     "prompt_number": 35
    },
    {
     "cell_type": "code",
     "collapsed": false,
     "input": [
      "fig = plt.figure()\n",
      "for year in range (2013, 2015) :\n",
      "    plt.plot(salaire_imposable, revdisp_2m_2ff - revdisp_m_ff, label = u\"gain en revdisp li\u00e9 au d\u00e9t fiscal\")\n",
      "    plt.ylabel(u\"Diff en revenus dispo\", fontsize=12)\n",
      "    plt.xlabel(u\"salaire imposable\", fontsize=12)\n",
      "    plt.legend(loc = 4, shadow=True, fancybox=True)"
     ],
     "language": "python",
     "metadata": {},
     "outputs": [
      {
       "metadata": {},
       "output_type": "display_data",
       "png": "[encoded data removed]",
       "text": [
        "<matplotlib.figure.Figure at 0x7f44b9b3b410>"
       ]
      }
     ],
     "prompt_number": 36
    },
    {
     "cell_type": "heading",
     "level": 1,
     "metadata": {},
     "source": [
      "3. Couple avec sal_de_base = 223\u00a0710 euros "
     ]
    },
    {
     "cell_type": "markdown",
     "metadata": {},
     "source": [
      "    * 3.1 * Scenario_m_ff\n",
      "    * 3.2 * Scenario_2m_2ff\n",
      "    * 3.3 * R\u00e9sultats\n",
      "    * 3.4 * Graphique gain en IRPP li\u00e9 au d\u00e9tachement fiscal\n",
      "    * 3.5 * Graphique gain en Revdisp li\u00e9 au d\u00e9tachement fiscal  "
     ]
    },
    {
     "cell_type": "code",
     "collapsed": false,
     "input": [
      "individus1 = [ \n",
      "\n",
      "    {'id': 'ind3', u'salaire_de_base':{\n",
      "        Period((u'year', Instant((2013, 1, 1)), 1)): 111855.0,\n",
      "        Period((u'year', Instant((2014, 1, 1)), 1)): 111855.0,\n",
      "        }, \n",
      "        'birth': datetime.date(1960, 1, 1)\n",
      "    },\n",
      "\n",
      "    {'id': 'ind4', u'salaire_de_base': {\n",
      "        Period((u'year', Instant((2013, 1, 1)), 1)): 111855.0,\n",
      "        Period((u'year', Instant((2014, 1, 1)), 1)): 111855.0,\n",
      "         },\n",
      "        'birth': datetime.date(1961, 12, 1)\n",
      "    },\n",
      "\n",
      "    {'id' :'ind2',  'birth': datetime.date(2014-22, 1, 1)}\n",
      "    ]"
     ],
     "language": "python",
     "metadata": {},
     "outputs": [],
     "prompt_number": 37
    },
    {
     "cell_type": "code",
     "collapsed": false,
     "input": [
      "familles1 = [\n",
      "    {'id': 0, 'enfants': ['ind2'], 'parents': ['ind3', 'ind4']}\n",
      "    ] "
     ],
     "language": "python",
     "metadata": {},
     "outputs": [],
     "prompt_number": 38
    },
    {
     "cell_type": "heading",
     "level": 2,
     "metadata": {},
     "source": [
      "3.1. Scenario_m_ff "
     ]
    },
    {
     "cell_type": "code",
     "collapsed": false,
     "input": [
      "menages = [\n",
      "    {'id': 0, 'conjoint': 'ind4', 'autres': [], 'enfants': ['ind2'], 'personne_de_reference': 'ind3'}\n",
      "    ]"
     ],
     "language": "python",
     "metadata": {},
     "outputs": [],
     "prompt_number": 39
    },
    {
     "cell_type": "code",
     "collapsed": false,
     "input": [
      "foyers_fiscaux = [\n",
      "    {'id': 0, 'personnes_a_charge': ['ind2'], 'declarants': ['ind3', 'ind4']}\n",
      "    ] "
     ],
     "language": "python",
     "metadata": {},
     "outputs": [],
     "prompt_number": 40
    },
    {
     "cell_type": "code",
     "collapsed": false,
     "input": [
      "test_case_m_ff = {'individus' : individus1, 'menages' : menages,'familles' : familles1, 'foyers_fiscaux' : foyers_fiscaux}"
     ],
     "language": "python",
     "metadata": {},
     "outputs": [],
     "prompt_number": 41
    },
    {
     "cell_type": "code",
     "collapsed": false,
     "input": [
      "scenario_m_ff = tax_benefit_system.new_scenario()\n",
      "type(scenario_m_ff)"
     ],
     "language": "python",
     "metadata": {},
     "outputs": [
      {
       "metadata": {},
       "output_type": "pyout",
       "prompt_number": 42,
       "text": [
        "openfisca_france.scenarios.Scenario"
       ]
      }
     ],
     "prompt_number": 42
    },
    {
     "cell_type": "code",
     "collapsed": false,
     "input": [
      "scenario_m_ff.test_case = test_case_m_ff"
     ],
     "language": "python",
     "metadata": {},
     "outputs": [],
     "prompt_number": 43
    },
    {
     "cell_type": "code",
     "collapsed": false,
     "input": [
      "scenario_m_ff.period = periods.period(\"2014\")  "
     ],
     "language": "python",
     "metadata": {},
     "outputs": [],
     "prompt_number": 44
    },
    {
     "cell_type": "code",
     "collapsed": false,
     "input": [
      "simulation_m_ff = scenario_m_ff.new_simulation(debug = True , trace = True)"
     ],
     "language": "python",
     "metadata": {},
     "outputs": [],
     "prompt_number": 45
    },
    {
     "cell_type": "heading",
     "level": 2,
     "metadata": {},
     "source": [
      "3.2. Scenario_2m_2ff"
     ]
    },
    {
     "cell_type": "code",
     "collapsed": false,
     "input": [
      "foyers_fiscaux_par = [\n",
      "    {'id': 0, 'personnes_a_charge': [], 'declarants': ['ind3', 'ind4']}\n",
      "    ]"
     ],
     "language": "python",
     "metadata": {},
     "outputs": [],
     "prompt_number": 46
    },
    {
     "cell_type": "code",
     "collapsed": false,
     "input": [
      "foyers_fiscaux_enf = [\n",
      "    {'id': 1, 'personnes_a_charge': [], 'declarants': ['ind2']}\n",
      "    ]"
     ],
     "language": "python",
     "metadata": {},
     "outputs": [],
     "prompt_number": 47
    },
    {
     "cell_type": "code",
     "collapsed": false,
     "input": [
      "foyers_fiscaux_div = foyers_fiscaux_par + foyers_fiscaux_enf"
     ],
     "language": "python",
     "metadata": {},
     "outputs": [],
     "prompt_number": 48
    },
    {
     "cell_type": "code",
     "collapsed": false,
     "input": [
      "menages_par = [\n",
      "    {'id': 0, 'conjoint': 'ind4', 'autres': [], 'enfants': [], 'personne_de_reference': 'ind3'}\n",
      "    ]"
     ],
     "language": "python",
     "metadata": {},
     "outputs": [],
     "prompt_number": 49
    },
    {
     "cell_type": "code",
     "collapsed": false,
     "input": [
      "menages_enf = [\n",
      "    {'id': 1, 'autres': [], 'enfants': [], 'personne_de_reference': 'ind2'}\n",
      "    ]"
     ],
     "language": "python",
     "metadata": {},
     "outputs": [],
     "prompt_number": 50
    },
    {
     "cell_type": "code",
     "collapsed": false,
     "input": [
      "menages_div = menages_par + menages_enf"
     ],
     "language": "python",
     "metadata": {},
     "outputs": [],
     "prompt_number": 51
    },
    {
     "cell_type": "code",
     "collapsed": false,
     "input": [
      "test_case_2m_2ff = {\n",
      "'individus' : individus1, \n",
      "'menages' : menages_div,\n",
      "'familles' : familles1, \n",
      "'foyers_fiscaux' : foyers_fiscaux_div,\n",
      "}"
     ],
     "language": "python",
     "metadata": {},
     "outputs": [],
     "prompt_number": 52
    },
    {
     "cell_type": "code",
     "collapsed": false,
     "input": [
      "scenario_2m_2ff = tax_benefit_system.new_scenario()\n",
      "type(scenario_2m_2ff)"
     ],
     "language": "python",
     "metadata": {},
     "outputs": [
      {
       "metadata": {},
       "output_type": "pyout",
       "prompt_number": 53,
       "text": [
        "openfisca_france.scenarios.Scenario"
       ]
      }
     ],
     "prompt_number": 53
    },
    {
     "cell_type": "code",
     "collapsed": false,
     "input": [
      "scenario_2m_2ff.test_case = test_case_2m_2ff"
     ],
     "language": "python",
     "metadata": {},
     "outputs": [],
     "prompt_number": 54
    },
    {
     "cell_type": "code",
     "collapsed": false,
     "input": [
      "scenario_2m_2ff.period = periods.period(\"2014\")"
     ],
     "language": "python",
     "metadata": {},
     "outputs": [],
     "prompt_number": 55
    },
    {
     "cell_type": "code",
     "collapsed": false,
     "input": [
      "simulation_2m_2ff = scenario_2m_2ff.new_simulation(debug = True , trace = True) "
     ],
     "language": "python",
     "metadata": {},
     "outputs": [],
     "prompt_number": 56
    },
    {
     "cell_type": "heading",
     "level": 2,
     "metadata": {},
     "source": [
      "3.3. R\u00e9sultats"
     ]
    },
    {
     "cell_type": "code",
     "collapsed": false,
     "input": [
      "for variable in variables: \n",
      "    for year in range(2013,2015) :\n",
      "        print variable, simulation_m_ff.calculate(variable, year), simulation_2m_2ff.calculate(variable, year)\n",
      "        liste_m_ff = simulation_m_ff.calculate(variable, year),  \n",
      "        liste_2m_2ff = simulation_2m_2ff.calculate(variable, year)\n",
      "        print liste_m_ff\n",
      "        print liste_2m_2ff"
     ],
     "language": "python",
     "metadata": {},
     "outputs": [
      {
       "output_type": "stream",
       "stream": "stdout",
       "text": [
        "sal "
       ]
      },
      {
       "output_type": "stream",
       "stream": "stdout",
       "text": [
        "[ 111855.  111855.       0.] "
       ]
      },
      {
       "output_type": "stream",
       "stream": "stdout",
       "text": [
        "[ 111855.  111855.       0.]\n",
        "(array([ 111855.,  111855.,       0.], dtype=float32),)\n",
        "[ 111855.  111855.       0.]\n",
        "sal "
       ]
      },
      {
       "output_type": "stream",
       "stream": "stdout",
       "text": [
        "[ 111855.  111855.       0.] "
       ]
      },
      {
       "output_type": "stream",
       "stream": "stdout",
       "text": [
        "[ 111855.  111855.       0.]\n",
        "(array([ 111855.,  111855.,       0.], dtype=float32),)\n",
        "[ 111855.  111855.       0.]\n",
        "revdisp "
       ]
      },
      {
       "output_type": "stream",
       "stream": "stdout",
       "text": [
        "[ 164856.5625] "
       ]
      },
      {
       "output_type": "stream",
       "stream": "stdout",
       "text": [
        "[ 163356.5625       0.    ]\n",
        "(array([ 164856.5625], dtype=float32),)\n",
        "[ 163356.5625       0.    ]\n",
        "revdisp "
       ]
      },
      {
       "output_type": "stream",
       "stream": "stdout",
       "text": [
        "[ 165281.375] "
       ]
      },
      {
       "output_type": "stream",
       "stream": "stdout",
       "text": [
        "[ 163773.375       0.   ]\n",
        "(array([ 165281.375], dtype=float32),)\n",
        "[ 163773.375       0.   ]\n",
        "impo [-69589.6328125] [-71089.6328125      0.       ]\n",
        "(array([-69589.6328125], dtype=float32),)\n",
        "[-71089.6328125      0.       ]\n",
        "impo [-69514.3203125] [-71022.3203125      0.       ]\n",
        "(array([-69514.3203125], dtype=float32),)\n",
        "[-71022.3203125      0.       ]\n",
        "tax_hab [ 0.] [ 0.  0.]\n",
        "(array([ 0.], dtype=float32),)\n",
        "[ 0.  0.]\n",
        "tax_hab [ 0.] [ 0.  0.]\n",
        "(array([ 0.], dtype=float32),)\n",
        "[ 0.  0.]\n",
        "irpp [-69589.6328125] [-71089.6328125      0.       ]\n",
        "(array([-69589.6328125], dtype=float32),)\n",
        "[-71089.6328125      0.       ]\n",
        "irpp [-69514.3203125] [-71022.3203125      0.       ]\n",
        "(array([-69514.3203125], dtype=float32),)\n",
        "[-71022.3203125      0.       ]\n",
        "iai [ 69589.6328125] [ 71089.6328125      0.       ]\n",
        "(array([ 69589.6328125], dtype=float32),)\n",
        "[ 71089.6328125      0.       ]\n",
        "iai [ 69514.3203125] [ 71022.3203125      0.       ]\n",
        "(array([ 69514.3203125], dtype=float32),)\n",
        "[ 71022.3203125      0.       ]\n",
        "credits_impot [ 0.] [ 0.  0.]\n",
        "(array([ 0.], dtype=float32),)\n",
        "[ 0.  0.]\n",
        "credits_impot [ 0.] [ 0.  0.]\n",
        "(array([ 0.], dtype=float32),)\n",
        "[ 0.  0.]\n",
        "cehr [ 0.] [ 0.  0.]\n",
        "(array([ 0.], dtype=float32),)\n",
        "[ 0.  0.]\n",
        "cehr [ 0.] [ 0.  0.]\n",
        "(array([ 0.], dtype=float32),)\n",
        "[ 0.  0.]\n",
        "apl [ 0.] [ 0.]\n",
        "(array([ 0.], dtype=float32),)\n",
        "[ 0.]\n",
        "apl [ 0.] [ 0.]\n",
        "(array([ 0.], dtype=float32),)\n",
        "[ 0.]\n",
        "als [ 0.] [ 0.]\n",
        "(array([ 0.], dtype=float32),)\n",
        "[ 0.]\n",
        "als [ 0.] [ 0.]\n",
        "(array([ 0.], dtype=float32),)\n",
        "[ 0.]\n",
        "alv [ 0.] [ 0.  0.]\n",
        "(array([ 0.], dtype=float32),)\n",
        "[ 0.  0.]\n",
        "alv [ 0.] [ 0.  0.]\n",
        "(array([ 0.], dtype=float32),)\n",
        "[ 0.  0.]\n",
        "alf [ 0.] [ 0.]\n",
        "(array([ 0.], dtype=float32),)\n",
        "[ 0.]\n",
        "alf [ 0.] [ 0.]\n",
        "(array([ 0.], dtype=float32),)"
       ]
      },
      {
       "output_type": "stream",
       "stream": "stdout",
       "text": [
        "\n",
        "[ 0.]\n",
        "mini [ 10736.20996094] [ 10736.20996094]\n",
        "(array([ 10736.20996094], dtype=float32),)\n",
        "[ 10736.20996094]\n",
        "mini [ 11085.69921875] [ 11085.69921875]\n",
        "(array([ 11085.69921875], dtype=float32),)\n",
        "[ 11085.69921875]\n",
        "aspa [ 0.] [ 0.]\n",
        "(array([ 0.], dtype=float32),)\n",
        "[ 0.]\n",
        "aspa [ 0.] [ 0.]\n",
        "(array([ 0.], dtype=float32),)\n",
        "[ 0.]\n",
        "aah [ 0.  0.  0.] [ 0.  0.  0.]\n",
        "(array([ 0.,  0.,  0.], dtype=float32),)\n",
        "[ 0.  0.  0.]\n",
        "aah [ 0.  0.  0.] [ 0.  0.  0.]\n",
        "(array([ 0.,  0.,  0.], dtype=float32),)\n",
        "[ 0.  0.  0.]\n",
        "caah [ 0.  0.  0.] [ 0.  0.  0.]\n",
        "(array([ 0.,  0.,  0.], dtype=float32),)\n",
        "[ 0.  0.  0.]\n",
        "caah [ 0.  0.  0.] [ 0.  0.  0.]\n",
        "(array([ 0.,  0.,  0.], dtype=float32),)\n",
        "[ 0.  0.  0.]\n",
        "asi [ 0.] [ 0.]\n",
        "(array([ 0.], dtype=float32),)\n",
        "[ 0.]\n",
        "asi [ 0.] [ 0.]\n",
        "(array([ 0.], dtype=float32),)\n",
        "[ 0.]\n",
        "aefa [ 228.67500305] [ 228.67500305]\n",
        "(array([ 228.67500305], dtype=float32),)\n",
        "[ 228.67500305]\n",
        "aefa [ 228.67500305] [ 228.67500305]\n",
        "(array([ 228.67500305], dtype=float32),)\n",
        "[ 228.67500305]\n",
        "api [ 0.] [ 0.]\n",
        "(array([ 0.], dtype=float32),)\n",
        "[ 0.]\n",
        "api [ 0.] [ 0.]\n",
        "(array([ 0.], dtype=float32),)\n",
        "[ 0.]\n",
        "ass [ 0.] [ 0.]\n",
        "(array([ 0.], dtype=float32),)\n",
        "[ 0.]\n",
        "ass [ 0.] [ 0.]\n",
        "(array([ 0.], dtype=float32),)\n",
        "[ 0.]\n",
        "psa [ 0.] [ 0.]\n",
        "(array([ 0.], dtype=float32),)\n",
        "[ 0.]\n",
        "psa [ 0.] [ 0.]\n",
        "(array([ 0.], dtype=float32),)\n",
        "[ 0.]\n",
        "rsa [ 10507.53515625] [ 10507.53515625]\n",
        "(array([ 10507.53515625], dtype=float32),)\n",
        "[ 10507.53515625]\n",
        "rsa [ 10857.02441406] [ 10857.02441406]\n",
        "(array([ 10857.02441406], dtype=float32),)\n",
        "[ 10857.02441406]\n",
        "ars [ 0.]"
       ]
      },
      {
       "output_type": "stream",
       "stream": "stdout",
       "text": [
        " [ 0.]\n",
        "(array([ 0.], dtype=float32),)\n",
        "[ 0.]\n",
        "ars [ 0.] [ 0.]\n",
        "(array([ 0.], dtype=float32),)\n",
        "[ 0.]\n",
        "teicaa [ 0.] [ 0.  0.]\n",
        "(array([ 0.], dtype=float32),)\n",
        "[ 0.  0.]\n",
        "teicaa [ 0.] [ 0.  0.]\n",
        "(array([ 0.], dtype=float32),)\n",
        "[ 0.  0.]\n",
        "af [ 0.] [ 0.]\n",
        "(array([ 0.], dtype=float32),)\n",
        "[ 0.]\n",
        "af [ 0.] [ 0.]\n",
        "(array([ 0.], dtype=float32),)\n",
        "[ 0.]\n",
        "pfam [ 0.] [ 0.]\n",
        "(array([ 0.], dtype=float32),)\n",
        "[ 0.]\n",
        "pfam [ 0.] [ 0.]\n",
        "(array([ 0.], dtype=float32),)\n",
        "[ 0.]\n",
        "rng [ 201338.] [ 201338.       0.]\n",
        "(array([ 201338.], dtype=float32),)\n",
        "[ 201338.       0.]\n",
        "rng [ 201338.] [ 201338.       0.]\n",
        "(array([ 201338.], dtype=float32),)\n",
        "[ 201338.       0.]\n",
        "asf [ 0.] [ 0.]\n",
        "(array([ 0.], dtype=float32),)\n",
        "[ 0.]\n",
        "asf [ 0.] [ 0.]\n",
        "(array([ 0.], dtype=float32),)\n",
        "[ 0.]\n",
        "nbptr [ 1.5] [ 1.  1.]\n",
        "(array([ 1.5], dtype=float32),)\n",
        "[ 1.  1.]\n",
        "nbptr [ 1.5] [ 1.  1.]\n",
        "(array([ 1.5], dtype=float32),)\n",
        "[ 1.  1.]\n"
       ]
      }
     ],
     "prompt_number": 57
    },
    {
     "cell_type": "heading",
     "level": 2,
     "metadata": {},
     "source": [
      "3.4. Graphique gains en IRPP li\u00e9 au d\u00e9tachement fiscal"
     ]
    },
    {
     "cell_type": "code",
     "collapsed": false,
     "input": [
      "for year in range (2013, 2015) :\n",
      "    salaire_imposable = simulation_m_ff.calculate('sal', period = year)[:200:2] \n",
      "    salaire_imposable.shape\n",
      "    print salaire_imposable"
     ],
     "language": "python",
     "metadata": {},
     "outputs": [
      {
       "output_type": "stream",
       "stream": "stdout",
       "text": [
        "[ 111855.       0.]\n",
        "[ 111855.       0.]\n"
       ]
      }
     ],
     "prompt_number": 58
    },
    {
     "cell_type": "code",
     "collapsed": false,
     "input": [
      "for year in range (2013, 2015) :\n",
      "    iai_m_ff = simulation_m_ff.calculate(\"iai\", period = year)\n",
      "    iai_2m_2ff = simulation_2m_2ff.calculate(\"iai\", period = year)\n",
      "    type (simulation_m_ff) "
     ],
     "language": "python",
     "metadata": {},
     "outputs": [],
     "prompt_number": 59
    },
    {
     "cell_type": "code",
     "collapsed": false,
     "input": [
      "fig = plt.figure() \n",
      "for year in range (2013, 2015) :\n",
      "    plt.plot(salaire_imposable, iai_2m_2ff, label = u\"iai avec d\u00e9tachement fiscal\")\n",
      "    plt.ylabel(u\"Montant iai\", fontsize=12)\n",
      "    plt.xlabel(u\"salaire imposable\", fontsize=12)\n",
      "    plt.legend(loc = 4, shadow=True, fancybox=True)"
     ],
     "language": "python",
     "metadata": {},
     "outputs": [
      {
       "metadata": {},
       "output_type": "display_data",
       "png": "[encoded data removed]",
       "text": [
        "<matplotlib.figure.Figure at 0x7f44ba0a6990>"
       ]
      }
     ],
     "prompt_number": 60
    },
    {
     "cell_type": "code",
     "collapsed": false,
     "input": [
      "fig = plt.figure() \n",
      "for year in range (2013, 2015) :\n",
      "    plt.plot(salaire_imposable, iai_2m_2ff, label = u\"iai avec d\u00e9tachement fiscal\".format(year))\n",
      "    plt.ylabel(u\"Montant iai\", fontsize=12)\n",
      "    plt.xlabel(u\"salaire imposable\", fontsize=12)\n",
      "    plt.legend(loc = 4, shadow=True, fancybox=True)"
     ],
     "language": "python",
     "metadata": {},
     "outputs": [
      {
       "metadata": {},
       "output_type": "display_data",
       "png": "[encoded data removed]",
       "text": [
        "<matplotlib.figure.Figure at 0x7f44b9d78d50>"
       ]
      }
     ],
     "prompt_number": 61
    },
    {
     "cell_type": "code",
     "collapsed": false,
     "input": [
      "fig = plt.figure()\n",
      "for year in range (2013, 2015) : # Brian : de m\u00eame et les suivants aussi\n",
      "    plt.plot(salaire_imposable, iai_2m_2ff - iai_m_ff, label = u\"gain en iai li\u00e9 au d\u00e9t fiscal\")\n",
      "    plt.ylabel(u\"Diff\u00e9rence en iai\", fontsize=12)\n",
      "    plt.xlabel(u\"salaire imposable\", fontsize=12)\n",
      "    plt.legend(loc = 4, shadow=True, fancybox=True)"
     ],
     "language": "python",
     "metadata": {},
     "outputs": [
      {
       "metadata": {},
       "output_type": "display_data",
       "png": "[encoded data removed]",
       "text": [
        "<matplotlib.figure.Figure at 0x7f44b99433d0>"
       ]
      }
     ],
     "prompt_number": 62
    },
    {
     "cell_type": "heading",
     "level": 2,
     "metadata": {},
     "source": [
      "3.5. Graphique gain en Revdisp li\u00e9 au d\u00e9tachement fiscal"
     ]
    },
    {
     "cell_type": "code",
     "collapsed": false,
     "input": [
      "for year in range (2013, 2015) :\n",
      "    revdisp_m_ff = simulation_m_ff.calculate(\"revdisp\", period = year)\n",
      "    revdisp_2m_2ff = simulation_2m_2ff.calculate(\"revdisp\", period = year)\n",
      "    type (simulation_m_ff) \n",
      "    print pd.DataFrame(\n",
      "        data = [revdisp_m_ff, revdisp_2m_2ff],\n",
      "        columns = ['revdisp_m_ff', 'revdisp_2m_2ff'],\n",
      "        index = (year in range(2013,2015), year in range(2013,2015)),\n",
      "        )"
     ],
     "language": "python",
     "metadata": {},
     "outputs": [
      {
       "output_type": "stream",
       "stream": "stdout",
       "text": [
        "      revdisp_m_ff  revdisp_2m_2ff\n",
        "True   164856.5625             NaN\n",
        "True   163356.5625               0\n",
        "      revdisp_m_ff  revdisp_2m_2ff\n",
        "True    165281.375             NaN\n",
        "True    163773.375               0\n"
       ]
      }
     ],
     "prompt_number": 63
    },
    {
     "cell_type": "code",
     "collapsed": false,
     "input": [
      "fig = plt.figure()\n",
      "for year in range (2013, 2015) :\n",
      "    plt.plot(salaire_imposable, revdisp_2m_2ff, label = u\"revdisp avec d\u00e9t fiscal\")\n",
      "    plt.legend(loc = 4, shadow=True, fancybox=True)"
     ],
     "language": "python",
     "metadata": {},
     "outputs": [
      {
       "metadata": {},
       "output_type": "display_data",
       "png": "[encoded data removed]",
       "text": [
        "<matplotlib.figure.Figure at 0x7f44b9d4e410>"
       ]
      }
     ],
     "prompt_number": 64
    },
    {
     "cell_type": "code",
     "collapsed": false,
     "input": [
      "fig = plt.figure()\n",
      "for year in range (2013, 2015) :\n",
      "    plt.plot(salaire_imposable, revdisp_2m_2ff - revdisp_m_ff, label = u\"gain en revdisp li\u00e9 au d\u00e9t fiscal\")\n",
      "    plt.ylabel(u\"Diff en revenus dispo\", fontsize=12)\n",
      "    plt.xlabel(u\"salaire imposable\", fontsize=12)\n",
      "    plt.legend(loc = 4, shadow=True, fancybox=True)"
     ],
     "language": "python",
     "metadata": {},
     "outputs": [
      {
       "metadata": {},
       "output_type": "display_data",
       "png": "[encoded data removed]",
       "text": [
        "<matplotlib.figure.Figure at 0x7f44b9aa6f10>"
       ]
      }
     ],
     "prompt_number": 65
    },
    {
     "cell_type": "heading",
     "level": 1,
     "metadata": {},
     "source": [
      "4.Synth\u00e8se des deux cas"
     ]
    },
    {
     "cell_type": "markdown",
     "metadata": {},
     "source": [
      "    * 4.1. Tableaux comparatifs\n",
      "    * 4.2. Graphiques comparatifs\n",
      "    * 4.3. Commentaires"
     ]
    },
    {
     "cell_type": "heading",
     "level": 2,
     "metadata": {},
     "source": [
      "4.1. Tableaux comparatifs"
     ]
    },
    {
     "cell_type": "code",
     "collapsed": false,
     "input": [
      "data = {u'Couple avec sal_de_base = 19 380 euros' : \n",
      "        [-187.10372925, -1092.04003906, -904.93630981, 30365.72851562, 29380.41992188, -985.30859374],\n",
      "        u'Couple avec sal_de_base = 223 710 euros':\n",
      "        [-69589.6328125, -71089.6328125, -1500, 165281.375, 163773.375, -1508]}"
     ],
     "language": "python",
     "metadata": {},
     "outputs": [],
     "prompt_number": 66
    },
    {
     "cell_type": "code",
     "collapsed": false,
     "input": [
      "resultat = pd.DataFrame(data, \n",
      "                        columns = [u'Couple avec sal_de_base = 19 380 euros', u'Couple avec sal_de_base = 223 710 euros'], \n",
      "                        index = [u'impo', u'impo_det_fiscal', u'diff_impo', u'revdisp', u'revdisp_det_fiscal', u'diff_revdisp'])"
     ],
     "language": "python",
     "metadata": {},
     "outputs": [],
     "prompt_number": 67
    },
    {
     "cell_type": "code",
     "collapsed": false,
     "input": [
      "resultat"
     ],
     "language": "python",
     "metadata": {},
     "outputs": [
      {
       "html": [
        "<div style=\"max-height:1000px;max-width:1500px;overflow:auto;\">\n",
        "<table border=\"1\" class=\"dataframe\">\n",
        "  <thead>\n",
        "    <tr style=\"text-align: right;\">\n",
        "      <th></th>\n",
        "      <th>Couple avec sal_de_base = 19 380 euros</th>\n",
        "      <th>Couple avec sal_de_base = 223 710 euros</th>\n",
        "    </tr>\n",
        "  </thead>\n",
        "  <tbody>\n",
        "    <tr>\n",
        "      <th>impo</th>\n",
        "      <td>  -187.103729</td>\n",
        "      <td> -69589.632812</td>\n",
        "    </tr>\n",
        "    <tr>\n",
        "      <th>impo_det_fiscal</th>\n",
        "      <td> -1092.040039</td>\n",
        "      <td> -71089.632812</td>\n",
        "    </tr>\n",
        "    <tr>\n",
        "      <th>diff_impo</th>\n",
        "      <td>  -904.936310</td>\n",
        "      <td>  -1500.000000</td>\n",
        "    </tr>\n",
        "    <tr>\n",
        "      <th>revdisp</th>\n",
        "      <td> 30365.728516</td>\n",
        "      <td> 165281.375000</td>\n",
        "    </tr>\n",
        "    <tr>\n",
        "      <th>revdisp_det_fiscal</th>\n",
        "      <td> 29380.419922</td>\n",
        "      <td> 163773.375000</td>\n",
        "    </tr>\n",
        "    <tr>\n",
        "      <th>diff_revdisp</th>\n",
        "      <td>  -985.308594</td>\n",
        "      <td>  -1508.000000</td>\n",
        "    </tr>\n",
        "  </tbody>\n",
        "</table>\n",
        "</div>"
       ],
       "metadata": {},
       "output_type": "pyout",
       "prompt_number": 68,
       "text": [
        "                    Couple avec sal_de_base = 19 380 euros  \\\n",
        "impo                                           -187.103729   \n",
        "impo_det_fiscal                               -1092.040039   \n",
        "diff_impo                                      -904.936310   \n",
        "revdisp                                       30365.728516   \n",
        "revdisp_det_fiscal                            29380.419922   \n",
        "diff_revdisp                                   -985.308594   \n",
        "\n",
        "                    Couple avec sal_de_base = 223 710 euros  \n",
        "impo                                          -69589.632812  \n",
        "impo_det_fiscal                               -71089.632812  \n",
        "diff_impo                                      -1500.000000  \n",
        "revdisp                                       165281.375000  \n",
        "revdisp_det_fiscal                            163773.375000  \n",
        "diff_revdisp                                   -1508.000000  "
       ]
      }
     ],
     "prompt_number": 68
    },
    {
     "cell_type": "markdown",
     "metadata": {},
     "source": [
      "D'apr\u00e8s ce tableau comparatif de nos deux cas, il semblerait que le d\u00e9tachement fiscal ne soit pas b\u00e9n\u00e9fique ni pour le couple avec un slaaire de base de 19380 euros ni pour celui avec un salaire de base de 223710 euros.\n",
      "* Pour le couple \u00e0 bas revenus, la perte en revenu disponible li\u00e9e au d\u00e9tachement fiscal est de 985 euros environ. Ce qui correspond \u00e0 3,24% de leur revdisp sans d\u00e9tachement fiscal : $\\frac{985}{30365}\\times 100 \\approx 3.24\\% $\n",
      "* Pour le couple \u00e0 haut revenus, la perte en revenu disponible li\u00e9e au d\u00e9tachement fiscal est de 1508 euros environ. Ce qui correspond \u00e0 0,91% de leur revdisp sans d\u00e9tachement fiscal : $\\frac{1508}{165281}\\times 100 \\approx 0.91\\% $\n",
      "\n",
      "\n",
      "Autrement dit, la perte est bien moins importante pour les hauts revenus que pour les bas revenus proportionnellement \u00e0 leur revenus disponible. On peut constater une diff\u00e9rence de $3.24 - 0.91 = 2.33 $ points $\\%$.\n",
      "\n",
      "D'apr\u00e8s Rawls (Th\u00e9orie de la justice, 1971) et son principe de diff\u00e9rence (selon lequel une in\u00e9galite est juste si elle profite aux plus d\u00e9munis), cette in\u00e9galit\u00e9 de rattachement fiscal ne b\u00e9n\u00e9ficiant pas aux plus d\u00e9munis (le couple avec sal_de_base = 19 380), on pourrait conclure qu'elle est injuste et qu'elle m\u00e9rietrait d'\u00eatre corrig\u00e9. Autrement dit, que proportionnellement, la perte en termes de revdisp pour les bas revenus soit moins \u00e9lev\u00e9e que celle pour les hauts revenus"
     ]
    },
    {
     "cell_type": "heading",
     "level": 2,
     "metadata": {},
     "source": [
      "4.2. Graphiques comparatifs"
     ]
    },
    {
     "cell_type": "code",
     "collapsed": false,
     "input": [
      "fig1 = plt.figure(figsize=(16,7))\n",
      "for year in range (2013, 2015) :\n",
      "    plt.plot(salaire_imposable, revdisp_2m_2ff - revdisp_m_ff, label = u\"gain en revdisp li\u00e9 au d\u00e9t fiscal\")\n",
      "    plt.ylabel(u\"Diff en revenus dispo\", fontsize=12)\n",
      "    plt.xlabel(u\"salaire imposable\", fontsize=12)\n",
      "    plt.legend(loc = 4, shadow=True, fancybox=True)\n",
      "    plt.title(u\"Couple avec sal_de_base = 19 380 euros\", fontsize=14)\n",
      "fig2 = plt.figure(figsize=(16,7))\n",
      "for year in range (2013, 2015) :\n",
      "    plt.plot(salaire_imposable, revdisp_2m_2ff - revdisp_m_ff, label = u\"gain en revdisp li\u00e9 au d\u00e9t fiscal\")\n",
      "    plt.ylabel(u\"Diff en revenus dispo\", fontsize=12)\n",
      "    plt.xlabel(u\"salaire imposable\", fontsize=12)\n",
      "    plt.legend(loc = 4, shadow=True, fancybox=True)\n",
      "    plt.title(u\"Couple avec sal_de_base = 223 710 euros\", fontsize=14)"
     ],
     "language": "python",
     "metadata": {},
     "outputs": [
      {
       "metadata": {},
       "output_type": "display_data",
       "png": "[encoded data removed]",
       "text": [
        "<matplotlib.figure.Figure at 0x7f44b9b48ed0>"
       ]
      },
      {
       "metadata": {},
       "output_type": "display_data",
       "png": "[encoded data removed]",
       "text": [
        "<matplotlib.figure.Figure at 0x7f44b9d90250>"
       ]
      }
     ],
     "prompt_number": 69
    },
    {
     "cell_type": "heading",
     "level": 4,
     "metadata": {},
     "source": [
      "D'apr\u00e8s la comparaison des deux graphiques ci-dessus, il semblerait que la trajectoire des deux courbes qui sont confondues (en bleu pour 2013 et en vert pour 2014) soit identitique pour les deux couples. Autrement dit, le gain en revdisp li\u00e9 au d\u00e9tachement fiscal serait du m\u00eame montant.  Dans tous les cas, ce gain est n\u00e9gatif. C'est donc une perte."
     ]
    },
    {
     "cell_type": "heading",
     "level": 1,
     "metadata": {},
     "source": [
      "5.Propositions pour des am\u00e9liorations"
     ]
    },
    {
     "cell_type": "markdown",
     "metadata": {},
     "source": [
      "    * 5.1 * Graphiques avec boucles et nouvelle l\u00e9gende\n",
      "    * 5.2 * Tableaux avec boucles imbriqu\u00e9es (5 essais)\n",
      "    * 5.3 * Cr\u00e9ation de boucles pour cr\u00e9er un continuum de salaire (2 essais)\n",
      "    * 5.4 * Etudier la diff\u00e9rence de gain entre APL et ratachement fiscal : APL ou rattachement fiscal ? (Actualit\u00e9 2015)"
     ]
    },
    {
     "cell_type": "heading",
     "level": 2,
     "metadata": {},
     "source": [
      "5.1. Graphiques avec boucles et nouvelle l\u00e9gende"
     ]
    },
    {
     "cell_type": "code",
     "collapsed": false,
     "input": [
      "fig = plt.figure() \n",
      "for year in range (2013, 2015) :\n",
      "    plt.plot(salaire_imposable, iai_2m_2ff, label = u\"iai avec d\u00e9tachement fiscal\".format(year))\n",
      "    plt.ylabel(u\"Montant iai\", fontsize=12)\n",
      "    plt.xlabel(u\"salaire imposable\", fontsize=12)\n",
      "    plt.legend(loc = 4, shadow=True, fancybox=True)\n",
      "    \n",
      "# Brian : je voudrais que la l\u00e9gende stipule l'ann\u00e9e\n",
      "# Par exemple : 'iai avec d\u00e9tachement fiscal en 2013' etc."
     ],
     "language": "python",
     "metadata": {},
     "outputs": [
      {
       "metadata": {},
       "output_type": "display_data",
       "png": "[encoded data removed]",
       "text": [
        "<matplotlib.figure.Figure at 0x7f44b9c89ad0>"
       ]
      }
     ],
     "prompt_number": 70
    },
    {
     "cell_type": "heading",
     "level": 2,
     "metadata": {},
     "source": [
      "5.2. Tableaux avec boucles imbriqu\u00e9es"
     ]
    },
    {
     "cell_type": "markdown",
     "metadata": {},
     "source": [
      "Je me suis demand\u00e9 comment je pourrais repr\u00e9senter de mani\u00e8re plus synth\u00e9tique tous les r\u00e9sultats si j'\u00e9tais dans le cas o\u00f9 j'avais une population d'individus \u00e0 \u00e9tudier (avec plusieurs revenus imposables diff\u00e9rents). Et aussi, je me suis demand\u00e9 s'il serait possible de repr\u00e9senter de mani\u00e8re plus \u00e9l\u00e9gante tous les r\u00e9sultats que j'obtiens en section 2.3 et 3.3. C'est pourquoi j'ai cherch\u00e9 \u00e0 utiliser \u00e0 panda et les tableaux de python en apprenant les \"pd.DataFrame\" et \"zip(*)\" et en essayant d'incorporer des boucles. Voici cinq essais qui pourraient \u00eatre approfondis pour atteindre le r\u00e9sultat escompt\u00e9."
     ]
    },
    {
     "cell_type": "code",
     "collapsed": false,
     "input": [
      "liste_scenario = ['scenario_m_ff', 'scenario_2m_2ff',]"
     ],
     "language": "python",
     "metadata": {},
     "outputs": [],
     "prompt_number": 71
    },
    {
     "cell_type": "code",
     "collapsed": false,
     "input": [
      "liste_simulations = [liste_m_ff, liste_2m_2ff,]"
     ],
     "language": "python",
     "metadata": {},
     "outputs": [],
     "prompt_number": 72
    },
    {
     "cell_type": "heading",
     "level": 3,
     "metadata": {},
     "source": [
      "Essai 1"
     ]
    },
    {
     "cell_type": "code",
     "collapsed": false,
     "input": [
      "for variable in variables: \n",
      "    for year in range(2013,2015) :\n",
      "        pd.DataFrame(\n",
      "        data = zip(*liste_simulations),\n",
      "        columns = liste_scenario, \n",
      "        index = (variable, variable),\n",
      "        )"
     ],
     "language": "python",
     "metadata": {},
     "outputs": [],
     "prompt_number": 73
    },
    {
     "cell_type": "code",
     "collapsed": false,
     "input": [
      "pd.DataFrame(\n",
      "        data = zip(*liste_simulations),\n",
      "        columns = liste_scenario, \n",
      "        index = (variable, variable),\n",
      "        )"
     ],
     "language": "python",
     "metadata": {},
     "outputs": [
      {
       "html": [
        "<div style=\"max-height:1000px;max-width:1500px;overflow:auto;\">\n",
        "<table border=\"1\" class=\"dataframe\">\n",
        "  <thead>\n",
        "    <tr style=\"text-align: right;\">\n",
        "      <th></th>\n",
        "      <th>scenario_m_ff</th>\n",
        "      <th>scenario_2m_2ff</th>\n",
        "    </tr>\n",
        "  </thead>\n",
        "  <tbody>\n",
        "    <tr>\n",
        "      <th>nbptr</th>\n",
        "      <td> [1.5]</td>\n",
        "      <td> 1</td>\n",
        "    </tr>\n",
        "    <tr>\n",
        "      <th>nbptr</th>\n",
        "      <td> [1.5]</td>\n",
        "      <td> 1</td>\n",
        "    </tr>\n",
        "  </tbody>\n",
        "</table>\n",
        "</div>"
       ],
       "metadata": {},
       "output_type": "pyout",
       "prompt_number": 74,
       "text": [
        "      scenario_m_ff  scenario_2m_2ff\n",
        "nbptr         [1.5]                1\n",
        "nbptr         [1.5]                1"
       ]
      }
     ],
     "prompt_number": 74
    },
    {
     "cell_type": "heading",
     "level": 3,
     "metadata": {},
     "source": [
      "Essai 2"
     ]
    },
    {
     "cell_type": "code",
     "collapsed": false,
     "input": [
      "for variable in variables: \n",
      "    for year in range(2013,2015) :\n",
      "        pd.DataFrame(\n",
      "        data = zip(*liste_m_ff),\n",
      "        columns = ['scenario_m_ff'], \n",
      "        index = (variable, variable),\n",
      "        )"
     ],
     "language": "python",
     "metadata": {},
     "outputs": [],
     "prompt_number": 75
    },
    {
     "cell_type": "code",
     "collapsed": false,
     "input": [
      " pd.DataFrame(\n",
      "        data = zip(*liste_m_ff),\n",
      "        columns = ['scenario_m_ff'], \n",
      "        index = (variable, variable),\n",
      "        )"
     ],
     "language": "python",
     "metadata": {},
     "outputs": [
      {
       "html": [
        "<div style=\"max-height:1000px;max-width:1500px;overflow:auto;\">\n",
        "<table border=\"1\" class=\"dataframe\">\n",
        "  <thead>\n",
        "    <tr style=\"text-align: right;\">\n",
        "      <th></th>\n",
        "      <th>scenario_m_ff</th>\n",
        "    </tr>\n",
        "  </thead>\n",
        "  <tbody>\n",
        "    <tr>\n",
        "      <th>nbptr</th>\n",
        "      <td> 1.5</td>\n",
        "    </tr>\n",
        "    <tr>\n",
        "      <th>nbptr</th>\n",
        "      <td> 1.5</td>\n",
        "    </tr>\n",
        "  </tbody>\n",
        "</table>\n",
        "</div>"
       ],
       "metadata": {},
       "output_type": "pyout",
       "prompt_number": 76,
       "text": [
        "       scenario_m_ff\n",
        "nbptr            1.5\n",
        "nbptr            1.5"
       ]
      }
     ],
     "prompt_number": 76
    },
    {
     "cell_type": "heading",
     "level": 3,
     "metadata": {},
     "source": [
      "Essai 3"
     ]
    },
    {
     "cell_type": "code",
     "collapsed": false,
     "input": [
      "for variable in variables: \n",
      "    for year in range(2013,2015) :\n",
      "        pd.DataFrame(\n",
      "        data = zip(*liste_m_ff),\n",
      "        columns = ['scenario_m_ff'], \n",
      "        index = (variable, variable),\n",
      "        )"
     ],
     "language": "python",
     "metadata": {},
     "outputs": [],
     "prompt_number": 77
    },
    {
     "cell_type": "code",
     "collapsed": false,
     "input": [
      " pd.DataFrame(\n",
      "        data = zip(*liste_m_ff),\n",
      "        columns = ['scenario_m_ff'], \n",
      "        index = (variable, variable),\n",
      "        )"
     ],
     "language": "python",
     "metadata": {},
     "outputs": [
      {
       "html": [
        "<div style=\"max-height:1000px;max-width:1500px;overflow:auto;\">\n",
        "<table border=\"1\" class=\"dataframe\">\n",
        "  <thead>\n",
        "    <tr style=\"text-align: right;\">\n",
        "      <th></th>\n",
        "      <th>scenario_m_ff</th>\n",
        "    </tr>\n",
        "  </thead>\n",
        "  <tbody>\n",
        "    <tr>\n",
        "      <th>nbptr</th>\n",
        "      <td> 1.5</td>\n",
        "    </tr>\n",
        "    <tr>\n",
        "      <th>nbptr</th>\n",
        "      <td> 1.5</td>\n",
        "    </tr>\n",
        "  </tbody>\n",
        "</table>\n",
        "</div>"
       ],
       "metadata": {},
       "output_type": "pyout",
       "prompt_number": 78,
       "text": [
        "       scenario_m_ff\n",
        "nbptr            1.5\n",
        "nbptr            1.5"
       ]
      }
     ],
     "prompt_number": 78
    },
    {
     "cell_type": "heading",
     "level": 3,
     "metadata": {},
     "source": [
      "Essai 4"
     ]
    },
    {
     "cell_type": "code",
     "collapsed": false,
     "input": [
      "pd.DataFrame(\n",
      "data = [simulation_m_ff.calculate(variable, '2013')],\n",
      "columns = ['scenario_m_ff 2013'],\n",
      "index = [variables],\n",
      "    )"
     ],
     "language": "python",
     "metadata": {},
     "outputs": [
      {
       "html": [
        "<div style=\"max-height:1000px;max-width:1500px;overflow:auto;\">\n",
        "<table border=\"1\" class=\"dataframe\">\n",
        "  <thead>\n",
        "    <tr style=\"text-align: right;\">\n",
        "      <th></th>\n",
        "      <th>scenario_m_ff 2013</th>\n",
        "    </tr>\n",
        "  </thead>\n",
        "  <tbody>\n",
        "    <tr>\n",
        "      <th>sal</th>\n",
        "      <td> 1.5</td>\n",
        "    </tr>\n",
        "    <tr>\n",
        "      <th>revdisp</th>\n",
        "      <td> 1.5</td>\n",
        "    </tr>\n",
        "    <tr>\n",
        "      <th>impo</th>\n",
        "      <td> 1.5</td>\n",
        "    </tr>\n",
        "    <tr>\n",
        "      <th>tax_hab</th>\n",
        "      <td> 1.5</td>\n",
        "    </tr>\n",
        "    <tr>\n",
        "      <th>irpp</th>\n",
        "      <td> 1.5</td>\n",
        "    </tr>\n",
        "    <tr>\n",
        "      <th>iai</th>\n",
        "      <td> 1.5</td>\n",
        "    </tr>\n",
        "    <tr>\n",
        "      <th>credits_impot</th>\n",
        "      <td> 1.5</td>\n",
        "    </tr>\n",
        "    <tr>\n",
        "      <th>cehr</th>\n",
        "      <td> 1.5</td>\n",
        "    </tr>\n",
        "    <tr>\n",
        "      <th>apl</th>\n",
        "      <td> 1.5</td>\n",
        "    </tr>\n",
        "    <tr>\n",
        "      <th>als</th>\n",
        "      <td> 1.5</td>\n",
        "    </tr>\n",
        "    <tr>\n",
        "      <th>alv</th>\n",
        "      <td> 1.5</td>\n",
        "    </tr>\n",
        "    <tr>\n",
        "      <th>alf</th>\n",
        "      <td> 1.5</td>\n",
        "    </tr>\n",
        "    <tr>\n",
        "      <th>mini</th>\n",
        "      <td> 1.5</td>\n",
        "    </tr>\n",
        "    <tr>\n",
        "      <th>aspa</th>\n",
        "      <td> 1.5</td>\n",
        "    </tr>\n",
        "    <tr>\n",
        "      <th>aah</th>\n",
        "      <td> 1.5</td>\n",
        "    </tr>\n",
        "    <tr>\n",
        "      <th>caah</th>\n",
        "      <td> 1.5</td>\n",
        "    </tr>\n",
        "    <tr>\n",
        "      <th>asi</th>\n",
        "      <td> 1.5</td>\n",
        "    </tr>\n",
        "    <tr>\n",
        "      <th>aefa</th>\n",
        "      <td> 1.5</td>\n",
        "    </tr>\n",
        "    <tr>\n",
        "      <th>api</th>\n",
        "      <td> 1.5</td>\n",
        "    </tr>\n",
        "    <tr>\n",
        "      <th>ass</th>\n",
        "      <td> 1.5</td>\n",
        "    </tr>\n",
        "    <tr>\n",
        "      <th>psa</th>\n",
        "      <td> 1.5</td>\n",
        "    </tr>\n",
        "    <tr>\n",
        "      <th>rsa</th>\n",
        "      <td> 1.5</td>\n",
        "    </tr>\n",
        "    <tr>\n",
        "      <th>ars</th>\n",
        "      <td> 1.5</td>\n",
        "    </tr>\n",
        "    <tr>\n",
        "      <th>teicaa</th>\n",
        "      <td> 1.5</td>\n",
        "    </tr>\n",
        "    <tr>\n",
        "      <th>af</th>\n",
        "      <td> 1.5</td>\n",
        "    </tr>\n",
        "    <tr>\n",
        "      <th>pfam</th>\n",
        "      <td> 1.5</td>\n",
        "    </tr>\n",
        "    <tr>\n",
        "      <th>rng</th>\n",
        "      <td> 1.5</td>\n",
        "    </tr>\n",
        "    <tr>\n",
        "      <th>asf</th>\n",
        "      <td> 1.5</td>\n",
        "    </tr>\n",
        "    <tr>\n",
        "      <th>nbptr</th>\n",
        "      <td> 1.5</td>\n",
        "    </tr>\n",
        "  </tbody>\n",
        "</table>\n",
        "</div>"
       ],
       "metadata": {},
       "output_type": "pyout",
       "prompt_number": 79,
       "text": [
        "               scenario_m_ff 2013\n",
        "sal                           1.5\n",
        "revdisp                       1.5\n",
        "impo                          1.5\n",
        "tax_hab                       1.5\n",
        "irpp                          1.5\n",
        "iai                           1.5\n",
        "credits_impot                 1.5\n",
        "cehr                          1.5\n",
        "apl                           1.5\n",
        "als                           1.5\n",
        "alv                           1.5\n",
        "alf                           1.5\n",
        "mini                          1.5\n",
        "aspa                          1.5\n",
        "aah                           1.5\n",
        "caah                          1.5\n",
        "asi                           1.5\n",
        "aefa                          1.5\n",
        "api                           1.5\n",
        "ass                           1.5\n",
        "psa                           1.5\n",
        "rsa                           1.5\n",
        "ars                           1.5\n",
        "teicaa                        1.5\n",
        "af                            1.5\n",
        "pfam                          1.5\n",
        "rng                           1.5\n",
        "asf                           1.5\n",
        "nbptr                         1.5"
       ]
      }
     ],
     "prompt_number": 79
    },
    {
     "cell_type": "heading",
     "level": 3,
     "metadata": {},
     "source": [
      "Essai 5"
     ]
    },
    {
     "cell_type": "code",
     "collapsed": false,
     "input": [
      " for year in range (2013, 2015) :\n",
      "    irpp_m_ff = simulation_m_ff.calculate(\"irpp\", period = year)\n",
      "    irpp_2m_2ff = simulation_2m_2ff.calculate(\"irpp\", period = year)\n",
      "    type (simulation_m_ff) "
     ],
     "language": "python",
     "metadata": {},
     "outputs": [],
     "prompt_number": 80
    },
    {
     "cell_type": "code",
     "collapsed": false,
     "input": [
      "liste_irpp =  [irpp_m_ff,  irpp_2m_2ff]"
     ],
     "language": "python",
     "metadata": {},
     "outputs": [],
     "prompt_number": 81
    },
    {
     "cell_type": "code",
     "collapsed": false,
     "input": [
      "pd.DataFrame(columns=('scenario_m_ff', 'scenario_2m_2ff'))\n",
      "for i in range(5):\n",
      "    df.loc[i] = [(irpp_m_ff for year in range(2013,2015)), \n",
      "                 (irpp_2m_2ff for year in range(2013, 2015))]\n",
      "# 10 mars 2015, Brian : j'ai essay\u00e9 d'adapter ce que vous m'avez envoy\u00e9 mais j'ai rencontr\u00e9 ce probl\u00e8me."
     ],
     "language": "python",
     "metadata": {},
     "outputs": [
      {
       "ename": "NameError",
       "evalue": "name 'df' is not defined",
       "output_type": "pyerr",
       "traceback": [
        "\u001b[0;31m---------------------------------------------------------------------------\u001b[0m\n\u001b[0;31mNameError\u001b[0m                                 Traceback (most recent call last)",
        "\u001b[0;32m<ipython-input-82-8af9ea1b8b1e>\u001b[0m in \u001b[0;36m<module>\u001b[0;34m()\u001b[0m\n\u001b[1;32m      2\u001b[0m \u001b[0;32mfor\u001b[0m \u001b[0mi\u001b[0m \u001b[0;32min\u001b[0m \u001b[0mrange\u001b[0m\u001b[0;34m(\u001b[0m\u001b[0;36m5\u001b[0m\u001b[0;34m)\u001b[0m\u001b[0;34m:\u001b[0m\u001b[0;34m\u001b[0m\u001b[0m\n\u001b[1;32m      3\u001b[0m     df.loc[i] = [(irpp_m_ff for year in range(2013,2015)), \n\u001b[0;32m----> 4\u001b[0;31m                  (irpp_2m_2ff for year in range(2013, 2015))]\n\u001b[0m\u001b[1;32m      5\u001b[0m \u001b[0;31m# 10 mars 2015, Brian : j'ai essay\u00e9 d'adapter ce que vous m'avez envoy\u00e9 mais j'ai rencontr\u00e9 ce probl\u00e8me.\u001b[0m\u001b[0;34m\u001b[0m\u001b[0;34m\u001b[0m\u001b[0m\n",
        "\u001b[0;31mNameError\u001b[0m: name 'df' is not defined"
       ]
      }
     ],
     "prompt_number": 82
    },
    {
     "cell_type": "heading",
     "level": 2,
     "metadata": {},
     "source": [
      " 5.3. Cr\u00e9ation de boucles pour cr\u00e9er un continuum de salaire"
     ]
    },
    {
     "cell_type": "markdown",
     "metadata": {},
     "source": [
      "Apr\u00e8s avoir \u00e9tudier un premier cas, j'ai eu envie d'\u00e9tudier plusieurs cas (plusieurs niveaux de salaires imposables) afin de les comparer entre eux. Avec mon exp\u00e9rience des exercices sur le gain marginal r\u00e9alis\u00e9 en classe, je me suis souvenu que la technique d'\u00e9crire tout un \u00e0 un serait trop longue. Dans mon projet ci-dessus j'ai \u00e9tudi\u00e9 deux cas. Mais dans une extension de ce projet, il serait tout \u00e0 fait envisageable de construire un continuum de salaire imposable \u00e0 l'aide d'une ou plusieurs boucles pour \u00e9viter de reconstruire \u00e0 chaque fois les test_case et sc\u00e9narios. Voici deux essais. "
     ]
    },
    {
     "cell_type": "heading",
     "level": 3,
     "metadata": {},
     "source": [
      "Essai 1"
     ]
    },
    {
     "cell_type": "code",
     "collapsed": false,
     "input": [
      "individus1 = [ \n",
      "\n",
      "    {'id' :'ind0',  'birth': datetime.date(2014-22, 1, 1)},\n",
      "\n",
      "    {'id': 'ind1', u'salaire_de_base':{\n",
      "        Period((u'year', Instant((2013, 1, 1)), 1)): 30000.0,\n",
      "        Period((u'year', Instant((2014, 1, 1)), 1)): 30000.0,\n",
      "        }, \n",
      "        'birth': datetime.date(1960, 1, 1)},\n",
      "\n",
      "    {'id': 'ind2', u'salaire_de_base': {\n",
      "        Period((u'year', Instant((2013, 1, 1)), 1)): 30000.0,\n",
      "        Period((u'year', Instant((2014, 1, 1)), 1)): 30000.0,\n",
      "         },\n",
      "        'birth': datetime.date(1961, 12, 1)},\n",
      "]"
     ],
     "language": "python",
     "metadata": {},
     "outputs": []
    },
    {
     "cell_type": "code",
     "collapsed": false,
     "input": [
      "individus2 = [ \n",
      "\n",
      "    {'id' :'ind5',  'birth': datetime.date(2014-22, 1, 1)},\n",
      "\n",
      "    {'id': 'ind3', u'salaire_de_base':{\n",
      "        Period((u'year', Instant((2013, 1, 1)), 1)): 60000.0,\n",
      "        Period((u'year', Instant((2014, 1, 1)), 1)): 60000.0,\n",
      "        }, \n",
      "        'birth': datetime.date(1960, 1, 1)},\n",
      "\n",
      "    {'id': 'ind4', u'salaire_de_base': {\n",
      "        Period((u'year', Instant((2013, 1, 1)), 1)): 60000.0,\n",
      "        Period((u'year', Instant((2014, 1, 1)), 1)): 60000.0,\n",
      "         },\n",
      "        'birth': datetime.date(1961, 12, 1)},\n",
      "]"
     ],
     "language": "python",
     "metadata": {},
     "outputs": []
    },
    {
     "cell_type": "code",
     "collapsed": false,
     "input": [
      "liste_individus = individus1 + individus2"
     ],
     "language": "python",
     "metadata": {},
     "outputs": []
    },
    {
     "cell_type": "code",
     "collapsed": false,
     "input": [
      "familles1 = [\n",
      "    {'id': 0, 'enfants': ['ind0'], 'parents': ['ind1', 'ind2']}\n",
      "    ] "
     ],
     "language": "python",
     "metadata": {},
     "outputs": []
    },
    {
     "cell_type": "code",
     "collapsed": false,
     "input": [
      "familles2 = [\n",
      "    {'id': 1, 'enfants': ['ind5'], 'parents': ['ind1', 'ind2']}\n",
      "    ]"
     ],
     "language": "python",
     "metadata": {},
     "outputs": []
    },
    {
     "cell_type": "code",
     "collapsed": false,
     "input": [
      "liste_familles = familles1 + familles2"
     ],
     "language": "python",
     "metadata": {},
     "outputs": []
    },
    {
     "cell_type": "markdown",
     "metadata": {},
     "source": [
      "Scenario_m_ff"
     ]
    },
    {
     "cell_type": "code",
     "collapsed": false,
     "input": [
      "menages1 = [\n",
      "        {'id': 0, 'conjoint': 'ind0', 'autres': [], 'enfants': ['ind0'], 'personne_de_reference': 'ind1'}\n",
      "        ]"
     ],
     "language": "python",
     "metadata": {},
     "outputs": []
    },
    {
     "cell_type": "code",
     "collapsed": false,
     "input": [
      "menages2 = [\n",
      "        {'id': 1, 'conjoint': 'ind3', 'autres': [], 'enfants': ['ind5'], 'personne_de_reference': 'ind4'}\n",
      "        ]"
     ],
     "language": "python",
     "metadata": {},
     "outputs": []
    },
    {
     "cell_type": "code",
     "collapsed": false,
     "input": [
      "liste_menages = menages1 + menages2"
     ],
     "language": "python",
     "metadata": {},
     "outputs": []
    },
    {
     "cell_type": "code",
     "collapsed": false,
     "input": [
      "foyers_fiscaux1 = [\n",
      "        {'id': 0, 'personnes_a_charge': ['ind0'], 'declarants': ['ind1', 'ind2']}\n",
      "        ]"
     ],
     "language": "python",
     "metadata": {},
     "outputs": []
    },
    {
     "cell_type": "code",
     "collapsed": false,
     "input": [
      "foyers_fiscaux2 = [\n",
      "        {'id': 1, 'personnes_a_charge': ['ind5'], 'declarants': ['ind3', 'ind4']}\n",
      "        ]"
     ],
     "language": "python",
     "metadata": {},
     "outputs": []
    },
    {
     "cell_type": "code",
     "collapsed": false,
     "input": [
      "liste_foyers_fiscaux = foyers_fiscaux1 + foyers_fiscaux2"
     ],
     "language": "python",
     "metadata": {},
     "outputs": []
    },
    {
     "cell_type": "code",
     "collapsed": false,
     "input": [
      "test_case_m_ff = {\n",
      "'individus' : liste_individus, \n",
      "'menages' : liste_menages,\n",
      "'familles' : liste_familles, \n",
      "'foyers_fiscaux' : liste_foyers_fiscaux,\n",
      "}"
     ],
     "language": "python",
     "metadata": {},
     "outputs": []
    },
    {
     "cell_type": "code",
     "collapsed": false,
     "input": [
      "scenario_m_ff = tax_benefit_system.new_scenario()\n",
      "type(scenario_m_ff)"
     ],
     "language": "python",
     "metadata": {},
     "outputs": []
    },
    {
     "cell_type": "code",
     "collapsed": false,
     "input": [
      "scenario_m_ff.test_case = test_case_m_ff"
     ],
     "language": "python",
     "metadata": {},
     "outputs": []
    },
    {
     "cell_type": "code",
     "collapsed": false,
     "input": [
      "for year in range(2013,2015):\n",
      "    scenario_m_ff.period = periods.period(year)"
     ],
     "language": "python",
     "metadata": {},
     "outputs": []
    },
    {
     "cell_type": "code",
     "collapsed": false,
     "input": [
      "simulation_m_ff = scenario_m_ff.new_simulation(debug = True , trace = True)"
     ],
     "language": "python",
     "metadata": {},
     "outputs": []
    },
    {
     "cell_type": "markdown",
     "metadata": {},
     "source": [
      "Scenario_2m_2ff"
     ]
    },
    {
     "cell_type": "code",
     "collapsed": false,
     "input": [
      "foyers_fiscaux_par1 = [\n",
      "    {'id': 0, 'personnes_a_charge': [], 'declarants': ['ind0', 'ind1']}\n",
      "    ]\n",
      "# Ici, je cr\u00e9e le foyer fiscal des parents (d\u00e9claration commune des parents)"
     ],
     "language": "python",
     "metadata": {},
     "outputs": []
    },
    {
     "cell_type": "code",
     "collapsed": false,
     "input": [
      "foyers_fiscaux_enf1 = [\n",
      "    {'id': 1, 'personnes_a_charge': [], 'declarants': ['ind2']}\n",
      "    ]\n",
      "# Ici, je cr\u00e9e le foyer fiscal du jeune gar\u00e7on qui veut devenir ind\u00e9pendant"
     ],
     "language": "python",
     "metadata": {},
     "outputs": []
    },
    {
     "cell_type": "code",
     "collapsed": false,
     "input": [
      "foyers_fiscaux_div1 = foyers_fiscaux_par1 + foyers_fiscaux_enf1 #fusion des deux nouveaux foyers pour \u00e9conomie dans le test_case\n",
      "# \"div\" pour \"divis\u00e9\""
     ],
     "language": "python",
     "metadata": {},
     "outputs": []
    },
    {
     "cell_type": "code",
     "collapsed": false,
     "input": [
      "foyers_fiscaux_par2 = [\n",
      "    {'id': 2, 'personnes_a_charge': [], 'declarants': ['ind3', 'ind4']}\n",
      "    ]"
     ],
     "language": "python",
     "metadata": {},
     "outputs": []
    },
    {
     "cell_type": "code",
     "collapsed": false,
     "input": [
      "foyers_fiscaux_enf2 = [\n",
      "    {'id': 3, 'personnes_a_charge': [], 'declarants': ['ind5']}\n",
      "    ]\n",
      "# Ici, je cr\u00e9e le foyer fiscal du jeune gar\u00e7on qui veut devenir ind\u00e9pendant"
     ],
     "language": "python",
     "metadata": {},
     "outputs": []
    },
    {
     "cell_type": "code",
     "collapsed": false,
     "input": [
      "foyers_fiscaux_div2 = foyers_fiscaux_par2 + foyers_fiscaux_enf2"
     ],
     "language": "python",
     "metadata": {},
     "outputs": []
    },
    {
     "cell_type": "code",
     "collapsed": false,
     "input": [
      "liste_foyers_fiscaux_2m_2ff = foyers_fiscaux_div1 + foyers_fiscaux_div2"
     ],
     "language": "python",
     "metadata": {},
     "outputs": []
    },
    {
     "cell_type": "code",
     "collapsed": false,
     "input": [
      "menages_par1 = [\n",
      "    {'id': 0, 'conjoint': 'ind1', 'autres': [], 'enfants': [], 'personne_de_reference': 'ind0'}\n",
      "    ]"
     ],
     "language": "python",
     "metadata": {},
     "outputs": []
    },
    {
     "cell_type": "code",
     "collapsed": false,
     "input": [
      "menages_enf1 = [\n",
      "    {'id': 1, 'autres': [], 'enfants': [], 'personne_de_reference': 'ind2'}\n",
      "    ]"
     ],
     "language": "python",
     "metadata": {},
     "outputs": []
    },
    {
     "cell_type": "code",
     "collapsed": false,
     "input": [
      "menages_par2 = [\n",
      "    {'id': 2, 'conjoint': 'ind4', 'autres': [], 'enfants': [], 'personne_de_reference': 'ind3'}\n",
      "    ]"
     ],
     "language": "python",
     "metadata": {},
     "outputs": []
    },
    {
     "cell_type": "code",
     "collapsed": false,
     "input": [
      "menages_enf2 = [\n",
      "    {'id': 3, 'autres': [], 'enfants': [], 'personne_de_reference': 'ind5'}\n",
      "    ]"
     ],
     "language": "python",
     "metadata": {},
     "outputs": []
    },
    {
     "cell_type": "code",
     "collapsed": false,
     "input": [
      "menages_div1 = menages_par1 + menages_enf1 "
     ],
     "language": "python",
     "metadata": {},
     "outputs": []
    },
    {
     "cell_type": "code",
     "collapsed": false,
     "input": [
      "menages_div2 = menages_par2 + menages_enf2"
     ],
     "language": "python",
     "metadata": {},
     "outputs": []
    },
    {
     "cell_type": "code",
     "collapsed": false,
     "input": [
      "liste_menages_2m_2ff = menages_div1 + menages_div2"
     ],
     "language": "python",
     "metadata": {},
     "outputs": []
    },
    {
     "cell_type": "code",
     "collapsed": false,
     "input": [
      "test_case_2m_2ff = {\n",
      "'individus' : liste_individus, \n",
      "'menages' : liste_menages_2m_2ff,\n",
      "'familles' : liste_familles, \n",
      "'foyers_fiscaux' : liste_foyers_fiscaux_2m_2ff,\n",
      "}"
     ],
     "language": "python",
     "metadata": {},
     "outputs": []
    },
    {
     "cell_type": "code",
     "collapsed": false,
     "input": [
      "scenario_2m_2ff = tax_benefit_system.new_scenario()\n",
      "type(scenario_2m_2ff)"
     ],
     "language": "python",
     "metadata": {},
     "outputs": []
    },
    {
     "cell_type": "code",
     "collapsed": false,
     "input": [
      "scenario_2m_2ff.test_case = test_case_2m_2ff"
     ],
     "language": "python",
     "metadata": {},
     "outputs": []
    },
    {
     "cell_type": "code",
     "collapsed": false,
     "input": [
      "for year in range(2013,2015):\n",
      "    scenario_2m_2ff.period = periods.period(year)"
     ],
     "language": "python",
     "metadata": {},
     "outputs": []
    },
    {
     "cell_type": "code",
     "collapsed": false,
     "input": [
      "simulation_2m_2ff = scenario_2m_2ff.new_simulation(debug = True , trace = True) "
     ],
     "language": "python",
     "metadata": {},
     "outputs": [],
     "prompt_number": 83
    },
    {
     "cell_type": "markdown",
     "metadata": {},
     "source": [
      "R\u00e9sultats"
     ]
    },
    {
     "cell_type": "code",
     "collapsed": false,
     "input": [
      "for variable in variables: \n",
      "    for year in range(2013,2015):\n",
      "        print variable, simulation_m_ff.calculate(variable, year), simulation_2m_2ff.calculate(variable, year)\n",
      "        liste_m_ff = simulation_m_ff.calculate(variable, year),  \n",
      "        liste_2m_2ff = simulation_2m_2ff.calculate(variable, year)\n",
      "        print liste_m_ff\n",
      "        print liste_2m_2ff"
     ],
     "language": "python",
     "metadata": {},
     "outputs": [
      {
       "output_type": "stream",
       "stream": "stdout",
       "text": [
        "sal [ 111855.  111855.       0.] "
       ]
      },
      {
       "output_type": "stream",
       "stream": "stdout",
       "text": [
        "[ 111855.  111855.       0.]\n",
        "(array([ 111855.,  111855.,       0.], dtype=float32),)\n",
        "[ 111855.  111855.       0.]\n",
        "sal [ 111855.  111855.       0.] "
       ]
      },
      {
       "output_type": "stream",
       "stream": "stdout",
       "text": [
        "[ 111855.  111855.       0.]\n",
        "(array([ 111855.,  111855.,       0.], dtype=float32),)\n",
        "[ 111855.  111855.       0.]\n",
        "revdisp [ 164856.5625] "
       ]
      },
      {
       "output_type": "stream",
       "stream": "stdout",
       "text": [
        "[ 163356.5625       0.    ]\n",
        "(array([ 164856.5625], dtype=float32),)\n",
        "[ 163356.5625       0.    ]\n",
        "revdisp [ 165281.375] "
       ]
      },
      {
       "output_type": "stream",
       "stream": "stdout",
       "text": [
        "[ 163773.375       0.   ]\n",
        "(array([ 165281.375], dtype=float32),)\n",
        "[ 163773.375       0.   ]\n",
        "impo [-69589.6328125] [-71089.6328125      0.       ]\n",
        "(array([-69589.6328125], dtype=float32),)\n",
        "[-71089.6328125      0.       ]\n",
        "impo [-69514.3203125] [-71022.3203125      0.       ]\n",
        "(array([-69514.3203125], dtype=float32),)\n",
        "[-71022.3203125      0.       ]\n",
        "tax_hab [ 0.] [ 0.  0.]\n",
        "(array([ 0.], dtype=float32),)\n",
        "[ 0.  0.]\n",
        "tax_hab [ 0.] [ 0.  0.]\n",
        "(array([ 0.], dtype=float32),)\n",
        "[ 0.  0.]\n",
        "irpp [-69589.6328125] [-71089.6328125      0.       ]\n",
        "(array([-69589.6328125], dtype=float32),)\n",
        "[-71089.6328125      0.       ]\n",
        "irpp [-69514.3203125] [-71022.3203125      0.       ]\n",
        "(array([-69514.3203125], dtype=float32),)\n",
        "[-71022.3203125      0.       ]\n",
        "iai [ 69589.6328125] [ 71089.6328125      0.       ]\n",
        "(array([ 69589.6328125], dtype=float32),)\n",
        "[ 71089.6328125      0.       ]\n",
        "iai [ 69514.3203125] [ 71022.3203125      0.       ]\n",
        "(array([ 69514.3203125], dtype=float32),)\n",
        "[ 71022.3203125      0.       ]\n",
        "credits_impot [ 0.] [ 0.  0.]\n",
        "(array([ 0.], dtype=float32),)\n",
        "[ 0.  0.]\n",
        "credits_impot [ 0.] [ 0.  0.]\n",
        "(array([ 0.], dtype=float32),)\n",
        "[ 0.  0.]\n",
        "cehr [ 0.] [ 0.  0.]\n",
        "(array([ 0.], dtype=float32),)\n",
        "[ 0.  0.]\n",
        "cehr [ 0.] [ 0.  0.]\n",
        "(array([ 0.], dtype=float32),)\n",
        "[ 0.  0.]\n",
        "apl [ 0.] [ 0.]\n",
        "(array([ 0.], dtype=float32),)\n",
        "[ 0.]\n",
        "apl [ 0.] [ 0.]\n",
        "(array([ 0.], dtype=float32),)\n",
        "[ 0.]\n",
        "als [ 0.] [ 0.]\n",
        "(array([ 0.], dtype=float32),)\n",
        "[ 0.]\n",
        "als [ 0.] [ 0.]\n",
        "(array([ 0.], dtype=float32),)\n",
        "[ 0.]\n",
        "alv [ 0.] [ 0.  0.]\n",
        "(array([ 0.], dtype=float32),)\n",
        "[ 0.  0.]\n",
        "alv [ 0.] [ 0.  0.]\n",
        "(array([ 0.], dtype=float32),)\n",
        "[ 0.  0.]\n",
        "alf [ 0.] [ 0.]\n",
        "(array([ 0.], dtype=float32),)\n",
        "[ 0.]\n",
        "alf [ 0.] [ 0.]\n",
        "(array([ 0.], dtype=float32),)"
       ]
      },
      {
       "output_type": "stream",
       "stream": "stdout",
       "text": [
        "\n",
        "[ 0.]\n",
        "mini [ 10736.20996094] [ 10736.20996094]\n",
        "(array([ 10736.20996094], dtype=float32),)\n",
        "[ 10736.20996094]\n",
        "mini [ 11085.69921875] [ 11085.69921875]\n",
        "(array([ 11085.69921875], dtype=float32),)\n",
        "[ 11085.69921875]\n",
        "aspa [ 0.] [ 0.]\n",
        "(array([ 0.], dtype=float32),)\n",
        "[ 0.]\n",
        "aspa [ 0.] [ 0.]\n",
        "(array([ 0.], dtype=float32),)\n",
        "[ 0.]\n",
        "aah [ 0.  0.  0.] [ 0.  0.  0.]\n",
        "(array([ 0.,  0.,  0.], dtype=float32),)\n",
        "[ 0.  0.  0.]\n",
        "aah [ 0.  0.  0.] [ 0.  0.  0.]\n",
        "(array([ 0.,  0.,  0.], dtype=float32),)\n",
        "[ 0.  0.  0.]\n",
        "caah [ 0.  0.  0.] [ 0.  0.  0.]\n",
        "(array([ 0.,  0.,  0.], dtype=float32),)\n",
        "[ 0.  0.  0.]\n",
        "caah [ 0.  0.  0.] [ 0.  0.  0.]\n",
        "(array([ 0.,  0.,  0.], dtype=float32),)\n",
        "[ 0.  0.  0.]\n",
        "asi [ 0.] [ 0.]\n",
        "(array([ 0.], dtype=float32),)\n",
        "[ 0.]\n",
        "asi [ 0.] [ 0.]\n",
        "(array([ 0.], dtype=float32),)\n",
        "[ 0.]\n",
        "aefa [ 228.67500305] [ 228.67500305]\n",
        "(array([ 228.67500305], dtype=float32),)\n",
        "[ 228.67500305]\n",
        "aefa [ 228.67500305] [ 228.67500305]\n",
        "(array([ 228.67500305], dtype=float32),)\n",
        "[ 228.67500305]\n",
        "api [ 0.] [ 0.]\n",
        "(array([ 0.], dtype=float32),)\n",
        "[ 0.]\n",
        "api [ 0.] [ 0.]\n",
        "(array([ 0.], dtype=float32),)\n",
        "[ 0.]\n",
        "ass [ 0.] [ 0.]\n",
        "(array([ 0.], dtype=float32),)\n",
        "[ 0.]\n",
        "ass [ 0.] [ 0.]\n",
        "(array([ 0.], dtype=float32),)\n",
        "[ 0.]\n",
        "psa [ 0.] [ 0.]\n",
        "(array([ 0.], dtype=float32),)\n",
        "[ 0.]\n",
        "psa [ 0.] [ 0.]\n",
        "(array([ 0.], dtype=float32),)\n",
        "[ 0.]\n",
        "rsa [ 10507.53515625] [ 10507.53515625]\n",
        "(array([ 10507.53515625], dtype=float32),)\n",
        "[ 10507.53515625]\n",
        "rsa [ 10857.02441406] [ 10857.02441406]\n",
        "(array([ 10857.02441406], dtype=float32),)\n",
        "[ 10857.02441406]\n",
        "ars "
       ]
      },
      {
       "output_type": "stream",
       "stream": "stdout",
       "text": [
        "[ 0.] [ 0.]\n",
        "(array([ 0.], dtype=float32),)\n",
        "[ 0.]\n",
        "ars [ 0.] [ 0.]\n",
        "(array([ 0.], dtype=float32),)\n",
        "[ 0.]\n",
        "teicaa [ 0.] [ 0.  0.]\n",
        "(array([ 0.], dtype=float32),)\n",
        "[ 0.  0.]\n",
        "teicaa [ 0.] [ 0.  0.]\n",
        "(array([ 0.], dtype=float32),)\n",
        "[ 0.  0.]\n",
        "af [ 0.] [ 0.]\n",
        "(array([ 0.], dtype=float32),)\n",
        "[ 0.]\n",
        "af [ 0.] [ 0.]\n",
        "(array([ 0.], dtype=float32),)\n",
        "[ 0.]\n",
        "pfam [ 0.] [ 0.]\n",
        "(array([ 0.], dtype=float32),)\n",
        "[ 0.]\n",
        "pfam [ 0.] [ 0.]\n",
        "(array([ 0.], dtype=float32),)\n",
        "[ 0.]\n",
        "rng [ 201338.] [ 201338.       0.]\n",
        "(array([ 201338.], dtype=float32),)\n",
        "[ 201338.       0.]\n",
        "rng [ 201338.] [ 201338.       0.]\n",
        "(array([ 201338.], dtype=float32),)\n",
        "[ 201338.       0.]\n",
        "asf [ 0.] [ 0.]\n",
        "(array([ 0.], dtype=float32),)\n",
        "[ 0.]\n",
        "asf [ 0.] [ 0.]\n",
        "(array([ 0.], dtype=float32),)\n",
        "[ 0.]\n",
        "nbptr [ 1.5] [ 1.  1.]\n",
        "(array([ 1.5], dtype=float32),)\n",
        "[ 1.  1.]\n",
        "nbptr [ 1.5] [ 1.  1.]\n",
        "(array([ 1.5], dtype=float32),)\n",
        "[ 1.  1.]\n"
       ]
      }
     ],
     "prompt_number": 84
    },
    {
     "cell_type": "heading",
     "level": 3,
     "metadata": {},
     "source": [
      "Essai 2"
     ]
    },
    {
     "cell_type": "code",
     "collapsed": false,
     "input": [
      "individus = [ \n",
      "\n",
      "    {'id' :'ind0',  'birth': datetime.date(2014-22, 1, 1)},\n",
      "\n",
      "    {'id': 'ind1', u'salaire_de_base':{\n",
      "        Period((u'year', Instant((2013, 1, 1)), 1)): 30000.0,\n",
      "        Period((u'year', Instant((2014, 1, 1)), 1)): 30000.0,\n",
      "        }, \n",
      "        'birth': datetime.date(1960, 1, 1)},\n",
      "\n",
      "    {'id': 'ind2', u'salaire_de_base': {\n",
      "        Period((u'year', Instant((2013, 1, 1)), 1)): 30000.0,\n",
      "        Period((u'year', Instant((2014, 1, 1)), 1)): 30000.0,\n",
      "         },\n",
      "        'birth': datetime.date(1961, 12, 1)},\n",
      "\n",
      "    {'id': 'ind3', u'salaire_de_base':{\n",
      "        Period((u'year', Instant((2013, 1, 1)), 1)): 60000.0,\n",
      "        Period((u'year', Instant((2014, 1, 1)), 1)): 60000.0,\n",
      "        }, \n",
      "        'birth': datetime.date(1960, 1, 1)},\n",
      "\n",
      "    {'id': 'ind4', u'salaire_de_base': {\n",
      "        Period((u'year', Instant((2013, 1, 1)), 1)): 60000.0,\n",
      "        Period((u'year', Instant((2014, 1, 1)), 1)): 60000.0,\n",
      "         },\n",
      "        'birth': datetime.date(1961, 12, 1)},\n",
      "]"
     ],
     "language": "python",
     "metadata": {},
     "outputs": [],
     "prompt_number": 85
    },
    {
     "cell_type": "code",
     "collapsed": false,
     "input": [
      "familles1 = [\n",
      "    {'id': 0, 'enfants': ['ind0'], 'parents': ['ind1', 'ind2']}\n",
      "    ] "
     ],
     "language": "python",
     "metadata": {},
     "outputs": [],
     "prompt_number": 86
    },
    {
     "cell_type": "code",
     "collapsed": false,
     "input": [
      "familles2 = [\n",
      "    {'id': 1, 'enfants': ['ind0'], 'parents': ['ind1', 'ind2']}\n",
      "    ]"
     ],
     "language": "python",
     "metadata": {},
     "outputs": [],
     "prompt_number": 87
    },
    {
     "cell_type": "code",
     "collapsed": false,
     "input": [
      "liste_familles = familles1 + familles2"
     ],
     "language": "python",
     "metadata": {},
     "outputs": [],
     "prompt_number": 88
    },
    {
     "cell_type": "markdown",
     "metadata": {},
     "source": [
      "Scenario_m_ff"
     ]
    },
    {
     "cell_type": "code",
     "collapsed": false,
     "input": [
      "menages1 = [\n",
      "        {'id': 0, 'conjoint': 'ind0', 'autres': [], 'enfants': ['ind0'], 'personne_de_reference': 'ind1'}\n",
      "        ]"
     ],
     "language": "python",
     "metadata": {},
     "outputs": [],
     "prompt_number": 89
    },
    {
     "cell_type": "code",
     "collapsed": false,
     "input": [
      "menages2 = [\n",
      "        {'id': 1, 'conjoint': 'ind3', 'autres': [], 'enfants': ['ind0'], 'personne_de_reference': 'ind4'}\n",
      "        ]"
     ],
     "language": "python",
     "metadata": {},
     "outputs": [],
     "prompt_number": 90
    },
    {
     "cell_type": "code",
     "collapsed": false,
     "input": [
      "liste_menages = menages1 + menages2"
     ],
     "language": "python",
     "metadata": {},
     "outputs": [],
     "prompt_number": 91
    },
    {
     "cell_type": "code",
     "collapsed": false,
     "input": [
      "foyers_fiscaux1 = [\n",
      "        {'id': 0, 'personnes_a_charge': ['ind0'], 'declarants': ['ind1', 'ind2']}\n",
      "        ]"
     ],
     "language": "python",
     "metadata": {},
     "outputs": [],
     "prompt_number": 92
    },
    {
     "cell_type": "code",
     "collapsed": false,
     "input": [
      "foyers_fiscaux2 = [\n",
      "        {'id': 1, 'personnes_a_charge': ['ind0'], 'declarants': ['ind3', 'ind4']}\n",
      "        ]"
     ],
     "language": "python",
     "metadata": {},
     "outputs": [],
     "prompt_number": 93
    },
    {
     "cell_type": "code",
     "collapsed": false,
     "input": [
      "liste_foyers_fiscaux = foyers_fiscaux1 + foyers_fiscaux2"
     ],
     "language": "python",
     "metadata": {},
     "outputs": [],
     "prompt_number": 94
    },
    {
     "cell_type": "code",
     "collapsed": false,
     "input": [
      "test_case_m_ff = {\n",
      "'individus' : individus, \n",
      "'menages' : liste_menages,\n",
      "'familles' : liste_familles, \n",
      "'foyers_fiscaux' : liste_foyers_fiscaux,\n",
      "}"
     ],
     "language": "python",
     "metadata": {},
     "outputs": [],
     "prompt_number": 95
    },
    {
     "cell_type": "code",
     "collapsed": false,
     "input": [
      "scenario_m_ff = tax_benefit_system.new_scenario()\n",
      "type(scenario_m_ff)"
     ],
     "language": "python",
     "metadata": {},
     "outputs": [
      {
       "metadata": {},
       "output_type": "pyout",
       "prompt_number": 96,
       "text": [
        "openfisca_france.scenarios.Scenario"
       ]
      }
     ],
     "prompt_number": 96
    },
    {
     "cell_type": "code",
     "collapsed": false,
     "input": [
      "scenario_m_ff.test_case = test_case_m_ff\n",
      "test_case_m_ff['familles'] #\u00a0BIZARRE que les m\u00eames individus appartiennent \u00e0 deux familles diff\u00e9rentes "
     ],
     "language": "python",
     "metadata": {},
     "outputs": [
      {
       "metadata": {},
       "output_type": "pyout",
       "prompt_number": 97,
       "text": [
        "[{'enfants': ['ind0'], 'id': 0, 'parents': ['ind1', 'ind2']},\n",
        " {'enfants': ['ind0'], 'id': 1, 'parents': ['ind1', 'ind2']}]"
       ]
      }
     ],
     "prompt_number": 97
    },
    {
     "cell_type": "code",
     "collapsed": false,
     "input": [
      "for year in range(2013, 2015):\n",
      "    scenario_m_ff.period = periods.period(year)"
     ],
     "language": "python",
     "metadata": {},
     "outputs": [],
     "prompt_number": 98
    },
    {
     "cell_type": "code",
     "collapsed": false,
     "input": [
      "simulation_m_ff = scenario_m_ff.new_simulation(debug = True , trace = True)"
     ],
     "language": "python",
     "metadata": {},
     "outputs": [],
     "prompt_number": 99
    },
    {
     "cell_type": "code",
     "collapsed": false,
     "input": [
      "for variable in variables: \n",
      "    for year in range(2013,2015):\n",
      "        print variable, simulation_m_ff.calculate(variable, year),\n",
      "        liste_m_ff = simulation_m_ff.calculate(variable, year),  \n",
      "        print liste_m_ff\n",
      "        "
     ],
     "language": "python",
     "metadata": {},
     "outputs": [
      {
       "output_type": "stream",
       "stream": "stderr",
       "text": [
        "ERROR:openfisca_core.formulas:An error occurred while transforming array for role menage[32580] in function zone_apl_individu\n"
       ]
      },
      {
       "output_type": "stream",
       "stream": "stderr",
       "text": [
        "ERROR:openfisca_core.formulas:An error occurred while calling formula indemnite_residence@individus<2013-01> in module openfisca_france.model.cotisations_sociales.travail_fonction_publique\n"
       ]
      },
      {
       "output_type": "stream",
       "stream": "stderr",
       "text": [
        "ERROR:openfisca_core.formulas:An error occurred while calling formula sal@individus<2013> in module openfisca_france.model.cotisations_sociales.travail_totaux\n"
       ]
      },
      {
       "output_type": "stream",
       "stream": "stdout",
       "text": [
        "sal"
       ]
      },
      {
       "ename": "IndexError",
       "evalue": "index -458705240 is out of bounds for size 2",
       "output_type": "pyerr",
       "traceback": [
        "\u001b[0;31m---------------------------------------------------------------------------\u001b[0m\n\u001b[0;31mIndexError\u001b[0m                                Traceback (most recent call last)",
        "\u001b[0;32m<ipython-input-100-86c100fec23b>\u001b[0m in \u001b[0;36m<module>\u001b[0;34m()\u001b[0m\n\u001b[1;32m      1\u001b[0m \u001b[0;32mfor\u001b[0m \u001b[0mvariable\u001b[0m \u001b[0;32min\u001b[0m \u001b[0mvariables\u001b[0m\u001b[0;34m:\u001b[0m\u001b[0;34m\u001b[0m\u001b[0m\n\u001b[1;32m      2\u001b[0m     \u001b[0;32mfor\u001b[0m \u001b[0myear\u001b[0m \u001b[0;32min\u001b[0m \u001b[0mrange\u001b[0m\u001b[0;34m(\u001b[0m\u001b[0;36m2013\u001b[0m\u001b[0;34m,\u001b[0m\u001b[0;36m2015\u001b[0m\u001b[0;34m)\u001b[0m\u001b[0;34m:\u001b[0m\u001b[0;34m\u001b[0m\u001b[0m\n\u001b[0;32m----> 3\u001b[0;31m         \u001b[0;32mprint\u001b[0m \u001b[0mvariable\u001b[0m\u001b[0;34m,\u001b[0m \u001b[0msimulation_m_ff\u001b[0m\u001b[0;34m.\u001b[0m\u001b[0mcalculate\u001b[0m\u001b[0;34m(\u001b[0m\u001b[0mvariable\u001b[0m\u001b[0;34m,\u001b[0m \u001b[0myear\u001b[0m\u001b[0;34m)\u001b[0m\u001b[0;34m,\u001b[0m\u001b[0;34m\u001b[0m\u001b[0m\n\u001b[0m\u001b[1;32m      4\u001b[0m         \u001b[0mliste_m_ff\u001b[0m \u001b[0;34m=\u001b[0m \u001b[0msimulation_m_ff\u001b[0m\u001b[0;34m.\u001b[0m\u001b[0mcalculate\u001b[0m\u001b[0;34m(\u001b[0m\u001b[0mvariable\u001b[0m\u001b[0;34m,\u001b[0m \u001b[0myear\u001b[0m\u001b[0;34m)\u001b[0m\u001b[0;34m,\u001b[0m\u001b[0;34m\u001b[0m\u001b[0m\n\u001b[1;32m      5\u001b[0m         \u001b[0;32mprint\u001b[0m \u001b[0mliste_m_ff\u001b[0m\u001b[0;34m\u001b[0m\u001b[0m\n",
        "\u001b[0;32m/home/openfisca/openfisca-core/openfisca_core/simulations.pyc\u001b[0m in \u001b[0;36mcalculate\u001b[0;34m(self, column_name, period, accept_other_period, requested_formulas_by_period)\u001b[0m\n\u001b[1;32m     89\u001b[0m             \u001b[0mperiod\u001b[0m \u001b[0;34m=\u001b[0m \u001b[0mself\u001b[0m\u001b[0;34m.\u001b[0m\u001b[0mperiod\u001b[0m\u001b[0;34m\u001b[0m\u001b[0m\n\u001b[1;32m     90\u001b[0m         return self.compute(column_name, period = period, accept_other_period = accept_other_period,\n\u001b[0;32m---> 91\u001b[0;31m             requested_formulas_by_period = requested_formulas_by_period).array\n\u001b[0m\u001b[1;32m     92\u001b[0m \u001b[0;34m\u001b[0m\u001b[0m\n\u001b[1;32m     93\u001b[0m     \u001b[0;32mdef\u001b[0m \u001b[0mcalculate_add\u001b[0m\u001b[0;34m(\u001b[0m\u001b[0mself\u001b[0m\u001b[0;34m,\u001b[0m \u001b[0mcolumn_name\u001b[0m\u001b[0;34m,\u001b[0m \u001b[0mperiod\u001b[0m \u001b[0;34m=\u001b[0m \u001b[0mNone\u001b[0m\u001b[0;34m,\u001b[0m \u001b[0mrequested_formulas_by_period\u001b[0m \u001b[0;34m=\u001b[0m \u001b[0mNone\u001b[0m\u001b[0;34m)\u001b[0m\u001b[0;34m:\u001b[0m\u001b[0;34m\u001b[0m\u001b[0m\n",
        "\u001b[0;32m/home/openfisca/openfisca-core/openfisca_core/simulations.pyc\u001b[0m in \u001b[0;36mcompute\u001b[0;34m(self, column_name, period, accept_other_period, requested_formulas_by_period)\u001b[0m\n\u001b[1;32m    160\u001b[0m                 \u001b[0mcaller_input_variables_infos\u001b[0m\u001b[0;34m.\u001b[0m\u001b[0mappend\u001b[0m\u001b[0;34m(\u001b[0m\u001b[0mvariable_infos\u001b[0m\u001b[0;34m)\u001b[0m\u001b[0;34m\u001b[0m\u001b[0m\n\u001b[1;32m    161\u001b[0m         return self.entity_by_column_name[column_name].compute(column_name, period = period,\n\u001b[0;32m--> 162\u001b[0;31m             accept_other_period = accept_other_period, requested_formulas_by_period = requested_formulas_by_period)\n\u001b[0m\u001b[1;32m    163\u001b[0m \u001b[0;34m\u001b[0m\u001b[0m\n\u001b[1;32m    164\u001b[0m     \u001b[0;32mdef\u001b[0m \u001b[0mcompute_add\u001b[0m\u001b[0;34m(\u001b[0m\u001b[0mself\u001b[0m\u001b[0;34m,\u001b[0m \u001b[0mcolumn_name\u001b[0m\u001b[0;34m,\u001b[0m \u001b[0mperiod\u001b[0m \u001b[0;34m=\u001b[0m \u001b[0mNone\u001b[0m\u001b[0;34m,\u001b[0m \u001b[0mrequested_formulas_by_period\u001b[0m \u001b[0;34m=\u001b[0m \u001b[0mNone\u001b[0m\u001b[0;34m)\u001b[0m\u001b[0;34m:\u001b[0m\u001b[0;34m\u001b[0m\u001b[0m\n",
        "\u001b[0;32m/home/openfisca/openfisca-core/openfisca_core/entities.pyc\u001b[0m in \u001b[0;36mcompute\u001b[0;34m(self, column_name, period, accept_other_period, requested_formulas_by_period)\u001b[0m\n\u001b[1;32m     73\u001b[0m     \u001b[0;32mdef\u001b[0m \u001b[0mcompute\u001b[0m\u001b[0;34m(\u001b[0m\u001b[0mself\u001b[0m\u001b[0;34m,\u001b[0m \u001b[0mcolumn_name\u001b[0m\u001b[0;34m,\u001b[0m \u001b[0mperiod\u001b[0m \u001b[0;34m=\u001b[0m \u001b[0mNone\u001b[0m\u001b[0;34m,\u001b[0m \u001b[0maccept_other_period\u001b[0m \u001b[0;34m=\u001b[0m \u001b[0mFalse\u001b[0m\u001b[0;34m,\u001b[0m \u001b[0mrequested_formulas_by_period\u001b[0m \u001b[0;34m=\u001b[0m \u001b[0mNone\u001b[0m\u001b[0;34m)\u001b[0m\u001b[0;34m:\u001b[0m\u001b[0;34m\u001b[0m\u001b[0m\n\u001b[1;32m     74\u001b[0m         return self.get_or_new_holder(column_name).compute(period = period, accept_other_period = accept_other_period,\n\u001b[0;32m---> 75\u001b[0;31m             requested_formulas_by_period = requested_formulas_by_period)\n\u001b[0m\u001b[1;32m     76\u001b[0m \u001b[0;34m\u001b[0m\u001b[0m\n\u001b[1;32m     77\u001b[0m     \u001b[0;32mdef\u001b[0m \u001b[0mcompute_add\u001b[0m\u001b[0;34m(\u001b[0m\u001b[0mself\u001b[0m\u001b[0;34m,\u001b[0m \u001b[0mcolumn_name\u001b[0m\u001b[0;34m,\u001b[0m \u001b[0mperiod\u001b[0m \u001b[0;34m=\u001b[0m \u001b[0mNone\u001b[0m\u001b[0;34m,\u001b[0m \u001b[0mrequested_formulas_by_period\u001b[0m \u001b[0;34m=\u001b[0m \u001b[0mNone\u001b[0m\u001b[0;34m)\u001b[0m\u001b[0;34m:\u001b[0m\u001b[0;34m\u001b[0m\u001b[0m\n",
        "\u001b[0;32m/home/openfisca/openfisca-core/openfisca_core/holders.pyc\u001b[0m in \u001b[0;36mcompute\u001b[0;34m(self, period, accept_other_period, requested_formulas_by_period)\u001b[0m\n\u001b[1;32m    157\u001b[0m                 \u001b[0;32mand\u001b[0m \u001b[0;34m(\u001b[0m\u001b[0mcolumn_stop_instant\u001b[0m \u001b[0;32mis\u001b[0m \u001b[0mNone\u001b[0m \u001b[0;32mor\u001b[0m \u001b[0mperiod\u001b[0m\u001b[0;34m.\u001b[0m\u001b[0mstart\u001b[0m \u001b[0;34m<=\u001b[0m \u001b[0mcolumn_stop_instant\u001b[0m\u001b[0;34m)\u001b[0m\u001b[0;34m:\u001b[0m\u001b[0;34m\u001b[0m\u001b[0m\n\u001b[1;32m    158\u001b[0m             formula_dated_holder = self.formula.compute(period = period,\n\u001b[0;32m--> 159\u001b[0;31m                 requested_formulas_by_period = requested_formulas_by_period)\n\u001b[0m\u001b[1;32m    160\u001b[0m             \u001b[0;32massert\u001b[0m \u001b[0mformula_dated_holder\u001b[0m \u001b[0;32mis\u001b[0m \u001b[0;32mnot\u001b[0m \u001b[0mNone\u001b[0m\u001b[0;34m\u001b[0m\u001b[0m\n\u001b[1;32m    161\u001b[0m             \u001b[0;32mif\u001b[0m \u001b[0;32mnot\u001b[0m \u001b[0mcolumn\u001b[0m\u001b[0;34m.\u001b[0m\u001b[0mis_permanent\u001b[0m\u001b[0;34m:\u001b[0m\u001b[0;34m\u001b[0m\u001b[0m\n",
        "\u001b[0;32m/home/openfisca/openfisca-core/openfisca_core/formulas.pyc\u001b[0m in \u001b[0;36mcompute\u001b[0;34m(self, period, requested_formulas_by_period)\u001b[0m\n\u001b[1;32m    496\u001b[0m \u001b[0;34m\u001b[0m\u001b[0m\n\u001b[1;32m    497\u001b[0m         \u001b[0;32mtry\u001b[0m\u001b[0;34m:\u001b[0m\u001b[0;34m\u001b[0m\u001b[0m\n\u001b[0;32m--> 498\u001b[0;31m             \u001b[0mformula_result\u001b[0m \u001b[0;34m=\u001b[0m \u001b[0mself\u001b[0m\u001b[0;34m.\u001b[0m\u001b[0mbase_function\u001b[0m\u001b[0;34m(\u001b[0m\u001b[0msimulation\u001b[0m\u001b[0;34m,\u001b[0m \u001b[0mperiod\u001b[0m\u001b[0;34m)\u001b[0m\u001b[0;34m\u001b[0m\u001b[0m\n\u001b[0m\u001b[1;32m    499\u001b[0m         \u001b[0;32mexcept\u001b[0m\u001b[0;34m:\u001b[0m\u001b[0;34m\u001b[0m\u001b[0m\n\u001b[1;32m    500\u001b[0m             log.error(u'An error occurred while calling formula {}@{}<{}> in module {}'.format(\n",
        "\u001b[0;32m/home/openfisca/openfisca-core/openfisca_core/formulas.pyc\u001b[0m in \u001b[0;36mrequested_period_default_value\u001b[0;34m(formula, simulation, period)\u001b[0m\n\u001b[1;32m   1182\u001b[0m \u001b[0;32mdef\u001b[0m \u001b[0mrequested_period_default_value\u001b[0m\u001b[0;34m(\u001b[0m\u001b[0mformula\u001b[0m\u001b[0;34m,\u001b[0m \u001b[0msimulation\u001b[0m\u001b[0;34m,\u001b[0m \u001b[0mperiod\u001b[0m\u001b[0;34m)\u001b[0m\u001b[0;34m:\u001b[0m\u001b[0;34m\u001b[0m\u001b[0m\n\u001b[1;32m   1183\u001b[0m     \u001b[0;32mif\u001b[0m \u001b[0mformula\u001b[0m\u001b[0;34m.\u001b[0m\u001b[0mfunction\u001b[0m \u001b[0;32mis\u001b[0m \u001b[0;32mnot\u001b[0m \u001b[0mNone\u001b[0m\u001b[0;34m:\u001b[0m\u001b[0;34m\u001b[0m\u001b[0m\n\u001b[0;32m-> 1184\u001b[0;31m         \u001b[0;32mreturn\u001b[0m \u001b[0mformula\u001b[0m\u001b[0;34m.\u001b[0m\u001b[0mfunction\u001b[0m\u001b[0;34m(\u001b[0m\u001b[0msimulation\u001b[0m\u001b[0;34m,\u001b[0m \u001b[0mperiod\u001b[0m\u001b[0;34m)\u001b[0m\u001b[0;34m\u001b[0m\u001b[0m\n\u001b[0m\u001b[1;32m   1185\u001b[0m     \u001b[0mholder\u001b[0m \u001b[0;34m=\u001b[0m \u001b[0mformula\u001b[0m\u001b[0;34m.\u001b[0m\u001b[0mholder\u001b[0m\u001b[0;34m\u001b[0m\u001b[0m\n\u001b[1;32m   1186\u001b[0m     \u001b[0mcolumn\u001b[0m \u001b[0;34m=\u001b[0m \u001b[0mholder\u001b[0m\u001b[0;34m.\u001b[0m\u001b[0mcolumn\u001b[0m\u001b[0;34m\u001b[0m\u001b[0m\n",
        "\u001b[0;32m/home/openfisca/openfisca-france/openfisca_france/model/cotisations_sociales/travail_totaux.pyc\u001b[0m in \u001b[0;36mfunction\u001b[0;34m(self, simulation, period)\u001b[0m\n\u001b[1;32m    354\u001b[0m         \u001b[0msalaire_de_base\u001b[0m \u001b[0;34m=\u001b[0m \u001b[0msimulation\u001b[0m\u001b[0;34m.\u001b[0m\u001b[0mcalculate_add\u001b[0m\u001b[0;34m(\u001b[0m\u001b[0;34m'salaire_de_base'\u001b[0m\u001b[0;34m,\u001b[0m \u001b[0mperiod\u001b[0m\u001b[0;34m)\u001b[0m\u001b[0;34m\u001b[0m\u001b[0m\n\u001b[1;32m    355\u001b[0m         \u001b[0mprimes_fonction_publique\u001b[0m \u001b[0;34m=\u001b[0m \u001b[0msimulation\u001b[0m\u001b[0;34m.\u001b[0m\u001b[0mcalculate_add\u001b[0m\u001b[0;34m(\u001b[0m\u001b[0;34m'primes_fonction_publique'\u001b[0m\u001b[0;34m,\u001b[0m \u001b[0mperiod\u001b[0m\u001b[0;34m)\u001b[0m\u001b[0;34m\u001b[0m\u001b[0m\n\u001b[0;32m--> 356\u001b[0;31m         \u001b[0mindemnite_residence\u001b[0m \u001b[0;34m=\u001b[0m \u001b[0msimulation\u001b[0m\u001b[0;34m.\u001b[0m\u001b[0mcalculate_add\u001b[0m\u001b[0;34m(\u001b[0m\u001b[0;34m'indemnite_residence'\u001b[0m\u001b[0;34m,\u001b[0m \u001b[0mperiod\u001b[0m\u001b[0;34m)\u001b[0m\u001b[0;34m\u001b[0m\u001b[0m\n\u001b[0m\u001b[1;32m    357\u001b[0m         \u001b[0msupp_familial_traitement\u001b[0m \u001b[0;34m=\u001b[0m \u001b[0msimulation\u001b[0m\u001b[0;34m.\u001b[0m\u001b[0mcalculate_add\u001b[0m\u001b[0;34m(\u001b[0m\u001b[0;34m'supp_familial_traitement'\u001b[0m\u001b[0;34m,\u001b[0m \u001b[0mperiod\u001b[0m\u001b[0;34m)\u001b[0m\u001b[0;34m\u001b[0m\u001b[0m\n\u001b[1;32m    358\u001b[0m         \u001b[0mcsgsald\u001b[0m \u001b[0;34m=\u001b[0m \u001b[0msimulation\u001b[0m\u001b[0;34m.\u001b[0m\u001b[0mcalculate_add\u001b[0m\u001b[0;34m(\u001b[0m\u001b[0;34m'csgsald'\u001b[0m\u001b[0;34m,\u001b[0m \u001b[0mperiod\u001b[0m\u001b[0;34m)\u001b[0m\u001b[0;34m\u001b[0m\u001b[0m\n",
        "\u001b[0;32m/home/openfisca/openfisca-core/openfisca_core/simulations.pyc\u001b[0m in \u001b[0;36mcalculate_add\u001b[0;34m(self, column_name, period, requested_formulas_by_period)\u001b[0m\n\u001b[1;32m     95\u001b[0m             \u001b[0mperiod\u001b[0m \u001b[0;34m=\u001b[0m \u001b[0mself\u001b[0m\u001b[0;34m.\u001b[0m\u001b[0mperiod\u001b[0m\u001b[0;34m\u001b[0m\u001b[0m\n\u001b[1;32m     96\u001b[0m         return self.compute_add(column_name, period = period,\n\u001b[0;32m---> 97\u001b[0;31m             requested_formulas_by_period = requested_formulas_by_period).array\n\u001b[0m\u001b[1;32m     98\u001b[0m \u001b[0;34m\u001b[0m\u001b[0m\n\u001b[1;32m     99\u001b[0m     \u001b[0;32mdef\u001b[0m \u001b[0mcalculate_add_divide\u001b[0m\u001b[0;34m(\u001b[0m\u001b[0mself\u001b[0m\u001b[0;34m,\u001b[0m \u001b[0mcolumn_name\u001b[0m\u001b[0;34m,\u001b[0m \u001b[0mperiod\u001b[0m \u001b[0;34m=\u001b[0m \u001b[0mNone\u001b[0m\u001b[0;34m,\u001b[0m \u001b[0mrequested_formulas_by_period\u001b[0m \u001b[0;34m=\u001b[0m \u001b[0mNone\u001b[0m\u001b[0;34m)\u001b[0m\u001b[0;34m:\u001b[0m\u001b[0;34m\u001b[0m\u001b[0m\n",
        "\u001b[0;32m/home/openfisca/openfisca-core/openfisca_core/simulations.pyc\u001b[0m in \u001b[0;36mcompute_add\u001b[0;34m(self, column_name, period, requested_formulas_by_period)\u001b[0m\n\u001b[1;32m    174\u001b[0m                 \u001b[0mcaller_input_variables_infos\u001b[0m\u001b[0;34m.\u001b[0m\u001b[0mappend\u001b[0m\u001b[0;34m(\u001b[0m\u001b[0mvariable_infos\u001b[0m\u001b[0;34m)\u001b[0m\u001b[0;34m\u001b[0m\u001b[0m\n\u001b[1;32m    175\u001b[0m         return self.entity_by_column_name[column_name].compute_add(column_name, period = period,\n\u001b[0;32m--> 176\u001b[0;31m             requested_formulas_by_period = requested_formulas_by_period)\n\u001b[0m\u001b[1;32m    177\u001b[0m \u001b[0;34m\u001b[0m\u001b[0m\n\u001b[1;32m    178\u001b[0m     \u001b[0;32mdef\u001b[0m \u001b[0mcompute_add_divide\u001b[0m\u001b[0;34m(\u001b[0m\u001b[0mself\u001b[0m\u001b[0;34m,\u001b[0m \u001b[0mcolumn_name\u001b[0m\u001b[0;34m,\u001b[0m \u001b[0mperiod\u001b[0m \u001b[0;34m=\u001b[0m \u001b[0mNone\u001b[0m\u001b[0;34m,\u001b[0m \u001b[0mrequested_formulas_by_period\u001b[0m \u001b[0;34m=\u001b[0m \u001b[0mNone\u001b[0m\u001b[0;34m)\u001b[0m\u001b[0;34m:\u001b[0m\u001b[0;34m\u001b[0m\u001b[0m\n",
        "\u001b[0;32m/home/openfisca/openfisca-core/openfisca_core/entities.pyc\u001b[0m in \u001b[0;36mcompute_add\u001b[0;34m(self, column_name, period, requested_formulas_by_period)\u001b[0m\n\u001b[1;32m     77\u001b[0m     \u001b[0;32mdef\u001b[0m \u001b[0mcompute_add\u001b[0m\u001b[0;34m(\u001b[0m\u001b[0mself\u001b[0m\u001b[0;34m,\u001b[0m \u001b[0mcolumn_name\u001b[0m\u001b[0;34m,\u001b[0m \u001b[0mperiod\u001b[0m \u001b[0;34m=\u001b[0m \u001b[0mNone\u001b[0m\u001b[0;34m,\u001b[0m \u001b[0mrequested_formulas_by_period\u001b[0m \u001b[0;34m=\u001b[0m \u001b[0mNone\u001b[0m\u001b[0;34m)\u001b[0m\u001b[0;34m:\u001b[0m\u001b[0;34m\u001b[0m\u001b[0m\n\u001b[1;32m     78\u001b[0m         return self.get_or_new_holder(column_name).compute_add(period = period,\n\u001b[0;32m---> 79\u001b[0;31m             requested_formulas_by_period = requested_formulas_by_period)\n\u001b[0m\u001b[1;32m     80\u001b[0m \u001b[0;34m\u001b[0m\u001b[0m\n\u001b[1;32m     81\u001b[0m     \u001b[0;32mdef\u001b[0m \u001b[0mcompute_add_divide\u001b[0m\u001b[0;34m(\u001b[0m\u001b[0mself\u001b[0m\u001b[0;34m,\u001b[0m \u001b[0mcolumn_name\u001b[0m\u001b[0;34m,\u001b[0m \u001b[0mperiod\u001b[0m \u001b[0;34m=\u001b[0m \u001b[0mNone\u001b[0m\u001b[0;34m,\u001b[0m \u001b[0mrequested_formulas_by_period\u001b[0m \u001b[0;34m=\u001b[0m \u001b[0mNone\u001b[0m\u001b[0;34m)\u001b[0m\u001b[0;34m:\u001b[0m\u001b[0;34m\u001b[0m\u001b[0m\n",
        "\u001b[0;32m/home/openfisca/openfisca-core/openfisca_core/holders.pyc\u001b[0m in \u001b[0;36mcompute_add\u001b[0;34m(self, period, requested_formulas_by_period)\u001b[0m\n\u001b[1;32m    196\u001b[0m                     \u001b[0mmonth_period\u001b[0m \u001b[0;34m=\u001b[0m \u001b[0mperiods\u001b[0m\u001b[0;34m.\u001b[0m\u001b[0mperiod\u001b[0m\u001b[0;34m(\u001b[0m\u001b[0;34mu'month'\u001b[0m\u001b[0;34m,\u001b[0m \u001b[0mperiods\u001b[0m\u001b[0;34m.\u001b[0m\u001b[0minstant\u001b[0m\u001b[0;34m(\u001b[0m\u001b[0;34m(\u001b[0m\u001b[0myear\u001b[0m\u001b[0;34m,\u001b[0m \u001b[0mmonth\u001b[0m\u001b[0;34m,\u001b[0m \u001b[0mday\u001b[0m\u001b[0;34m)\u001b[0m\u001b[0;34m)\u001b[0m\u001b[0;34m)\u001b[0m\u001b[0;34m\u001b[0m\u001b[0m\n\u001b[1;32m    197\u001b[0m                     month_array = self.calculate(period = month_period,\n\u001b[0;32m--> 198\u001b[0;31m                         requested_formulas_by_period = requested_formulas_by_period)\n\u001b[0m\u001b[1;32m    199\u001b[0m                     \u001b[0;32mif\u001b[0m \u001b[0marray\u001b[0m \u001b[0;32mis\u001b[0m \u001b[0mNone\u001b[0m\u001b[0;34m:\u001b[0m\u001b[0;34m\u001b[0m\u001b[0m\n\u001b[1;32m    200\u001b[0m                         \u001b[0marray\u001b[0m \u001b[0;34m=\u001b[0m \u001b[0mmonth_array\u001b[0m\u001b[0;34m.\u001b[0m\u001b[0mcopy\u001b[0m\u001b[0;34m(\u001b[0m\u001b[0;34m)\u001b[0m\u001b[0;34m\u001b[0m\u001b[0m\n",
        "\u001b[0;32m/home/openfisca/openfisca-core/openfisca_core/holders.pyc\u001b[0m in \u001b[0;36mcalculate\u001b[0;34m(self, period, accept_other_period, requested_formulas_by_period)\u001b[0m\n\u001b[1;32m    111\u001b[0m     \u001b[0;32mdef\u001b[0m \u001b[0mcalculate\u001b[0m\u001b[0;34m(\u001b[0m\u001b[0mself\u001b[0m\u001b[0;34m,\u001b[0m \u001b[0mperiod\u001b[0m \u001b[0;34m=\u001b[0m \u001b[0mNone\u001b[0m\u001b[0;34m,\u001b[0m \u001b[0maccept_other_period\u001b[0m \u001b[0;34m=\u001b[0m \u001b[0mFalse\u001b[0m\u001b[0;34m,\u001b[0m \u001b[0mrequested_formulas_by_period\u001b[0m \u001b[0;34m=\u001b[0m \u001b[0mNone\u001b[0m\u001b[0;34m)\u001b[0m\u001b[0;34m:\u001b[0m\u001b[0;34m\u001b[0m\u001b[0m\n\u001b[1;32m    112\u001b[0m         dated_holder = self.compute(period = period, accept_other_period = accept_other_period,\n\u001b[0;32m--> 113\u001b[0;31m             requested_formulas_by_period = requested_formulas_by_period)\n\u001b[0m\u001b[1;32m    114\u001b[0m         \u001b[0;32mreturn\u001b[0m \u001b[0mdated_holder\u001b[0m\u001b[0;34m.\u001b[0m\u001b[0marray\u001b[0m\u001b[0;34m\u001b[0m\u001b[0m\n\u001b[1;32m    115\u001b[0m \u001b[0;34m\u001b[0m\u001b[0m\n",
        "\u001b[0;32m/home/openfisca/openfisca-core/openfisca_core/holders.pyc\u001b[0m in \u001b[0;36mcompute\u001b[0;34m(self, period, accept_other_period, requested_formulas_by_period)\u001b[0m\n\u001b[1;32m    157\u001b[0m                 \u001b[0;32mand\u001b[0m \u001b[0;34m(\u001b[0m\u001b[0mcolumn_stop_instant\u001b[0m \u001b[0;32mis\u001b[0m \u001b[0mNone\u001b[0m \u001b[0;32mor\u001b[0m \u001b[0mperiod\u001b[0m\u001b[0;34m.\u001b[0m\u001b[0mstart\u001b[0m \u001b[0;34m<=\u001b[0m \u001b[0mcolumn_stop_instant\u001b[0m\u001b[0;34m)\u001b[0m\u001b[0;34m:\u001b[0m\u001b[0;34m\u001b[0m\u001b[0m\n\u001b[1;32m    158\u001b[0m             formula_dated_holder = self.formula.compute(period = period,\n\u001b[0;32m--> 159\u001b[0;31m                 requested_formulas_by_period = requested_formulas_by_period)\n\u001b[0m\u001b[1;32m    160\u001b[0m             \u001b[0;32massert\u001b[0m \u001b[0mformula_dated_holder\u001b[0m \u001b[0;32mis\u001b[0m \u001b[0;32mnot\u001b[0m \u001b[0mNone\u001b[0m\u001b[0;34m\u001b[0m\u001b[0m\n\u001b[1;32m    161\u001b[0m             \u001b[0;32mif\u001b[0m \u001b[0;32mnot\u001b[0m \u001b[0mcolumn\u001b[0m\u001b[0;34m.\u001b[0m\u001b[0mis_permanent\u001b[0m\u001b[0;34m:\u001b[0m\u001b[0;34m\u001b[0m\u001b[0m\n",
        "\u001b[0;32m/home/openfisca/openfisca-core/openfisca_core/formulas.pyc\u001b[0m in \u001b[0;36mcompute\u001b[0;34m(self, period, requested_formulas_by_period)\u001b[0m\n\u001b[1;32m    496\u001b[0m \u001b[0;34m\u001b[0m\u001b[0m\n\u001b[1;32m    497\u001b[0m         \u001b[0;32mtry\u001b[0m\u001b[0;34m:\u001b[0m\u001b[0;34m\u001b[0m\u001b[0m\n\u001b[0;32m--> 498\u001b[0;31m             \u001b[0mformula_result\u001b[0m \u001b[0;34m=\u001b[0m \u001b[0mself\u001b[0m\u001b[0;34m.\u001b[0m\u001b[0mbase_function\u001b[0m\u001b[0;34m(\u001b[0m\u001b[0msimulation\u001b[0m\u001b[0;34m,\u001b[0m \u001b[0mperiod\u001b[0m\u001b[0;34m)\u001b[0m\u001b[0;34m\u001b[0m\u001b[0m\n\u001b[0m\u001b[1;32m    499\u001b[0m         \u001b[0;32mexcept\u001b[0m\u001b[0;34m:\u001b[0m\u001b[0;34m\u001b[0m\u001b[0m\n\u001b[1;32m    500\u001b[0m             log.error(u'An error occurred while calling formula {}@{}<{}> in module {}'.format(\n",
        "\u001b[0;32m/home/openfisca/openfisca-core/openfisca_core/formulas.pyc\u001b[0m in \u001b[0;36mrequested_period_default_value\u001b[0;34m(formula, simulation, period)\u001b[0m\n\u001b[1;32m   1182\u001b[0m \u001b[0;32mdef\u001b[0m \u001b[0mrequested_period_default_value\u001b[0m\u001b[0;34m(\u001b[0m\u001b[0mformula\u001b[0m\u001b[0;34m,\u001b[0m \u001b[0msimulation\u001b[0m\u001b[0;34m,\u001b[0m \u001b[0mperiod\u001b[0m\u001b[0;34m)\u001b[0m\u001b[0;34m:\u001b[0m\u001b[0;34m\u001b[0m\u001b[0m\n\u001b[1;32m   1183\u001b[0m     \u001b[0;32mif\u001b[0m \u001b[0mformula\u001b[0m\u001b[0;34m.\u001b[0m\u001b[0mfunction\u001b[0m \u001b[0;32mis\u001b[0m \u001b[0;32mnot\u001b[0m \u001b[0mNone\u001b[0m\u001b[0;34m:\u001b[0m\u001b[0;34m\u001b[0m\u001b[0m\n\u001b[0;32m-> 1184\u001b[0;31m         \u001b[0;32mreturn\u001b[0m \u001b[0mformula\u001b[0m\u001b[0;34m.\u001b[0m\u001b[0mfunction\u001b[0m\u001b[0;34m(\u001b[0m\u001b[0msimulation\u001b[0m\u001b[0;34m,\u001b[0m \u001b[0mperiod\u001b[0m\u001b[0;34m)\u001b[0m\u001b[0;34m\u001b[0m\u001b[0m\n\u001b[0m\u001b[1;32m   1185\u001b[0m     \u001b[0mholder\u001b[0m \u001b[0;34m=\u001b[0m \u001b[0mformula\u001b[0m\u001b[0;34m.\u001b[0m\u001b[0mholder\u001b[0m\u001b[0;34m\u001b[0m\u001b[0m\n\u001b[1;32m   1186\u001b[0m     \u001b[0mcolumn\u001b[0m \u001b[0;34m=\u001b[0m \u001b[0mholder\u001b[0m\u001b[0;34m.\u001b[0m\u001b[0mcolumn\u001b[0m\u001b[0;34m\u001b[0m\u001b[0m\n",
        "\u001b[0;32m/home/openfisca/openfisca-france/openfisca_france/model/cotisations_sociales/travail_fonction_publique.pyc\u001b[0m in \u001b[0;36mfunction\u001b[0;34m(self, simulation, period)\u001b[0m\n\u001b[1;32m    212\u001b[0m         \u001b[0msalaire_de_base\u001b[0m \u001b[0;34m=\u001b[0m \u001b[0msimulation\u001b[0m\u001b[0;34m.\u001b[0m\u001b[0mcalculate\u001b[0m\u001b[0;34m(\u001b[0m\u001b[0;34m'salaire_de_base'\u001b[0m\u001b[0;34m,\u001b[0m \u001b[0mperiod\u001b[0m\u001b[0;34m)\u001b[0m\u001b[0;34m\u001b[0m\u001b[0m\n\u001b[1;32m    213\u001b[0m         \u001b[0mtype_sal\u001b[0m \u001b[0;34m=\u001b[0m \u001b[0msimulation\u001b[0m\u001b[0;34m.\u001b[0m\u001b[0mcalculate\u001b[0m\u001b[0;34m(\u001b[0m\u001b[0;34m'type_sal'\u001b[0m\u001b[0;34m,\u001b[0m \u001b[0mperiod\u001b[0m\u001b[0;34m)\u001b[0m\u001b[0;34m\u001b[0m\u001b[0m\n\u001b[0;32m--> 214\u001b[0;31m         \u001b[0mzone_apl_individu\u001b[0m \u001b[0;34m=\u001b[0m \u001b[0msimulation\u001b[0m\u001b[0;34m.\u001b[0m\u001b[0mcalculate\u001b[0m\u001b[0;34m(\u001b[0m\u001b[0;34m'zone_apl_individu'\u001b[0m\u001b[0;34m,\u001b[0m \u001b[0mperiod\u001b[0m\u001b[0;34m)\u001b[0m\u001b[0;34m\u001b[0m\u001b[0m\n\u001b[0m\u001b[1;32m    215\u001b[0m         \u001b[0m_P\u001b[0m \u001b[0;34m=\u001b[0m \u001b[0msimulation\u001b[0m\u001b[0;34m.\u001b[0m\u001b[0mlegislation_at\u001b[0m\u001b[0;34m(\u001b[0m\u001b[0mperiod\u001b[0m\u001b[0;34m.\u001b[0m\u001b[0mstart\u001b[0m\u001b[0;34m)\u001b[0m\u001b[0;34m\u001b[0m\u001b[0m\n\u001b[1;32m    216\u001b[0m \u001b[0;34m\u001b[0m\u001b[0m\n",
        "\u001b[0;32m/home/openfisca/openfisca-core/openfisca_core/simulations.pyc\u001b[0m in \u001b[0;36mcalculate\u001b[0;34m(self, column_name, period, accept_other_period, requested_formulas_by_period)\u001b[0m\n\u001b[1;32m     89\u001b[0m             \u001b[0mperiod\u001b[0m \u001b[0;34m=\u001b[0m \u001b[0mself\u001b[0m\u001b[0;34m.\u001b[0m\u001b[0mperiod\u001b[0m\u001b[0;34m\u001b[0m\u001b[0m\n\u001b[1;32m     90\u001b[0m         return self.compute(column_name, period = period, accept_other_period = accept_other_period,\n\u001b[0;32m---> 91\u001b[0;31m             requested_formulas_by_period = requested_formulas_by_period).array\n\u001b[0m\u001b[1;32m     92\u001b[0m \u001b[0;34m\u001b[0m\u001b[0m\n\u001b[1;32m     93\u001b[0m     \u001b[0;32mdef\u001b[0m \u001b[0mcalculate_add\u001b[0m\u001b[0;34m(\u001b[0m\u001b[0mself\u001b[0m\u001b[0;34m,\u001b[0m \u001b[0mcolumn_name\u001b[0m\u001b[0;34m,\u001b[0m \u001b[0mperiod\u001b[0m \u001b[0;34m=\u001b[0m \u001b[0mNone\u001b[0m\u001b[0;34m,\u001b[0m \u001b[0mrequested_formulas_by_period\u001b[0m \u001b[0;34m=\u001b[0m \u001b[0mNone\u001b[0m\u001b[0;34m)\u001b[0m\u001b[0;34m:\u001b[0m\u001b[0;34m\u001b[0m\u001b[0m\n",
        "\u001b[0;32m/home/openfisca/openfisca-core/openfisca_core/simulations.pyc\u001b[0m in \u001b[0;36mcompute\u001b[0;34m(self, column_name, period, accept_other_period, requested_formulas_by_period)\u001b[0m\n\u001b[1;32m    160\u001b[0m                 \u001b[0mcaller_input_variables_infos\u001b[0m\u001b[0;34m.\u001b[0m\u001b[0mappend\u001b[0m\u001b[0;34m(\u001b[0m\u001b[0mvariable_infos\u001b[0m\u001b[0;34m)\u001b[0m\u001b[0;34m\u001b[0m\u001b[0m\n\u001b[1;32m    161\u001b[0m         return self.entity_by_column_name[column_name].compute(column_name, period = period,\n\u001b[0;32m--> 162\u001b[0;31m             accept_other_period = accept_other_period, requested_formulas_by_period = requested_formulas_by_period)\n\u001b[0m\u001b[1;32m    163\u001b[0m \u001b[0;34m\u001b[0m\u001b[0m\n\u001b[1;32m    164\u001b[0m     \u001b[0;32mdef\u001b[0m \u001b[0mcompute_add\u001b[0m\u001b[0;34m(\u001b[0m\u001b[0mself\u001b[0m\u001b[0;34m,\u001b[0m \u001b[0mcolumn_name\u001b[0m\u001b[0;34m,\u001b[0m \u001b[0mperiod\u001b[0m \u001b[0;34m=\u001b[0m \u001b[0mNone\u001b[0m\u001b[0;34m,\u001b[0m \u001b[0mrequested_formulas_by_period\u001b[0m \u001b[0;34m=\u001b[0m \u001b[0mNone\u001b[0m\u001b[0;34m)\u001b[0m\u001b[0;34m:\u001b[0m\u001b[0;34m\u001b[0m\u001b[0m\n",
        "\u001b[0;32m/home/openfisca/openfisca-core/openfisca_core/entities.pyc\u001b[0m in \u001b[0;36mcompute\u001b[0;34m(self, column_name, period, accept_other_period, requested_formulas_by_period)\u001b[0m\n\u001b[1;32m     73\u001b[0m     \u001b[0;32mdef\u001b[0m \u001b[0mcompute\u001b[0m\u001b[0;34m(\u001b[0m\u001b[0mself\u001b[0m\u001b[0;34m,\u001b[0m \u001b[0mcolumn_name\u001b[0m\u001b[0;34m,\u001b[0m \u001b[0mperiod\u001b[0m \u001b[0;34m=\u001b[0m \u001b[0mNone\u001b[0m\u001b[0;34m,\u001b[0m \u001b[0maccept_other_period\u001b[0m \u001b[0;34m=\u001b[0m \u001b[0mFalse\u001b[0m\u001b[0;34m,\u001b[0m \u001b[0mrequested_formulas_by_period\u001b[0m \u001b[0;34m=\u001b[0m \u001b[0mNone\u001b[0m\u001b[0;34m)\u001b[0m\u001b[0;34m:\u001b[0m\u001b[0;34m\u001b[0m\u001b[0m\n\u001b[1;32m     74\u001b[0m         return self.get_or_new_holder(column_name).compute(period = period, accept_other_period = accept_other_period,\n\u001b[0;32m---> 75\u001b[0;31m             requested_formulas_by_period = requested_formulas_by_period)\n\u001b[0m\u001b[1;32m     76\u001b[0m \u001b[0;34m\u001b[0m\u001b[0m\n\u001b[1;32m     77\u001b[0m     \u001b[0;32mdef\u001b[0m \u001b[0mcompute_add\u001b[0m\u001b[0;34m(\u001b[0m\u001b[0mself\u001b[0m\u001b[0;34m,\u001b[0m \u001b[0mcolumn_name\u001b[0m\u001b[0;34m,\u001b[0m \u001b[0mperiod\u001b[0m \u001b[0;34m=\u001b[0m \u001b[0mNone\u001b[0m\u001b[0;34m,\u001b[0m \u001b[0mrequested_formulas_by_period\u001b[0m \u001b[0;34m=\u001b[0m \u001b[0mNone\u001b[0m\u001b[0;34m)\u001b[0m\u001b[0;34m:\u001b[0m\u001b[0;34m\u001b[0m\u001b[0m\n",
        "\u001b[0;32m/home/openfisca/openfisca-core/openfisca_core/holders.pyc\u001b[0m in \u001b[0;36mcompute\u001b[0;34m(self, period, accept_other_period, requested_formulas_by_period)\u001b[0m\n\u001b[1;32m    157\u001b[0m                 \u001b[0;32mand\u001b[0m \u001b[0;34m(\u001b[0m\u001b[0mcolumn_stop_instant\u001b[0m \u001b[0;32mis\u001b[0m \u001b[0mNone\u001b[0m \u001b[0;32mor\u001b[0m \u001b[0mperiod\u001b[0m\u001b[0;34m.\u001b[0m\u001b[0mstart\u001b[0m \u001b[0;34m<=\u001b[0m \u001b[0mcolumn_stop_instant\u001b[0m\u001b[0;34m)\u001b[0m\u001b[0;34m:\u001b[0m\u001b[0;34m\u001b[0m\u001b[0m\n\u001b[1;32m    158\u001b[0m             formula_dated_holder = self.formula.compute(period = period,\n\u001b[0;32m--> 159\u001b[0;31m                 requested_formulas_by_period = requested_formulas_by_period)\n\u001b[0m\u001b[1;32m    160\u001b[0m             \u001b[0;32massert\u001b[0m \u001b[0mformula_dated_holder\u001b[0m \u001b[0;32mis\u001b[0m \u001b[0;32mnot\u001b[0m \u001b[0mNone\u001b[0m\u001b[0;34m\u001b[0m\u001b[0m\n\u001b[1;32m    161\u001b[0m             \u001b[0;32mif\u001b[0m \u001b[0;32mnot\u001b[0m \u001b[0mcolumn\u001b[0m\u001b[0;34m.\u001b[0m\u001b[0mis_permanent\u001b[0m\u001b[0;34m:\u001b[0m\u001b[0;34m\u001b[0m\u001b[0m\n",
        "\u001b[0;32m/home/openfisca/openfisca-core/openfisca_core/formulas.pyc\u001b[0m in \u001b[0;36mcompute\u001b[0;34m(self, period, requested_formulas_by_period)\u001b[0m\n\u001b[1;32m    112\u001b[0m         \u001b[0moutput_period\u001b[0m \u001b[0;34m=\u001b[0m \u001b[0mvariable_dated_holder\u001b[0m\u001b[0;34m.\u001b[0m\u001b[0mperiod\u001b[0m\u001b[0;34m\u001b[0m\u001b[0m\n\u001b[1;32m    113\u001b[0m \u001b[0;34m\u001b[0m\u001b[0m\n\u001b[0;32m--> 114\u001b[0;31m         \u001b[0marray\u001b[0m \u001b[0;34m=\u001b[0m \u001b[0mself\u001b[0m\u001b[0;34m.\u001b[0m\u001b[0mtransform\u001b[0m\u001b[0;34m(\u001b[0m\u001b[0mvariable_dated_holder\u001b[0m\u001b[0;34m,\u001b[0m \u001b[0mroles\u001b[0m \u001b[0;34m=\u001b[0m \u001b[0mself\u001b[0m\u001b[0;34m.\u001b[0m\u001b[0mroles\u001b[0m\u001b[0;34m)\u001b[0m\u001b[0;34m\u001b[0m\u001b[0m\n\u001b[0m\u001b[1;32m    115\u001b[0m         \u001b[0;32mif\u001b[0m \u001b[0marray\u001b[0m\u001b[0;34m.\u001b[0m\u001b[0mdtype\u001b[0m \u001b[0;34m!=\u001b[0m \u001b[0mcolumn\u001b[0m\u001b[0;34m.\u001b[0m\u001b[0mdtype\u001b[0m\u001b[0;34m:\u001b[0m\u001b[0;34m\u001b[0m\u001b[0m\n\u001b[1;32m    116\u001b[0m             \u001b[0marray\u001b[0m \u001b[0;34m=\u001b[0m \u001b[0marray\u001b[0m\u001b[0;34m.\u001b[0m\u001b[0mastype\u001b[0m\u001b[0;34m(\u001b[0m\u001b[0mcolumn\u001b[0m\u001b[0;34m.\u001b[0m\u001b[0mdtype\u001b[0m\u001b[0;34m)\u001b[0m\u001b[0;34m\u001b[0m\u001b[0m\n",
        "\u001b[0;32m/home/openfisca/openfisca-core/openfisca_core/formulas.pyc\u001b[0m in \u001b[0;36mtransform\u001b[0;34m(self, dated_holder, roles)\u001b[0m\n\u001b[1;32m    312\u001b[0m             \u001b[0mboolean_filter\u001b[0m \u001b[0;34m=\u001b[0m \u001b[0mpersons\u001b[0m\u001b[0;34m.\u001b[0m\u001b[0mholder_by_name\u001b[0m\u001b[0;34m[\u001b[0m\u001b[0mentity\u001b[0m\u001b[0;34m.\u001b[0m\u001b[0mrole_for_person_variable_name\u001b[0m\u001b[0;34m]\u001b[0m\u001b[0;34m.\u001b[0m\u001b[0marray\u001b[0m \u001b[0;34m==\u001b[0m \u001b[0mrole\u001b[0m\u001b[0;34m\u001b[0m\u001b[0m\n\u001b[1;32m    313\u001b[0m             \u001b[0;32mtry\u001b[0m\u001b[0;34m:\u001b[0m\u001b[0;34m\u001b[0m\u001b[0m\n\u001b[0;32m--> 314\u001b[0;31m                 \u001b[0mtarget_array\u001b[0m\u001b[0;34m[\u001b[0m\u001b[0mboolean_filter\u001b[0m\u001b[0;34m]\u001b[0m \u001b[0;34m=\u001b[0m \u001b[0marray\u001b[0m\u001b[0;34m[\u001b[0m\u001b[0mentity_index_array\u001b[0m\u001b[0;34m[\u001b[0m\u001b[0mboolean_filter\u001b[0m\u001b[0;34m]\u001b[0m\u001b[0;34m]\u001b[0m\u001b[0;34m\u001b[0m\u001b[0m\n\u001b[0m\u001b[1;32m    315\u001b[0m             \u001b[0;32mexcept\u001b[0m\u001b[0;34m:\u001b[0m\u001b[0;34m\u001b[0m\u001b[0m\n\u001b[1;32m    316\u001b[0m                 log.error(u'An error occurred while transforming array for role {}[{}] in function {}'.format(\n",
        "\u001b[0;31mIndexError\u001b[0m: index -458705240 is out of bounds for size 2"
       ]
      }
     ],
     "prompt_number": 100
    },
    {
     "cell_type": "heading",
     "level": 2,
     "metadata": {},
     "source": [
      "5.4. Etudier la diff\u00e9rence de gain entre APL et ratachement fiscal : APL ou rattachement fiscal ? (Actualit\u00e9 2015)\n",
      "\n"
     ]
    },
    {
     "cell_type": "markdown",
     "metadata": {},
     "source": [
      "D'apr\u00e8s l'article des Echos du 30 janvier 2015, le rapport remis \u00e0 Penel pr\u00e9voit la mise en place d'un choix binaire pour les \u00e9tudiants boursieurs : soit ils toucheront les APL ('alset') et ils devront alors se d\u00e9tacher du foyer fiscal de leur parents, soit ils d\u00e9cident de rester attacher au foyer fiscal de leur parents mais alors ils ne peuvent pas recevoir les 'alset'. Etudier les gains selon ces deux choix serait int\u00e9ressant afin de savoir ce qui est le plus profitable en terms d'avantage fiscal ou de minima sociaux pour les familles peu ais\u00e9es.\n",
      "\n",
      "D'ailleurs, comment nous l'avons vu dans la section 2 (couple avec salaire_de_base de 19 380 \u20ac), le rattachement fiscal est le plus b\u00e9n\u00e9fique pour les familles \u00e0 bas revenus. D\u00e8s lors, il conviendrait de calculer la diff\u00e9rence de gain entre le montant des alset et le gain en irpp pour cette famille. \n",
      "\n",
      "Et si le gain au rattachement fiscal est plus \u00e9lev\u00e9 pour les hauts revenus que les bas revenus alors ce choix in\u00e9galitaire en termes de gains ne serait pas juste selon Rawls (Th\u00e9roie de la justice, 1971). En effet, d'apr\u00e8s son principe de diff\u00e9rence, les in\u00e9galit\u00e9s ne pevuent \u00eatre tol\u00e9r\u00e9es que si elles profitent aux plus d\u00e9munis. \n",
      "\n",
      "Or, d\u00e9j\u00e0 que sans ce choix entre APL et d\u00e9tachement fiscal, le gain au rattacheemnt fiscal semble plus b\u00e9n\u00e9fique pour les hauts revenus que pour les bas revenus (en termes de d'imp\u00f4ts \u00e9conomis\u00e9s), ce choix accentuerait l'injustice de cette situation en privant les bas revenus d'un montant d'APL pour leur \u00e9tudiant qu'ils ne pourraient pas forc\u00e9ment compenser par un m\u00eame montant en pension si cette perte d'APL n'est pas au moins \u00e9gale au montant du gain li\u00e9 au rattachement fiscal."
     ]
    },
    {
     "cell_type": "heading",
     "level": 1,
     "metadata": {},
     "source": [
      "6. Bilan programmation"
     ]
    },
    {
     "cell_type": "heading",
     "level": 2,
     "metadata": {},
     "source": [
      "6.1. Comp\u00e9tences acquises avec Python"
     ]
    },
    {
     "cell_type": "markdown",
     "metadata": {},
     "source": [
      "Gr\u00e2ce aux cours, aux \u00e9changes par email et \u00e0 mes recherches personnelles, j'ai pu apprendre : \n",
      "\n",
      "* \u00e0 faire des listes, dictionnaires, dictionnaires imbriqu\u00e9s, etc.\n",
      "* \u00e0 construire des test_cases, sc\u00e9narios, comprendre la structure de test_cases plus compliqu\u00e9s\n",
      "* utiliser des boucles \"while\" et \"for\", des boucles \"for\" imbriqu\u00e9es\n",
      "* cr\u00e9er des tuples\n",
      "* dessiner des graphiques, mettre des titres aux graphs, des titres par axes, incorporer des boucles, tracer plusieurs courbes sur un m\u00eame graphique\n",
      "* D\u00e9couvrir Panda, dessiner des tableaux simples et chercher \u00e0 en repr\u00e9senter des plus compliqu\u00e9s avec des boucles\n",
      "* comprendre la fonction id() qui est diff\u00e9rente de \"id:\"\n",
      "* indentation\n",
      "* fusion de listes par la sommation\n",
      "* r\u00e9soudre de mani\u00e8re plus m\u00e9thodique des probl\u00e8mes de codage en demandant de l'aide par email et en cherchant sur des forums et dans le manuel\n",
      "* tracer une feuille de route avant de me lancer dans la programmation\n",
      "* utiliser les ressources sur Openfisca pour le choix de variables\n"
     ]
    },
    {
     "cell_type": "heading",
     "level": 2,
     "metadata": {},
     "source": [
      "6.2. Journal de bord de programmation"
     ]
    },
    {
     "cell_type": "markdown",
     "metadata": {},
     "source": [
      "Tout au long de mon projet j\u2019ai tenu un journal de bord de programmation. Ceci m\u2019a aid\u00e9 \u00e0 r\u00e9soudre plus m\u00e9thodiquement mes difficult\u00e9s en y gardant une trace et de mieux d\u00e9cider de ce que je voulais faire avant de me lancer dans la programmation. J\u2019ai ainsi pu observer l\u2019avancement de mon projet jusqu'\u00e0 son terme."
     ]
    },
    {
     "cell_type": "markdown",
     "metadata": {},
     "source": [
      "    * 12 f\u00e9vrier 2015\n",
      "    * 15 f\u00e9vrier 2015\n",
      "    * 16 f\u00e9vrier 2015\n",
      "    * 20 f\u00e9vrier 2015\n",
      "    * 21 f\u00e9vrier 2015\n",
      "    * 22 f\u00e9vrier 2015\n",
      "    * 23 f\u00e9vrier 2015\n",
      "    * 24 f\u00e9vrier 2015\n",
      "    * 25 f\u00e9vrier 2015      \n",
      "    * 26 f\u00e9vrier 2015\n",
      "    * 27 f\u00e9vrier 2015\n",
      "    * 1  mars 2015\n",
      "    * 2  mars 2015\n",
      "    * 3  mars 2015\n",
      "    * 4  mars 2015\n",
      "    * 5  mars 2015\n",
      "    * 7  mars 2015\n",
      "    * 9  mars 2015\n",
      "    * 10  mars 2015\n",
      "    * 11 mars 2015"
     ]
    },
    {
     "cell_type": "heading",
     "level": 3,
     "metadata": {},
     "source": [
      "12 f\u00e9vrier 2015"
     ]
    },
    {
     "cell_type": "markdown",
     "metadata": {},
     "source": [
      "* D\u00e9fintion de mon projet \n",
      "    * m\u00e9thodologie \u00e0 appliquer\n",
      "    * r\u00e9sultats escompt\u00e9s, etc. \n",
      "    * Discussion avec Adrien\n",
      "    * envoyer fichier pdf au professeur\n",
      "* Exercice gain marginal\n",
      "    * D\u00e9f  objectif : construire un dictionnaire avec les gains par ann\u00e9e et par enfant en utilisant une boucle \u00ab for \u00bb pour les quatre ann\u00e9es : for year in range (2010-2015). \n",
      "    * D\u00e9f trois dictionnaires :  \n",
      "        * gain_by_year_margin_0_1 \n",
      "        * gain_by_year_margin_0_2\n",
      "        * gain_by_year_margin_0_3\n",
      "* Remarques sur OpenFisca\n",
      "    * peut-\u00eatre deux erreurs : pour \u00ab alleg_fillon \u00bb et \u00ab cotpat \u00bb quand je clique sur \u00ab inspecter \u00bb, je tombe sur une erreur du type : \u00ab Page \u00ab alleg_fillon \u00bb non trouv\u00e9e \u00bb de m\u00eame pour \u00ab cotpat \u00bb.  http://www.openfisca.fr/outils/variables/alleg_fillon et http://www.openfisca.fr/outils/variables/cotpat \n",
      "    * Id\u00e9e d'am\u00e9lioration pour OpenFisca : est-ce possible de visualiser le montant exact des prestations sociales avec le graphique en affichage cascade ? \n",
      "* R\u00e9ponses d'Adrien et Madhi : \n",
      "    * peut-\u00eatre qu'effectivement il y a un probl\u00e8me pour ces deux variables. \n",
      "    * Ok pour les projets. En traiter un seul \u00e0 fond ? OK.\n",
      "    * j'ai r\u00e9ussi l'exercice. Yesss !!"
     ]
    },
    {
     "cell_type": "heading",
     "level": 3,
     "metadata": {},
     "source": [
      "15 f\u00e9vrier 2015"
     ]
    },
    {
     "cell_type": "markdown",
     "metadata": {},
     "source": [
      "* Exercice suppl\u00e9mentaire avec boucles for imbriqu\u00e9es : r\u00e9ussi. Super !!"
     ]
    },
    {
     "cell_type": "heading",
     "level": 3,
     "metadata": {},
     "source": [
      "16 f\u00e9vrier 2015"
     ]
    },
    {
     "cell_type": "markdown",
     "metadata": {},
     "source": [
      "* Ordre du jour : \n",
      "    * m\u00e9thodologie pour le projet \n",
      "    * quelle situation maximise le gain au d\u00e9tachement fiscal ? \n",
      "    * Quel est l\u2019impact sur les APL si l\u2019enfant se d\u00e9tache du foyer fiscal et quitte le m\u00e9nage familial ? Ou bien, s\u2019il y reste ?\n",
      "* Is there fiscal gain to be declared in couple ?\n",
      "    * Mon objectif : Finding the household situation which maximizes the fiscal gain.   \n",
      "    * M\u00e9thode de r\u00e9solution : programmation et discussion de justice sociale\n",
      "    * Programmation\n",
      "        * 1/ I observe an entity A : an adult with high wages. For instance, 200000. I observe her main characteristics : Income tax, deductible CSG\n",
      "        * 2/ I observe an entity B : an adult with low wages. For instance, 20000. I observe her main characteristics : Income tax, deductible CSG, Social aids, housing help.\n",
      "        * 3/ I declare in couple A and A\u2019 (same caracteristics as A). I observe their caracteristics in couple and compare them with their single situation. From this, I want to know whether there is a gain or a loss when A and A\u2019 declare to be in couple.\n",
      "        * 4/ I declare in couple B and B\u2019 (same caracteristics as B).  I observe their caracteristics in couple and compare them with their single situation. From this, I want to know whether there is a gain or a loss when B and B\u2019 declare to be in couple.\n",
      "        * 5/ I declare in couple A and B. I observe their caracteristics in couple and compare them with their single situation. From this, I want to know whether there is a gain or a loss when A and B declare to be in couple. I compare this situation with 1/, 2/, 3/ and 4/.\n",
      "        * 6/ Conclusion : Which situation is efficient ? \n",
      "* What does it happen if the child remains in the  tax household? What are the eventual effects on APL ?\n",
      "    * Objective : Finding where there is a gain in terms of social help or not to declare the child out of the tax household.\n",
      "    * Methodology\n",
      "        * 1/ Creation of entity A : one tax household, one family and two households. For instance, wages : 200000. I observe her main characteristics : Income tax, deductible CSG, APL (taking into account nuances of APL : student receive less APL, in Zone 1 people receive the most, APL depends on incomes) \n",
      "        * 2/ Creation of entity B : two tax household, one family, two households. Same, wages : 200000. I observe her main characteristics : Income tax, deductible CSG, APL (taking into account nuances of APL : student receive less APL, in Zone 1 people receive the most, APL depends on incomes) \n",
      "        * 3/ I make a difference between A and B and I provide a first conclusion.\n",
      "        * 4/ Computations : \n",
      "            * a) F(Revenu / part fiscale) * part fiscale + APL avec F : Fonction imp\u00f4t revenu\n",
      "            * b) F(Revenu / PF - 0,5) * (PF - 0,5) -  + APL \n",
      "        * Conclusion : Which situation is efficient ? "
     ]
    },
    {
     "cell_type": "heading",
     "level": 3,
     "metadata": {},
     "source": [
      "20 f\u00e9vrier 2015"
     ]
    },
    {
     "cell_type": "markdown",
     "metadata": {},
     "source": [
      "* J\u2019ai avanc\u00e9 mon projet : j\u2019ai fini d\u2019\u00e9crire le sc\u00e9nario 1 (trois individus, un m\u00e9nage, un foyer fiscal). Je suis actuellement entrain d\u2019\u00e9crire le sc\u00e9nario 2 (trois individus, un m\u00e9nage, deux foyers). \n",
      "\n",
      "* Probl\u00e8mes de syntaxe quand j\u2019ai voulu ins\u00e9rer mes deux foyers fiscaux dans mon test case. \n",
      "\n",
      "* Solution envisag\u00e9e : d\u00e9finition d\u2019une liste comprenant  mes deux foyers fiscaux puis insertion de cette liste. \n",
      "    * Quand j\u2019ai fait tourner la cellule test case, ca a march\u00e9. \n",
      "    * Mais maintenant, je suis face \u00e0 ce probl\u00e8me, cellule 260 :  \u00ab 'list' object has no attribute \u2018itervalues\u2019 \u00bb . J\u2019ai d\u2019abord lu l\u2019erreur, et je crois qu\u2019elle vient toujours de ma mani\u00e8re d\u2019ins\u00e9rer de mes deux foyers fiscaux. A voir."
     ]
    },
    {
     "cell_type": "heading",
     "level": 3,
     "metadata": {},
     "source": [
      "21 f\u00e9vrier 2015"
     ]
    },
    {
     "cell_type": "markdown",
     "metadata": {},
     "source": [
      "* Probl\u00e8me inattendu : : \u00ab  string indices must be integers, not unicode \u00bb\n",
      "* Solutions envisag\u00e9es : \n",
      "    * r\u00e9\u00e9criture du premier sc\u00e9nario (sans succ\u00e8s)\n",
      "    * recherche sur internet (des blogs python, sans succ\u00e8s)\n",
      "    * recharger ma page (ca a lev\u00e9 l\u2019erreur deux fois)\n",
      "    * restart le kernel  (sans succ\u00e8s)\n",
      "    * recherche d\u2019erreurs sur la syntaxe (je n\u2019y ai vu aucune erreur)\n",
      "    * par contre, quand je supprime la cellule \u00ab  simulation = scenario.new_simulation() \u00bb, il n\u2019y a plus de probl\u00e8mes\u2026et apparement cela ne m\u2019emp\u00eache pas  de faire \u00ab  simulation.calculate(variable) \u00bb ensuite. "
     ]
    },
    {
     "cell_type": "heading",
     "level": 3,
     "metadata": {},
     "source": [
      "22 f\u00e9vrier 2015"
     ]
    },
    {
     "cell_type": "markdown",
     "metadata": {},
     "source": [
      "* Recherche la structure du test case compliqu\u00e9 et am\u00e9lioration\n",
      "* Recherche sur la cl\u00e9 \"id\" et la foction python \"id()\" : rien \u00e0 voir."
     ]
    },
    {
     "cell_type": "heading",
     "level": 3,
     "metadata": {},
     "source": [
      "23 f\u00e9vrier 2015"
     ]
    },
    {
     "cell_type": "markdown",
     "metadata": {},
     "source": [
      "* Matin : Nouvelles recherches sur le test_case compliqu\u00e9 : forums et manuel python pendant des heures...sans fin ??\n",
      "* Apr\u00e8s-midi : utilisation des dictionnaires imbriqu\u00e9s pour ce test_case\n",
      "    * Probl\u00e8me string / integers. \n",
      "    * Origine du probl\u00e8me:  ma construction des listes et dico imbriqu\u00e9es => \u00e0 revoir !!! help.\n",
      "    * R\u00e9ponse jour-ji d'Emmnuel : somme de liste. Ouf, merci !!"
     ]
    },
    {
     "cell_type": "heading",
     "level": 3,
     "metadata": {},
     "source": [
      "24 f\u00e9vrier 2015"
     ]
    },
    {
     "cell_type": "markdown",
     "metadata": {},
     "source": [
      "* Am\u00e9liorations\n",
      "    * 1/ incorporation d\u2019une petite introduction pr\u00e9sentant mes variables et les cas que je vais \u00e9tudier\n",
      "    * 2/ \u00e9tude d\u2019un nouveau cas : l\u2019enfant quitte la maison familiale pour aller \u00e9tudier mais reste rattach\u00e9 au foyer fiscal de ses parents (donc   quatre cas pour l\u2019instant \u00e0 \u00e9tudier)\n",
      "    * 3/ modification des titres pour les rendre plus clair\n",
      "    * 4/ recherche d\u2019\u00e9conomie des lignes de code\n",
      "    * 5/ fusion des variables \u00ab foyers_fiscaux_par \u00bb , \u00ab foyers_fiscaux_enf \u00bb  dans une nouvelle variable \u00ab foyers_fiscaux_div\u00bb  comme pour \u00ab menages_div \u00bb avant les test_case. \n",
      "* Probl\u00e8me matin : unhashable type: \u2018list\u2019 lorsque j\u2019incorpore la fusion des m\u00e9nages dans mon test_case selon la m\u00e9thode que j\u2019ai comprise (id sp\u00e9cifique pour chaque m\u00e9nage et usage du \u00ab + \u00bb  comme pour foyers_fiscaux).\n",
      "* Origine du probl\u00e8me : je crois  qu\u2019il y a un probl\u00e8me  de reconnaissance des caract\u00e8res compris dans les dico menages_par et menages_enf mais je ne sais pas pourquoi car pas de probl\u00e8mes avec foyers_fiscaux pourtant.\n",
      "* Solution ? Apr\u00e8s midi, Madhi : ne pas mettre \"conjoint\" quand il n'y en a pas. Youpi !\n",
      "\n",
      "* Probl\u00e8me : le montant du revdisp ni d\u2019aucune variable ne change selon les cas \n",
      "* Solutions envisag\u00e9es : \n",
      "\t* changement de l\u2019\u00e2ge de naissance \n",
      "\t\t* inf\u00e9rieur ou sup\u00e9rieur \u00e0 21 ans car li\u00e9 au droit de se d\u00e9tacher du foyer fiscal\n",
      "\t\t* inf\u00e9rieur ou sup\u00e9rieur \u00e0 18 ans (majorit\u00e9, li\u00e9 aux APL, ALS, ALF, ALSET ?)\n",
      "\t* changement du salaire \n",
      "\t\t* ind1 = 100 000 et ind0 = 23 000\n",
      "\t\t* ind2 = 20 000 (l\u2019enfant gagne un petit salaire \u00e9tudiant)\n",
      "\t\t* ind0, ind1, ind2 = 23000\n",
      "\t* solutions envisag\u00e9es dans mes deux types d\u2019\u00e9criture du projet : \u00e9conomique ou non\n",
      "\t* remarque : probl\u00e8me sur la variable \u2018alset\u2019 : le programme ne la reconnait pas. Normal ?\n",
      "* Conclusion : aucune de ces solutions envisag\u00e9es n\u2019a r\u00e9solu le probl\u00e8me\n",
      "\n",
      "* Methodologie \n",
      "    * La programmation sur python est l\u2019architecture de mon projet : quel projet utiliser ? projet-revu ou projet ? (l\u2019\u00e9conomie de lignes de codes a t-il un impact sur mes r\u00e9sultats ? si non, alors j\u2019opte pour projet-revu)\n",
      "    * Ensuite, recherche des variables \u00e0 \u00e9tudier\n",
      "    * Etudier la notion de foyer fiscal et des aides au logement\n",
      "    * \u00ab\u00a0jouer\u00a0\u00bb avec les variables pour voir ce qui change en termes de gain fiscal : \u00e2ge, revenu, job \u00e9tudiant ou non\n",
      "\n",
      "* Repr\u00e9sentation graphique\n",
      "    * Comment repr\u00e9senter mes variables pour chacun de mes cas ? Pour l\u2019instant, ci-dessous \u00e7a ne fonctionne pas fig = plt.figure() plt.plot(variables)  # je cherche \u00e0 repr\u00e9senter toutes les variables contenues dans la liste variables = ['sal','revdisp', 'impo', 'irpp', 'als']\n",
      "    * Id\u00e9e : calculer chacune d\u2019entre elles pour transformer les string en float. \n",
      "    salaire_imposable = simulation.calculate('sal')\n",
      "    fig = plt.figure()\n",
      "    plt.plot(salaire_imposable, revdisp1 - revdisp0, label = \"1er enfant\")\n",
      "    plt.plot(salaire_imposable, revdisp2 - revdisp1, label = \"2e enfant\")\n",
      "    plt.plot(salaire_imposable, revdisp3 - revdisp2, label = \"3e enfant\")\n",
      "    plt.legend(loc = 4, shadow=True, fancybox=True)\n",
      "    * Le dernier probl\u00e8me face auquel je suis pour les graphiques (14h06) :\n",
      "    als = simulation_2m_f_2ff.calculate('als')\n",
      "    simulation_2m_f_2ff.calculate('als')\n",
      "    salaire_imposable = simulation_2m_f_2ff.calculate('sal')\n",
      "    simulation_2m_f_2ff.calculate('sal')\n",
      "    fig = plt.figure()\n",
      "    plt.plot(salaire_imposable, label =\"montant als en fonction du salaire_imposable\")  \n",
      "    plt.legend(loc = 4, shadow=True, fancybox=True)\n",
      "    d\u00e8s que je mets als, j'obtiens une erreur du type x et y dovient aller dans la m\u00eame dimension\n",
      "    plt.plot(als)\n"
     ]
    },
    {
     "cell_type": "heading",
     "level": 3,
     "metadata": {},
     "source": [
      "25 f\u00e9vrier 2015"
     ]
    },
    {
     "cell_type": "markdown",
     "metadata": {},
     "source": [
      "* Matin, Probl\u00e8me 1 : Dans mes quatre cas \u00e9tudi\u00e9s, le montant d\u2019aucune variables calcul\u00e9es ne changent : variables = ['sal','revdisp', 'impo', 'irpp', 'als']\n",
      "* Origine : J\u2019ai pens\u00e9 que ce n\u2019\u00e9tait pas normal du coup j\u2019ai essay\u00e9 de corriger cela en changeant les salaires mais m\u00eame en mettant un salaire \u00e0 100 000 pour ind0, j\u2019obtiens \u00ab sal =0 \u00bb et \u00ab  impo = 0 \u00bb. (cf cas 1). \n",
      "\n",
      "\n",
      "* Matin, Probl\u00e8me 2 : Et quand je veux incorporer la variable \u00ab alset \u00bb dans ma liste \u00ab variables \u00bb j\u2019ai un probl\u00e8me qui s\u2019affiche. (cf cas 4)\n",
      "\n",
      "* Apr\u00e8s-midi, Solutions: pour probl\u00e8me 1, aide d'Adrien : \"Les p\u00e9riodes ont un petit peu chang\u00e9 dans Openfisca.  Regarde le projet d'edward 75% benjelloul pour avoir un exemple\".\n",
      "\n",
      "* Probl\u00e8me 3 : j'ai essay\u00e9 de verser une \"pension\" afin de voir si on y gagne ou pas mais cela n'a aucun effet. la variable de la pension fonctionne t-elle ou bien comme 'alset' ?\n",
      "\n",
      "* Id\u00e9es de cas : pour ind0 = 100 000, ind1 = 23 000, ind2 = 0 en 2013 et 2014\n",
      "    * cas 1 : impo = 30 347 \u20ac\n",
      "    * cas 2 : impo = 31855 \u20ac \n",
      "    * cas 3 : impo = 30 347 \u20ac \n",
      "    * cas 4 : impo = 31855 \u20ac"
     ]
    },
    {
     "cell_type": "heading",
     "level": 3,
     "metadata": {},
     "source": [
      "26 f\u00e9vrier 2015"
     ]
    },
    {
     "cell_type": "markdown",
     "metadata": {},
     "source": [
      "* Synth\u00e9tiser l\u2019\u00e9criture de mon projet \n",
      "* Probl\u00e8me 1 : repr\u00e9sentation des graphiques mais aucun graph ne s\u2019affiche. \n",
      "* Solution envisag\u00e9e : import numpy as np et de rajouter plt.show() dans la cellule de mon graph (une solution que j\u2019ai trouv\u00e9 sur http://www.courspython.com/introduction-courbes.html#) mais ca n\u2019a rien donn\u00e9. \n",
      "\n",
      "* Probl\u00e8me 2 : toujours 'alset'. Je voudrais voir si le d\u00e9tachement fiscal a un impact sur le montant des alloc \u00e9tudiantes.\n",
      "\n",
      "* Solutin probl\u00e8me 1 par Madhi le soir  : \" Il faut mettre un u pour unicode devant les u\"cha\u00eenes de caract\u00e8res contenant des accents et autres caract\u00e8res sp\u00e9ciaux\"\".\n",
      "\n",
      "* Je vais \u00e9tudier deux types d\u2019individus : \n",
      "    * bas revenus : salaire brut annuel = 20000\u20ac \n",
      "    * haut revenus : salaire brut annuel = 100000\u20ac\n",
      "* Et pour chacun de ces types, je vais \u00e9tudier 4 cas : \n",
      "    * Cas 1 : Scenario_m_ff : les parents (\u2018ind0\u2019 et \u2018ind1\u2019) et l\u2019enfant (\u2018ind2\u2019) forment un m\u00e9nage (\u2018_m\u2019) et un foyer fiscal (\u2018_ff\u2019)\n",
      "    * Cas 2 : Scenario_m_2ff : l\u2019enfant quitte le foyer fiscal mais reste toujours dans le m\u00e9nage familial.\n",
      "    * Cas 3 : Scenario_2m_ff : l\u2019enfant quitte le m\u00e9nage mais reste rattacher au foyer fiscal de ses parents. \n",
      "    * Cas 4 : Scenario_2m_2ff : l\u2019enfant quitte le m\u00e9nage et le foyer fiscal de ses parents. \n",
      "* Dans tous les cas, la famille restera uni et ne sera compos\u00e9 que de trois individus : 'ind0', 'ind1', et 'ind2', l'enfant.\n",
      "\n",
      "* Je me suis demand\u00e9 quel \u00e2ge donner \u00e0 l\u2019enfant : moins de 18 ans ? plus ? \n",
      "    * D\u2019apr\u00e8s vosdroits.service-public.fr, \u00ab\u00a0vos enfants mineurs sont normalement consid\u00e9r\u00e9s \u00e0 votre charge\u00a0\u00bb et , \u00ab\u00a0pour \u00eatre rattach\u00e9 \u00e0 au foyer fiscal, l\u2019enfant enfant majeur doit, au 1er janvier 2014, avoir moins de 21 ans (ou 25 ans s'il poursuit des \u00e9tudes)\u00a0\u00bb. \n",
      "    * Donc, j\u2019ai choisi un jeune de 22 ans qui quitte le m\u00e9nage familial pour aller \u00e9tudier. De cette mani\u00e8re, il a la possibilit\u00e9 de de rester rattacher au foyer fiscal ou de s\u2019en d\u00e9tacher. \n",
      "\n",
      "\n",
      "* Ensuite, Pension vers\u00e9e \u00e0 un enfant majeur\n",
      "    * Fonctionnement = Vous pouvez d\u00e9duire de vos revenus la pension alimentaire que vous versez \u00e0 un enfant majeur qui a besoin de votre aide financi\u00e8re pour vivre (par exemple enfant poursuivant des \u00e9tudes, au ch\u00f4mage, infirme...), \u00e0 une double condition :\n",
      "        * que votre enfant ne soit pas rattach\u00e9 \u00e0 votre foyer fiscal pour l'imp\u00f4t sur le revenu,\n",
      "\t\t* que la pension ne d\u00e9passe pas certains plafonds (voir ci-dessous).\n",
      "            * Votre enfant ne vit pas sous votre toit. Vous pouvez d\u00e9duire vos d\u00e9penses pour leur montant r\u00e9el et justifi\u00e9 dans la limite des plafonds suivants :\n",
      "                * 5\u00a0726\u00a0\u20ac par enfant, qu'il soit ou non c\u00e9libataire,\n",
      "                * 11\u00a0452\u00a0\u20ac par enfant si votre enfant est c\u00e9libataire charg\u00e9 de famille et que vous subvenez seul \u00e0 ses besoins, \n",
      "                * 11\u00a0452\u00a0\u20ac par enfant si votre enfant est mari\u00e9 ou pacs\u00e9 et que vous subvenez seul \u00e0 l'entretien du couple.\n",
      "            * Votre enfant vit sous votre toit. Vous pouvez d\u00e9duire, sans avoir \u00e0 fournir de justificatif, vos d\u00e9penses de nourriture et d'h\u00e9bergement pour un montant forfaitaire fix\u00e9 \u00e0 3\u00a0403\u00a0\u20ac par enfant (le double si votre enfant est mari\u00e9 ou pacs\u00e9). Si vous avez h\u00e9berg\u00e9 votre enfant une partie de l'ann\u00e9e seulement, cette somme est r\u00e9duite au prorata du nombre de mois concern\u00e9s, tout mois commenc\u00e9 \u00e9tant retenu en entier. Dans le cas o\u00f9 le montant forfaitaire est insuffisant, vous pouvez \u00e9galement d\u00e9duire les autres d\u00e9penses (frais de scolarit\u00e9 par exemple) pour leur montant r\u00e9el et justifi\u00e9.\n",
      "        * Au total, les sommes d\u00e9duites ne doivent pas d\u00e9passer 5\u00a0726\u00a0\u20ac par enfant.\n",
      "\n",
      "\n",
      "\n",
      "\n",
      "* Sources :\n",
      "    * http://impotsurlerevenu.org/definitions/111-foyer-fiscal.php \n",
      "    * http://votreargent.lexpress.fr/impots/enfants-rattachement-au-foyer-fiscal-ou-pas_1585617.html (int\u00e9r\u00eat actualit\u00e9)\n",
      "    * http://vosdroits.service-public.fr/particuliers/N20360.xhtml (sur ALS, ALF et APL)\n",
      "    * http://vosdroits.service-public.fr/particuliers/F3085.xhtml (imp\u00f4ts sur le revenu / rattachement fiscal ou non)\n",
      "    * http://www.inegalites.fr/spip.php?article1432\n",
      "    * http://www.insee.fr/fr/ffc/docs_ffc/es335a.pdf\n",
      "    * http://www.insee.fr/fr/themes/theme.asp?theme=4&sous_theme=4&type=2&produit=OK\n",
      "    * http://www.inegalites.fr/spip.php?article1015\n",
      "    * http://vosdroits.service-public.fr/particuliers/F2.xhtml\n",
      "\n",
      "\n",
      "* Gain en revenu disponible li\u00e9 au d\u00e9tachement fiscal par tranche de salaire imposable\n",
      "    * salaire_imposable_tranches = np.array([9690, 26764, 71754, 151956, 500000 ]) \n",
      "    * salaire_imposable_tranches.shape\n",
      "    * print salaire_imposable_tranches\n",
      "    * je ne suis pas sur que cela peut marcher \u00e9crit de cette fa\u00e7on\n",
      "    * fig = plt.figure()\n",
      "    * plt.plot(salaire_imposable_tranches, revdisp_2m_2ff - revdisp_m_ff, label = \"gain en revdisp li\u00e9 au d\u00e9tachement fiscal\"\n",
      "    * plt.legend(loc = 4, shadow=True, fancybox=True)\n",
      "    * plt.show()\n",
      "\n",
      "\n",
      "* proposition suppl\u00e9mentaire 1 : comment je pourrais faire pour cr\u00e9er une jolie boucle \"for\" o\u00f9 le salaire brut prendrait successivement les valeurs 20 000, 30 000, 100 000 tout en effectuant les quatre scn\u00e9ario pour chaque salaire ? J'ai pens\u00e9 \u00e0 une boucle imbriqu\u00e9e for for comme pour l'exo des dico mais je trouve que c'est plus dur ici \n",
      "\n",
      "* proposition suppl\u00e9mentaire 2 : comment repr\u00e9senter dans un tableau \u00e9l\u00e9gant tous ces r\u00e9sultats avec en colonne les quatre sc\u00e9narios et en ligne les variables ? (comme ci-dessous enfaite)\n",
      "\n",
      "* proposition suppl\u00e9mentaire 3 : calculer les gains au d\u00e9tachement fiscal en d\u00e9finissant une variable : \"gain_det_ff\" (y) qui serait une fonction du salaire brut (x) afin de repr\u00e9senter dans un graphique y en fonction de x ma difficult\u00e9 rejoint la proposition 1 + la programmation d'un \"continuum de salaire_brut\"  pour \u00e9viter de tracer une courbe avec seulement trois valeurs du salaire brut\n",
      "\n",
      "* remarque : est-ce que la variable \"alset\" refonctionne ? pour que je puisse voir s'il y a des effets diff\u00e9rents entre Scenario_m_ff et Scenario_2m_ff car sinon, avec cette liste de variables, le scenario_2m_ff n'apporte pas d'info suppl\u00e9mentaires, je pourrais le supprimer pour \u00e9conomiser des lignes tout comme le Scenario_m_2ff d'ailleurs qui n'apporte pas de r\u00e9sultats diff\u00e9rents du Scenario_2m_2ff. Donc, deux sc\u00e9narios seraient n\u00e9cessaires et suffisants pour mon \u00e9tude :\n",
      "    * Scenario_m_ff (situation de contr\u00f4le) \n",
      "    * Scenario_2m_2ff\n",
      "\n"
     ]
    },
    {
     "cell_type": "heading",
     "level": 3,
     "metadata": {},
     "source": [
      "27 f\u00e9vrier 2015"
     ]
    },
    {
     "cell_type": "markdown",
     "metadata": {},
     "source": [
      "* id\u00e9es suppl\u00e9mentaires int\u00e9ressantes mais difficile pour moi : \n",
      "    * 1/ Faire appara\u00eetre le output de la cellule \"r\u00e9sultat\" dans un beau tableau avec en colonnes les quatre scenarios et en lignes les variables contenues dans la liste \u00ab variables \u00bb.\n",
      "    * 2/ Etudier trois types d\u2019individus : bas revenus, revenus moyens et hauts revenus dans mon \u00e9tude mais je voudrais trouver une mani\u00e8re \u00e9conome de faire des boucle \u00ab for \u00bb  imbriqu\u00e9es o\u00f9 le salaire de base des individus \u00ab ind0 \u00bb  et \u00ab  ind1 \u00bb  prendrait successivement des valeurs tout en effectuant les quatre sc\u00e9nario pour chaque salaire (dans l\u2019id\u00e9al ce ce serait d\u2019avoir une sorte de continuum de salaires ou au moins des tranches de salaire par exemple tous les 5000 dans l\u2019intervalle [5000 ; 160000]). Ce qui me permettrait de tracer un graphique du m\u00eame type que ceux que j\u2019ai, \u00ab gain en imp\u00f4ts au d\u00e9tachement fiscal \u00bb  en fonction des diff\u00e9rents salaires.\n"
     ]
    },
    {
     "cell_type": "heading",
     "level": 3,
     "metadata": {},
     "source": [
      " 1  mars 2015"
     ]
    },
    {
     "cell_type": "markdown",
     "metadata": {},
     "source": [
      "* Recherche et apprentissage tableaux python\n",
      "* Recherche pour la boucle compliqu\u00e9e"
     ]
    },
    {
     "cell_type": "heading",
     "level": 3,
     "metadata": {},
     "source": [
      " 2  mars 2015"
     ]
    },
    {
     "cell_type": "markdown",
     "metadata": {},
     "source": [
      "* Recherche et apprentissage tableaux python\n",
      "* Recherche pour la boucle compliqu\u00e9e"
     ]
    },
    {
     "cell_type": "heading",
     "level": 3,
     "metadata": {},
     "source": [
      " 3  mars 2015"
     ]
    },
    {
     "cell_type": "markdown",
     "metadata": {},
     "source": [
      "* Recherche et apprentissage tableaux python\n",
      "* Recherche pour la boucle compliqu\u00e9e"
     ]
    },
    {
     "cell_type": "heading",
     "level": 3,
     "metadata": {},
     "source": [
      " 4  mars 2015"
     ]
    },
    {
     "cell_type": "markdown",
     "metadata": {},
     "source": [
      "* Probl\u00e8me : salaires imposables de 30 000 \u00e0 chaque individu, dans les r\u00e9sultats, ils re\u00e7oivent du rsa et aux autres mini sociaux, et du m\u00eame montant que lorsque je leurs mets un salaire imposable de 15000."
     ]
    },
    {
     "cell_type": "heading",
     "level": 3,
     "metadata": {},
     "source": [
      " 5  mars 2015"
     ]
    },
    {
     "cell_type": "markdown",
     "metadata": {},
     "source": [
      "* 1/ Par rapport aux probl\u00e8mes de mois vs ann\u00e9es, pas compris\n",
      "\n",
      "* 2/  j\u2019ai avanc\u00e9 l\u2019id\u00e9e d\u2019\u00e9tudier plusieurs types d\u2019individus (selon leur salaire) et selon les ann\u00e9es (boucle for year). int\u00e9grer la boucle for year. Deux essais pour d\u00e9finir plusieurs types d\u2019individus. je bloque sur une erreur du type : \u00ab  IndexError: index -2093644168 is out of bounds for size 2 \u00bb.\n",
      "\n",
      "* 3/ Graphiques, utilisation boucle \u00ab for year \u00bb  et \u00e0 repr\u00e9senter sur un m\u00eame graphique plusieurs courbes selon les ann\u00e9es. Je voudrais maintenant que  la l\u00e9gende de mes courbes prennent en compte l\u2019ann\u00e9e. J\u2019ai essay\u00e9 \u00ab {} \u00bb.format(year) mais c\u2019a n\u2019a pas march\u00e9. \n",
      "\n",
      "* 4/ Pour les tableaux, int\u00e9grer une boucle \u00ab for year \u00bb et j\u2019obtiens une forme du tableau qui s\u2019approche de ce que je voudrais.  Et, j\u2019ai r\u00e9int\u00e9gr\u00e9 mes \u00ab print \u00bb ( conseil Adrien) mais je n\u2019obtiens toujours pas les r\u00e9sultats."
     ]
    },
    {
     "cell_type": "heading",
     "level": 3,
     "metadata": {},
     "source": [
      " 7  mars 2015"
     ]
    },
    {
     "cell_type": "markdown",
     "metadata": {},
     "source": [
      "* Quel plan adopter pour mon projet ? \n",
      "* forme ?"
     ]
    },
    {
     "cell_type": "heading",
     "level": 3,
     "metadata": {},
     "source": [
      " 9  mars 2015"
     ]
    },
    {
     "cell_type": "markdown",
     "metadata": {},
     "source": [
      "* Probl\u00e8mes \n",
      "    * toujours variable \u00ab alset \u00bb, \n",
      "    * le fait que les minima sociaux ne disparaissent pas quand le salaire imposable est assez \u00e9lev\u00e9 pour qu\u2019en th\u00e9orie ils disparaissent\n",
      "    * En th\u00e9orie le gain au d\u00e9tachement fiscal devrait \u00eatre b\u00e9n\u00e9fique pour les hauts revenus et non pour les bas revenus. \n",
      "        * Je vois dans la programmation que le d\u00e9tachement fiscal ne semble pas b\u00e9n\u00e9fique aux bas revenus \n",
      "        * Je ne vois pas que cela soit b\u00e9n\u00e9fique pour les hauts revenus. "
     ]
    },
    {
     "cell_type": "heading",
     "level": 3,
     "metadata": {},
     "source": [
      " 10  mars 2015"
     ]
    },
    {
     "cell_type": "markdown",
     "metadata": {},
     "source": [
      "Objets que je voudrais construire\n",
      "\n",
      "* Tableaux\n",
      "    * Tableau 1 : rattachement fiscal par ann\u00e9e\n",
      "    * Tableau 2 : d\u00e9tachement fiscal par ann\u00e9e \n",
      "    * Tableau 3 : gain au d\u00e9tachement fiscal par ann\u00e9e\n",
      "    * Tableau 4 : diff\u00e9rences de gain au d\u00e9tachement fiscal entre diff\u00e9rentes ann\u00e9es\n",
      "    * Tableau 5 : rattachement fiscal par ann\u00e9e et variation de salaire imposable\n",
      "    * Tableau 6 : d\u00e9tachement fiscal par ann\u00e9e selon salaire imposable\n",
      "    * Tableau 7 : gain au d\u00e9tachement fiscal par ann\u00e9e et selon le salaire\n",
      "    * Tableau 8 : diff\u00e9rences de gain au d\u00e9tachement fiscal entre diff\u00e9rentes ann\u00e9es\n",
      "\n",
      "* Graphiques : tracer un graphique pour chaque tableau\n",
      "* cf fichier pdf"
     ]
    },
    {
     "cell_type": "heading",
     "level": 2,
     "metadata": {},
     "source": [
      "11 mars 2015"
     ]
    },
    {
     "cell_type": "markdown",
     "metadata": {},
     "source": [
      "Apr\u00e8s une longue nuit, \n",
      "* R\u00e9ussite pour les tableaux avec panda\n",
      "* Forme finale du projet"
     ]
    },
    {
     "cell_type": "code",
     "collapsed": false,
     "input": [],
     "language": "python",
     "metadata": {},
     "outputs": []
    }
   ],
   "metadata": {}
  }
 ]
}