{
 "metadata": {
  "name": "",
  "signature": "sha256:dad2e8f3a1bdf1f9e6512f175452b2c0ad0f357756b8d37aad6f8289c586ff79"
 },
 "nbformat": 3,
 "nbformat_minor": 0,
 "worksheets": [
  {
   "cells": [
    {
     "cell_type": "code",
     "collapsed": false,
     "input": [
      "%matplotlib inline \n",
      "import matplotlib.pyplot as plt\n",
      "import numpy as np\n",
      "import pandas as pd\n",
      "\n",
      "import datetime\n",
      "import openfisca_france \n",
      "from openfisca_matplotlib import graphs\n",
      "from openfisca_core import periods\n",
      "\n",
      "TaxBenefitSystem = openfisca_france.init_country()  \n",
      "tax_benefit_system = TaxBenefitSystem() \n",
      "Period = periods.Period\n",
      "Instant = periods.Instant"
     ],
     "language": "python",
     "metadata": {},
     "outputs": [],
     "prompt_number": 51
    },
    {
     "cell_type": "code",
     "collapsed": false,
     "input": [
      "# Je definis ci-dessous les variables \"individus\" et \"familles\" et la liste \"variables\" avant les quatre scenarios"
     ],
     "language": "python",
     "metadata": {},
     "outputs": [],
     "prompt_number": 52
    },
    {
     "cell_type": "code",
     "collapsed": false,
     "input": [
      "individus = [ \n",
      "\n",
      "    {'id': 'ind0', u'salaire_de_base':{\n",
      "        Period((u'year', Instant((2013, 1, 1)), 1)): 30000.0,\n",
      "        Period((u'year', Instant((2014, 1, 1)), 1)): 30000.0,\n",
      "        }, \n",
      "        'birth': datetime.date(1960, 1, 1)\n",
      "    },\n",
      "\n",
      "    {'id': 'ind1', u'salaire_de_base': {\n",
      "        Period((u'year', Instant((2013, 1, 1)), 1)): 30000.0,\n",
      "        Period((u'year', Instant((2014, 1, 1)), 1)): 30000.0,\n",
      "         },\n",
      "        'birth': datetime.date(1961, 12, 1)\n",
      "    },\n",
      "\n",
      "    {'id' :'ind2',  'birth': datetime.date(2014-22, 1, 1)}\n",
      "\n",
      "    ]"
     ],
     "language": "python",
     "metadata": {},
     "outputs": [],
     "prompt_number": 53
    },
    {
     "cell_type": "code",
     "collapsed": false,
     "input": [
      "familles = [\n",
      "    {'id': 0, 'enfants': ['ind2'], 'parents': ['ind0', 'ind1']}\n",
      "    ] "
     ],
     "language": "python",
     "metadata": {},
     "outputs": [],
     "prompt_number": 54
    },
    {
     "cell_type": "code",
     "collapsed": false,
     "input": [
      "variables = [\n",
      "'sal', \n",
      "'revdisp', \n",
      "'impo', \n",
      "'tax_hab', \n",
      "'irpp', \n",
      "'iai', \n",
      "'credits_impot', \n",
      "'cehr', \n",
      "'apl', \n",
      "'als', \n",
      "'alv', \n",
      "'alf', \n",
      "'mini', \n",
      "'aspa', \n",
      "'aah', \n",
      "'caah', \n",
      "'asi', \n",
      "'aefa', \n",
      "'api', \n",
      "'ass', \n",
      "'psa', \n",
      "'rsa', \n",
      "'ars', \n",
      "'teicaa', \n",
      "'af', \n",
      "'pfam', \n",
      "'rng', \n",
      "'asf', \n",
      "'nbptr',\n",
      "] "
     ],
     "language": "python",
     "metadata": {},
     "outputs": [],
     "prompt_number": 55
    },
    {
     "cell_type": "code",
     "collapsed": false,
     "input": [
      "salaire_imposable_maximal = 200000"
     ],
     "language": "python",
     "metadata": {},
     "outputs": [],
     "prompt_number": 56
    },
    {
     "cell_type": "heading",
     "level": 1,
     "metadata": {},
     "source": [
      "2. Scenario_m_ff "
     ]
    },
    {
     "cell_type": "heading",
     "level": 6,
     "metadata": {},
     "source": [
      "L'enfant est avec ses parents. Je construis le scenario_m_ff : trois individus, une famille, un m\u00e9nage, un foyer fiscal."
     ]
    },
    {
     "cell_type": "code",
     "collapsed": false,
     "input": [
      "menages = [\n",
      "    {'id': 0, 'conjoint': 'ind1', 'autres': [], 'enfants': ['ind2'], 'personne_de_reference': 'ind0'}\n",
      "    ]"
     ],
     "language": "python",
     "metadata": {},
     "outputs": [],
     "prompt_number": 57
    },
    {
     "cell_type": "code",
     "collapsed": false,
     "input": [
      "foyers_fiscaux = [\n",
      "    {'id': 0, 'personnes_a_charge': ['ind2'], 'declarants': ['ind0', 'ind1']}\n",
      "    ] "
     ],
     "language": "python",
     "metadata": {},
     "outputs": [],
     "prompt_number": 58
    },
    {
     "cell_type": "code",
     "collapsed": false,
     "input": [
      "test_case_m_ff = {'individus' : individus, 'menages' : menages,'familles' : familles, 'foyers_fiscaux' : foyers_fiscaux}"
     ],
     "language": "python",
     "metadata": {},
     "outputs": [],
     "prompt_number": 59
    },
    {
     "cell_type": "code",
     "collapsed": false,
     "input": [
      "scenario_m_ff = tax_benefit_system.new_scenario()\n",
      "type(scenario_m_ff)"
     ],
     "language": "python",
     "metadata": {},
     "outputs": [
      {
       "metadata": {},
       "output_type": "pyout",
       "prompt_number": 60,
       "text": [
        "openfisca_france.scenarios.Scenario"
       ]
      }
     ],
     "prompt_number": 60
    },
    {
     "cell_type": "code",
     "collapsed": false,
     "input": [
      "scenario_m_ff.test_case = test_case_m_ff"
     ],
     "language": "python",
     "metadata": {},
     "outputs": [],
     "prompt_number": 61
    },
    {
     "cell_type": "code",
     "collapsed": false,
     "input": [
      "scenario_m_ff.period = periods.period(\"2014\")  "
     ],
     "language": "python",
     "metadata": {},
     "outputs": [],
     "prompt_number": 62
    },
    {
     "cell_type": "code",
     "collapsed": false,
     "input": [
      "simulation_m_ff = scenario_m_ff.new_simulation(debug = True , trace = True)"
     ],
     "language": "python",
     "metadata": {},
     "outputs": [],
     "prompt_number": 63
    },
    {
     "cell_type": "heading",
     "level": 1,
     "metadata": {},
     "source": [
      "3. Scenario_2m_2ff"
     ]
    },
    {
     "cell_type": "heading",
     "level": 6,
     "metadata": {},
     "source": [
      "L'enfant quitte le m\u00e9nage et le foyer fiscal de ses parents. Je construis le scenario_2m_2ff : trois individus, une famille, deux m\u00e9nages, deux foyerx fiscaux."
     ]
    },
    {
     "cell_type": "code",
     "collapsed": false,
     "input": [
      "foyers_fiscaux_par = [\n",
      "    {'id': 0, 'personnes_a_charge': [], 'declarants': ['ind0', 'ind1']}\n",
      "    ]\n",
      "# Ici, je cr\u00e9e le foyer fiscal des parents (d\u00e9claration commune des parents)"
     ],
     "language": "python",
     "metadata": {},
     "outputs": [],
     "prompt_number": 64
    },
    {
     "cell_type": "code",
     "collapsed": false,
     "input": [
      "foyers_fiscaux_enf = [\n",
      "    {'id': 1, 'personnes_a_charge': [], 'declarants': ['ind2']}\n",
      "    ]\n",
      "# Ici, je cr\u00e9e le foyer fiscal du jeune gar\u00e7on qui veut devenir ind\u00e9pendant"
     ],
     "language": "python",
     "metadata": {},
     "outputs": [],
     "prompt_number": 65
    },
    {
     "cell_type": "code",
     "collapsed": false,
     "input": [
      "foyers_fiscaux_div = foyers_fiscaux_par + foyers_fiscaux_enf #fusion des deux nouveaux foyers pour \u00e9conomie dans le test_case\n",
      "# \"div\" pour \"divis\u00e9\""
     ],
     "language": "python",
     "metadata": {},
     "outputs": [],
     "prompt_number": 66
    },
    {
     "cell_type": "code",
     "collapsed": false,
     "input": [
      "menages_par = [\n",
      "    {'id': 0, 'conjoint': 'ind1', 'autres': [], 'enfants': [], 'personne_de_reference': 'ind0'}\n",
      "    ]\n",
      "# puisque l'enfant quitte la maison familiale pour aller \u00e9tudier, il quitte le m\u00e9nage"
     ],
     "language": "python",
     "metadata": {},
     "outputs": [],
     "prompt_number": 67
    },
    {
     "cell_type": "code",
     "collapsed": false,
     "input": [
      "menages_enf = [\n",
      "    {'id': 1, 'autres': [], 'enfants': [], 'personne_de_reference': 'ind2'}\n",
      "    ]\n",
      "# et donc il forme un nouveau m\u00e9nage"
     ],
     "language": "python",
     "metadata": {},
     "outputs": [],
     "prompt_number": 68
    },
    {
     "cell_type": "code",
     "collapsed": false,
     "input": [
      "menages_div = menages_par + menages_enf # fusion des deux m\u00e9nages pour \u00e9conomie dans le test_case"
     ],
     "language": "python",
     "metadata": {},
     "outputs": [],
     "prompt_number": 69
    },
    {
     "cell_type": "code",
     "collapsed": false,
     "input": [
      "test_case_2m_2ff = {\n",
      "'individus' : individus, \n",
      "'menages' : menages_div,\n",
      "'familles' : familles, \n",
      "'foyers_fiscaux' : foyers_fiscaux_div,\n",
      "}  # Dans le test_case, cette fois je rajoute les deux foyers_fiscaux : dictionnaires imbriqu\u00e9s"
     ],
     "language": "python",
     "metadata": {},
     "outputs": [],
     "prompt_number": 70
    },
    {
     "cell_type": "code",
     "collapsed": false,
     "input": [
      "test_case_2m_2ff.keys() # ici je regarde les clefs de mon dico"
     ],
     "language": "python",
     "metadata": {},
     "outputs": [
      {
       "metadata": {},
       "output_type": "pyout",
       "prompt_number": 71,
       "text": [
        "['foyers_fiscaux', 'individus', 'familles', 'menages']"
       ]
      }
     ],
     "prompt_number": 71
    },
    {
     "cell_type": "code",
     "collapsed": false,
     "input": [
      "test_case_2m_2ff.values() # ici je regarde les clefs de mon dico"
     ],
     "language": "python",
     "metadata": {},
     "outputs": [
      {
       "metadata": {},
       "output_type": "pyout",
       "prompt_number": 72,
       "text": [
        "[[{'declarants': ['ind0', 'ind1'], 'id': 0, 'personnes_a_charge': []},\n",
        "  {'declarants': ['ind2'], 'id': 1, 'personnes_a_charge': []}],\n",
        " [{'birth': datetime.date(1960, 1, 1),\n",
        "   'id': 'ind0',\n",
        "   u'salaire_de_base': {Period((u'year', Instant((2013, 1, 1)), 1)): 30000.0,\n",
        "    Period((u'year', Instant((2014, 1, 1)), 1)): 30000.0}},\n",
        "  {'birth': datetime.date(1961, 12, 1),\n",
        "   'id': 'ind1',\n",
        "   u'salaire_de_base': {Period((u'year', Instant((2013, 1, 1)), 1)): 30000.0,\n",
        "    Period((u'year', Instant((2014, 1, 1)), 1)): 30000.0}},\n",
        "  {'birth': datetime.date(1992, 1, 1), 'id': 'ind2'}],\n",
        " [{'enfants': ['ind2'], 'id': 0, 'parents': ['ind0', 'ind1']}],\n",
        " [{'autres': [],\n",
        "   'conjoint': 'ind1',\n",
        "   'enfants': [],\n",
        "   'id': 0,\n",
        "   'personne_de_reference': 'ind0'},\n",
        "  {'autres': [], 'enfants': [], 'id': 1, 'personne_de_reference': 'ind2'}]]"
       ]
      }
     ],
     "prompt_number": 72
    },
    {
     "cell_type": "code",
     "collapsed": false,
     "input": [
      "scenario_2m_2ff = tax_benefit_system.new_scenario()\n",
      "type(scenario_2m_2ff)"
     ],
     "language": "python",
     "metadata": {},
     "outputs": [
      {
       "metadata": {},
       "output_type": "pyout",
       "prompt_number": 73,
       "text": [
        "openfisca_france.scenarios.Scenario"
       ]
      }
     ],
     "prompt_number": 73
    },
    {
     "cell_type": "code",
     "collapsed": false,
     "input": [
      "scenario_2m_2ff.test_case = test_case_2m_2ff"
     ],
     "language": "python",
     "metadata": {},
     "outputs": [],
     "prompt_number": 74
    },
    {
     "cell_type": "code",
     "collapsed": false,
     "input": [
      "scenario_2m_2ff.period = periods.period(\"2014\")"
     ],
     "language": "python",
     "metadata": {},
     "outputs": [],
     "prompt_number": 75
    },
    {
     "cell_type": "code",
     "collapsed": false,
     "input": [
      "simulation_2m_2ff = scenario_2m_2ff.new_simulation(debug = True , trace = True) "
     ],
     "language": "python",
     "metadata": {},
     "outputs": [],
     "prompt_number": 76
    },
    {
     "cell_type": "heading",
     "level": 1,
     "metadata": {},
     "source": [
      "4. R\u00e9sultats"
     ]
    },
    {
     "cell_type": "code",
     "collapsed": false,
     "input": [
      "for variable in variables: \n",
      "    print variable, simulation_m_ff.calculate(variable, '2014'), simulation_2m_2ff.calculate(variable, '2014')\n",
      "    liste_m_ff = simulation_m_ff.calculate(variable),  #Adrien : tu es hors de ta boucle, variable est donc \u00e9gal au dernier \u00e9l\u00e9ment\n",
      "    liste_2m_2ff = simulation_2m_2ff.calculate(variable)#         de variables. Regarde les prints derri\u00e8re."
     ],
     "language": "python",
     "metadata": {},
     "outputs": [
      {
       "output_type": "stream",
       "stream": "stdout",
       "text": [
        "sal [ 30000.  30000.      0.] [ 30000.  30000.      0.]\n",
        "revdisp [ 62032.54296875] [ 60524.54296875      0.        ]\n",
        "impo [-9053.16015625] [-10561.16015625      0.        ]\n",
        "tax_hab [ 0.] [ 0.  0.]\n",
        "irpp [-9053.16015625] [-10561.16015625      0.        ]\n",
        "iai [ 9053.16015625] [ 10561.16015625      0.        ]\n",
        "credits_impot [ 0.] [ 0.  0.]\n",
        "cehr [ 0.] [ 0.  0.]\n",
        "apl [ 0.] [ 0.]\n",
        "als [ 0.] [ 0.]\n",
        "alv [ 0.] [ 0.  0.]\n",
        "alf [ 0.] [ 0.]\n",
        "mini [ 11085.69921875] [ 11085.69921875]\n",
        "aspa [ 0.] [ 0.]\n",
        "aah [ 0.  0.  0.] [ 0.  0.  0.]\n",
        "caah [ 0.  0.  0.] [ 0.  0.  0.]\n",
        "asi [ 0.] [ 0.]\n",
        "aefa [ 228.67500305] [ 228.67500305]\n",
        "api [ 0.] [ 0.]\n",
        "ass [ 0.] [ 0.]\n",
        "psa [ 0.] [ 0.]\n",
        "rsa [ 10857.02441406] [ 10857.02441406]\n",
        "ars [ 0.] [ 0.]\n",
        "teicaa [ 0.] [ 0.  0.]\n",
        "af [ 0.] [ 0.]\n",
        "pfam [ 0.] [ 0.]\n",
        "rng [ 54000.] [ 54000.      0.]\n",
        "asf [ 0.] [ 0.]\n",
        "nbptr [ 1.5] [ 1.  1.]\n"
       ]
      }
     ],
     "prompt_number": 96
    },
    {
     "cell_type": "code",
     "collapsed": false,
     "input": [
      "for variable in variables: \n",
      "    print liste_m_ff\n",
      "    print liste_2m_2ff # Brian : m\u00eame apr\u00e8s avoir remis les listes dans la boucle, je n'ai pas r\u00e9ussi car j'obtiens ceci..\n",
      "                       # comment faire svp...?"
     ],
     "language": "python",
     "metadata": {},
     "outputs": [
      {
       "output_type": "stream",
       "stream": "stdout",
       "text": [
        "(array([ 1.5], dtype=float32),)\n",
        "[ 1.  1.]\n",
        "(array([ 1.5], dtype=float32),)\n",
        "[ 1.  1.]\n",
        "(array([ 1.5], dtype=float32),)\n",
        "[ 1.  1.]\n",
        "(array([ 1.5], dtype=float32),)\n",
        "[ 1.  1.]\n",
        "(array([ 1.5], dtype=float32),)\n",
        "[ 1.  1.]\n",
        "(array([ 1.5], dtype=float32),)\n",
        "[ 1.  1.]\n",
        "(array([ 1.5], dtype=float32),)\n",
        "[ 1.  1.]\n",
        "(array([ 1.5], dtype=float32),)\n",
        "[ 1.  1.]\n",
        "(array([ 1.5], dtype=float32),)\n",
        "[ 1.  1.]\n",
        "(array([ 1.5], dtype=float32),)\n",
        "[ 1.  1.]\n",
        "(array([ 1.5], dtype=float32),)\n",
        "[ 1.  1.]\n",
        "(array([ 1.5], dtype=float32),)\n",
        "[ 1.  1.]\n",
        "(array([ 1.5], dtype=float32),)\n",
        "[ 1.  1.]\n",
        "(array([ 1.5], dtype=float32),)\n",
        "[ 1.  1.]\n",
        "(array([ 1.5], dtype=float32),)\n",
        "[ 1.  1.]\n",
        "(array([ 1.5], dtype=float32),)\n",
        "[ 1.  1.]\n",
        "(array([ 1.5], dtype=float32),)\n",
        "[ 1.  1.]\n",
        "(array([ 1.5], dtype=float32),)\n",
        "[ 1.  1.]\n",
        "(array([ 1.5], dtype=float32),)\n",
        "[ 1.  1.]\n",
        "(array([ 1.5], dtype=float32),)\n",
        "[ 1.  1.]\n",
        "(array([ 1.5], dtype=float32),)\n",
        "[ 1.  1.]\n",
        "(array([ 1.5], dtype=float32),)\n",
        "[ 1.  1.]\n",
        "(array([ 1.5], dtype=float32),)\n",
        "[ 1.  1.]\n",
        "(array([ 1.5], dtype=float32),)\n",
        "[ 1.  1.]\n",
        "(array([ 1.5], dtype=float32),)\n",
        "[ 1.  1.]\n",
        "(array([ 1.5], dtype=float32),)\n",
        "[ 1.  1.]\n",
        "(array([ 1.5], dtype=float32),)\n",
        "[ 1.  1.]\n",
        "(array([ 1.5], dtype=float32),)\n",
        "[ 1.  1.]\n",
        "(array([ 1.5], dtype=float32),)\n",
        "[ 1.  1.]\n"
       ]
      }
     ],
     "prompt_number": 100
    },
    {
     "cell_type": "heading",
     "level": 1,
     "metadata": {},
     "source": [
      "5. Tableaux"
     ]
    },
    {
     "cell_type": "heading",
     "level": 2,
     "metadata": {},
     "source": [
      "5.1. Essai 1"
     ]
    },
    {
     "cell_type": "code",
     "collapsed": false,
     "input": [
      "liste_scenario = ['scenario_m_ff', 'scenario_2m_2ff',]"
     ],
     "language": "python",
     "metadata": {},
     "outputs": [],
     "prompt_number": 105
    },
    {
     "cell_type": "code",
     "collapsed": false,
     "input": [
      "liste_simulations = [liste_m_ff, liste_2m_2ff,]"
     ],
     "language": "python",
     "metadata": {},
     "outputs": [],
     "prompt_number": 106
    },
    {
     "cell_type": "code",
     "collapsed": false,
     "input": [
      "print pd.DataFrame(\n",
      "data = liste_simulations,\n",
      "columns = liste_scenario,\n",
      "index = (2, variable),\n",
      ")\n",
      "# la je comprends pas pourquoi j'ai pas les r\u00e9sultats qui apparaissent.. Adrien : regarde plus haut."
     ],
     "language": "python",
     "metadata": {},
     "outputs": [
      {
       "output_type": "stream",
       "stream": "stdout",
       "text": [
        "      scenario_m_ff  scenario_2m_2ff\n",
        "2             [1.5]              NaN\n",
        "nbptr             1                1\n"
       ]
      }
     ],
     "prompt_number": 113
    },
    {
     "cell_type": "heading",
     "level": 2,
     "metadata": {},
     "source": [
      "5.2. Essai 2"
     ]
    },
    {
     "cell_type": "code",
     "collapsed": false,
     "input": [
      "print pd.DataFrame(\n",
      "data = zip(*),\n",
      "columns = liste_scenario,\n",
      "index = [variables],\n",
      ")\n",
      "# la non je ne sais vraiment pas pourquoi j'ai que ces  r\u00e9sultats qui apparaissent.."
     ],
     "language": "python",
     "metadata": {},
     "outputs": [
      {
       "output_type": "stream",
       "stream": "stdout",
       "text": [
        "              scenario_m_ff  scenario_2m_2ff\n",
        "sal                   [1.5]                1\n",
        "revdisp               [1.5]                1\n",
        "impo                  [1.5]                1\n",
        "tax_hab               [1.5]                1\n",
        "irpp                  [1.5]                1\n",
        "iai                   [1.5]                1\n",
        "credits_impot         [1.5]                1\n",
        "cehr                  [1.5]                1\n",
        "apl                   [1.5]                1\n",
        "als                   [1.5]                1\n",
        "alv                   [1.5]                1\n",
        "alf                   [1.5]                1\n",
        "mini                  [1.5]                1\n",
        "aspa                  [1.5]                1\n",
        "aah                   [1.5]                1\n",
        "caah                  [1.5]                1\n",
        "asi                   [1.5]                1\n",
        "aefa                  [1.5]                1\n",
        "api                   [1.5]                1\n",
        "ass                   [1.5]                1\n",
        "psa                   [1.5]                1\n",
        "rsa                   [1.5]                1\n",
        "ars                   [1.5]                1\n",
        "teicaa                [1.5]                1\n",
        "af                    [1.5]                1\n",
        "pfam                  [1.5]                1\n",
        "rng                   [1.5]                1\n",
        "asf                   [1.5]                1\n",
        "nbptr                 [1.5]                1\n"
       ]
      }
     ],
     "prompt_number": 109
    },
    {
     "cell_type": "heading",
     "level": 2,
     "metadata": {},
     "source": [
      "5.3. Essai 3 (apr\u00e8s commentaire d'Adrien)"
     ]
    },
    {
     "cell_type": "code",
     "collapsed": false,
     "input": [
      "print pd.DataFrame(\n",
      "data = [simulation_m_ff.calculate(variable, '2014'), simulation_2m_2ff.calculate(variable, '2014')],\n",
      "columns = liste_scenario,\n",
      "index = (2, variable),\n",
      ") # j'ai pris les simulations qui \u00e9taient directement dans la boucle mais ca n'a pas march\u00e9.. comment je pourrais faire svp ?"
     ],
     "language": "python",
     "metadata": {},
     "outputs": [
      {
       "output_type": "stream",
       "stream": "stdout",
       "text": [
        "       scenario_m_ff  scenario_2m_2ff\n",
        "2                1.5              NaN\n",
        "nbptr            1.0                1\n"
       ]
      }
     ],
     "prompt_number": 114
    },
    {
     "cell_type": "heading",
     "level": 1,
     "metadata": {},
     "source": [
      "6. Graphiques"
     ]
    },
    {
     "cell_type": "code",
     "collapsed": false,
     "input": [
      "year = 2014"
     ],
     "language": "python",
     "metadata": {},
     "outputs": [],
     "prompt_number": 83
    },
    {
     "cell_type": "code",
     "collapsed": false,
     "input": [
      "salaire_imposable = simulation_m_ff.calculate('sal', period = year)[:200:2] \n",
      "salaire_imposable.shape\n",
      "print salaire_imposable\n",
      "# dans tous les sc\u00e9narios, le salaire_imposable reste le m\u00eame."
     ],
     "language": "python",
     "metadata": {},
     "outputs": [
      {
       "output_type": "stream",
       "stream": "stdout",
       "text": [
        "[ 30000.      0.]\n"
       ]
      }
     ],
     "prompt_number": 84
    },
    {
     "cell_type": "heading",
     "level": 2,
     "metadata": {},
     "source": [
      "6.1 Gain en IRPP li\u00e9 au d\u00e9tachement fiscal"
     ]
    },
    {
     "cell_type": "code",
     "collapsed": false,
     "input": [
      "iai_m_ff = simulation_m_ff.calculate(\"iai\", period = year)\n",
      "iai_2m_2ff = simulation_2m_2ff.calculate(\"iai\", period = year)\n",
      "type (simulation_m_ff) \n",
      "# on pourrait aussi calculer et repr\u00e9senter \"irpp\" \n",
      "# mais comme l'\u00e9volution de \"impo\" et \"irpp\" sont identiques, j'ai choisi de n'en repr\u00e9senter qu'une."
     ],
     "language": "python",
     "metadata": {},
     "outputs": [
      {
       "metadata": {},
       "output_type": "pyout",
       "prompt_number": 85,
       "text": [
        "openfisca_core.simulations.Simulation"
       ]
      }
     ],
     "prompt_number": 85
    },
    {
     "cell_type": "code",
     "collapsed": false,
     "input": [
      "fig = plt.figure() \n",
      "plt.plot(salaire_imposable, iai_2m_2ff, label = u\"iai avec d\u00e9tachement fiscal\")\n",
      "plt.ylabel(u\"Montant iai\", fontsize=12)\n",
      "plt.xlabel(u\"salaire imposable\", fontsize=12)\n",
      "plt.legend(loc = 4, shadow=True, fancybox=True)"
     ],
     "language": "python",
     "metadata": {},
     "outputs": [
      {
       "metadata": {},
       "output_type": "pyout",
       "prompt_number": 86,
       "text": [
        "<matplotlib.legend.Legend at 0x7f482efded50>"
       ]
      },
      {
       "metadata": {},
       "output_type": "display_data",
       "png": "[encoded data removed]",
       "text": [
        "<matplotlib.figure.Figure at 0x7f482f72d2d0>"
       ]
      }
     ],
     "prompt_number": 86
    },
    {
     "cell_type": "code",
     "collapsed": false,
     "input": [
      "fig = plt.figure()\n",
      "plt.plot(salaire_imposable, iai_2m_2ff - iai_m_ff, label = u\"gain en iai li\u00e9 au d\u00e9t fiscal\")\n",
      "plt.ylabel(u\"Diff\u00e9rence en iai\", fontsize=12)\n",
      "plt.xlabel(u\"salaire imposable\", fontsize=12)\n",
      "plt.legend(loc = 4, shadow=True, fancybox=True)"
     ],
     "language": "python",
     "metadata": {},
     "outputs": [
      {
       "metadata": {},
       "output_type": "pyout",
       "prompt_number": 87,
       "text": [
        "<matplotlib.legend.Legend at 0x7f4830832050>"
       ]
      },
      {
       "metadata": {},
       "output_type": "display_data",
       "png": "[encoded data removed]",
       "text": [
        "<matplotlib.figure.Figure at 0x7f482ef4f050>"
       ]
      }
     ],
     "prompt_number": 87
    },
    {
     "cell_type": "code",
     "collapsed": false,
     "input": [
      "# note : pour un salaire_imposable de 14000 euros, \n",
      "# d\u00e9tacher son enfant du foyer fiscal rapporte environ 500 euros en imp\u00f4ts avant imputation\n",
      "# ce qui explique exactement le gain en Imp\u00f4t sur le revenu des personnes physique (irpp)\n",
      "# la variation est identique entre iai et irpp\n",
      "# j'ai pris iai car variable positive."
     ],
     "language": "python",
     "metadata": {},
     "outputs": [],
     "prompt_number": 88
    },
    {
     "cell_type": "heading",
     "level": 2,
     "metadata": {},
     "source": [
      "6.2 Gain en revdisp li\u00e9 au d\u00e9tachement fiscal"
     ]
    },
    {
     "cell_type": "code",
     "collapsed": false,
     "input": [
      "revdisp_m_ff = simulation_m_ff.calculate(\"revdisp\", period = year)\n",
      "revdisp_2m_2ff = simulation_2m_2ff.calculate(\"revdisp\", period = year)\n",
      "type (simulation_m_ff) "
     ],
     "language": "python",
     "metadata": {},
     "outputs": [
      {
       "metadata": {},
       "output_type": "pyout",
       "prompt_number": 89,
       "text": [
        "openfisca_core.simulations.Simulation"
       ]
      }
     ],
     "prompt_number": 89
    },
    {
     "cell_type": "code",
     "collapsed": false,
     "input": [
      "fig = plt.figure()\n",
      "plt.plot(salaire_imposable, revdisp_2m_2ff, label = u\"revdisp avec d\u00e9t fiscal\")\n",
      "plt.legend(loc = 4, shadow=True, fancybox=True)"
     ],
     "language": "python",
     "metadata": {},
     "outputs": [
      {
       "metadata": {},
       "output_type": "pyout",
       "prompt_number": 90,
       "text": [
        "<matplotlib.legend.Legend at 0x7f482eef8710>"
       ]
      },
      {
       "metadata": {},
       "output_type": "display_data",
       "png": "[encoded data removed]",
       "text": [
        "<matplotlib.figure.Figure at 0x7f482ee88990>"
       ]
      }
     ],
     "prompt_number": 90
    },
    {
     "cell_type": "code",
     "collapsed": false,
     "input": [
      "fig = plt.figure()\n",
      "plt.plot(salaire_imposable, revdisp_2m_2ff - revdisp_m_ff, label = u\"gain en revdisp li\u00e9 au d\u00e9t fiscal\")\n",
      "plt.ylabel(u\"Diff en revenus dispo\", fontsize=12)\n",
      "plt.xlabel(u\"salaire imposable\", fontsize=12)\n",
      "plt.legend(loc = 4, shadow=True, fancybox=True)"
     ],
     "language": "python",
     "metadata": {},
     "outputs": [
      {
       "metadata": {},
       "output_type": "pyout",
       "prompt_number": 42,
       "text": [
        "<matplotlib.legend.Legend at 0x7f4830a3fed0>"
       ]
      },
      {
       "metadata": {},
       "output_type": "display_data",
       "png": "[encoded data removed]",
       "text": [
        "<matplotlib.figure.Figure at 0x7f4830a482d0>"
       ]
      }
     ],
     "prompt_number": 42
    },
    {
     "cell_type": "code",
     "collapsed": false,
     "input": [
      "# note graphique : pour un salaire imposable de 15000\u20ac, \n",
      "# le revenu disponible des parents  est plus \u00e9lev\u00e9 sans d\u00e9tachement fiscal de leur enfant"
     ],
     "language": "python",
     "metadata": {},
     "outputs": [],
     "prompt_number": 43
    }
   ],
   "metadata": {}
  }
 ]
}