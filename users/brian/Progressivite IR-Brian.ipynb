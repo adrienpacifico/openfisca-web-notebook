{
 "metadata": {
  "name": "",
  "signature": "sha256:bdb9ff422acf98fb2fd599ced2b641c644c4925b78ae85a9f046e08827b5034d"
 },
 "nbformat": 3,
 "nbformat_minor": 0,
 "worksheets": [
  {
   "cells": [
    {
     "cell_type": "heading",
     "level": 1,
     "metadata": {},
     "source": [
      "Illustration de la progressivit\u00e9 de l'imp\u00f4t sur le revenu"
     ]
    },
    {
     "cell_type": "heading",
     "level": 2,
     "metadata": {},
     "source": [
      "Initialisation\n"
     ]
    },
    {
     "cell_type": "markdown",
     "metadata": {},
     "source": [
      "Nous importons les modules n\u00e9c\u00e9ssaires et initialisons le syst\u00e8me socio-fiscal.\n"
     ]
    },
    {
     "cell_type": "code",
     "collapsed": false,
     "input": [
      "%matplotlib inline\n",
      "import matplotlib.pyplot as plt"
     ],
     "language": "python",
     "metadata": {},
     "outputs": [],
     "prompt_number": 1
    },
    {
     "cell_type": "code",
     "collapsed": false,
     "input": [
      "from datetime import date  # module n\u00e9cessaire pour la d\u00e9finition des dates, dont notamment les dates de naissances\n",
      "import openfisca_france    # module d\u00e9crivant le syst\u00e8me socio-fiscal fran\u00e7ais\n",
      "\n",
      "TaxBenefitSystem = openfisca_france.init_country()  # Initialisation de la classe d\u00e9crivant le syst\u00e8me socio-fiscal fran\u00e7ais\n",
      "tax_benefit_system = TaxBenefitSystem()  # Cr\u00e9ation d'une instance du syst\u00e8me socio-fiscal fran\u00e7ais \n"
     ],
     "language": "python",
     "metadata": {},
     "outputs": [],
     "prompt_number": 2
    },
    {
     "cell_type": "heading",
     "level": 4,
     "metadata": {},
     "source": [
      "TaxBenefitSystem : classe du syst\u00e8me socio-fiscal.\n",
      "openfisca_france.init_country() : les parenth\u00e8ses permettent \"d'instancier\" la classe.\n",
      "\" type (x) \" permet de retrouver la classe d'o\u00f9 est issue x."
     ]
    },
    {
     "cell_type": "heading",
     "level": 2,
     "metadata": {},
     "source": [
      "Concavit\u00e9 de l'imp\u00f4t"
     ]
    },
    {
     "cell_type": "code",
     "collapsed": false,
     "input": [
      "simulation = tax_benefit_system.new_scenario().init_single_entity(\n",
      "    axes = [\n",
      "        dict(\n",
      "            count = 100,\n",
      "            min = 0,\n",
      "            max = 2500000,\n",
      "            name = 'sal',\n",
      "            ),\n",
      "        ],\n",
      "    period = 2014,\n",
      "    parent1 = dict(\n",
      "        birth = date(1980, 1, 1),\n",
      "        salbrut = 24000,\n",
      "    )\n",
      "    ).new_simulation(debug = True)"
     ],
     "language": "python",
     "metadata": {},
     "outputs": [],
     "prompt_number": 37
    },
    {
     "cell_type": "heading",
     "level": 4,
     "metadata": {},
     "source": [
      "Comment marche le progr\u00e8s ci-dessus ? \n",
      "axes cr\u00e9e un vecteur avec 100 points qui s'\u00e9tend de 0 \u00e0 50000 et il me met \u00e7a dans la variable 'sal'; ainsi il va cr\u00e9e 100 individus avec un salaire qui va de 0 \u00e0 50000."
     ]
    },
    {
     "cell_type": "code",
     "collapsed": false,
     "input": [
      "simulation"
     ],
     "language": "python",
     "metadata": {},
     "outputs": [
      {
       "metadata": {},
       "output_type": "pyout",
       "prompt_number": 38,
       "text": [
        "<openfisca_core.simulations.Simulation at 0x7f50632e7390>"
       ]
      }
     ],
     "prompt_number": 38
    },
    {
     "cell_type": "code",
     "collapsed": false,
     "input": [
      "salaire_imposable = simulation.calculate('sal')\n",
      "salaire_imposable"
     ],
     "language": "python",
     "metadata": {},
     "outputs": [
      {
       "metadata": {},
       "output_type": "pyout",
       "prompt_number": 39,
       "text": [
        "array([       0.        ,    25252.52539062,    50505.05078125,\n",
        "          75757.578125  ,   101010.1015625 ,   126262.625     ,\n",
        "         151515.15625   ,   176767.671875  ,   202020.203125  ,\n",
        "         227272.734375  ,   252525.25      ,   277777.78125   ,\n",
        "         303030.3125    ,   328282.84375   ,   353535.34375   ,\n",
        "         378787.875     ,   404040.40625   ,   429292.9375    ,\n",
        "         454545.46875   ,   479797.96875   ,   505050.5       ,\n",
        "         530303.        ,   555555.5625    ,   580808.0625    ,\n",
        "         606060.625     ,   631313.125     ,   656565.6875    ,\n",
        "         681818.1875    ,   707070.6875    ,   732323.25      ,\n",
        "         757575.75      ,   782828.3125    ,   808080.8125    ,\n",
        "         833333.3125    ,   858585.875     ,   883838.375     ,\n",
        "         909090.9375    ,   934343.4375    ,   959595.9375    ,\n",
        "         984848.5       ,  1010101.        ,  1035353.5625    ,\n",
        "        1060606.        ,  1085858.625     ,  1111111.125     ,\n",
        "        1136363.625     ,  1161616.125     ,  1186868.625     ,\n",
        "        1212121.25      ,  1237373.75      ,  1262626.25      ,\n",
        "        1287878.75      ,  1313131.375     ,  1338383.875     ,\n",
        "        1363636.375     ,  1388888.875     ,  1414141.375     ,\n",
        "        1439394.        ,  1464646.5       ,  1489899.        ,\n",
        "        1515151.5       ,  1540404.        ,  1565656.625     ,\n",
        "        1590909.125     ,  1616161.625     ,  1641414.125     ,\n",
        "        1666666.625     ,  1691919.25      ,  1717171.75      ,\n",
        "        1742424.25      ,  1767676.75      ,  1792929.25      ,\n",
        "        1818181.875     ,  1843434.375     ,  1868686.875     ,\n",
        "        1893939.375     ,  1919191.875     ,  1944444.5       ,\n",
        "        1969697.        ,  1994949.5       ,  2020202.        ,\n",
        "        2045454.5       ,  2070707.125     ,  2095959.625     ,\n",
        "        2121212.        ,  2146464.75      ,  2171717.25      ,\n",
        "        2196969.75      ,  2222222.25      ,  2247474.75      ,\n",
        "        2272727.25      ,  2297979.75      ,  2323232.25      ,\n",
        "        2348484.75      ,  2373737.25      ,  2398990.        ,\n",
        "        2424242.5       ,  2449495.        ,  2474747.5       ,  2500000.        ], dtype=float32)"
       ]
      }
     ],
     "prompt_number": 39
    },
    {
     "cell_type": "code",
     "collapsed": false,
     "input": [
      "salaire_imposable = simulation.calculate('sal')\n",
      "impot = - simulation.calculate('impo')"
     ],
     "language": "python",
     "metadata": {},
     "outputs": [],
     "prompt_number": 40
    },
    {
     "cell_type": "code",
     "collapsed": false,
     "input": [
      "plt.plot(salaire_imposable, impot)\n",
      "plt.ylabel(u\"Imp\u00f4t sur le revenu\")\n",
      "plt.xlabel(u\"Salaires imposables\")"
     ],
     "language": "python",
     "metadata": {},
     "outputs": [
      {
       "metadata": {},
       "output_type": "pyout",
       "prompt_number": 41,
       "text": [
        "<matplotlib.text.Text at 0x7f50629b8e50>"
       ]
      },
      {
       "metadata": {},
       "output_type": "display_data",
       "png": "[encoded data removed]",
       "text": [
        "<matplotlib.figure.Figure at 0x7f50632dfe50>"
       ]
      }
     ],
     "prompt_number": 41
    },
    {
     "cell_type": "heading",
     "level": 4,
     "metadata": {},
     "source": [
      "L'imp\u00f4t pay\u00e9 est continu: il n'augmente brusquement son imp\u00f4t lorsque l'on change de tranche contrairement \n",
      "\u00e0 ce que pensent beaucoup de personnes. //\n",
      "Ici j'ai voulu chercher une estimation du montant le plus haut qui n'est pas tax\u00e9. On dirait : environ 13800."
     ]
    },
    {
     "cell_type": "heading",
     "level": 2,
     "metadata": {},
     "source": [
      "Taux moyen"
     ]
    },
    {
     "cell_type": "code",
     "collapsed": false,
     "input": [
      "taux_moyen = impot / salaire_imposable  "
     ],
     "language": "python",
     "metadata": {},
     "outputs": [],
     "prompt_number": 42
    },
    {
     "cell_type": "markdown",
     "metadata": {},
     "source": [
      "taux moyen = I/R"
     ]
    },
    {
     "cell_type": "code",
     "collapsed": false,
     "input": [
      "taux_moyen = impot / (salaire_imposable * (salaire_imposable != 0) + (salaire_imposable == 0) )  "
     ],
     "language": "python",
     "metadata": {},
     "outputs": [],
     "prompt_number": 43
    },
    {
     "cell_type": "markdown",
     "metadata": {},
     "source": [
      "!= diff\u00e9rent de / == 0 (test si \u00e9gal \u00e0 z\u00e9ro) / = : affectation (a = 2 par exemple). "
     ]
    },
    {
     "cell_type": "code",
     "collapsed": false,
     "input": [
      "plt.plot(salaire_imposable, taux_moyen)\n",
      "plt.ylabel(\"Taux moyen\")\n",
      "plt.xlabel(\"Salaire imposable\")"
     ],
     "language": "python",
     "metadata": {},
     "outputs": [
      {
       "metadata": {},
       "output_type": "pyout",
       "prompt_number": 44,
       "text": [
        "<matplotlib.text.Text at 0x7f5062955a50>"
       ]
      },
      {
       "metadata": {},
       "output_type": "display_data",
       "png": "[encoded data removed]",
       "text": [
        "<matplotlib.figure.Figure at 0x7f50628e3650>"
       ]
      }
     ],
     "prompt_number": 44
    },
    {
     "cell_type": "heading",
     "level": 2,
     "metadata": {},
     "source": [
      "Taux marginal"
     ]
    },
    {
     "cell_type": "code",
     "collapsed": false,
     "input": [
      "print type (impot)\n",
      "print impot.shape"
     ],
     "language": "python",
     "metadata": {},
     "outputs": [
      {
       "output_type": "stream",
       "stream": "stdout",
       "text": [
        "<type 'numpy.ndarray'>\n",
        "(100,)\n"
       ]
      }
     ],
     "prompt_number": 45
    },
    {
     "cell_type": "code",
     "collapsed": false,
     "input": [
      "taux_marginal =  (impot[:-1] - impot[1:]) / (salaire_imposable[:-1] - salaire_imposable[1:] ) \n",
      "taux_marginal.shape"
     ],
     "language": "python",
     "metadata": {},
     "outputs": [
      {
       "metadata": {},
       "output_type": "pyout",
       "prompt_number": 46,
       "text": [
        "(99,)"
       ]
      }
     ],
     "prompt_number": 46
    },
    {
     "cell_type": "code",
     "collapsed": false,
     "input": [
      "plt.plot(salaire_imposable[:-1], taux_marginal)"
     ],
     "language": "python",
     "metadata": {},
     "outputs": [
      {
       "metadata": {},
       "output_type": "pyout",
       "prompt_number": 47,
       "text": [
        "[<matplotlib.lines.Line2D at 0x7f50627c67d0>]"
       ]
      },
      {
       "metadata": {},
       "output_type": "display_data",
       "png": "[encoded data removed]",
       "text": [
        "<matplotlib.figure.Figure at 0x7f50628a0050>"
       ]
      }
     ],
     "prompt_number": 47
    },
    {
     "cell_type": "heading",
     "level": 4,
     "metadata": {},
     "source": [
      "Taux marginal = dI/dR ; \n",
      "Ici on fait une diff\u00e9renciation discr\u00e8te. \n",
      "Pour cela : \n",
      "1/ import numpy as np\n",
      "2/ x = np.arrange (1, 10) x. \n",
      "3/ type (x)\n",
      "4/ on peut choisir des tranches de l'ensemble de x (de 1 \u00e0 10) ; on va \"slicer\" : x = np.arrange (1, 10) y = x[:3] print 'y = '\n",
      "5/ Autre exemple de slices : z = x[1:3]\n",
      "6/ u = x[1:8:2]\n",
      "7/ v = x[:-3]\n",
      "8/ w = x[-2:]"
     ]
    },
    {
     "cell_type": "code",
     "collapsed": false,
     "input": [
      "taux_marginal[5], taux_marginal[30], taux_marginal[40], taux_marginal[60], taux_marginal[95]"
     ],
     "language": "python",
     "metadata": {},
     "outputs": [
      {
       "metadata": {},
       "output_type": "pyout",
       "prompt_number": 48,
       "text": [
        "(0.41000006, 0.48999977, 0.48999977, 0.48999852, 0.49000099)"
       ]
      }
     ],
     "prompt_number": 48
    },
    {
     "cell_type": "heading",
     "level": 4,
     "metadata": {},
     "source": [
      "On retrouve les atux marginaux des tranches \u00e0 14% et \u00e0 30% (il ne faut pas oublier l'abattement de 10% pour frais professionnels). Mais pourquoi cet abattement ne se voit pas \u00e0 40 et 45 % ? Car plafonn\u00e9 \u00e0 12000 \u20ac."
     ]
    },
    {
     "cell_type": "heading",
     "level": 3,
     "metadata": {},
     "source": [
      "Remarque: utilisation de fonction d\u00e9di\u00e9es"
     ]
    },
    {
     "cell_type": "heading",
     "level": 4,
     "metadata": {},
     "source": [
      "Il est possible d'utiliser des fonctions d\u00e9di\u00e9es au calcul des taux marginaux et des taux moyens pay\u00e9s sur certaines concept de revenus. On reproduit ci-dessous "
     ]
    },
    {
     "cell_type": "code",
     "collapsed": false,
     "input": [
      "from openfisca_core.rates import average_rate, marginal_rate"
     ],
     "language": "python",
     "metadata": {},
     "outputs": [],
     "prompt_number": 49
    },
    {
     "cell_type": "code",
     "collapsed": false,
     "input": [
      "revenu_apres_impot = simulation.calculate('revenu_net_individu') + simulation.calculate('impo') "
     ],
     "language": "python",
     "metadata": {},
     "outputs": [],
     "prompt_number": 50
    },
    {
     "cell_type": "code",
     "collapsed": false,
     "input": [
      "plt.plot(average_rate(revenu_apres_impot[1:], salaire_imposable[1:]))"
     ],
     "language": "python",
     "metadata": {},
     "outputs": [
      {
       "metadata": {},
       "output_type": "pyout",
       "prompt_number": 51,
       "text": [
        "[<matplotlib.lines.Line2D at 0x7f5062681b10>]"
       ]
      },
      {
       "metadata": {},
       "output_type": "display_data",
       "png": "[encoded data removed]",
       "text": [
        "<matplotlib.figure.Figure at 0x7f5062777ad0>"
       ]
      }
     ],
     "prompt_number": 51
    },
    {
     "cell_type": "code",
     "collapsed": false,
     "input": [
      "plt.plot(average_rate(revenu_apres_impot, salaire_imposable), label = \"Taux moyen\")\n",
      "plt.plot(marginal_rate(revenu_apres_impot[1:], salaire_imposable[1:]), label = \"Taux marginal\")\n",
      "plt.legend (loc = 4)"
     ],
     "language": "python",
     "metadata": {},
     "outputs": [
      {
       "metadata": {},
       "output_type": "pyout",
       "prompt_number": 53,
       "text": [
        "<matplotlib.legend.Legend at 0x7f50624a8c90>"
       ]
      },
      {
       "metadata": {},
       "output_type": "display_data",
       "png": "[encoded data removed]",
       "text": [
        "<matplotlib.figure.Figure at 0x7f506251c3d0>"
       ]
      }
     ],
     "prompt_number": 53
    },
    {
     "cell_type": "heading",
     "level": 4,
     "metadata": {},
     "source": [
      "Exercice: montrer que le taux moyen tend vers le taux marginal \u00e0 l'infini. C'est fait, par la supperposition des deux graphs"
     ]
    }
   ],
   "metadata": {}
  }
 ]
}