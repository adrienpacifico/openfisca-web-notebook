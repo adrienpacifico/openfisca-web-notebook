{
 "metadata": {
  "name": "",
  "signature": "sha256:95e3a5e9b07889d243ee23e5d851efe546b5a63cf6cc40fa42c33e26d34861f8"
 },
 "nbformat": 3,
 "nbformat_minor": 0,
 "worksheets": [
  {
   "cells": [
    {
     "cell_type": "heading",
     "level": 1,
     "metadata": {},
     "source": [
      "1- 4 individus avec niveaux de revenus du travail diff\u00e9rents : Individu 1 : 100 000\u20ac Individu 2 : 80 000\u20ac Individu 3 : 20 000\u20ac Individu 4 : 0\u20ac -> Calcul de leur revenu dispo individuel"
     ]
    },
    {
     "cell_type": "heading",
     "level": 1,
     "metadata": {},
     "source": [
      "2- Mettre ensemble les 2 avec plus hauts revenus, ensemble les 2 avec faibles revenus. -> Calculer pour chaque couple le revenu dispo, comparer avec la somme de leurs RD lorsqu'ils sont seuls"
     ]
    },
    {
     "cell_type": "heading",
     "level": 1,
     "metadata": {},
     "source": [
      "3- M\u00eame chose avec une autre composition des couples : le plus ais\u00e9 avec la personne ne travaillant pas, les 2 autres ensembles, le revenu du travail du 1er couple doit \u00eatre \u00e9gal \u00e0 celuidu 2e couple -> On compare avec les RD individuels et les couples entre eux, \u00e0 revenu du m\u00e9nage \u00e9gal, les individus ont ils plut\u00f4t int\u00e9ret \u00e0 travailler tous les deux ou y a t il incitation \u00e0 ne pas travailler pour l'un des membre du m\u00e9nage ?"
     ]
    },
    {
     "cell_type": "heading",
     "level": 2,
     "metadata": {},
     "source": [
      "Cr\u00e9er mes 4 cas types"
     ]
    },
    {
     "cell_type": "markdown",
     "metadata": {},
     "source": [
      "1- 4 individus avec niveaux de revenus du travail diff\u00e9rents : Individu 1 : 100 000\u20ac Individu 2 : 80 000\u20ac Individu 3 : 20 000\u20ac Individu 4 : 0\u20ac -> Calcul de leur revenu dispo individuel"
     ]
    },
    {
     "cell_type": "code",
     "collapsed": false,
     "input": [
      "%matplotlib inline\n",
      "import matplotlib.pyplot as plt\n",
      "from openfisca_matplotlib import graphs\n",
      "from openfisca_core import periods"
     ],
     "language": "python",
     "metadata": {},
     "outputs": [],
     "prompt_number": 47
    },
    {
     "cell_type": "code",
     "collapsed": false,
     "input": [
      "from datetime import date  \n",
      "import openfisca_france   \n",
      "\n",
      "TaxBenefitSystem = openfisca_france.init_country()  \n",
      "tax_benefit_system = TaxBenefitSystem()  "
     ],
     "language": "python",
     "metadata": {},
     "outputs": [],
     "prompt_number": 48
    },
    {
     "cell_type": "heading",
     "level": 4,
     "metadata": {},
     "source": [
      "Cr\u00e9ation des c\u00e9libataires"
     ]
    },
    {
     "cell_type": "code",
     "collapsed": false,
     "input": [
      "def create_celibataire(sal = 0):  #\u00a0salaire_imposable mis \u00e0 z\u00e9ro par d\u00e9faut\n",
      "    #\u00a0Corps de la fonction \u00e0 remplir ...\n",
      "    simulation = tax_benefit_system.new_scenario().init_single_entity(\n",
      "    period = \"2014\", \n",
      "    parent1 = dict(\n",
      "        birth = date(1980, 1, 1),\n",
      "        sal = {\n",
      "            \"2012\": sal, #\u00a0modification\n",
      "            \"2013\": sal, #\u00a0modification\n",
      "            \"2014\": sal, #\u00a0modification\n",
      "            },\n",
      "        )\n",
      "    ).new_simulation(debug = True)\n",
      "    return simulation\n",
      "# Pour pouvoir ex\u00e9cuter\n",
      "simulation_1 = create_celibataire(sal = 100000)\n",
      "simulation_2 = create_celibataire(sal = 80000)\n",
      "simulation_3 = create_celibataire(sal = 20000)\n",
      "simulation_4 = create_celibataire(sal = 0)"
     ],
     "language": "python",
     "metadata": {},
     "outputs": [],
     "prompt_number": 49
    },
    {
     "cell_type": "code",
     "collapsed": false,
     "input": [
      "simulation_1.calculate('sal')"
     ],
     "language": "python",
     "metadata": {},
     "outputs": [
      {
       "metadata": {},
       "output_type": "pyout",
       "prompt_number": 50,
       "text": [
        "array([ 100000.], dtype=float32)"
       ]
      }
     ],
     "prompt_number": 50
    },
    {
     "cell_type": "heading",
     "level": 4,
     "metadata": {},
     "source": [
      "Cr\u00e9ation des couples"
     ]
    },
    {
     "cell_type": "code",
     "collapsed": false,
     "input": [
      "def create_couple(sal1 = 0, sal2 = 0):  #\u00a0salaire_imposable mis \u00e0 z\u00e9ro par d\u00e9faut pour les deux membres du couple\n",
      "    #\u00a0Corps de la fonction \u00e0 remplir ...\n",
      "    simulation = tax_benefit_system.new_scenario().init_single_entity(\n",
      "    period = \"2014\",\n",
      "    parent1 = dict(\n",
      "        birth = date(1980, 1, 1),\n",
      "        sal = {\n",
      "            \"2012\": sal1, #\u00a0modification\n",
      "            \"2013\": sal1, #\u00a0modification\n",
      "            \"2014\": sal1, #\u00a0modification  \n",
      "            },\n",
      "        statmarit = 1, \n",
      "        ),\n",
      "    parent2 = dict(\n",
      "        birth = date(1980, 1, 1),\n",
      "        sal = {\n",
      "            \"2012\": sal2, #\u00a0modification\n",
      "            \"2013\": sal2, #\u00a0modification\n",
      "            \"2014\": sal2, #\u00a0modification \n",
      "            },\n",
      "        statmarit = 1, \n",
      "    )\n",
      "    \n",
      "    ).new_simulation(debug = True)\n",
      "    return simulation\n",
      "# Pour pouvoir ex\u00e9cuter\n",
      "simulation_1_et_2 = create_couple(sal1 = 100000, sal2 = 80000)\n",
      "simulation_3_et_4 = create_couple(sal1 = 20000, sal2 = 0)\n",
      "simulation_2_et_3 = create_couple(sal1 = 20000, sal2 = 80000)\n",
      "simulation_1_et_4 = create_couple(sal1 = 100000, sal2 = 0)"
     ],
     "language": "python",
     "metadata": {},
     "outputs": [],
     "prompt_number": 51
    },
    {
     "cell_type": "code",
     "collapsed": false,
     "input": [
      "simulation_1_et_2.calculate('sal')"
     ],
     "language": "python",
     "metadata": {},
     "outputs": [
      {
       "metadata": {},
       "output_type": "pyout",
       "prompt_number": 52,
       "text": [
        "array([ 100000.,   80000.], dtype=float32)"
       ]
      }
     ],
     "prompt_number": 52
    },
    {
     "cell_type": "heading",
     "level": 3,
     "metadata": {},
     "source": [
      "Cr\u00e9ation d'un dictionnaire qui associe \u00e0 chaque simulation diff\u00e9rentes variables"
     ]
    },
    {
     "cell_type": "code",
     "collapsed": false,
     "input": [
      "def calculate_variables(variables, simulation):\n",
      "    amount_by_variable = dict()\n",
      "    for variable in variables:\n",
      "        amount_by_variable[variable] = simulation.calculate(variable, \"2014\")\n",
      "    return amount_by_variable"
     ],
     "language": "python",
     "metadata": {},
     "outputs": [],
     "prompt_number": 53
    },
    {
     "cell_type": "code",
     "collapsed": false,
     "input": [
      "calculate_variables([\"revdisp\", \"impo\", \"sal\",\"rsa\"], simulation_1)"
     ],
     "language": "python",
     "metadata": {},
     "outputs": [
      {
       "metadata": {},
       "output_type": "pyout",
       "prompt_number": 54,
       "text": [
        "{'impo': array([-23368.22070312], dtype=float32),\n",
        " 'revdisp': array([ 82815.9140625], dtype=float32),\n",
        " 'rsa': array([ 6031.6796875], dtype=float32),\n",
        " 'sal': array([ 100000.], dtype=float32)}"
       ]
      }
     ],
     "prompt_number": 54
    },
    {
     "cell_type": "code",
     "collapsed": false,
     "input": [
      "simulation_by_configuration = {\n",
      "    'individu_1': simulation_1, \n",
      "    'individu_2': simulation_2, \n",
      "    'individu_3': simulation_3, \n",
      "    'individu_4': simulation_4,\n",
      "    'menage_1_et_2': simulation_1_et_2,\n",
      "    'menage_3_et_4': simulation_3_et_4, \n",
      "    'menage_1_et_4': simulation_1_et_4,\n",
      "    'menage_2_et_3': simulation_2_et_3\n",
      "    }"
     ],
     "language": "python",
     "metadata": {},
     "outputs": [],
     "prompt_number": 55
    },
    {
     "cell_type": "code",
     "collapsed": false,
     "input": [
      "def calculate_variables_by_configuration(simulation_by_configuration, variables):\n",
      "    variables_by_configuration = dict()\n",
      "    for configuration, simulation in simulation_by_configuration.items():\n",
      "        variables_by_configuration[configuration] = calculate_variables(variables, simulation)\n",
      "    return variables_by_configuration"
     ],
     "language": "python",
     "metadata": {},
     "outputs": [],
     "prompt_number": 56
    },
    {
     "cell_type": "code",
     "collapsed": false,
     "input": [
      "variables = [\"revdisp\", \"impo\", \"sal\",\"rsa\"]\n",
      "calculate_variables_by_configuration(simulation_by_configuration, variables)"
     ],
     "language": "python",
     "metadata": {},
     "outputs": [
      {
       "metadata": {},
       "output_type": "pyout",
       "prompt_number": 57,
       "text": [
        "{'individu_1': {'impo': array([-23368.22070312], dtype=float32),\n",
        "  'revdisp': array([ 82815.9140625], dtype=float32),\n",
        "  'rsa': array([ 6031.6796875], dtype=float32),\n",
        "  'sal': array([ 100000.], dtype=float32)},\n",
        " 'individu_2': {'impo': array([-15988.21972656], dtype=float32),\n",
        "  'revdisp': array([ 70195.9140625], dtype=float32),\n",
        "  'rsa': array([ 6031.6796875], dtype=float32),\n",
        "  'sal': array([ 80000.], dtype=float32)},\n",
        " 'individu_3': {'impo': array([-1163.40002441], dtype=float32),\n",
        "  'revdisp': array([ 25020.72851562], dtype=float32),\n",
        "  'rsa': array([ 6031.6796875], dtype=float32),\n",
        "  'sal': array([ 20000.], dtype=float32)},\n",
        " 'individu_4': {'impo': array([ 0.], dtype=float32),\n",
        "  'revdisp': array([ 6184.12988281], dtype=float32),\n",
        "  'rsa': array([ 6031.6796875], dtype=float32),\n",
        "  'sal': array([ 0.], dtype=float32)},\n",
        " 'menage_1_et_2': {'impo': array([-39356.44140625], dtype=float32),\n",
        "  'revdisp': array([ 149919.75], dtype=float32),\n",
        "  'rsa': array([ 9047.52050781], dtype=float32),\n",
        "  'sal': array([ 100000.,   80000.], dtype=float32)},\n",
        " 'menage_1_et_4': {'impo': array([-15722.3203125], dtype=float32),\n",
        "  'revdisp': array([ 93553.875], dtype=float32),\n",
        "  'rsa': array([ 9047.52050781], dtype=float32),\n",
        "  'sal': array([ 100000.,       0.], dtype=float32)},\n",
        " 'menage_2_et_3': {'impo': array([-15722.3203125], dtype=float32),\n",
        "  'revdisp': array([ 93553.875], dtype=float32),\n",
        "  'rsa': array([ 9047.52050781], dtype=float32),\n",
        "  'sal': array([ 20000.,  80000.], dtype=float32)},\n",
        " 'menage_3_et_4': {'impo': array([ 0.], dtype=float32),\n",
        "  'revdisp': array([ 29276.1953125], dtype=float32),\n",
        "  'rsa': array([ 9047.52050781], dtype=float32),\n",
        "  'sal': array([ 20000.,      0.], dtype=float32)}}"
       ]
      }
     ],
     "prompt_number": 57
    },
    {
     "cell_type": "heading",
     "level": 3,
     "metadata": {},
     "source": [
      "Comparaisons entre mises en couples et situations individuelles"
     ]
    },
    {
     "cell_type": "markdown",
     "metadata": {},
     "source": [
      "Gain \u00e0 la mise en couple de 1 et 2 : les plus ais\u00e9s"
     ]
    },
    {
     "cell_type": "code",
     "collapsed": true,
     "input": [
      "revenu_dispo_1 = simulation_1.calculate('revdisp', period = \"2014\")\n",
      "revenu_dispo_2 = simulation_2.calculate('revdisp', period = \"2014\")\n",
      "revenu_dispo_1_et_2 = simulation_1_et_2.calculate('revdisp', period = \"2014\")\n",
      "gain_revenu_dispo_1_et_2 = revenu_dispo_1_et_2 - revenu_dispo_1 - revenu_dispo_2\n",
      "print gain_revenu_dispo_1_et_2"
     ],
     "language": "python",
     "metadata": {},
     "outputs": [
      {
       "output_type": "stream",
       "stream": "stdout",
       "text": [
        "[-3092.078125]\n"
       ]
      }
     ],
     "prompt_number": 58
    },
    {
     "cell_type": "markdown",
     "metadata": {},
     "source": [
      "Gain \u00e0 la mise en couple de 3 et 4 : les plus pauvres"
     ]
    },
    {
     "cell_type": "code",
     "collapsed": false,
     "input": [
      "revenu_dispo_3 = simulation_3.calculate('revdisp', period = \"2014\")\n",
      "revenu_dispo_4 = simulation_4.calculate('revdisp', period = \"2014\")\n",
      "revenu_dispo_3_et_4 = simulation_3_et_4.calculate('revdisp', period = \"2014\")\n",
      "gain_revenu_dispo_3_et_4 = revenu_dispo_3_et_4 - revenu_dispo_1 - revenu_dispo_4\n",
      "print gain_revenu_dispo_3_et_4"
     ],
     "language": "python",
     "metadata": {},
     "outputs": [
      {
       "output_type": "stream",
       "stream": "stdout",
       "text": [
        "[-59723.84765625]\n"
       ]
      }
     ],
     "prompt_number": 59
    },
    {
     "cell_type": "heading",
     "level": 6,
     "metadata": {},
     "source": [
      "Le gain \u00e0 la mise en couple est n\u00e9gatif en termes de revenu disponible, on parlerait donc plut\u00f4t de perte \u00e0 la mise en couple, cette perte est moindre lors de la mise en couple des deux personnes les plus ais\u00e9es."
     ]
    },
    {
     "cell_type": "markdown",
     "metadata": {},
     "source": [
      "Gain \u00e0 la mise en couple de 1 et 4 : le plus riche et le plus pauvre -> Gain positif"
     ]
    },
    {
     "cell_type": "code",
     "collapsed": false,
     "input": [
      "revenu_dispo_1 = simulation_1.calculate('revdisp', period = \"2014\")\n",
      "revenu_dispo_4 = simulation_4.calculate('revdisp', period = \"2014\")\n",
      "revenu_dispo_1_et_4 = simulation_1_et_4.calculate('revdisp', period = \"2014\")\n",
      "gain_revenu_dispo_1_et_4 = revenu_dispo_1_et_4 - revenu_dispo_1 - revenu_dispo_4\n",
      "print gain_revenu_dispo_1_et_4"
     ],
     "language": "python",
     "metadata": {},
     "outputs": [
      {
       "output_type": "stream",
       "stream": "stdout",
       "text": [
        "[ 4553.83105469]\n"
       ]
      }
     ],
     "prompt_number": 60
    },
    {
     "cell_type": "markdown",
     "metadata": {},
     "source": [
      "Gain \u00e0 la mise en couple de 2 et 3 : les niveaus de revenu disponible interm\u00e9diares -> Perte."
     ]
    },
    {
     "cell_type": "code",
     "collapsed": false,
     "input": [
      "revenu_dispo_3 = simulation_3.calculate('revdisp', period = \"2014\")\n",
      "revenu_dispo_2 = simulation_2.calculate('revdisp', period = \"2014\")\n",
      "revenu_dispo_2_et_3 = simulation_2_et_3.calculate('revdisp', period = \"2014\")\n",
      "gain_revenu_dispo_2_et_3 = revenu_dispo_2_et_3 - revenu_dispo_2 - revenu_dispo_3\n",
      "print gain_revenu_dispo_2_et_3"
     ],
     "language": "python",
     "metadata": {},
     "outputs": [
      {
       "output_type": "stream",
       "stream": "stdout",
       "text": [
        "[-1662.76757812]\n"
       ]
      }
     ],
     "prompt_number": 61
    },
    {
     "cell_type": "markdown",
     "metadata": {},
     "source": [
      "Ici, on a affaire \u00e0 deux m\u00e9nages dont la somme des revenus des membres qui les composent chacun est \u00e9gale (100000+0 pour le m\u00e9nage 1 et 4 et 20000 +80000 pour le m\u00e9nage 2 et 3), on remarque que le gain \u00e0 la mise en couple est sup\u00e9rieur pour les individus 1 et 4, o\u00f9 l'un des membres du m\u00e9nage ne travaille pas. Le gain \u00e0 la mise en couple pour les personnes travaillant toutes les deux est en revanche n\u00e9gatif. Il y aurait donc une incitation pour l'un des membres du m\u00e9nage \u00e0 ne pas travailler."
     ]
    },
    {
     "cell_type": "markdown",
     "metadata": {},
     "source": [
      "Tentons d'expliquer ces r\u00e9sultats par les diff\u00e9rences en termes d'imp\u00f4ts, de RSA et de salaire."
     ]
    },
    {
     "cell_type": "heading",
     "level": 4,
     "metadata": {},
     "source": [
      "En termes d'imp\u00f4ts"
     ]
    },
    {
     "cell_type": "code",
     "collapsed": false,
     "input": [
      "impots_1 = simulation_1.calculate('impo', period = \"2014\")\n",
      "impots_2 = simulation_2.calculate('impo', period = \"2014\")\n",
      "impots_1_et_2 = simulation_1_et_2.calculate('impo', period = periods.period(\"year\", \"2014\"))\n",
      "diff_impots_1_et_2 = impots_1_et_2 - impots_1 - impots_2\n",
      "print diff_impots_1_et_2"
     ],
     "language": "python",
     "metadata": {},
     "outputs": [
      {
       "output_type": "stream",
       "stream": "stdout",
       "text": [
        "[-0.00097656]\n"
       ]
      }
     ],
     "prompt_number": 62
    },
    {
     "cell_type": "code",
     "collapsed": false,
     "input": [
      "impots_3 = simulation_3.calculate('impo', period = \"2014\")\n",
      "impots_4 = simulation_4.calculate('impo', period = \"2014\")\n",
      "impots_3_et_4 = simulation_3_et_4.calculate('impo', period = \"2014\")\n",
      "diff_impots_3_et_4 = impots_3_et_4 - impots_3 - impots_4\n",
      "print diff_impots_3_et_4"
     ],
     "language": "python",
     "metadata": {},
     "outputs": [
      {
       "output_type": "stream",
       "stream": "stdout",
       "text": [
        "[ 1163.40002441]\n"
       ]
      }
     ],
     "prompt_number": 63
    },
    {
     "cell_type": "markdown",
     "metadata": {},
     "source": [
      "En se mettant en couple, les individus les plus riches paient tr\u00e8s l\u00e9g\u00e8rement moins d'imp\u00f4ts. En revanche, l'imp\u00f4t pay\u00e9 par les deux plus pauvres est sup\u00e9rieur \u00e0 la somme des imp\u00f4ts que chacun paierait isol\u00e9ment. Ceci contribue \u00e0 expliquer les \u00e9carts de revenus disponibles entre ces deux couples, notamment l'importante perte \u00e0 la mise en couple des individus 3 et 4."
     ]
    },
    {
     "cell_type": "code",
     "collapsed": false,
     "input": [
      "impots_1 = simulation_1.calculate('impo', period = \"2014\")\n",
      "impots_4 = simulation_4.calculate('impo', period = \"2014\")\n",
      "impots_1_et_4 = simulation_1_et_4.calculate('impo', period = \"2014\")\n",
      "diff_impots_1_et_4 = impots_1_et_4 - impots_1 - impots_4\n",
      "print diff_impots_1_et_4"
     ],
     "language": "python",
     "metadata": {},
     "outputs": [
      {
       "output_type": "stream",
       "stream": "stdout",
       "text": [
        "[ 7645.90039062]\n"
       ]
      }
     ],
     "prompt_number": 64
    },
    {
     "cell_type": "code",
     "collapsed": false,
     "input": [
      "impots_3 = simulation_3.calculate('impo', period = \"2014\")\n",
      "impots_2 = simulation_2.calculate('impo', period = \"2014\")\n",
      "impots_2_et_3 = simulation_2_et_3.calculate('impo', period = \"2014\")\n",
      "diff_impots_2_et_3 = impots_2_et_3 - impots_2 - impots_3\n",
      "print diff_impots_2_et_3"
     ],
     "language": "python",
     "metadata": {},
     "outputs": [
      {
       "output_type": "stream",
       "stream": "stdout",
       "text": [
        "[ 1429.29943848]\n"
       ]
      }
     ],
     "prompt_number": 65
    },
    {
     "cell_type": "markdown",
     "metadata": {},
     "source": [
      "La hausse du niveau d'imp\u00f4ts li\u00e9e \u00e0 la mise en couple est sup\u00e9rieure pour le couple compos\u00e9 du plus riche et du plus pauvre, o\u00f9 un individu ne travaille pas. On peut dire qu'un tel syst\u00e8me de l'imp\u00f4t pourrait favoriser l'homogamie en d\u00e9courageant la mise en couple des plus ais\u00e9s avec les plus pauvres."
     ]
    },
    {
     "cell_type": "heading",
     "level": 4,
     "metadata": {},
     "source": [
      "En termes de RSA"
     ]
    },
    {
     "cell_type": "code",
     "collapsed": false,
     "input": [
      "rsa_1 = simulation_1.calculate('rsa', period = \"2014\")\n",
      "rsa_2 = simulation_2.calculate('rsa', period = \"2014\")\n",
      "rsa_1_et_2 = simulation_1_et_2.calculate('rsa', period = \"2014\")\n",
      "diff_rsa_1_et_2 = rsa_1_et_2 - rsa_1 - rsa_2\n",
      "print diff_rsa_1_et_2"
     ],
     "language": "python",
     "metadata": {},
     "outputs": [
      {
       "output_type": "stream",
       "stream": "stdout",
       "text": [
        "[-3015.83886719]\n"
       ]
      }
     ],
     "prompt_number": 66
    },
    {
     "cell_type": "code",
     "collapsed": false,
     "input": [
      "rsa_3 = simulation_3.calculate('rsa', period = \"2014\")\n",
      "rsa_4 = simulation_4.calculate('rsa', period = \"2014\")\n",
      "rsa_3_et_4 = simulation_3_et_4.calculate('rsa', period = \"2014\")\n",
      "diff_rsa_3_et_4 = rsa_3_et_4 - rsa_3 - rsa_4\n",
      "print diff_rsa_3_et_4"
     ],
     "language": "python",
     "metadata": {},
     "outputs": [
      {
       "output_type": "stream",
       "stream": "stdout",
       "text": [
        "[-3015.83886719]\n"
       ]
      }
     ],
     "prompt_number": 67
    },
    {
     "cell_type": "code",
     "collapsed": false,
     "input": [
      "rsa_1 = simulation_1.calculate('rsa', period = periods.period(\"year\", \"2014\"))\n",
      "rsa_4 = simulation_4.calculate('rsa', period = periods.period(\"year\", \"2014\"))\n",
      "rsa_1_et_4 = simulation_1_et_4.calculate('rsa', period = periods.period(\"year\", \"2014\"))\n",
      "diff_rsa_1_et_4 = rsa_1_et_4 - rsa_1 - rsa_4\n",
      "print diff_rsa_1_et_4"
     ],
     "language": "python",
     "metadata": {},
     "outputs": [
      {
       "output_type": "stream",
       "stream": "stdout",
       "text": [
        "[-3015.83886719]\n"
       ]
      }
     ],
     "prompt_number": 83
    },
    {
     "cell_type": "code",
     "collapsed": false,
     "input": [
      "rsa_2 = simulation_2.calculate('rsa', period = \"2014\")\n",
      "rsa_3 = simulation_3.calculate('rsa', period = \"2014\")\n",
      "rsa_2_et_3 = simulation_2_et_3.calculate('rsa', period = \"2014\")\n",
      "diff_rsa_2_et_3 = rsa_2_et_3 - rsa_2 - rsa_3\n",
      "print diff_rsa_2_et_3"
     ],
     "language": "python",
     "metadata": {},
     "outputs": [
      {
       "output_type": "stream",
       "stream": "stdout",
       "text": [
        "[-3015.83886719]\n"
       ]
      }
     ],
     "prompt_number": 68
    },
    {
     "cell_type": "code",
     "collapsed": false,
     "input": [],
     "language": "python",
     "metadata": {},
     "outputs": []
    },
    {
     "cell_type": "markdown",
     "metadata": {},
     "source": [
      "La moindre perte \u00e0 la mise en couple pour les personnes plus ais\u00e9es s'explique donc essentiellement par l'imp\u00f4t, plus favorable \u00e0 la mise en couple des personnes ayant des revenus plus \u00e9lev\u00e9s."
     ]
    },
    {
     "cell_type": "markdown",
     "metadata": {},
     "source": [
      "En outre, en termes de revenu disponible, \u00e0 salaire global du m\u00e9nage \u00e9gal, le gain \u00e0 la mise en couple est plus \u00e9l\u00e9v\u00e9 pour le couple o\u00f9 l'un des conjoints ne travaille pas que pour le couple o\u00f9 les deux conjoints travaillent. Le syst\u00e8me fiscal inciterait donc \u00e0 la concentration des efforts de travail sur un seul membre du m\u00e9nage, d'o\u00f9 la revendication de certains pour une individualisation de la fiscalit\u00e9 qui permettrait une ind\u00e9pendance entre les choix familiaux et la fiscalit\u00e9, notamment en termes de travail des femmes. Cependant, ni l'imp\u00f4t sur le revenu ni le RSA n'expliquent ce ph\u00e9nom\u00e8ne. "
     ]
    },
    {
     "cell_type": "markdown",
     "metadata": {},
     "source": [
      "Graphique r\u00e9capitulatif"
     ]
    },
    {
     "cell_type": "code",
     "collapsed": false,
     "input": [
      "fig = plt.figure()\n",
      "plt.plot(, gain_revenu_dispo_1_et_2, label = u\"Les plus riches entre eux\")\n",
      "plt.plot(, gain_revenu_dispo_3_et_4, label = u\"Les plus pauvres entre eux\")\n",
      "plt.plot(, gain_revenu_dispo_1_et_4, label = u\"Les extr\u00eames entre eux\")\n",
      "plt.plot(, gain_revenu_dispo_2_et_3, label = u\"Les cas interm\u00e9diaires entre eux\")\n",
      "plt.legend(loc = 4, shadow=True, fancybox=True)"
     ],
     "language": "python",
     "metadata": {},
     "outputs": [
      {
       "ename": "ValueError",
       "evalue": "could not convert string to float: revdisp",
       "output_type": "pyerr",
       "traceback": [
        "\u001b[0;31m---------------------------------------------------------------------------\u001b[0m\n\u001b[0;31mValueError\u001b[0m                                Traceback (most recent call last)",
        "\u001b[0;32m<ipython-input-84-a471d64c0888>\u001b[0m in \u001b[0;36m<module>\u001b[0;34m()\u001b[0m\n\u001b[1;32m      1\u001b[0m \u001b[0mfig\u001b[0m \u001b[0;34m=\u001b[0m \u001b[0mplt\u001b[0m\u001b[0;34m.\u001b[0m\u001b[0mfigure\u001b[0m\u001b[0;34m(\u001b[0m\u001b[0;34m)\u001b[0m\u001b[0;34m\u001b[0m\u001b[0m\n\u001b[0;32m----> 2\u001b[0;31m \u001b[0mplt\u001b[0m\u001b[0;34m.\u001b[0m\u001b[0mplot\u001b[0m\u001b[0;34m(\u001b[0m\u001b[0;34m'revdisp'\u001b[0m\u001b[0;34m,\u001b[0m \u001b[0mgain_revenu_dispo_1_et_2\u001b[0m\u001b[0;34m,\u001b[0m \u001b[0mlabel\u001b[0m \u001b[0;34m=\u001b[0m \u001b[0;34mu\"Les plus riches entre eux\"\u001b[0m\u001b[0;34m)\u001b[0m\u001b[0;34m\u001b[0m\u001b[0m\n\u001b[0m\u001b[1;32m      3\u001b[0m \u001b[0mplt\u001b[0m\u001b[0;34m.\u001b[0m\u001b[0mplot\u001b[0m\u001b[0;34m(\u001b[0m\u001b[0;34m'revdisp'\u001b[0m\u001b[0;34m,\u001b[0m \u001b[0mgain_revenu_dispo_3_et_4\u001b[0m\u001b[0;34m,\u001b[0m \u001b[0mlabel\u001b[0m \u001b[0;34m=\u001b[0m \u001b[0;34mu\"Les plus pauvres entre eux\"\u001b[0m\u001b[0;34m)\u001b[0m\u001b[0;34m\u001b[0m\u001b[0m\n\u001b[1;32m      4\u001b[0m \u001b[0mplt\u001b[0m\u001b[0;34m.\u001b[0m\u001b[0mplot\u001b[0m\u001b[0;34m(\u001b[0m\u001b[0;34m'revdisp'\u001b[0m\u001b[0;34m,\u001b[0m \u001b[0mgain_revenu_dispo_1_et_4\u001b[0m\u001b[0;34m,\u001b[0m \u001b[0mlabel\u001b[0m \u001b[0;34m=\u001b[0m \u001b[0;34mu\"Les extr\u00eames entre eux\"\u001b[0m\u001b[0;34m)\u001b[0m\u001b[0;34m\u001b[0m\u001b[0m\n\u001b[1;32m      5\u001b[0m \u001b[0mplt\u001b[0m\u001b[0;34m.\u001b[0m\u001b[0mplot\u001b[0m\u001b[0;34m(\u001b[0m\u001b[0;34m'revdisp'\u001b[0m\u001b[0;34m,\u001b[0m \u001b[0mgain_revenu_dispo_2_et_3\u001b[0m\u001b[0;34m,\u001b[0m \u001b[0mlabel\u001b[0m \u001b[0;34m=\u001b[0m \u001b[0;34mu\"Les cas interm\u00e9diaires entre eux\"\u001b[0m\u001b[0;34m)\u001b[0m\u001b[0;34m\u001b[0m\u001b[0m\n",
        "\u001b[0;32m/usr/lib/pymodules/python2.7/matplotlib/pyplot.pyc\u001b[0m in \u001b[0;36mplot\u001b[0;34m(*args, **kwargs)\u001b[0m\n\u001b[1;32m   2985\u001b[0m         \u001b[0max\u001b[0m\u001b[0;34m.\u001b[0m\u001b[0mhold\u001b[0m\u001b[0;34m(\u001b[0m\u001b[0mhold\u001b[0m\u001b[0;34m)\u001b[0m\u001b[0;34m\u001b[0m\u001b[0m\n\u001b[1;32m   2986\u001b[0m     \u001b[0;32mtry\u001b[0m\u001b[0;34m:\u001b[0m\u001b[0;34m\u001b[0m\u001b[0m\n\u001b[0;32m-> 2987\u001b[0;31m         \u001b[0mret\u001b[0m \u001b[0;34m=\u001b[0m \u001b[0max\u001b[0m\u001b[0;34m.\u001b[0m\u001b[0mplot\u001b[0m\u001b[0;34m(\u001b[0m\u001b[0;34m*\u001b[0m\u001b[0margs\u001b[0m\u001b[0;34m,\u001b[0m \u001b[0;34m**\u001b[0m\u001b[0mkwargs\u001b[0m\u001b[0;34m)\u001b[0m\u001b[0;34m\u001b[0m\u001b[0m\n\u001b[0m\u001b[1;32m   2988\u001b[0m         \u001b[0mdraw_if_interactive\u001b[0m\u001b[0;34m(\u001b[0m\u001b[0;34m)\u001b[0m\u001b[0;34m\u001b[0m\u001b[0m\n\u001b[1;32m   2989\u001b[0m     \u001b[0;32mfinally\u001b[0m\u001b[0;34m:\u001b[0m\u001b[0;34m\u001b[0m\u001b[0m\n",
        "\u001b[0;32m/usr/lib/pymodules/python2.7/matplotlib/axes.pyc\u001b[0m in \u001b[0;36mplot\u001b[0;34m(self, *args, **kwargs)\u001b[0m\n\u001b[1;32m   4136\u001b[0m \u001b[0;34m\u001b[0m\u001b[0m\n\u001b[1;32m   4137\u001b[0m         \u001b[0;32mfor\u001b[0m \u001b[0mline\u001b[0m \u001b[0;32min\u001b[0m \u001b[0mself\u001b[0m\u001b[0;34m.\u001b[0m\u001b[0m_get_lines\u001b[0m\u001b[0;34m(\u001b[0m\u001b[0;34m*\u001b[0m\u001b[0margs\u001b[0m\u001b[0;34m,\u001b[0m \u001b[0;34m**\u001b[0m\u001b[0mkwargs\u001b[0m\u001b[0;34m)\u001b[0m\u001b[0;34m:\u001b[0m\u001b[0;34m\u001b[0m\u001b[0m\n\u001b[0;32m-> 4138\u001b[0;31m             \u001b[0mself\u001b[0m\u001b[0;34m.\u001b[0m\u001b[0madd_line\u001b[0m\u001b[0;34m(\u001b[0m\u001b[0mline\u001b[0m\u001b[0;34m)\u001b[0m\u001b[0;34m\u001b[0m\u001b[0m\n\u001b[0m\u001b[1;32m   4139\u001b[0m             \u001b[0mlines\u001b[0m\u001b[0;34m.\u001b[0m\u001b[0mappend\u001b[0m\u001b[0;34m(\u001b[0m\u001b[0mline\u001b[0m\u001b[0;34m)\u001b[0m\u001b[0;34m\u001b[0m\u001b[0m\n\u001b[1;32m   4140\u001b[0m \u001b[0;34m\u001b[0m\u001b[0m\n",
        "\u001b[0;32m/usr/lib/pymodules/python2.7/matplotlib/axes.pyc\u001b[0m in \u001b[0;36madd_line\u001b[0;34m(self, line)\u001b[0m\n\u001b[1;32m   1495\u001b[0m             \u001b[0mline\u001b[0m\u001b[0;34m.\u001b[0m\u001b[0mset_clip_path\u001b[0m\u001b[0;34m(\u001b[0m\u001b[0mself\u001b[0m\u001b[0;34m.\u001b[0m\u001b[0mpatch\u001b[0m\u001b[0;34m)\u001b[0m\u001b[0;34m\u001b[0m\u001b[0m\n\u001b[1;32m   1496\u001b[0m \u001b[0;34m\u001b[0m\u001b[0m\n\u001b[0;32m-> 1497\u001b[0;31m         \u001b[0mself\u001b[0m\u001b[0;34m.\u001b[0m\u001b[0m_update_line_limits\u001b[0m\u001b[0;34m(\u001b[0m\u001b[0mline\u001b[0m\u001b[0;34m)\u001b[0m\u001b[0;34m\u001b[0m\u001b[0m\n\u001b[0m\u001b[1;32m   1498\u001b[0m         \u001b[0;32mif\u001b[0m \u001b[0;32mnot\u001b[0m \u001b[0mline\u001b[0m\u001b[0;34m.\u001b[0m\u001b[0mget_label\u001b[0m\u001b[0;34m(\u001b[0m\u001b[0;34m)\u001b[0m\u001b[0;34m:\u001b[0m\u001b[0;34m\u001b[0m\u001b[0m\n\u001b[1;32m   1499\u001b[0m             \u001b[0mline\u001b[0m\u001b[0;34m.\u001b[0m\u001b[0mset_label\u001b[0m\u001b[0;34m(\u001b[0m\u001b[0;34m'_line%d'\u001b[0m \u001b[0;34m%\u001b[0m \u001b[0mlen\u001b[0m\u001b[0;34m(\u001b[0m\u001b[0mself\u001b[0m\u001b[0;34m.\u001b[0m\u001b[0mlines\u001b[0m\u001b[0;34m)\u001b[0m\u001b[0;34m)\u001b[0m\u001b[0;34m\u001b[0m\u001b[0m\n",
        "\u001b[0;32m/usr/lib/pymodules/python2.7/matplotlib/axes.pyc\u001b[0m in \u001b[0;36m_update_line_limits\u001b[0;34m(self, line)\u001b[0m\n\u001b[1;32m   1506\u001b[0m         \u001b[0mFigures\u001b[0m \u001b[0mout\u001b[0m \u001b[0mthe\u001b[0m \u001b[0mdata\u001b[0m \u001b[0mlimit\u001b[0m \u001b[0mof\u001b[0m \u001b[0mthe\u001b[0m \u001b[0mgiven\u001b[0m \u001b[0mline\u001b[0m\u001b[0;34m,\u001b[0m \u001b[0mupdating\u001b[0m \u001b[0mself\u001b[0m\u001b[0;34m.\u001b[0m\u001b[0mdataLim\u001b[0m\u001b[0;34m.\u001b[0m\u001b[0;34m\u001b[0m\u001b[0m\n\u001b[1;32m   1507\u001b[0m         \"\"\"\n\u001b[0;32m-> 1508\u001b[0;31m         \u001b[0mpath\u001b[0m \u001b[0;34m=\u001b[0m \u001b[0mline\u001b[0m\u001b[0;34m.\u001b[0m\u001b[0mget_path\u001b[0m\u001b[0;34m(\u001b[0m\u001b[0;34m)\u001b[0m\u001b[0;34m\u001b[0m\u001b[0m\n\u001b[0m\u001b[1;32m   1509\u001b[0m         \u001b[0;32mif\u001b[0m \u001b[0mpath\u001b[0m\u001b[0;34m.\u001b[0m\u001b[0mvertices\u001b[0m\u001b[0;34m.\u001b[0m\u001b[0msize\u001b[0m \u001b[0;34m==\u001b[0m \u001b[0;36m0\u001b[0m\u001b[0;34m:\u001b[0m\u001b[0;34m\u001b[0m\u001b[0m\n\u001b[1;32m   1510\u001b[0m             \u001b[0;32mreturn\u001b[0m\u001b[0;34m\u001b[0m\u001b[0m\n",
        "\u001b[0;32m/usr/lib/pymodules/python2.7/matplotlib/lines.pyc\u001b[0m in \u001b[0;36mget_path\u001b[0;34m(self)\u001b[0m\n\u001b[1;32m    741\u001b[0m         \"\"\"\n\u001b[1;32m    742\u001b[0m         \u001b[0;32mif\u001b[0m \u001b[0mself\u001b[0m\u001b[0;34m.\u001b[0m\u001b[0m_invalidy\u001b[0m \u001b[0;32mor\u001b[0m \u001b[0mself\u001b[0m\u001b[0;34m.\u001b[0m\u001b[0m_invalidx\u001b[0m\u001b[0;34m:\u001b[0m\u001b[0;34m\u001b[0m\u001b[0m\n\u001b[0;32m--> 743\u001b[0;31m             \u001b[0mself\u001b[0m\u001b[0;34m.\u001b[0m\u001b[0mrecache\u001b[0m\u001b[0;34m(\u001b[0m\u001b[0;34m)\u001b[0m\u001b[0;34m\u001b[0m\u001b[0m\n\u001b[0m\u001b[1;32m    744\u001b[0m         \u001b[0;32mreturn\u001b[0m \u001b[0mself\u001b[0m\u001b[0;34m.\u001b[0m\u001b[0m_path\u001b[0m\u001b[0;34m\u001b[0m\u001b[0m\n\u001b[1;32m    745\u001b[0m \u001b[0;34m\u001b[0m\u001b[0m\n",
        "\u001b[0;32m/usr/lib/pymodules/python2.7/matplotlib/lines.pyc\u001b[0m in \u001b[0;36mrecache\u001b[0;34m(self, always)\u001b[0m\n\u001b[1;32m    418\u001b[0m                 \u001b[0mx\u001b[0m \u001b[0;34m=\u001b[0m \u001b[0mma\u001b[0m\u001b[0;34m.\u001b[0m\u001b[0masarray\u001b[0m\u001b[0;34m(\u001b[0m\u001b[0mxconv\u001b[0m\u001b[0;34m,\u001b[0m \u001b[0mnp\u001b[0m\u001b[0;34m.\u001b[0m\u001b[0mfloat_\u001b[0m\u001b[0;34m)\u001b[0m\u001b[0;34m\u001b[0m\u001b[0m\n\u001b[1;32m    419\u001b[0m             \u001b[0;32melse\u001b[0m\u001b[0;34m:\u001b[0m\u001b[0;34m\u001b[0m\u001b[0m\n\u001b[0;32m--> 420\u001b[0;31m                 \u001b[0mx\u001b[0m \u001b[0;34m=\u001b[0m \u001b[0mnp\u001b[0m\u001b[0;34m.\u001b[0m\u001b[0masarray\u001b[0m\u001b[0;34m(\u001b[0m\u001b[0mxconv\u001b[0m\u001b[0;34m,\u001b[0m \u001b[0mnp\u001b[0m\u001b[0;34m.\u001b[0m\u001b[0mfloat_\u001b[0m\u001b[0;34m)\u001b[0m\u001b[0;34m\u001b[0m\u001b[0m\n\u001b[0m\u001b[1;32m    421\u001b[0m             \u001b[0mx\u001b[0m \u001b[0;34m=\u001b[0m \u001b[0mx\u001b[0m\u001b[0;34m.\u001b[0m\u001b[0mravel\u001b[0m\u001b[0;34m(\u001b[0m\u001b[0;34m)\u001b[0m\u001b[0;34m\u001b[0m\u001b[0m\n\u001b[1;32m    422\u001b[0m         \u001b[0;32melse\u001b[0m\u001b[0;34m:\u001b[0m\u001b[0;34m\u001b[0m\u001b[0m\n",
        "\u001b[0;32m/usr/lib/python2.7/dist-packages/numpy/core/numeric.pyc\u001b[0m in \u001b[0;36masarray\u001b[0;34m(a, dtype, order)\u001b[0m\n\u001b[1;32m    458\u001b[0m \u001b[0;34m\u001b[0m\u001b[0m\n\u001b[1;32m    459\u001b[0m     \"\"\"\n\u001b[0;32m--> 460\u001b[0;31m     \u001b[0;32mreturn\u001b[0m \u001b[0marray\u001b[0m\u001b[0;34m(\u001b[0m\u001b[0ma\u001b[0m\u001b[0;34m,\u001b[0m \u001b[0mdtype\u001b[0m\u001b[0;34m,\u001b[0m \u001b[0mcopy\u001b[0m\u001b[0;34m=\u001b[0m\u001b[0mFalse\u001b[0m\u001b[0;34m,\u001b[0m \u001b[0morder\u001b[0m\u001b[0;34m=\u001b[0m\u001b[0morder\u001b[0m\u001b[0;34m)\u001b[0m\u001b[0;34m\u001b[0m\u001b[0m\n\u001b[0m\u001b[1;32m    461\u001b[0m \u001b[0;34m\u001b[0m\u001b[0m\n\u001b[1;32m    462\u001b[0m \u001b[0;32mdef\u001b[0m \u001b[0masanyarray\u001b[0m\u001b[0;34m(\u001b[0m\u001b[0ma\u001b[0m\u001b[0;34m,\u001b[0m \u001b[0mdtype\u001b[0m\u001b[0;34m=\u001b[0m\u001b[0mNone\u001b[0m\u001b[0;34m,\u001b[0m \u001b[0morder\u001b[0m\u001b[0;34m=\u001b[0m\u001b[0mNone\u001b[0m\u001b[0;34m)\u001b[0m\u001b[0;34m:\u001b[0m\u001b[0;34m\u001b[0m\u001b[0m\n",
        "\u001b[0;31mValueError\u001b[0m: could not convert string to float: revdisp"
       ]
      },
      {
       "metadata": {},
       "output_type": "display_data",
       "png": "[encoded data removed]",
       "text": [
        "<matplotlib.figure.Figure at 0x7f58e9751590>"
       ]
      }
     ],
     "prompt_number": 84
    },
    {
     "cell_type": "code",
     "collapsed": false,
     "input": [
      "print revenu_dispo_1_et_2.shape\n",
      "print gain_revenu_dispo_1_et_2.shape"
     ],
     "language": "python",
     "metadata": {},
     "outputs": [
      {
       "output_type": "stream",
       "stream": "stdout",
       "text": [
        "(1,)\n",
        "(1,)\n"
       ]
      }
     ],
     "prompt_number": 86
    },
    {
     "cell_type": "code",
     "collapsed": false,
     "input": [
      "fig = plt.figure()\n",
      "plt.plot(revenu_dispo_1_et_2, gain_revenu_dispo_1_et_2, label = u\"Les plus riches entre eux\")\n",
      "plt.plot(revenu_dispo_3_et_4, gain_revenu_dispo_3_et_4, label = u\"Les plus pauvres entre eux\")\n",
      "plt.legend(loc = 4, shadow=True, fancybox=True)"
     ],
     "language": "python",
     "metadata": {},
     "outputs": [
      {
       "metadata": {},
       "output_type": "pyout",
       "prompt_number": 88,
       "text": [
        "<matplotlib.legend.Legend at 0x7f58e95eb3d0>"
       ]
      },
      {
       "metadata": {},
       "output_type": "display_data",
       "png": "[encoded data removed]",
       "text": [
        "<matplotlib.figure.Figure at 0x7f58e965c350>"
       ]
      }
     ],
     "prompt_number": 88
    },
    {
     "cell_type": "code",
     "collapsed": false,
     "input": [
      "fig = plt.figure()\n",
      "plt.plot( ,gain_revenu_dispo_1_et_2, label = u\"Les plus riches entre eux\")\n",
      "plt.plot( ,gain_revenu_dispo_3_et_4, label = u\"Les plus pauvres entre eux\")\n",
      "plt.legend(loc = 4, shadow=True, fancybox=True)"
     ],
     "language": "python",
     "metadata": {},
     "outputs": [
      {
       "metadata": {},
       "output_type": "pyout",
       "prompt_number": 90,
       "text": [
        "<matplotlib.legend.Legend at 0x7f58e95a6c50>"
       ]
      },
      {
       "metadata": {},
       "output_type": "display_data",
       "png": "[encoded data removed]",
       "text": [
        "<matplotlib.figure.Figure at 0x7f58e9802bd0>"
       ]
      }
     ],
     "prompt_number": 90
    },
    {
     "cell_type": "code",
     "collapsed": false,
     "input": [],
     "language": "python",
     "metadata": {},
     "outputs": [],
     "prompt_number": 44
    },
    {
     "cell_type": "raw",
     "metadata": {},
     "source": []
    },
    {
     "cell_type": "markdown",
     "metadata": {},
     "source": [
      "*** Essais avec autres \u00e9l\u00e9ments du RD"
     ]
    }
   ],
   "metadata": {}
  }
 ]
}