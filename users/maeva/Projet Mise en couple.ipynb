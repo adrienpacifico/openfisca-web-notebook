{
 "metadata": {
  "name": "",
  "signature": "sha256:04aa1917fbb703edd078e4338c741561e754de748e7feb88bac211e57c8ae452"
 },
 "nbformat": 3,
 "nbformat_minor": 0,
 "worksheets": [
  {
   "cells": [
    {
     "cell_type": "markdown",
     "metadata": {},
     "source": [
      "1- 4 individus avec niveaux de revenus du travail diff\u00e9rents : Individu 1 : 100 000\u20ac Individu 2 : 80 000\u20ac Individu 3 : 20 000\u20ac Individu 4 : 0\u20ac -> Calcul de leur revenu dispo individuel\n",
      "\n",
      "2- Mettre ensemble les 2 avec plus hauts revenus, ensemble les 2 avec faibles revenus. -> Calculer pour chaque couple le revenu dispo, comparer avec la somme de leurs RD lorsqu'ils sont seuls\n",
      "\n",
      "3- M\u00eame chose avec une autre composition des couples : le plus ais\u00e9 avec la personne ne travaillant pas, les 2 autres ensembles, le revenu du travail du 1er couple doit \u00eatre \u00e9gal \u00e0 celui du 2e couple -> On compare avec les RD individuels et les couples entre eux, \u00e0 revenu du m\u00e9nage \u00e9gal, les individus ont ils plut\u00f4t int\u00e9ret \u00e0 travailler tous les deux ou y a t il incitation \u00e0 ne pas travailler pour l'un des membre du m\u00e9nage ?"
     ]
    },
    {
     "cell_type": "code",
     "collapsed": false,
     "input": [
      "%matplotlib inline\n",
      "import matplotlib.pyplot as plt\n",
      "from openfisca_matplotlib import graphs\n",
      "from openfisca_core import periods"
     ],
     "language": "python",
     "metadata": {},
     "outputs": [],
     "prompt_number": 1
    },
    {
     "cell_type": "code",
     "collapsed": false,
     "input": [
      "from datetime import date  \n",
      "import openfisca_france   \n",
      "\n",
      "TaxBenefitSystem = openfisca_france.init_country()  \n",
      "tax_benefit_system = TaxBenefitSystem()  "
     ],
     "language": "python",
     "metadata": {},
     "outputs": [],
     "prompt_number": 2
    },
    {
     "cell_type": "heading",
     "level": 3,
     "metadata": {},
     "source": [
      "Cr\u00e9ation de fonctions pour les individus seuls et les couples"
     ]
    },
    {
     "cell_type": "code",
     "collapsed": false,
     "input": [
      "def create_celibataire(sal = 0):  #\u00a0salaire_imposable mis \u00e0 z\u00e9ro par d\u00e9faut\n",
      "    #\u00a0Corps de la fonction \u00e0 remplir ...\n",
      "    simulation = tax_benefit_system.new_scenario().init_single_entity(\n",
      "    period = \"2014\", \n",
      "    parent1 = dict(\n",
      "        birth = date(1980, 1, 1),\n",
      "        sal = {\n",
      "            \"2012\": sal, #\u00a0modification\n",
      "            \"2013\": sal, #\u00a0modification\n",
      "            \"2014\": sal, #\u00a0modification\n",
      "            },\n",
      "        )\n",
      "    ).new_simulation(debug = True)\n",
      "    return simulation\n",
      "# Pour pouvoir ex\u00e9cuter\n",
      "simulation1 = create_celibataire(sal = 100000)\n",
      "simulation2 = create_celibataire(sal = 80000)\n",
      "simulation3 = create_celibataire(sal = 20000)\n",
      "simulation4 = create_celibataire(sal = 0)"
     ],
     "language": "python",
     "metadata": {},
     "outputs": [],
     "prompt_number": 3
    },
    {
     "cell_type": "code",
     "collapsed": false,
     "input": [
      "def create_couple(sal1 = 0, sal2 = 0):  #\u00a0salaire_imposable mis \u00e0 z\u00e9ro par d\u00e9faut pour les deux membres du couple\n",
      "    #\u00a0Corps de la fonction \u00e0 remplir ...\n",
      "    simulation = tax_benefit_system.new_scenario().init_single_entity(\n",
      "    period = \"2014\",\n",
      "    parent1 = dict(\n",
      "        birth = date(1980, 1, 1),\n",
      "        sal = {\n",
      "            \"2012\": sal1, #\u00a0modification\n",
      "            \"2013\": sal1, #\u00a0modification\n",
      "            \"2014\": sal1, #\u00a0modification  \n",
      "            },\n",
      "        statmarit = 1, \n",
      "        ),\n",
      "    parent2 = dict(\n",
      "        birth = date(1980, 1, 1),\n",
      "        sal = {\n",
      "            \"2012\": sal2, #\u00a0modification\n",
      "            \"2013\": sal2, #\u00a0modification\n",
      "            \"2014\": sal2, #\u00a0modification \n",
      "            },\n",
      "        statmarit = 1, \n",
      "    )\n",
      "    \n",
      "    ).new_simulation(debug = True)\n",
      "    return simulation\n",
      "# Pour pouvoir ex\u00e9cuter\n",
      "simulation_1_et_2 = create_couple(sal1 = 100000, sal2 = 80000)\n",
      "simulation_3_et_4 = create_couple(sal1 = 20000, sal2 = 0)\n",
      "simulation_2_et_3 = create_couple(sal1 = 20000, sal2 = 80000)\n",
      "simulation_1_et_4 = create_couple(sal1 = 100000, sal2 = 0)"
     ],
     "language": "python",
     "metadata": {},
     "outputs": [],
     "prompt_number": 4
    },
    {
     "cell_type": "heading",
     "level": 3,
     "metadata": {},
     "source": [
      "Cr\u00e9ation d'un dictionnaire de variables pour chaque cas (seul ou couple)"
     ]
    },
    {
     "cell_type": "code",
     "collapsed": false,
     "input": [
      "liste_variables = list()"
     ],
     "language": "python",
     "metadata": {},
     "outputs": [],
     "prompt_number": 5
    },
    {
     "cell_type": "code",
     "collapsed": false,
     "input": [
      "def calculate_variables(variables, simulation):\n",
      "    amount_by_variable = dict()\n",
      "    for variable in variables:\n",
      "        amount_by_variable[variable] = simulation.calculate(variable, 2014)\n",
      "    return amount_by_variable"
     ],
     "language": "python",
     "metadata": {},
     "outputs": [],
     "prompt_number": 6
    },
    {
     "cell_type": "code",
     "collapsed": false,
     "input": [
      "calculate_variables([\"revdisp\", \"impo\", \"sal\",\"rsa\"], simulation1)"
     ],
     "language": "python",
     "metadata": {},
     "outputs": [
      {
       "metadata": {},
       "output_type": "pyout",
       "prompt_number": 7,
       "text": [
        "{'impo': array([-23368.22070312], dtype=float32),\n",
        " 'revdisp': array([ 82815.9140625], dtype=float32),\n",
        " 'rsa': array([ 6031.6796875], dtype=float32),\n",
        " 'sal': array([ 100000.], dtype=float32)}"
       ]
      }
     ],
     "prompt_number": 7
    },
    {
     "cell_type": "heading",
     "level": 3,
     "metadata": {},
     "source": [
      "Cr\u00e9ation d'une liste de configurations"
     ]
    },
    {
     "cell_type": "code",
     "collapsed": false,
     "input": [
      "liste_configurations = list()"
     ],
     "language": "python",
     "metadata": {},
     "outputs": [],
     "prompt_number": 8
    },
    {
     "cell_type": "code",
     "collapsed": false,
     "input": [
      "liste_configurations = [simulation1, simulation2, simulation3, simulation4, simulation_1_et_2,simulation_2_et_3,simulation_1_et_4,simulation_2_et_3]\n"
     ],
     "language": "python",
     "metadata": {},
     "outputs": [],
     "prompt_number": 9
    },
    {
     "cell_type": "heading",
     "level": 4,
     "metadata": {},
     "source": [
      "Essai dico (config menage, variables)"
     ]
    },
    {
     "cell_type": "code",
     "collapsed": false,
     "input": [
      "def compute_variables_by_config(variables, simulation):\n",
      "    amount_by_variable_by_config = dict()\n",
      "    for amount_by_variable in variables:\n",
      "        amount_by_variable_by_config[amount_by_variable] = liste_configurations\n",
      "    return amount_by_variable_by_config"
     ],
     "language": "python",
     "metadata": {},
     "outputs": [],
     "prompt_number": 21
    },
    {
     "cell_type": "code",
     "collapsed": false,
     "input": [
      "compute_variables_by_config([\"revdisp\", \"impo\", \"sal\",\"rsa\"],[\"simulation1\", \"simulation2\", \"simulation3\", \"simulation4\", \"simulation_1_et_2\",\"simulation_2_et_3\",\"simulation_1_et_4\",\"simulation_2_et_3\"] )"
     ],
     "language": "python",
     "metadata": {},
     "outputs": [
      {
       "metadata": {},
       "output_type": "pyout",
       "prompt_number": 22,
       "text": [
        "{'impo': [<openfisca_core.simulations.Simulation at 0x7fbdb504c450>,\n",
        "  <openfisca_core.simulations.Simulation at 0x7fbdb38bafd0>,\n",
        "  <openfisca_core.simulations.Simulation at 0x7fbdb37f6050>,\n",
        "  <openfisca_core.simulations.Simulation at 0x7fbdb37e8950>,\n",
        "  <openfisca_core.simulations.Simulation at 0x7fbdb38ad210>,\n",
        "  <openfisca_core.simulations.Simulation at 0x7fbdb4a1b9d0>,\n",
        "  <openfisca_core.simulations.Simulation at 0x7fbdd7cc2690>,\n",
        "  <openfisca_core.simulations.Simulation at 0x7fbdb4a1b9d0>],\n",
        " 'revdisp': [<openfisca_core.simulations.Simulation at 0x7fbdb504c450>,\n",
        "  <openfisca_core.simulations.Simulation at 0x7fbdb38bafd0>,\n",
        "  <openfisca_core.simulations.Simulation at 0x7fbdb37f6050>,\n",
        "  <openfisca_core.simulations.Simulation at 0x7fbdb37e8950>,\n",
        "  <openfisca_core.simulations.Simulation at 0x7fbdb38ad210>,\n",
        "  <openfisca_core.simulations.Simulation at 0x7fbdb4a1b9d0>,\n",
        "  <openfisca_core.simulations.Simulation at 0x7fbdd7cc2690>,\n",
        "  <openfisca_core.simulations.Simulation at 0x7fbdb4a1b9d0>],\n",
        " 'rsa': [<openfisca_core.simulations.Simulation at 0x7fbdb504c450>,\n",
        "  <openfisca_core.simulations.Simulation at 0x7fbdb38bafd0>,\n",
        "  <openfisca_core.simulations.Simulation at 0x7fbdb37f6050>,\n",
        "  <openfisca_core.simulations.Simulation at 0x7fbdb37e8950>,\n",
        "  <openfisca_core.simulations.Simulation at 0x7fbdb38ad210>,\n",
        "  <openfisca_core.simulations.Simulation at 0x7fbdb4a1b9d0>,\n",
        "  <openfisca_core.simulations.Simulation at 0x7fbdd7cc2690>,\n",
        "  <openfisca_core.simulations.Simulation at 0x7fbdb4a1b9d0>],\n",
        " 'sal': [<openfisca_core.simulations.Simulation at 0x7fbdb504c450>,\n",
        "  <openfisca_core.simulations.Simulation at 0x7fbdb38bafd0>,\n",
        "  <openfisca_core.simulations.Simulation at 0x7fbdb37f6050>,\n",
        "  <openfisca_core.simulations.Simulation at 0x7fbdb37e8950>,\n",
        "  <openfisca_core.simulations.Simulation at 0x7fbdb38ad210>,\n",
        "  <openfisca_core.simulations.Simulation at 0x7fbdb4a1b9d0>,\n",
        "  <openfisca_core.simulations.Simulation at 0x7fbdd7cc2690>,\n",
        "  <openfisca_core.simulations.Simulation at 0x7fbdb4a1b9d0>]}"
       ]
      }
     ],
     "prompt_number": 22
    },
    {
     "cell_type": "heading",
     "level": 3,
     "metadata": {},
     "source": [
      "Cr\u00e9ation d'un dictionnaire avec pour cl\u00e9 la configuration et pour valeur les variables par simulation"
     ]
    },
    {
     "cell_type": "code",
     "collapsed": false,
     "input": [
      "def calculate_variables_by_configurations(liste_configurations, calculate_variables):\n",
      "    amount_by_variable_by_configuration = dict()\n",
      "    for liste_configurations in list:\n",
      "        amount_by_variable_by_configuration[liste_configurations] = calculate_variables"
     ],
     "language": "python",
     "metadata": {},
     "outputs": [],
     "prompt_number": 114
    },
    {
     "cell_type": "code",
     "collapsed": false,
     "input": [
      "calculate_variables_by_configurations(liste_configurations, calculate_variables)"
     ],
     "language": "python",
     "metadata": {},
     "outputs": [
      {
       "ename": "TypeError",
       "evalue": "'type' object is not iterable",
       "output_type": "pyerr",
       "traceback": [
        "\u001b[0;31m---------------------------------------------------------------------------\u001b[0m\n\u001b[0;31mTypeError\u001b[0m                                 Traceback (most recent call last)",
        "\u001b[0;32m<ipython-input-115-0380a9d17fa7>\u001b[0m in \u001b[0;36m<module>\u001b[0;34m()\u001b[0m\n\u001b[0;32m----> 1\u001b[0;31m \u001b[0mcalculate_variables_by_configurations\u001b[0m\u001b[0;34m(\u001b[0m\u001b[0mliste_configurations\u001b[0m\u001b[0;34m,\u001b[0m \u001b[0mcalculate_variables\u001b[0m\u001b[0;34m)\u001b[0m\u001b[0;34m\u001b[0m\u001b[0m\n\u001b[0m",
        "\u001b[0;32m<ipython-input-114-8ec4bd6e9ebc>\u001b[0m in \u001b[0;36mcalculate_variables_by_configurations\u001b[0;34m(liste_configurations, calculate_variables)\u001b[0m\n\u001b[1;32m      1\u001b[0m \u001b[0;32mdef\u001b[0m \u001b[0mcalculate_variables_by_configurations\u001b[0m\u001b[0;34m(\u001b[0m\u001b[0mliste_configurations\u001b[0m\u001b[0;34m,\u001b[0m \u001b[0mcalculate_variables\u001b[0m\u001b[0;34m)\u001b[0m\u001b[0;34m:\u001b[0m\u001b[0;34m\u001b[0m\u001b[0m\n\u001b[1;32m      2\u001b[0m     \u001b[0mamount_by_variable_by_configuration\u001b[0m \u001b[0;34m=\u001b[0m \u001b[0mdict\u001b[0m\u001b[0;34m(\u001b[0m\u001b[0;34m)\u001b[0m\u001b[0;34m\u001b[0m\u001b[0m\n\u001b[0;32m----> 3\u001b[0;31m     \u001b[0;32mfor\u001b[0m \u001b[0mliste_configurations\u001b[0m \u001b[0;32min\u001b[0m \u001b[0mlist\u001b[0m\u001b[0;34m:\u001b[0m\u001b[0;34m\u001b[0m\u001b[0m\n\u001b[0m\u001b[1;32m      4\u001b[0m         \u001b[0mamount_by_variable_by_configuration\u001b[0m\u001b[0;34m[\u001b[0m\u001b[0mliste_configurations\u001b[0m\u001b[0;34m]\u001b[0m \u001b[0;34m=\u001b[0m \u001b[0mcalculate_variables\u001b[0m\u001b[0;34m\u001b[0m\u001b[0m\n",
        "\u001b[0;31mTypeError\u001b[0m: 'type' object is not iterable"
       ]
      }
     ],
     "prompt_number": 115
    },
    {
     "cell_type": "markdown",
     "metadata": {},
     "source": [
      " 2e essai"
     ]
    },
    {
     "cell_type": "code",
     "collapsed": false,
     "input": [
      "for liste_configurations in liste_configurations:\n",
      "    print liste_configurations\n",
      "    dico_variables_by_configuration[liste_configurations] = amount_by_variable"
     ],
     "language": "python",
     "metadata": {},
     "outputs": [
      {
       "output_type": "stream",
       "stream": "stdout",
       "text": [
        "<openfisca_core.simulations.Simulation object at 0x7f9c8dfdbdd0>\n"
       ]
      },
      {
       "ename": "NameError",
       "evalue": "name 'amount_by_variable' is not defined",
       "output_type": "pyerr",
       "traceback": [
        "\u001b[0;31m---------------------------------------------------------------------------\u001b[0m\n\u001b[0;31mNameError\u001b[0m                                 Traceback (most recent call last)",
        "\u001b[0;32m<ipython-input-116-a1f51f29a214>\u001b[0m in \u001b[0;36m<module>\u001b[0;34m()\u001b[0m\n\u001b[1;32m      1\u001b[0m \u001b[0;32mfor\u001b[0m \u001b[0mliste_configurations\u001b[0m \u001b[0;32min\u001b[0m \u001b[0mliste_configurations\u001b[0m\u001b[0;34m:\u001b[0m\u001b[0;34m\u001b[0m\u001b[0m\n\u001b[1;32m      2\u001b[0m     \u001b[0;32mprint\u001b[0m \u001b[0mliste_configurations\u001b[0m\u001b[0;34m\u001b[0m\u001b[0m\n\u001b[0;32m----> 3\u001b[0;31m     \u001b[0mdico_variables_by_configuration\u001b[0m\u001b[0;34m[\u001b[0m\u001b[0mliste_configurations\u001b[0m\u001b[0;34m]\u001b[0m \u001b[0;34m=\u001b[0m \u001b[0mamount_by_variable\u001b[0m\u001b[0;34m\u001b[0m\u001b[0m\n\u001b[0m",
        "\u001b[0;31mNameError\u001b[0m: name 'amount_by_variable' is not defined"
       ]
      }
     ],
     "prompt_number": 116
    },
    {
     "cell_type": "heading",
     "level": 4,
     "metadata": {},
     "source": [
      "Manuellement, variables pour chaque individu isol\u00e9ment"
     ]
    },
    {
     "cell_type": "code",
     "collapsed": false,
     "input": [
      "calculate_variables([\"revdisp\", \"impo\", \"sal\",\"rsa\"], simulation1)\n",
      "   "
     ],
     "language": "python",
     "metadata": {},
     "outputs": [
      {
       "metadata": {},
       "output_type": "pyout",
       "prompt_number": 121,
       "text": [
        "{'impo': array([-23368.22070312], dtype=float32),\n",
        " 'revdisp': array([ 82815.9140625], dtype=float32),\n",
        " 'rsa': array([ 6031.6796875], dtype=float32),\n",
        " 'sal': array([ 100000.], dtype=float32)}"
       ]
      }
     ],
     "prompt_number": 121
    },
    {
     "cell_type": "code",
     "collapsed": false,
     "input": [
      "calculate_variables([\"revdisp\", \"impo\", \"sal\",\"rsa\"], simulation2)\n",
      "   "
     ],
     "language": "python",
     "metadata": {},
     "outputs": [
      {
       "metadata": {},
       "output_type": "pyout",
       "prompt_number": 122,
       "text": [
        "{'impo': array([-15988.21972656], dtype=float32),\n",
        " 'revdisp': array([ 70195.9140625], dtype=float32),\n",
        " 'rsa': array([ 6031.6796875], dtype=float32),\n",
        " 'sal': array([ 80000.], dtype=float32)}"
       ]
      }
     ],
     "prompt_number": 122
    },
    {
     "cell_type": "code",
     "collapsed": false,
     "input": [
      "calculate_variables([\"revdisp\", \"impo\", \"sal\",\"rsa\"], simulation3)\n",
      "   "
     ],
     "language": "python",
     "metadata": {},
     "outputs": [
      {
       "metadata": {},
       "output_type": "pyout",
       "prompt_number": 123,
       "text": [
        "{'impo': array([-1163.40002441], dtype=float32),\n",
        " 'revdisp': array([ 25020.72851562], dtype=float32),\n",
        " 'rsa': array([ 6031.6796875], dtype=float32),\n",
        " 'sal': array([ 20000.], dtype=float32)}"
       ]
      }
     ],
     "prompt_number": 123
    },
    {
     "cell_type": "code",
     "collapsed": false,
     "input": [
      "calculate_variables([\"revdisp\", \"impo\", \"sal\",\"rsa\"], simulation4)\n",
      "   "
     ],
     "language": "python",
     "metadata": {},
     "outputs": [
      {
       "metadata": {},
       "output_type": "pyout",
       "prompt_number": 124,
       "text": [
        "{'impo': array([ 0.], dtype=float32),\n",
        " 'revdisp': array([ 6184.12988281], dtype=float32),\n",
        " 'rsa': array([ 6031.6796875], dtype=float32),\n",
        " 'sal': array([ 0.], dtype=float32)}"
       ]
      }
     ],
     "prompt_number": 124
    },
    {
     "cell_type": "code",
     "collapsed": false,
     "input": [
      "amount_by_variable_by_configuration = dict()"
     ],
     "language": "python",
     "metadata": {},
     "outputs": [],
     "prompt_number": 125
    },
    {
     "cell_type": "heading",
     "level": 4,
     "metadata": {},
     "source": [
      "2e essai dico"
     ]
    },
    {
     "cell_type": "code",
     "collapsed": false,
     "input": [
      "for amount_by_variable in range(0, 500000):\n",
      "    amount_by_variable_by_configuration[amount_by_variable] = amount_by_variable(liste_configurations)"
     ],
     "language": "python",
     "metadata": {},
     "outputs": [
      {
       "ename": "TypeError",
       "evalue": "'int' object is not callable",
       "output_type": "pyerr",
       "traceback": [
        "\u001b[0;31m---------------------------------------------------------------------------\u001b[0m\n\u001b[0;31mTypeError\u001b[0m                                 Traceback (most recent call last)",
        "\u001b[0;32m<ipython-input-133-c0a3f667d072>\u001b[0m in \u001b[0;36m<module>\u001b[0;34m()\u001b[0m\n\u001b[1;32m      1\u001b[0m \u001b[0;32mfor\u001b[0m \u001b[0mamount_by_variable\u001b[0m \u001b[0;32min\u001b[0m \u001b[0mrange\u001b[0m\u001b[0;34m(\u001b[0m\u001b[0;36m0\u001b[0m\u001b[0;34m,\u001b[0m \u001b[0;36m500000\u001b[0m\u001b[0;34m)\u001b[0m\u001b[0;34m:\u001b[0m\u001b[0;34m\u001b[0m\u001b[0m\n\u001b[0;32m----> 2\u001b[0;31m     \u001b[0mamount_by_variable_by_configuration\u001b[0m\u001b[0;34m[\u001b[0m\u001b[0mamount_by_variable\u001b[0m\u001b[0;34m]\u001b[0m \u001b[0;34m=\u001b[0m \u001b[0mamount_by_variable\u001b[0m\u001b[0;34m(\u001b[0m\u001b[0mliste_configurations\u001b[0m\u001b[0;34m)\u001b[0m\u001b[0;34m\u001b[0m\u001b[0m\n\u001b[0m",
        "\u001b[0;31mTypeError\u001b[0m: 'int' object is not callable"
       ]
      }
     ],
     "prompt_number": 133
    },
    {
     "cell_type": "heading",
     "level": 4,
     "metadata": {},
     "source": [
      "3e essai dico"
     ]
    },
    {
     "cell_type": "code",
     "collapsed": false,
     "input": [
      "def calculate_variables_by_configuration(liste_configurations, calculate_variables):\n",
      "    amount_by_variable_by_configuration = dict()\n",
      "    for configuration in liste_configurations:\n",
      "        amount_by_variable_by_configuration[liste_configurations] = simulation.calculate(variable, 2014, liste_configurations)\n",
      "    return amount_by_variable\n"
     ],
     "language": "python",
     "metadata": {},
     "outputs": [],
     "prompt_number": 138
    },
    {
     "cell_type": "code",
     "collapsed": false,
     "input": [
      "\n",
      "calculate_variables_by_configuration(liste_configurations, calculate_variables)"
     ],
     "language": "python",
     "metadata": {},
     "outputs": [
      {
       "ename": "TypeError",
       "evalue": "'Simulation' object is not iterable",
       "output_type": "pyerr",
       "traceback": [
        "\u001b[0;31m---------------------------------------------------------------------------\u001b[0m\n\u001b[0;31mTypeError\u001b[0m                                 Traceback (most recent call last)",
        "\u001b[0;32m<ipython-input-141-4183303af867>\u001b[0m in \u001b[0;36m<module>\u001b[0;34m()\u001b[0m\n\u001b[1;32m      1\u001b[0m \u001b[0;34m\u001b[0m\u001b[0m\n\u001b[0;32m----> 2\u001b[0;31m \u001b[0mcalculate_variables_by_configuration\u001b[0m\u001b[0;34m(\u001b[0m\u001b[0mliste_configurations\u001b[0m\u001b[0;34m,\u001b[0m \u001b[0mcalculate_variables\u001b[0m\u001b[0;34m)\u001b[0m\u001b[0;34m\u001b[0m\u001b[0m\n\u001b[0m",
        "\u001b[0;32m<ipython-input-139-189dab305299>\u001b[0m in \u001b[0;36mcalculate_variables_by_configuration\u001b[0;34m(liste_configurations, calculate_variables)\u001b[0m\n\u001b[1;32m      1\u001b[0m \u001b[0;32mdef\u001b[0m \u001b[0mcalculate_variables_by_configuration\u001b[0m\u001b[0;34m(\u001b[0m\u001b[0mliste_configurations\u001b[0m\u001b[0;34m,\u001b[0m \u001b[0mcalculate_variables\u001b[0m\u001b[0;34m)\u001b[0m\u001b[0;34m:\u001b[0m\u001b[0;34m\u001b[0m\u001b[0m\n\u001b[1;32m      2\u001b[0m     \u001b[0mamount_by_variable_by_configuration\u001b[0m \u001b[0;34m=\u001b[0m \u001b[0mdict\u001b[0m\u001b[0;34m(\u001b[0m\u001b[0;34m)\u001b[0m\u001b[0;34m\u001b[0m\u001b[0m\n\u001b[0;32m----> 3\u001b[0;31m     \u001b[0;32mfor\u001b[0m \u001b[0mconfiguration\u001b[0m \u001b[0;32min\u001b[0m \u001b[0mliste_configurations\u001b[0m\u001b[0;34m:\u001b[0m\u001b[0;34m\u001b[0m\u001b[0m\n\u001b[0m\u001b[1;32m      4\u001b[0m         \u001b[0mamount_by_variable_by_configuration\u001b[0m\u001b[0;34m[\u001b[0m\u001b[0mliste_configurations\u001b[0m\u001b[0;34m]\u001b[0m \u001b[0;34m=\u001b[0m \u001b[0msimulation\u001b[0m\u001b[0;34m.\u001b[0m\u001b[0mcalculate\u001b[0m\u001b[0;34m(\u001b[0m\u001b[0mvariable\u001b[0m\u001b[0;34m,\u001b[0m \u001b[0;36m2014\u001b[0m\u001b[0;34m,\u001b[0m \u001b[0mliste_configurations\u001b[0m\u001b[0;34m)\u001b[0m\u001b[0;34m\u001b[0m\u001b[0m\n\u001b[1;32m      5\u001b[0m     \u001b[0;32mreturn\u001b[0m \u001b[0mamount_by_variable\u001b[0m\u001b[0;34m\u001b[0m\u001b[0m\n",
        "\u001b[0;31mTypeError\u001b[0m: 'Simulation' object is not iterable"
       ]
      }
     ],
     "prompt_number": 141
    }
   ],
   "metadata": {}
  }
 ]
}