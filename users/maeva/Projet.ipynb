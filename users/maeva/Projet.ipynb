{
 "metadata": {
  "name": "",
  "signature": "sha256:5ab2d92148a652b7695416118bff02a6eb92397fa83cc2fe8c8fb580c9051eeb"
 },
 "nbformat": 3,
 "nbformat_minor": 0,
 "worksheets": [
  {
   "cells": [
    {
     "cell_type": "markdown",
     "metadata": {},
     "source": [
      "1- 4 individus avec niveaux de revenus du travail diff\u00e9rents : Individu 1 : 100 000\u20ac Individu 2 : 80 000\u20ac Individu 3 : 20 000\u20ac Individu 4 : 0\u20ac -> Calcul de leur revenu dispo individuel"
     ]
    },
    {
     "cell_type": "markdown",
     "metadata": {},
     "source": [
      "2- Mettre ensemble les 2 avec plus hauts revenus, ensemble les 2 avec faibles revenus. -> Calculer pour chaque couple le revenu dispo, comparer avec la somme de leurs RD lorsqu'ils sont seuls"
     ]
    },
    {
     "cell_type": "markdown",
     "metadata": {},
     "source": [
      "3- M\u00eame chose avec une autre composition des couples : le plus ais\u00e9 avec la personne ne travaillant pas, les 2 autres ensembles, le revenu du travail du 1er couple doit \u00eatre \u00e9gal \u00e0 celui du 2e couple -> On compare avec les RD individuels et les couples entre eux, \u00e0 revenu du m\u00e9nage \u00e9gal, les individus ont ils plut\u00f4t int\u00e9ret \u00e0 travailler tous les deux ou y a t il incitation \u00e0 ne pas travailler pour l'un des membre du m\u00e9nage ?"
     ]
    },
    {
     "cell_type": "heading",
     "level": 2,
     "metadata": {},
     "source": [
      "Cr\u00e9er mes 4 cas types"
     ]
    },
    {
     "cell_type": "markdown",
     "metadata": {},
     "source": [
      "1- 4 individus avec niveaux de revenus du travail diff\u00e9rents : Individu 1 : 100 000\u20ac Individu 2 : 80 000\u20ac Individu 3 : 20 000\u20ac Individu 4 : 0\u20ac -> Calcul de leur revenu dispo individuel"
     ]
    },
    {
     "cell_type": "code",
     "collapsed": false,
     "input": [
      "%matplotlib inline\n",
      "import matplotlib.pyplot as plt\n",
      "from openfisca_matplotlib import graphs"
     ],
     "language": "python",
     "metadata": {},
     "outputs": [],
     "prompt_number": 1
    },
    {
     "cell_type": "code",
     "collapsed": false,
     "input": [
      "from datetime import date  \n",
      "import openfisca_france   \n",
      "\n",
      "TaxBenefitSystem = openfisca_france.init_country()  \n",
      "tax_benefit_system = TaxBenefitSystem()  "
     ],
     "language": "python",
     "metadata": {},
     "outputs": [],
     "prompt_number": 2
    },
    {
     "cell_type": "markdown",
     "metadata": {},
     "source": [
      "Simulation pour l'individu 1 : celui avec le plus haut revenu du travail"
     ]
    },
    {
     "cell_type": "code",
     "collapsed": false,
     "input": [
      "simulation_individu1 = tax_benefit_system.new_scenario().init_single_entity(\n",
      "    period = \"2014:3\",\n",
      "    parent1 = dict(\n",
      "        birth = date(1980, 1, 1),\n",
      "        sal = 100000,\n",
      "    )\n",
      "    ).new_simulation(debug = True)"
     ],
     "language": "python",
     "metadata": {},
     "outputs": [],
     "prompt_number": 29
    },
    {
     "cell_type": "markdown",
     "metadata": {},
     "source": [
      "Simulation pour l'individu 2 avec revenu = 80 000"
     ]
    },
    {
     "cell_type": "code",
     "collapsed": false,
     "input": [
      "simulation_individu2 = tax_benefit_system.new_scenario().init_single_entity(\n",
      "    period = 2014,\n",
      "    parent1 = dict(\n",
      "        birth = date(1980, 1, 1),\n",
      "        sal = 80000,\n",
      "    )\n",
      "    ).new_simulation(debug = True)\n"
     ],
     "language": "python",
     "metadata": {},
     "outputs": [],
     "prompt_number": 30
    },
    {
     "cell_type": "markdown",
     "metadata": {},
     "source": [
      "Simulation pour l'individu 3 avec revenu = 20 000"
     ]
    },
    {
     "cell_type": "code",
     "collapsed": false,
     "input": [
      "simulation_individu3 = tax_benefit_system.new_scenario().init_single_entity(\n",
      "    period = 2014,\n",
      "    parent1 = dict(\n",
      "        birth = date(1980, 1, 1),\n",
      "        sal = 20000,\n",
      "    )\n",
      "    ).new_simulation(debug = True)"
     ],
     "language": "python",
     "metadata": {},
     "outputs": [],
     "prompt_number": 31
    },
    {
     "cell_type": "markdown",
     "metadata": {},
     "source": [
      "Simulation pour l'individu 4 sans revenus du travail"
     ]
    },
    {
     "cell_type": "code",
     "collapsed": false,
     "input": [
      "simulation_individu4 = tax_benefit_system.new_scenario().init_single_entity(\n",
      "    period = 2014,\n",
      "    parent1 = dict(\n",
      "        birth = date(1980, 1, 1),\n",
      "        sal = 0,\n",
      "    )\n",
      "    ).new_simulation(debug = True)"
     ],
     "language": "python",
     "metadata": {},
     "outputs": [],
     "prompt_number": 32
    },
    {
     "cell_type": "markdown",
     "metadata": {},
     "source": [
      "Calcul des revenus disponibles pour chaque individu s\u00e9par\u00e9ment"
     ]
    },
    {
     "cell_type": "code",
     "collapsed": false,
     "input": [
      "revenu_dispo1 = simulation_individu1.calculate('revdisp')\n",
      "print revenu_dispo1"
     ],
     "language": "python",
     "metadata": {},
     "outputs": [
      {
       "output_type": "stream",
       "stream": "stdout",
       "text": [
        "[ 77283.5390625]\n"
       ]
      }
     ],
     "prompt_number": 33
    },
    {
     "cell_type": "heading",
     "level": 4,
     "metadata": {},
     "source": [
      "Essai : cr\u00e9ation d'un dico de variable pour cette configuration de m\u00e9nage : 1 seul"
     ]
    },
    {
     "cell_type": "code",
     "collapsed": false,
     "input": [
      "liste_variables = list()"
     ],
     "language": "python",
     "metadata": {},
     "outputs": [],
     "prompt_number": 56
    },
    {
     "cell_type": "code",
     "collapsed": false,
     "input": [
      "revenu_dispo2 = simulation_individu2.calculate('revdisp')\n",
      "print revenu_dispo2"
     ],
     "language": "python",
     "metadata": {},
     "outputs": [
      {
       "output_type": "stream",
       "stream": "stdout",
       "text": [
        "[ 64663.5390625]\n"
       ]
      }
     ],
     "prompt_number": 34
    },
    {
     "cell_type": "code",
     "collapsed": false,
     "input": [
      "def calculate_variables(variables, simulation):\n",
      "    amount_by_variable = dict()\n",
      "    for variable in variables:\n",
      "        amount_by_variable[variable] = simulation.calculate(variable)\n",
      "    return amount_by_variable"
     ],
     "language": "python",
     "metadata": {},
     "outputs": [],
     "prompt_number": 57
    },
    {
     "cell_type": "code",
     "collapsed": false,
     "input": [
      "calculate_variables([\"revdisp\", \"impo\", \"sal\"], simulation_individu1)"
     ],
     "language": "python",
     "metadata": {},
     "outputs": [
      {
       "metadata": {},
       "output_type": "pyout",
       "prompt_number": 59,
       "text": [
        "{'impo': array([-23368.22070312], dtype=float32),\n",
        " 'revdisp': array([ 77283.5390625], dtype=float32),\n",
        " 'sal': array([ 100000.], dtype=float32)}"
       ]
      }
     ],
     "prompt_number": 59
    },
    {
     "cell_type": "markdown",
     "metadata": {},
     "source": [
      "Cr\u00e9ation d'une liste des configurations possibles"
     ]
    },
    {
     "cell_type": "code",
     "collapsed": false,
     "input": [
      "liste_configurations = list()"
     ],
     "language": "python",
     "metadata": {},
     "outputs": [],
     "prompt_number": 61
    },
    {
     "cell_type": "code",
     "collapsed": false,
     "input": [
      "liste_configurations = [simulation_individu1,simulation_individu2,simulation_individu3,simulation_individu4,simulation_menage_1et2,simulation_menage_2et3,simulation_menage_1et4,simulation_menage_2et3]"
     ],
     "language": "python",
     "metadata": {},
     "outputs": [],
     "prompt_number": 62
    },
    {
     "cell_type": "code",
     "collapsed": false,
     "input": [],
     "language": "python",
     "metadata": {},
     "outputs": []
    },
    {
     "cell_type": "code",
     "collapsed": false,
     "input": [
      "revenu_dispo3 = simulation_individu3.calculate('revdisp')\n",
      "print revenu_dispo3"
     ],
     "language": "python",
     "metadata": {},
     "outputs": [
      {
       "output_type": "stream",
       "stream": "stdout",
       "text": [
        "[ 19853.64648438]\n"
       ]
      }
     ],
     "prompt_number": 35
    },
    {
     "cell_type": "code",
     "collapsed": false,
     "input": [
      "revenu_dispo4 = simulation_individu4.calculate('revdisp')\n",
      "print revenu_dispo4"
     ],
     "language": "python",
     "metadata": {},
     "outputs": [
      {
       "output_type": "stream",
       "stream": "stdout",
       "text": [
        "[ 6184.12988281]\n"
       ]
      }
     ],
     "prompt_number": 36
    },
    {
     "cell_type": "heading",
     "level": 2,
     "metadata": {},
     "source": [
      "Mise en couples 1 : les plus riches entre eux, les plus pauvres entre eux"
     ]
    },
    {
     "cell_type": "markdown",
     "metadata": {},
     "source": [
      "**Mise en couple des individus 1 et 2 (les plus riches)"
     ]
    },
    {
     "cell_type": "code",
     "collapsed": false,
     "input": [
      "simulation_menage_1et2 = tax_benefit_system.new_scenario().init_single_entity(\n",
      "    period = 2014,\n",
      "    parent1 = dict(\n",
      "        birth = date(1980, 1, 1),\n",
      "        sal = 100000,\n",
      "        ),\n",
      "    parent2 = dict(\n",
      "        birth = date(1980, 1, 1),\n",
      "        sal = 80000,\n",
      "    )\n",
      "    ).new_simulation(debug = True)\n"
     ],
     "language": "python",
     "metadata": {},
     "outputs": [],
     "prompt_number": 40
    },
    {
     "cell_type": "code",
     "collapsed": false,
     "input": [],
     "language": "python",
     "metadata": {},
     "outputs": []
    },
    {
     "cell_type": "markdown",
     "metadata": {},
     "source": [
      "Calcul du RD du couple 1 et 2"
     ]
    },
    {
     "cell_type": "code",
     "collapsed": false,
     "input": [
      "revenu_dispomenage_1et2 = simulation_menage_1et2.calculate('revdisp')\n",
      "print revenu_dispomenage_1et2"
     ],
     "language": "python",
     "metadata": {},
     "outputs": [
      {
       "output_type": "stream",
       "stream": "stdout",
       "text": [
        "[ 127657.421875]\n"
       ]
      }
     ],
     "prompt_number": 43
    },
    {
     "cell_type": "markdown",
     "metadata": {},
     "source": [
      "Comparaison entre couple 1 et 2 et la somme de 1 et 2 s\u00e9par\u00e9ment"
     ]
    },
    {
     "cell_type": "code",
     "collapsed": false,
     "input": [
      "revenu_dispomenage_1et2  - revenu_dispo1 - revenu_dispo2"
     ],
     "language": "python",
     "metadata": {},
     "outputs": [
      {
       "metadata": {},
       "output_type": "pyout",
       "prompt_number": 44,
       "text": [
        "array([-14289.65625], dtype=float32)"
       ]
      }
     ],
     "prompt_number": 44
    },
    {
     "cell_type": "markdown",
     "metadata": {},
     "source": [
      "** Mise en couple des individus 3 et 4"
     ]
    },
    {
     "cell_type": "code",
     "collapsed": false,
     "input": [
      "simulation_menage_3et4 = tax_benefit_system.new_scenario().init_single_entity(\n",
      "    period = 2014,\n",
      "    parent1 = dict(\n",
      "        birth = date(1980, 1, 1),\n",
      "        sal = 20000,\n",
      "        ),\n",
      "    parent2 = dict(\n",
      "        birth = date(1980, 1, 1),\n",
      "        sal = 0,\n",
      "    )\n",
      "    ).new_simulation(debug = True)"
     ],
     "language": "python",
     "metadata": {},
     "outputs": [],
     "prompt_number": 46
    },
    {
     "cell_type": "markdown",
     "metadata": {},
     "source": [
      "Revenu dispo du m\u00e9nage 3 et 4"
     ]
    },
    {
     "cell_type": "code",
     "collapsed": false,
     "input": [
      "revenu_dispomenage_3et4 = simulation_menage_3et4.calculate('revdisp')\n",
      "print revenu_dispomenage_3et4"
     ],
     "language": "python",
     "metadata": {},
     "outputs": [
      {
       "output_type": "stream",
       "stream": "stdout",
       "text": [
        "[ 21779.46289062]\n"
       ]
      }
     ],
     "prompt_number": 47
    },
    {
     "cell_type": "markdown",
     "metadata": {},
     "source": [
      "Diff\u00e9rence entre RD m\u00e9nage 3-4 et 3+4 individuellement"
     ]
    },
    {
     "cell_type": "code",
     "collapsed": false,
     "input": [
      "revenu_dispomenage_3et4  - revenu_dispo3 - revenu_dispo4"
     ],
     "language": "python",
     "metadata": {},
     "outputs": [
      {
       "metadata": {},
       "output_type": "pyout",
       "prompt_number": 48,
       "text": [
        "array([-4258.31347656], dtype=float32)"
       ]
      }
     ],
     "prompt_number": 48
    },
    {
     "cell_type": "heading",
     "level": 2,
     "metadata": {},
     "source": [
      "Mise en couples 2 : le plus riche avec celui qui ne travaille pas, les deux revenus interm\u00e9diaires ensemble. Objectif : Voir si, \u00e0 revenu du m\u00e9nage \u00e9gal, il vaut mieux que les deux travaillent ou qu'un seul ne travaille"
     ]
    },
    {
     "cell_type": "code",
     "collapsed": false,
     "input": [
      "simulation_menage_1et4 = tax_benefit_system.new_scenario().init_single_entity(\n",
      "    period = 2014,\n",
      "    parent1 = dict(\n",
      "        birth = date(1980, 1, 1),\n",
      "        sal = 100000,\n",
      "        ),\n",
      "    parent2 = dict(\n",
      "        birth = date(1980, 1, 1),\n",
      "        sal = 0,\n",
      "    )\n",
      "    ).new_simulation(debug = True)"
     ],
     "language": "python",
     "metadata": {},
     "outputs": [],
     "prompt_number": 50
    },
    {
     "cell_type": "markdown",
     "metadata": {},
     "source": [
      "Revenu dispo :"
     ]
    },
    {
     "cell_type": "code",
     "collapsed": false,
     "input": [
      "revenu_dispomenage_1et4 = simulation_menage_1et4.calculate('revdisp')\n",
      "print revenu_dispomenage_1et4"
     ],
     "language": "python",
     "metadata": {},
     "outputs": [
      {
       "output_type": "stream",
       "stream": "stdout",
       "text": [
        "[ 77609.421875]\n"
       ]
      }
     ],
     "prompt_number": 51
    },
    {
     "cell_type": "markdown",
     "metadata": {},
     "source": [
      "Gain \u00e0 la mise en couple des individus 1 et 4"
     ]
    },
    {
     "cell_type": "code",
     "collapsed": false,
     "input": [
      "revenu_dispomenage_1et4  - revenu_dispo1 - revenu_dispo4"
     ],
     "language": "python",
     "metadata": {},
     "outputs": [
      {
       "metadata": {},
       "output_type": "pyout",
       "prompt_number": 52,
       "text": [
        "array([-5858.24707031], dtype=float32)"
       ]
      }
     ],
     "prompt_number": 52
    },
    {
     "cell_type": "code",
     "collapsed": false,
     "input": [
      "simulation_menage_2et3 = tax_benefit_system.new_scenario().init_single_entity(\n",
      "    period = 2014,\n",
      "    parent1 = dict(\n",
      "        birth = date(1980, 1, 1),\n",
      "        sal = 100000,\n",
      "        ),\n",
      "    parent2 = dict(\n",
      "        birth = date(1980, 1, 1),\n",
      "        sal = 0,\n",
      "    )\n",
      "    ).new_simulation(debug = True)"
     ],
     "language": "python",
     "metadata": {},
     "outputs": [],
     "prompt_number": 53
    },
    {
     "cell_type": "code",
     "collapsed": false,
     "input": [
      "revenu_dispomenage_1et4 = simulation_menage_1et4.calculate('revdisp')\n",
      "print revenu_dispomenage_1et4"
     ],
     "language": "python",
     "metadata": {},
     "outputs": []
    }
   ],
   "metadata": {}
  }
 ]
}