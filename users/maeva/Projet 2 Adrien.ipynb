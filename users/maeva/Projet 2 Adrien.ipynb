{
 "metadata": {
  "name": "",
  "signature": "sha256:7e76e7b97f373a078d8befec154f02b565e28859328ecce52661345fda0b77d6"
 },
 "nbformat": 3,
 "nbformat_minor": 0,
 "worksheets": [
  {
   "cells": [
    {
     "cell_type": "markdown",
     "metadata": {},
     "source": [
      "1- 4 individus avec niveaux de revenus du travail diff\u00e9rents : Individu 1 : 100 000\u20ac Individu 2 : 80 000\u20ac Individu 3 : 20 000\u20ac Individu 4 : 0\u20ac -> Calcul de leur revenu dispo individuel"
     ]
    },
    {
     "cell_type": "markdown",
     "metadata": {},
     "source": [
      "2- Mettre ensemble les 2 avec plus hauts revenus, ensemble les 2 avec faibles revenus. -> Calculer pour chaque couple le revenu dispo, comparer avec la somme de leurs RD lorsqu'ils sont seuls"
     ]
    },
    {
     "cell_type": "markdown",
     "metadata": {},
     "source": [
      "3- M\u00eame chose avec une autre composition des couples : le plus ais\u00e9 avec la personne ne travaillant pas, les 2 autres ensembles, le revenu du travail du 1er couple doit \u00eatre \u00e9gal \u00e0 celui du 2e couple -> On compare avec les RD individuels et les couples entre eux, \u00e0 revenu du m\u00e9nage \u00e9gal, les individus ont ils plut\u00f4t int\u00e9ret \u00e0 travailler tous les deux ou y a t il incitation \u00e0 ne pas travailler pour l'un des membre du m\u00e9nage ?"
     ]
    },
    {
     "cell_type": "heading",
     "level": 2,
     "metadata": {},
     "source": [
      "Cr\u00e9er mes 4 cas types"
     ]
    },
    {
     "cell_type": "markdown",
     "metadata": {},
     "source": [
      "1- 4 individus avec niveaux de revenus du travail diff\u00e9rents : Individu 1 : 100 000\u20ac Individu 2 : 80 000\u20ac Individu 3 : 20 000\u20ac Individu 4 : 0\u20ac -> Calcul de leur revenu dispo individuel"
     ]
    },
    {
     "cell_type": "code",
     "collapsed": false,
     "input": [
      "%matplotlib inline\n",
      "import matplotlib.pyplot as plt\n",
      "from openfisca_matplotlib import graphs\n",
      "from openfisca_core import periods"
     ],
     "language": "python",
     "metadata": {},
     "outputs": [],
     "prompt_number": 9
    },
    {
     "cell_type": "code",
     "collapsed": false,
     "input": [
      "from datetime import date  \n",
      "import openfisca_france   \n",
      "\n",
      "TaxBenefitSystem = openfisca_france.init_country()  \n",
      "tax_benefit_system = TaxBenefitSystem()  "
     ],
     "language": "python",
     "metadata": {},
     "outputs": [],
     "prompt_number": 10
    },
    {
     "cell_type": "markdown",
     "metadata": {},
     "source": [
      "Simulation pour l'individu 1 : celui avec le plus haut revenu du travail"
     ]
    },
    {
     "cell_type": "code",
     "collapsed": false,
     "input": [
      "simulation_individu1 = tax_benefit_system.new_scenario().init_single_entity(\n",
      "    period = \"2012:3\", #modif on dit que l'on fait la simulation a partir de 2012 pour 3 ans\n",
      "    parent1 = dict(\n",
      "        birth = date(1980, 1, 1),\n",
      "        sal = 100000 * 3, #modif\n",
      "    )\n",
      "    ).new_simulation(debug = True)"
     ],
     "language": "python",
     "metadata": {},
     "outputs": [],
     "prompt_number": 11
    },
    {
     "cell_type": "markdown",
     "metadata": {},
     "source": [
      "Simulation pour l'individu 2 avec revenu = 80 000"
     ]
    },
    {
     "cell_type": "code",
     "collapsed": false,
     "input": [
      "simulation_individu2 = tax_benefit_system.new_scenario().init_single_entity(\n",
      "    period = \"2012:3\", #modif\n",
      "    parent1 = dict(\n",
      "        birth = date(1980, 1, 1),\n",
      "        sal = 80000 * 3, #modif\n",
      "    )\n",
      "    ).new_simulation(debug = True)\n"
     ],
     "language": "python",
     "metadata": {},
     "outputs": [],
     "prompt_number": 12
    },
    {
     "cell_type": "markdown",
     "metadata": {},
     "source": [
      "Simulation pour l'individu 3 avec revenu = 20 000"
     ]
    },
    {
     "cell_type": "code",
     "collapsed": false,
     "input": [
      "simulation_individu3 = tax_benefit_system.new_scenario().init_single_entity(\n",
      "    period = \"2012:3\", #modif\n",
      "    parent1 = dict(\n",
      "        birth = date(1980, 1, 1),\n",
      "        sal = 20000 * 3, #modif\n",
      "    )\n",
      "    ).new_simulation(debug = True)"
     ],
     "language": "python",
     "metadata": {},
     "outputs": [],
     "prompt_number": 13
    },
    {
     "cell_type": "markdown",
     "metadata": {},
     "source": [
      "Simulation pour l'individu 4 sans revenus du travail"
     ]
    },
    {
     "cell_type": "code",
     "collapsed": false,
     "input": [
      "simulation_individu4 = tax_benefit_system.new_scenario().init_single_entity(\n",
      "    period = \"2012:3\", #modif\n",
      "    parent1 = dict(\n",
      "        birth = date(1980, 1, 1),\n",
      "        sal = 0 * 3, #modif\n",
      "    )\n",
      "    ).new_simulation(debug = True)"
     ],
     "language": "python",
     "metadata": {},
     "outputs": [],
     "prompt_number": 14
    },
    {
     "cell_type": "markdown",
     "metadata": {},
     "source": [
      "Calcul des revenus disponibles pour chaque individu s\u00e9par\u00e9ment"
     ]
    },
    {
     "cell_type": "code",
     "collapsed": false,
     "input": [
      "period = periods.period(\"year\", \"2014\")"
     ],
     "language": "python",
     "metadata": {},
     "outputs": [],
     "prompt_number": 15
    },
    {
     "cell_type": "code",
     "collapsed": false,
     "input": [
      "revenu_dispo1 = simulation_individu1.calculate('revdisp', period)\n",
      "print period\n",
      "print revenu_dispo1"
     ],
     "language": "python",
     "metadata": {},
     "outputs": [
      {
       "output_type": "stream",
       "stream": "stdout",
       "text": [
        "2014\n",
        "[ 6184.12988281]\n"
       ]
      }
     ],
     "prompt_number": 16
    },
    {
     "cell_type": "heading",
     "level": 4,
     "metadata": {},
     "source": [
      "Essai : cr\u00e9ation d'un dico de variable pour cette configuration de m\u00e9nage : 1 seul"
     ]
    },
    {
     "cell_type": "code",
     "collapsed": false,
     "input": [
      "liste_variables = list()"
     ],
     "language": "python",
     "metadata": {},
     "outputs": [],
     "prompt_number": 17
    },
    {
     "cell_type": "code",
     "collapsed": false,
     "input": [
      "revenu_dispo2 = simulation_individu2.calculate('revdisp', period = periods.period(\"year\", \"2014\"))\n",
      "print revenu_dispo2"
     ],
     "language": "python",
     "metadata": {},
     "outputs": [
      {
       "output_type": "stream",
       "stream": "stdout",
       "text": [
        "[ 6184.12988281]\n"
       ]
      }
     ],
     "prompt_number": 18
    },
    {
     "cell_type": "code",
     "collapsed": false,
     "input": [
      "def calculate_variables(variables, simulation):\n",
      "    amount_by_variable = dict()\n",
      "    for variable in variables:\n",
      "        amount_by_variable[variable] = simulation.calculate(variable, period)\n",
      "    return amount_by_variable"
     ],
     "language": "python",
     "metadata": {},
     "outputs": [],
     "prompt_number": 19
    },
    {
     "cell_type": "code",
     "collapsed": false,
     "input": [
      "calculate_variables([\"revdisp\", \"impo\", \"sal\",\"rsa\"], simulation_individu1)"
     ],
     "language": "python",
     "metadata": {},
     "outputs": [
      {
       "metadata": {},
       "output_type": "pyout",
       "prompt_number": 20,
       "text": [
        "{'impo': array([ 0.], dtype=float32),\n",
        " 'revdisp': array([ 6184.12988281], dtype=float32),\n",
        " 'rsa': array([ 6031.6796875], dtype=float32),\n",
        " 'sal': array([ 0.], dtype=float32)}"
       ]
      }
     ],
     "prompt_number": 20
    },
    {
     "cell_type": "code",
     "collapsed": false,
     "input": [
      "def calculate_variables_for_configurations(liste_configurations, calculate_variables):\n",
      "    variables_by_configuration = dict()\n",
      "    for calculate_variables in liste_configurations:\n",
      "        amount_by_configuration[liste_configurations] = calculate_variables(variables, simulation)\n",
      "    return variables_by_configuration"
     ],
     "language": "python",
     "metadata": {},
     "outputs": [],
     "prompt_number": 50
    },
    {
     "cell_type": "code",
     "collapsed": false,
     "input": [
      "calculate_variables_for_configurations(liste_configurations, calculate_variables)"
     ],
     "language": "python",
     "metadata": {},
     "outputs": [
      {
       "ename": "NameError",
       "evalue": "global name 'variables' is not defined",
       "output_type": "pyerr",
       "traceback": [
        "\u001b[0;31m---------------------------------------------------------------------------\u001b[0m\n\u001b[0;31mNameError\u001b[0m                                 Traceback (most recent call last)",
        "\u001b[0;32m<ipython-input-51-7ff6ac543416>\u001b[0m in \u001b[0;36m<module>\u001b[0;34m()\u001b[0m\n\u001b[0;32m----> 1\u001b[0;31m \u001b[0mcalculate_variables_for_configurations\u001b[0m\u001b[0;34m(\u001b[0m\u001b[0mliste_configurations\u001b[0m\u001b[0;34m,\u001b[0m \u001b[0mcalculate_variables\u001b[0m\u001b[0;34m)\u001b[0m\u001b[0;34m\u001b[0m\u001b[0m\n\u001b[0m",
        "\u001b[0;32m<ipython-input-50-13bf04795825>\u001b[0m in \u001b[0;36mcalculate_variables_for_configurations\u001b[0;34m(liste_configurations, calculate_variables)\u001b[0m\n\u001b[1;32m      2\u001b[0m     \u001b[0mvariables_by_configuration\u001b[0m \u001b[0;34m=\u001b[0m \u001b[0mdict\u001b[0m\u001b[0;34m(\u001b[0m\u001b[0;34m)\u001b[0m\u001b[0;34m\u001b[0m\u001b[0m\n\u001b[1;32m      3\u001b[0m     \u001b[0;32mfor\u001b[0m \u001b[0mcalculate_variables\u001b[0m \u001b[0;32min\u001b[0m \u001b[0mliste_configurations\u001b[0m\u001b[0;34m:\u001b[0m\u001b[0;34m\u001b[0m\u001b[0m\n\u001b[0;32m----> 4\u001b[0;31m         \u001b[0mamount_by_configuration\u001b[0m\u001b[0;34m[\u001b[0m\u001b[0mliste_configurations\u001b[0m\u001b[0;34m]\u001b[0m \u001b[0;34m=\u001b[0m \u001b[0mcalculate_variables\u001b[0m\u001b[0;34m(\u001b[0m\u001b[0mvariables\u001b[0m\u001b[0;34m,\u001b[0m \u001b[0msimulation\u001b[0m\u001b[0;34m)\u001b[0m\u001b[0;34m\u001b[0m\u001b[0m\n\u001b[0m\u001b[1;32m      5\u001b[0m     \u001b[0;32mreturn\u001b[0m \u001b[0mvariables_by_configuration\u001b[0m\u001b[0;34m\u001b[0m\u001b[0m\n",
        "\u001b[0;31mNameError\u001b[0m: global name 'variables' is not defined"
       ]
      }
     ],
     "prompt_number": 51
    },
    {
     "cell_type": "raw",
     "metadata": {},
     "source": []
    },
    {
     "cell_type": "code",
     "collapsed": false,
     "input": [],
     "language": "python",
     "metadata": {},
     "outputs": [
      {
       "output_type": "stream",
       "stream": "stdout",
       "text": [
        "[ 9276.1953125]\n"
       ]
      }
     ],
     "prompt_number": 37
    },
    {
     "cell_type": "code",
     "collapsed": false,
     "input": [
      "#Adrien : je v\u00e9rifie que rajouter les p\u00e9riodes m'enl\u00e8ve bien le rsa etc pour les m\u00e9nages ais\u00e9s.\n",
      "\n",
      "variables_indiv = dict()\n",
      "i = 0\n",
      "for simulation in [simulation_individu1, simulation_individu2, simulation_individu3, simulation_individu4]:\n",
      "    i = i + 1\n",
      "    variables_indiv[\"individu {}\".format(i)] = calculate_variables([\"revdisp\", \"impo\", \"sal\",\"rsa\"], simulation)\n",
      "\n",
      "print variables_indiv\n",
      "\n"
     ],
     "language": "python",
     "metadata": {},
     "outputs": [
      {
       "output_type": "stream",
       "stream": "stdout",
       "text": [
        "{'individu 1': {'revdisp': array([ 6184.12988281], dtype=float32), 'impo': array([ 0.], dtype=float32), 'rsa': array([ 6031.6796875], dtype=float32), 'sal': array([ 0.], dtype=float32)}, 'individu 2': {'revdisp': array([ 6184.12988281], dtype=float32), 'impo': array([ 0.], dtype=float32), 'rsa': array([ 6031.6796875], dtype=float32), 'sal': array([ 0.], dtype=float32)}, 'individu 3': {'revdisp': array([ 6184.12988281], dtype=float32), 'impo': array([ 0.], dtype=float32), 'rsa': array([ 6031.6796875], dtype=float32), 'sal': array([ 0.], dtype=float32)}, 'individu 4': {'revdisp': array([ 6184.12988281], dtype=float32), 'impo': array([ 0.], dtype=float32), 'rsa': array([ 6031.6796875], dtype=float32), 'sal': array([ 0.], dtype=float32)}}\n"
       ]
      }
     ],
     "prompt_number": 21
    },
    {
     "cell_type": "markdown",
     "metadata": {},
     "source": [
      "Cr\u00e9ation d'une liste des configurations possibles"
     ]
    },
    {
     "cell_type": "code",
     "collapsed": false,
     "input": [
      "liste_configurations = list()"
     ],
     "language": "python",
     "metadata": {},
     "outputs": [],
     "prompt_number": 22
    },
    {
     "cell_type": "code",
     "collapsed": false,
     "input": [
      "liste_configurations = [simulation_individu1,simulation_individu2, simulation_individu3,simulation_individu4, simulation_menage_1et2,simulation_menage_2et3,simulation_menage_1et4,simulation_menage_2et3]\n",
      "#Adrien : Attention ceci ne peut pas marcher si tu l'ex\u00e9cute dans l'ordre !"
     ],
     "language": "python",
     "metadata": {},
     "outputs": [],
     "prompt_number": 49
    },
    {
     "cell_type": "code",
     "collapsed": false,
     "input": [],
     "language": "python",
     "metadata": {},
     "outputs": []
    },
    {
     "cell_type": "code",
     "collapsed": false,
     "input": [
      "revenu_dispo3 = simulation_individu3.calculate('revdisp', period)\n",
      "print revenu_dispo3"
     ],
     "language": "python",
     "metadata": {},
     "outputs": [
      {
       "output_type": "stream",
       "stream": "stdout",
       "text": [
        "[ 6184.12988281]\n"
       ]
      }
     ],
     "prompt_number": 25
    },
    {
     "cell_type": "code",
     "collapsed": false,
     "input": [
      "revenu_dispo4 = simulation_individu4.calculate('revdisp', period)\n",
      "print revenu_dispo4"
     ],
     "language": "python",
     "metadata": {},
     "outputs": [
      {
       "output_type": "stream",
       "stream": "stdout",
       "text": [
        "[ 6184.12988281]\n"
       ]
      }
     ],
     "prompt_number": 26
    },
    {
     "cell_type": "heading",
     "level": 2,
     "metadata": {},
     "source": [
      "Mise en couples 1 : les plus riches entre eux, les plus pauvres entre eux"
     ]
    },
    {
     "cell_type": "markdown",
     "metadata": {},
     "source": [
      "**Mise en couple des individus 1 et 2 (les plus riches)"
     ]
    },
    {
     "cell_type": "code",
     "collapsed": false,
     "input": [
      "simulation_menage_1et2 = tax_benefit_system.new_scenario().init_single_entity(\n",
      "    period = \"2012:3\",\n",
      "    parent1 = dict(\n",
      "        birth = date(1980, 1, 1),\n",
      "        sal = 100000 * 3,\n",
      "        statmarit = 1, #il faut que les individus soient mari\u00e9s pour b\u00e9n\u00e9ficier du QF\n",
      "        ),\n",
      "    parent2 = dict(\n",
      "        birth = date(1980, 1, 1),\n",
      "        sal = 80000 * 3,\n",
      "        statmarit = 1, #modif\n",
      "    )\n",
      "    \n",
      "    ).new_simulation(debug = True)\n"
     ],
     "language": "python",
     "metadata": {},
     "outputs": [],
     "prompt_number": 27
    },
    {
     "cell_type": "markdown",
     "metadata": {},
     "source": [
      "Calcul du RD du couple 1 et 2"
     ]
    },
    {
     "cell_type": "code",
     "collapsed": false,
     "input": [
      "revenu_dispomenage_1et2 = simulation_menage_1et2.calculate('revdisp', period)\n",
      "print(revenu_dispomenage_1et2 , revenu_dispo1, revenu_dispo2)\n",
      "print simulation_menage_1et2.calculate('marpac', period) "
     ],
     "language": "python",
     "metadata": {},
     "outputs": [
      {
       "output_type": "stream",
       "stream": "stdout",
       "text": [
        "(array([ 9276.1953125], dtype=float32), array([ 6184.12988281], dtype=float32), array([ 6184.12988281], dtype=float32))\n",
        "[ True]\n"
       ]
      }
     ],
     "prompt_number": 28
    },
    {
     "cell_type": "code",
     "collapsed": false,
     "input": [
      "#variables_indiv = dict()\n",
      "#i = 0\n",
      "#for simulation in [simulation_menage_1et2, simulation_individu1, simulation_individu2, simulation_individu3, simulation_individu4]:\n",
      "#    i = i + 1\n",
      "#    variables_indiv[\"individu {}\".format(i)] = calculate_variables([\"revdisp\", \"impo\", \"sal\",\"rsa\"], simulation)\n",
      "\n",
      "#print variables_indiv"
     ],
     "language": "python",
     "metadata": {},
     "outputs": [
      {
       "output_type": "stream",
       "stream": "stdout",
       "text": [
        "{'individu 1': {'revdisp': array([ 140643.5625], dtype=float32), 'impo': array([-39356.44140625], dtype=float32), 'rsa': array([ 0.], dtype=float32), 'sal': array([ 100000.,   80000.], dtype=float32)}, 'individu 2': {'revdisp': array([ 76631.78125], dtype=float32), 'impo': array([-23368.22070312], dtype=float32), 'rsa': array([ 0.], dtype=float32), 'sal': array([ 100000.], dtype=float32)}, 'individu 3': {'revdisp': array([ 64011.78125], dtype=float32), 'impo': array([-15988.21972656], dtype=float32), 'rsa': array([ 0.], dtype=float32), 'sal': array([ 80000.], dtype=float32)}, 'individu 4': {'revdisp': array([ 18836.59960938], dtype=float32), 'impo': array([-1163.40002441], dtype=float32), 'rsa': array([ 0.], dtype=float32), 'sal': array([ 20000.], dtype=float32)}, 'individu 5': {'revdisp': array([ 6184.12988281], dtype=float32), 'impo': array([ 0.], dtype=float32), 'rsa': array([ 6031.6796875], dtype=float32), 'sal': array([ 0.], dtype=float32)}}\n"
       ]
      }
     ],
     "prompt_number": 31
    },
    {
     "cell_type": "markdown",
     "metadata": {},
     "source": [
      "Comparaison entre couple 1 et 2 et la somme de 1 et 2 s\u00e9par\u00e9ment"
     ]
    },
    {
     "cell_type": "code",
     "collapsed": false,
     "input": [
      "revenu_dispomenage_1et2  - revenu_dispo1 - revenu_dispo2"
     ],
     "language": "python",
     "metadata": {},
     "outputs": [
      {
       "metadata": {},
       "output_type": "pyout",
       "prompt_number": 29,
       "text": [
        "array([-3092.06445312], dtype=float32)"
       ]
      }
     ],
     "prompt_number": 29
    },
    {
     "cell_type": "markdown",
     "metadata": {},
     "source": [
      "** Mise en couple des individus 3 et 4"
     ]
    },
    {
     "cell_type": "code",
     "collapsed": false,
     "input": [
      "simulation_menage_3et4 = tax_benefit_system.new_scenario().init_single_entity(\n",
      "    period = \"2012:3\",\n",
      "    parent1 = dict(\n",
      "        birth = date(1980, 1, 1),\n",
      "        sal = 20000*3,\n",
      "        statmarit = 1\n",
      "        ),\n",
      "    parent2 = dict(\n",
      "        birth = date(1980, 1, 1),\n",
      "        sal = 0*3,\n",
      "        statmarit = 1,\n",
      "    )\n",
      "    ).new_simulation(debug = True)"
     ],
     "language": "python",
     "metadata": {},
     "outputs": [],
     "prompt_number": 30
    },
    {
     "cell_type": "markdown",
     "metadata": {},
     "source": [
      "Revenu dispo du m\u00e9nage 3 et 4"
     ]
    },
    {
     "cell_type": "code",
     "collapsed": false,
     "input": [
      "revenu_dispomenage_3et4 = simulation_menage_3et4.calculate('revdisp', period = period)\n",
      "print revenu_dispomenage_3et4"
     ],
     "language": "python",
     "metadata": {},
     "outputs": [
      {
       "output_type": "stream",
       "stream": "stdout",
       "text": [
        "[ 9276.1953125]\n"
       ]
      }
     ],
     "prompt_number": 31
    },
    {
     "cell_type": "markdown",
     "metadata": {},
     "source": [
      "Diff\u00e9rence entre RD m\u00e9nage 3-4 et 3+4 individuellement"
     ]
    },
    {
     "cell_type": "code",
     "collapsed": false,
     "input": [
      "revenu_dispomenage_3et4  - revenu_dispo3 - revenu_dispo4"
     ],
     "language": "python",
     "metadata": {},
     "outputs": [
      {
       "metadata": {},
       "output_type": "pyout",
       "prompt_number": 32,
       "text": [
        "array([-3092.06445312], dtype=float32)"
       ]
      }
     ],
     "prompt_number": 32
    },
    {
     "cell_type": "heading",
     "level": 2,
     "metadata": {},
     "source": [
      "Mise en couples 2 : le plus riche avec celui qui ne travaille pas, les deux revenus interm\u00e9diaires ensemble. Objectif : Voir si, \u00e0 revenu du m\u00e9nage \u00e9gal, il vaut mieux que les deux travaillent ou qu'un seul ne travaille"
     ]
    },
    {
     "cell_type": "code",
     "collapsed": false,
     "input": [
      "simulation_menage_1et4 = tax_benefit_system.new_scenario().init_single_entity(\n",
      "    period = \"2012:3\",\n",
      "    parent1 = dict(\n",
      "        birth = date(1980, 1, 1),\n",
      "        sal = 100000*3,\n",
      "        statmarit = 1,\n",
      "        ),\n",
      "    parent2 = dict(\n",
      "        birth = date(1980, 1, 1),\n",
      "        sal = 0*3,\n",
      "        statmarit = 1,\n",
      "    )\n",
      "    ).new_simulation(debug = True)"
     ],
     "language": "python",
     "metadata": {},
     "outputs": [],
     "prompt_number": 33
    },
    {
     "cell_type": "markdown",
     "metadata": {},
     "source": [
      "Revenu dispo :"
     ]
    },
    {
     "cell_type": "code",
     "collapsed": false,
     "input": [
      "revenu_dispomenage_1et4 = simulation_menage_1et4.calculate('revdisp', period )\n",
      "print revenu_dispomenage_1et4"
     ],
     "language": "python",
     "metadata": {},
     "outputs": [
      {
       "output_type": "stream",
       "stream": "stdout",
       "text": [
        "[ 9276.1953125]\n"
       ]
      }
     ],
     "prompt_number": 34
    },
    {
     "cell_type": "markdown",
     "metadata": {},
     "source": [
      "Gain \u00e0 la mise en couple des individus 1 et 4"
     ]
    },
    {
     "cell_type": "code",
     "collapsed": false,
     "input": [
      "revenu_dispomenage_1et4  - revenu_dispo1 - revenu_dispo4"
     ],
     "language": "python",
     "metadata": {},
     "outputs": [
      {
       "metadata": {},
       "output_type": "pyout",
       "prompt_number": 35,
       "text": [
        "array([-3092.06445312], dtype=float32)"
       ]
      }
     ],
     "prompt_number": 35
    },
    {
     "cell_type": "code",
     "collapsed": false,
     "input": [
      "simulation_menage_2et3 = tax_benefit_system.new_scenario().init_single_entity(\n",
      "    period = \"2012:3\",\n",
      "    parent1 = dict(\n",
      "        birth = date(1980, 1, 1),\n",
      "        sal = 100000*3,\n",
      "        statmarit = 1,\n",
      "        ),\n",
      "    parent2 = dict(\n",
      "        birth = date(1980, 1, 1),\n",
      "        sal = 0*3,\n",
      "        statmarit = 1,\n",
      "    )\n",
      "    ).new_simulation(debug = True)"
     ],
     "language": "python",
     "metadata": {},
     "outputs": [],
     "prompt_number": 36
    },
    {
     "cell_type": "code",
     "collapsed": false,
     "input": [
      "revenu_dispomenage_2et3 = simulation_menage_2et3.calculate('revdisp', period )\n",
      "print revenu_dispomenage_2et3"
     ],
     "language": "python",
     "metadata": {},
     "outputs": [
      {
       "output_type": "stream",
       "stream": "stdout",
       "text": [
        "[ 9276.1953125]\n"
       ]
      }
     ],
     "prompt_number": 39
    },
    {
     "cell_type": "code",
     "collapsed": false,
     "input": [
      "revenu_dispomenage_2et3  - revenu_dispo2 - revenu_dispo3"
     ],
     "language": "python",
     "metadata": {},
     "outputs": [
      {
       "metadata": {},
       "output_type": "pyout",
       "prompt_number": 40,
       "text": [
        "array([-3092.06445312], dtype=float32)"
       ]
      }
     ],
     "prompt_number": 40
    }
   ],
   "metadata": {}
  }
 ]
}