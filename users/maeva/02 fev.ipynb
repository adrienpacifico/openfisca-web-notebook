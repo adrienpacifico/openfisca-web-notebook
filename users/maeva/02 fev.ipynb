{
 "metadata": {
  "name": "",
  "signature": "sha256:fa59d783edd3caa385871a4ac8310cb02e794946b670970cc8d984463d2df1bd"
 },
 "nbformat": 3,
 "nbformat_minor": 0,
 "worksheets": [
  {
   "cells": [
    {
     "cell_type": "markdown",
     "metadata": {},
     "source": [
      "Comment g\u00e9rer une liste & un dico & cmt on fait des boucles sur les listes et les dico ? "
     ]
    },
    {
     "cell_type": "markdown",
     "metadata": {},
     "source": [
      "On va it\u00e9rer sur les ann\u00e9es et les stocker"
     ]
    },
    {
     "cell_type": "code",
     "collapsed": false,
     "input": [
      "def gain(year):\n",
      "    return float (year) / 2\n",
      "mon_dico = dict()"
     ],
     "language": "python",
     "metadata": {},
     "outputs": [],
     "prompt_number": 40
    },
    {
     "cell_type": "code",
     "collapsed": false,
     "input": [
      "ma_liste = list()\n",
      "for year in range(2010, 2015):\n",
      "    print year\n",
      "    ma_liste.append(year)\n",
      "    \n",
      "print ma_liste"
     ],
     "language": "python",
     "metadata": {},
     "outputs": [
      {
       "output_type": "stream",
       "stream": "stdout",
       "text": [
        "2010\n",
        "2011\n",
        "2012\n",
        "2013\n",
        "2014\n",
        "[2010, 2011, 2012, 2013, 2014]\n"
       ]
      }
     ],
     "prompt_number": 34
    },
    {
     "cell_type": "code",
     "collapsed": false,
     "input": [
      "for year in range(2010, 2015):\n",
      "    print year\n",
      "    print gain(year)\n",
      "    mon_dico[year] = gain(year)\n",
      "    print mon_dico"
     ],
     "language": "python",
     "metadata": {},
     "outputs": [
      {
       "output_type": "stream",
       "stream": "stdout",
       "text": [
        "2010\n",
        "1005.0\n",
        "{2010: 1005.0}\n",
        "2011\n",
        "1005.5\n",
        "{2010: 1005.0, 2011: 1005.5}\n",
        "2012\n",
        "1006.0\n",
        "{2010: 1005.0, 2011: 1005.5, 2012: 1006.0}\n",
        "2013\n",
        "1006.5\n",
        "{2010: 1005.0, 2011: 1005.5, 2012: 1006.0, 2013: 1006.5}\n",
        "2014\n",
        "1007.0\n",
        "{2010: 1005.0, 2011: 1005.5, 2012: 1006.0, 2013: 1006.5, 2014: 1007.0}\n"
       ]
      }
     ],
     "prompt_number": 41
    },
    {
     "cell_type": "markdown",
     "metadata": {},
     "source": [
      "On veut juste la derni\u00e8re liste, avec toutes les ann\u00e9es, pas tout \u00e7a. Alors on remet print ma liste au bord, on enl\u00e8ve le tab, pour dire ou \u00e7a s'arrete"
     ]
    },
    {
     "cell_type": "code",
     "collapsed": false,
     "input": [
      "year"
     ],
     "language": "python",
     "metadata": {},
     "outputs": [
      {
       "metadata": {},
       "output_type": "pyout",
       "prompt_number": 5,
       "text": [
        "2014"
       ]
      }
     ],
     "prompt_number": 5
    },
    {
     "cell_type": "code",
     "collapsed": false,
     "input": [
      "range(2010, 2015, 2)"
     ],
     "language": "python",
     "metadata": {},
     "outputs": [
      {
       "metadata": {},
       "output_type": "pyout",
       "prompt_number": 4,
       "text": [
        "[2010, 2012, 2014]"
       ]
      }
     ],
     "prompt_number": 4
    },
    {
     "cell_type": "markdown",
     "metadata": {},
     "source": [
      "On veut stocker ces ann\u00e9es ds qqch qui nous garde l'info pour toutes les ann\u00e9es. 2 choses contiennent : listes (choses \u00e0 la suite, ordonn\u00e9es) ou dico (mot et son explication, couple cl\u00e9-valeur) . Ici que l'ann\u00e9e, on a envie de construire une liste. Deux fa\u00e7ons de les constuire :\n"
     ]
    },
    {
     "cell_type": "code",
     "collapsed": false,
     "input": [
      "ma_liste = [1,2,3,4]"
     ],
     "language": "python",
     "metadata": {},
     "outputs": [],
     "prompt_number": 17
    },
    {
     "cell_type": "code",
     "collapsed": false,
     "input": [
      "for year in ma_liste:\n",
      "    print year"
     ],
     "language": "python",
     "metadata": {},
     "outputs": [
      {
       "output_type": "stream",
       "stream": "stdout",
       "text": [
        "2010\n",
        "2011\n",
        "2012\n",
        "2013\n",
        "2014\n"
       ]
      }
     ],
     "prompt_number": 42
    },
    {
     "cell_type": "code",
     "collapsed": false,
     "input": [
      "for key, value in mon_dico.iteritems():\n",
      "    print key\n",
      "    print value\n",
      "    print \"====\""
     ],
     "language": "python",
     "metadata": {},
     "outputs": [
      {
       "output_type": "stream",
       "stream": "stdout",
       "text": [
        "2010\n",
        "1005.0\n",
        "====\n",
        "2011\n",
        "1005.5\n",
        "====\n",
        "2012\n",
        "1006.0\n",
        "====\n",
        "2013\n",
        "1006.5\n",
        "====\n",
        "2014\n",
        "1007.0\n",
        "====\n"
       ]
      }
     ],
     "prompt_number": 43
    },
    {
     "cell_type": "code",
     "collapsed": false,
     "input": [
      "print mon_dico.keys() #liste de mes cl\u00e9s\n",
      "print type(mon_dico.keys())"
     ],
     "language": "python",
     "metadata": {},
     "outputs": [
      {
       "output_type": "stream",
       "stream": "stdout",
       "text": [
        "[2010, 2011, 2012, 2013, 2014]\n",
        "<type 'list'>\n"
       ]
      }
     ],
     "prompt_number": 45
    },
    {
     "cell_type": "code",
     "collapsed": false,
     "input": [],
     "language": "python",
     "metadata": {},
     "outputs": []
    },
    {
     "cell_type": "code",
     "collapsed": false,
     "input": [
      "ma_liste"
     ],
     "language": "python",
     "metadata": {},
     "outputs": [
      {
       "metadata": {},
       "output_type": "pyout",
       "prompt_number": 18,
       "text": [
        "[1, 2, 3, 4]"
       ]
      }
     ],
     "prompt_number": 18
    },
    {
     "cell_type": "code",
     "collapsed": false,
     "input": [
      "ma_liste.index(3) #car Python commence tjr \u00e0 zero"
     ],
     "language": "python",
     "metadata": {},
     "outputs": [
      {
       "metadata": {},
       "output_type": "pyout",
       "prompt_number": 10,
       "text": [
        "2"
       ]
      }
     ],
     "prompt_number": 10
    },
    {
     "cell_type": "code",
     "collapsed": false,
     "input": [
      "ma_liste.pop() #Extrait le dernier \u00e9l\u00e9ment ou autre si je mets un argument : L.pop([index]) enregistr\u00e9 et modifie la liste"
     ],
     "language": "python",
     "metadata": {},
     "outputs": [
      {
       "metadata": {},
       "output_type": "pyout",
       "prompt_number": 11,
       "text": [
        "4"
       ]
      }
     ],
     "prompt_number": 11
    },
    {
     "cell_type": "code",
     "collapsed": false,
     "input": [
      "ma_liste"
     ],
     "language": "python",
     "metadata": {},
     "outputs": [
      {
       "metadata": {},
       "output_type": "pyout",
       "prompt_number": 12,
       "text": [
        "[1, 2, 3]"
       ]
      }
     ],
     "prompt_number": 12
    },
    {
     "cell_type": "code",
     "collapsed": false,
     "input": [
      "ma_liste.pop(1)"
     ],
     "language": "python",
     "metadata": {},
     "outputs": [
      {
       "metadata": {},
       "output_type": "pyout",
       "prompt_number": 19,
       "text": [
        "2"
       ]
      }
     ],
     "prompt_number": 19
    },
    {
     "cell_type": "code",
     "collapsed": false,
     "input": [
      "ma_liste"
     ],
     "language": "python",
     "metadata": {},
     "outputs": [
      {
       "metadata": {},
       "output_type": "pyout",
       "prompt_number": 20,
       "text": [
        "[1, 3, 4]"
       ]
      }
     ],
     "prompt_number": 20
    },
    {
     "cell_type": "code",
     "collapsed": false,
     "input": [
      "ma_liste.append(2)"
     ],
     "language": "python",
     "metadata": {},
     "outputs": [],
     "prompt_number": 23
    },
    {
     "cell_type": "code",
     "collapsed": false,
     "input": [
      "ma_liste"
     ],
     "language": "python",
     "metadata": {},
     "outputs": [
      {
       "metadata": {},
       "output_type": "pyout",
       "prompt_number": 24,
       "text": [
        "[1, 3, 4, 1, 2]"
       ]
      }
     ],
     "prompt_number": 24
    },
    {
     "cell_type": "code",
     "collapsed": false,
     "input": [
      "autre_liste = list(\"abc\")"
     ],
     "language": "python",
     "metadata": {},
     "outputs": [],
     "prompt_number": 26
    },
    {
     "cell_type": "code",
     "collapsed": false,
     "input": [
      "autre_liste"
     ],
     "language": "python",
     "metadata": {},
     "outputs": [
      {
       "metadata": {},
       "output_type": "pyout",
       "prompt_number": 27,
       "text": [
        "['a', 'b', 'c']"
       ]
      }
     ],
     "prompt_number": 27
    },
    {
     "cell_type": "code",
     "collapsed": false,
     "input": [
      "autre_liste.extend(\"abc\")"
     ],
     "language": "python",
     "metadata": {},
     "outputs": [],
     "prompt_number": 28
    },
    {
     "cell_type": "code",
     "collapsed": false,
     "input": [
      "autre_liste"
     ],
     "language": "python",
     "metadata": {},
     "outputs": [
      {
       "metadata": {},
       "output_type": "pyout",
       "prompt_number": 29,
       "text": [
        "['a', 'b', 'c', 'a', 'b', 'c']"
       ]
      }
     ],
     "prompt_number": 29
    },
    {
     "cell_type": "code",
     "collapsed": false,
     "input": [
      "# Reverse inverse l'ordre"
     ],
     "language": "python",
     "metadata": {},
     "outputs": []
    },
    {
     "cell_type": "markdown",
     "metadata": {},
     "source": [
      "Ici, on veut cr\u00e9er la liste des ann\u00e9es, apr\u00e8s on fera la liste des gains."
     ]
    },
    {
     "cell_type": "code",
     "collapsed": false,
     "input": [],
     "language": "python",
     "metadata": {},
     "outputs": []
    },
    {
     "cell_type": "code",
     "collapsed": false,
     "input": [
      "ma_liste = list()\n",
      "for year in range(2010, 2015):\n",
      "    print year\n",
      "    ma_liste.append(year)\n",
      "    print ma_liste\n",
      "    "
     ],
     "language": "python",
     "metadata": {},
     "outputs": [
      {
       "output_type": "stream",
       "stream": "stdout",
       "text": [
        "2010\n"
       ]
      },
      {
       "ename": "NameError",
       "evalue": "name 'ma_list' is not defined",
       "output_type": "pyerr",
       "traceback": [
        "\u001b[0;31m---------------------------------------------------------------------------\u001b[0m\n\u001b[0;31mNameError\u001b[0m                                 Traceback (most recent call last)",
        "\u001b[0;32m<ipython-input-32-3ccee1e7a715>\u001b[0m in \u001b[0;36m<module>\u001b[0;34m()\u001b[0m\n\u001b[1;32m      2\u001b[0m \u001b[0;32mfor\u001b[0m \u001b[0myear\u001b[0m \u001b[0;32min\u001b[0m \u001b[0mrange\u001b[0m\u001b[0;34m(\u001b[0m\u001b[0;36m2010\u001b[0m\u001b[0;34m,\u001b[0m \u001b[0;36m2015\u001b[0m\u001b[0;34m)\u001b[0m\u001b[0;34m:\u001b[0m\u001b[0;34m\u001b[0m\u001b[0m\n\u001b[1;32m      3\u001b[0m     \u001b[0;32mprint\u001b[0m \u001b[0myear\u001b[0m\u001b[0;34m\u001b[0m\u001b[0m\n\u001b[0;32m----> 4\u001b[0;31m     \u001b[0mma_list\u001b[0m\u001b[0;34m.\u001b[0m\u001b[0mappend\u001b[0m\u001b[0;34m(\u001b[0m\u001b[0myear\u001b[0m\u001b[0;34m)\u001b[0m\u001b[0;34m\u001b[0m\u001b[0m\n\u001b[0m\u001b[1;32m      5\u001b[0m     \u001b[0;32mprint\u001b[0m \u001b[0mma_liste\u001b[0m\u001b[0;34m\u001b[0m\u001b[0m\n\u001b[1;32m      6\u001b[0m \u001b[0;34m\u001b[0m\u001b[0m\n",
        "\u001b[0;31mNameError\u001b[0m: name 'ma_list' is not defined"
       ]
      }
     ],
     "prompt_number": 32
    },
    {
     "cell_type": "markdown",
     "metadata": {},
     "source": [
      "Semaine prochaine : construire les dico ann\u00e9es gains \u00e0 l'enfant et tracer les trucs en utilisant les dico. Construire un dico qui contient tout ce qui a \u00e9t\u00e9 fait. On veut construire avec une boucle un dico appel\u00e9 Gain_by_year, les gains par ann\u00e9es, tel que = [2010 : valeur du gain en 2010, 2011 : valeur du gain en 2011]. On va avoir gain pour chaque enfant. \n",
      "Puis on peut faire un dico dans un dico : une boucle sur l'ann\u00e9e puis une boucle sur l'enfant.\n",
      "    Gain rang 1, gains rang 2 ..."
     ]
    },
    {
     "cell_type": "markdown",
     "metadata": {},
     "source": [
      "Projet : \u00eatre concret. Exemples : Individualisation de l'imp\u00f4t, trucs forfaitaires pour enfant. Voir comment fonctionne le syst\u00e8me fran\u00e7ais."
     ]
    },
    {
     "cell_type": "code",
     "collapsed": false,
     "input": [],
     "language": "python",
     "metadata": {},
     "outputs": []
    }
   ],
   "metadata": {}
  }
 ]
}