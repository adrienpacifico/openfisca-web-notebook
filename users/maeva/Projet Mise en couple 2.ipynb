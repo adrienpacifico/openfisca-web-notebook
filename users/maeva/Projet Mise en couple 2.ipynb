{
 "metadata": {
  "name": "",
  "signature": "sha256:0a199654c765b4b168b83a65cb29b56ca6220ae316f9c4f791277627fbf5eb16"
 },
 "nbformat": 3,
 "nbformat_minor": 0,
 "worksheets": [
  {
   "cells": [
    {
     "cell_type": "heading",
     "level": 1,
     "metadata": {},
     "source": [
      "1- 4 individus avec niveaux de revenus du travail diff\u00e9rents : Individu 1 : 100 000\u20ac Individu 2 : 80 000\u20ac Individu 3 : 20 000\u20ac Individu 4 : 0\u20ac -> Calcul de leur revenu dispo individuel"
     ]
    },
    {
     "cell_type": "heading",
     "level": 1,
     "metadata": {},
     "source": [
      "2- Mettre ensemble les 2 avec plus hauts revenus, ensemble les 2 avec faibles revenus. -> Calculer pour chaque couple le revenu dispo, comparer avec la somme de leurs RD lorsqu'ils sont seuls"
     ]
    },
    {
     "cell_type": "heading",
     "level": 1,
     "metadata": {},
     "source": [
      "3- M\u00eame chose avec une autre composition des couples : le plus ais\u00e9 avec la personne ne travaillant pas, les 2 autres ensembles, le revenu du travail du 1er couple doit \u00eatre \u00e9gal \u00e0 celuidu 2e couple -> On compare avec les RD individuels et les couples entre eux, \u00e0 revenu du m\u00e9nage \u00e9gal, les individus ont ils plut\u00f4t int\u00e9ret \u00e0 travailler tous les deux ou y a t il incitation \u00e0 ne pas travailler pour l'un des membre du m\u00e9nage ?"
     ]
    },
    {
     "cell_type": "heading",
     "level": 2,
     "metadata": {},
     "source": [
      "Cr\u00e9er mes 4 cas types"
     ]
    },
    {
     "cell_type": "markdown",
     "metadata": {},
     "source": [
      "1- 4 individus avec niveaux de revenus du travail diff\u00e9rents : Individu 1 : 100 000\u20ac Individu 2 : 80 000\u20ac Individu 3 : 20 000\u20ac Individu 4 : 0\u20ac -> Calcul de leur revenu dispo individuel"
     ]
    },
    {
     "cell_type": "code",
     "collapsed": false,
     "input": [
      "%matplotlib inline\n",
      "import matplotlib.pyplot as plt\n",
      "from openfisca_matplotlib import graphs\n",
      "from openfisca_core import periods"
     ],
     "language": "python",
     "metadata": {},
     "outputs": [],
     "prompt_number": 1
    },
    {
     "cell_type": "code",
     "collapsed": false,
     "input": [
      "from datetime import date  \n",
      "import openfisca_france   \n",
      "\n",
      "TaxBenefitSystem = openfisca_france.init_country()  \n",
      "tax_benefit_system = TaxBenefitSystem()  "
     ],
     "language": "python",
     "metadata": {},
     "outputs": [],
     "prompt_number": 2
    },
    {
     "cell_type": "markdown",
     "metadata": {},
     "source": [
      "Simulation pour l'individu 1 : celui avec le plus haut revenu du travail"
     ]
    },
    {
     "cell_type": "code",
     "collapsed": false,
     "input": [
      "simulation_individu1 = tax_benefit_system.new_scenario().init_single_entity(\n",
      "    period = \"2014\", \n",
      "    parent1 = dict(\n",
      "        birth = date(1980, 1, 1),\n",
      "        sal = {\n",
      "            \"2012\": 100000,\n",
      "            \"2013\": 100000,\n",
      "            \"2014\": 100000,\n",
      "            },\n",
      "        )\n",
      "    ).new_simulation(debug = True)"
     ],
     "language": "python",
     "metadata": {},
     "outputs": [],
     "prompt_number": 3
    },
    {
     "cell_type": "markdown",
     "metadata": {},
     "source": [
      "Simulation pour l'individu 2 avec revenu = 80 000"
     ]
    },
    {
     "cell_type": "code",
     "collapsed": false,
     "input": [
      "simulation_individu2 = tax_benefit_system.new_scenario().init_single_entity(\n",
      "    period = \"2014\", \n",
      "    parent1 = dict(\n",
      "        birth = date(1980, 1, 1),\n",
      "        sal = {\n",
      "            \"2012\": 80000,\n",
      "            \"2013\": 80000,\n",
      "            \"2014\": 80000,\n",
      "            },\n",
      "        )\n",
      "    ).new_simulation(debug = True)"
     ],
     "language": "python",
     "metadata": {},
     "outputs": [],
     "prompt_number": 4
    },
    {
     "cell_type": "markdown",
     "metadata": {},
     "source": [
      "Simulation pour l'individu 3 avec revenu = 20 000"
     ]
    },
    {
     "cell_type": "code",
     "collapsed": false,
     "input": [
      "simulation_individu3 = tax_benefit_system.new_scenario().init_single_entity(\n",
      "    period = \"2014\", \n",
      "    parent1 = dict(\n",
      "        birth = date(1980, 1, 1),\n",
      "        sal = {\n",
      "            \"2012\": 20000,\n",
      "            \"2013\": 20000,\n",
      "            \"2014\": 20000,\n",
      "            },\n",
      "        )\n",
      "    ).new_simulation(debug = True)"
     ],
     "language": "python",
     "metadata": {},
     "outputs": [],
     "prompt_number": 5
    },
    {
     "cell_type": "markdown",
     "metadata": {},
     "source": [
      "Simulation pour l'individu 4 sans revenu du travail"
     ]
    },
    {
     "cell_type": "code",
     "collapsed": false,
     "input": [
      "simulation_individu4 = tax_benefit_system.new_scenario().init_single_entity(\n",
      "    period = \"2014\", \n",
      "    parent1 = dict(\n",
      "        birth = date(1980, 1, 1),\n",
      "        sal = {\n",
      "            \"2012\": 0,\n",
      "            \"2013\": 0,\n",
      "            \"2014\": 0,\n",
      "            },\n",
      "        )\n",
      "    ).new_simulation(debug = True)"
     ],
     "language": "python",
     "metadata": {},
     "outputs": [],
     "prompt_number": 6
    },
    {
     "cell_type": "code",
     "collapsed": false,
     "input": [
      "def create_celibataire(sal = 0):  #\u00a0salaire_imposable mis \u00e0 z\u00e9ro par d\u00e9faut\n",
      "    #\u00a0Corps de la fonction \u00e0 remplir ...\n",
      "    simulation = tax_benefit_system.new_scenario().init_single_entity(\n",
      "    period = \"2014\", \n",
      "    parent1 = dict(\n",
      "        birth = date(1980, 1, 1),\n",
      "        sal = {\n",
      "            \"2012\": sal, #\u00a0modification\n",
      "            \"2013\": sal, #\u00a0modification\n",
      "            \"2014\": sal, #\u00a0modification\n",
      "            },\n",
      "        )\n",
      "    ).new_simulation(debug = True)\n",
      "    return simulation\n",
      "# Pour pouvoir ex\u00e9cuter\n",
      "simulation_1 = create_celibataire(sal = 100000)\n",
      "simulation_2 = create_celibataire(sal = 80000)\n",
      "simulation_3 = create_celibataire(sal = 20000)\n",
      "simulation_4 = create_celibataire(sal = 0)"
     ],
     "language": "python",
     "metadata": {},
     "outputs": [],
     "prompt_number": 7
    },
    {
     "cell_type": "code",
     "collapsed": false,
     "input": [
      "simulation_1.calculate('sal')"
     ],
     "language": "python",
     "metadata": {},
     "outputs": [
      {
       "metadata": {},
       "output_type": "pyout",
       "prompt_number": 8,
       "text": [
        "array([ 100000.], dtype=float32)"
       ]
      }
     ],
     "prompt_number": 8
    },
    {
     "cell_type": "code",
     "collapsed": false,
     "input": [
      "def create_couple(sal1 = 0, sal2 = 0):  #\u00a0salaire_imposable mis \u00e0 z\u00e9ro par d\u00e9faut pour les deux membres du couple\n",
      "    #\u00a0Corps de la fonction \u00e0 remplir ...\n",
      "    simulation = tax_benefit_system.new_scenario().init_single_entity(\n",
      "    period = \"2014\",\n",
      "    parent1 = dict(\n",
      "        birth = date(1980, 1, 1),\n",
      "        sal = {\n",
      "            \"2012\": sal1, #\u00a0modification\n",
      "            \"2013\": sal1, #\u00a0modification\n",
      "            \"2014\": sal1, #\u00a0modification  \n",
      "            },\n",
      "        statmarit = 1, \n",
      "        ),\n",
      "    parent2 = dict(\n",
      "        birth = date(1980, 1, 1),\n",
      "        sal = {\n",
      "            \"2012\": sal2, #\u00a0modification\n",
      "            \"2013\": sal2, #\u00a0modification\n",
      "            \"2014\": sal2, #\u00a0modification \n",
      "            },\n",
      "        statmarit = 1, \n",
      "    )\n",
      "    \n",
      "    ).new_simulation(debug = True)\n",
      "    return simulation\n",
      "# Pour pouvoir ex\u00e9cuter\n",
      "simulation_1_et_2 = create_couple(sal1 = 100000, sal2 = 80000)\n",
      "simulation_3_et_4 = create_couple(sal1 = 20000, sal2 = 0)\n",
      "simulation_2_et_3 = create_couple(sal1 = 20000, sal2 = 80000)\n",
      "simulation_1_et_4 = create_couple(sal1 = 100000, sal2 = 0)"
     ],
     "language": "python",
     "metadata": {},
     "outputs": [],
     "prompt_number": 9
    },
    {
     "cell_type": "code",
     "collapsed": false,
     "input": [
      "simulation_1_et_2.calculate('sal')"
     ],
     "language": "python",
     "metadata": {},
     "outputs": [
      {
       "metadata": {},
       "output_type": "pyout",
       "prompt_number": 10,
       "text": [
        "array([ 100000.,   80000.], dtype=float32)"
       ]
      }
     ],
     "prompt_number": 10
    },
    {
     "cell_type": "markdown",
     "metadata": {},
     "source": [
      "Calcul des revenus disponibles pour chaque individu s\u00e9par\u00e9ment"
     ]
    },
    {
     "cell_type": "code",
     "collapsed": false,
     "input": [
      "revenu_dispo1 = simulation_1.calculate('revdisp')\n",
      "print revenu_dispo1"
     ],
     "language": "python",
     "metadata": {},
     "outputs": [
      {
       "output_type": "stream",
       "stream": "stdout",
       "text": [
        "[ 82815.9140625]\n"
       ]
      }
     ],
     "prompt_number": 11
    },
    {
     "cell_type": "heading",
     "level": 4,
     "metadata": {},
     "source": [
      "Essai : cr\u00e9ation d'un dico de variable pour cette configuration de m\u00e9nage : 1 seul"
     ]
    },
    {
     "cell_type": "code",
     "collapsed": false,
     "input": [
      "liste_variables = list()"
     ],
     "language": "python",
     "metadata": {},
     "outputs": [],
     "prompt_number": 12
    },
    {
     "cell_type": "code",
     "collapsed": false,
     "input": [
      "revenu_dispo2 = simulation_2.calculate('revdisp', period = periods.period(\"year\", \"2014\"))\n",
      "print revenu_dispo2"
     ],
     "language": "python",
     "metadata": {},
     "outputs": [
      {
       "output_type": "stream",
       "stream": "stdout",
       "text": [
        "[ 70195.9140625]\n"
       ]
      }
     ],
     "prompt_number": 13
    },
    {
     "cell_type": "code",
     "collapsed": false,
     "input": [
      "def calculate_variables(variables, simulation):\n",
      "    amount_by_variable = dict()\n",
      "    for variable in variables:\n",
      "        amount_by_variable[variable] = simulation.calculate(variable, \"2014\")\n",
      "    return amount_by_variable"
     ],
     "language": "python",
     "metadata": {},
     "outputs": [],
     "prompt_number": 14
    },
    {
     "cell_type": "code",
     "collapsed": false,
     "input": [
      "calculate_variables([\"revdisp\", \"impo\", \"sal\",\"rsa\"], simulation_1)"
     ],
     "language": "python",
     "metadata": {},
     "outputs": [
      {
       "metadata": {},
       "output_type": "pyout",
       "prompt_number": 15,
       "text": [
        "{'impo': array([-23368.22070312], dtype=float32),\n",
        " 'revdisp': array([ 82815.9140625], dtype=float32),\n",
        " 'rsa': array([ 6031.6796875], dtype=float32),\n",
        " 'sal': array([ 100000.], dtype=float32)}"
       ]
      }
     ],
     "prompt_number": 15
    },
    {
     "cell_type": "code",
     "collapsed": false,
     "input": [
      "simulation_by_configuration = {\n",
      "    'individu_1': simulation_1, \n",
      "    'individu_2': simulation_2, \n",
      "    'individu_3': simulation_3, \n",
      "    'individu_4': simulation_4,\n",
      "    'menage_1_et_2': simulation_1_et_2,\n",
      "    'menage_3_et_4': simulation_3_et_4, \n",
      "    'menage_1_et_4': simulation_1_et_4,\n",
      "    'menage_2_et_3': simulation_2_et_3\n",
      "    }"
     ],
     "language": "python",
     "metadata": {},
     "outputs": [],
     "prompt_number": 16
    },
    {
     "cell_type": "code",
     "collapsed": false,
     "input": [
      "def calculate_variables_by_configuration(simulation_by_configuration, variables):\n",
      "    variables_by_configuration = dict()\n",
      "    for configuration, simulation in simulation_by_configuration.items():\n",
      "        variables_by_configuration[configuration] = calculate_variables(variables, simulation)\n",
      "    return variables_by_configuration"
     ],
     "language": "python",
     "metadata": {},
     "outputs": [],
     "prompt_number": 17
    },
    {
     "cell_type": "code",
     "collapsed": false,
     "input": [
      "variables = [\"revdisp\", \"impo\", \"sal\",\"rsa\"]\n",
      "calculate_variables_by_configuration(simulation_by_configuration, variables)"
     ],
     "language": "python",
     "metadata": {},
     "outputs": [
      {
       "metadata": {},
       "output_type": "pyout",
       "prompt_number": 18,
       "text": [
        "{'individu_1': {'impo': array([-23368.22070312], dtype=float32),\n",
        "  'revdisp': array([ 82815.9140625], dtype=float32),\n",
        "  'rsa': array([ 6031.6796875], dtype=float32),\n",
        "  'sal': array([ 100000.], dtype=float32)},\n",
        " 'individu_2': {'impo': array([-15988.21972656], dtype=float32),\n",
        "  'revdisp': array([ 70195.9140625], dtype=float32),\n",
        "  'rsa': array([ 6031.6796875], dtype=float32),\n",
        "  'sal': array([ 80000.], dtype=float32)},\n",
        " 'individu_3': {'impo': array([-1163.40002441], dtype=float32),\n",
        "  'revdisp': array([ 25020.72851562], dtype=float32),\n",
        "  'rsa': array([ 6031.6796875], dtype=float32),\n",
        "  'sal': array([ 20000.], dtype=float32)},\n",
        " 'individu_4': {'impo': array([ 0.], dtype=float32),\n",
        "  'revdisp': array([ 6184.12988281], dtype=float32),\n",
        "  'rsa': array([ 6031.6796875], dtype=float32),\n",
        "  'sal': array([ 0.], dtype=float32)},\n",
        " 'menage_1_et_2': {'impo': array([-39356.44140625], dtype=float32),\n",
        "  'revdisp': array([ 149919.75], dtype=float32),\n",
        "  'rsa': array([ 9047.52050781], dtype=float32),\n",
        "  'sal': array([ 100000.,   80000.], dtype=float32)},\n",
        " 'menage_1_et_4': {'impo': array([-15722.3203125], dtype=float32),\n",
        "  'revdisp': array([ 93553.875], dtype=float32),\n",
        "  'rsa': array([ 9047.52050781], dtype=float32),\n",
        "  'sal': array([ 100000.,       0.], dtype=float32)},\n",
        " 'menage_2_et_3': {'impo': array([-15722.3203125], dtype=float32),\n",
        "  'revdisp': array([ 93553.875], dtype=float32),\n",
        "  'rsa': array([ 9047.52050781], dtype=float32),\n",
        "  'sal': array([ 20000.,  80000.], dtype=float32)},\n",
        " 'menage_3_et_4': {'impo': array([ 0.], dtype=float32),\n",
        "  'revdisp': array([ 29276.1953125], dtype=float32),\n",
        "  'rsa': array([ 9047.52050781], dtype=float32),\n",
        "  'sal': array([ 20000.,      0.], dtype=float32)}}"
       ]
      }
     ],
     "prompt_number": 18
    },
    {
     "cell_type": "raw",
     "metadata": {},
     "source": []
    },
    {
     "cell_type": "heading",
     "level": 3,
     "metadata": {},
     "source": [
      "Comparaisons entre mises en couples et situations individuelles"
     ]
    },
    {
     "cell_type": "markdown",
     "metadata": {},
     "source": [
      "Manuellement"
     ]
    },
    {
     "cell_type": "code",
     "collapsed": false,
     "input": [
      "revdisp_1 = calculate_variables([\"revdisp\"], simulation_1)\n",
      "revdisp_2 = calculate_variables([\"revdisp\"], simulation_2)\n",
      "revdisp_3 = calculate_variables([\"revdisp\"], simulation_3)\n",
      "revdisp_4 = calculate_variables([\"revdisp\"], simulation_4)\n",
      "revdisp_1_et_2 = calculate_variables([\"revdisp\"], simulation_1_et_2)\n",
      "revdisp_3_et_4 = calculate_variables([\"revdisp\"], simulation_3_et_4)\n",
      "revdisp_2_et_3 = calculate_variables([\"revdisp\"], simulation_2_et_3)\n",
      "revdisp_1_et_4 = calculate_variables([\"revdisp\"], simulation_1_et_4)\n",
      "print revdisp_1"
     ],
     "language": "python",
     "metadata": {},
     "outputs": [
      {
       "output_type": "stream",
       "stream": "stdout",
       "text": [
        "{'revdisp': array([ 82815.9140625], dtype=float32)}\n"
       ]
      }
     ],
     "prompt_number": 19
    },
    {
     "cell_type": "markdown",
     "metadata": {},
     "source": [
      "Gain \u00e0 la mise en couple de 1 et 2 : les plus ais\u00e9s"
     ]
    },
    {
     "cell_type": "code",
     "collapsed": true,
     "input": [
      "revenu_dispo_1 = simulation_1.calculate('revdisp', period = periods.period(\"year\", \"2014\"))\n",
      "revenu_dispo_2 = simulation_2.calculate('revdisp', period = periods.period(\"year\", \"2014\"))\n",
      "revenu_dispo_1_et_2 = simulation_1_et_2.calculate('revdisp', period = periods.period(\"year\", \"2014\"))\n",
      "gain_revenu_dispo_1_et_2 = revenu_dispo_1_et_2 - revenu_dispo_1 - revenu_dispo_2\n",
      "print gain_revenu_dispo_1_et_2"
     ],
     "language": "python",
     "metadata": {},
     "outputs": [
      {
       "output_type": "stream",
       "stream": "stdout",
       "text": [
        "[-3092.078125]\n"
       ]
      }
     ],
     "prompt_number": 20
    },
    {
     "cell_type": "markdown",
     "metadata": {},
     "source": [
      "Gain \u00e0 la mise en couple de 3 et 4 : les plus pauvres"
     ]
    },
    {
     "cell_type": "code",
     "collapsed": false,
     "input": [
      "revenu_dispo_3 = simulation_3.calculate('revdisp', period = periods.period(\"year\", \"2014\"))\n",
      "revenu_dispo_4 = simulation_4.calculate('revdisp', period = periods.period(\"year\", \"2014\"))\n",
      "revenu_dispo_3_et_4 = simulation_3_et_4.calculate('revdisp', period = periods.period(\"year\", \"2014\"))\n",
      "gain_revenu_dispo_3_et_4 = revenu_dispo_3_et_4 - revenu_dispo_1 - revenu_dispo_4\n",
      "print gain_revenu_dispo_3_et_4"
     ],
     "language": "python",
     "metadata": {},
     "outputs": [
      {
       "output_type": "stream",
       "stream": "stdout",
       "text": [
        "[-59723.84765625]\n"
       ]
      }
     ],
     "prompt_number": 21
    },
    {
     "cell_type": "markdown",
     "metadata": {},
     "source": [
      "Gain \u00e0 la mise en couple de 1 et 4 : le plus riche et le plus pauvre -> Gain positif"
     ]
    },
    {
     "cell_type": "code",
     "collapsed": false,
     "input": [
      "revenu_dispo_1 = simulation_1.calculate('revdisp', period = periods.period(\"year\", \"2014\"))\n",
      "revenu_dispo_4 = simulation_4.calculate('revdisp', period = periods.period(\"year\", \"2014\"))\n",
      "revenu_dispo_1_et_4 = simulation_1_et_4.calculate('revdisp', period = periods.period(\"year\", \"2014\"))\n",
      "gain_revenu_dispo_1_et_4 = revenu_dispo_1_et_4 - revenu_dispo_1 - revenu_dispo_4\n",
      "print gain_revenu_dispo_1_et_4"
     ],
     "language": "python",
     "metadata": {},
     "outputs": [
      {
       "output_type": "stream",
       "stream": "stdout",
       "text": [
        "[ 4553.83105469]\n"
       ]
      }
     ],
     "prompt_number": 22
    },
    {
     "cell_type": "markdown",
     "metadata": {},
     "source": [
      "Gain \u00e0 la mise en couple de 3 et 4 : les niveaus de revenu disponible interm\u00e9diares -> Gain positif, sup\u00e9rieur \u00e0 celui de 1 et 4"
     ]
    },
    {
     "cell_type": "code",
     "collapsed": false,
     "input": [
      "revenu_dispo_3 = simulation_3.calculate('revdisp', period = periods.period(\"year\", \"2014\"))\n",
      "revenu_dispo_2 = simulation_4.calculate('revdisp', period = periods.period(\"year\", \"2014\"))\n",
      "revenu_dispo_2_et_3 = simulation_2_et_3.calculate('revdisp', period = periods.period(\"year\", \"2014\"))\n",
      "gain_revenu_dispo_2_et_3 = revenu_dispo_2_et_3 - revenu_dispo_2 - revenu_dispo_3\n",
      "print gain_revenu_dispo_2_et_3"
     ],
     "language": "python",
     "metadata": {},
     "outputs": [
      {
       "output_type": "stream",
       "stream": "stdout",
       "text": [
        "[ 62349.015625]\n"
       ]
      }
     ],
     "prompt_number": 23
    },
    {
     "cell_type": "heading",
     "level": 4,
     "metadata": {},
     "source": [
      "En termes d'imp\u00f4ts"
     ]
    },
    {
     "cell_type": "code",
     "collapsed": false,
     "input": [
      "impots_1 = simulation_1.calculate('impo', period = periods.period(\"year\", \"2014\"))\n",
      "impots_2 = simulation_2.calculate('impo', period = periods.period(\"year\", \"2014\"))\n",
      "impots_1_et_2 = simulation_1_et_2.calculate('impo', period = periods.period(\"year\", \"2014\"))\n",
      "diff_impots_1_et_2 = impots_1_et_2 - impots_1 - impots_2\n",
      "print diff_impots_1_et_2"
     ],
     "language": "python",
     "metadata": {},
     "outputs": [
      {
       "output_type": "stream",
       "stream": "stdout",
       "text": [
        "[-0.00097656]\n"
       ]
      }
     ],
     "prompt_number": 29
    },
    {
     "cell_type": "code",
     "collapsed": false,
     "input": [
      "impots_3 = simulation_3.calculate('impo', period = periods.period(\"year\", \"2014\"))\n",
      "impots_4 = simulation_4.calculate('impo', period = periods.period(\"year\", \"2014\"))\n",
      "impots_3_et_4 = simulation_3_et_4.calculate('impo', period = periods.period(\"year\", \"2014\"))\n",
      "diff_impots_3_et_4 = impots_3_et_4 - impots_3 - impots_4\n",
      "print diff_impots_3_et_4"
     ],
     "language": "python",
     "metadata": {},
     "outputs": [
      {
       "output_type": "stream",
       "stream": "stdout",
       "text": [
        "[ 1163.40002441]\n"
       ]
      }
     ],
     "prompt_number": 30
    },
    {
     "cell_type": "code",
     "collapsed": false,
     "input": [
      "impots_1 = simulation_1.calculate('impo', period = periods.period(\"year\", \"2014\"))\n",
      "impots_4 = simulation_4.calculate('impo', period = periods.period(\"year\", \"2014\"))\n",
      "impots_1_et_4 = simulation_1_et_4.calculate('impo', period = periods.period(\"year\", \"2014\"))\n",
      "diff_impots_1_et_4 = impots_1_et_4 - impots_1 - impots_4\n",
      "print diff_impots_1_et_4"
     ],
     "language": "python",
     "metadata": {},
     "outputs": [
      {
       "output_type": "stream",
       "stream": "stdout",
       "text": [
        "[ 7645.90039062]\n"
       ]
      }
     ],
     "prompt_number": 33
    },
    {
     "cell_type": "code",
     "collapsed": false,
     "input": [
      "impots_3 = simulation_3.calculate('impo', period = periods.period(\"year\", \"2014\"))\n",
      "impots_2 = simulation_2.calculate('impo', period = periods.period(\"year\", \"2014\"))\n",
      "impots_2_et_3 = simulation_2_et_3.calculate('impo', period = periods.period(\"year\", \"2014\"))\n",
      "diff_impots_2_et_3 = impots_2_et_3 - impots_2 - impots_3\n",
      "print diff_impots_2_et_3"
     ],
     "language": "python",
     "metadata": {},
     "outputs": [
      {
       "output_type": "stream",
       "stream": "stdout",
       "text": [
        "[ 1429.29943848]\n"
       ]
      }
     ],
     "prompt_number": 32
    },
    {
     "cell_type": "code",
     "collapsed": false,
     "input": [
      "fig = plt.figure()\n",
      "plt.plot(gain_revenu_dispo_1_et_2, diff_impots_1_et_2, label = \"Les plus riches entre eux\")\n",
      "plt.plot(gain_revenu_dispo_3_et_4, diff_impots_3_et_4, label = \"Les plus pauvres entre eux\")\n",
      "plt.plot(gain_revenu_dispo_1_et_4, diff_impots_1_et_4, label = \"Les extr\u00eames entre eux\")\n",
      "plt.plot(gain_revenu_dispo_1_et_2, diff_impots_2_et_3, label = \"Les cas interm\u00e9diaires entre eux\")\n",
      "plt.legend(loc = 4, shadow=True, fancybox=True)"
     ],
     "language": "python",
     "metadata": {},
     "outputs": [
      {
       "metadata": {},
       "output_type": "pyout",
       "prompt_number": 36,
       "text": [
        "<matplotlib.legend.Legend at 0x7fc3e1892dd0>"
       ]
      },
      {
       "metadata": {},
       "output_type": "display_data",
       "text": [
        "<matplotlib.figure.Figure at 0x7fc3e1d9e850>"
       ]
      }
     ],
     "prompt_number": 36
    },
    {
     "cell_type": "heading",
     "level": 3,
     "metadata": {},
     "source": [
      "Comparaison des m\u00e9nages 1 et 4 et 2 et 3 : \u00e0 revenus \u00e9gaux du m\u00e9nage, les individus ont ils plut\u00f4t int\u00e9ret \u00e0 travailler tous les deux ou y a t il incitation \u00e0 ne pas travailler pour l'un des membre du m\u00e9nage ?"
     ]
    },
    {
     "cell_type": "markdown",
     "metadata": {},
     "source": [
      "Comparaison en termes de revenu disponible"
     ]
    },
    {
     "cell_type": "code",
     "collapsed": false,
     "input": [
      "revenu_dispo_1_et_4 - revenu_dispo_2_et_3"
     ],
     "language": "python",
     "metadata": {},
     "outputs": [
      {
       "metadata": {},
       "output_type": "pyout",
       "prompt_number": 39,
       "text": [
        "array([ 0.], dtype=float32)"
       ]
      }
     ],
     "prompt_number": 39
    },
    {
     "cell_type": "markdown",
     "metadata": {},
     "source": [
      "-> Pas de diff\u00e9rence ... ?"
     ]
    },
    {
     "cell_type": "code",
     "collapsed": false,
     "input": [
      "impots_1_et_4 - impots_2_et_3"
     ],
     "language": "python",
     "metadata": {},
     "outputs": [
      {
       "metadata": {},
       "output_type": "pyout",
       "prompt_number": 41,
       "text": [
        "array([ 0.], dtype=float32)"
       ]
      }
     ],
     "prompt_number": 41
    }
   ],
   "metadata": {}
  }
 ]
}