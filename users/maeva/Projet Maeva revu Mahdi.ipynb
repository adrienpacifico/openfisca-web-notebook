{
 "metadata": {
  "name": "",
  "signature": "sha256:f2108f3ae0c4dd809b3270dfacc5a3c62449a398345121502cee67db17d4cb6c"
 },
 "nbformat": 3,
 "nbformat_minor": 0,
 "worksheets": [
  {
   "cells": [
    {
     "cell_type": "heading",
     "level": 1,
     "metadata": {},
     "source": [
      "1- 4 individus avec niveaux de revenus du travail diff\u00e9rents : Individu 1 : 100 000\u20ac Individu 2 : 80 000\u20ac Individu 3 : 20 000\u20ac Individu 4 : 0\u20ac -> Calcul de leur revenu dispo individuel"
     ]
    },
    {
     "cell_type": "heading",
     "level": 1,
     "metadata": {},
     "source": [
      "2- Mettre ensemble les 2 avec plus hauts revenus, ensemble les 2 avec faibles revenus. -> Calculer pour chaque couple le revenu dispo, comparer avec la somme de leurs RD lorsqu'ils sont seuls"
     ]
    },
    {
     "cell_type": "markdown",
     "metadata": {},
     "source": [
      "3- M\u00eame chose avec une autre composition des couples : le plus ais\u00e9 avec la personne ne travaillant pas, les 2 autres ensembles, le revenu du travail du 1er couple doit \u00eatre \u00e9gal \u00e0 celui du 2e couple -> On compare avec les RD individuels et les couples entre eux, \u00e0 revenu du m\u00e9nage \u00e9gal, les individus ont ils plut\u00f4t int\u00e9ret \u00e0 travailler tous les deux ou y a t il incitation \u00e0 ne pas travailler pour l'un des membre du m\u00e9nage ?"
     ]
    },
    {
     "cell_type": "heading",
     "level": 2,
     "metadata": {},
     "source": [
      "Cr\u00e9er mes 4 cas types"
     ]
    },
    {
     "cell_type": "markdown",
     "metadata": {},
     "source": [
      "1- 4 individus avec niveaux de revenus du travail diff\u00e9rents : Individu 1 : 100 000\u20ac Individu 2 : 80 000\u20ac Individu 3 : 20 000\u20ac Individu 4 : 0\u20ac -> Calcul de leur revenu dispo individuel"
     ]
    },
    {
     "cell_type": "code",
     "collapsed": false,
     "input": [
      "%matplotlib inline\n",
      "import matplotlib.pyplot as plt\n",
      "from openfisca_matplotlib import graphs\n",
      "from openfisca_core import periods"
     ],
     "language": "python",
     "metadata": {},
     "outputs": [],
     "prompt_number": 27
    },
    {
     "cell_type": "code",
     "collapsed": false,
     "input": [
      "from datetime import date  \n",
      "import openfisca_france   \n",
      "\n",
      "TaxBenefitSystem = openfisca_france.init_country()  \n",
      "tax_benefit_system = TaxBenefitSystem()  "
     ],
     "language": "python",
     "metadata": {},
     "outputs": [],
     "prompt_number": 28
    },
    {
     "cell_type": "markdown",
     "metadata": {},
     "source": [
      "Simulation pour l'individu 1 : celui avec le plus haut revenu du travail"
     ]
    },
    {
     "cell_type": "code",
     "collapsed": false,
     "input": [
      "simulation_individu1 = tax_benefit_system.new_scenario().init_single_entity(\n",
      "    period = \"2014\", \n",
      "    parent1 = dict(\n",
      "        birth = date(1980, 1, 1),\n",
      "        sal = {\n",
      "            \"2012\": 100000,\n",
      "            \"2013\": 100000,\n",
      "            \"2014\": 100000,\n",
      "            },\n",
      "        )\n",
      "    ).new_simulation(debug = True)"
     ],
     "language": "python",
     "metadata": {},
     "outputs": [],
     "prompt_number": 29
    },
    {
     "cell_type": "markdown",
     "metadata": {},
     "source": [
      "Simulation pour l'individu 2 avec revenu = 80 000"
     ]
    },
    {
     "cell_type": "code",
     "collapsed": false,
     "input": [
      "simulation_individu2 = tax_benefit_system.new_scenario().init_single_entity(\n",
      "    period = \"2014\", \n",
      "    parent1 = dict(\n",
      "        birth = date(1980, 1, 1),\n",
      "        sal = {\n",
      "            \"2012\": 80000,\n",
      "            \"2013\": 80000,\n",
      "            \"2014\": 80000,\n",
      "            },\n",
      "        )\n",
      "    ).new_simulation(debug = True)"
     ],
     "language": "python",
     "metadata": {},
     "outputs": [],
     "prompt_number": 30
    },
    {
     "cell_type": "markdown",
     "metadata": {},
     "source": [
      "Simulation pour l'individu 3 avec revenu = 20 000"
     ]
    },
    {
     "cell_type": "code",
     "collapsed": false,
     "input": [
      "simulation_individu3 = tax_benefit_system.new_scenario().init_single_entity(\n",
      "    period = \"2014\", \n",
      "    parent1 = dict(\n",
      "        birth = date(1980, 1, 1),\n",
      "        sal = {\n",
      "            \"2012\": 20000,\n",
      "            \"2013\": 20000,\n",
      "            \"2014\": 20000,\n",
      "            },\n",
      "        )\n",
      "    ).new_simulation(debug = True)"
     ],
     "language": "python",
     "metadata": {},
     "outputs": [],
     "prompt_number": 31
    },
    {
     "cell_type": "markdown",
     "metadata": {},
     "source": [
      "Simulation pour l'individu 4 sans revenu du travail"
     ]
    },
    {
     "cell_type": "code",
     "collapsed": false,
     "input": [
      "simulation_individu4 = tax_benefit_system.new_scenario().init_single_entity(\n",
      "    period = \"2014\", \n",
      "    parent1 = dict(\n",
      "        birth = date(1980, 1, 1),\n",
      "        sal = {\n",
      "            \"2012\": 0,\n",
      "            \"2013\": 0,\n",
      "            \"2014\": 0,\n",
      "            },\n",
      "        )\n",
      "    ).new_simulation(debug = True)"
     ],
     "language": "python",
     "metadata": {},
     "outputs": [],
     "prompt_number": 32
    },
    {
     "cell_type": "markdown",
     "metadata": {},
     "source": [
      "A FAIRE: Cr\u00e9ation de fonctions pratique pour all\u00e9ger le notebook en s'inspirant de ce qui a \u00e9t\u00e9 fait ci-dessus"
     ]
    },
    {
     "cell_type": "code",
     "collapsed": false,
     "input": [
      "def create_celibataire(sal = 0):  #\u00a0salaire_imposable mis \u00e0 z\u00e9ro par d\u00e9faut\n",
      "    #\u00a0Corps de la fonction \u00e0 remplir ...\n",
      "    simulation = tax_benefit_system.new_scenario().init_single_entity(\n",
      "    period = \"2014\", \n",
      "    parent1 = dict(\n",
      "        birth = date(1980, 1, 1),\n",
      "        sal = {\n",
      "            \"2012\": sal, #\u00a0modification\n",
      "            \"2013\": sal, #\u00a0modification\n",
      "            \"2014\": sal, #\u00a0modification\n",
      "            },\n",
      "        )\n",
      "    ).new_simulation(debug = True)\n",
      "    return simulation\n",
      "# Pour pouvoir ex\u00e9cuter\n",
      "simulation_1 = create_celibataire(sal = 100000)\n",
      "simulation_2 = create_celibataire(sal = 80000)\n",
      "simulation_3 = create_celibataire(sal = 20000)\n",
      "simulation_4 = create_celibataire(sal = 0)"
     ],
     "language": "python",
     "metadata": {},
     "outputs": [],
     "prompt_number": 33
    },
    {
     "cell_type": "code",
     "collapsed": false,
     "input": [
      "simulation_1.calculate('sal')"
     ],
     "language": "python",
     "metadata": {},
     "outputs": [
      {
       "metadata": {},
       "output_type": "pyout",
       "prompt_number": 34,
       "text": [
        "array([ 100000.], dtype=float32)"
       ]
      }
     ],
     "prompt_number": 34
    },
    {
     "cell_type": "code",
     "collapsed": false,
     "input": [
      "def create_couple(sal1 = 0, sal2 = 0):  #\u00a0salaire_imposable mis \u00e0 z\u00e9ro par d\u00e9faut pour les deux membres du couple\n",
      "    #\u00a0Corps de la fonction \u00e0 remplir ...\n",
      "    simulation = tax_benefit_system.new_scenario().init_single_entity(\n",
      "    period = \"2014\",\n",
      "    parent1 = dict(\n",
      "        birth = date(1980, 1, 1),\n",
      "        sal = {\n",
      "            \"2012\": sal1, #\u00a0modification\n",
      "            \"2013\": sal1, #\u00a0modification\n",
      "            \"2014\": sal1, #\u00a0modification  \n",
      "            },\n",
      "        statmarit = 1, \n",
      "        ),\n",
      "    parent2 = dict(\n",
      "        birth = date(1980, 1, 1),\n",
      "        sal = {\n",
      "            \"2012\": sal2, #\u00a0modification\n",
      "            \"2013\": sal2, #\u00a0modification\n",
      "            \"2014\": sal2, #\u00a0modification \n",
      "            },\n",
      "        statmarit = 1, \n",
      "    )\n",
      "    \n",
      "    ).new_simulation(debug = True)\n",
      "    return simulation\n",
      "# Pour pouvoir ex\u00e9cuter\n",
      "simulation_1_et_2 = create_couple(sal1 = 100000, sal2 = 80000)\n",
      "simulation_3_et_4 = create_couple(sal1 = 20000, sal2 = 0)\n",
      "simulation_2_et_3 = create_couple(sal1 = 20000, sal2 = 80000)\n",
      "simulation_1_et_4 = create_couple(sal1 = 100000, sal2 = 0)"
     ],
     "language": "python",
     "metadata": {},
     "outputs": [],
     "prompt_number": 35
    },
    {
     "cell_type": "code",
     "collapsed": false,
     "input": [],
     "language": "python",
     "metadata": {},
     "outputs": []
    },
    {
     "cell_type": "code",
     "collapsed": false,
     "input": [
      "simulation_1_et_2.calculate('sal')"
     ],
     "language": "python",
     "metadata": {},
     "outputs": [
      {
       "metadata": {},
       "output_type": "pyout",
       "prompt_number": 36,
       "text": [
        "array([ 100000.,   80000.], dtype=float32)"
       ]
      }
     ],
     "prompt_number": 36
    },
    {
     "cell_type": "markdown",
     "metadata": {},
     "source": [
      "Calcul des revenus disponibles pour chaque individu s\u00e9par\u00e9ment"
     ]
    },
    {
     "cell_type": "code",
     "collapsed": false,
     "input": [
      "revenu_dispo1 = simulation_1.calculate('revdisp')\n",
      "print revenu_dispo1"
     ],
     "language": "python",
     "metadata": {},
     "outputs": [
      {
       "output_type": "stream",
       "stream": "stdout",
       "text": [
        "[ 82815.9140625]\n"
       ]
      }
     ],
     "prompt_number": 37
    },
    {
     "cell_type": "heading",
     "level": 4,
     "metadata": {},
     "source": [
      "Essai : cr\u00e9ation d'un dico de variable pour cette configuration de m\u00e9nage : 1 seul"
     ]
    },
    {
     "cell_type": "code",
     "collapsed": false,
     "input": [
      "liste_variables = list()"
     ],
     "language": "python",
     "metadata": {},
     "outputs": [],
     "prompt_number": 38
    },
    {
     "cell_type": "code",
     "collapsed": false,
     "input": [
      "revenu_dispo2 = simulation_2.calculate('revdisp', period = periods.period(\"year\", \"2014\"))\n",
      "print revenu_dispo2"
     ],
     "language": "python",
     "metadata": {},
     "outputs": [
      {
       "output_type": "stream",
       "stream": "stdout",
       "text": [
        "[ 70195.9140625]\n"
       ]
      }
     ],
     "prompt_number": 39
    },
    {
     "cell_type": "code",
     "collapsed": false,
     "input": [
      "def calculate_variables(variables, simulation):\n",
      "    amount_by_variable = dict()\n",
      "    for variable in variables:\n",
      "        amount_by_variable[variable] = simulation.calculate(variable, \"2014\")\n",
      "    return amount_by_variable"
     ],
     "language": "python",
     "metadata": {},
     "outputs": [],
     "prompt_number": 40
    },
    {
     "cell_type": "code",
     "collapsed": false,
     "input": [
      "calculate_variables([\"revdisp\", \"impo\", \"sal\",\"rsa\"], simulation_1)"
     ],
     "language": "python",
     "metadata": {},
     "outputs": [
      {
       "metadata": {},
       "output_type": "pyout",
       "prompt_number": 41,
       "text": [
        "{'impo': array([-23368.22070312], dtype=float32),\n",
        " 'revdisp': array([ 82815.9140625], dtype=float32),\n",
        " 'rsa': array([ 6031.6796875], dtype=float32),\n",
        " 'sal': array([ 100000.], dtype=float32)}"
       ]
      }
     ],
     "prompt_number": 41
    },
    {
     "cell_type": "code",
     "collapsed": false,
     "input": [
      "simulation_by_configuration = {\n",
      "    'individu_1': simulation_1, \n",
      "    'individu_2': simulation_2, \n",
      "    'individu_3': simulation_3, \n",
      "    'individu_4': simulation_4,\n",
      "    'menage_1_et_2': simulation_1_et_2,\n",
      "    'menage_3_et_4': simulation_3_et_4, \n",
      "    'menage_1_et_4': simulation_1_et_4,\n",
      "    'menage_2_et_3': simulation_2_et_3\n",
      "    }"
     ],
     "language": "python",
     "metadata": {},
     "outputs": [],
     "prompt_number": 42
    },
    {
     "cell_type": "code",
     "collapsed": false,
     "input": [
      "def calculate_variables_by_configuration(simulation_by_configuration, variables):\n",
      "    variables_by_configuration = dict()\n",
      "    for configuration, simulation in simulation_by_configuration.items():\n",
      "        variables_by_configuration[configuration] = calculate_variables(variables, simulation)\n",
      "    return variables_by_configuration"
     ],
     "language": "python",
     "metadata": {},
     "outputs": [],
     "prompt_number": 43
    },
    {
     "cell_type": "code",
     "collapsed": false,
     "input": [
      "variables = [\"revdisp\", \"impo\", \"sal\",\"rsa\"]\n",
      "calculate_variables_by_configuration(simulation_by_configuration, variables)"
     ],
     "language": "python",
     "metadata": {},
     "outputs": [
      {
       "metadata": {},
       "output_type": "pyout",
       "prompt_number": 44,
       "text": [
        "{'individu_1': {'impo': array([-23368.22070312], dtype=float32),\n",
        "  'revdisp': array([ 82815.9140625], dtype=float32),\n",
        "  'rsa': array([ 6031.6796875], dtype=float32),\n",
        "  'sal': array([ 100000.], dtype=float32)},\n",
        " 'individu_2': {'impo': array([-15988.21972656], dtype=float32),\n",
        "  'revdisp': array([ 70195.9140625], dtype=float32),\n",
        "  'rsa': array([ 6031.6796875], dtype=float32),\n",
        "  'sal': array([ 80000.], dtype=float32)},\n",
        " 'individu_3': {'impo': array([-1163.40002441], dtype=float32),\n",
        "  'revdisp': array([ 25020.72851562], dtype=float32),\n",
        "  'rsa': array([ 6031.6796875], dtype=float32),\n",
        "  'sal': array([ 20000.], dtype=float32)},\n",
        " 'individu_4': {'impo': array([ 0.], dtype=float32),\n",
        "  'revdisp': array([ 6184.12988281], dtype=float32),\n",
        "  'rsa': array([ 6031.6796875], dtype=float32),\n",
        "  'sal': array([ 0.], dtype=float32)},\n",
        " 'menage_1_et_2': {'impo': array([-39356.44140625], dtype=float32),\n",
        "  'revdisp': array([ 149919.75], dtype=float32),\n",
        "  'rsa': array([ 9047.52050781], dtype=float32),\n",
        "  'sal': array([ 100000.,   80000.], dtype=float32)},\n",
        " 'menage_1_et_4': {'impo': array([-15722.3203125], dtype=float32),\n",
        "  'revdisp': array([ 93553.875], dtype=float32),\n",
        "  'rsa': array([ 9047.52050781], dtype=float32),\n",
        "  'sal': array([ 100000.,       0.], dtype=float32)},\n",
        " 'menage_2_et_3': {'impo': array([-15722.3203125], dtype=float32),\n",
        "  'revdisp': array([ 93553.875], dtype=float32),\n",
        "  'rsa': array([ 9047.52050781], dtype=float32),\n",
        "  'sal': array([ 20000.,  80000.], dtype=float32)},\n",
        " 'menage_3_et_4': {'impo': array([ 0.], dtype=float32),\n",
        "  'revdisp': array([ 29276.1953125], dtype=float32),\n",
        "  'rsa': array([ 9047.52050781], dtype=float32),\n",
        "  'sal': array([ 20000.,      0.], dtype=float32)}}"
       ]
      }
     ],
     "prompt_number": 44
    },
    {
     "cell_type": "raw",
     "metadata": {},
     "source": []
    },
    {
     "cell_type": "heading",
     "level": 3,
     "metadata": {},
     "source": [
      "Comparaisons entre mises en couples et situations individuelles"
     ]
    },
    {
     "cell_type": "markdown",
     "metadata": {},
     "source": [
      "Manuellement"
     ]
    },
    {
     "cell_type": "code",
     "collapsed": false,
     "input": [
      "revdisp_1 = calculate_variables([\"revdisp\"], simulation_1)\n",
      "revdisp_2 = calculate_variables([\"revdisp\"], simulation_2)\n",
      "revdisp_3 = calculate_variables([\"revdisp\"], simulation_3)\n",
      "revdisp_4 = calculate_variables([\"revdisp\"], simulation_4)\n",
      "revdisp_1_et_2 = calculate_variables([\"revdisp\"], simulation_1_et_2)\n",
      "revdisp_3_et_4 = calculate_variables([\"revdisp\"], simulation_3_et_4)\n",
      "revdisp_2_et_3 = calculate_variables([\"revdisp\"], simulation_2_et_3)\n",
      "revdisp_1_et_4 = calculate_variables([\"revdisp\"], simulation_1_et_4)\n",
      "print revdisp_1"
     ],
     "language": "python",
     "metadata": {},
     "outputs": [
      {
       "output_type": "stream",
       "stream": "stdout",
       "text": [
        "{'revdisp': array([ 82815.9140625], dtype=float32)}\n"
       ]
      }
     ],
     "prompt_number": 49
    },
    {
     "cell_type": "markdown",
     "metadata": {},
     "source": [
      "Gain \u00e0 la mise en couple de 1 et 2 : les plus ais\u00e9s"
     ]
    },
    {
     "cell_type": "code",
     "collapsed": true,
     "input": [
      "revenu_dispo_1 = simulation_1.calculate('revdisp', period = periods.period(\"year\", \"2014\"))\n",
      "revenu_dispo_2 = simulation_2.calculate('revdisp', period = periods.period(\"year\", \"2014\"))\n",
      "revenu_dispo_1_et_2 = simulation_1_et_2.calculate('revdisp', period = periods.period(\"year\", \"2014\"))\n",
      "gain_revenu_dispo_1_et_2 = revenu_dispo_1_et_2 - revenu_dispo_1 - revenu_dispo_2\n",
      "print gain_revenu_dispo_1_et_2"
     ],
     "language": "python",
     "metadata": {},
     "outputs": [
      {
       "output_type": "stream",
       "stream": "stdout",
       "text": [
        "[-3092.078125]\n"
       ]
      }
     ],
     "prompt_number": 63
    },
    {
     "cell_type": "markdown",
     "metadata": {},
     "source": [
      "Gain \u00e0 la mise en couple de 3 et 4 : les plus pauvres"
     ]
    },
    {
     "cell_type": "code",
     "collapsed": false,
     "input": [
      "revenu_dispo_3 = simulation_3.calculate('revdisp', period = periods.period(\"year\", \"2014\"))\n",
      "revenu_dispo_4 = simulation_4.calculate('revdisp', period = periods.period(\"year\", \"2014\"))\n",
      "revenu_dispo_3_et_4 = simulation_3_et_4.calculate('revdisp', period = periods.period(\"year\", \"2014\"))\n",
      "gain_revenu_dispo_3_et_4 = revenu_dispo_3_et_4 - revenu_dispo_1 - revenu_dispo_4\n",
      "print gain_revenu_dispo_3_et_4"
     ],
     "language": "python",
     "metadata": {},
     "outputs": [
      {
       "output_type": "stream",
       "stream": "stdout",
       "text": [
        "[-59723.84765625]\n"
       ]
      }
     ],
     "prompt_number": 66
    },
    {
     "cell_type": "markdown",
     "metadata": {},
     "source": [
      "Gain \u00e0 la mise en couple de 1 et 4 : le plus riche et le plus pauvre -> Gain positif"
     ]
    },
    {
     "cell_type": "code",
     "collapsed": false,
     "input": [
      "revenu_dispo_1 = simulation_1.calculate('revdisp', period = periods.period(\"year\", \"2014\"))\n",
      "revenu_dispo_4 = simulation_4.calculate('revdisp', period = periods.period(\"year\", \"2014\"))\n",
      "revenu_dispo_1_et_4 = simulation_1_et_4.calculate('revdisp', period = periods.period(\"year\", \"2014\"))\n",
      "gain_revenu_dispo_1_et_4 = revenu_dispo_1_et_4 - revenu_dispo_1 - revenu_dispo_4\n",
      "print gain_revenu_dispo_1_et_4"
     ],
     "language": "python",
     "metadata": {},
     "outputs": [
      {
       "output_type": "stream",
       "stream": "stdout",
       "text": [
        "[ 4553.83105469]\n"
       ]
      }
     ],
     "prompt_number": 67
    },
    {
     "cell_type": "markdown",
     "metadata": {},
     "source": [
      "Gain \u00e0 la mise en couple de 3 et 4 : les niveaus de revenu disponible interm\u00e9diares -> Gain positif, sup\u00e9rieur \u00e0 celui de 1 et 4"
     ]
    },
    {
     "cell_type": "code",
     "collapsed": false,
     "input": [
      "revenu_dispo_3 = simulation_3.calculate('revdisp', period = periods.period(\"year\", \"2014\"))\n",
      "revenu_dispo_2 = simulation_4.calculate('revdisp', period = periods.period(\"year\", \"2014\"))\n",
      "revenu_dispo_2_et_3 = simulation_2_et_3.calculate('revdisp', period = periods.period(\"year\", \"2014\"))\n",
      "gain_revenu_dispo_2_et_3 = revenu_dispo_2_et_3 - revenu_dispo_2 - revenu_dispo_3\n",
      "print gain_revenu_dispo_2_et_3"
     ],
     "language": "python",
     "metadata": {},
     "outputs": [
      {
       "output_type": "stream",
       "stream": "stdout",
       "text": [
        "[ 62349.015625]\n"
       ]
      }
     ],
     "prompt_number": 68
    },
    {
     "cell_type": "code",
     "collapsed": false,
     "input": [],
     "language": "python",
     "metadata": {},
     "outputs": []
    },
    {
     "cell_type": "code",
     "collapsed": false,
     "input": [],
     "language": "python",
     "metadata": {},
     "outputs": []
    },
    {
     "cell_type": "code",
     "collapsed": false,
     "input": [],
     "language": "python",
     "metadata": {},
     "outputs": []
    },
    {
     "cell_type": "code",
     "collapsed": false,
     "input": [],
     "language": "python",
     "metadata": {},
     "outputs": []
    },
    {
     "cell_type": "code",
     "collapsed": true,
     "input": [
      "variables_1 = simulation_1.calculate('[\"revdisp\", \"impo\", \"sal\",\"rsa\"]', period = periods.period(\"year\", \"2014\"))\n",
      "variables_2 = simulation_2.calculate('[\"revdisp\", \"impo\", \"sal\",\"rsa\"]', period = periods.period(\"year\", \"2014\"))\n",
      "variables_1_et_2 = simulation_1_et_2.calculate('[\"revdisp\", \"impo\", \"sal\",\"rsa\"]', period = periods.period(\"year\", \"2014\"))\n",
      "gain_1_et_2 = variables_1_et_2 - variables_1 - variables_2\n",
      "print gain_1_et_2"
     ],
     "language": "python",
     "metadata": {},
     "outputs": [
      {
       "ename": "KeyError",
       "evalue": "'[\"revdisp\", \"impo\", \"sal\",\"rsa\"]'",
       "output_type": "pyerr",
       "traceback": [
        "\u001b[0;31m---------------------------------------------------------------------------\u001b[0m\n\u001b[0;31mKeyError\u001b[0m                                  Traceback (most recent call last)",
        "\u001b[0;32m<ipython-input-61-6eb61b2ad4e2>\u001b[0m in \u001b[0;36m<module>\u001b[0;34m()\u001b[0m\n\u001b[0;32m----> 1\u001b[0;31m \u001b[0mvariables_1\u001b[0m \u001b[0;34m=\u001b[0m \u001b[0msimulation_1\u001b[0m\u001b[0;34m.\u001b[0m\u001b[0mcalculate\u001b[0m\u001b[0;34m(\u001b[0m\u001b[0;34m'[\"revdisp\", \"impo\", \"sal\",\"rsa\"]'\u001b[0m\u001b[0;34m,\u001b[0m \u001b[0mperiod\u001b[0m \u001b[0;34m=\u001b[0m \u001b[0mperiods\u001b[0m\u001b[0;34m.\u001b[0m\u001b[0mperiod\u001b[0m\u001b[0;34m(\u001b[0m\u001b[0;34m\"year\"\u001b[0m\u001b[0;34m,\u001b[0m \u001b[0;34m\"2014\"\u001b[0m\u001b[0;34m)\u001b[0m\u001b[0;34m)\u001b[0m\u001b[0;34m\u001b[0m\u001b[0m\n\u001b[0m\u001b[1;32m      2\u001b[0m \u001b[0mvariables_2\u001b[0m \u001b[0;34m=\u001b[0m \u001b[0msimulation_2\u001b[0m\u001b[0;34m.\u001b[0m\u001b[0mcalculate\u001b[0m\u001b[0;34m(\u001b[0m\u001b[0;34m'[\"revdisp\", \"impo\", \"sal\",\"rsa\"]'\u001b[0m\u001b[0;34m,\u001b[0m \u001b[0mperiod\u001b[0m \u001b[0;34m=\u001b[0m \u001b[0mperiods\u001b[0m\u001b[0;34m.\u001b[0m\u001b[0mperiod\u001b[0m\u001b[0;34m(\u001b[0m\u001b[0;34m\"year\"\u001b[0m\u001b[0;34m,\u001b[0m \u001b[0;34m\"2014\"\u001b[0m\u001b[0;34m)\u001b[0m\u001b[0;34m)\u001b[0m\u001b[0;34m\u001b[0m\u001b[0m\n\u001b[1;32m      3\u001b[0m \u001b[0mvariables_1_et_2\u001b[0m \u001b[0;34m=\u001b[0m \u001b[0msimulation_1_et_2\u001b[0m\u001b[0;34m.\u001b[0m\u001b[0mcalculate\u001b[0m\u001b[0;34m(\u001b[0m\u001b[0;34m'[\"revdisp\", \"impo\", \"sal\",\"rsa\"]'\u001b[0m\u001b[0;34m,\u001b[0m \u001b[0mperiod\u001b[0m \u001b[0;34m=\u001b[0m \u001b[0mperiods\u001b[0m\u001b[0;34m.\u001b[0m\u001b[0mperiod\u001b[0m\u001b[0;34m(\u001b[0m\u001b[0;34m\"year\"\u001b[0m\u001b[0;34m,\u001b[0m \u001b[0;34m\"2014\"\u001b[0m\u001b[0;34m)\u001b[0m\u001b[0;34m)\u001b[0m\u001b[0;34m\u001b[0m\u001b[0m\n\u001b[1;32m      4\u001b[0m \u001b[0mgain_1_et_2\u001b[0m \u001b[0;34m=\u001b[0m \u001b[0mvariables_1_et_2\u001b[0m \u001b[0;34m-\u001b[0m \u001b[0mvariables_1\u001b[0m \u001b[0;34m-\u001b[0m \u001b[0mvariables_2\u001b[0m\u001b[0;34m\u001b[0m\u001b[0m\n\u001b[1;32m      5\u001b[0m \u001b[0;32mprint\u001b[0m \u001b[0mgain_1_et_2\u001b[0m\u001b[0;34m\u001b[0m\u001b[0m\n",
        "\u001b[0;32m/home/openfisca/openfisca-core/openfisca_core/simulations.pyc\u001b[0m in \u001b[0;36mcalculate\u001b[0;34m(self, column_name, period, accept_other_period, requested_formulas_by_period)\u001b[0m\n\u001b[1;32m     89\u001b[0m             \u001b[0mperiod\u001b[0m \u001b[0;34m=\u001b[0m \u001b[0mself\u001b[0m\u001b[0;34m.\u001b[0m\u001b[0mperiod\u001b[0m\u001b[0;34m\u001b[0m\u001b[0m\n\u001b[1;32m     90\u001b[0m         return self.compute(column_name, period = period, accept_other_period = accept_other_period,\n\u001b[0;32m---> 91\u001b[0;31m             requested_formulas_by_period = requested_formulas_by_period).array\n\u001b[0m\u001b[1;32m     92\u001b[0m \u001b[0;34m\u001b[0m\u001b[0m\n\u001b[1;32m     93\u001b[0m     \u001b[0;32mdef\u001b[0m \u001b[0mcalculate_add\u001b[0m\u001b[0;34m(\u001b[0m\u001b[0mself\u001b[0m\u001b[0;34m,\u001b[0m \u001b[0mcolumn_name\u001b[0m\u001b[0;34m,\u001b[0m \u001b[0mperiod\u001b[0m \u001b[0;34m=\u001b[0m \u001b[0mNone\u001b[0m\u001b[0;34m,\u001b[0m \u001b[0mrequested_formulas_by_period\u001b[0m \u001b[0;34m=\u001b[0m \u001b[0mNone\u001b[0m\u001b[0;34m)\u001b[0m\u001b[0;34m:\u001b[0m\u001b[0;34m\u001b[0m\u001b[0m\n",
        "\u001b[0;32m/home/openfisca/openfisca-core/openfisca_core/simulations.pyc\u001b[0m in \u001b[0;36mcompute\u001b[0;34m(self, column_name, period, accept_other_period, requested_formulas_by_period)\u001b[0m\n\u001b[1;32m    159\u001b[0m             \u001b[0;32mif\u001b[0m \u001b[0mvariable_infos\u001b[0m \u001b[0;32mnot\u001b[0m \u001b[0;32min\u001b[0m \u001b[0mcaller_input_variables_infos\u001b[0m\u001b[0;34m:\u001b[0m\u001b[0;34m\u001b[0m\u001b[0m\n\u001b[1;32m    160\u001b[0m                 \u001b[0mcaller_input_variables_infos\u001b[0m\u001b[0;34m.\u001b[0m\u001b[0mappend\u001b[0m\u001b[0;34m(\u001b[0m\u001b[0mvariable_infos\u001b[0m\u001b[0;34m)\u001b[0m\u001b[0;34m\u001b[0m\u001b[0m\n\u001b[0;32m--> 161\u001b[0;31m         return self.entity_by_column_name[column_name].compute(column_name, period = period,\n\u001b[0m\u001b[1;32m    162\u001b[0m             accept_other_period = accept_other_period, requested_formulas_by_period = requested_formulas_by_period)\n\u001b[1;32m    163\u001b[0m \u001b[0;34m\u001b[0m\u001b[0m\n",
        "\u001b[0;31mKeyError\u001b[0m: '[\"revdisp\", \"impo\", \"sal\",\"rsa\"]'"
       ]
      }
     ],
     "prompt_number": 61
    },
    {
     "cell_type": "code",
     "collapsed": false,
     "input": [
      "revenu_dispo_1 = simulation_1.calculate('revdisp', period = periods.period(\"year\", \"2014\"))\n",
      "revenu_dispo_2 = simulation_2.calculate('revdisp', period = periods.period(\"year\", \"2014\"))\n",
      "revenu_dispo_1_et_2 = simulation_1_et_2.calculate('revdisp', period = periods.period(\"year\", \"2014\"))\n",
      "gain_1_et_2 = revenu_dispo_1_et_2 - revenu_dispo_1 - revenu_dispo_2\n",
      "print gain_1_et_2"
     ],
     "language": "python",
     "metadata": {},
     "outputs": []
    },
    {
     "cell_type": "code",
     "collapsed": false,
     "input": [
      "[\"revdisp\", \"impo\", \"sal\",\"rsa\"]"
     ],
     "language": "python",
     "metadata": {},
     "outputs": []
    },
    {
     "cell_type": "code",
     "collapsed": false,
     "input": [
      "revdisp_1_et_2.difference(revdisp_1 + revdisp_2)"
     ],
     "language": "python",
     "metadata": {},
     "outputs": [
      {
       "ename": "AttributeError",
       "evalue": "'dict' object has no attribute 'difference'",
       "output_type": "pyerr",
       "traceback": [
        "\u001b[0;31m---------------------------------------------------------------------------\u001b[0m\n\u001b[0;31mAttributeError\u001b[0m                            Traceback (most recent call last)",
        "\u001b[0;32m<ipython-input-24-7b5b0d8ffede>\u001b[0m in \u001b[0;36m<module>\u001b[0;34m()\u001b[0m\n\u001b[0;32m----> 1\u001b[0;31m \u001b[0mrevdisp_1_et_2\u001b[0m\u001b[0;34m.\u001b[0m\u001b[0mdifference\u001b[0m\u001b[0;34m(\u001b[0m\u001b[0mrevdisp_1\u001b[0m \u001b[0;34m+\u001b[0m \u001b[0mrevdisp_2\u001b[0m\u001b[0;34m)\u001b[0m\u001b[0;34m\u001b[0m\u001b[0m\n\u001b[0m",
        "\u001b[0;31mAttributeError\u001b[0m: 'dict' object has no attribute 'difference'"
       ]
      }
     ],
     "prompt_number": 24
    },
    {
     "cell_type": "markdown",
     "metadata": {},
     "source": [
      "Pour la mise en couple de 1 et 2"
     ]
    },
    {
     "cell_type": "code",
     "collapsed": false,
     "input": [
      "def gain_mise_en_couple_1_et_2(variables, difference):\n",
      "    variables_1_et_2 - variables_1 - variables_2\n",
      "    return gain_mise_en_couple_1_et_2\n",
      "    "
     ],
     "language": "python",
     "metadata": {},
     "outputs": [],
     "prompt_number": 46
    },
    {
     "cell_type": "code",
     "collapsed": false,
     "input": [
      "print gain_mise_en_couple_1_et_2 ***\n"
     ],
     "language": "python",
     "metadata": {},
     "outputs": [
      {
       "output_type": "stream",
       "stream": "stdout",
       "text": [
        "<function gain_mise_en_couple_1_et_2 at 0x7f66a7048c80>\n"
       ]
      }
     ],
     "prompt_number": 48
    },
    {
     "cell_type": "code",
     "collapsed": false,
     "input": [],
     "language": "python",
     "metadata": {},
     "outputs": []
    },
    {
     "cell_type": "markdown",
     "metadata": {},
     "source": [
      "Gain 1 et 2"
     ]
    },
    {
     "cell_type": "code",
     "collapsed": false,
     "input": [
      "def gain_1_et_2(create_couple, create_celibataire):\n",
      "    create_couple(sal1 = 100000, sal2 = 800000) - create_celibataire(sal = 100000) - create_celibataire(sal = 80000)\n",
      "    return gain_1_et_2\n",
      "    "
     ],
     "language": "python",
     "metadata": {},
     "outputs": [],
     "prompt_number": 33
    },
    {
     "cell_type": "code",
     "collapsed": false,
     "input": [
      "print ({i:calculate_variables_by_configuration( simulation_1_et_2, variables) - calculate_variables_by_configuration( simulation_1, variables)})"
     ],
     "language": "python",
     "metadata": {},
     "outputs": [
      {
       "ename": "AttributeError",
       "evalue": "'Simulation' object has no attribute 'items'",
       "output_type": "pyerr",
       "traceback": [
        "\u001b[0;31m---------------------------------------------------------------------------\u001b[0m\n\u001b[0;31mAttributeError\u001b[0m                            Traceback (most recent call last)",
        "\u001b[0;32m<ipython-input-39-867e758f7b94>\u001b[0m in \u001b[0;36m<module>\u001b[0;34m()\u001b[0m\n\u001b[0;32m----> 1\u001b[0;31m \u001b[0;32mprint\u001b[0m \u001b[0;34m(\u001b[0m\u001b[0;34m{\u001b[0m\u001b[0mi\u001b[0m\u001b[0;34m:\u001b[0m\u001b[0mcalculate_variables_by_configuration\u001b[0m\u001b[0;34m(\u001b[0m \u001b[0msimulation_1_et_2\u001b[0m\u001b[0;34m,\u001b[0m \u001b[0mvariables\u001b[0m\u001b[0;34m)\u001b[0m \u001b[0;34m-\u001b[0m \u001b[0mcalculate_variables_by_configuration\u001b[0m\u001b[0;34m(\u001b[0m \u001b[0msimulation_1\u001b[0m\u001b[0;34m,\u001b[0m \u001b[0mvariables\u001b[0m\u001b[0;34m)\u001b[0m\u001b[0;34m}\u001b[0m\u001b[0;34m)\u001b[0m\u001b[0;34m\u001b[0m\u001b[0m\n\u001b[0m",
        "\u001b[0;32m<ipython-input-20-03df0c1eae0c>\u001b[0m in \u001b[0;36mcalculate_variables_by_configuration\u001b[0;34m(simulation_by_configuration, variables)\u001b[0m\n\u001b[1;32m      1\u001b[0m \u001b[0;32mdef\u001b[0m \u001b[0mcalculate_variables_by_configuration\u001b[0m\u001b[0;34m(\u001b[0m\u001b[0msimulation_by_configuration\u001b[0m\u001b[0;34m,\u001b[0m \u001b[0mvariables\u001b[0m\u001b[0;34m)\u001b[0m\u001b[0;34m:\u001b[0m\u001b[0;34m\u001b[0m\u001b[0m\n\u001b[1;32m      2\u001b[0m     \u001b[0mvariables_by_configuration\u001b[0m \u001b[0;34m=\u001b[0m \u001b[0mdict\u001b[0m\u001b[0;34m(\u001b[0m\u001b[0;34m)\u001b[0m\u001b[0;34m\u001b[0m\u001b[0m\n\u001b[0;32m----> 3\u001b[0;31m     \u001b[0;32mfor\u001b[0m \u001b[0mconfiguration\u001b[0m\u001b[0;34m,\u001b[0m \u001b[0msimulation\u001b[0m \u001b[0;32min\u001b[0m \u001b[0msimulation_by_configuration\u001b[0m\u001b[0;34m.\u001b[0m\u001b[0mitems\u001b[0m\u001b[0;34m(\u001b[0m\u001b[0;34m)\u001b[0m\u001b[0;34m:\u001b[0m\u001b[0;34m\u001b[0m\u001b[0m\n\u001b[0m\u001b[1;32m      4\u001b[0m         \u001b[0mvariables_by_configuration\u001b[0m\u001b[0;34m[\u001b[0m\u001b[0mconfiguration\u001b[0m\u001b[0;34m]\u001b[0m \u001b[0;34m=\u001b[0m \u001b[0mcalculate_variables\u001b[0m\u001b[0;34m(\u001b[0m\u001b[0mvariables\u001b[0m\u001b[0;34m,\u001b[0m \u001b[0msimulation\u001b[0m\u001b[0;34m)\u001b[0m\u001b[0;34m\u001b[0m\u001b[0m\n\u001b[1;32m      5\u001b[0m     \u001b[0;32mreturn\u001b[0m \u001b[0mvariables_by_configuration\u001b[0m\u001b[0;34m\u001b[0m\u001b[0m\n",
        "\u001b[0;31mAttributeError\u001b[0m: 'Simulation' object has no attribute 'items'"
       ]
      }
     ],
     "prompt_number": 39
    },
    {
     "cell_type": "code",
     "collapsed": false,
     "input": [
      "def gains_mise_en_couple_1_et_2(configuration, gains):\n",
      "    return create_couple(sal1 = 100000, sal2 = 800000) - create_celibataire(sal = 100000) - create_celibataire(sal = 80000)"
     ],
     "language": "python",
     "metadata": {},
     "outputs": [],
     "prompt_number": 44
    },
    {
     "cell_type": "code",
     "collapsed": false,
     "input": [
      "create_couple(sal1 = 100000, sal2 = 800000) - create_celibataire(sal = 100000) - create_celibataire(sal = 80000)"
     ],
     "language": "python",
     "metadata": {},
     "outputs": [
      {
       "ename": "TypeError",
       "evalue": "unsupported operand type(s) for -: 'Simulation' and 'Simulation'",
       "output_type": "pyerr",
       "traceback": [
        "\u001b[0;31m---------------------------------------------------------------------------\u001b[0m\n\u001b[0;31mTypeError\u001b[0m                                 Traceback (most recent call last)",
        "\u001b[0;32m<ipython-input-45-fda5d6f2b82e>\u001b[0m in \u001b[0;36m<module>\u001b[0;34m()\u001b[0m\n\u001b[0;32m----> 1\u001b[0;31m \u001b[0mcreate_couple\u001b[0m\u001b[0;34m(\u001b[0m\u001b[0msal1\u001b[0m \u001b[0;34m=\u001b[0m \u001b[0;36m100000\u001b[0m\u001b[0;34m,\u001b[0m \u001b[0msal2\u001b[0m \u001b[0;34m=\u001b[0m \u001b[0;36m800000\u001b[0m\u001b[0;34m)\u001b[0m \u001b[0;34m-\u001b[0m \u001b[0mcreate_celibataire\u001b[0m\u001b[0;34m(\u001b[0m\u001b[0msal\u001b[0m \u001b[0;34m=\u001b[0m \u001b[0;36m100000\u001b[0m\u001b[0;34m)\u001b[0m \u001b[0;34m-\u001b[0m \u001b[0mcreate_celibataire\u001b[0m\u001b[0;34m(\u001b[0m\u001b[0msal\u001b[0m \u001b[0;34m=\u001b[0m \u001b[0;36m80000\u001b[0m\u001b[0;34m)\u001b[0m\u001b[0;34m\u001b[0m\u001b[0m\n\u001b[0m",
        "\u001b[0;31mTypeError\u001b[0m: unsupported operand type(s) for -: 'Simulation' and 'Simulation'"
       ]
      }
     ],
     "prompt_number": 45
    },
    {
     "cell_type": "code",
     "collapsed": false,
     "input": [
      "def gains_mise_en_couple_1_et_2(simulation_1_et_2, simulation_1, simulation_2, variables):\n",
      "    gains_mise_en_couple_by_configuration = dict()\n",
      "    for configuration, simulation in simulation_by_configuration.items():\n",
      "        gains_mise_en_couple_by_configuration[configuration] = simulation_1_et_2 - simulation_1 - simulation_2\n",
      "    return gains_mise_en_couple_1_et_2"
     ],
     "language": "python",
     "metadata": {},
     "outputs": [],
     "prompt_number": 59
    },
    {
     "cell_type": "code",
     "collapsed": false,
     "input": [
      "print gains_mise_en_couple_1_et_2"
     ],
     "language": "python",
     "metadata": {},
     "outputs": [
      {
       "output_type": "stream",
       "stream": "stdout",
       "text": [
        "<function gains_mise_en_couple_1_et_2 at 0x7f66a7048488>\n"
       ]
      }
     ],
     "prompt_number": 52
    },
    {
     "cell_type": "code",
     "collapsed": false,
     "input": [
      "variables = [\"revdisp\", \"impo\", \"sal\",\"rsa\"]\n",
      "gains_mise_en_couple_1_et_2(simulation_1_et_2, simulation_1, simulation_2, variables)"
     ],
     "language": "python",
     "metadata": {},
     "outputs": [
      {
       "ename": "TypeError",
       "evalue": "unsupported operand type(s) for -: 'Simulation' and 'Simulation'",
       "output_type": "pyerr",
       "traceback": [
        "\u001b[0;31m---------------------------------------------------------------------------\u001b[0m\n\u001b[0;31mTypeError\u001b[0m                                 Traceback (most recent call last)",
        "\u001b[0;32m<ipython-input-60-618c81b97dd5>\u001b[0m in \u001b[0;36m<module>\u001b[0;34m()\u001b[0m\n\u001b[1;32m      1\u001b[0m \u001b[0mvariables\u001b[0m \u001b[0;34m=\u001b[0m \u001b[0;34m[\u001b[0m\u001b[0;34m\"revdisp\"\u001b[0m\u001b[0;34m,\u001b[0m \u001b[0;34m\"impo\"\u001b[0m\u001b[0;34m,\u001b[0m \u001b[0;34m\"sal\"\u001b[0m\u001b[0;34m,\u001b[0m\u001b[0;34m\"rsa\"\u001b[0m\u001b[0;34m]\u001b[0m\u001b[0;34m\u001b[0m\u001b[0m\n\u001b[0;32m----> 2\u001b[0;31m \u001b[0mgains_mise_en_couple_1_et_2\u001b[0m\u001b[0;34m(\u001b[0m\u001b[0msimulation_1_et_2\u001b[0m\u001b[0;34m,\u001b[0m \u001b[0msimulation_1\u001b[0m\u001b[0;34m,\u001b[0m \u001b[0msimulation_2\u001b[0m\u001b[0;34m,\u001b[0m \u001b[0mvariables\u001b[0m\u001b[0;34m)\u001b[0m\u001b[0;34m\u001b[0m\u001b[0m\n\u001b[0m",
        "\u001b[0;32m<ipython-input-59-da9f50854c53>\u001b[0m in \u001b[0;36mgains_mise_en_couple_1_et_2\u001b[0;34m(simulation_1_et_2, simulation_1, simulation_2, variables)\u001b[0m\n\u001b[1;32m      2\u001b[0m     \u001b[0mgains_mise_en_couple_by_configuration\u001b[0m \u001b[0;34m=\u001b[0m \u001b[0mdict\u001b[0m\u001b[0;34m(\u001b[0m\u001b[0;34m)\u001b[0m\u001b[0;34m\u001b[0m\u001b[0m\n\u001b[1;32m      3\u001b[0m     \u001b[0;32mfor\u001b[0m \u001b[0mconfiguration\u001b[0m\u001b[0;34m,\u001b[0m \u001b[0msimulation\u001b[0m \u001b[0;32min\u001b[0m \u001b[0msimulation_by_configuration\u001b[0m\u001b[0;34m.\u001b[0m\u001b[0mitems\u001b[0m\u001b[0;34m(\u001b[0m\u001b[0;34m)\u001b[0m\u001b[0;34m:\u001b[0m\u001b[0;34m\u001b[0m\u001b[0m\n\u001b[0;32m----> 4\u001b[0;31m         \u001b[0mgains_mise_en_couple_by_configuration\u001b[0m\u001b[0;34m[\u001b[0m\u001b[0mconfiguration\u001b[0m\u001b[0;34m]\u001b[0m \u001b[0;34m=\u001b[0m \u001b[0msimulation_1_et_2\u001b[0m \u001b[0;34m-\u001b[0m \u001b[0msimulation_1\u001b[0m \u001b[0;34m-\u001b[0m \u001b[0msimulation_2\u001b[0m\u001b[0;34m\u001b[0m\u001b[0m\n\u001b[0m\u001b[1;32m      5\u001b[0m     \u001b[0;32mreturn\u001b[0m \u001b[0mgains_mise_en_couple_1_et_2\u001b[0m\u001b[0;34m\u001b[0m\u001b[0m\n",
        "\u001b[0;31mTypeError\u001b[0m: unsupported operand type(s) for -: 'Simulation' and 'Simulation'"
       ]
      }
     ],
     "prompt_number": 60
    },
    {
     "cell_type": "code",
     "collapsed": false,
     "input": [],
     "language": "python",
     "metadata": {},
     "outputs": []
    },
    {
     "cell_type": "code",
     "collapsed": false,
     "input": [
      "def gain_mise_en_couple_1_et_2(simulation_by_configuration, variables):\n",
      "    variables_1_et_2 = calculate_variables([\"revdisp\", \"impo\", \"sal\",\"rsa\"], simulation_1_et_2)\n",
      "    variables_1 = variables_1 = calculate_variables([\"revdisp\", \"impo\", \"sal\",\"rsa\"], simulation_1)\n",
      "    variables_2 = calculate_variables([\"revdisp\", \"impo\", \"sal\",\"rsa\"], simulation_2)\n",
      "    return variables_1_et_2 - variables_1 - variables_2"
     ],
     "language": "python",
     "metadata": {},
     "outputs": [],
     "prompt_number": 61
    },
    {
     "cell_type": "code",
     "collapsed": false,
     "input": [
      "variables = [\"revdisp\", \"impo\", \"sal\",\"rsa\"]\n",
      "gain_mise_en_couple_1_et_2"
     ],
     "language": "python",
     "metadata": {},
     "outputs": [
      {
       "metadata": {},
       "output_type": "pyout",
       "prompt_number": 63,
       "text": [
        "<function __main__.gain_mise_en_couple_1_et_2>"
       ]
      }
     ],
     "prompt_number": 63
    },
    {
     "cell_type": "code",
     "collapsed": false,
     "input": [
      "variable"
     ],
     "language": "python",
     "metadata": {},
     "outputs": []
    }
   ],
   "metadata": {}
  }
 ]
}