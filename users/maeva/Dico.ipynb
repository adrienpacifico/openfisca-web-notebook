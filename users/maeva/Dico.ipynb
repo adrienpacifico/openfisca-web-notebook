{
 "metadata": {
  "name": "",
  "signature": "sha256:f4b60101b3511785d2093552b8d2381e414f1b1b0d5b15efa467b3eb35ad440f"
 },
 "nbformat": 3,
 "nbformat_minor": 0,
 "worksheets": [
  {
   "cells": [
    {
     "cell_type": "code",
     "collapsed": false,
     "input": [
      "%matplotlib inline\n",
      "import matplotlib.pyplot as plt\n",
      "from openfisca_matplotlib import graphs"
     ],
     "language": "python",
     "metadata": {},
     "outputs": [],
     "prompt_number": 1
    },
    {
     "cell_type": "code",
     "collapsed": false,
     "input": [
      "from datetime import date  # module n\u00e9cessaire pour la d\u00e9finition des dates, dont notamment les dates de naissances\n",
      "import openfisca_france    # module d\u00e9crivant le syst\u00e8me socio-fiscal fran\u00e7ais\n",
      "\n",
      "TaxBenefitSystem = openfisca_france.init_country()  # Initialisation de la classe d\u00e9crivant le syst\u00e8me socio-fiscal fran\u00e7ais\n",
      "tax_benefit_system = TaxBenefitSystem()  # Cr\u00e9ation d'une instance du syst\u00e8me socio-fiscal fran\u00e7ais "
     ],
     "language": "python",
     "metadata": {},
     "outputs": [],
     "prompt_number": 2
    },
    {
     "cell_type": "code",
     "collapsed": false,
     "input": [
      "def couple_avec_enfants(nombre_enfants = 0, year = 2014):\n",
      "    enfant = [dict(\n",
      "        birth = date(2005, 1, 1),\n",
      "        )]\n",
      "    enfants = enfant * nombre_enfants\n",
      "    simulation = tax_benefit_system.new_scenario().init_single_entity(\n",
      "        axes = [\n",
      "            dict(\n",
      "                count = 100,\n",
      "                min = 0,\n",
      "                max = salaire_imposable_maximal * 3,\n",
      "                name = 'sal',\n",
      "                ),\n",
      "            ],\n",
      "        period = \"{}:3\".format(year-2),\n",
      "        parent1 = dict(\n",
      "            birth = date(1980, 1, 1),\n",
      "            ),\n",
      "        parent2 = dict(\n",
      "            birth = date(1980, 1, 1)\n",
      "            ),\n",
      "        enfants = enfants,\n",
      "        menage = dict(\n",
      "            loyer = 1000 * 3,\n",
      "            so = 4,\n",
      "            ),\n",
      "        ).new_simulation(debug = True)\n",
      "    return simulation"
     ],
     "language": "python",
     "metadata": {},
     "outputs": [],
     "prompt_number": 3
    },
    {
     "cell_type": "markdown",
     "metadata": {},
     "source": [
      "Gain li\u00e9 \u00e0 un enfant en revenu disponible"
     ]
    },
    {
     "cell_type": "code",
     "collapsed": false,
     "input": [
      "def gain_enfant_marginal(rang_enfant, year = 2014):\n",
      "    assert rang_enfant >= 1\n",
      "    situation_initiale = couple_avec_enfants(rang_enfant-1, year)\n",
      "    situation_finale = couple_avec_enfants(rang_enfant, year)\n",
      "    revdisp_initial = situation_initiale.calculate(\"revdisp\", period = year)\n",
      "    revdisp_final = situation_finale.calculate(\"revdisp\", period = year)\n",
      "    return revdisp_final - revdisp_initial"
     ],
     "language": "python",
     "metadata": {},
     "outputs": [],
     "prompt_number": 4
    },
    {
     "cell_type": "markdown",
     "metadata": {},
     "source": [
      "Gain en imp\u00f4ts et en allocations familiales"
     ]
    },
    {
     "cell_type": "code",
     "collapsed": false,
     "input": [
      "def gain_enfant_marginal(rang_enfant, variable = \"revdisp\", year = 2014):\n",
      "    assert rang_enfant >= 1\n",
      "    situation_initiale = couple_avec_enfants(rang_enfant-1, year)\n",
      "    situation_finale = couple_avec_enfants(rang_enfant, year)\n",
      "    revdisp_initial = situation_initiale.calculate(\"revdisp\", period = year)\n",
      "    revdisp_final = situation_finale.calculate(\"revdisp\", period = year)\n",
      "    return revdisp_final - revdisp_initial"
     ],
     "language": "python",
     "metadata": {},
     "outputs": [],
     "prompt_number": 5
    },
    {
     "cell_type": "code",
     "collapsed": false,
     "input": [
      "salaire_imposable_maximal = 200000"
     ],
     "language": "python",
     "metadata": {},
     "outputs": [],
     "prompt_number": 6
    },
    {
     "cell_type": "code",
     "collapsed": false,
     "input": [
      "couple_0_enfant = couple_avec_enfants(nombre_enfants = 0)\n",
      "salaire_imposable = couple_0_enfant.calculate('sal', period = 2014)[:200:2] "
     ],
     "language": "python",
     "metadata": {},
     "outputs": [],
     "prompt_number": 7
    },
    {
     "cell_type": "code",
     "collapsed": false,
     "input": [
      "dico_gain_by_year = dict()"
     ],
     "language": "python",
     "metadata": {},
     "outputs": [],
     "prompt_number": 8
    },
    {
     "cell_type": "code",
     "collapsed": false,
     "input": [
      "for year in range(2010, 2015):\n",
      "    print year\n",
      "    dico_gain_by_year[year] = gain_enfant_marginal(year)"
     ],
     "language": "python",
     "metadata": {},
     "outputs": []
    },
    {
     "cell_type": "code",
     "collapsed": false,
     "input": [
      "for rang_enfant in range(1, 4):\n",
      "    print rang_enfant\n",
      "    dico_gain_by_rang[rang] = gain_enfant_marginal(rang)"
     ],
     "language": "python",
     "metadata": {},
     "outputs": []
    }
   ],
   "metadata": {}
  }
 ]
}