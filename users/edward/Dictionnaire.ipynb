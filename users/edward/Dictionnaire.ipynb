{
 "metadata": {
  "name": "",
  "signature": "sha256:1bdfb2efcd67114c9b840593313d70504b13b4a03712c015a3e419418aa9bf22"
 },
 "nbformat": 3,
 "nbformat_minor": 0,
 "worksheets": [
  {
   "cells": [
    {
     "cell_type": "heading",
     "level": 1,
     "metadata": {},
     "source": [
      "Initialisation"
     ]
    },
    {
     "cell_type": "code",
     "collapsed": false,
     "input": [
      "%matplotlib inline\n",
      "import matplotlib.pyplot as plt"
     ],
     "language": "python",
     "metadata": {},
     "outputs": [],
     "prompt_number": 16
    },
    {
     "cell_type": "code",
     "collapsed": false,
     "input": [
      "from datetime import date  # module n\u00e9cessaire pour la d\u00e9finition des dates, dont notamment les dates de naissances\n",
      "import openfisca_france    # module d\u00e9crivant le syst\u00e8me socio-fiscal fran\u00e7ais\n",
      "\n",
      "TaxBenefitSystem = openfisca_france.init_country()  # Initialisation de la classe d\u00e9crivant le syst\u00e8me socio-fiscal fran\u00e7ais\n",
      "tax_benefit_system = TaxBenefitSystem()  # Cr\u00e9ation d'une instance du syst\u00e8me socio-fiscal fran\u00e7ais "
     ],
     "language": "python",
     "metadata": {},
     "outputs": [],
     "prompt_number": 17
    },
    {
     "cell_type": "code",
     "collapsed": false,
     "input": [
      "def couple_avec_enfants(nombre_enfants = 0, year = 2014):\n",
      "    enfant = [dict(\n",
      "        birth = date(2005, 1, 1),\n",
      "        )]\n",
      "    enfants = enfant * nombre_enfants\n",
      "    simulation = tax_benefit_system.new_scenario().init_single_entity(\n",
      "        axes = [\n",
      "            dict(\n",
      "                count = 100,\n",
      "                min = 0,\n",
      "                max = salaire_imposable_maximal * 3,\n",
      "                name = 'sal',\n",
      "                ),\n",
      "            ],\n",
      "        period = \"{}:3\".format(year-2),\n",
      "        parent1 = dict(\n",
      "            birth = date(1980, 1, 1),\n",
      "            ),\n",
      "        parent2 = dict(\n",
      "            birth = date(1980, 1, 1)\n",
      "            ),\n",
      "        enfants = enfants,\n",
      "        menage = dict(\n",
      "            loyer = 1000 * 3,\n",
      "            so = 4,\n",
      "            ),\n",
      "        ).new_simulation(debug = True)\n",
      "    return simulation"
     ],
     "language": "python",
     "metadata": {},
     "outputs": [],
     "prompt_number": 18
    },
    {
     "cell_type": "code",
     "collapsed": false,
     "input": [
      "salaire_imposable_maximal = 80000"
     ],
     "language": "python",
     "metadata": {},
     "outputs": [],
     "prompt_number": 19
    },
    {
     "cell_type": "heading",
     "level": 2,
     "metadata": {},
     "source": [
      "Gain li\u00e9 \u00e0 l'enfant marginal"
     ]
    },
    {
     "cell_type": "code",
     "collapsed": false,
     "input": [
      "def gain_enfant_marginal(rang_enfant, variable = \"revdisp\", year = 2014):\n",
      "    assert rang_enfant >= 1\n",
      "    situation_initiale = couple_avec_enfants(rang_enfant-1, year)\n",
      "    situation_finale = couple_avec_enfants(rang_enfant, year)\n",
      "    revdisp_initial = situation_initiale.calculate(\"revdisp\", period = year)\n",
      "    revdisp_final = situation_finale.calculate(\"revdisp\", period = year)\n",
      "    return revdisp_final - revdisp_initial"
     ],
     "language": "python",
     "metadata": {},
     "outputs": [],
     "prompt_number": 20
    },
    {
     "cell_type": "code",
     "collapsed": false,
     "input": [
      "couple_0_enfant = couple_avec_enfants(nombre_enfants = 0)\n",
      "salaire_imposable = couple_0_enfant.calculate('sal', period = 2014)[:200:2] \n",
      "#\u00a0salaire imposable est une variable associ\u00e9e \u00e0 l'entit\u00e9 individu\n"
     ],
     "language": "python",
     "metadata": {},
     "outputs": [],
     "prompt_number": 21
    },
    {
     "cell_type": "code",
     "collapsed": false,
     "input": [],
     "language": "python",
     "metadata": {},
     "outputs": [],
     "prompt_number": 21
    },
    {
     "cell_type": "code",
     "collapsed": false,
     "input": [],
     "language": "python",
     "metadata": {},
     "outputs": [],
     "prompt_number": 21
    },
    {
     "cell_type": "code",
     "collapsed": false,
     "input": [
      "import numpy as np\n",
      "print rang_enfant\n",
      "print year\n",
      "print gain_enfant_marginal(rang_enfant, variable = \"revdisp\", year = 2014)\n",
      "np.mean(gain_enfant_marginal(rang_enfant, variable = \"revdisp\", year = 2014))"
     ],
     "language": "python",
     "metadata": {},
     "outputs": [
      {
       "output_type": "stream",
       "stream": "stdout",
       "text": [
        "1\n",
        "2010\n",
        "[ 2017.22265625  2017.22070312  2017.22070312  2017.22363281  2017.22167969\n",
        "  2017.22167969  2017.22265625  2017.22265625  2017.22265625  2068.75\n",
        "  2332.02734375  2501.49121094  2544.4765625   1206.93261719   981.26855469\n",
        "   723.36328125  2217.86914062  2217.8671875   2421.46289062  2574.36132812\n",
        "  2727.04882812  2879.73632812  3032.41992188  3185.10742188  3202.27148438\n",
        "  3151.375       3100.48242188  3049.58398438  2998.68945312  2947.72265625\n",
        "  2960.90039062  2653.171875    2346.1015625   2039.03125     1369.33007812\n",
        "  1037.1796875    678.30078125   701.49804688   817.83007812   934.1640625\n",
        "  1050.65625     1166.99023438  1283.32226562  1399.65625     1508.\n",
        "  1508.00195312  1508.          1508.          1508.          1508.          1508.\n",
        "  1508.          1508.          1508.          1508.          1508.          1508.\n",
        "  1508.          1508.          1508.          1508.          1508.          1508.\n",
        "  1508.          1508.          1508.          1508.          1508.          1508.\n",
        "  1508.          1508.          1508.          1508.          1508.          1508.\n",
        "  1508.          1508.          1508.          1508.          1508.          1508.\n",
        "  1508.          1508.          1508.          1508.          1508.          1508.\n",
        "  1508.          1508.          1508.          1508.          1508.          1508.\n",
        "  1508.          1508.          1508.          1508.          1508.          1508.\n",
        "  1508.        ]"
       ]
      },
      {
       "output_type": "stream",
       "stream": "stdout",
       "text": [
        "\n"
       ]
      },
      {
       "metadata": {},
       "output_type": "pyout",
       "prompt_number": 22,
       "text": [
        "1751.0543"
       ]
      }
     ],
     "prompt_number": 22
    },
    {
     "cell_type": "code",
     "collapsed": false,
     "input": [
      "print gain_enfant_marginal(rang_enfant = 1, variable = \"revdisp\", year = 2014)"
     ],
     "language": "python",
     "metadata": {},
     "outputs": [
      {
       "output_type": "stream",
       "stream": "stdout",
       "text": [
        "[ 2017.22265625  2017.22070312  2017.22070312  2017.22363281  2017.22167969\n",
        "  2017.22167969  2017.22265625  2017.22265625  2017.22265625  2068.75\n",
        "  2332.02734375  2501.49121094  2544.4765625   1206.93261719   981.26855469\n",
        "   723.36328125  2217.86914062  2217.8671875   2421.46289062  2574.36132812\n",
        "  2727.04882812  2879.73632812  3032.41992188  3185.10742188  3202.27148438\n",
        "  3151.375       3100.48242188  3049.58398438  2998.68945312  2947.72265625\n",
        "  2960.90039062  2653.171875    2346.1015625   2039.03125     1369.33007812\n",
        "  1037.1796875    678.30078125   701.49804688   817.83007812   934.1640625\n",
        "  1050.65625     1166.99023438  1283.32226562  1399.65625     1508.\n",
        "  1508.00195312  1508.          1508.          1508.          1508.          1508.\n",
        "  1508.          1508.          1508.          1508.          1508.          1508.\n",
        "  1508.          1508.          1508.          1508.          1508.          1508.\n",
        "  1508.          1508.          1508.          1508.          1508.          1508.\n",
        "  1508.          1508.          1508.          1508.          1508.          1508.\n",
        "  1508.          1508.          1508.          1508.          1508.          1508.\n",
        "  1508.          1508.          1508.          1508.          1508.          1508.\n",
        "  1508.          1508.          1508.          1508.          1508.          1508.\n",
        "  1508.          1508.          1508.          1508.          1508.          1508.\n",
        "  1508.        ]\n"
       ]
      }
     ],
     "prompt_number": 23
    },
    {
     "cell_type": "code",
     "collapsed": false,
     "input": [
      "print gain_enfant_marginal(year = 2010, rang_enfant = 1, variable = \"revdisp\")"
     ],
     "language": "python",
     "metadata": {},
     "outputs": [
      {
       "output_type": "stream",
       "stream": "stdout",
       "text": [
        "[ 1805.30761719  1805.30761719  1805.30859375  1805.30664062  1805.30664062\n",
        "  1805.30859375  1805.30761719  1805.30664062  1805.30761719  1995.24316406\n",
        "  2249.171875    2286.78125     2329.765625     968.59863281   742.93261719\n",
        "  1982.81933594  1982.81835938  2131.43945312  2284.12695312  2437.0234375\n",
        "  2589.7109375   2659.3203125   2740.59960938  2782.40625     2824.2734375\n",
        "  2822.98046875  2772.0859375   2940.578125    2582.61132812  2257.625\n",
        "  1950.5546875   1643.484375    1055.65429688   669.5625       669.5625\n",
        "   669.5625       669.5625       747.80273438   864.1328125    980.46484375\n",
        "  1096.9609375   1213.29101562  1329.625       1445.95703125  1562.29101562\n",
        "  1678.78515625  1795.1171875   1911.44921875  2027.78515625  2144.11328125\n",
        "  2260.609375    2336.          2336.          2336.          2336.          2336.\n",
        "  2336.          2336.          2336.          2336.          2336.          2336.\n",
        "  2336.          2336.          2336.          2336.          2336.          2336.\n",
        "  2336.          2336.          2336.          2336.          2336.          2336.\n",
        "  2336.          2336.          2336.          2336.          2336.          2336.\n",
        "  2336.          2336.          2336.          2336.          2336.          2336.\n",
        "  2336.          2336.          2336.          2336.          2336.          2336.\n",
        "  2336.          2336.          2336.          2336.          2336.          2336.\n",
        "  2335.99609375  2336.        ]\n"
       ]
      }
     ],
     "prompt_number": 24
    },
    {
     "cell_type": "code",
     "collapsed": false,
     "input": [
      "rang_enfant = 1\n",
      "for year in range(2010, 2012):\n",
      "    print year\n",
      "    mon_dico[year] = np.mean(gain_enfant_marginal(rang_enfant, variable = \"revdisp\", year = year))\n",
      "    print mon_dico"
     ],
     "language": "python",
     "metadata": {},
     "outputs": [
      {
       "output_type": "stream",
       "stream": "stdout",
       "text": [
        "2010\n"
       ]
      },
      {
       "ename": "NameError",
       "evalue": "name 'mon_dico' is not defined",
       "output_type": "pyerr",
       "traceback": [
        "\u001b[0;31m---------------------------------------------------------------------------\u001b[0m\n\u001b[0;31mNameError\u001b[0m                                 Traceback (most recent call last)",
        "\u001b[0;32m<ipython-input-25-fde34fcb72a8>\u001b[0m in \u001b[0;36m<module>\u001b[0;34m()\u001b[0m\n\u001b[1;32m      2\u001b[0m \u001b[0;32mfor\u001b[0m \u001b[0myear\u001b[0m \u001b[0;32min\u001b[0m \u001b[0mrange\u001b[0m\u001b[0;34m(\u001b[0m\u001b[0;36m2010\u001b[0m\u001b[0;34m,\u001b[0m \u001b[0;36m2012\u001b[0m\u001b[0;34m)\u001b[0m\u001b[0;34m:\u001b[0m\u001b[0;34m\u001b[0m\u001b[0m\n\u001b[1;32m      3\u001b[0m     \u001b[0;32mprint\u001b[0m \u001b[0myear\u001b[0m\u001b[0;34m\u001b[0m\u001b[0m\n\u001b[0;32m----> 4\u001b[0;31m     \u001b[0mmon_dico\u001b[0m\u001b[0;34m[\u001b[0m\u001b[0myear\u001b[0m\u001b[0;34m]\u001b[0m \u001b[0;34m=\u001b[0m \u001b[0mnp\u001b[0m\u001b[0;34m.\u001b[0m\u001b[0mmean\u001b[0m\u001b[0;34m(\u001b[0m\u001b[0mgain_enfant_marginal\u001b[0m\u001b[0;34m(\u001b[0m\u001b[0mrang_enfant\u001b[0m\u001b[0;34m,\u001b[0m \u001b[0mvariable\u001b[0m \u001b[0;34m=\u001b[0m \u001b[0;34m\"revdisp\"\u001b[0m\u001b[0;34m,\u001b[0m \u001b[0myear\u001b[0m \u001b[0;34m=\u001b[0m \u001b[0myear\u001b[0m\u001b[0;34m)\u001b[0m\u001b[0;34m)\u001b[0m\u001b[0;34m\u001b[0m\u001b[0m\n\u001b[0m\u001b[1;32m      5\u001b[0m     \u001b[0;32mprint\u001b[0m \u001b[0mmon_dico\u001b[0m\u001b[0;34m\u001b[0m\u001b[0m\n",
        "\u001b[0;31mNameError\u001b[0m: name 'mon_dico' is not defined"
       ]
      }
     ],
     "prompt_number": 25
    },
    {
     "cell_type": "code",
     "collapsed": false,
     "input": [
      "fig = plt.figure()\n",
      "for rang_enfant in range(1, 4):\n",
      "    plt.plot(salaire_imposable, gain_enfant_marginal(rang_enfant, year = 2010), label = \"{}e enfant\".format(rang_enfant))\n",
      "plt.legend(loc = 4, shadow=True, fancybox=True)\n",
      "plt.xlim([0,salaire_imposable_maximal])"
     ],
     "language": "python",
     "metadata": {},
     "outputs": [
      {
       "metadata": {},
       "output_type": "pyout",
       "prompt_number": 26,
       "text": [
        "(0, 80000)"
       ]
      },
      {
       "metadata": {},
       "output_type": "display_data",
       "png": "[encoded data removed]",
       "text": [
        "<matplotlib.figure.Figure at 0x7f5bd14a72d0>"
       ]
      }
     ],
     "prompt_number": 26
    },
    {
     "cell_type": "code",
     "collapsed": false,
     "input": [
      "fig = plt.figure()\n",
      "for year in range(2010, 2014):\n",
      "    plt.plot(salaire_imposable, gain_enfant_marginal(rang_enfant=1, year), label = \"{}e enfant\".format(rang_enfant))\n",
      "plt.legend(loc = 4, shadow=True, fancybox=True)\n",
      "plt.xlim([0,salaire_imposable_maximal])"
     ],
     "language": "python",
     "metadata": {},
     "outputs": [
      {
       "ename": "SyntaxError",
       "evalue": "non-keyword arg after keyword arg (<ipython-input-27-b28e366aa663>, line 3)",
       "output_type": "pyerr",
       "traceback": [
        "\u001b[0;36m  File \u001b[0;32m\"<ipython-input-27-b28e366aa663>\"\u001b[0;36m, line \u001b[0;32m3\u001b[0m\n\u001b[0;31m    plt.plot(salaire_imposable, gain_enfant_marginal(rang_enfant=1, year), label = \"{}e enfant\".format(rang_enfant))\u001b[0m\n\u001b[0;31mSyntaxError\u001b[0m\u001b[0;31m:\u001b[0m non-keyword arg after keyword arg\n"
       ]
      }
     ],
     "prompt_number": 27
    },
    {
     "cell_type": "code",
     "collapsed": false,
     "input": [
      "for year in range(2010, 2012):\n",
      "    print year\n",
      "    mon_dico[year] = gain_enfant_marginal(year)\n",
      "    print mon_dico"
     ],
     "language": "python",
     "metadata": {},
     "outputs": []
    },
    {
     "cell_type": "code",
     "collapsed": false,
     "input": [
      "import numpy as np\n",
      "for year in range(2010, 2015):\n",
      "    print year\n",
      "    for rang_enfant in range(1, 4):\n",
      "        print rang_enfant\n",
      "        np.mean(gain_enfant_marginal(rang_enfant = rang_enfant, year = year, variable = 'revdisp'))\n",
      "        print np.mean(gain_enfant_marginal(rang_enfant = rang_enfant, year = year, variable = 'revdisp'))"
     ],
     "language": "python",
     "metadata": {},
     "outputs": []
    },
    {
     "cell_type": "code",
     "collapsed": false,
     "input": [
      "import numpy as np\n",
      "\n",
      "a = np.array([2,3])\n",
      "a.mean()"
     ],
     "language": "python",
     "metadata": {},
     "outputs": []
    },
    {
     "cell_type": "code",
     "collapsed": false,
     "input": [
      "import numpy as np\n",
      "print rang_enfant\n",
      "print year\n",
      "MeanMarginalGain2010 = np.mean(gain_enfant_marginal(rang_enfant = 1, year = 2010, variable = \"revdisp\"))\n",
      "print MeanMarginalGain2010"
     ],
     "language": "python",
     "metadata": {},
     "outputs": []
    },
    {
     "cell_type": "code",
     "collapsed": false,
     "input": [
      "import numpy as np\n",
      "for year in range(2010, 2012):\n",
      "    print year\n",
      "    print rang_enfant\n",
      "    np.mean(gain_enfant_marginal(rang_enfant, variable = \"revdisp\", year = 2014))\n",
      "    print np.mean(gain_enfant_marginal(rang_enfant, variable = \"revdisp\", year = 2014))"
     ],
     "language": "python",
     "metadata": {},
     "outputs": []
    },
    {
     "cell_type": "code",
     "collapsed": false,
     "input": [
      "for rang_enfant in range(1, 4):\n",
      "    print rang_enfant\n",
      "    for year in range (2010, 2015):\n",
      "        mon_dico[year] = np.mean(gain_enfant_marginal(year = year, rang_enfant = rang_enfant, variable = \"revdisp\"))\n",
      "        print mon_dico"
     ],
     "language": "python",
     "metadata": {},
     "outputs": []
    },
    {
     "cell_type": "code",
     "collapsed": false,
     "input": [],
     "language": "python",
     "metadata": {},
     "outputs": []
    },
    {
     "cell_type": "code",
     "collapsed": false,
     "input": [
      "import numpy as np\n",
      "for year in range(2010, 2012):\n",
      "    print year\n",
      "    print rang_enfant\n",
      "    np.mean(gain_enfant_marginal(rang_enfant, variable = \"revdisp\", year = 2014))\n",
      "    print np.mean(gain_enfant_marginal(rang_enfant, variable = \"revdisp\", year = 2014))"
     ],
     "language": "python",
     "metadata": {},
     "outputs": []
    },
    {
     "cell_type": "code",
     "collapsed": false,
     "input": [],
     "language": "python",
     "metadata": {},
     "outputs": []
    },
    {
     "cell_type": "code",
     "collapsed": false,
     "input": [],
     "language": "python",
     "metadata": {},
     "outputs": []
    },
    {
     "cell_type": "code",
     "collapsed": false,
     "input": [],
     "language": "python",
     "metadata": {},
     "outputs": []
    },
    {
     "cell_type": "code",
     "collapsed": false,
     "input": [],
     "language": "python",
     "metadata": {},
     "outputs": []
    }
   ],
   "metadata": {}
  }
 ]
}