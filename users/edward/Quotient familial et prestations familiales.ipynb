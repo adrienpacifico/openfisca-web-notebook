{
 "metadata": {
  "name": "",
  "signature": "sha256:183e4dd021c29233d6d1effc9d792cbf5b4a8db33e2f4caf17b17dfe5a618926"
 },
 "nbformat": 3,
 "nbformat_minor": 0,
 "worksheets": [
  {
   "cells": [
    {
     "cell_type": "heading",
     "level": 1,
     "metadata": {},
     "source": [
      "Sur les avantages familiaux"
     ]
    },
    {
     "cell_type": "code",
     "collapsed": false,
     "input": [
      "%matplotlib inline\n",
      "import matplotlib.pyplot as plt"
     ],
     "language": "python",
     "metadata": {},
     "outputs": [],
     "prompt_number": 9
    },
    {
     "cell_type": "code",
     "collapsed": false,
     "input": [
      "from datetime import date  # Module n\u00e9cessaire pour la d\u00e9finition des dates, dont notamment les dates de naissances\n",
      "import openfisca_france    # Module d\u00e9crivant le syst\u00e8me socio-fiscal fran\u00e7ais\n",
      "\n",
      "TaxBenefitSystem = openfisca_france.init_country()  # Initialisation de la classe d\u00e9crivant le syst\u00e8me socio-fiscal fran\u00e7ais\n",
      "tax_benefit_system = TaxBenefitSystem()             # Cr\u00e9ation d'une instance du syst\u00e8me socio-fiscal fran\u00e7ais "
     ],
     "language": "python",
     "metadata": {
      "slideshow": {
       "slide_type": "slide"
      }
     },
     "outputs": [],
     "prompt_number": 10
    },
    {
     "cell_type": "code",
     "collapsed": false,
     "input": [
      "def couple_avec_enfants(nombre_enfants = 0, year = 2014):\n",
      "    enfant = [dict(\n",
      "        birth = date(2005, 1, 1),\n",
      "        )]\n",
      "    enfants = enfant * nombre_enfants\n",
      "    simulation = tax_benefit_system.new_scenario().init_single_entity(\n",
      "        axes = [\n",
      "            dict(\n",
      "                count = 100,\n",
      "                min = 0,\n",
      "                max = 200000 * 3,\n",
      "                name = 'sal',\n",
      "                ),\n",
      "            ],\n",
      "        period = \"{}:3\".format(year-2),\n",
      "        parent1 = dict(\n",
      "            birth = date(1980, 1, 1),\n",
      "            ),\n",
      "        parent2 = dict(\n",
      "            birth = date(1980, 1, 1)\n",
      "            ),\n",
      "        enfants = enfants,\n",
      "        menage = dict(\n",
      "            loyer = 1000,\n",
      "            so = 4,\n",
      "            ),\n",
      "        ).new_simulation(debug = True)\n",
      "    return simulation"
     ],
     "language": "python",
     "metadata": {},
     "outputs": [],
     "prompt_number": 11
    },
    {
     "cell_type": "code",
     "collapsed": false,
     "input": [
      "def au d\u00e9but signifie que je d\u00e9finit une fonction (ici avec 2 variables, nombre_enfants et year)\n",
      "ma_liste = [\"a\"]\n",
      "print ma_liste\n"
     ],
     "language": "python",
     "metadata": {},
     "outputs": [
      {
       "ename": "SyntaxError",
       "evalue": "invalid syntax (<ipython-input-12-fc576343b2cf>, line 1)",
       "output_type": "pyerr",
       "traceback": [
        "\u001b[0;36m  File \u001b[0;32m\"<ipython-input-12-fc576343b2cf>\"\u001b[0;36m, line \u001b[0;32m1\u001b[0m\n\u001b[0;31m    def au d\u00e9but signifie que je d\u00e9finit une fonction (ici avec 2 variables, nombre_enfants et year)\u001b[0m\n\u001b[0m           ^\u001b[0m\n\u001b[0;31mSyntaxError\u001b[0m\u001b[0;31m:\u001b[0m invalid syntax\n"
       ]
      }
     ],
     "prompt_number": 12
    },
    {
     "cell_type": "code",
     "collapsed": false,
     "input": [
      "enfant = [dict(\n",
      "        birth = date(2005, 1, 1),\n",
      "        )]\n",
      "enfants = enfant * 2\n",
      "enfants"
     ],
     "language": "python",
     "metadata": {},
     "outputs": [
      {
       "metadata": {},
       "output_type": "pyout",
       "prompt_number": 13,
       "text": [
        "[{'birth': datetime.date(2005, 1, 1)}, {'birth': datetime.date(2005, 1, 1)}]"
       ]
      }
     ],
     "prompt_number": 13
    },
    {
     "cell_type": "code",
     "collapsed": false,
     "input": [
      "year = 2011  #\u00a0de 2011 \u00e0 2014\n",
      "couple_0_enfant = couple_avec_enfants(nombre_enfants = 0, year = year)\n",
      "couple_1_enfant = couple_avec_enfants(nombre_enfants = 1, year = year)\n",
      "couple_2_enfant = couple_avec_enfants(nombre_enfants = 2, year = year)\n",
      "couple_3_enfant = couple_avec_enfants(nombre_enfants = 3, year = year)"
     ],
     "language": "python",
     "metadata": {},
     "outputs": [],
     "prompt_number": 14
    },
    {
     "cell_type": "code",
     "collapsed": false,
     "input": [
      "salaire_imposable = couple_0_enfant.calculate('sal', period = year)[:200:2] \n",
      "#\u00a0salaire imposable est une variable associ\u00e9e \u00e0 l'entit\u00e9 individu\n",
      "salaire_imposable"
     ],
     "language": "python",
     "metadata": {},
     "outputs": [
      {
       "metadata": {},
       "output_type": "pyout",
       "prompt_number": 15,
       "text": [
        "array([      0.        ,    2020.20202637,    4040.40405273,\n",
        "          6060.60595703,    8080.80810547,   10101.01074219,\n",
        "         12121.21191406,   14141.4140625 ,   16161.61621094,\n",
        "         18181.81835938,   20202.02148438,   22222.22070312,\n",
        "         24242.42382812,   26262.625     ,   28282.828125  ,\n",
        "         30303.03125   ,   32323.23242188,   34343.43359375,\n",
        "         36363.63671875,   38383.83984375,   40404.04296875,\n",
        "         42424.2421875 ,   44444.44140625,   46464.64453125,\n",
        "         48484.84765625,   50505.05078125,   52525.25      ,\n",
        "         54545.453125  ,   56565.65625   ,   58585.859375  ,\n",
        "         60606.0625    ,   62626.26171875,   64646.46484375,\n",
        "         66666.6640625 ,   68686.8671875 ,   70707.0703125 ,\n",
        "         72727.2734375 ,   74747.4765625 ,   76767.6796875 ,\n",
        "         78787.8828125 ,   80808.0859375 ,   82828.28125   ,\n",
        "         84848.484375  ,   86868.6875    ,   88888.8828125 ,\n",
        "         90909.09375   ,   92929.2890625 ,   94949.5       ,\n",
        "         96969.6953125 ,   98989.8984375 ,  101010.1015625 ,\n",
        "        103030.3046875 ,  105050.5       ,  107070.7109375 ,\n",
        "        109090.90625   ,  111111.1171875 ,  113131.3125    ,\n",
        "        115151.5078125 ,  117171.71875   ,  119191.9140625 ,\n",
        "        121212.125     ,  123232.3203125 ,  125252.5234375 ,\n",
        "        127272.7265625 ,  129292.9296875 ,  131313.140625  ,\n",
        "        133333.328125  ,  135353.53125   ,  137373.734375  ,\n",
        "        139393.9375    ,  141414.140625  ,  143434.34375   ,\n",
        "        145454.546875  ,  147474.75      ,  149494.953125  ,\n",
        "        151515.15625   ,  153535.359375  ,  155555.546875  ,\n",
        "        157575.765625  ,  159595.953125  ,  161616.171875  ,\n",
        "        163636.359375  ,  165656.5625    ,  167676.765625  ,\n",
        "        169696.96875   ,  171717.171875  ,  173737.375     ,\n",
        "        175757.578125  ,  177777.765625  ,  179797.984375  ,\n",
        "        181818.1875    ,  183838.375     ,  185858.578125  ,\n",
        "        187878.796875  ,  189899.        ,  191919.1875    ,\n",
        "        193939.390625  ,  195959.609375  ,  197979.796875  ,  200000.        ], dtype=float32)"
       ]
      }
     ],
     "prompt_number": 15
    },
    {
     "cell_type": "code",
     "collapsed": false,
     "input": [
      "revdisp0 = couple_0_enfant.calculate(\"revdisp\", period = year)\n",
      "revdisp1 = couple_1_enfant.calculate(\"revdisp\", period = year)\n",
      "revdisp2 = couple_2_enfant.calculate(\"revdisp\", period = year)\n",
      "revdisp3 = couple_3_enfant.calculate(\"revdisp\", period = year)\n",
      "type(couple_0_enfant)"
     ],
     "language": "python",
     "metadata": {},
     "outputs": [
      {
       "metadata": {},
       "output_type": "pyout",
       "prompt_number": 16,
       "text": [
        "openfisca_core.simulations.Simulation"
       ]
      }
     ],
     "prompt_number": 16
    },
    {
     "cell_type": "code",
     "collapsed": false,
     "input": [
      "fig = plt.figure()\n",
      "plt.plot(salaire_imposable, revdisp0, label = \"0 enfant\")\n",
      "plt.plot(salaire_imposable, revdisp1, label = \"1 enfant\")\n",
      "plt.plot(salaire_imposable, revdisp2, label = \"2 enfants\")\n",
      "plt.plot(salaire_imposable, revdisp3, label = \"3 enfants\")\n",
      "plt.legend(loc = 4, shadow=True, fancybox=True)"
     ],
     "language": "python",
     "metadata": {},
     "outputs": [
      {
       "metadata": {},
       "output_type": "pyout",
       "prompt_number": 17,
       "text": [
        "<matplotlib.legend.Legend at 0x7f4706f3be90>"
       ]
      },
      {
       "metadata": {},
       "output_type": "display_data",
       "png": "[encoded data removed]",
       "text": [
        "<matplotlib.figure.Figure at 0x7f4706ffab50>"
       ]
      }
     ],
     "prompt_number": 17
    },
    {
     "cell_type": "markdown",
     "metadata": {},
     "source": [
      "Exercice: Faire le m\u00eame graphe en utilisant une boucle"
     ]
    },
    {
     "cell_type": "heading",
     "level": 2,
     "metadata": {},
     "source": [
      "Gain li\u00e9 \u00e0 l'enfant marginal"
     ]
    },
    {
     "cell_type": "code",
     "collapsed": false,
     "input": [
      "fig = plt.figure()\n",
      "plt.plot(salaire_imposable, revdisp1 - revdisp0, label = \"1er enfant\")\n",
      "plt.plot(salaire_imposable, revdisp2 - revdisp1, label = \"2e enfant\")\n",
      "plt.plot(salaire_imposable, revdisp3 - revdisp2, label = \"3e enfant\")\n",
      "plt.legend(loc = 4, shadow=True, fancybox=True)"
     ],
     "language": "python",
     "metadata": {},
     "outputs": []
    },
    {
     "cell_type": "code",
     "collapsed": false,
     "input": [
      "from openfisca_matplotlib.dataframes import data_frame_from_decomposition_json as to_data_frame"
     ],
     "language": "python",
     "metadata": {},
     "outputs": [
      {
       "ename": "ImportError",
       "evalue": "No module named pandas",
       "output_type": "pyerr",
       "traceback": [
        "\u001b[0;31m---------------------------------------------------------------------------\u001b[0m\n\u001b[0;31mImportError\u001b[0m                               Traceback (most recent call last)",
        "\u001b[0;32m<ipython-input-20-52fcfbfcc0b5>\u001b[0m in \u001b[0;36m<module>\u001b[0;34m()\u001b[0m\n\u001b[0;32m----> 1\u001b[0;31m \u001b[0;32mfrom\u001b[0m \u001b[0mopenfisca_matplotlib\u001b[0m\u001b[0;34m.\u001b[0m\u001b[0mdataframes\u001b[0m \u001b[0;32mimport\u001b[0m \u001b[0mdata_frame_from_decomposition_json\u001b[0m \u001b[0;32mas\u001b[0m \u001b[0mto_data_frame\u001b[0m\u001b[0;34m\u001b[0m\u001b[0m\n\u001b[0m",
        "\u001b[0;32m/home/openfisca/openfisca-matplotlib/openfisca_matplotlib/dataframes.py\u001b[0m in \u001b[0;36m<module>\u001b[0;34m()\u001b[0m\n\u001b[1;32m     24\u001b[0m \u001b[0;34m\u001b[0m\u001b[0m\n\u001b[1;32m     25\u001b[0m \u001b[0;34m\u001b[0m\u001b[0m\n\u001b[0;32m---> 26\u001b[0;31m \u001b[0;32mimport\u001b[0m \u001b[0mpandas\u001b[0m \u001b[0;32mas\u001b[0m \u001b[0mpd\u001b[0m\u001b[0;34m\u001b[0m\u001b[0m\n\u001b[0m\u001b[1;32m     27\u001b[0m \u001b[0;34m\u001b[0m\u001b[0m\n\u001b[1;32m     28\u001b[0m \u001b[0;32mfrom\u001b[0m \u001b[0mopenfisca_matplotlib\u001b[0m\u001b[0;34m.\u001b[0m\u001b[0mutils\u001b[0m \u001b[0;32mimport\u001b[0m \u001b[0mOutNode\u001b[0m\u001b[0;34m\u001b[0m\u001b[0m\n",
        "\u001b[0;31mImportError\u001b[0m: No module named pandas"
       ]
      }
     ],
     "prompt_number": 20
    },
    {
     "cell_type": "code",
     "collapsed": false,
     "input": [
      "to_data_frame(couple_3_enfant, remove_null = True)"
     ],
     "language": "python",
     "metadata": {},
     "outputs": [
      {
       "ename": "NameError",
       "evalue": "name 'to_data_frame' is not defined",
       "output_type": "pyerr",
       "traceback": [
        "\u001b[0;31m---------------------------------------------------------------------------\u001b[0m\n\u001b[0;31mNameError\u001b[0m                                 Traceback (most recent call last)",
        "\u001b[0;32m<ipython-input-21-34c69dd24f83>\u001b[0m in \u001b[0;36m<module>\u001b[0;34m()\u001b[0m\n\u001b[0;32m----> 1\u001b[0;31m \u001b[0mto_data_frame\u001b[0m\u001b[0;34m(\u001b[0m\u001b[0mcouple_3_enfant\u001b[0m\u001b[0;34m,\u001b[0m \u001b[0mremove_null\u001b[0m \u001b[0;34m=\u001b[0m \u001b[0mTrue\u001b[0m\u001b[0;34m)\u001b[0m\u001b[0;34m\u001b[0m\u001b[0m\n\u001b[0m",
        "\u001b[0;31mNameError\u001b[0m: name 'to_data_frame' is not defined"
       ]
      }
     ],
     "prompt_number": 21
    },
    {
     "cell_type": "code",
     "collapsed": false,
     "input": [],
     "language": "python",
     "metadata": {},
     "outputs": []
    },
    {
     "cell_type": "code",
     "collapsed": false,
     "input": [],
     "language": "python",
     "metadata": {},
     "outputs": []
    },
    {
     "cell_type": "code",
     "collapsed": false,
     "input": [],
     "language": "python",
     "metadata": {},
     "outputs": []
    },
    {
     "cell_type": "code",
     "collapsed": false,
     "input": [],
     "language": "python",
     "metadata": {},
     "outputs": []
    },
    {
     "cell_type": "code",
     "collapsed": false,
     "input": [
      "comprendre les diff\u00e9rentes composantes (aller retour avec l'appli)"
     ],
     "language": "python",
     "metadata": {},
     "outputs": []
    },
    {
     "cell_type": "code",
     "collapsed": false,
     "input": [
      "gain \u00e0 l'enfant marginal, manuel puis boucle et liste compr\u00e9hension"
     ],
     "language": "python",
     "metadata": {},
     "outputs": []
    },
    {
     "cell_type": "code",
     "collapsed": false,
     "input": [],
     "language": "python",
     "metadata": {},
     "outputs": []
    }
   ],
   "metadata": {}
  }
 ]
}