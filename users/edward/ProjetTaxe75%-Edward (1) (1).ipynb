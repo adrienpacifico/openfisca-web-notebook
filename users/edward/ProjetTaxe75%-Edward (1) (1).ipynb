{
 "metadata": {
  "name": "",
  "signature": "sha256:fe2d279af3edb787b5e7a95e31514e0901b38e4571aaf5a0400099002c6574a1"
 },
 "nbformat": 3,
 "nbformat_minor": 0,
 "worksheets": [
  {
   "cells": [
    {
     "cell_type": "heading",
     "level": 1,
     "metadata": {},
     "source": [
      "Projet de taxation marginale \u00e0 75% sur les revenus > 1 Million \u20ac"
     ]
    },
    {
     "cell_type": "heading",
     "level": 3,
     "metadata": {},
     "source": [
      "Introduction"
     ]
    },
    {
     "cell_type": "markdown",
     "metadata": {},
     "source": [
      "Lors de la campagne pr\u00e9sidentielle 2012 Fran\u00e7ois Hollande annon\u00e7a dans son programme \u00e9lectoral qu'il mettrait en place une taxe \u00e0 75% sur les revenus sup\u00e9rieurs \u00e0 1 million d'Euros. Durant cette p\u00e9riode les partisans UMP affirmaient que ce projet de r\u00e9forme ne pourrait jamais \u00eatre impl\u00e9ment\u00e9 et que ce n'\u00e9tait qu'un moyen pour Fran\u00e7ois Hollande de gagner plus de voix aux \u00e9lections. Pourtant en 2012 le gouvernement de Fran\u00e7ois Hollande a propos\u00e9 au conseil constitutionnel un projet de r\u00e9forme de la fiscalit\u00e9 qui incluait une taxe marginale \u00e0 hauteur de 75% pour les revenus sup\u00e9rieurs \u00e0 1 Millions d'Euros. Cette r\u00e9forme a d'abord \u00e9t\u00e9 invalid\u00e9e par le Conseil Constitutionnel en D\u00e9cembre de la m\u00eame ann\u00e9e, et elle a \u00e9t\u00e9 refondue et revot\u00e9e le 18 octobre 2013. Le 29 D\u00e9cembre 2013 apr\u00e8s avoir subit quelques rectifications, le projet de r\u00e9forme fiscale est enfin valid\u00e9 par le Conseil Constitutionnel. Ainsi, alors que certains articles ont-\u00e9t\u00e9 valid\u00e9s en l'\u00e9tat, d'autres on \u00e9t\u00e9 rejet\u00e9s compl\u00e8tement, et certains ont-\u00e9t\u00e9 accept\u00e9s apr\u00e8s avoir subit quelques modifications. Par exemple l'article 9 pr\u00e9voyait en partie de faire passer le taux d'imposition sur les bons anonymes de 75,5% \u00e0 90,5%, ce qui a finalement \u00e9t\u00e9 supprim\u00e9 de la loi des finances 2013, car le Conseil Constitutionnel a jug\u00e9 qu'un pareil taux repr\u00e9sentait une charge trop importante au regard de la capacit\u00e9 contributive des contribuables. L'article 12, qui pr\u00e9voyait d'instituer une taxe exceptionnelle de solidarit\u00e9 sur les revenus d'activit\u00e9 sup\u00e9rieure \u00e0 1 million d'euros, et dont le taux devait s'\u00e9lever \u00e0 18%, a \u00e9t\u00e9 supprim\u00e9. Enfin, l'article 3 qui a \u00e9t\u00e9 valid\u00e9 par le Conseil Constitutionnel institue une nouvelle tranche d'imposition marginale \u00e0 45% sur les revenus sup\u00e9rieurs \u00e0 150.000 \u20ac. Conjugu\u00e9 avec d'autres articles, cette r\u00e9forme fait passer la taxation marginale cumul\u00e9e \u00e0 plus de 75% sur les hauts revenus."
     ]
    },
    {
     "cell_type": "markdown",
     "metadata": {},
     "source": [
      "Cette r\u00e9forme a beaucoup fait parler d'elle, d'abord parce qu'elle a \u00e9t\u00e9 critiqu\u00e9e lors des campagnes pr\u00e9sidentielles comme \u00e9tant un simple projet d\u00e9magogique, puis parce qu'une fois impl\u00e9ment\u00e9e plusieurs personnalit\u00e9s fran\u00e7aises ont quitt\u00e9 le pays (G\u00e9rard Depardieux, Florent Pagny, Johnny Hallyday, Bernard Arnault...), laissant sugg\u00e9rer que cette r\u00e9forme serait \u00e0 l'origine d'un important exil fiscal. Etant donn\u00e9 l'importante m\u00e9diatisation de cette r\u00e9forme, et sachant qu'elle pourrait modifier le comportement des plus riches contribuables fran\u00e7ais, il semble int\u00e9ressant d'\u00e9tudier l'impacte de cette r\u00e9forme sur la charge fiscale totale que doivent supporter les fran\u00e7ais."
     ]
    },
    {
     "cell_type": "markdown",
     "metadata": {},
     "source": [
      "Dans un premier temps il s'agira d'\u00e9tudier la charge fiscale pr\u00e9vue par le projet initial en fonction du revenu imposable, et de la comparer avec la charge fiscale du projet modifi\u00e9 par le conseil constitutionnel. Sachant les avantages associ\u00e9s au quotient familiale ont-\u00e9t\u00e9 modifi\u00e9 par la r\u00e9forme, il s'agira dans un second temps de mesurer l'effet d'incitation au mariage de personnes avec des revenus disparates qui r\u00e9sulte du projet valid\u00e9 de r\u00e9forme, et de le comparer avec le m\u00eame effet d'incitation r\u00e9sultat du projet initial de r\u00e9forme."
     ]
    },
    {
     "cell_type": "heading",
     "level": 3,
     "metadata": {},
     "source": [
      "Initialisation"
     ]
    },
    {
     "cell_type": "code",
     "collapsed": false,
     "input": [
      "from openfisca_france.reforms import cesthra_invalidee\n",
      "from openfisca_france.tests import base"
     ],
     "language": "python",
     "metadata": {},
     "outputs": [],
     "prompt_number": 3
    },
    {
     "cell_type": "code",
     "collapsed": false,
     "input": [
      "%matplotlib inline\n",
      "import matplotlib.pyplot as plt\n",
      "import numpy as np\n",
      "np.set_printoptions(suppress=True, precision=2) #permet d'imprimer les array avec juste 2 chiffres et sans notation scientifique.\n",
      "from openfisca_matplotlib import graphs"
     ],
     "language": "python",
     "metadata": {},
     "outputs": [],
     "prompt_number": 4
    },
    {
     "cell_type": "code",
     "collapsed": false,
     "input": [
      "from datetime import date  # module n\u00e9cessaire pour la d\u00e9finition des dates, dont notamment les dates de naissances\n",
      "\n",
      "from openfisca_core import periods\n",
      "import openfisca_france    # module d\u00e9crivant le syst\u00e8me socio-fiscal fran\u00e7ais\n",
      "\n",
      "TaxBenefitSystem = openfisca_france.init_country()  # Initialisation de la classe d\u00e9crivant le syst\u00e8me socio-fiscal fran\u00e7ais\n",
      "tax_benefit_system = TaxBenefitSystem()  # Cr\u00e9ation d'une instance du syst\u00e8me socio-fiscal fran\u00e7ais \n",
      "tax_benefit_cesthra = cesthra_invalidee.build_reform(base.tax_benefit_system)"
     ],
     "language": "python",
     "metadata": {},
     "outputs": [],
     "prompt_number": 5
    },
    {
     "cell_type": "code",
     "collapsed": false,
     "input": [
      "salaire_maximal = 5000000"
     ],
     "language": "python",
     "metadata": {},
     "outputs": [],
     "prompt_number": 6
    },
    {
     "cell_type": "heading",
     "level": 2,
     "metadata": {},
     "source": [
      "I. Diff\u00e9rence de Revenu Disponible entre les deux imp\u00f4ts"
     ]
    },
    {
     "cell_type": "heading",
     "level": 3,
     "metadata": {},
     "source": [
      "I.1. Nouveau projet: Taxe Exceptionelle de Solidarit\u00e9 sur les Hautes R\u00e9mun\u00e9rations (TEHR)"
     ]
    },
    {
     "cell_type": "markdown",
     "metadata": {},
     "source": [
      "Le 29 d\u00e9cembre 2013, la loi des finances 2014 est vot\u00e9e par le conseil constitutionnel. Suite \u00e0 l'impl\u00e9mentation de cette loi, l'article 15 instaure une \"Taxe Exeptionnelle de Solidarit\u00e9 sur les Hautes R\u00e9mun\u00e9rations (TEHR)\", qui pr\u00e9voit de taxer \u00e0 hauteur de 50% la part des r\u00e9mun\u00e9rations sup\u00e9rieure \u00e0 1 Million \u20ac. D\u00e8s lors, les entreprises r\u00e9mun\u00e9rant certains employ\u00e9s au del\u00e0 de 1 million d'euros doivent s'acquitter l'ann\u00e9e suivante d'une taxe \u00e0 hauteur de 50% sur la part des r\u00e9mun\u00e9rations sup\u00e9rieures \u00e0 1 million d'euros."
     ]
    },
    {
     "cell_type": "markdown",
     "metadata": {},
     "source": [
      "Si le taux marginal de cette taxe n'est pas directement \u00e9gale \u00e0 75% sur les r\u00e9mun\u00e9rations sup\u00e9rieurs \u00e0 1 millions d'Euros, cummul\u00e9e avec l'ensemble du syst\u00e8me fiscale la TEHR \u00e9l\u00e8ve effectivement le taux marginal sur les r\u00e9mun\u00e9rations sup\u00e9rieurs \u00e0 1 millions d'euros \u00e0 75%."
     ]
    },
    {
     "cell_type": "markdown",
     "metadata": {},
     "source": [
      "D'abord nous allons calculer le taux marginal de l'imposition totale sur le revenu, en prenant soin d'inclure dans l'imposition totale la Taxe Exceptionelle de Solidarit\u00e9 sur les Hautes R\u00e9mun\u00e9rations (TEHR). Ainsi nous pourrons v\u00e9rifier si le taux marginale de l'imposition totale pour les revenus sup\u00e9rieurs \u00e0 1 Million d'Euros correspond \u00e0 75%."
     ]
    },
    {
     "cell_type": "code",
     "collapsed": false,
     "input": [
      "def homme_celibataire_tehr(nombre_enfants = 0, year = 2014):\n",
      "    simulation = tax_benefit_system.new_scenario().init_single_entity(\n",
      "        axes = [\n",
      "            dict(\n",
      "                count = 100,\n",
      "                min = 0,\n",
      "                max = salaire_maximal,\n",
      "                name = 'salaire_de_base',\n",
      "                ),\n",
      "            ],\n",
      "        period = year,\n",
      "        parent1 = dict(\n",
      "            birth = date(1980, 1, 1),\n",
      "            salaire_de_base = {\"2013\": salaire_maximal, \"2014\": salaire_maximal}\n",
      "            ),\n",
      "        menage = dict(\n",
      "            loyer = 1000 * 3,\n",
      "            so = 4,\n",
      "            ),\n",
      "        ).new_simulation(debug = True)\n",
      "    return simulation"
     ],
     "language": "python",
     "metadata": {},
     "outputs": [],
     "prompt_number": 7
    },
    {
     "cell_type": "code",
     "collapsed": false,
     "input": [
      "tehr = homme_celibataire_tehr(year = 2014).calculate('tehr', '2014')\n",
      "tehr"
     ],
     "language": "python",
     "metadata": {},
     "outputs": [
      {
       "metadata": {},
       "output_type": "pyout",
       "prompt_number": 8,
       "text": [
        "array([      -0.  ,       -0.  ,       -0.  ,       -0.  ,       -0.  ,\n",
        "             -0.  ,       -0.  ,       -0.  ,       -0.  ,       -0.  ,\n",
        "             -0.  ,       -0.  ,       -0.  ,       -0.  ,       -0.  ,\n",
        "             -0.  ,       -0.  ,       -0.  ,       -0.  ,       -0.  ,\n",
        "          -5050.5 ,   -30303.  ,   -55555.56,   -80808.06,  -106060.62,\n",
        "        -131313.12,  -156565.69,  -181818.19,  -207070.69,  -232323.25,\n",
        "        -257575.75,  -282828.31,  -308080.81,  -333333.31,  -358585.88,\n",
        "        -383838.38,  -409090.94,  -434343.44,  -459595.94,  -484848.5 ,\n",
        "        -510101.  ,  -535353.56,  -560606.  ,  -585858.62,  -611111.12,\n",
        "        -636363.62,  -661616.12,  -686868.62,  -712121.25,  -737373.75,\n",
        "        -762626.25,  -787878.75,  -813131.38,  -838383.88,  -863636.38,\n",
        "        -888888.88,  -914141.38,  -939394.  ,  -964646.5 ,  -989899.  ,\n",
        "       -1015151.5 , -1040404.  , -1065656.62, -1090909.12, -1116161.62,\n",
        "       -1141414.12, -1166666.62, -1191919.25, -1217171.75, -1242424.25,\n",
        "       -1267676.75, -1292929.25, -1318181.88, -1343434.38, -1368686.88,\n",
        "       -1393939.38, -1419191.88, -1444444.5 , -1469697.  , -1494949.5 ,\n",
        "       -1520202.  , -1545454.5 , -1570707.12, -1595959.62, -1621212.  ,\n",
        "       -1646464.75, -1671717.25, -1696969.75, -1722222.25, -1747474.75,\n",
        "       -1772727.25, -1797979.75, -1823232.25, -1848484.75, -1873737.25,\n",
        "       -1898990.  , -1924242.5 , -1949495.  , -1974747.5 , -2000000.  ], dtype=float32)"
       ]
      }
     ],
     "prompt_number": 8
    },
    {
     "cell_type": "code",
     "collapsed": false,
     "input": [
      "revdisp = homme_celibataire_tehr(year = 2014).calculate('revdisp', '2014')\n",
      "revdisp "
     ],
     "language": "python",
     "metadata": {},
     "outputs": [
      {
       "metadata": {},
       "output_type": "pyout",
       "prompt_number": 9,
       "text": [
        "array([    5679.25,    48186.93,    82948.4 ,   113564.74,   141813.78,\n",
        "         169591.56,   196141.34,   222403.97,   248666.61,   274929.25,\n",
        "         301191.84,   327019.88,   352777.5 ,   378535.06,   404292.62,\n",
        "         430050.19,   455807.78,   481565.34,   507322.94,   533080.5 ,\n",
        "         558838.06,   584595.62,   610353.25,   636110.81,   661868.38,\n",
        "         687625.94,   713383.56,   739141.12,   764898.69,   790656.25,\n",
        "         816413.81,   842171.44,   867929.  ,   893686.5 ,   919444.12,\n",
        "         945201.69,   970959.31,   996716.88,  1022474.38,  1048232.  ,\n",
        "        1073989.5 ,  1099747.25,  1125504.62,  1151262.38,  1177019.88,\n",
        "        1202777.5 ,  1228535.  ,  1254292.62,  1280050.12,  1305807.75,\n",
        "        1331565.25,  1357322.88,  1383080.62,  1408838.12,  1434595.75,\n",
        "        1460353.25,  1486110.88,  1511868.5 ,  1537626.  ,  1563383.62,\n",
        "        1589141.12,  1614898.75,  1640656.38,  1666413.88,  1692171.5 ,\n",
        "        1717929.  ,  1743686.5 ,  1769444.25,  1795201.75,  1820959.25,\n",
        "        1846716.88,  1872474.38,  1898232.12,  1923989.62,  1949747.25,\n",
        "        1975504.75,  2001262.25,  2027020.  ,  2052777.5 ,  2078535.  ,\n",
        "        2104292.5 ,  2130050.  ,  2155807.75,  2181565.5 ,  2207322.5 ,\n",
        "        2233080.5 ,  2258838.  ,  2284595.5 ,  2310353.  ,  2336110.5 ,\n",
        "        2361868.  ,  2387625.5 ,  2413383.25,  2439140.75,  2464898.5 ,\n",
        "        2490656.25,  2516413.75,  2542171.25,  2567928.75,  2593686.5 ], dtype=float32)"
       ]
      }
     ],
     "prompt_number": 9
    },
    {
     "cell_type": "code",
     "collapsed": false,
     "input": [
      "print homme_celibataire_tehr(year = 2014).calculate('salaire_de_base', '2013')\n",
      "print homme_celibataire_tehr(year = 2014).calculate('salaire_de_base', '2014')\n",
      "print homme_celibataire_tehr(year = 2014).calculate('salaire_de_base', '2015')"
     ],
     "language": "python",
     "metadata": {},
     "outputs": [
      {
       "output_type": "stream",
       "stream": "stdout",
       "text": [
        "[ 5000000.  5000000.  5000000.  5000000.  5000000.  5000000.  5000000.\n",
        "  5000000.  5000000.  5000000.  5000000.  5000000.  5000000.  5000000.\n",
        "  5000000.  5000000.  5000000.  5000000.  5000000.  5000000.  5000000.\n",
        "  5000000.  5000000.  5000000.  5000000.  5000000.  5000000.  5000000.\n",
        "  5000000.  5000000.  5000000.  5000000.  5000000.  5000000.  5000000.\n",
        "  5000000.  5000000.  5000000.  5000000.  5000000.  5000000.  5000000.\n",
        "  5000000.  5000000.  5000000.  5000000.  5000000.  5000000.  5000000.\n",
        "  5000000.  5000000.  5000000.  5000000.  5000000.  5000000.  5000000.\n",
        "  5000000.  5000000.  5000000.  5000000.  5000000.  5000000.  5000000.\n",
        "  5000000.  5000000.  5000000.  5000000.  5000000.  5000000.  5000000.\n",
        "  5000000.  5000000.  5000000.  5000000.  5000000.  5000000.  5000000.\n",
        "  5000000.  5000000.  5000000.  5000000.  5000000.  5000000.  5000000.\n",
        "  5000000.  5000000.  5000000.  5000000.  5000000.  5000000.  5000000.\n",
        "  5000000.  5000000.  5000000.  5000000.  5000000.  5000000.  5000000.\n",
        "  5000000.  5000000.]\n",
        "[       0.      50505.05   101010.1    151515.16   202020.2    252525.25\n",
        "   303030.31   353535.34   404040.41   454545.47   505050.5    555555.56\n",
        "   606060.62   656565.69   707070.69   757575.75   808080.81   858585.88\n",
        "   909090.94   959595.94  1010101.    1060606.    1111111.12  1161616.12\n",
        "  1212121.25  1262626.25  1313131.38  1363636.38  1414141.38  1464646.5\n",
        "  1515151.5   1565656.62  1616161.62  1666666.62  1717171.75  1767676.75\n",
        "  1818181.88  1868686.88  1919191.88  1969697.    2020202.    2070707.12\n",
        "  2121212.    2171717.25  2222222.25  2272727.25  2323232.25  2373737.25\n",
        "  2424242.5   2474747.5   2525252.5   2575757.5   2626262.75  2676767.75\n",
        "  2727272.75  2777777.75  2828282.75  2878788.    2929293.    2979798.\n",
        "  3030303.    3080808.    3131313.25  3181818.25  3232323.25  3282828.25\n",
        "  3333333.25  3383838.5   3434343.5   3484848.5   3535353.5   3585858.5\n",
        "  3636363.75  3686868.75  3737373.75  3787878.75  3838383.75  3888889.\n",
        "  3939394.    3989899.    4040404.    4090909.    4141414.25  4191919.25\n",
        "  4242424.    4292929.5   4343434.5   4393939.5   4444444.5   4494949.5\n",
        "  4545454.5   4595959.5   4646464.5   4696969.5   4747474.5   4797980.\n",
        "  4848485.    4898990.    4949495.    5000000.  ]"
       ]
      },
      {
       "output_type": "stream",
       "stream": "stdout",
       "text": [
        "\n",
        "[ 0.  0.  0.  0.  0.  0.  0.  0.  0.  0.  0.  0.  0.  0.  0.  0.  0.  0.\n",
        "  0.  0.  0.  0.  0.  0.  0.  0.  0.  0.  0.  0.  0.  0.  0.  0.  0.  0.\n",
        "  0.  0.  0.  0.  0.  0.  0.  0.  0.  0.  0.  0.  0.  0.  0.  0.  0.  0.\n",
        "  0.  0.  0.  0.  0.  0.  0.  0.  0.  0.  0.  0.  0.  0.  0.  0.  0.  0.\n",
        "  0.  0.  0.  0.  0.  0.  0.  0.  0.  0.  0.  0.  0.  0.  0.  0.  0.  0.\n",
        "  0.  0.  0.  0.  0.  0.  0.  0.  0.  0.]"
       ]
      },
      {
       "output_type": "stream",
       "stream": "stdout",
       "text": [
        "\n"
       ]
      }
     ],
     "prompt_number": 10
    },
    {
     "cell_type": "code",
     "collapsed": false,
     "input": [
      "revdisp = homme_celibataire_tehr(year = 2014).calculate('revdisp', '2014')\n",
      "impot_total = homme_celibataire_tehr(year = 2014).calculate('impo', '2014')\n",
      "impot_total"
     ],
     "language": "python",
     "metadata": {},
     "outputs": [
      {
       "metadata": {},
       "output_type": "pyout",
       "prompt_number": 11,
       "text": [
        "array([       0.  ,    -7997.38,   -23740.95,   -43629.66,   -65885.66,\n",
        "         -88612.93,  -112568.21,  -136810.62,  -161053.05,  -185295.48,\n",
        "        -209537.91,  -234214.92,  -258962.39,  -283709.88,  -308457.31,\n",
        "        -333204.81,  -357952.28,  -382699.78,  -407447.25,  -432194.72,\n",
        "        -456942.19,  -481689.62,  -506437.12,  -531184.56,  -555932.12,\n",
        "        -580679.56,  -605427.06,  -630174.5 ,  -654921.94,  -679669.5 ,\n",
        "        -704416.94,  -729164.44,  -753911.88,  -778659.38,  -803406.88,\n",
        "        -828154.31,  -852901.81,  -877649.25,  -902396.75,  -927144.25,\n",
        "        -951891.69,  -976639.12, -1001386.62, -1026134.12, -1050881.62,\n",
        "       -1075629.  , -1100376.5 , -1125123.88, -1149871.62, -1174619.  ,\n",
        "       -1199366.5 , -1224113.88, -1248861.38, -1273608.88, -1298356.25,\n",
        "       -1323103.75, -1347851.12, -1372598.75, -1397346.25, -1422093.62,\n",
        "       -1446841.12, -1471588.5 , -1496336.12, -1521083.62, -1545831.  ,\n",
        "       -1570578.5 , -1595326.  , -1620073.5 , -1644821.  , -1669568.5 ,\n",
        "       -1694315.88, -1719063.38, -1743810.88, -1768558.38, -1793305.75,\n",
        "       -1818053.25, -1842800.75, -1867548.25, -1892295.75, -1917043.25,\n",
        "       -1941790.62, -1966538.12, -1991285.75, -2016033.12, -2040780.5 ,\n",
        "       -2065528.12, -2090275.62, -2115023.  , -2139770.5 , -2164518.  ,\n",
        "       -2189265.5 , -2214013.  , -2238760.25, -2263507.75, -2288255.  ,\n",
        "       -2313002.75, -2337750.25, -2362497.75, -2387245.25, -2411992.5 ], dtype=float32)"
       ]
      }
     ],
     "prompt_number": 11
    },
    {
     "cell_type": "code",
     "collapsed": false,
     "input": [
      "salaire_de_base = homme_celibataire_tehr(year = 2014).calculate('salaire_de_base', '2014')\n",
      "salaire_de_base"
     ],
     "language": "python",
     "metadata": {},
     "outputs": [
      {
       "metadata": {},
       "output_type": "pyout",
       "prompt_number": 12,
       "text": [
        "array([       0.  ,    50505.05,   101010.1 ,   151515.16,   202020.2 ,\n",
        "         252525.25,   303030.31,   353535.34,   404040.41,   454545.47,\n",
        "         505050.5 ,   555555.56,   606060.62,   656565.69,   707070.69,\n",
        "         757575.75,   808080.81,   858585.88,   909090.94,   959595.94,\n",
        "        1010101.  ,  1060606.  ,  1111111.12,  1161616.12,  1212121.25,\n",
        "        1262626.25,  1313131.38,  1363636.38,  1414141.38,  1464646.5 ,\n",
        "        1515151.5 ,  1565656.62,  1616161.62,  1666666.62,  1717171.75,\n",
        "        1767676.75,  1818181.88,  1868686.88,  1919191.88,  1969697.  ,\n",
        "        2020202.  ,  2070707.12,  2121212.  ,  2171717.25,  2222222.25,\n",
        "        2272727.25,  2323232.25,  2373737.25,  2424242.5 ,  2474747.5 ,\n",
        "        2525252.5 ,  2575757.5 ,  2626262.75,  2676767.75,  2727272.75,\n",
        "        2777777.75,  2828282.75,  2878788.  ,  2929293.  ,  2979798.  ,\n",
        "        3030303.  ,  3080808.  ,  3131313.25,  3181818.25,  3232323.25,\n",
        "        3282828.25,  3333333.25,  3383838.5 ,  3434343.5 ,  3484848.5 ,\n",
        "        3535353.5 ,  3585858.5 ,  3636363.75,  3686868.75,  3737373.75,\n",
        "        3787878.75,  3838383.75,  3888889.  ,  3939394.  ,  3989899.  ,\n",
        "        4040404.  ,  4090909.  ,  4141414.25,  4191919.25,  4242424.  ,\n",
        "        4292929.5 ,  4343434.5 ,  4393939.5 ,  4444444.5 ,  4494949.5 ,\n",
        "        4545454.5 ,  4595959.5 ,  4646464.5 ,  4696969.5 ,  4747474.5 ,\n",
        "        4797980.  ,  4848485.  ,  4898990.  ,  4949495.  ,  5000000.  ], dtype=float32)"
       ]
      }
     ],
     "prompt_number": 12
    },
    {
     "cell_type": "code",
     "collapsed": false,
     "input": [],
     "language": "python",
     "metadata": {},
     "outputs": []
    },
    {
     "cell_type": "code",
     "collapsed": false,
     "input": [
      "taux_marginal =  ((impot_total[1:] + tehr[1:]) - (impot_total[:-1] + tehr[:-1])) / (salaire_de_base[1:] - salaire_de_base[:-1] ) \n",
      "taux_marginal"
     ],
     "language": "python",
     "metadata": {},
     "outputs": [
      {
       "metadata": {},
       "output_type": "pyout",
       "prompt_number": 13,
       "text": [
        "array([-0.16, -0.31, -0.39, -0.44, -0.45, -0.47, -0.48, -0.48, -0.48,\n",
        "       -0.48, -0.49, -0.49, -0.49, -0.49, -0.49, -0.49, -0.49, -0.49,\n",
        "       -0.49, -0.59, -0.99, -0.99, -0.99, -0.99, -0.99, -0.99, -0.99,\n",
        "       -0.99, -0.99, -0.99, -0.99, -0.99, -0.99, -0.99, -0.99, -0.99,\n",
        "       -0.99, -0.99, -0.99, -0.99, -0.99, -0.99, -0.99, -0.99, -0.99,\n",
        "       -0.99, -0.99, -0.99, -0.99, -0.99, -0.99, -0.99, -0.99, -0.99,\n",
        "       -0.99, -0.99, -0.99, -0.99, -0.99, -0.99, -0.99, -0.99, -0.99,\n",
        "       -0.99, -0.99, -0.99, -0.99, -0.99, -0.99, -0.99, -0.99, -0.99,\n",
        "       -0.99, -0.99, -0.99, -0.99, -0.99, -0.99, -0.99, -0.99, -0.99,\n",
        "       -0.99, -0.99, -0.99, -0.99, -0.99, -0.99, -0.99, -0.99, -0.99,\n",
        "       -0.99, -0.99, -0.99, -0.99, -0.99, -0.99, -0.99, -0.99, -0.99], dtype=float32)"
       ]
      }
     ],
     "prompt_number": 13
    },
    {
     "cell_type": "code",
     "collapsed": false,
     "input": [
      "taux_marginal =  ((impot_total[1:] + tehr[1:]) - (impot_total[:-1] + tehr[:-1])) / (salaire_de_base[1:] - salaire_de_base[:-1] ) \n",
      "taux_marginal\n",
      "print (impot_total[1:] + tehr[1:]) - (impot_total[:-1] + tehr[:-1])\n",
      "print (salaire_de_base[1:] - salaire_de_base[:-1] )"
     ],
     "language": "python",
     "metadata": {},
     "outputs": [
      {
       "output_type": "stream",
       "stream": "stdout",
       "text": [
        "[ -7997.38 -15743.58 -19888.71 -22256.   -22727.27 -23955.28 -24242.41\n",
        " -24242.42 -24242.44 -24242.42 -24677.02 -24747.47 -24747.48 -24747.44\n",
        " -24747.5  -24747.47 -24747.5  -24747.47 -24747.47 -29797.97 -49999.94\n",
        " -50000.06 -49999.94 -50000.12 -49999.94 -50000.06 -49999.94 -49999.94\n",
        " -50000.12 -49999.94 -50000.06 -50000.   -50000.   -50000.   -50000.\n",
        " -50000.   -50000.   -50000.   -50000.   -50000.   -50000.   -49999.88\n",
        " -50000.12 -50000.   -49999.88 -50000.   -49999.88 -50000.38 -49999.88\n",
        " -50000.   -49999.88 -50000.12 -50000.   -49999.75 -50000.   -50000.\n",
        " -50000.25 -50000.   -49999.75 -50000.   -50000.   -50000.25 -50000.\n",
        " -49999.75 -50000.   -50000.   -50000.25 -50000.   -50000.   -49999.75\n",
        " -50000.   -50000.25 -50000.   -49999.75 -50000.   -50000.   -50000.25\n",
        " -50000.   -50000.   -49999.75 -50000.   -50000.5  -49999.75 -49999.75\n",
        " -50000.5  -50000.   -49999.75 -50000.   -50000.   -50000.   -50000.\n",
        " -49999.75 -50000.   -49999.75 -50000.75 -50000.   -50000.   -50000.\n",
        " -49999.5 ]\n",
        "[ 50505.05  50505.05  50505.05  50505.05  50505.05  50505.06  50505.03\n",
        "  50505.06  50505.06  50505.03  50505.06  50505.06  50505.06  50505.\n",
        "  50505.06  50505.06  50505.06  50505.06  50505.    50505.06  50505.\n",
        "  50505.12  50505.    50505.12  50505.    50505.12  50505.    50505.\n",
        "  50505.12  50505.    50505.12  50505.    50505.    50505.12  50505.\n",
        "  50505.12  50505.    50505.    50505.12  50505.    50505.12  50504.88\n",
        "  50505.25  50505.    50505.    50505.    50505.    50505.25  50505.\n",
        "  50505.    50505.    50505.25  50505.    50505.    50505.    50505.\n",
        "  50505.25  50505.    50505.    50505.    50505.    50505.25  50505.\n",
        "  50505.    50505.    50505.    50505.25  50505.    50505.    50505.\n",
        "  50505.    50505.25  50505.    50505.    50505.    50505.    50505.25\n",
        "  50505.    50505.    50505.    50505.    50505.25  50505.    50504.75\n",
        "  50505.5   50505.    50505.    50505.    50505.    50505.    50505.\n",
        "  50505.    50505.    50505.    50505.5   50505.    50505.    50505.\n",
        "  50505.  ]\n"
       ]
      }
     ],
     "prompt_number": 14
    },
    {
     "cell_type": "code",
     "collapsed": false,
     "input": [
      "print impot_total[1:]+impot_total[:-1] - tehr[1:] - tehr[:-1] + salaire_de_base[1:] + salaire_de_base[:-1]"
     ],
     "language": "python",
     "metadata": {},
     "outputs": [
      {
       "output_type": "stream",
       "stream": "stdout",
       "text": [
        "[   42507.68   119776.83   185154.64   244020.03   300046.88   354374.44\n",
        "   407186.81   459712.06   512237.34   564762.62   616853.25   668438.88\n",
        "   719954.06   771469.19   822984.31   874499.44   926014.62   977529.81\n",
        "  1029044.88  1085610.5   1167428.75  1269449.    1371469.25  1473489.25\n",
        "  1575509.5   1677529.75  1779550.25  1881570.25  1983590.25  2085610.5\n",
        "  2187631.    2289651.    2391671.    2493691.25  2595711.5   2697731.75\n",
        "  2799752.25  2901772.25  3003792.5   3105812.5   3207833.    3309853.\n",
        "  3411873.    3513893.5   3615913.75  3717933.75  3819953.75  3921974.\n",
        "  4023994.5   4126014.5   4228034.5   4330055.    4432075.5   4534096.\n",
        "  4636116.    4738136.    4840156.    4942176.5   5044196.5   5146217.\n",
        "  5248237.    5350257.5   5452277.5   5554298.    5656318.    5758338.\n",
        "  5860358.    5962378.5   6064398.5   6166418.5   6268439.    6370459.\n",
        "  6472479.    6574500.    6676520.    6778540.    6880560.    6982580.5\n",
        "  7084600.5   7186620.5   7288641.    7390661.    7492681.    7594701.\n",
        "  7696722.    7798742.    7900762.5   8002782.5   8104802.5   8206822.5\n",
        "  8308842.5   8410863.    8512883.    8614903.    8716924.    8818944.\n",
        "  8920964.    9022984.    9125004.  ]\n"
       ]
      }
     ],
     "prompt_number": 15
    },
    {
     "cell_type": "code",
     "collapsed": false,
     "input": [
      " homme_celibataire_tehr(year = 2014).calculate('revdisp', '2014')"
     ],
     "language": "python",
     "metadata": {},
     "outputs": [
      {
       "metadata": {},
       "output_type": "pyout",
       "prompt_number": 16,
       "text": [
        "array([    5679.25,    48186.93,    82948.4 ,   113564.74,   141813.78,\n",
        "         169591.56,   196141.34,   222403.97,   248666.61,   274929.25,\n",
        "         301191.84,   327019.88,   352777.5 ,   378535.06,   404292.62,\n",
        "         430050.19,   455807.78,   481565.34,   507322.94,   533080.5 ,\n",
        "         558838.06,   584595.62,   610353.25,   636110.81,   661868.38,\n",
        "         687625.94,   713383.56,   739141.12,   764898.69,   790656.25,\n",
        "         816413.81,   842171.44,   867929.  ,   893686.5 ,   919444.12,\n",
        "         945201.69,   970959.31,   996716.88,  1022474.38,  1048232.  ,\n",
        "        1073989.5 ,  1099747.25,  1125504.62,  1151262.38,  1177019.88,\n",
        "        1202777.5 ,  1228535.  ,  1254292.62,  1280050.12,  1305807.75,\n",
        "        1331565.25,  1357322.88,  1383080.62,  1408838.12,  1434595.75,\n",
        "        1460353.25,  1486110.88,  1511868.5 ,  1537626.  ,  1563383.62,\n",
        "        1589141.12,  1614898.75,  1640656.38,  1666413.88,  1692171.5 ,\n",
        "        1717929.  ,  1743686.5 ,  1769444.25,  1795201.75,  1820959.25,\n",
        "        1846716.88,  1872474.38,  1898232.12,  1923989.62,  1949747.25,\n",
        "        1975504.75,  2001262.25,  2027020.  ,  2052777.5 ,  2078535.  ,\n",
        "        2104292.5 ,  2130050.  ,  2155807.75,  2181565.5 ,  2207322.5 ,\n",
        "        2233080.5 ,  2258838.  ,  2284595.5 ,  2310353.  ,  2336110.5 ,\n",
        "        2361868.  ,  2387625.5 ,  2413383.25,  2439140.75,  2464898.5 ,\n",
        "        2490656.25,  2516413.75,  2542171.25,  2567928.75,  2593686.5 ], dtype=float32)"
       ]
      }
     ],
     "prompt_number": 16
    },
    {
     "cell_type": "heading",
     "level": 3,
     "metadata": {},
     "source": [
      "I.2. Projet initial: Contribution Exceptionnelle de Solidarit\u00e9 sur les tr\u00e9s Hauts Revenus d'Activit\u00e9 (CESRA)"
     ]
    },
    {
     "cell_type": "markdown",
     "metadata": {},
     "source": [
      "En Septembre 2012, le projet de loi des finances 2013 fut pr\u00e9sent\u00e9 devant l'assembl\u00e9e nationnale. L'article 8 de cette proposition pr\u00e9voyait l'impl\u00e9mentation d'une \"Contribution Exceptionnelle de Solidarit\u00e9 sur les tr\u00e8s Hauts Revenus d'Activit\u00e9\" (CESRA), c'est-\u00e0-dire un imp\u00f4t \u00e0 hauteur de 18% sur la part des revenus professionnels exc\u00e9dant 1 million d'Euros. Ici le taux marginal de cette taxe ne correspond pas \u00e0 75% sur les revenus sup\u00e9rieurs \u00e0 1 million d'euros, mais combin\u00e9 avec une augmentation de l'imposition marginale \u00e0 45% sur les revenus sup\u00e9rieurs \u00e0 150 000 \u20ac, avec la Contribution Exceptionnelle sur les Hauts Revenus institu\u00e9e par Sarkozy, et avec les Pr\u00e9l\u00e8vements sur les Revenus Sociaux, le taux marginal de la taxation totale correspond bien \u00e0 75% sur les revenus sup\u00e9rieurs \u00e0 1 million d'Euros."
     ]
    },
    {
     "cell_type": "markdown",
     "metadata": {},
     "source": [
      "Comme pr\u00e9c\u00e9demment, nous allons d'abord calculer le taux marginal de l'imposition totale sur le revenu, en prenant soin d'inclure dans l'imposition totale la Contribution Exceptionnelle de Solidarit\u00e9 sur les tr\u00e9s Hauts Revenus d'Activit\u00e9 (CESRA). Ainsi nous pourrons v\u00e9rifier si le taux marginal de l'imposition totale pour les revenus sup\u00e9rieurs \u00e0 1 Million d'Euros correspond \u00e0 75%."
     ]
    },
    {
     "cell_type": "markdown",
     "metadata": {},
     "source": [
      "Ensuite, puisque le projet de Contribution Exceptionnelle de Solidarit\u00e9 sur les tr\u00e8s Hauts Revenus d'Activit\u00e9 (CESRA) a \u00e9t\u00e9 invalid\u00e9 par le conseil constitutionnel le 29 Septembre 2012, puis remplac\u00e9 par Taxe Exceptionelle de Solidarit\u00e9 sur les Hautes R\u00e9mun\u00e9rations (TEHR), il semble int\u00e9ressant de voir comment chacune des taxes affecte le revenu disponible des individus selon leur revenu imposable."
     ]
    },
    {
     "cell_type": "code",
     "collapsed": false,
     "input": [
      "def homme_celibataire_cesthra(nombre_enfants = 0):\n",
      "    simulation = tax_benefit_cesthra.new_scenario().init_single_entity(\n",
      "        axes = [\n",
      "            dict(\n",
      "                count = 100,\n",
      "                min = 0,\n",
      "                max = salaire_maximal,\n",
      "                name = 'salaire_de_base',\n",
      "                ),\n",
      "            ],\n",
      "        period = 2013,\n",
      "        parent1 = dict(\n",
      "            birth = date(1980, 1, 1),\n",
      "            salaire_de_base = {\"2012\": salaire_maximal, \"2013\": salaire_maximal}\n",
      "            ),\n",
      "        menage = dict(\n",
      "            loyer = 1000 * 3,\n",
      "            so = 4,\n",
      "            ),\n",
      "        ).new_simulation(debug = True)\n",
      "    return simulation"
     ],
     "language": "python",
     "metadata": {},
     "outputs": [],
     "prompt_number": 17
    },
    {
     "cell_type": "code",
     "collapsed": false,
     "input": [
      "cesthra = homme_celibataire_cesthra().calculate('salaire_de_base', '2013')\n",
      "cesthra"
     ],
     "language": "python",
     "metadata": {},
     "outputs": [
      {
       "metadata": {},
       "output_type": "pyout",
       "prompt_number": 18,
       "text": [
        "array([       0.  ,    50505.05,   101010.1 ,   151515.16,   202020.2 ,\n",
        "         252525.25,   303030.31,   353535.34,   404040.41,   454545.47,\n",
        "         505050.5 ,   555555.56,   606060.62,   656565.69,   707070.69,\n",
        "         757575.75,   808080.81,   858585.88,   909090.94,   959595.94,\n",
        "        1010101.  ,  1060606.  ,  1111111.12,  1161616.12,  1212121.25,\n",
        "        1262626.25,  1313131.38,  1363636.38,  1414141.38,  1464646.5 ,\n",
        "        1515151.5 ,  1565656.62,  1616161.62,  1666666.62,  1717171.75,\n",
        "        1767676.75,  1818181.88,  1868686.88,  1919191.88,  1969697.  ,\n",
        "        2020202.  ,  2070707.12,  2121212.  ,  2171717.25,  2222222.25,\n",
        "        2272727.25,  2323232.25,  2373737.25,  2424242.5 ,  2474747.5 ,\n",
        "        2525252.5 ,  2575757.5 ,  2626262.75,  2676767.75,  2727272.75,\n",
        "        2777777.75,  2828282.75,  2878788.  ,  2929293.  ,  2979798.  ,\n",
        "        3030303.  ,  3080808.  ,  3131313.25,  3181818.25,  3232323.25,\n",
        "        3282828.25,  3333333.25,  3383838.5 ,  3434343.5 ,  3484848.5 ,\n",
        "        3535353.5 ,  3585858.5 ,  3636363.75,  3686868.75,  3737373.75,\n",
        "        3787878.75,  3838383.75,  3888889.  ,  3939394.  ,  3989899.  ,\n",
        "        4040404.  ,  4090909.  ,  4141414.25,  4191919.25,  4242424.  ,\n",
        "        4292929.5 ,  4343434.5 ,  4393939.5 ,  4444444.5 ,  4494949.5 ,\n",
        "        4545454.5 ,  4595959.5 ,  4646464.5 ,  4696969.5 ,  4747474.5 ,\n",
        "        4797980.  ,  4848485.  ,  4898990.  ,  4949495.  ,  5000000.  ], dtype=float32)"
       ]
      }
     ],
     "prompt_number": 18
    },
    {
     "cell_type": "code",
     "collapsed": false,
     "input": [
      "difference_revenu_disponible_2reformes = cesthra - tehr\n",
      "difference_revenu_disponible_2reformes"
     ],
     "language": "python",
     "metadata": {},
     "outputs": [
      {
       "metadata": {},
       "output_type": "pyout",
       "prompt_number": 19,
       "text": [
        "array([       0.  ,    50505.05,   101010.1 ,   151515.16,   202020.2 ,\n",
        "         252525.25,   303030.31,   353535.34,   404040.41,   454545.47,\n",
        "         505050.5 ,   555555.56,   606060.62,   656565.69,   707070.69,\n",
        "         757575.75,   808080.81,   858585.88,   909090.94,   959595.94,\n",
        "        1015151.5 ,  1090909.  ,  1166666.75,  1242424.25,  1318181.88,\n",
        "        1393939.38,  1469697.  ,  1545454.5 ,  1621212.  ,  1696969.75,\n",
        "        1772727.25,  1848485.  ,  1924242.5 ,  2000000.  ,  2075757.62,\n",
        "        2151515.  ,  2227272.75,  2303030.25,  2378787.75,  2454545.5 ,\n",
        "        2530303.  ,  2606060.75,  2681818.  ,  2757576.  ,  2833333.5 ,\n",
        "        2909091.  ,  2984848.5 ,  3060606.  ,  3136363.75,  3212121.25,\n",
        "        3287878.75,  3363636.25,  3439394.  ,  3515151.5 ,  3590909.  ,\n",
        "        3666666.5 ,  3742424.  ,  3818182.  ,  3893939.5 ,  3969697.  ,\n",
        "        4045454.5 ,  4121212.  ,  4196970.  ,  4272727.5 ,  4348485.  ,\n",
        "        4424242.5 ,  4500000.  ,  4575758.  ,  4651515.  ,  4727273.  ,\n",
        "        4803030.  ,  4878788.  ,  4954545.5 ,  5030303.  ,  5106060.5 ,\n",
        "        5181818.  ,  5257575.5 ,  5333333.5 ,  5409091.  ,  5484848.5 ,\n",
        "        5560606.  ,  5636363.5 ,  5712121.5 ,  5787879.  ,  5863636.  ,\n",
        "        5939394.  ,  6015152.  ,  6090909.  ,  6166667.  ,  6242424.  ,\n",
        "        6318182.  ,  6393939.  ,  6469697.  ,  6545454.  ,  6621212.  ,\n",
        "        6696970.  ,  6772727.5 ,  6848485.  ,  6924242.5 ,  7000000.  ], dtype=float32)"
       ]
      }
     ],
     "prompt_number": 19
    },
    {
     "cell_type": "heading",
     "level": 3,
     "metadata": {},
     "source": [
      "I.3. Graphique Diff\u00e9rence revenu disponible (entre CESRA/TEHR) / revenu imposable"
     ]
    },
    {
     "cell_type": "code",
     "collapsed": false,
     "input": [
      "fig = plt.figure()\n",
      "plt.plot(homme_celibataire_cesthra().calculate('salaire_de_base'), difference_revenu_disponible_2reformes, label = \"macourbe\")\n",
      "plt.legend(loc = 4, shadow=True, fancybox=True)\n",
      "plt.xlim([0,salaire_maximal])"
     ],
     "language": "python",
     "metadata": {},
     "outputs": [
      {
       "metadata": {},
       "output_type": "pyout",
       "prompt_number": 20,
       "text": [
        "(0, 5000000)"
       ]
      },
      {
       "metadata": {},
       "output_type": "display_data",
       "png": "[encoded data removed]",
       "text": [
        "<matplotlib.figure.Figure at 0x7f2b48e34f90>"
       ]
      }
     ],
     "prompt_number": 20
    },
    {
     "cell_type": "code",
     "collapsed": false,
     "input": [],
     "language": "python",
     "metadata": {},
     "outputs": [],
     "prompt_number": 20
    },
    {
     "cell_type": "heading",
     "level": 2,
     "metadata": {},
     "source": [
      "II. Diff\u00e9rence d'imposition entre les deux r\u00e9formes dans le cadre du quotient familliale, pour un couple mari\u00e9 avec des revenus disparates"
     ]
    },
    {
     "cell_type": "heading",
     "level": 3,
     "metadata": {},
     "source": [
      "II.1. Nouveau projet: Taxe Exceptionelle de Solidarit\u00e9 sur les Hautes R\u00e9mun\u00e9rations (TEHR)"
     ]
    },
    {
     "cell_type": "code",
     "collapsed": false,
     "input": [
      "def couple_sans_enfant_tehr(nombre_enfants = 0, year = 2015):\n",
      "    enfant = [dict(\n",
      "        birth = date(2005, 1, 1),\n",
      "        )]\n",
      "    enfants = enfant * nombre_enfants\n",
      "    simulation = tax_benefit_system.new_scenario().init_single_entity(\n",
      "        axes = [\n",
      "            dict(\n",
      "                count = 100,\n",
      "                min = 0,\n",
      "                max = salaire_maximal * 3,\n",
      "                name = 'sal',\n",
      "                ),\n",
      "            ],\n",
      "        period = \"{}:3\".format(year-2),\n",
      "        parent1 = dict(\n",
      "            birth = date(1980, 1, 1),\n",
      "            statmarit = 1\n",
      "            ),\n",
      "        parent2 = dict(\n",
      "            birth = date(1980, 1, 1),\n",
      "            sal = 0,\n",
      "            statmarit = 1\n",
      "            ),\n",
      "        menage = dict(\n",
      "            loyer = 1000 * 3,\n",
      "            so = 4,\n",
      "            ),\n",
      "        ).new_simulation(debug = True)\n",
      "    return simulation"
     ],
     "language": "python",
     "metadata": {},
     "outputs": [],
     "prompt_number": 38
    },
    {
     "cell_type": "code",
     "collapsed": false,
     "input": [
      "tehr = couple_sans_enfant_tehr().calculate('revdisp', '2014')\n",
      "tehr"
     ],
     "language": "python",
     "metadata": {},
     "outputs": [
      {
       "metadata": {},
       "output_type": "pyout",
       "prompt_number": 44,
       "text": [
        "array([ 8047.51,  8047.51,  8047.51,  8047.51,  8047.51,  8047.51,\n",
        "        8047.51,  8047.51,  8047.51,  8047.51,  8047.51,  8047.51,\n",
        "        8047.51,  8047.51,  8047.51,  8047.51,  8047.51,  8047.51,\n",
        "        8047.51,  8047.51,  8047.51,  8047.51,  8047.51,  8047.51,\n",
        "        8047.51,  8047.51,  8047.51,  8047.51,  8047.51,  8047.51,\n",
        "        8047.51,  8047.51,  8047.51,  8047.51,  8047.51,  8047.51,\n",
        "        8047.51,  8047.51,  8047.51,  8047.51,  8047.51,  8047.51,\n",
        "        8047.51,  8047.51,  8047.51,  8047.51,  8047.51,  8047.51,\n",
        "        8047.51,  8047.51,  8047.51,  8047.51,  8047.51,  8047.51,\n",
        "        8047.51,  8047.51,  8047.51,  8047.51,  8047.51,  8047.51,\n",
        "        8047.51,  8047.51,  8047.51,  8047.51,  8047.51,  8047.51,\n",
        "        8047.51,  8047.51,  8047.51,  8047.51,  8047.51,  8047.51,\n",
        "        8047.51,  8047.51,  8047.51,  8047.51,  8047.51,  8047.51,\n",
        "        8047.51,  8047.51,  8047.51,  8047.51,  8047.51,  8047.51,\n",
        "        8047.51,  8047.51,  8047.51,  8047.51,  8047.51,  8047.51,\n",
        "        8047.51,  8047.51,  8047.51,  8047.51,  8047.51,  8047.51,\n",
        "        8047.51,  8047.51,  8047.51,  8047.51], dtype=float32)"
       ]
      }
     ],
     "prompt_number": 44
    },
    {
     "cell_type": "code",
     "collapsed": false,
     "input": [
      "tehr = couple_sans_enfant_tehr().calculate('tehr', '2014')\n",
      "tehr"
     ],
     "language": "python",
     "metadata": {},
     "outputs": [
      {
       "metadata": {},
       "output_type": "pyout",
       "prompt_number": 52,
       "text": [
        "array([-0., -0., -0., -0., -0., -0., -0., -0., -0., -0., -0., -0., -0.,\n",
        "       -0., -0., -0., -0., -0., -0., -0., -0., -0., -0., -0., -0., -0.,\n",
        "       -0., -0., -0., -0., -0., -0., -0., -0., -0., -0., -0., -0., -0.,\n",
        "       -0., -0., -0., -0., -0., -0., -0., -0., -0., -0., -0., -0., -0.,\n",
        "       -0., -0., -0., -0., -0., -0., -0., -0., -0., -0., -0., -0., -0.,\n",
        "       -0., -0., -0., -0., -0., -0., -0., -0., -0., -0., -0., -0., -0.,\n",
        "       -0., -0., -0., -0., -0., -0., -0., -0., -0., -0., -0., -0., -0.,\n",
        "       -0., -0., -0., -0., -0., -0., -0., -0., -0., -0., -0., -0., -0.,\n",
        "       -0., -0., -0., -0., -0., -0., -0., -0., -0., -0., -0., -0., -0.,\n",
        "       -0., -0., -0., -0., -0., -0., -0., -0., -0., -0., -0., -0., -0.,\n",
        "       -0., -0., -0., -0., -0., -0., -0., -0., -0., -0., -0., -0., -0.,\n",
        "       -0., -0., -0., -0., -0., -0., -0., -0., -0., -0., -0., -0., -0.,\n",
        "       -0., -0., -0., -0., -0., -0., -0., -0., -0., -0., -0., -0., -0.,\n",
        "       -0., -0., -0., -0., -0., -0., -0., -0., -0., -0., -0., -0., -0.,\n",
        "       -0., -0., -0., -0., -0., -0., -0., -0., -0., -0., -0., -0., -0.,\n",
        "       -0., -0., -0., -0., -0.], dtype=float32)"
       ]
      }
     ],
     "prompt_number": 52
    },
    {
     "cell_type": "code",
     "collapsed": false,
     "input": [
      "taux_marginal_TEHR = (tehr[1:] - tehr[:-1]) / (salaire_de_base[1:] - salaire_de_base[:-1] ) \n",
      "taux_marginal_TEHR"
     ],
     "language": "python",
     "metadata": {},
     "outputs": [
      {
       "metadata": {},
       "output_type": "pyout",
       "prompt_number": 45,
       "text": [
        "array([ 0.,  0.,  0.,  0.,  0.,  0.,  0.,  0.,  0.,  0.,  0.,  0.,  0.,\n",
        "        0.,  0.,  0.,  0.,  0.,  0.,  0.,  0.,  0.,  0.,  0.,  0.,  0.,\n",
        "        0.,  0.,  0.,  0.,  0.,  0.,  0.,  0.,  0.,  0.,  0.,  0.,  0.,\n",
        "        0.,  0.,  0.,  0.,  0.,  0.,  0.,  0.,  0.,  0.,  0.,  0.,  0.,\n",
        "        0.,  0.,  0.,  0.,  0.,  0.,  0.,  0.,  0.,  0.,  0.,  0.,  0.,\n",
        "        0.,  0.,  0.,  0.,  0.,  0.,  0.,  0.,  0.,  0.,  0.,  0.,  0.,\n",
        "        0.,  0.,  0.,  0.,  0.,  0.,  0.,  0.,  0.,  0.,  0.,  0.,  0.,\n",
        "        0.,  0.,  0.,  0.,  0.,  0.,  0.,  0.], dtype=float32)"
       ]
      }
     ],
     "prompt_number": 45
    },
    {
     "cell_type": "code",
     "collapsed": false,
     "input": [
      "salaire_imposable = couple_sans_enfant_tehr().calculate('sal', '2014')\n",
      "salaire_imposable"
     ],
     "language": "python",
     "metadata": {},
     "outputs": [
      {
       "metadata": {},
       "output_type": "pyout",
       "prompt_number": 40,
       "text": [
        "array([ 0.,  0.,  0.,  0.,  0.,  0.,  0.,  0.,  0.,  0.,  0.,  0.,  0.,\n",
        "        0.,  0.,  0.,  0.,  0.,  0.,  0.,  0.,  0.,  0.,  0.,  0.,  0.,\n",
        "        0.,  0.,  0.,  0.,  0.,  0.,  0.,  0.,  0.,  0.,  0.,  0.,  0.,\n",
        "        0.,  0.,  0.,  0.,  0.,  0.,  0.,  0.,  0.,  0.,  0.,  0.,  0.,\n",
        "        0.,  0.,  0.,  0.,  0.,  0.,  0.,  0.,  0.,  0.,  0.,  0.,  0.,\n",
        "        0.,  0.,  0.,  0.,  0.,  0.,  0.,  0.,  0.,  0.,  0.,  0.,  0.,\n",
        "        0.,  0.,  0.,  0.,  0.,  0.,  0.,  0.,  0.,  0.,  0.,  0.,  0.,\n",
        "        0.,  0.,  0.,  0.,  0.,  0.,  0.,  0.,  0.,  0.,  0.,  0.,  0.,\n",
        "        0.,  0.,  0.,  0.,  0.,  0.,  0.,  0.,  0.,  0.,  0.,  0.,  0.,\n",
        "        0.,  0.,  0.,  0.,  0.,  0.,  0.,  0.,  0.,  0.,  0.,  0.,  0.,\n",
        "        0.,  0.,  0.,  0.,  0.,  0.,  0.,  0.,  0.,  0.,  0.,  0.,  0.,\n",
        "        0.,  0.,  0.,  0.,  0.,  0.,  0.,  0.,  0.,  0.,  0.,  0.,  0.,\n",
        "        0.,  0.,  0.,  0.,  0.,  0.,  0.,  0.,  0.,  0.,  0.,  0.,  0.,\n",
        "        0.,  0.,  0.,  0.,  0.,  0.,  0.,  0.,  0.,  0.,  0.,  0.,  0.,\n",
        "        0.,  0.,  0.,  0.,  0.,  0.,  0.,  0.,  0.,  0.,  0.,  0.,  0.,\n",
        "        0.,  0.,  0.,  0.,  0.], dtype=float32)"
       ]
      }
     ],
     "prompt_number": 40
    },
    {
     "cell_type": "code",
     "collapsed": false,
     "input": [
      "taux_marginal =  ((impot_total[1:] + tehr[1:]) - (impot_total[:-1] + tehr[:-1])) / (salaire_de_base[1:] - salaire_de_base[:-1] ) \n",
      "taux_marginal"
     ],
     "language": "python",
     "metadata": {},
     "outputs": [
      {
       "metadata": {},
       "output_type": "pyout",
       "prompt_number": 41,
       "text": [
        "array([-0.16, -0.31, -0.39, -0.44, -0.45, -0.47, -0.48, -0.48, -0.48,\n",
        "       -0.48, -0.49, -0.49, -0.49, -0.49, -0.49, -0.49, -0.49, -0.49,\n",
        "       -0.49, -0.49, -0.49, -0.49, -0.49, -0.49, -0.49, -0.49, -0.49,\n",
        "       -0.49, -0.49, -0.49, -0.49, -0.49, -0.49, -0.49, -0.49, -0.49,\n",
        "       -0.49, -0.49, -0.49, -0.49, -0.49, -0.49, -0.49, -0.49, -0.49,\n",
        "       -0.49, -0.49, -0.49, -0.49, -0.49, -0.49, -0.49, -0.49, -0.49,\n",
        "       -0.49, -0.49, -0.49, -0.49, -0.49, -0.49, -0.49, -0.49, -0.49,\n",
        "       -0.49, -0.49, -0.49, -0.49, -0.49, -0.49, -0.49, -0.49, -0.49,\n",
        "       -0.49, -0.49, -0.49, -0.49, -0.49, -0.49, -0.49, -0.49, -0.49,\n",
        "       -0.49, -0.49, -0.49, -0.49, -0.49, -0.49, -0.49, -0.49, -0.49,\n",
        "       -0.49, -0.49, -0.49, -0.49, -0.49, -0.49, -0.49, -0.49, -0.49], dtype=float32)"
       ]
      }
     ],
     "prompt_number": 41
    },
    {
     "cell_type": "heading",
     "level": 3,
     "metadata": {},
     "source": [
      "II.2. Projet initial: Contribution Exceptionnelle de Solidarit\u00e9 sur les tr\u00e9s Hauts Revenus d'Activit\u00e9 (CESRA)"
     ]
    },
    {
     "cell_type": "code",
     "collapsed": false,
     "input": [
      "def couple_sans_enfant_cesthra(nombre_enfants = 0, year = 2015):\n",
      "    enfant = [dict(\n",
      "        birth = date(2005, 1, 1),\n",
      "        )]\n",
      "    enfants = enfant * nombre_enfants\n",
      "    simulation = tax_benefit_cesthra.new_scenario().init_single_entity(\n",
      "        axes = [\n",
      "            dict(\n",
      "                count = 100,\n",
      "                min = 0,\n",
      "                max = salaire_maximal * 3,\n",
      "                name = 'sal',\n",
      "                ),\n",
      "            ],\n",
      "        period = \"{}:3\".format(year-2),\n",
      "        parent1 = dict(\n",
      "            birth = date(1980, 1, 1),\n",
      "            statmarit = 1\n",
      "            ),\n",
      "        parent2 = dict(\n",
      "            birth = date(1980, 1, 1),\n",
      "            statmarit = 1\n",
      "            ),\n",
      "        menage = dict(\n",
      "            loyer = 1000 * 3,\n",
      "            so = 4,\n",
      "            ),\n",
      "        ).new_simulation(debug = True)\n",
      "    return simulation"
     ],
     "language": "python",
     "metadata": {},
     "outputs": [],
     "prompt_number": 24
    },
    {
     "cell_type": "code",
     "collapsed": false,
     "input": [
      "cesthra = couple_sans_enfant_cesthra().calculate('revdisp','2014')\n",
      "cesthra"
     ],
     "language": "python",
     "metadata": {},
     "outputs": [
      {
       "metadata": {},
       "output_type": "pyout",
       "prompt_number": 25,
       "text": [
        "array([ 8047.51,  8047.51,  8047.51,  8047.51,  8047.51,  8047.51,\n",
        "        8047.51,  8047.51,  8047.51,  8047.51,  8047.51,  8047.51,\n",
        "        8047.51,  8047.51,  8047.51,  8047.51,  8047.51,  8047.51,\n",
        "        8047.51,  8047.51,  8047.51,  8047.51,  8047.51,  8047.51,\n",
        "        8047.51,  8047.51,  8047.51,  8047.51,  8047.51,  8047.51,\n",
        "        8047.51,  8047.51,  8047.51,  8047.51,  8047.51,  8047.51,\n",
        "        8047.51,  8047.51,  8047.51,  8047.51,  8047.51,  8047.51,\n",
        "        8047.51,  8047.51,  8047.51,  8047.51,  8047.51,  8047.51,\n",
        "        8047.51,  8047.51,  8047.51,  8047.51,  8047.51,  8047.51,\n",
        "        8047.51,  8047.51,  8047.51,  8047.51,  8047.51,  8047.51,\n",
        "        8047.51,  8047.51,  8047.51,  8047.51,  8047.51,  8047.51,\n",
        "        8047.51,  8047.51,  8047.51,  8047.51,  8047.51,  8047.51,\n",
        "        8047.51,  8047.51,  8047.51,  8047.51,  8047.51,  8047.51,\n",
        "        8047.51,  8047.51,  8047.51,  8047.51,  8047.51,  8047.51,\n",
        "        8047.51,  8047.51,  8047.51,  8047.51,  8047.51,  8047.51,\n",
        "        8047.51,  8047.51,  8047.51,  8047.51,  8047.51,  8047.51,\n",
        "        8047.51,  8047.51,  8047.51,  8047.51], dtype=float32)"
       ]
      }
     ],
     "prompt_number": 25
    },
    {
     "cell_type": "code",
     "collapsed": false,
     "input": [
      "taux_marginal =  ((impot_total[1:] + tehr[1:]) - (impot_total[:-1] + tehr[:-1])) / (salaire_de_base[1:] - salaire_de_base[:-1] ) \n",
      "taux_marginal"
     ],
     "language": "python",
     "metadata": {},
     "outputs": [
      {
       "metadata": {},
       "output_type": "pyout",
       "prompt_number": 26,
       "text": [
        "array([-0.16, -0.31, -0.39, -0.44, -0.45, -0.47, -0.48, -0.48, -0.48,\n",
        "       -0.48, -0.49, -0.49, -0.49, -0.49, -0.49, -0.49, -0.49, -0.49,\n",
        "       -0.49, -0.49, -0.49, -0.49, -0.49, -0.49, -0.49, -0.49, -0.49,\n",
        "       -0.49, -0.49, -0.49, -0.49, -0.49, -0.49, -0.49, -0.49, -0.49,\n",
        "       -0.49, -0.49, -0.49, -0.49, -0.49, -0.49, -0.49, -0.49, -0.49,\n",
        "       -0.49, -0.49, -0.49, -0.49, -0.49, -0.49, -0.49, -0.49, -0.49,\n",
        "       -0.49, -0.49, -0.49, -0.49, -0.49, -0.49, -0.49, -0.49, -0.49,\n",
        "       -0.49, -0.49, -0.49, -0.49, -0.49, -0.49, -0.49, -0.49, -0.49,\n",
        "       -0.49, -0.49, -0.49, -0.49, -0.49, -0.49, -0.49, -0.49, -0.49,\n",
        "       -0.49, -0.49, -0.49, -0.49, -0.49, -0.49, -0.49, -0.49, -0.49,\n",
        "       -0.49, -0.49, -0.49, -0.49, -0.49, -0.49, -0.49, -0.49, -0.49], dtype=float32)"
       ]
      }
     ],
     "prompt_number": 26
    },
    {
     "cell_type": "code",
     "collapsed": false,
     "input": [
      "difference_revenu_disponible_2reformes = cesthra - tehr\n",
      "difference_revenu_disponible_2reformes"
     ],
     "language": "python",
     "metadata": {},
     "outputs": [
      {
       "metadata": {},
       "output_type": "pyout",
       "prompt_number": 27,
       "text": [
        "array([ 0.,  0.,  0.,  0.,  0.,  0.,  0.,  0.,  0.,  0.,  0.,  0.,  0.,\n",
        "        0.,  0.,  0.,  0.,  0.,  0.,  0.,  0.,  0.,  0.,  0.,  0.,  0.,\n",
        "        0.,  0.,  0.,  0.,  0.,  0.,  0.,  0.,  0.,  0.,  0.,  0.,  0.,\n",
        "        0.,  0.,  0.,  0.,  0.,  0.,  0.,  0.,  0.,  0.,  0.,  0.,  0.,\n",
        "        0.,  0.,  0.,  0.,  0.,  0.,  0.,  0.,  0.,  0.,  0.,  0.,  0.,\n",
        "        0.,  0.,  0.,  0.,  0.,  0.,  0.,  0.,  0.,  0.,  0.,  0.,  0.,\n",
        "        0.,  0.,  0.,  0.,  0.,  0.,  0.,  0.,  0.,  0.,  0.,  0.,  0.,\n",
        "        0.,  0.,  0.,  0.,  0.,  0.,  0.,  0.,  0.], dtype=float32)"
       ]
      }
     ],
     "prompt_number": 27
    },
    {
     "cell_type": "heading",
     "level": 3,
     "metadata": {},
     "source": [
      "II.3. Graphique Diff\u00e9rence revenu disponible (entre CESRA/TEHR) / revenu imposable"
     ]
    },
    {
     "cell_type": "code",
     "collapsed": false,
     "input": [
      "salaire_de_baseII = couple_sans_enfant_cesthra().calculate('salaire_de_base')\n",
      "print salaire_de_baseII\n",
      "\n",
      "salaire_de_baseII = salaire_de_baseII[::2]\n",
      "print salaire_de_baseII"
     ],
     "language": "python",
     "metadata": {},
     "outputs": [
      {
       "output_type": "stream",
       "stream": "stdout",
       "text": [
        "[ 0.  0.  0.  0.  0.  0.  0.  0.  0.  0.  0.  0.  0.  0.  0.  0.  0.  0.\n",
        "  0.  0.  0.  0.  0.  0.  0.  0.  0.  0.  0.  0.  0.  0.  0.  0.  0.  0.\n",
        "  0.  0.  0.  0.  0.  0.  0.  0.  0.  0.  0.  0.  0.  0.  0.  0.  0.  0.\n",
        "  0.  0.  0.  0.  0.  0.  0.  0.  0.  0.  0.  0.  0.  0.  0.  0.  0.  0.\n",
        "  0.  0.  0.  0.  0.  0.  0.  0.  0.  0.  0.  0.  0.  0.  0.  0.  0.  0.\n",
        "  0.  0.  0.  0.  0.  0.  0.  0.  0.  0.  0.  0.  0.  0.  0.  0.  0.  0.\n",
        "  0.  0.  0.  0.  0.  0.  0.  0.  0.  0.  0.  0.  0.  0.  0.  0.  0.  0.\n",
        "  0.  0.  0.  0.  0.  0.  0.  0.  0.  0.  0.  0.  0.  0.  0.  0.  0.  0.\n",
        "  0.  0.  0.  0.  0.  0.  0.  0.  0.  0.  0.  0.  0.  0.  0.  0.  0.  0.\n",
        "  0.  0.  0.  0.  0.  0.  0.  0.  0.  0.  0.  0.  0.  0.  0.  0.  0.  0.\n",
        "  0.  0.  0.  0.  0.  0.  0.  0.  0.  0.  0.  0.  0.  0.  0.  0.  0.  0.\n",
        "  0.  0.]\n",
        "[ 0.  0.  0.  0.  0.  0.  0.  0.  0.  0.  0.  0.  0.  0.  0.  0.  0.  0.\n",
        "  0.  0.  0.  0.  0.  0.  0.  0.  0.  0.  0.  0.  0.  0.  0.  0.  0.  0.\n",
        "  0.  0.  0.  0.  0.  0.  0.  0.  0.  0.  0.  0.  0.  0.  0.  0.  0.  0.\n",
        "  0.  0.  0.  0.  0.  0.  0.  0.  0.  0.  0.  0.  0.  0.  0.  0.  0.  0.\n",
        "  0.  0.  0.  0.  0.  0.  0.  0.  0.  0.  0.  0.  0.  0.  0.  0.  0.  0.\n",
        "  0.  0.  0.  0.  0.  0.  0.  0.  0.  0.]\n"
       ]
      }
     ],
     "prompt_number": 66
    },
    {
     "cell_type": "code",
     "collapsed": false,
     "input": [
      "fig = plt.figure()\n",
      "plt.plot(salaire_de_baseII, difference_revenu_disponible_2reformes, label = \"macourbe\")\n",
      "plt.legend(loc = 4, shadow=True, fancybox=True)\n",
      "plt.xlim([0,salaire_maximal])"
     ],
     "language": "python",
     "metadata": {},
     "outputs": [
      {
       "metadata": {},
       "output_type": "pyout",
       "prompt_number": 67,
       "text": [
        "(0, 5000000)"
       ]
      },
      {
       "metadata": {},
       "output_type": "display_data",
       "png": "[encoded data removed]",
       "text": [
        "<matplotlib.figure.Figure at 0x7ffe71c92250>"
       ]
      }
     ],
     "prompt_number": 67
    },
    {
     "cell_type": "code",
     "collapsed": false,
     "input": [],
     "language": "python",
     "metadata": {},
     "outputs": []
    },
    {
     "cell_type": "heading",
     "level": 2,
     "metadata": {},
     "source": [
      "III. Incitation \u00e0 se marrier sous chacune des deux r\u00e9formes"
     ]
    },
    {
     "cell_type": "heading",
     "level": 3,
     "metadata": {},
     "source": [
      "III.1. Projet initial: Contribution Exceptionnelle de Solidarit\u00e9 sur les tr\u00e9s Hauts Revenus d'Activit\u00e9 (CESRA)"
     ]
    },
    {
     "cell_type": "markdown",
     "metadata": {},
     "source": [
      "D\u00e9finir Couple non-mari\u00e9"
     ]
    },
    {
     "cell_type": "code",
     "collapsed": false,
     "input": [
      "def couple_celibataire_cesthra(nombre_enfants = 0, year = 2015):\n",
      "    enfant = [dict(\n",
      "        birth = date(2005, 1, 1),\n",
      "        )]\n",
      "    enfants = enfant * nombre_enfants\n",
      "    simulation = tax_benefit_cesthra.new_scenario().init_single_entity(\n",
      "        axes = [\n",
      "            dict(\n",
      "                count = 100,\n",
      "                min = 0,\n",
      "                max = salaire_maximal * 3,\n",
      "                name = 'sal',\n",
      "                ),\n",
      "            ],\n",
      "        period = \"{}:3\".format(year-2),\n",
      "        parent1 = dict(\n",
      "            birth = date(1980, 1, 1),\n",
      "            statmarit = 2\n",
      "            ),\n",
      "        parent2 = dict(\n",
      "            birth = date(1980, 1, 1),\n",
      "            sal = 0,\n",
      "            statmarit = 2\n",
      "            ),\n",
      "        menage = dict(\n",
      "            loyer = 1000 * 3,\n",
      "            so = 4,\n",
      "            ),\n",
      "        ).new_simulation(debug = True)\n",
      "    return simulation"
     ],
     "language": "python",
     "metadata": {},
     "outputs": [],
     "prompt_number": 60
    },
    {
     "cell_type": "markdown",
     "metadata": {},
     "source": [
      "D\u00e9terminer revenu disponible"
     ]
    },
    {
     "cell_type": "code",
     "collapsed": false,
     "input": [
      "cesthra_celibataires = couple_celibataire_cesthra().calculate('revdisp','2014')\n",
      "cesthra_celibataires"
     ],
     "language": "python",
     "metadata": {},
     "outputs": [
      {
       "metadata": {},
       "output_type": "pyout",
       "prompt_number": 61,
       "text": [
        "array([ 8047.51,  8047.51,  8047.51,  8047.51,  8047.51,  8047.51,\n",
        "        8047.51,  8047.51,  8047.51,  8047.51,  8047.51,  8047.51,\n",
        "        8047.51,  8047.51,  8047.51,  8047.51,  8047.51,  8047.51,\n",
        "        8047.51,  8047.51,  8047.51,  8047.51,  8047.51,  8047.51,\n",
        "        8047.51,  8047.51,  8047.51,  8047.51,  8047.51,  8047.51,\n",
        "        8047.51,  8047.51,  8047.51,  8047.51,  8047.51,  8047.51,\n",
        "        8047.51,  8047.51,  8047.51,  8047.51,  8047.51,  8047.51,\n",
        "        8047.51,  8047.51,  8047.51,  8047.51,  8047.51,  8047.51,\n",
        "        8047.51,  8047.51,  8047.51,  8047.51,  8047.51,  8047.51,\n",
        "        8047.51,  8047.51,  8047.51,  8047.51,  8047.51,  8047.51,\n",
        "        8047.51,  8047.51,  8047.51,  8047.51,  8047.51,  8047.51,\n",
        "        8047.51,  8047.51,  8047.51,  8047.51,  8047.51,  8047.51,\n",
        "        8047.51,  8047.51,  8047.51,  8047.51,  8047.51,  8047.51,\n",
        "        8047.51,  8047.51,  8047.51,  8047.51,  8047.51,  8047.51,\n",
        "        8047.51,  8047.51,  8047.51,  8047.51,  8047.51,  8047.51,\n",
        "        8047.51,  8047.51,  8047.51,  8047.51,  8047.51,  8047.51,\n",
        "        8047.51,  8047.51,  8047.51,  8047.51], dtype=float32)"
       ]
      }
     ],
     "prompt_number": 61
    },
    {
     "cell_type": "code",
     "collapsed": false,
     "input": [
      "salaire_de_baseIII1A = couple_celibataire_cesthra().calculate('salaire_de_base')\n",
      "print salaire_de_baseIII1A\n",
      "\n",
      "salaire_de_baseIII1A = salaire_de_baseIII1A[::2]\n",
      "print salaire_de_baseIII1A"
     ],
     "language": "python",
     "metadata": {},
     "outputs": [
      {
       "output_type": "stream",
       "stream": "stdout",
       "text": [
        "[ 0.  0.  0.  0.  0.  0.  0.  0.  0.  0.  0.  0.  0.  0.  0.  0.  0.  0.\n",
        "  0.  0.  0.  0.  0.  0.  0.  0.  0.  0.  0.  0.  0.  0.  0.  0.  0.  0.\n",
        "  0.  0.  0.  0.  0.  0.  0.  0.  0.  0.  0.  0.  0.  0.  0.  0.  0.  0.\n",
        "  0.  0.  0.  0.  0.  0.  0.  0.  0.  0.  0.  0.  0.  0.  0.  0.  0.  0.\n",
        "  0.  0.  0.  0.  0.  0.  0.  0.  0.  0.  0.  0.  0.  0.  0.  0.  0.  0.\n",
        "  0.  0.  0.  0.  0.  0.  0.  0.  0.  0.  0.  0.  0.  0.  0.  0.  0.  0.\n",
        "  0.  0.  0.  0.  0.  0.  0.  0.  0.  0.  0.  0.  0.  0.  0.  0.  0.  0.\n",
        "  0.  0.  0.  0.  0.  0.  0.  0.  0.  0.  0.  0.  0.  0.  0.  0.  0.  0.\n",
        "  0.  0.  0.  0.  0.  0.  0.  0.  0.  0.  0.  0.  0.  0.  0.  0.  0.  0.\n",
        "  0.  0.  0.  0.  0.  0.  0.  0.  0.  0.  0.  0.  0.  0.  0.  0.  0.  0.\n",
        "  0.  0.  0.  0.  0.  0.  0.  0.  0.  0.  0.  0.  0.  0.  0.  0.  0.  0.\n",
        "  0.  0.]\n",
        "[ 0.  0.  0.  0.  0.  0.  0.  0.  0.  0.  0.  0.  0.  0.  0.  0.  0.  0.\n",
        "  0.  0.  0.  0.  0.  0.  0.  0.  0.  0.  0.  0.  0.  0.  0.  0.  0.  0.\n",
        "  0.  0.  0.  0.  0.  0.  0.  0.  0.  0.  0.  0.  0.  0.  0.  0.  0.  0.\n",
        "  0.  0.  0.  0.  0.  0.  0.  0.  0.  0.  0.  0.  0.  0.  0.  0.  0.  0.\n",
        "  0.  0.  0.  0.  0.  0.  0.  0.  0.  0.  0.  0.  0.  0.  0.  0.  0.  0.\n",
        "  0.  0.  0.  0.  0.  0.  0.  0.  0.  0.]\n"
       ]
      }
     ],
     "prompt_number": 74
    },
    {
     "cell_type": "markdown",
     "metadata": {},
     "source": [
      "Graphique revenu Revenu disponible / revenu imposable"
     ]
    },
    {
     "cell_type": "code",
     "collapsed": false,
     "input": [
      "fig = plt.figure()\n",
      "plt.plot(salaire_de_baseIII1A, cesthra_celibataires, label = \"macourbe\")\n",
      "plt.legend(loc = 4, shadow=True, fancybox=True)\n",
      "plt.xlim([0,salaire_maximal])"
     ],
     "language": "python",
     "metadata": {},
     "outputs": [
      {
       "metadata": {},
       "output_type": "pyout",
       "prompt_number": 75,
       "text": [
        "(0, 5000000)"
       ]
      },
      {
       "metadata": {},
       "output_type": "display_data",
       "png": "[encoded data removed]",
       "text": [
        "<matplotlib.figure.Figure at 0x7ffe7080dd10>"
       ]
      }
     ],
     "prompt_number": 75
    },
    {
     "cell_type": "markdown",
     "metadata": {},
     "source": [
      "D\u00e9finir Couple mari\u00e9"
     ]
    },
    {
     "cell_type": "code",
     "collapsed": false,
     "input": [
      "def couple_marie_cesthra(nombre_enfants = 0, year = 2015):\n",
      "    enfant = [dict(\n",
      "        birth = date(2005, 1, 1),\n",
      "        )]\n",
      "    enfants = enfant * nombre_enfants\n",
      "    simulation = tax_benefit_cesthra.new_scenario().init_single_entity(\n",
      "        axes = [\n",
      "            dict(\n",
      "                count = 100,\n",
      "                min = 0,\n",
      "                max = salaire_maximal * 3,\n",
      "                name = 'sal',\n",
      "                ),\n",
      "            ],\n",
      "        period = \"{}:3\".format(year-2),\n",
      "        parent1 = dict(\n",
      "            birth = date(1980, 1, 1),\n",
      "            statmarit = 1\n",
      "            ),\n",
      "        parent2 = dict(\n",
      "            birth = date(1980, 1, 1),\n",
      "            sal = 0,\n",
      "            statmarit = 1\n",
      "            ),\n",
      "        menage = dict(\n",
      "            loyer = 1000 * 3,\n",
      "            so = 4,\n",
      "            ),\n",
      "        ).new_simulation(debug = True)\n",
      "    return simulation"
     ],
     "language": "python",
     "metadata": {},
     "outputs": [],
     "prompt_number": 76
    },
    {
     "cell_type": "markdown",
     "metadata": {},
     "source": [
      "D\u00e9terminer revenu disponible"
     ]
    },
    {
     "cell_type": "code",
     "collapsed": false,
     "input": [
      "cesthra_maries = couple_marie_cesthra().calculate('revdisp','2014')\n",
      "cesthra_maries"
     ],
     "language": "python",
     "metadata": {},
     "outputs": [
      {
       "metadata": {},
       "output_type": "pyout",
       "prompt_number": 77,
       "text": [
        "array([ 8047.51,  8047.51,  8047.51,  8047.51,  8047.51,  8047.51,\n",
        "        8047.51,  8047.51,  8047.51,  8047.51,  8047.51,  8047.51,\n",
        "        8047.51,  8047.51,  8047.51,  8047.51,  8047.51,  8047.51,\n",
        "        8047.51,  8047.51,  8047.51,  8047.51,  8047.51,  8047.51,\n",
        "        8047.51,  8047.51,  8047.51,  8047.51,  8047.51,  8047.51,\n",
        "        8047.51,  8047.51,  8047.51,  8047.51,  8047.51,  8047.51,\n",
        "        8047.51,  8047.51,  8047.51,  8047.51,  8047.51,  8047.51,\n",
        "        8047.51,  8047.51,  8047.51,  8047.51,  8047.51,  8047.51,\n",
        "        8047.51,  8047.51,  8047.51,  8047.51,  8047.51,  8047.51,\n",
        "        8047.51,  8047.51,  8047.51,  8047.51,  8047.51,  8047.51,\n",
        "        8047.51,  8047.51,  8047.51,  8047.51,  8047.51,  8047.51,\n",
        "        8047.51,  8047.51,  8047.51,  8047.51,  8047.51,  8047.51,\n",
        "        8047.51,  8047.51,  8047.51,  8047.51,  8047.51,  8047.51,\n",
        "        8047.51,  8047.51,  8047.51,  8047.51,  8047.51,  8047.51,\n",
        "        8047.51,  8047.51,  8047.51,  8047.51,  8047.51,  8047.51,\n",
        "        8047.51,  8047.51,  8047.51,  8047.51,  8047.51,  8047.51,\n",
        "        8047.51,  8047.51,  8047.51,  8047.51], dtype=float32)"
       ]
      }
     ],
     "prompt_number": 77
    },
    {
     "cell_type": "code",
     "collapsed": false,
     "input": [
      "salaire_de_baseIII1B = couple_celibataire_cesthra().calculate('salaire_de_base')\n",
      "print salaire_de_baseIII1B\n",
      "\n",
      "salaire_de_baseIII1B = salaire_de_baseIII1B[::2]\n",
      "print salaire_de_baseIII1B"
     ],
     "language": "python",
     "metadata": {},
     "outputs": [
      {
       "output_type": "stream",
       "stream": "stdout",
       "text": [
        "[ 0.  0.  0.  0.  0.  0.  0.  0.  0.  0.  0.  0.  0.  0.  0.  0.  0.  0.\n",
        "  0.  0.  0.  0.  0.  0.  0.  0.  0.  0.  0.  0.  0.  0.  0.  0.  0.  0.\n",
        "  0.  0.  0.  0.  0.  0.  0.  0.  0.  0.  0.  0.  0.  0.  0.  0.  0.  0.\n",
        "  0.  0.  0.  0.  0.  0.  0.  0.  0.  0.  0.  0.  0.  0.  0.  0.  0.  0.\n",
        "  0.  0.  0.  0.  0.  0.  0.  0.  0.  0.  0.  0.  0.  0.  0.  0.  0.  0.\n",
        "  0.  0.  0.  0.  0.  0.  0.  0.  0.  0.  0.  0.  0.  0.  0.  0.  0.  0.\n",
        "  0.  0.  0.  0.  0.  0.  0.  0.  0.  0.  0.  0.  0.  0.  0.  0.  0.  0.\n",
        "  0.  0.  0.  0.  0.  0.  0.  0.  0.  0.  0.  0.  0.  0.  0.  0.  0.  0.\n",
        "  0.  0.  0.  0.  0.  0.  0.  0.  0.  0.  0.  0.  0.  0.  0.  0.  0.  0.\n",
        "  0.  0.  0.  0.  0.  0.  0.  0.  0.  0.  0.  0.  0.  0.  0.  0.  0.  0.\n",
        "  0.  0.  0.  0.  0.  0.  0.  0.  0.  0.  0.  0.  0.  0.  0.  0.  0.  0.\n",
        "  0.  0.]\n",
        "[ 0.  0.  0.  0.  0.  0.  0.  0.  0.  0.  0.  0.  0.  0.  0.  0.  0.  0.\n",
        "  0.  0.  0.  0.  0.  0.  0.  0.  0.  0.  0.  0.  0.  0.  0.  0.  0.  0.\n",
        "  0.  0.  0.  0.  0.  0.  0.  0.  0.  0.  0.  0.  0.  0.  0.  0.  0.  0.\n",
        "  0.  0.  0.  0.  0.  0.  0.  0.  0.  0.  0.  0.  0.  0.  0.  0.  0.  0.\n",
        "  0.  0.  0.  0.  0.  0.  0.  0.  0.  0.  0.  0.  0.  0.  0.  0.  0.  0.\n",
        "  0.  0.  0.  0.  0.  0.  0.  0.  0.  0.]\n"
       ]
      }
     ],
     "prompt_number": 78
    },
    {
     "cell_type": "markdown",
     "metadata": {},
     "source": [
      "Graphique revenu disponible / revenu imposable"
     ]
    },
    {
     "cell_type": "code",
     "collapsed": false,
     "input": [
      "fig = plt.figure()\n",
      "plt.plot(salaire_de_baseIII1B, cesthra_maries, label = \"macourbe\")\n",
      "plt.legend(loc = 4, shadow=True, fancybox=True)\n",
      "plt.xlim([0,salaire_maximal])"
     ],
     "language": "python",
     "metadata": {},
     "outputs": [
      {
       "metadata": {},
       "output_type": "pyout",
       "prompt_number": 79,
       "text": [
        "(0, 5000000)"
       ]
      },
      {
       "metadata": {},
       "output_type": "display_data",
       "png": "[encoded data removed]",
       "text": [
        "<matplotlib.figure.Figure at 0x7ffe707585d0>"
       ]
      }
     ],
     "prompt_number": 79
    },
    {
     "cell_type": "heading",
     "level": 6,
     "metadata": {},
     "source": [
      "Graphique diff\u00e9rence entre le revenu disponible du couple non-mari\u00e9 et celui du couple mari\u00e9 / revenu imposable"
     ]
    },
    {
     "cell_type": "markdown",
     "metadata": {},
     "source": [
      "Definir A = diff\u00e9rence entre le revenu disponible du couple non-mari\u00e9 et celui du couple mari\u00e9"
     ]
    },
    {
     "cell_type": "code",
     "collapsed": false,
     "input": [
      "incitation_marriage_cesthra = cesthra_maries - cesthra_celibataires\n",
      "incitation_marriage_cesthra"
     ],
     "language": "python",
     "metadata": {},
     "outputs": [
      {
       "metadata": {},
       "output_type": "pyout",
       "prompt_number": 80,
       "text": [
        "array([ 0.,  0.,  0.,  0.,  0.,  0.,  0.,  0.,  0.,  0.,  0.,  0.,  0.,\n",
        "        0.,  0.,  0.,  0.,  0.,  0.,  0.,  0.,  0.,  0.,  0.,  0.,  0.,\n",
        "        0.,  0.,  0.,  0.,  0.,  0.,  0.,  0.,  0.,  0.,  0.,  0.,  0.,\n",
        "        0.,  0.,  0.,  0.,  0.,  0.,  0.,  0.,  0.,  0.,  0.,  0.,  0.,\n",
        "        0.,  0.,  0.,  0.,  0.,  0.,  0.,  0.,  0.,  0.,  0.,  0.,  0.,\n",
        "        0.,  0.,  0.,  0.,  0.,  0.,  0.,  0.,  0.,  0.,  0.,  0.,  0.,\n",
        "        0.,  0.,  0.,  0.,  0.,  0.,  0.,  0.,  0.,  0.,  0.,  0.,  0.,\n",
        "        0.,  0.,  0.,  0.,  0.,  0.,  0.,  0.,  0.], dtype=float32)"
       ]
      }
     ],
     "prompt_number": 80
    },
    {
     "cell_type": "code",
     "collapsed": false,
     "input": [
      "fig = plt.figure()\n",
      "plt.plot(salaire_de_baseIII1B, incitation_marriage_cesthra, label = \"macourbe\")\n",
      "plt.legend(loc = 4, shadow=True, fancybox=True)\n",
      "plt.xlim([0,salaire_maximal])"
     ],
     "language": "python",
     "metadata": {},
     "outputs": [
      {
       "metadata": {},
       "output_type": "pyout",
       "prompt_number": 81,
       "text": [
        "(0, 5000000)"
       ]
      },
      {
       "metadata": {},
       "output_type": "display_data",
       "png": "[encoded data removed]",
       "text": [
        "<matplotlib.figure.Figure at 0x7ffe72d5fa90>"
       ]
      }
     ],
     "prompt_number": 81
    },
    {
     "cell_type": "heading",
     "level": 3,
     "metadata": {},
     "source": [
      "III.2. Nouveau projet: Taxe Exceptionelle de Solidarit\u00e9 sur les Hautes R\u00e9mun\u00e9rations (TEHR)"
     ]
    },
    {
     "cell_type": "code",
     "collapsed": false,
     "input": [
      "D\u00e9finir Couple non-mari\u00e9"
     ],
     "language": "python",
     "metadata": {},
     "outputs": []
    },
    {
     "cell_type": "code",
     "collapsed": false,
     "input": [
      "def couple_celibataire_tehr(nombre_enfants = 0, year = 2015):\n",
      "    enfant = [dict(\n",
      "        birth = date(2005, 1, 1),\n",
      "        )]\n",
      "    enfants = enfant * nombre_enfants\n",
      "    simulation = tax_benefit_system.new_scenario().init_single_entity(\n",
      "        axes = [\n",
      "            dict(\n",
      "                count = 100,\n",
      "                min = 0,\n",
      "                max = salaire_maximal * 3,\n",
      "                name = 'sal',\n",
      "                ),\n",
      "            ],\n",
      "        period = \"{}:3\".format(year-2),\n",
      "        parent1 = dict(\n",
      "            birth = date(1980, 1, 1),\n",
      "            statmarit = 2\n",
      "            ),\n",
      "        parent2 = dict(\n",
      "            birth = date(1980, 1, 1),\n",
      "            sal = 0,\n",
      "            statmarit = 2\n",
      "            ),\n",
      "        menage = dict(\n",
      "            loyer = 1000 * 3,\n",
      "            so = 4,\n",
      "            ),\n",
      "        ).new_simulation(debug = True)\n",
      "    return simulation"
     ],
     "language": "python",
     "metadata": {},
     "outputs": [],
     "prompt_number": 85
    },
    {
     "cell_type": "markdown",
     "metadata": {},
     "source": [
      "D\u00e9terminer revenu disponible"
     ]
    },
    {
     "cell_type": "code",
     "collapsed": false,
     "input": [
      "tehr_celibataires = couple_celibataire_cesthra().calculate('revdisp','2014')\n",
      "tehr_celibataires"
     ],
     "language": "python",
     "metadata": {},
     "outputs": [
      {
       "metadata": {},
       "output_type": "pyout",
       "prompt_number": 86,
       "text": [
        "array([ 8047.51,  8047.51,  8047.51,  8047.51,  8047.51,  8047.51,\n",
        "        8047.51,  8047.51,  8047.51,  8047.51,  8047.51,  8047.51,\n",
        "        8047.51,  8047.51,  8047.51,  8047.51,  8047.51,  8047.51,\n",
        "        8047.51,  8047.51,  8047.51,  8047.51,  8047.51,  8047.51,\n",
        "        8047.51,  8047.51,  8047.51,  8047.51,  8047.51,  8047.51,\n",
        "        8047.51,  8047.51,  8047.51,  8047.51,  8047.51,  8047.51,\n",
        "        8047.51,  8047.51,  8047.51,  8047.51,  8047.51,  8047.51,\n",
        "        8047.51,  8047.51,  8047.51,  8047.51,  8047.51,  8047.51,\n",
        "        8047.51,  8047.51,  8047.51,  8047.51,  8047.51,  8047.51,\n",
        "        8047.51,  8047.51,  8047.51,  8047.51,  8047.51,  8047.51,\n",
        "        8047.51,  8047.51,  8047.51,  8047.51,  8047.51,  8047.51,\n",
        "        8047.51,  8047.51,  8047.51,  8047.51,  8047.51,  8047.51,\n",
        "        8047.51,  8047.51,  8047.51,  8047.51,  8047.51,  8047.51,\n",
        "        8047.51,  8047.51,  8047.51,  8047.51,  8047.51,  8047.51,\n",
        "        8047.51,  8047.51,  8047.51,  8047.51,  8047.51,  8047.51,\n",
        "        8047.51,  8047.51,  8047.51,  8047.51,  8047.51,  8047.51,\n",
        "        8047.51,  8047.51,  8047.51,  8047.51], dtype=float32)"
       ]
      }
     ],
     "prompt_number": 86
    },
    {
     "cell_type": "code",
     "collapsed": false,
     "input": [
      "salaire_de_baseIII2A = couple_celibataire_cesthra().calculate('salaire_de_base')\n",
      "print salaire_de_baseIII2A\n",
      "\n",
      "salaire_de_baseIII2A = salaire_de_baseIII2A[::2]\n",
      "print salaire_de_baseIII2A"
     ],
     "language": "python",
     "metadata": {},
     "outputs": [
      {
       "output_type": "stream",
       "stream": "stdout",
       "text": [
        "[ 0.  0.  0.  0.  0.  0.  0.  0.  0.  0.  0.  0.  0.  0.  0.  0.  0.  0.\n",
        "  0.  0.  0.  0.  0.  0.  0.  0.  0.  0.  0.  0.  0.  0.  0.  0.  0.  0.\n",
        "  0.  0.  0.  0.  0.  0.  0.  0.  0.  0.  0.  0.  0.  0.  0.  0.  0.  0.\n",
        "  0.  0.  0.  0.  0.  0.  0.  0.  0.  0.  0.  0.  0.  0.  0.  0.  0.  0.\n",
        "  0.  0.  0.  0.  0.  0.  0.  0.  0.  0.  0.  0.  0.  0.  0.  0.  0.  0.\n",
        "  0.  0.  0.  0.  0.  0.  0.  0.  0.  0.  0.  0.  0.  0.  0.  0.  0.  0.\n",
        "  0.  0.  0.  0.  0.  0.  0.  0.  0.  0.  0.  0.  0.  0.  0.  0.  0.  0.\n",
        "  0.  0.  0.  0.  0.  0.  0.  0.  0.  0.  0.  0.  0.  0.  0.  0.  0.  0.\n",
        "  0.  0.  0.  0.  0.  0.  0.  0.  0.  0.  0.  0.  0.  0.  0.  0.  0.  0.\n",
        "  0.  0.  0.  0.  0.  0.  0.  0.  0.  0.  0.  0.  0.  0.  0.  0.  0.  0.\n",
        "  0.  0.  0.  0.  0.  0.  0.  0.  0.  0.  0.  0.  0.  0.  0.  0.  0.  0.\n",
        "  0.  0.]\n",
        "[ 0.  0.  0.  0.  0.  0.  0.  0.  0.  0.  0.  0.  0.  0.  0.  0.  0.  0.\n",
        "  0.  0.  0.  0.  0.  0.  0.  0.  0.  0.  0.  0.  0.  0.  0.  0.  0.  0.\n",
        "  0.  0.  0.  0.  0.  0.  0.  0.  0.  0.  0.  0.  0.  0.  0.  0.  0.  0.\n",
        "  0.  0.  0.  0.  0.  0.  0.  0.  0.  0.  0.  0.  0.  0.  0.  0.  0.  0.\n",
        "  0.  0.  0.  0.  0.  0.  0.  0.  0.  0.  0.  0.  0.  0.  0.  0.  0.  0.\n",
        "  0.  0.  0.  0.  0.  0.  0.  0.  0.  0.]\n"
       ]
      }
     ],
     "prompt_number": 87
    },
    {
     "cell_type": "markdown",
     "metadata": {},
     "source": [
      "Graphique Revenu disponible / revenu imposable"
     ]
    },
    {
     "cell_type": "code",
     "collapsed": false,
     "input": [
      "fig = plt.figure()\n",
      "plt.plot(salaire_de_baseIII2A, tehr_celibataires, label = \"macourbe\")\n",
      "plt.legend(loc = 4, shadow=True, fancybox=True)\n",
      "plt.xlim([0,salaire_maximal])"
     ],
     "language": "python",
     "metadata": {},
     "outputs": [
      {
       "metadata": {},
       "output_type": "pyout",
       "prompt_number": 88,
       "text": [
        "(0, 5000000)"
       ]
      },
      {
       "metadata": {},
       "output_type": "display_data",
       "png": "[encoded data removed]",
       "text": [
        "<matplotlib.figure.Figure at 0x7ffe709f1810>"
       ]
      }
     ],
     "prompt_number": 88
    },
    {
     "cell_type": "markdown",
     "metadata": {},
     "source": [
      "D\u00e9finir Couple mari\u00e9"
     ]
    },
    {
     "cell_type": "code",
     "collapsed": false,
     "input": [
      "def couple_marie_tehr(nombre_enfants = 0, year = 2015):\n",
      "    enfant = [dict(\n",
      "        birth = date(2005, 1, 1),\n",
      "        )]\n",
      "    enfants = enfant * nombre_enfants\n",
      "    simulation = tax_benefit_system.new_scenario().init_single_entity(\n",
      "        axes = [\n",
      "            dict(\n",
      "                count = 100,\n",
      "                min = 0,\n",
      "                max = salaire_maximal * 3,\n",
      "                name = 'sal',\n",
      "                ),\n",
      "            ],\n",
      "        period = \"{}:3\".format(year-2),\n",
      "        parent1 = dict(\n",
      "            birth = date(1980, 1, 1),\n",
      "            statmarit = 1\n",
      "            ),\n",
      "        parent2 = dict(\n",
      "            birth = date(1980, 1, 1),\n",
      "            sal = 0,\n",
      "            statmarit = 1\n",
      "            ),\n",
      "        menage = dict(\n",
      "            loyer = 1000 * 3,\n",
      "            so = 4,\n",
      "            ),\n",
      "        ).new_simulation(debug = True)\n",
      "    return simulation"
     ],
     "language": "python",
     "metadata": {},
     "outputs": [],
     "prompt_number": 89
    },
    {
     "cell_type": "markdown",
     "metadata": {},
     "source": [
      "D\u00e9terminer revenu disponible"
     ]
    },
    {
     "cell_type": "code",
     "collapsed": false,
     "input": [
      "tehr_maries = couple_marie_cesthra().calculate('revdisp','2014')\n",
      "tehr_maries"
     ],
     "language": "python",
     "metadata": {},
     "outputs": [
      {
       "metadata": {},
       "output_type": "pyout",
       "prompt_number": 90,
       "text": [
        "array([ 8047.51,  8047.51,  8047.51,  8047.51,  8047.51,  8047.51,\n",
        "        8047.51,  8047.51,  8047.51,  8047.51,  8047.51,  8047.51,\n",
        "        8047.51,  8047.51,  8047.51,  8047.51,  8047.51,  8047.51,\n",
        "        8047.51,  8047.51,  8047.51,  8047.51,  8047.51,  8047.51,\n",
        "        8047.51,  8047.51,  8047.51,  8047.51,  8047.51,  8047.51,\n",
        "        8047.51,  8047.51,  8047.51,  8047.51,  8047.51,  8047.51,\n",
        "        8047.51,  8047.51,  8047.51,  8047.51,  8047.51,  8047.51,\n",
        "        8047.51,  8047.51,  8047.51,  8047.51,  8047.51,  8047.51,\n",
        "        8047.51,  8047.51,  8047.51,  8047.51,  8047.51,  8047.51,\n",
        "        8047.51,  8047.51,  8047.51,  8047.51,  8047.51,  8047.51,\n",
        "        8047.51,  8047.51,  8047.51,  8047.51,  8047.51,  8047.51,\n",
        "        8047.51,  8047.51,  8047.51,  8047.51,  8047.51,  8047.51,\n",
        "        8047.51,  8047.51,  8047.51,  8047.51,  8047.51,  8047.51,\n",
        "        8047.51,  8047.51,  8047.51,  8047.51,  8047.51,  8047.51,\n",
        "        8047.51,  8047.51,  8047.51,  8047.51,  8047.51,  8047.51,\n",
        "        8047.51,  8047.51,  8047.51,  8047.51,  8047.51,  8047.51,\n",
        "        8047.51,  8047.51,  8047.51,  8047.51], dtype=float32)"
       ]
      }
     ],
     "prompt_number": 90
    },
    {
     "cell_type": "code",
     "collapsed": false,
     "input": [
      "salaire_de_baseIII2B = couple_celibataire_cesthra().calculate('salaire_de_base')\n",
      "print salaire_de_baseIII2B\n",
      "\n",
      "salaire_de_baseIII2B = salaire_de_baseIII2B[::2]\n",
      "print salaire_de_baseIII2B"
     ],
     "language": "python",
     "metadata": {},
     "outputs": [
      {
       "output_type": "stream",
       "stream": "stdout",
       "text": [
        "[ 0.  0.  0.  0.  0.  0.  0.  0.  0.  0.  0.  0.  0.  0.  0.  0.  0.  0.\n",
        "  0.  0.  0.  0.  0.  0.  0.  0.  0.  0.  0.  0.  0.  0.  0.  0.  0.  0.\n",
        "  0.  0.  0.  0.  0.  0.  0.  0.  0.  0.  0.  0.  0.  0.  0.  0.  0.  0.\n",
        "  0.  0.  0.  0.  0.  0.  0.  0.  0.  0.  0.  0.  0.  0.  0.  0.  0.  0.\n",
        "  0.  0.  0.  0.  0.  0.  0.  0.  0.  0.  0.  0.  0.  0.  0.  0.  0.  0.\n",
        "  0.  0.  0.  0.  0.  0.  0.  0.  0.  0.  0.  0.  0.  0.  0.  0.  0.  0.\n",
        "  0.  0.  0.  0.  0.  0.  0.  0.  0.  0.  0.  0.  0.  0.  0.  0.  0.  0.\n",
        "  0.  0.  0.  0.  0.  0.  0.  0.  0.  0.  0.  0.  0.  0.  0.  0.  0.  0.\n",
        "  0.  0.  0.  0.  0.  0.  0.  0.  0.  0.  0.  0.  0.  0.  0.  0.  0.  0.\n",
        "  0.  0.  0.  0.  0.  0.  0.  0.  0.  0.  0.  0.  0.  0.  0.  0.  0.  0.\n",
        "  0.  0.  0.  0.  0.  0.  0.  0.  0.  0.  0.  0.  0.  0.  0.  0.  0.  0.\n",
        "  0.  0.]\n",
        "[ 0.  0.  0.  0.  0.  0.  0.  0.  0.  0.  0.  0.  0.  0.  0.  0.  0.  0.\n",
        "  0.  0.  0.  0.  0.  0.  0.  0.  0.  0.  0.  0.  0.  0.  0.  0.  0.  0.\n",
        "  0.  0.  0.  0.  0.  0.  0.  0.  0.  0.  0.  0.  0.  0.  0.  0.  0.  0.\n",
        "  0.  0.  0.  0.  0.  0.  0.  0.  0.  0.  0.  0.  0.  0.  0.  0.  0.  0.\n",
        "  0.  0.  0.  0.  0.  0.  0.  0.  0.  0.  0.  0.  0.  0.  0.  0.  0.  0.\n",
        "  0.  0.  0.  0.  0.  0.  0.  0.  0.  0.]\n"
       ]
      }
     ],
     "prompt_number": 92
    },
    {
     "cell_type": "markdown",
     "metadata": {},
     "source": [
      "Graphique revenu disponible / revenu imposable"
     ]
    },
    {
     "cell_type": "code",
     "collapsed": false,
     "input": [
      "fig = plt.figure()\n",
      "plt.plot(salaire_de_baseIII2B, tehr_maries, label = \"macourbe\")\n",
      "plt.legend(loc = 4, shadow=True, fancybox=True)\n",
      "plt.xlim([0,salaire_maximal])"
     ],
     "language": "python",
     "metadata": {},
     "outputs": [
      {
       "metadata": {},
       "output_type": "pyout",
       "prompt_number": 93,
       "text": [
        "(0, 5000000)"
       ]
      },
      {
       "metadata": {},
       "output_type": "display_data",
       "png": "[encoded data removed]",
       "text": [
        "<matplotlib.figure.Figure at 0x7ffe7281acd0>"
       ]
      }
     ],
     "prompt_number": 93
    },
    {
     "cell_type": "heading",
     "level": 6,
     "metadata": {},
     "source": [
      "Graphique diff\u00e9rence entre le revenu disponible du couple non-mari\u00e9 et celui du couple mari\u00e9 / revenu imposable"
     ]
    },
    {
     "cell_type": "code",
     "collapsed": false,
     "input": [
      "Definir B = diff\u00e9rence entre le revenu disponible du couple non-mari\u00e9 et celui du couple mari\u00e9"
     ],
     "language": "python",
     "metadata": {},
     "outputs": []
    },
    {
     "cell_type": "code",
     "collapsed": false,
     "input": [
      "incitation_marriage_tehr = tehr_maries - tehr_celibataires\n",
      "incitation_marriage_tehr"
     ],
     "language": "python",
     "metadata": {},
     "outputs": [
      {
       "metadata": {},
       "output_type": "pyout",
       "prompt_number": 95,
       "text": [
        "array([ 0.,  0.,  0.,  0.,  0.,  0.,  0.,  0.,  0.,  0.,  0.,  0.,  0.,\n",
        "        0.,  0.,  0.,  0.,  0.,  0.,  0.,  0.,  0.,  0.,  0.,  0.,  0.,\n",
        "        0.,  0.,  0.,  0.,  0.,  0.,  0.,  0.,  0.,  0.,  0.,  0.,  0.,\n",
        "        0.,  0.,  0.,  0.,  0.,  0.,  0.,  0.,  0.,  0.,  0.,  0.,  0.,\n",
        "        0.,  0.,  0.,  0.,  0.,  0.,  0.,  0.,  0.,  0.,  0.,  0.,  0.,\n",
        "        0.,  0.,  0.,  0.,  0.,  0.,  0.,  0.,  0.,  0.,  0.,  0.,  0.,\n",
        "        0.,  0.,  0.,  0.,  0.,  0.,  0.,  0.,  0.,  0.,  0.,  0.,  0.,\n",
        "        0.,  0.,  0.,  0.,  0.,  0.,  0.,  0.,  0.], dtype=float32)"
       ]
      }
     ],
     "prompt_number": 95
    },
    {
     "cell_type": "markdown",
     "metadata": {},
     "source": [
      "Graphique diff\u00e9rence entre le revenu disponible du couple non-mari\u00e9 et celui du couple mari\u00e9 / revenu imposable"
     ]
    },
    {
     "cell_type": "code",
     "collapsed": false,
     "input": [
      "fig = plt.figure()\n",
      "plt.plot(salaire_de_baseIII2B, incitation_marriage_tehr, label = \"macourbe\")\n",
      "plt.legend(loc = 4, shadow=True, fancybox=True)\n",
      "plt.xlim([0,salaire_maximal])"
     ],
     "language": "python",
     "metadata": {},
     "outputs": [
      {
       "metadata": {},
       "output_type": "pyout",
       "prompt_number": 97,
       "text": [
        "(0, 5000000)"
       ]
      },
      {
       "metadata": {},
       "output_type": "display_data",
       "png": "[encoded data removed]",
       "text": [
        "<matplotlib.figure.Figure at 0x7ffe70999550>"
       ]
      }
     ],
     "prompt_number": 97
    },
    {
     "cell_type": "heading",
     "level": 3,
     "metadata": {},
     "source": [
      "III.3. Diff\u00e9rence d'incitation au marriage entre les deux r\u00e9formes"
     ]
    },
    {
     "cell_type": "code",
     "collapsed": false,
     "input": [
      "Difference_incitation_2_reformes = incitation_marriage_cesthra - incitation_marriage_tehr"
     ],
     "language": "python",
     "metadata": {},
     "outputs": [],
     "prompt_number": 98
    },
    {
     "cell_type": "markdown",
     "metadata": {},
     "source": [
      "Graphique A - B / revenu imposable"
     ]
    },
    {
     "cell_type": "code",
     "collapsed": false,
     "input": [
      "fig = plt.figure()\n",
      "plt.plot(salaire_de_baseIII2B, Difference_incitation_2_reformes, label = \"macourbe\")\n",
      "plt.legend(loc = 4, shadow=True, fancybox=True)\n",
      "plt.xlim([0,salaire_maximal])"
     ],
     "language": "python",
     "metadata": {},
     "outputs": [
      {
       "metadata": {},
       "output_type": "pyout",
       "prompt_number": 99,
       "text": [
        "(0, 5000000)"
       ]
      },
      {
       "metadata": {},
       "output_type": "display_data",
       "png": "[encoded data removed]",
       "text": [
        "<matplotlib.figure.Figure at 0x7ffe7120fed0>"
       ]
      }
     ],
     "prompt_number": 99
    },
    {
     "cell_type": "code",
     "collapsed": false,
     "input": [],
     "language": "python",
     "metadata": {},
     "outputs": [],
     "prompt_number": 99
    },
    {
     "cell_type": "heading",
     "level": 2,
     "metadata": {},
     "source": [
      "Conclusion"
     ]
    },
    {
     "cell_type": "code",
     "collapsed": false,
     "input": [],
     "language": "python",
     "metadata": {},
     "outputs": []
    }
   ],
   "metadata": {}
  }
 ]
}