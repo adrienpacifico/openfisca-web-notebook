{
 "metadata": {
  "name": "",
  "signature": "sha256:fd5160f6b4f8400247e1e368bc268c4c12498d0cd055e798e5c939e87713d1f4"
 },
 "nbformat": 3,
 "nbformat_minor": 0,
 "worksheets": [
  {
   "cells": [
    {
     "cell_type": "heading",
     "level": 1,
     "metadata": {},
     "source": [
      "Projet de taxation marginale \u00e0 75% sur les revenus sup\u00e9rieurs \u00e0 1 Million \u20ac"
     ]
    },
    {
     "cell_type": "heading",
     "level": 4,
     "metadata": {},
     "source": [
      "    Lors de la campagne pr\u00e9sidentielle 2012 Fran\u00e7ois Hollande annon\u00e7a dans son programme \u00e9lectoral qu'il mettrait en place une taxe \u00e0 75% sur les revenus sup\u00e9rieurs \u00e0 1 million d'Euros. Durant cette p\u00e9riode les partisans UMP affirmaient que ce projet de r\u00e9forme ne pourrait jamais \u00eatre impl\u00e9ment\u00e9 et que ce n'\u00e9tait qu'un moyen pour Fran\u00e7ois Hollande de gagner plus de voix aux \u00e9lections. Pourtant en 2012 le gouvernement de Fran\u00e7ois Hollande a propos\u00e9 au conseil constitutionnel un projet de r\u00e9forme de la fiscalit\u00e9 qui incluait une taxe marginale \u00e0 hauteur de 75% pour les revenus sup\u00e9rieurs \u00e0 1 Millions d'Euros. Cette r\u00e9forme a d'abord \u00e9t\u00e9 invalid\u00e9e par le Conseil Constitutionnel en D\u00e9cembre de la m\u00eame ann\u00e9e, et elle a \u00e9t\u00e9 refondue et revot\u00e9e le 18 octobre 2013. Le 29 D\u00e9cembre 2013 apr\u00e8s avoir subit quelques rectifications, le projet de r\u00e9forme fiscale est enfin valid\u00e9 par le Conseil Constitutionnel. Ainsi, alors que certains articles ont-\u00e9t\u00e9 valid\u00e9s en l'\u00e9tat, d'autres on \u00e9t\u00e9 rejet\u00e9s compl\u00e8tement, et certains ont-\u00e9t\u00e9 accept\u00e9s apr\u00e8s avoir subit quelques modifications. Par exemple l'article 9 pr\u00e9voyait en partie de faire passer le taux d'imposition sur les bons anonymes de 75,5% \u00e0 90,5%, ce qui a finalement \u00e9t\u00e9 supprim\u00e9 de la loi des finances 2013, car le Conseil Constitutionnel a jug\u00e9 qu'un pareil taux repr\u00e9sentait une charge trop importante au regard de la capacit\u00e9 contributive des contribuables. L'article 12, qui pr\u00e9voyait d'instituer une taxe exceptionnelle de solidarit\u00e9 sur les revenus d'activit\u00e9 sup\u00e9rieure \u00e0 1 million d'euros, et dont le taux devait s'\u00e9lever \u00e0 18%, a \u00e9t\u00e9 supprim\u00e9. Enfin, l'article 3 qui a \u00e9t\u00e9 valid\u00e9 par le Conseil Constitutionnel institue une nouvelle tranche d'imposition marginale \u00e0 45% sur les revenus sup\u00e9rieurs \u00e0 150.000 \u20ac. Conjugu\u00e9 avec d'autres articles, cette r\u00e9forme fait passer la taxation marginale cumul\u00e9e \u00e0 plus de 75% sur les hauts revenus."
     ]
    },
    {
     "cell_type": "heading",
     "level": 4,
     "metadata": {},
     "source": [
      "\tCette r\u00e9forme a beaucoup fait parler d'elle, d'abord parce qu'elle a \u00e9t\u00e9 critiqu\u00e9e lors des campagnes pr\u00e9sidentielles comme \u00e9tant un simple projet d\u00e9magogique, puis parce qu'une fois impl\u00e9ment\u00e9e plusieurs personnalit\u00e9s fran\u00e7aises  ont quitt\u00e9 le pays (G\u00e9rard Depardieux, Florent Pagny, Johnny Hallyday, Bernard Arnault...), laissant sugg\u00e9rer que cette r\u00e9forme serait \u00e0 l'origine d'un important exil fiscal. Etant donn\u00e9 l'importante m\u00e9diatisation de cette r\u00e9forme, et sachant qu'elle pourrait modifier le comportement des plus riches contribuables fran\u00e7ais, il semble int\u00e9ressant d'\u00e9tudier l'impacte de cette r\u00e9forme sur la charge fiscale totale que doivent supporter les fran\u00e7ais."
     ]
    },
    {
     "cell_type": "heading",
     "level": 4,
     "metadata": {},
     "source": [
      "Dans un premier temps il s'agira d'\u00e9tudier la charge fiscale pr\u00e9vue par le projet initial en fonction du revenu imposable, et de la comparer avec la charge fiscale du projet modifi\u00e9 par le conseil constitutionnel. Sachant les avantages associ\u00e9s au quotient familiale ont-\u00e9t\u00e9 modifi\u00e9 par la r\u00e9forme, il s'agira dans un second temps de mesurer l'effet d'incitation au mariage de personnes avec des revenus disparates qui r\u00e9sulte du projet valid\u00e9 de r\u00e9forme, et de le comparer avec le m\u00eame effet d'incitation r\u00e9sultat du projet initial de r\u00e9forme. "
     ]
    },
    {
     "cell_type": "heading",
     "level": 3,
     "metadata": {},
     "source": [
      "Initialisation"
     ]
    },
    {
     "cell_type": "code",
     "collapsed": false,
     "input": [
      "from openfisca_france.reforms import cesthra_invalidee\n",
      "from openfisca_france.tests import base"
     ],
     "language": "python",
     "metadata": {},
     "outputs": [],
     "prompt_number": 29
    },
    {
     "cell_type": "code",
     "collapsed": false,
     "input": [
      "%matplotlib inline\n",
      "import matplotlib.pyplot as plt\n",
      "import numpy as np\n",
      "np.set_printoptions(suppress=True, precision=2) #permet d'imprimer les array avec juste 2 chiffres et sans notation scientifique.\n",
      "from openfisca_matplotlib import graphs"
     ],
     "language": "python",
     "metadata": {},
     "outputs": [],
     "prompt_number": 30
    },
    {
     "cell_type": "code",
     "collapsed": false,
     "input": [
      "from datetime import date  # module n\u00e9cessaire pour la d\u00e9finition des dates, dont notamment les dates de naissances\n",
      "\n",
      "from openfisca_core import periods\n",
      "import openfisca_france    # module d\u00e9crivant le syst\u00e8me socio-fiscal fran\u00e7ais\n",
      "\n",
      "TaxBenefitSystem = openfisca_france.init_country()  # Initialisation de la classe d\u00e9crivant le syst\u00e8me socio-fiscal fran\u00e7ais\n",
      "tax_benefit_system = TaxBenefitSystem()  # Cr\u00e9ation d'une instance du syst\u00e8me socio-fiscal fran\u00e7ais \n",
      "tax_benef_ir75 = cesthra_invalidee.build_reform(base.tax_benefit_system)"
     ],
     "language": "python",
     "metadata": {},
     "outputs": [],
     "prompt_number": 31
    },
    {
     "cell_type": "code",
     "collapsed": false,
     "input": [
      "salaire_maximal = 5000000"
     ],
     "language": "python",
     "metadata": {},
     "outputs": [],
     "prompt_number": 32
    },
    {
     "cell_type": "heading",
     "level": 3,
     "metadata": {},
     "source": [
      "Nouveau projet: taxe exceptionelle sur les hauts revenus"
     ]
    },
    {
     "cell_type": "code",
     "collapsed": false,
     "input": [
      "def homme_celibataire_tehr(nombre_enfants = 0, year = 2015):\n",
      "    simulation = tax_benefit_system.new_scenario().init_single_entity(\n",
      "        axes = [\n",
      "            dict(\n",
      "                count = 100,\n",
      "                min = 0,\n",
      "                max = salaire_maximal * 3,\n",
      "                name = 'salaire_de_base',\n",
      "                ),\n",
      "            ],\n",
      "        period = \"{}:3\".format(year-2),\n",
      "        parent1 = dict(\n",
      "            birth = date(1980, 1, 1),\n",
      "            ),\n",
      "        menage = dict(\n",
      "            loyer = 1000 * 3,\n",
      "            so = 4,\n",
      "            ),\n",
      "        ).new_simulation(debug = True)\n",
      "    return simulation"
     ],
     "language": "python",
     "metadata": {},
     "outputs": [],
     "prompt_number": 33
    },
    {
     "cell_type": "code",
     "collapsed": false,
     "input": [
      "tehr = homme_celibataire_tehr(year = 2014).calculate('tehr', '2014')\n",
      "tehr #Adrien : tout est \u00e9gal \u00e0 0 ?"
     ],
     "language": "python",
     "metadata": {},
     "outputs": [
      {
       "metadata": {},
       "output_type": "pyout",
       "prompt_number": 34,
       "text": [
        "array([-0., -0., -0., -0., -0., -0., -0., -0., -0., -0., -0., -0., -0.,\n",
        "       -0., -0., -0., -0., -0., -0., -0., -0., -0., -0., -0., -0., -0.,\n",
        "       -0., -0., -0., -0., -0., -0., -0., -0., -0., -0., -0., -0., -0.,\n",
        "       -0., -0., -0., -0., -0., -0., -0., -0., -0., -0., -0., -0., -0.,\n",
        "       -0., -0., -0., -0., -0., -0., -0., -0., -0., -0., -0., -0., -0.,\n",
        "       -0., -0., -0., -0., -0., -0., -0., -0., -0., -0., -0., -0., -0.,\n",
        "       -0., -0., -0., -0., -0., -0., -0., -0., -0., -0., -0., -0., -0.,\n",
        "       -0., -0., -0., -0., -0., -0., -0., -0., -0.], dtype=float32)"
       ]
      }
     ],
     "prompt_number": 34
    },
    {
     "cell_type": "code",
     "collapsed": false,
     "input": [
      "revdisp = homme_celibataire_tehr(year = 2014).calculate('revdisp', '2014')\n",
      "revdisp #Adrien : tout est \u00e9gal \u00e0 0 ?"
     ],
     "language": "python",
     "metadata": {},
     "outputs": [
      {
       "metadata": {},
       "output_type": "pyout",
       "prompt_number": 35,
       "text": [
        "array([ 5679.25,  5679.25,  5679.25,  5679.25,  5679.25,  5679.25,\n",
        "        5679.25,  5679.25,  5679.25,  5679.25,  5679.25,  5679.25,\n",
        "        5679.25,  5679.25,  5679.25,  5679.25,  5679.25,  5679.25,\n",
        "        5679.25,  5679.25,  5679.25,  5679.25,  5679.25,  5679.25,\n",
        "        5679.25,  5679.25,  5679.25,  5679.25,  5679.25,  5679.25,\n",
        "        5679.25,  5679.25,  5679.25,  5679.25,  5679.25,  5679.25,\n",
        "        5679.25,  5679.25,  5679.25,  5679.25,  5679.25,  5679.25,\n",
        "        5679.25,  5679.25,  5679.25,  5679.25,  5679.25,  5679.25,\n",
        "        5679.25,  5679.25,  5679.25,  5679.25,  5679.25,  5679.25,\n",
        "        5679.25,  5679.25,  5679.25,  5679.25,  5679.25,  5679.25,\n",
        "        5679.25,  5679.25,  5679.25,  5679.25,  5679.25,  5679.25,\n",
        "        5679.25,  5679.25,  5679.25,  5679.25,  5679.25,  5679.25,\n",
        "        5679.25,  5679.25,  5679.25,  5679.25,  5679.25,  5679.25,\n",
        "        5679.25,  5679.25,  5679.25,  5679.25,  5679.25,  5679.25,\n",
        "        5679.25,  5679.25,  5679.25,  5679.25,  5679.25,  5679.25,\n",
        "        5679.25,  5679.25,  5679.25,  5679.25,  5679.25,  5679.25,\n",
        "        5679.25,  5679.25,  5679.25,  5679.25], dtype=float32)"
       ]
      }
     ],
     "prompt_number": 35
    },
    {
     "cell_type": "heading",
     "level": 3,
     "metadata": {},
     "source": [
      "Projet initial: fixer un taux marginal d'IRPP \u00e0 75% pour toute part du revenu excedant 1 Million d'euros"
     ]
    },
    {
     "cell_type": "code",
     "collapsed": false,
     "input": [
      "def homme_celibataire_irpp75(nombre_enfants = 0, year = 2015):\n",
      "    simulation = tax_benef_ir75.new_scenario().init_single_entity(\n",
      "        axes = [\n",
      "            dict(\n",
      "                count = 100,\n",
      "                min = 0,\n",
      "                max = salaire_maximal * 3,\n",
      "                name = 'salaire_de_base',\n",
      "                ),\n",
      "            ],\n",
      "#        period = \"{}:3\".format(year-2),\n",
      "        period = periods.period('year', year),\n",
      "        parent1 = dict(\n",
      "            birth = date(1980, 1, 1),\n",
      "            ),\n",
      "        menage = dict(\n",
      "            loyer = 1000 * 3,\n",
      "            so = 4,\n",
      "            ),\n",
      "        ).new_simulation(debug = True)\n",
      "    return simulation"
     ],
     "language": "python",
     "metadata": {},
     "outputs": [],
     "prompt_number": 36
    },
    {
     "cell_type": "code",
     "collapsed": false,
     "input": [
      "irpp75 = homme_celibataire_irpp75().calculate('revdisp', '2015')\n",
      "irpp75"
     ],
     "language": "python",
     "metadata": {},
     "outputs": [
      {
       "metadata": {},
       "output_type": "pyout",
       "prompt_number": 37,
       "text": [
        "array([    5798.84,   113684.34,   196260.94,   275048.81,   352897.06,\n",
        "         430169.75,   507442.5 ,   539260.75,   502897.06,   466533.5 ,\n",
        "         430169.88,   393806.12,   357442.5 ,   321078.88,   284715.12,\n",
        "         248351.5 ,   211987.75,   175624.25,   139260.75,   102897.  ,\n",
        "          66533.25,    30169.5 ,    -6194.  ,   -42557.75,   -78921.  ,\n",
        "        -115284.75,  -151648.5 ,  -188012.25,  -224375.5 ,  -260739.  ,\n",
        "        -297103.  ,  -333466.5 ,  -369830.  ,  -406193.5 ,  -442557.  ,\n",
        "        -478921.  ,  -515284.5 ,  -551648.5 ,  -588012.  ,  -624375.5 ,\n",
        "        -660739.  ,  -697103.  ,  -733466.5 ,  -769830.  ,  -806193.5 ,\n",
        "        -842557.5 ,  -878921.  ,  -915284.5 ,  -951648.5 ,  -988012.5 ,\n",
        "       -1024375.5 , -1060739.5 , -1097103.  , -1133466.  , -1169830.  ,\n",
        "       -1206193.5 , -1242557.  , -1278921.  , -1315284.  , -1351648.  ,\n",
        "       -1388012.  , -1424375.  , -1460738.  , -1497103.  , -1533467.  ,\n",
        "       -1569830.  , -1606193.  , -1642557.  , -1678921.  , -1715285.  ,\n",
        "       -1751648.  , -1788012.  , -1824375.  , -1860739.  , -1897103.  ,\n",
        "       -1933467.  , -1969830.  , -2006194.  , -2042557.  , -2078921.  ,\n",
        "       -2115285.  , -2151648.  , -2188013.  , -2224375.  , -2260740.  ,\n",
        "       -2297103.  , -2333466.  , -2369831.  , -2406194.  , -2442557.  ,\n",
        "       -2478921.  , -2515284.  , -2551649.  , -2588012.  , -2624375.  ,\n",
        "       -2660738.  , -2697102.  , -2733467.  , -2769830.  , -2806193.  ], dtype=float32)"
       ]
      }
     ],
     "prompt_number": 37
    },
    {
     "cell_type": "code",
     "collapsed": false,
     "input": [
      "difference_revenu_disponible_2reformes = irpp75 - tehr\n",
      "difference_revenu_disponible_2reformes"
     ],
     "language": "python",
     "metadata": {},
     "outputs": [
      {
       "metadata": {},
       "output_type": "pyout",
       "prompt_number": 38,
       "text": [
        "array([    5798.84,   113684.34,   196260.94,   275048.81,   352897.06,\n",
        "         430169.75,   507442.5 ,   539260.75,   502897.06,   466533.5 ,\n",
        "         430169.88,   393806.12,   357442.5 ,   321078.88,   284715.12,\n",
        "         248351.5 ,   211987.75,   175624.25,   139260.75,   102897.  ,\n",
        "          66533.25,    30169.5 ,    -6194.  ,   -42557.75,   -78921.  ,\n",
        "        -115284.75,  -151648.5 ,  -188012.25,  -224375.5 ,  -260739.  ,\n",
        "        -297103.  ,  -333466.5 ,  -369830.  ,  -406193.5 ,  -442557.  ,\n",
        "        -478921.  ,  -515284.5 ,  -551648.5 ,  -588012.  ,  -624375.5 ,\n",
        "        -660739.  ,  -697103.  ,  -733466.5 ,  -769830.  ,  -806193.5 ,\n",
        "        -842557.5 ,  -878921.  ,  -915284.5 ,  -951648.5 ,  -988012.5 ,\n",
        "       -1024375.5 , -1060739.5 , -1097103.  , -1133466.  , -1169830.  ,\n",
        "       -1206193.5 , -1242557.  , -1278921.  , -1315284.  , -1351648.  ,\n",
        "       -1388012.  , -1424375.  , -1460738.  , -1497103.  , -1533467.  ,\n",
        "       -1569830.  , -1606193.  , -1642557.  , -1678921.  , -1715285.  ,\n",
        "       -1751648.  , -1788012.  , -1824375.  , -1860739.  , -1897103.  ,\n",
        "       -1933467.  , -1969830.  , -2006194.  , -2042557.  , -2078921.  ,\n",
        "       -2115285.  , -2151648.  , -2188013.  , -2224375.  , -2260740.  ,\n",
        "       -2297103.  , -2333466.  , -2369831.  , -2406194.  , -2442557.  ,\n",
        "       -2478921.  , -2515284.  , -2551649.  , -2588012.  , -2624375.  ,\n",
        "       -2660738.  , -2697102.  , -2733467.  , -2769830.  , -2806193.  ], dtype=float32)"
       ]
      }
     ],
     "prompt_number": 38
    },
    {
     "cell_type": "code",
     "collapsed": false,
     "input": [],
     "language": "python",
     "metadata": {},
     "outputs": [],
     "prompt_number": 38
    },
    {
     "cell_type": "heading",
     "level": 5,
     "metadata": {},
     "source": [
      "Graphique Diff\u00e9rence revenu disponible (entre irpp75/tehr) / revenu imposable"
     ]
    },
    {
     "cell_type": "code",
     "collapsed": false,
     "input": [
      "fig = plt.figure()\n",
      "plt.plot(homme_celibataire_irpp75().calculate('salaire_de_base'), difference_revenu_disponible_2reformes, label = \"macourbe\")\n",
      "plt.legend(loc = 4, shadow=True, fancybox=True)\n",
      "plt.xlim([0,salaire_maximal])"
     ],
     "language": "python",
     "metadata": {},
     "outputs": [
      {
       "metadata": {},
       "output_type": "pyout",
       "prompt_number": 39,
       "text": [
        "(0, 5000000)"
       ]
      },
      {
       "metadata": {},
       "output_type": "display_data",
       "png": "[encoded data removed]",
       "text": [
        "<matplotlib.figure.Figure at 0x7fd3b0d9c4d0>"
       ]
      }
     ],
     "prompt_number": 39
    },
    {
     "cell_type": "heading",
     "level": 2,
     "metadata": {},
     "source": [
      "Diff\u00e9rence d'imposition entre les deux r\u00e9formes dans le cadre du quotient familliale (marriage homme/femme avec revenus diff\u00e9rents)"
     ]
    },
    {
     "cell_type": "heading",
     "level": 3,
     "metadata": {},
     "source": [
      "Nouveau projet: taxe exceptionelle sur les hauts revenus"
     ]
    },
    {
     "cell_type": "code",
     "collapsed": false,
     "input": [
      "def couple_sans_enfant_tehr(nombre_enfants = 0, year = 2015):\n",
      "    enfant = [dict(\n",
      "        birth = date(2005, 1, 1),\n",
      "        )]\n",
      "    enfants = enfant * nombre_enfants\n",
      "    simulation = tax_benefit_system.new_scenario().init_single_entity(\n",
      "        axes = [\n",
      "            dict(\n",
      "                count = 100,\n",
      "                min = 0,\n",
      "                max = salaire_maximal * 3,\n",
      "                name = 'sal',\n",
      "                ),\n",
      "            ],\n",
      "        period = \"{}:3\".format(year-2),\n",
      "        parent1 = dict(\n",
      "            birth = date(1980, 1, 1),\n",
      "            ),\n",
      "        parent2 = dict(\n",
      "            birth = date(1980, 1, 1)\n",
      "            ),\n",
      "        menage = dict(\n",
      "            loyer = 1000 * 3,\n",
      "            so = 4,\n",
      "            ),\n",
      "        ).new_simulation(debug = True)\n",
      "    return simulation"
     ],
     "language": "python",
     "metadata": {},
     "outputs": [],
     "prompt_number": 40
    },
    {
     "cell_type": "code",
     "collapsed": false,
     "input": [
      "tehr = couple_sans_enfant_tehr().calculate('revdisp', 2014)\n",
      "tehr"
     ],
     "language": "python",
     "metadata": {},
     "outputs": [
      {
       "metadata": {},
       "output_type": "pyout",
       "prompt_number": 41,
       "text": [
        "array([ 8047.51,  8047.51,  8047.51,  8047.51,  8047.51,  8047.51,\n",
        "        8047.51,  8047.51,  8047.51,  8047.51,  8047.51,  8047.51,\n",
        "        8047.51,  8047.51,  8047.51,  8047.51,  8047.51,  8047.51,\n",
        "        8047.51,  8047.51,  8047.51,  8047.51,  8047.51,  8047.51,\n",
        "        8047.51,  8047.51,  8047.51,  8047.51,  8047.51,  8047.51,\n",
        "        8047.51,  8047.51,  8047.51,  8047.51,  8047.51,  8047.51,\n",
        "        8047.51,  8047.51,  8047.51,  8047.51,  8047.51,  8047.51,\n",
        "        8047.51,  8047.51,  8047.51,  8047.51,  8047.51,  8047.51,\n",
        "        8047.51,  8047.51,  8047.51,  8047.51,  8047.51,  8047.51,\n",
        "        8047.51,  8047.51,  8047.51,  8047.51,  8047.51,  8047.51,\n",
        "        8047.51,  8047.51,  8047.51,  8047.51,  8047.51,  8047.51,\n",
        "        8047.51,  8047.51,  8047.51,  8047.51,  8047.51,  8047.51,\n",
        "        8047.51,  8047.51,  8047.51,  8047.51,  8047.51,  8047.51,\n",
        "        8047.51,  8047.51,  8047.51,  8047.51,  8047.51,  8047.51,\n",
        "        8047.51,  8047.51,  8047.51,  8047.51,  8047.51,  8047.51,\n",
        "        8047.51,  8047.51,  8047.51,  8047.51,  8047.51,  8047.51,\n",
        "        8047.51,  8047.51,  8047.51,  8047.51], dtype=float32)"
       ]
      }
     ],
     "prompt_number": 41
    },
    {
     "cell_type": "heading",
     "level": 3,
     "metadata": {},
     "source": [
      "Projet initial: fixer un taux marginal d'IRPP \u00e0 75% pour toute part du revenu excedant 1 Million d'euros"
     ]
    },
    {
     "cell_type": "code",
     "collapsed": false,
     "input": [
      "def couple_sans_enfant_irpp75(nombre_enfants = 0, year = 2015):\n",
      "    enfant = [dict(\n",
      "        birth = date(2005, 1, 1),\n",
      "        )]\n",
      "    enfants = enfant * nombre_enfants\n",
      "    simulation = tax_benefit_system.new_scenario().init_single_entity(\n",
      "        axes = [\n",
      "            dict(\n",
      "                count = 100,\n",
      "                min = 0,\n",
      "                max = salaire_maximal * 3,\n",
      "                name = 'sal',\n",
      "                ),\n",
      "            ],\n",
      "        period = \"{}:3\".format(year-2),\n",
      "        parent1 = dict(\n",
      "            birth = date(1980, 1, 1),\n",
      "            ),\n",
      "        parent2 = dict(\n",
      "            birth = date(1980, 1, 1)\n",
      "            ),\n",
      "        menage = dict(\n",
      "            loyer = 1000 * 3,\n",
      "            so = 4,\n",
      "            ),\n",
      "        ).new_simulation(debug = True)\n",
      "    return simulation"
     ],
     "language": "python",
     "metadata": {},
     "outputs": [],
     "prompt_number": 42
    },
    {
     "cell_type": "code",
     "collapsed": false,
     "input": [
      "irpp75 = couple_sans_enfant_irpp75().calculate('revdisp', '2015')\n",
      "irpp75"
     ],
     "language": "python",
     "metadata": {},
     "outputs": [
      {
       "metadata": {},
       "output_type": "pyout",
       "prompt_number": 44,
       "text": [
        "array([ 8218.36,  8218.36,  8218.36,  8218.36,  8218.36,  8218.36,\n",
        "        8218.36,  8218.36,  8218.36,  8218.36,  8218.36,  8218.36,\n",
        "        8218.36,  8218.36,  8218.36,  8218.36,  8218.36,  8218.36,\n",
        "        8218.36,  8218.36,  8218.36,  8218.36,  8218.36,  8218.36,\n",
        "        8218.36,  8218.36,  8218.36,  8218.36,  8218.36,  8218.36,\n",
        "        8218.36,  8218.36,  8218.36,  8218.36,  8218.36,  8218.36,\n",
        "        8218.36,  8218.36,  8218.36,  8218.36,  8218.36,  8218.36,\n",
        "        8218.36,  8218.36,  8218.36,  8218.36,  8218.36,  8218.36,\n",
        "        8218.36,  8218.36,  8218.36,  8218.36,  8218.36,  8218.36,\n",
        "        8218.36,  8218.36,  8218.36,  8218.36,  8218.36,  8218.36,\n",
        "        8218.36,  8218.36,  8218.36,  8218.36,  8218.36,  8218.36,\n",
        "        8218.36,  8218.36,  8218.36,  8218.36,  8218.36,  8218.36,\n",
        "        8218.36,  8218.36,  8218.36,  8218.36,  8218.36,  8218.36,\n",
        "        8218.36,  8218.36,  8218.36,  8218.36,  8218.36,  8218.36,\n",
        "        8218.36,  8218.36,  8218.36,  8218.36,  8218.36,  8218.36,\n",
        "        8218.36,  8218.36,  8218.36,  8218.36,  8218.36,  8218.36,\n",
        "        8218.36,  8218.36,  8218.36,  8218.36], dtype=float32)"
       ]
      }
     ],
     "prompt_number": 44
    },
    {
     "cell_type": "code",
     "collapsed": false,
     "input": [
      "difference_revenu_disponible_2reformes = irpp75 - tehr\n",
      "difference_revenu_disponible_2reformes"
     ],
     "language": "python",
     "metadata": {},
     "outputs": [
      {
       "metadata": {},
       "output_type": "pyout",
       "prompt_number": 45,
       "text": [
        "array([ 170.84,  170.84,  170.84,  170.84,  170.84,  170.84,  170.84,\n",
        "        170.84,  170.84,  170.84,  170.84,  170.84,  170.84,  170.84,\n",
        "        170.84,  170.84,  170.84,  170.84,  170.84,  170.84,  170.84,\n",
        "        170.84,  170.84,  170.84,  170.84,  170.84,  170.84,  170.84,\n",
        "        170.84,  170.84,  170.84,  170.84,  170.84,  170.84,  170.84,\n",
        "        170.84,  170.84,  170.84,  170.84,  170.84,  170.84,  170.84,\n",
        "        170.84,  170.84,  170.84,  170.84,  170.84,  170.84,  170.84,\n",
        "        170.84,  170.84,  170.84,  170.84,  170.84,  170.84,  170.84,\n",
        "        170.84,  170.84,  170.84,  170.84,  170.84,  170.84,  170.84,\n",
        "        170.84,  170.84,  170.84,  170.84,  170.84,  170.84,  170.84,\n",
        "        170.84,  170.84,  170.84,  170.84,  170.84,  170.84,  170.84,\n",
        "        170.84,  170.84,  170.84,  170.84,  170.84,  170.84,  170.84,\n",
        "        170.84,  170.84,  170.84,  170.84,  170.84,  170.84,  170.84,\n",
        "        170.84,  170.84,  170.84,  170.84,  170.84,  170.84,  170.84,\n",
        "        170.84,  170.84], dtype=float32)"
       ]
      }
     ],
     "prompt_number": 45
    },
    {
     "cell_type": "heading",
     "level": 5,
     "metadata": {},
     "source": [
      "Graphique Diff\u00e9rence revenu disponible (entre irpp75/tehr) / revenu imposable"
     ]
    },
    {
     "cell_type": "code",
     "collapsed": false,
     "input": [
      "fig = plt.figure()\n",
      "plt.plot(couple_avec_enfants_irpp75().calculate('salaire_de_base'), difference_revenu_disponible_2reformes, label = \"macourbe\")\n",
      "plt.legend(loc = 4, shadow=True, fancybox=True)\n",
      "plt.xlim([0,salaire_maximal])"
     ],
     "language": "python",
     "metadata": {},
     "outputs": [
      {
       "ename": "NameError",
       "evalue": "name 'couple_avec_enfants_irpp75' is not defined",
       "output_type": "pyerr",
       "traceback": [
        "\u001b[0;31m---------------------------------------------------------------------------\u001b[0m\n\u001b[0;31mNameError\u001b[0m                                 Traceback (most recent call last)",
        "\u001b[0;32m<ipython-input-46-56eb8ee9621d>\u001b[0m in \u001b[0;36m<module>\u001b[0;34m()\u001b[0m\n\u001b[1;32m      1\u001b[0m \u001b[0mfig\u001b[0m \u001b[0;34m=\u001b[0m \u001b[0mplt\u001b[0m\u001b[0;34m.\u001b[0m\u001b[0mfigure\u001b[0m\u001b[0;34m(\u001b[0m\u001b[0;34m)\u001b[0m\u001b[0;34m\u001b[0m\u001b[0m\n\u001b[0;32m----> 2\u001b[0;31m \u001b[0mplt\u001b[0m\u001b[0;34m.\u001b[0m\u001b[0mplot\u001b[0m\u001b[0;34m(\u001b[0m\u001b[0mcouple_avec_enfants_irpp75\u001b[0m\u001b[0;34m(\u001b[0m\u001b[0;34m)\u001b[0m\u001b[0;34m.\u001b[0m\u001b[0mcalculate\u001b[0m\u001b[0;34m(\u001b[0m\u001b[0;34m'salaire_de_base'\u001b[0m\u001b[0;34m)\u001b[0m\u001b[0;34m,\u001b[0m \u001b[0mdifference_revenu_disponible_2reformes\u001b[0m\u001b[0;34m,\u001b[0m \u001b[0mlabel\u001b[0m \u001b[0;34m=\u001b[0m \u001b[0;34m\"macourbe\"\u001b[0m\u001b[0;34m)\u001b[0m\u001b[0;34m\u001b[0m\u001b[0m\n\u001b[0m\u001b[1;32m      3\u001b[0m \u001b[0mplt\u001b[0m\u001b[0;34m.\u001b[0m\u001b[0mlegend\u001b[0m\u001b[0;34m(\u001b[0m\u001b[0mloc\u001b[0m \u001b[0;34m=\u001b[0m \u001b[0;36m4\u001b[0m\u001b[0;34m,\u001b[0m \u001b[0mshadow\u001b[0m\u001b[0;34m=\u001b[0m\u001b[0mTrue\u001b[0m\u001b[0;34m,\u001b[0m \u001b[0mfancybox\u001b[0m\u001b[0;34m=\u001b[0m\u001b[0mTrue\u001b[0m\u001b[0;34m)\u001b[0m\u001b[0;34m\u001b[0m\u001b[0m\n\u001b[1;32m      4\u001b[0m \u001b[0mplt\u001b[0m\u001b[0;34m.\u001b[0m\u001b[0mxlim\u001b[0m\u001b[0;34m(\u001b[0m\u001b[0;34m[\u001b[0m\u001b[0;36m0\u001b[0m\u001b[0;34m,\u001b[0m\u001b[0msalaire_maximal\u001b[0m\u001b[0;34m]\u001b[0m\u001b[0;34m)\u001b[0m\u001b[0;34m\u001b[0m\u001b[0m\n",
        "\u001b[0;31mNameError\u001b[0m: name 'couple_avec_enfants_irpp75' is not defined"
       ]
      },
      {
       "metadata": {},
       "output_type": "display_data",
       "text": [
        "<matplotlib.figure.Figure at 0x7fd3b287a090>"
       ]
      }
     ],
     "prompt_number": 46
    },
    {
     "cell_type": "heading",
     "level": 2,
     "metadata": {},
     "source": [
      "Incitation \u00e0 se marrier"
     ]
    },
    {
     "cell_type": "heading",
     "level": 3,
     "metadata": {},
     "source": [
      "Incitation \u00e0 se marrier sous le projet initial"
     ]
    },
    {
     "cell_type": "code",
     "collapsed": false,
     "input": [
      "D\u00e9finir Couple non-mari\u00e9"
     ],
     "language": "python",
     "metadata": {},
     "outputs": [
      {
       "ename": "SyntaxError",
       "evalue": "invalid syntax (<ipython-input-47-bc31eef38684>, line 1)",
       "output_type": "pyerr",
       "traceback": [
        "\u001b[0;36m  File \u001b[0;32m\"<ipython-input-47-bc31eef38684>\"\u001b[0;36m, line \u001b[0;32m1\u001b[0m\n\u001b[0;31m    D\u00e9finir Couple non-mari\u00e9\u001b[0m\n\u001b[0m     ^\u001b[0m\n\u001b[0;31mSyntaxError\u001b[0m\u001b[0;31m:\u001b[0m invalid syntax\n"
       ]
      }
     ],
     "prompt_number": 47
    },
    {
     "cell_type": "code",
     "collapsed": false,
     "input": [
      "def couple_celibataire_irpp75(nombre_enfants = 0, year = 2015):\n",
      "    enfant = [dict(\n",
      "        birth = date(2005, 1, 1),\n",
      "        )]\n",
      "    enfants = enfant * nombre_enfants\n",
      "    simulation = tax_benefit_system.new_scenario().init_single_entity(\n",
      "        axes = [\n",
      "            dict(\n",
      "                count = 100,\n",
      "                min = 0,\n",
      "                max = salaire_maximal * 3,\n",
      "                name = 'sal',\n",
      "                ),\n",
      "            ],\n",
      "        period = \"{}:3\".format(year-2),\n",
      "        parent1 = dict(\n",
      "            birth = date(1980, 1, 1),\n",
      "            statmarit = 2\n",
      "            ),\n",
      "        parent2 = dict(\n",
      "            birth = date(1980, 1, 1),\n",
      "            sal = 0,\n",
      "            statmarit = 2\n",
      "            ),\n",
      "        menage = dict(\n",
      "            loyer = 1000 * 3,\n",
      "            so = 4,\n",
      "            ),\n",
      "        ).new_simulation(debug = True)\n",
      "    return simulation"
     ],
     "language": "python",
     "metadata": {},
     "outputs": [],
     "prompt_number": 54
    },
    {
     "cell_type": "code",
     "collapsed": false,
     "input": [
      "D\u00e9terminer revenu disponible"
     ],
     "language": "python",
     "metadata": {},
     "outputs": []
    },
    {
     "cell_type": "code",
     "collapsed": false,
     "input": [
      "irpp75 = couple_celibataire_irpp75().calculate('revdisp', '2015')\n",
      "irpp75"
     ],
     "language": "python",
     "metadata": {},
     "outputs": [
      {
       "metadata": {},
       "output_type": "pyout",
       "prompt_number": 55,
       "text": [
        "array([ 8218.36,  8218.36,  8218.36,  8218.36,  8218.36,  8218.36,\n",
        "        8218.36,  8218.36,  8218.36,  8218.36,  8218.36,  8218.36,\n",
        "        8218.36,  8218.36,  8218.36,  8218.36,  8218.36,  8218.36,\n",
        "        8218.36,  8218.36,  8218.36,  8218.36,  8218.36,  8218.36,\n",
        "        8218.36,  8218.36,  8218.36,  8218.36,  8218.36,  8218.36,\n",
        "        8218.36,  8218.36,  8218.36,  8218.36,  8218.36,  8218.36,\n",
        "        8218.36,  8218.36,  8218.36,  8218.36,  8218.36,  8218.36,\n",
        "        8218.36,  8218.36,  8218.36,  8218.36,  8218.36,  8218.36,\n",
        "        8218.36,  8218.36,  8218.36,  8218.36,  8218.36,  8218.36,\n",
        "        8218.36,  8218.36,  8218.36,  8218.36,  8218.36,  8218.36,\n",
        "        8218.36,  8218.36,  8218.36,  8218.36,  8218.36,  8218.36,\n",
        "        8218.36,  8218.36,  8218.36,  8218.36,  8218.36,  8218.36,\n",
        "        8218.36,  8218.36,  8218.36,  8218.36,  8218.36,  8218.36,\n",
        "        8218.36,  8218.36,  8218.36,  8218.36,  8218.36,  8218.36,\n",
        "        8218.36,  8218.36,  8218.36,  8218.36,  8218.36,  8218.36,\n",
        "        8218.36,  8218.36,  8218.36,  8218.36,  8218.36,  8218.36,\n",
        "        8218.36,  8218.36,  8218.36,  8218.36], dtype=float32)"
       ]
      }
     ],
     "prompt_number": 55
    },
    {
     "cell_type": "code",
     "collapsed": false,
     "input": [
      "Graphique revenu Revenu disponible / revenu imposable"
     ],
     "language": "python",
     "metadata": {},
     "outputs": [
      {
       "ename": "SyntaxError",
       "evalue": "invalid syntax (<ipython-input-50-38171aa370f1>, line 1)",
       "output_type": "pyerr",
       "traceback": [
        "\u001b[0;36m  File \u001b[0;32m\"<ipython-input-50-38171aa370f1>\"\u001b[0;36m, line \u001b[0;32m1\u001b[0m\n\u001b[0;31m    Graphique revenu Revenu disponible / revenu imposable\u001b[0m\n\u001b[0m                   ^\u001b[0m\n\u001b[0;31mSyntaxError\u001b[0m\u001b[0;31m:\u001b[0m invalid syntax\n"
       ]
      }
     ],
     "prompt_number": 50
    },
    {
     "cell_type": "code",
     "collapsed": false,
     "input": [],
     "language": "python",
     "metadata": {},
     "outputs": []
    },
    {
     "cell_type": "code",
     "collapsed": false,
     "input": [
      "D\u00e9finir Couple mari\u00e9"
     ],
     "language": "python",
     "metadata": {},
     "outputs": []
    },
    {
     "cell_type": "code",
     "collapsed": false,
     "input": [
      "def couple_marie_irpp75(nombre_enfants = 0, year = 2015):\n",
      "    enfant = [dict(\n",
      "        birth = date(2005, 1, 1),\n",
      "        )]\n",
      "    enfants = enfant * nombre_enfants\n",
      "    simulation = tax_benefit_system.new_scenario().init_single_entity(\n",
      "        axes = [\n",
      "            dict(\n",
      "                count = 100,\n",
      "                min = 0,\n",
      "                max = salaire_maximal * 3,\n",
      "                name = 'sal',\n",
      "                ),\n",
      "            ],\n",
      "        period = \"{}:3\".format(year-2),\n",
      "        parent1 = dict(\n",
      "            birth = date(1980, 1, 1),\n",
      "            statmarit = 1\n",
      "            ),\n",
      "        parent2 = dict(\n",
      "            birth = date(1980, 1, 1),\n",
      "            sal = 0,\n",
      "            statmarit = 1\n",
      "            ),\n",
      "        menage = dict(\n",
      "            loyer = 1000 * 3,\n",
      "            so = 4,\n",
      "            ),\n",
      "        ).new_simulation(debug = True)\n",
      "    return simulation"
     ],
     "language": "python",
     "metadata": {},
     "outputs": [],
     "prompt_number": 58
    },
    {
     "cell_type": "code",
     "collapsed": false,
     "input": [
      "D\u00e9terminer revenu disponible"
     ],
     "language": "python",
     "metadata": {},
     "outputs": []
    },
    {
     "cell_type": "code",
     "collapsed": false,
     "input": [
      "irpp75 = couple_marie_irpp75().calculate('revdisp', '2015')\n",
      "irpp75"
     ],
     "language": "python",
     "metadata": {},
     "outputs": [
      {
       "metadata": {},
       "output_type": "pyout",
       "prompt_number": 59,
       "text": [
        "array([ 8218.36,  8218.36,  8218.36,  8218.36,  8218.36,  8218.36,\n",
        "        8218.36,  8218.36,  8218.36,  8218.36,  8218.36,  8218.36,\n",
        "        8218.36,  8218.36,  8218.36,  8218.36,  8218.36,  8218.36,\n",
        "        8218.36,  8218.36,  8218.36,  8218.36,  8218.36,  8218.36,\n",
        "        8218.36,  8218.36,  8218.36,  8218.36,  8218.36,  8218.36,\n",
        "        8218.36,  8218.36,  8218.36,  8218.36,  8218.36,  8218.36,\n",
        "        8218.36,  8218.36,  8218.36,  8218.36,  8218.36,  8218.36,\n",
        "        8218.36,  8218.36,  8218.36,  8218.36,  8218.36,  8218.36,\n",
        "        8218.36,  8218.36,  8218.36,  8218.36,  8218.36,  8218.36,\n",
        "        8218.36,  8218.36,  8218.36,  8218.36,  8218.36,  8218.36,\n",
        "        8218.36,  8218.36,  8218.36,  8218.36,  8218.36,  8218.36,\n",
        "        8218.36,  8218.36,  8218.36,  8218.36,  8218.36,  8218.36,\n",
        "        8218.36,  8218.36,  8218.36,  8218.36,  8218.36,  8218.36,\n",
        "        8218.36,  8218.36,  8218.36,  8218.36,  8218.36,  8218.36,\n",
        "        8218.36,  8218.36,  8218.36,  8218.36,  8218.36,  8218.36,\n",
        "        8218.36,  8218.36,  8218.36,  8218.36,  8218.36,  8218.36,\n",
        "        8218.36,  8218.36,  8218.36,  8218.36], dtype=float32)"
       ]
      }
     ],
     "prompt_number": 59
    },
    {
     "cell_type": "code",
     "collapsed": false,
     "input": [
      "Graphique revenu disponible / revenu imposable"
     ],
     "language": "python",
     "metadata": {},
     "outputs": []
    },
    {
     "cell_type": "code",
     "collapsed": false,
     "input": [],
     "language": "python",
     "metadata": {},
     "outputs": []
    },
    {
     "cell_type": "code",
     "collapsed": false,
     "input": [
      "Definir A = diff\u00e9rence entre le revenu disponible du couple non-mari\u00e9 et celui du couple mari\u00e9"
     ],
     "language": "python",
     "metadata": {},
     "outputs": []
    },
    {
     "cell_type": "heading",
     "level": 2,
     "metadata": {},
     "source": [
      "Graphique diff\u00e9rence entre le revenu disponible du couple non-mari\u00e9 et celui du couple mari\u00e9 / revenu imposable"
     ]
    },
    {
     "cell_type": "heading",
     "level": 3,
     "metadata": {},
     "source": [
      "Incitation \u00e0 se marrier sous la loi des finances 2013"
     ]
    },
    {
     "cell_type": "code",
     "collapsed": false,
     "input": [
      "D\u00e9finir Couple non-mari\u00e9"
     ],
     "language": "python",
     "metadata": {},
     "outputs": []
    },
    {
     "cell_type": "code",
     "collapsed": false,
     "input": [],
     "language": "python",
     "metadata": {},
     "outputs": []
    },
    {
     "cell_type": "code",
     "collapsed": false,
     "input": [
      "D\u00e9terminer revenu disponible"
     ],
     "language": "python",
     "metadata": {},
     "outputs": [
      {
       "ename": "SyntaxError",
       "evalue": "invalid syntax (<ipython-input-15-707aa5998098>, line 1)",
       "output_type": "pyerr",
       "traceback": [
        "\u001b[0;36m  File \u001b[0;32m\"<ipython-input-15-707aa5998098>\"\u001b[0;36m, line \u001b[0;32m1\u001b[0m\n\u001b[0;31m    D\u00e9terminer revenu disponible\u001b[0m\n\u001b[0m     ^\u001b[0m\n\u001b[0;31mSyntaxError\u001b[0m\u001b[0;31m:\u001b[0m invalid syntax\n"
       ]
      }
     ],
     "prompt_number": 15
    },
    {
     "cell_type": "code",
     "collapsed": false,
     "input": [
      "Graphique revenu Revenu disponible / revenu imposable"
     ],
     "language": "python",
     "metadata": {},
     "outputs": []
    },
    {
     "cell_type": "code",
     "collapsed": false,
     "input": [],
     "language": "python",
     "metadata": {},
     "outputs": []
    },
    {
     "cell_type": "code",
     "collapsed": false,
     "input": [
      "D\u00e9finir Couple mari\u00e9"
     ],
     "language": "python",
     "metadata": {},
     "outputs": []
    },
    {
     "cell_type": "code",
     "collapsed": false,
     "input": [
      "D\u00e9terminer revenu disponible"
     ],
     "language": "python",
     "metadata": {},
     "outputs": []
    },
    {
     "cell_type": "code",
     "collapsed": false,
     "input": [
      "Graphique revenu disponible / revenu imposable"
     ],
     "language": "python",
     "metadata": {},
     "outputs": []
    },
    {
     "cell_type": "code",
     "collapsed": false,
     "input": [],
     "language": "python",
     "metadata": {},
     "outputs": []
    },
    {
     "cell_type": "code",
     "collapsed": false,
     "input": [
      "Definir B = diff\u00e9rence entre le revenu disponible du couple non-mari\u00e9 et celui du couple mari\u00e9"
     ],
     "language": "python",
     "metadata": {},
     "outputs": []
    },
    {
     "cell_type": "code",
     "collapsed": false,
     "input": [
      "Graphique diff\u00e9rence entre le revenu disponible du couple non-mari\u00e9 et celui du couple mari\u00e9 / revenu imposable"
     ],
     "language": "python",
     "metadata": {},
     "outputs": []
    },
    {
     "cell_type": "heading",
     "level": 3,
     "metadata": {},
     "source": [
      "Diff\u00e9rence d'incitation au marriage entre les deux r\u00e9formes"
     ]
    },
    {
     "cell_type": "code",
     "collapsed": false,
     "input": [
      "A - B"
     ],
     "language": "python",
     "metadata": {},
     "outputs": [
      {
       "ename": "NameError",
       "evalue": "name 'A' is not defined",
       "output_type": "pyerr",
       "traceback": [
        "\u001b[0;31m---------------------------------------------------------------------------\u001b[0m\n\u001b[0;31mNameError\u001b[0m                                 Traceback (most recent call last)",
        "\u001b[0;32m<ipython-input-16-53767d6403f6>\u001b[0m in \u001b[0;36m<module>\u001b[0;34m()\u001b[0m\n\u001b[0;32m----> 1\u001b[0;31m \u001b[0mA\u001b[0m \u001b[0;34m-\u001b[0m \u001b[0mB\u001b[0m\u001b[0;34m\u001b[0m\u001b[0m\n\u001b[0m",
        "\u001b[0;31mNameError\u001b[0m: name 'A' is not defined"
       ]
      }
     ],
     "prompt_number": 16
    },
    {
     "cell_type": "code",
     "collapsed": false,
     "input": [
      "Graphique A - B / revenu imposable"
     ],
     "language": "python",
     "metadata": {},
     "outputs": []
    },
    {
     "cell_type": "code",
     "collapsed": false,
     "input": [
      "simulation_menage_1et2 = tax_benefit_system.new_scenario().init_single_entity(\n",
      "    period = \"2012:3\",\n",
      "    parent1 = dict(\n",
      "        birth = date(1980, 1, 1),\n",
      "        sal = 100000 * 3,\n",
      "        statmarit = 1, #il faut que les individus soient mari\u00e9s pour b\u00e9n\u00e9ficier du QF\n",
      "        ),\n",
      "    parent2 = dict(\n",
      "        birth = date(1980, 1, 1),\n",
      "        sal = 80000 * 3,\n",
      "        statmarit = 1, #modif\n",
      "    )\n",
      "    \n",
      "    ).new_simulation(debug = True)"
     ],
     "language": "python",
     "metadata": {},
     "outputs": []
    }
   ],
   "metadata": {}
  }
 ]
}