{
 "metadata": {
  "name": "",
  "signature": "sha256:443086a8daa025d786b5649e5d722a56716e58826aac15b6c2f91a13c7f120f4"
 },
 "nbformat": 3,
 "nbformat_minor": 0,
 "worksheets": [
  {
   "cells": [
    {
     "cell_type": "heading",
     "level": 1,
     "metadata": {},
     "source": [
      "Projet de taxation marginale \u00e0 75% sur les revenus > 1 Million \u20ac"
     ]
    },
    {
     "cell_type": "heading",
     "level": 3,
     "metadata": {},
     "source": [
      "Initialisation"
     ]
    },
    {
     "cell_type": "code",
     "collapsed": false,
     "input": [
      "from openfisca_france.reforms import cesthra_invalidee\n",
      "from openfisca_france.tests import base"
     ],
     "language": "python",
     "metadata": {},
     "outputs": [],
     "prompt_number": 3
    },
    {
     "cell_type": "code",
     "collapsed": false,
     "input": [
      "%matplotlib inline\n",
      "import matplotlib.pyplot as plt\n",
      "import numpy as np\n",
      "np.set_printoptions(suppress=True, precision=2) #permet d'imprimer les array avec juste 2 chiffres et sans notation scientifique.\n",
      "from openfisca_matplotlib import graphs"
     ],
     "language": "python",
     "metadata": {},
     "outputs": [],
     "prompt_number": 4
    },
    {
     "cell_type": "code",
     "collapsed": false,
     "input": [
      "from datetime import date  # module n\u00e9cessaire pour la d\u00e9finition des dates, dont notamment les dates de naissances\n",
      "\n",
      "from openfisca_core import periods\n",
      "import openfisca_france    # module d\u00e9crivant le syst\u00e8me socio-fiscal fran\u00e7ais\n",
      "\n",
      "TaxBenefitSystem = openfisca_france.init_country()  # Initialisation de la classe d\u00e9crivant le syst\u00e8me socio-fiscal fran\u00e7ais\n",
      "tax_benefit_system = TaxBenefitSystem()  # Cr\u00e9ation d'une instance du syst\u00e8me socio-fiscal fran\u00e7ais \n",
      "tax_benef_ir75 = cesthra_invalidee.build_reform(base.tax_benefit_system)"
     ],
     "language": "python",
     "metadata": {},
     "outputs": [],
     "prompt_number": 5
    },
    {
     "cell_type": "code",
     "collapsed": false,
     "input": [
      "salaire_maximal = 5000000"
     ],
     "language": "python",
     "metadata": {},
     "outputs": [],
     "prompt_number": 6
    },
    {
     "cell_type": "heading",
     "level": 3,
     "metadata": {},
     "source": [
      "Nouveau projet: taxe exceptionelle sur les hauts revenus"
     ]
    },
    {
     "cell_type": "code",
     "collapsed": false,
     "input": [
      "def homme_celibataire_tehr(nombre_enfants = 0):\n",
      "    simulation = tax_benefit_system.new_scenario().init_single_entity(\n",
      "        axes = [\n",
      "            dict(\n",
      "                count = 100,\n",
      "                min = 0,\n",
      "                max = salaire_maximal,\n",
      "                name = 'salaire_de_base',\n",
      "                ),\n",
      "            ],\n",
      "        period = year,\n",
      "        parent1 = dict(\n",
      "            birth = date(1980, 1, 1),\n",
      "            salaire_de_base = {\"2013\": salaire_maximal, \"2014\": salaire_maximal}\n",
      "            ),\n",
      "        menage = dict(\n",
      "            loyer = 1000 * 3,\n",
      "            so = 4,\n",
      "            ),\n",
      "        ).new_simulation(debug = True)\n",
      "    return simulation"
     ],
     "language": "python",
     "metadata": {},
     "outputs": [],
     "prompt_number": 7
    },
    {
     "cell_type": "code",
     "collapsed": false,
     "input": [
      "tehr = homme_celibataire_tehr(year = 2014).calculate('tehr', '2014')\n",
      "tehr"
     ],
     "language": "python",
     "metadata": {},
     "outputs": [
      {
       "metadata": {},
       "output_type": "pyout",
       "prompt_number": 49,
       "text": [
        "array([      -0.  ,       -0.  ,       -0.  ,       -0.  ,       -0.  ,\n",
        "             -0.  ,       -0.  ,       -0.  ,       -0.  ,       -0.  ,\n",
        "             -0.  ,       -0.  ,       -0.  ,       -0.  ,       -0.  ,\n",
        "             -0.  ,       -0.  ,       -0.  ,       -0.  ,       -0.  ,\n",
        "          -5050.5 ,   -30303.  ,   -55555.56,   -80808.06,  -106060.62,\n",
        "        -131313.12,  -156565.69,  -181818.19,  -207070.69,  -232323.25,\n",
        "        -257575.75,  -282828.31,  -308080.81,  -333333.31,  -358585.88,\n",
        "        -383838.38,  -409090.94,  -434343.44,  -459595.94,  -484848.5 ,\n",
        "        -510101.  ,  -535353.56,  -560606.  ,  -585858.62,  -611111.12,\n",
        "        -636363.62,  -661616.12,  -686868.62,  -712121.25,  -737373.75,\n",
        "        -762626.25,  -787878.75,  -813131.38,  -838383.88,  -863636.38,\n",
        "        -888888.88,  -914141.38,  -939394.  ,  -964646.5 ,  -989899.  ,\n",
        "       -1015151.5 , -1040404.  , -1065656.62, -1090909.12, -1116161.62,\n",
        "       -1141414.12, -1166666.62, -1191919.25, -1217171.75, -1242424.25,\n",
        "       -1267676.75, -1292929.25, -1318181.88, -1343434.38, -1368686.88,\n",
        "       -1393939.38, -1419191.88, -1444444.5 , -1469697.  , -1494949.5 ,\n",
        "       -1520202.  , -1545454.5 , -1570707.12, -1595959.62, -1621212.  ,\n",
        "       -1646464.75, -1671717.25, -1696969.75, -1722222.25, -1747474.75,\n",
        "       -1772727.25, -1797979.75, -1823232.25, -1848484.75, -1873737.25,\n",
        "       -1898990.  , -1924242.5 , -1949495.  , -1974747.5 , -2000000.  ], dtype=float32)"
       ]
      }
     ],
     "prompt_number": 49
    },
    {
     "cell_type": "code",
     "collapsed": false,
     "input": [
      "revdisp = homme_celibataire_tehr(year = 2014).calculate('revdisp', '2014')\n",
      "revdisp "
     ],
     "language": "python",
     "metadata": {},
     "outputs": [
      {
       "metadata": {},
       "output_type": "pyout",
       "prompt_number": 9,
       "text": [
        "array([    5679.25,    48186.93,    82948.4 ,   113564.74,   141813.78,\n",
        "         169591.56,   196141.34,   222403.97,   248666.61,   274929.25,\n",
        "         301191.84,   327019.88,   352777.5 ,   378535.06,   404292.62,\n",
        "         430050.19,   455807.78,   481565.34,   507322.94,   533080.5 ,\n",
        "         558838.06,   584595.62,   610353.25,   636110.81,   661868.38,\n",
        "         687625.94,   713383.56,   739141.12,   764898.69,   790656.25,\n",
        "         816413.81,   842171.44,   867929.  ,   893686.5 ,   919444.12,\n",
        "         945201.69,   970959.31,   996716.88,  1022474.38,  1048232.  ,\n",
        "        1073989.5 ,  1099747.25,  1125504.62,  1151262.38,  1177019.88,\n",
        "        1202777.5 ,  1228535.  ,  1254292.62,  1280050.12,  1305807.75,\n",
        "        1331565.25,  1357322.88,  1383080.62,  1408838.12,  1434595.75,\n",
        "        1460353.25,  1486110.88,  1511868.5 ,  1537626.  ,  1563383.62,\n",
        "        1589141.12,  1614898.75,  1640656.38,  1666413.88,  1692171.5 ,\n",
        "        1717929.  ,  1743686.5 ,  1769444.25,  1795201.75,  1820959.25,\n",
        "        1846716.88,  1872474.38,  1898232.12,  1923989.62,  1949747.25,\n",
        "        1975504.75,  2001262.25,  2027020.  ,  2052777.5 ,  2078535.  ,\n",
        "        2104292.5 ,  2130050.  ,  2155807.75,  2181565.5 ,  2207322.5 ,\n",
        "        2233080.5 ,  2258838.  ,  2284595.5 ,  2310353.  ,  2336110.5 ,\n",
        "        2361868.  ,  2387625.5 ,  2413383.25,  2439140.75,  2464898.5 ,\n",
        "        2490656.25,  2516413.75,  2542171.25,  2567928.75,  2593686.5 ], dtype=float32)"
       ]
      }
     ],
     "prompt_number": 9
    },
    {
     "cell_type": "code",
     "collapsed": false,
     "input": [
      "print homme_celibataire_tehr(year = 2014).calculate('salaire_de_base', '2013')\n",
      "print homme_celibataire_tehr(year = 2014).calculate('salaire_de_base', '2014')\n",
      "print homme_celibataire_tehr(year = 2014).calculate('salaire_de_base', '2015')"
     ],
     "language": "python",
     "metadata": {},
     "outputs": [
      {
       "output_type": "stream",
       "stream": "stdout",
       "text": [
        "[ 5000000.  5000000.  5000000.  5000000.  5000000.  5000000.  5000000.\n",
        "  5000000.  5000000.  5000000.  5000000.  5000000.  5000000.  5000000.\n",
        "  5000000.  5000000.  5000000.  5000000.  5000000.  5000000.  5000000.\n",
        "  5000000.  5000000.  5000000.  5000000.  5000000.  5000000.  5000000.\n",
        "  5000000.  5000000.  5000000.  5000000.  5000000.  5000000.  5000000.\n",
        "  5000000.  5000000.  5000000.  5000000.  5000000.  5000000.  5000000.\n",
        "  5000000.  5000000.  5000000.  5000000.  5000000.  5000000.  5000000.\n",
        "  5000000.  5000000.  5000000.  5000000.  5000000.  5000000.  5000000.\n",
        "  5000000.  5000000.  5000000.  5000000.  5000000.  5000000.  5000000.\n",
        "  5000000.  5000000.  5000000.  5000000.  5000000.  5000000.  5000000.\n",
        "  5000000.  5000000.  5000000.  5000000.  5000000.  5000000.  5000000.\n",
        "  5000000.  5000000.  5000000.  5000000.  5000000.  5000000.  5000000.\n",
        "  5000000.  5000000.  5000000.  5000000.  5000000.  5000000.  5000000.\n",
        "  5000000.  5000000.  5000000.  5000000.  5000000.  5000000.  5000000.\n",
        "  5000000.  5000000.]\n",
        "[       0.      50505.05   101010.1    151515.16   202020.2    252525.25\n",
        "   303030.31   353535.34   404040.41   454545.47   505050.5    555555.56\n",
        "   606060.62   656565.69   707070.69   757575.75   808080.81   858585.88\n",
        "   909090.94   959595.94  1010101.    1060606.    1111111.12  1161616.12\n",
        "  1212121.25  1262626.25  1313131.38  1363636.38  1414141.38  1464646.5\n",
        "  1515151.5   1565656.62  1616161.62  1666666.62  1717171.75  1767676.75\n",
        "  1818181.88  1868686.88  1919191.88  1969697.    2020202.    2070707.12\n",
        "  2121212.    2171717.25  2222222.25  2272727.25  2323232.25  2373737.25\n",
        "  2424242.5   2474747.5   2525252.5   2575757.5   2626262.75  2676767.75\n",
        "  2727272.75  2777777.75  2828282.75  2878788.    2929293.    2979798.\n",
        "  3030303.    3080808.    3131313.25  3181818.25  3232323.25  3282828.25\n",
        "  3333333.25  3383838.5   3434343.5   3484848.5   3535353.5   3585858.5\n",
        "  3636363.75  3686868.75  3737373.75  3787878.75  3838383.75  3888889.\n",
        "  3939394.    3989899.    4040404.    4090909.    4141414.25  4191919.25\n",
        "  4242424.    4292929.5   4343434.5   4393939.5   4444444.5   4494949.5\n",
        "  4545454.5   4595959.5   4646464.5   4696969.5   4747474.5   4797980.\n",
        "  4848485.    4898990.    4949495.    5000000.  ]"
       ]
      },
      {
       "output_type": "stream",
       "stream": "stdout",
       "text": [
        "\n",
        "[ 0.  0.  0.  0.  0.  0.  0.  0.  0.  0.  0.  0.  0.  0.  0.  0.  0.  0.\n",
        "  0.  0.  0.  0.  0.  0.  0.  0.  0.  0.  0.  0.  0.  0.  0.  0.  0.  0.\n",
        "  0.  0.  0.  0.  0.  0.  0.  0.  0.  0.  0.  0.  0.  0.  0.  0.  0.  0.\n",
        "  0.  0.  0.  0.  0.  0.  0.  0.  0.  0.  0.  0.  0.  0.  0.  0.  0.  0.\n",
        "  0.  0.  0.  0.  0.  0.  0.  0.  0.  0.  0.  0.  0.  0.  0.  0.  0.  0.\n",
        "  0.  0.  0.  0.  0.  0.  0.  0.  0.  0.]"
       ]
      },
      {
       "output_type": "stream",
       "stream": "stdout",
       "text": [
        "\n"
       ]
      }
     ],
     "prompt_number": 35
    },
    {
     "cell_type": "heading",
     "level": 3,
     "metadata": {},
     "source": [
      "Projet initial: fixer un taux marginal d'IRPP \u00e0 75% pour toute part du revenu excedant 1 Million d'euros"
     ]
    },
    {
     "cell_type": "code",
     "collapsed": false,
     "input": [
      "def homme_celibataire_irpp75(nombre_enfants = 0):\n",
      "    simulation = tax_benef_ir75.new_scenario().init_single_entity(\n",
      "        axes = [\n",
      "            dict(\n",
      "                count = 100,\n",
      "                min = 0,\n",
      "                max = salaire_maximal,\n",
      "                name = 'salaire_de_base',\n",
      "                ),\n",
      "            ],\n",
      "        period = 2013,\n",
      "        parent1 = dict(\n",
      "            birth = date(1980, 1, 1),\n",
      "            salaire_de_base = {\"2012\": salaire_maximal, \"2013\": salaire_maximal}\n",
      "            ),\n",
      "        menage = dict(\n",
      "            loyer = 1000 * 3,\n",
      "            so = 4,\n",
      "            ),\n",
      "        ).new_simulation(debug = True)\n",
      "    return simulation"
     ],
     "language": "python",
     "metadata": {},
     "outputs": [],
     "prompt_number": 46
    },
    {
     "cell_type": "code",
     "collapsed": false,
     "input": [
      "irpp75 = homme_celibataire_irpp75().calculate('salaire_de_base', '2013')\n",
      "irpp75"
     ],
     "language": "python",
     "metadata": {},
     "outputs": [
      {
       "ename": "NameError",
       "evalue": "global name 'year' is not defined",
       "output_type": "pyerr",
       "traceback": [
        "\u001b[0;31m---------------------------------------------------------------------------\u001b[0m\n\u001b[0;31mNameError\u001b[0m                                 Traceback (most recent call last)",
        "\u001b[0;32m<ipython-input-47-67a0397779da>\u001b[0m in \u001b[0;36m<module>\u001b[0;34m()\u001b[0m\n\u001b[0;32m----> 1\u001b[0;31m \u001b[0mirpp75\u001b[0m \u001b[0;34m=\u001b[0m \u001b[0mhomme_celibataire_irpp75\u001b[0m\u001b[0;34m(\u001b[0m\u001b[0;34m)\u001b[0m\u001b[0;34m.\u001b[0m\u001b[0mcalculate\u001b[0m\u001b[0;34m(\u001b[0m\u001b[0;34m'salaire_de_base'\u001b[0m\u001b[0;34m,\u001b[0m \u001b[0;34m'2013'\u001b[0m\u001b[0;34m)\u001b[0m\u001b[0;34m\u001b[0m\u001b[0m\n\u001b[0m\u001b[1;32m      2\u001b[0m \u001b[0mirpp75\u001b[0m\u001b[0;34m\u001b[0m\u001b[0m\n",
        "\u001b[0;32m<ipython-input-46-f5b8509ef486>\u001b[0m in \u001b[0;36mhomme_celibataire_irpp75\u001b[0;34m(nombre_enfants)\u001b[0m\n\u001b[1;32m      9\u001b[0m                 ),\n\u001b[1;32m     10\u001b[0m             ],\n\u001b[0;32m---> 11\u001b[0;31m         \u001b[0mperiod\u001b[0m \u001b[0;34m=\u001b[0m \u001b[0myear\u001b[0m\u001b[0;34m,\u001b[0m\u001b[0;34m\u001b[0m\u001b[0m\n\u001b[0m\u001b[1;32m     12\u001b[0m         parent1 = dict(\n\u001b[1;32m     13\u001b[0m             \u001b[0mbirth\u001b[0m \u001b[0;34m=\u001b[0m \u001b[0mdate\u001b[0m\u001b[0;34m(\u001b[0m\u001b[0;36m1980\u001b[0m\u001b[0;34m,\u001b[0m \u001b[0;36m1\u001b[0m\u001b[0;34m,\u001b[0m \u001b[0;36m1\u001b[0m\u001b[0;34m)\u001b[0m\u001b[0;34m,\u001b[0m\u001b[0;34m\u001b[0m\u001b[0m\n",
        "\u001b[0;31mNameError\u001b[0m: global name 'year' is not defined"
       ]
      }
     ],
     "prompt_number": 47
    },
    {
     "cell_type": "code",
     "collapsed": false,
     "input": [
      "difference_revenu_disponible_2reformes = irpp75 - tehr\n",
      "difference_revenu_disponible_2reformes"
     ],
     "language": "python",
     "metadata": {},
     "outputs": [
      {
       "metadata": {},
       "output_type": "pyout",
       "prompt_number": 39,
       "text": [
        "array([       0.  ,    50505.05,   101010.1 ,   151515.16,   202020.2 ,\n",
        "         252525.25,   303030.31,   353535.34,   404040.41,   454545.47,\n",
        "         505050.5 ,   555555.56,   606060.62,   656565.69,   707070.69,\n",
        "         757575.75,   808080.81,   858585.88,   909090.94,   959595.94,\n",
        "        1015151.5 ,  1090909.  ,  1166666.75,  1242424.25,  1318181.88,\n",
        "        1393939.38,  1469697.  ,  1545454.5 ,  1621212.  ,  1696969.75,\n",
        "        1772727.25,  1848485.  ,  1924242.5 ,  2000000.  ,  2075757.62,\n",
        "        2151515.  ,  2227272.75,  2303030.25,  2378787.75,  2454545.5 ,\n",
        "        2530303.  ,  2606060.75,  2681818.  ,  2757576.  ,  2833333.5 ,\n",
        "        2909091.  ,  2984848.5 ,  3060606.  ,  3136363.75,  3212121.25,\n",
        "        3287878.75,  3363636.25,  3439394.  ,  3515151.5 ,  3590909.  ,\n",
        "        3666666.5 ,  3742424.  ,  3818182.  ,  3893939.5 ,  3969697.  ,\n",
        "        4045454.5 ,  4121212.  ,  4196970.  ,  4272727.5 ,  4348485.  ,\n",
        "        4424242.5 ,  4500000.  ,  4575758.  ,  4651515.  ,  4727273.  ,\n",
        "        4803030.  ,  4878788.  ,  4954545.5 ,  5030303.  ,  5106060.5 ,\n",
        "        5181818.  ,  5257575.5 ,  5333333.5 ,  5409091.  ,  5484848.5 ,\n",
        "        5560606.  ,  5636363.5 ,  5712121.5 ,  5787879.  ,  5863636.  ,\n",
        "        5939394.  ,  6015152.  ,  6090909.  ,  6166667.  ,  6242424.  ,\n",
        "        6318182.  ,  6393939.  ,  6469697.  ,  6545454.  ,  6621212.  ,\n",
        "        6696970.  ,  6772727.5 ,  6848485.  ,  6924242.5 ,  7000000.  ], dtype=float32)"
       ]
      }
     ],
     "prompt_number": 39
    },
    {
     "cell_type": "code",
     "collapsed": false,
     "input": [],
     "language": "python",
     "metadata": {},
     "outputs": [],
     "prompt_number": 12
    },
    {
     "cell_type": "heading",
     "level": 5,
     "metadata": {},
     "source": [
      "Graphique Diff\u00e9rence revenu disponible (entre irpp75/tehr) / revenu imposable"
     ]
    },
    {
     "cell_type": "code",
     "collapsed": false,
     "input": [
      "fig = plt.figure()\n",
      "plt.plot(homme_celibataire_irpp75().calculate('salaire_de_base'), difference_revenu_disponible_2reformes, label = \"macourbe\")\n",
      "plt.legend(loc = 4, shadow=True, fancybox=True)\n",
      "plt.xlim([0,salaire_maximal])"
     ],
     "language": "python",
     "metadata": {},
     "outputs": [
      {
       "metadata": {},
       "output_type": "pyout",
       "prompt_number": 13,
       "text": [
        "(0, 5000000)"
       ]
      },
      {
       "metadata": {},
       "output_type": "display_data",
       "png": "[encoded data removed]",
       "text": [
        "<matplotlib.figure.Figure at 0x7ff2242c2990>"
       ]
      }
     ],
     "prompt_number": 13
    },
    {
     "cell_type": "heading",
     "level": 2,
     "metadata": {},
     "source": [
      "Diff\u00e9rence d'imposition entre les deux r\u00e9formes dans le cadre du quotient familliale (marriage homme/femme avec revenus diff\u00e9rents)"
     ]
    },
    {
     "cell_type": "heading",
     "level": 3,
     "metadata": {},
     "source": [
      "Nouveau projet: taxe exceptionelle sur les hauts revenus"
     ]
    },
    {
     "cell_type": "code",
     "collapsed": false,
     "input": [
      "def couple_sans_enfant_tehr(nombre_enfants = 0, year = 2015):\n",
      "    enfant = [dict(\n",
      "        birth = date(2005, 1, 1),\n",
      "        )]\n",
      "    enfants = enfant * nombre_enfants\n",
      "    simulation = tax_benefit_system.new_scenario().init_single_entity(\n",
      "        axes = [\n",
      "            dict(\n",
      "                count = 100,\n",
      "                min = 0,\n",
      "                max = salaire_maximal * 3,\n",
      "                name = 'sal',\n",
      "                ),\n",
      "            ],\n",
      "        period = \"{}:3\".format(year-2),\n",
      "        parent1 = dict(\n",
      "            birth = date(1980, 1, 1),\n",
      "            ),\n",
      "        parent2 = dict(\n",
      "            birth = date(1980, 1, 1)\n",
      "            ),\n",
      "        menage = dict(\n",
      "            loyer = 1000 * 3,\n",
      "            so = 4,\n",
      "            ),\n",
      "        ).new_simulation(debug = True)\n",
      "    return simulation"
     ],
     "language": "python",
     "metadata": {},
     "outputs": [],
     "prompt_number": 14
    },
    {
     "cell_type": "code",
     "collapsed": false,
     "input": [
      "tehr = couple_sans_enfant_tehr().calculate('revdisp', 2014)\n",
      "tehr"
     ],
     "language": "python",
     "metadata": {},
     "outputs": [
      {
       "metadata": {},
       "output_type": "pyout",
       "prompt_number": 15,
       "text": [
        "array([ 8047.51,  8047.51,  8047.51,  8047.51,  8047.51,  8047.51,\n",
        "        8047.51,  8047.51,  8047.51,  8047.51,  8047.51,  8047.51,\n",
        "        8047.51,  8047.51,  8047.51,  8047.51,  8047.51,  8047.51,\n",
        "        8047.51,  8047.51,  8047.51,  8047.51,  8047.51,  8047.51,\n",
        "        8047.51,  8047.51,  8047.51,  8047.51,  8047.51,  8047.51,\n",
        "        8047.51,  8047.51,  8047.51,  8047.51,  8047.51,  8047.51,\n",
        "        8047.51,  8047.51,  8047.51,  8047.51,  8047.51,  8047.51,\n",
        "        8047.51,  8047.51,  8047.51,  8047.51,  8047.51,  8047.51,\n",
        "        8047.51,  8047.51,  8047.51,  8047.51,  8047.51,  8047.51,\n",
        "        8047.51,  8047.51,  8047.51,  8047.51,  8047.51,  8047.51,\n",
        "        8047.51,  8047.51,  8047.51,  8047.51,  8047.51,  8047.51,\n",
        "        8047.51,  8047.51,  8047.51,  8047.51,  8047.51,  8047.51,\n",
        "        8047.51,  8047.51,  8047.51,  8047.51,  8047.51,  8047.51,\n",
        "        8047.51,  8047.51,  8047.51,  8047.51,  8047.51,  8047.51,\n",
        "        8047.51,  8047.51,  8047.51,  8047.51,  8047.51,  8047.51,\n",
        "        8047.51,  8047.51,  8047.51,  8047.51,  8047.51,  8047.51,\n",
        "        8047.51,  8047.51,  8047.51,  8047.51], dtype=float32)"
       ]
      }
     ],
     "prompt_number": 15
    },
    {
     "cell_type": "heading",
     "level": 3,
     "metadata": {},
     "source": [
      "Projet initial: fixer un taux marginal d'IRPP \u00e0 75% pour toute part du revenu excedant 1 Million d'euros"
     ]
    },
    {
     "cell_type": "code",
     "collapsed": false,
     "input": [
      "def couple_sans_enfant_irpp75(nombre_enfants = 0, year = 2015):\n",
      "    enfant = [dict(\n",
      "        birth = date(2005, 1, 1),\n",
      "        )]\n",
      "    enfants = enfant * nombre_enfants\n",
      "    simulation = tax_benefit_system.new_scenario().init_single_entity(\n",
      "        axes = [\n",
      "            dict(\n",
      "                count = 100,\n",
      "                min = 0,\n",
      "                max = salaire_maximal * 3,\n",
      "                name = 'sal',\n",
      "                ),\n",
      "            ],\n",
      "        period = \"{}:3\".format(year-2),\n",
      "        parent1 = dict(\n",
      "            birth = date(1980, 1, 1),\n",
      "            ),\n",
      "        parent2 = dict(\n",
      "            birth = date(1980, 1, 1)\n",
      "            ),\n",
      "        menage = dict(\n",
      "            loyer = 1000 * 3,\n",
      "            so = 4,\n",
      "            ),\n",
      "        ).new_simulation(debug = True)\n",
      "    return simulation"
     ],
     "language": "python",
     "metadata": {},
     "outputs": [],
     "prompt_number": 16
    },
    {
     "cell_type": "code",
     "collapsed": false,
     "input": [
      "irpp75 = couple_sans_enfant_irpp75().calculate('revdisp')\n",
      "irpp75"
     ],
     "language": "python",
     "metadata": {},
     "outputs": [
      {
       "ename": "AssertionError",
       "evalue": "Requested period 2013:3 differs from 2013 returned by variable revdisp",
       "output_type": "pyerr",
       "traceback": [
        "\u001b[0;31m---------------------------------------------------------------------------\u001b[0m\n\u001b[0;31mAssertionError\u001b[0m                            Traceback (most recent call last)",
        "\u001b[0;32m<ipython-input-17-7e33169a6e97>\u001b[0m in \u001b[0;36m<module>\u001b[0;34m()\u001b[0m\n\u001b[0;32m----> 1\u001b[0;31m \u001b[0mirpp75\u001b[0m \u001b[0;34m=\u001b[0m \u001b[0mcouple_sans_enfant_irpp75\u001b[0m\u001b[0;34m(\u001b[0m\u001b[0;34m)\u001b[0m\u001b[0;34m.\u001b[0m\u001b[0mcalculate\u001b[0m\u001b[0;34m(\u001b[0m\u001b[0;34m'revdisp'\u001b[0m\u001b[0;34m)\u001b[0m\u001b[0;34m\u001b[0m\u001b[0m\n\u001b[0m\u001b[1;32m      2\u001b[0m \u001b[0mirpp75\u001b[0m\u001b[0;34m\u001b[0m\u001b[0m\n",
        "\u001b[0;32m/home/openfisca/openfisca-core/openfisca_core/simulations.pyc\u001b[0m in \u001b[0;36mcalculate\u001b[0;34m(self, column_name, period, accept_other_period, requested_formulas_by_period)\u001b[0m\n\u001b[1;32m     89\u001b[0m             \u001b[0mperiod\u001b[0m \u001b[0;34m=\u001b[0m \u001b[0mself\u001b[0m\u001b[0;34m.\u001b[0m\u001b[0mperiod\u001b[0m\u001b[0;34m\u001b[0m\u001b[0m\n\u001b[1;32m     90\u001b[0m         return self.compute(column_name, period = period, accept_other_period = accept_other_period,\n\u001b[0;32m---> 91\u001b[0;31m             requested_formulas_by_period = requested_formulas_by_period).array\n\u001b[0m\u001b[1;32m     92\u001b[0m \u001b[0;34m\u001b[0m\u001b[0m\n\u001b[1;32m     93\u001b[0m     \u001b[0;32mdef\u001b[0m \u001b[0mcalculate_add\u001b[0m\u001b[0;34m(\u001b[0m\u001b[0mself\u001b[0m\u001b[0;34m,\u001b[0m \u001b[0mcolumn_name\u001b[0m\u001b[0;34m,\u001b[0m \u001b[0mperiod\u001b[0m \u001b[0;34m=\u001b[0m \u001b[0mNone\u001b[0m\u001b[0;34m,\u001b[0m \u001b[0mrequested_formulas_by_period\u001b[0m \u001b[0;34m=\u001b[0m \u001b[0mNone\u001b[0m\u001b[0;34m)\u001b[0m\u001b[0;34m:\u001b[0m\u001b[0;34m\u001b[0m\u001b[0m\n",
        "\u001b[0;32m/home/openfisca/openfisca-core/openfisca_core/simulations.pyc\u001b[0m in \u001b[0;36mcompute\u001b[0;34m(self, column_name, period, accept_other_period, requested_formulas_by_period)\u001b[0m\n\u001b[1;32m    160\u001b[0m                 \u001b[0mcaller_input_variables_infos\u001b[0m\u001b[0;34m.\u001b[0m\u001b[0mappend\u001b[0m\u001b[0;34m(\u001b[0m\u001b[0mvariable_infos\u001b[0m\u001b[0;34m)\u001b[0m\u001b[0;34m\u001b[0m\u001b[0m\n\u001b[1;32m    161\u001b[0m         return self.entity_by_column_name[column_name].compute(column_name, period = period,\n\u001b[0;32m--> 162\u001b[0;31m             accept_other_period = accept_other_period, requested_formulas_by_period = requested_formulas_by_period)\n\u001b[0m\u001b[1;32m    163\u001b[0m \u001b[0;34m\u001b[0m\u001b[0m\n\u001b[1;32m    164\u001b[0m     \u001b[0;32mdef\u001b[0m \u001b[0mcompute_add\u001b[0m\u001b[0;34m(\u001b[0m\u001b[0mself\u001b[0m\u001b[0;34m,\u001b[0m \u001b[0mcolumn_name\u001b[0m\u001b[0;34m,\u001b[0m \u001b[0mperiod\u001b[0m \u001b[0;34m=\u001b[0m \u001b[0mNone\u001b[0m\u001b[0;34m,\u001b[0m \u001b[0mrequested_formulas_by_period\u001b[0m \u001b[0;34m=\u001b[0m \u001b[0mNone\u001b[0m\u001b[0;34m)\u001b[0m\u001b[0;34m:\u001b[0m\u001b[0;34m\u001b[0m\u001b[0m\n",
        "\u001b[0;32m/home/openfisca/openfisca-core/openfisca_core/entities.pyc\u001b[0m in \u001b[0;36mcompute\u001b[0;34m(self, column_name, period, accept_other_period, requested_formulas_by_period)\u001b[0m\n\u001b[1;32m     73\u001b[0m     \u001b[0;32mdef\u001b[0m \u001b[0mcompute\u001b[0m\u001b[0;34m(\u001b[0m\u001b[0mself\u001b[0m\u001b[0;34m,\u001b[0m \u001b[0mcolumn_name\u001b[0m\u001b[0;34m,\u001b[0m \u001b[0mperiod\u001b[0m \u001b[0;34m=\u001b[0m \u001b[0mNone\u001b[0m\u001b[0;34m,\u001b[0m \u001b[0maccept_other_period\u001b[0m \u001b[0;34m=\u001b[0m \u001b[0mFalse\u001b[0m\u001b[0;34m,\u001b[0m \u001b[0mrequested_formulas_by_period\u001b[0m \u001b[0;34m=\u001b[0m \u001b[0mNone\u001b[0m\u001b[0;34m)\u001b[0m\u001b[0;34m:\u001b[0m\u001b[0;34m\u001b[0m\u001b[0m\n\u001b[1;32m     74\u001b[0m         return self.get_or_new_holder(column_name).compute(period = period, accept_other_period = accept_other_period,\n\u001b[0;32m---> 75\u001b[0;31m             requested_formulas_by_period = requested_formulas_by_period)\n\u001b[0m\u001b[1;32m     76\u001b[0m \u001b[0;34m\u001b[0m\u001b[0m\n\u001b[1;32m     77\u001b[0m     \u001b[0;32mdef\u001b[0m \u001b[0mcompute_add\u001b[0m\u001b[0;34m(\u001b[0m\u001b[0mself\u001b[0m\u001b[0;34m,\u001b[0m \u001b[0mcolumn_name\u001b[0m\u001b[0;34m,\u001b[0m \u001b[0mperiod\u001b[0m \u001b[0;34m=\u001b[0m \u001b[0mNone\u001b[0m\u001b[0;34m,\u001b[0m \u001b[0mrequested_formulas_by_period\u001b[0m \u001b[0;34m=\u001b[0m \u001b[0mNone\u001b[0m\u001b[0;34m)\u001b[0m\u001b[0;34m:\u001b[0m\u001b[0;34m\u001b[0m\u001b[0m\n",
        "\u001b[0;32m/home/openfisca/openfisca-core/openfisca_core/holders.pyc\u001b[0m in \u001b[0;36mcompute\u001b[0;34m(self, period, accept_other_period, requested_formulas_by_period)\u001b[0m\n\u001b[1;32m    162\u001b[0m                 \u001b[0;32massert\u001b[0m \u001b[0maccept_other_period\u001b[0m \u001b[0;32mor\u001b[0m \u001b[0mformula_dated_holder\u001b[0m\u001b[0;34m.\u001b[0m\u001b[0mperiod\u001b[0m \u001b[0;34m==\u001b[0m \u001b[0mperiod\u001b[0m\u001b[0;34m,\u001b[0m\u001b[0;31m \u001b[0m\u001b[0;31m\\\u001b[0m\u001b[0;34m\u001b[0m\u001b[0m\n\u001b[1;32m    163\u001b[0m                     u\"Requested period {} differs from {} returned by variable {}\".format(period,\n\u001b[0;32m--> 164\u001b[0;31m                         formula_dated_holder.period, column.name)\n\u001b[0m\u001b[1;32m    165\u001b[0m             \u001b[0;32mreturn\u001b[0m \u001b[0mformula_dated_holder\u001b[0m\u001b[0;34m\u001b[0m\u001b[0m\n\u001b[1;32m    166\u001b[0m         \u001b[0marray\u001b[0m \u001b[0;34m=\u001b[0m \u001b[0mnp\u001b[0m\u001b[0;34m.\u001b[0m\u001b[0mempty\u001b[0m\u001b[0;34m(\u001b[0m\u001b[0mentity\u001b[0m\u001b[0;34m.\u001b[0m\u001b[0mcount\u001b[0m\u001b[0;34m,\u001b[0m \u001b[0mdtype\u001b[0m \u001b[0;34m=\u001b[0m \u001b[0mcolumn\u001b[0m\u001b[0;34m.\u001b[0m\u001b[0mdtype\u001b[0m\u001b[0;34m)\u001b[0m\u001b[0;34m\u001b[0m\u001b[0m\n",
        "\u001b[0;31mAssertionError\u001b[0m: Requested period 2013:3 differs from 2013 returned by variable revdisp"
       ]
      }
     ],
     "prompt_number": 17
    },
    {
     "cell_type": "code",
     "collapsed": false,
     "input": [
      "difference_revenu_disponible_2reformes = irpp75 - tehr\n",
      "difference_revenu_disponible_2reformes"
     ],
     "language": "python",
     "metadata": {},
     "outputs": []
    },
    {
     "cell_type": "heading",
     "level": 5,
     "metadata": {},
     "source": [
      "Graphique Diff\u00e9rence revenu disponible (entre irpp75/tehr) / revenu imposable"
     ]
    },
    {
     "cell_type": "code",
     "collapsed": false,
     "input": [
      "fig = plt.figure()\n",
      "plt.plot(couple_avec_enfants_irpp75().calculate('salaire_de_base'), difference_revenu_disponible_2reformes, label = \"macourbe\")\n",
      "plt.legend(loc = 4, shadow=True, fancybox=True)\n",
      "plt.xlim([0,salaire_maximal])"
     ],
     "language": "python",
     "metadata": {},
     "outputs": []
    },
    {
     "cell_type": "heading",
     "level": 2,
     "metadata": {},
     "source": [
      "Incitation \u00e0 se marrier"
     ]
    },
    {
     "cell_type": "heading",
     "level": 3,
     "metadata": {},
     "source": [
      "Incitation \u00e0 se marrier sous le projet initial"
     ]
    },
    {
     "cell_type": "code",
     "collapsed": false,
     "input": [
      "D\u00e9finir Couple non-mari\u00e9"
     ],
     "language": "python",
     "metadata": {},
     "outputs": []
    },
    {
     "cell_type": "code",
     "collapsed": false,
     "input": [
      "D\u00e9terminer revenu disponible"
     ],
     "language": "python",
     "metadata": {},
     "outputs": []
    },
    {
     "cell_type": "code",
     "collapsed": false,
     "input": [
      "Graphique revenu Revenu disponible / revenu imposable"
     ],
     "language": "python",
     "metadata": {},
     "outputs": []
    },
    {
     "cell_type": "code",
     "collapsed": false,
     "input": [],
     "language": "python",
     "metadata": {},
     "outputs": []
    },
    {
     "cell_type": "code",
     "collapsed": false,
     "input": [
      "D\u00e9finir Couple mari\u00e9"
     ],
     "language": "python",
     "metadata": {},
     "outputs": []
    },
    {
     "cell_type": "code",
     "collapsed": false,
     "input": [
      "D\u00e9terminer revenu disponible"
     ],
     "language": "python",
     "metadata": {},
     "outputs": []
    },
    {
     "cell_type": "code",
     "collapsed": false,
     "input": [
      "Graphique revenu disponible / revenu imposable"
     ],
     "language": "python",
     "metadata": {},
     "outputs": []
    },
    {
     "cell_type": "code",
     "collapsed": false,
     "input": [],
     "language": "python",
     "metadata": {},
     "outputs": []
    },
    {
     "cell_type": "code",
     "collapsed": false,
     "input": [
      "Definir A = diff\u00e9rence entre le revenu disponible du couple non-mari\u00e9 et celui du couple mari\u00e9"
     ],
     "language": "python",
     "metadata": {},
     "outputs": []
    },
    {
     "cell_type": "heading",
     "level": 2,
     "metadata": {},
     "source": [
      "Graphique diff\u00e9rence entre le revenu disponible du couple non-mari\u00e9 et celui du couple mari\u00e9 / revenu imposable"
     ]
    },
    {
     "cell_type": "heading",
     "level": 3,
     "metadata": {},
     "source": [
      "Incitation \u00e0 se marrier sous la loi des finances 2013"
     ]
    },
    {
     "cell_type": "code",
     "collapsed": false,
     "input": [
      "D\u00e9finir Couple non-mari\u00e9"
     ],
     "language": "python",
     "metadata": {},
     "outputs": []
    },
    {
     "cell_type": "code",
     "collapsed": false,
     "input": [
      "D\u00e9terminer revenu disponible"
     ],
     "language": "python",
     "metadata": {},
     "outputs": [
      {
       "ename": "SyntaxError",
       "evalue": "invalid syntax (<ipython-input-15-707aa5998098>, line 1)",
       "output_type": "pyerr",
       "traceback": [
        "\u001b[0;36m  File \u001b[0;32m\"<ipython-input-15-707aa5998098>\"\u001b[0;36m, line \u001b[0;32m1\u001b[0m\n\u001b[0;31m    D\u00e9terminer revenu disponible\u001b[0m\n\u001b[0m     ^\u001b[0m\n\u001b[0;31mSyntaxError\u001b[0m\u001b[0;31m:\u001b[0m invalid syntax\n"
       ]
      }
     ],
     "prompt_number": 15
    },
    {
     "cell_type": "code",
     "collapsed": false,
     "input": [
      "Graphique revenu Revenu disponible / revenu imposable"
     ],
     "language": "python",
     "metadata": {},
     "outputs": []
    },
    {
     "cell_type": "code",
     "collapsed": false,
     "input": [],
     "language": "python",
     "metadata": {},
     "outputs": []
    },
    {
     "cell_type": "code",
     "collapsed": false,
     "input": [
      "D\u00e9finir Couple mari\u00e9"
     ],
     "language": "python",
     "metadata": {},
     "outputs": []
    },
    {
     "cell_type": "code",
     "collapsed": false,
     "input": [
      "D\u00e9terminer revenu disponible"
     ],
     "language": "python",
     "metadata": {},
     "outputs": []
    },
    {
     "cell_type": "code",
     "collapsed": false,
     "input": [
      "Graphique revenu disponible / revenu imposable"
     ],
     "language": "python",
     "metadata": {},
     "outputs": []
    },
    {
     "cell_type": "code",
     "collapsed": false,
     "input": [],
     "language": "python",
     "metadata": {},
     "outputs": []
    },
    {
     "cell_type": "code",
     "collapsed": false,
     "input": [
      "Definir B = diff\u00e9rence entre le revenu disponible du couple non-mari\u00e9 et celui du couple mari\u00e9"
     ],
     "language": "python",
     "metadata": {},
     "outputs": []
    },
    {
     "cell_type": "code",
     "collapsed": false,
     "input": [
      "Graphique diff\u00e9rence entre le revenu disponible du couple non-mari\u00e9 et celui du couple mari\u00e9 / revenu imposable"
     ],
     "language": "python",
     "metadata": {},
     "outputs": []
    },
    {
     "cell_type": "heading",
     "level": 3,
     "metadata": {},
     "source": [
      "Diff\u00e9rence d'incitation au marriage entre les deux r\u00e9formes"
     ]
    },
    {
     "cell_type": "code",
     "collapsed": false,
     "input": [
      "A - B"
     ],
     "language": "python",
     "metadata": {},
     "outputs": [
      {
       "ename": "NameError",
       "evalue": "name 'A' is not defined",
       "output_type": "pyerr",
       "traceback": [
        "\u001b[0;31m---------------------------------------------------------------------------\u001b[0m\n\u001b[0;31mNameError\u001b[0m                                 Traceback (most recent call last)",
        "\u001b[0;32m<ipython-input-16-53767d6403f6>\u001b[0m in \u001b[0;36m<module>\u001b[0;34m()\u001b[0m\n\u001b[0;32m----> 1\u001b[0;31m \u001b[0mA\u001b[0m \u001b[0;34m-\u001b[0m \u001b[0mB\u001b[0m\u001b[0;34m\u001b[0m\u001b[0m\n\u001b[0m",
        "\u001b[0;31mNameError\u001b[0m: name 'A' is not defined"
       ]
      }
     ],
     "prompt_number": 16
    },
    {
     "cell_type": "code",
     "collapsed": false,
     "input": [
      "Graphique A - B / revenu imposable"
     ],
     "language": "python",
     "metadata": {},
     "outputs": []
    },
    {
     "cell_type": "code",
     "collapsed": false,
     "input": [
      "simulation_menage_1et2 = tax_benefit_system.new_scenario().init_single_entity(\n",
      "    period = \"2012:3\",\n",
      "    parent1 = dict(\n",
      "        birth = date(1980, 1, 1),\n",
      "        sal = 100000 * 3,\n",
      "        statmarit = 1, #il faut que les individus soient mari\u00e9s pour b\u00e9n\u00e9ficier du QF\n",
      "        ),\n",
      "    parent2 = dict(\n",
      "        birth = date(1980, 1, 1),\n",
      "        sal = 80000 * 3,\n",
      "        statmarit = 1, #modif\n",
      "    )\n",
      "    \n",
      "    ).new_simulation(debug = True)"
     ],
     "language": "python",
     "metadata": {},
     "outputs": []
    }
   ],
   "metadata": {}
  }
 ]
}