{
 "metadata": {
  "name": "",
  "signature": "sha256:6f344bc68a0454848ac518cf0718344e0be1dc63c9730155c081a0445d175bb0"
 },
 "nbformat": 3,
 "nbformat_minor": 0,
 "worksheets": [
  {
   "cells": [
    {
     "cell_type": "heading",
     "level": 1,
     "metadata": {},
     "source": [
      "Projet de taxation marginale \u00e0 75% sur les revenus > 1 Million \u20ac"
     ]
    },
    {
     "cell_type": "code",
     "collapsed": false,
     "input": [],
     "language": "python",
     "metadata": {},
     "outputs": [],
     "prompt_number": 1
    },
    {
     "cell_type": "heading",
     "level": 3,
     "metadata": {},
     "source": [
      "Initialisation"
     ]
    },
    {
     "cell_type": "code",
     "collapsed": false,
     "input": [
      "from openfisca_france.reforms import cesthra_invalidee\n",
      "from openfisca_france.tests import base"
     ],
     "language": "python",
     "metadata": {},
     "outputs": [],
     "prompt_number": 10
    },
    {
     "cell_type": "code",
     "collapsed": false,
     "input": [
      "%matplotlib inline\n",
      "import matplotlib.pyplot as plt\n",
      "import numpy as np\n",
      "np.set_printoptions(suppress=True, precision=2) #permet d'imprimer les array avec juste 2 chiffres et sans notation scientifique.\n",
      "from openfisca_matplotlib import graphs"
     ],
     "language": "python",
     "metadata": {},
     "outputs": [],
     "prompt_number": 11
    },
    {
     "cell_type": "code",
     "collapsed": false,
     "input": [
      "from datetime import date  # module n\u00e9cessaire pour la d\u00e9finition des dates, dont notamment les dates de naissances\n",
      "\n",
      "from openfisca_core import periods\n",
      "import openfisca_france    # module d\u00e9crivant le syst\u00e8me socio-fiscal fran\u00e7ais\n",
      "\n",
      "TaxBenefitSystem = openfisca_france.init_country()  # Initialisation de la classe d\u00e9crivant le syst\u00e8me socio-fiscal fran\u00e7ais\n",
      "tax_benefit_system = TaxBenefitSystem()  # Cr\u00e9ation d'une instance du syst\u00e8me socio-fiscal fran\u00e7ais \n",
      "tax_benef_ir75 = cesthra_invalidee.build_reform(base.tax_benefit_system)"
     ],
     "language": "python",
     "metadata": {},
     "outputs": [],
     "prompt_number": 12
    },
    {
     "cell_type": "code",
     "collapsed": false,
     "input": [
      "salaire_maximal = 5000000"
     ],
     "language": "python",
     "metadata": {},
     "outputs": [],
     "prompt_number": 13
    },
    {
     "cell_type": "heading",
     "level": 3,
     "metadata": {},
     "source": [
      "Nouveau projet: taxe exceptionelle sur les hauts revenus"
     ]
    },
    {
     "cell_type": "code",
     "collapsed": false,
     "input": [
      "def homme_celibataire_tehr(nombre_enfants = 0, year = 2014):\n",
      "    simulation = tax_benefit_system.new_scenario().init_single_entity(\n",
      "        axes = [\n",
      "            dict(\n",
      "                count = 100,\n",
      "                min = 0,\n",
      "                max = salaire_maximal,\n",
      "                name = 'salsuperbrut',\n",
      "                ),\n",
      "            ],\n",
      "        period = year,\n",
      "        parent1 = dict(\n",
      "            birth = date(1980, 1, 1),\n",
      "            salsuperbrut = {\"2013\": salaire_maximal, \"2014\": salaire_maximal}\n",
      "            ),\n",
      "        menage = dict(\n",
      "            loyer = 1000 * 3,\n",
      "            so = 4,\n",
      "            ),\n",
      "        ).new_simulation(debug = True)\n",
      "    return simulation"
     ],
     "language": "python",
     "metadata": {},
     "outputs": [],
     "prompt_number": 16
    },
    {
     "cell_type": "code",
     "collapsed": false,
     "input": [
      "tehr = homme_celibataire_tehr(year = 2014).calculate('tehr', '2014')\n",
      "print 'tehr', tehr\n",
      "cehr = homme_celibataire_tehr(year = 2014).calculate('cehr', '2014')\n",
      "print 'cehr', cehr\n",
      "irpp = homme_celibataire_tehr(year = 2014).calculate('irpp', '2014')\n",
      "print 'irpp' , irpp\n",
      "rni = homme_celibataire_tehr(year = 2014).calculate('rni', '2014') #revenu net imposable"
     ],
     "language": "python",
     "metadata": {},
     "outputs": [
      {
       "output_type": "stream",
       "stream": "stdout",
       "text": [
        "tehr [      -0.         -0.         -0.         -0.         -0.         -0.\n",
        "       -0.         -0.         -0.         -0.         -0.         -0.\n",
        "       -0.         -0.         -0.         -0.         -0.         -0.\n",
        "       -0.         -0.      -5050.5    -30303.     -55555.56   -80808.06\n",
        "  -106060.62  -131313.12  -156565.69  -181818.19  -207070.69  -232323.25\n",
        "  -257575.75  -282828.31  -308080.81  -333333.31  -358585.88  -383838.38\n",
        "  -409090.94  -434343.44  -459595.94  -484848.5   -510101.    -535353.56\n",
        "  -560606.    -585858.62  -611111.12  -636363.62  -661616.12  -686868.62\n",
        "  -712121.25  -737373.75  -762626.25  -787878.75  -813131.38  -838383.88\n",
        "  -863636.38  -888888.88  -914141.38  -939394.    -964646.5   -989899.\n",
        " -1015151.5  -1040404.   -1065656.62 -1090909.12 -1116161.62 -1141414.12\n",
        " -1166666.62 -1191919.25 -1217171.75 -1242424.25 -1267676.75 -1292929.25\n",
        " -1318181.88 -1343434.38 -1368686.88 -1393939.38 -1419191.88 -1444444.5\n",
        " -1469697.   -1494949.5  -1520202.   -1545454.5  -1570707.12 -1595959.62\n",
        " -1621212.   -1646464.75 -1671717.25 -1696969.75 -1722222.25 -1747474.75\n",
        " -1772727.25 -1797979.75 -1823232.25 -1848484.75 -1873737.25 -1898990.\n",
        " -1924242.5  -1949495.   -1974747.5  -2000000.  ]\n",
        "cehr"
       ]
      },
      {
       "output_type": "stream",
       "stream": "stdout",
       "text": [
        " [      0.         0.         0.         0.         0.         0.      1228.\n",
        "    2743.15    4258.3     5773.45    7288.6     9238.34   11258.54\n",
        "   13278.75   15298.95   17319.15   19339.35   21359.55   23379.76\n",
        "   25399.96   27420.16   29440.36   31460.56   33480.77   35500.97\n",
        "   37521.17   39541.38   41561.57   43581.77   45601.98   47622.18\n",
        "   49642.39   51662.59   53682.79   55702.99   57723.19   59743.39\n",
        "   61763.59   63783.8    65804.     67824.2    69844.41   71864.6\n",
        "   73884.81   75905.01   77925.21   79945.41   81965.61   83985.82\n",
        "   86006.02   88026.22   90046.42   92066.63   94086.83   96107.03\n",
        "   98127.23  100147.43  102167.64  104187.84  106208.04  108228.24\n",
        "  110248.44  112268.65  114288.85  116309.05  118329.25  120349.45\n",
        "  122369.66  124389.86  126410.06  128430.26  130450.46  132470.67\n",
        "  134490.88  136511.06  138531.27  140551.47  142571.69  144591.88\n",
        "  146612.08  148632.28  150652.48  152672.69  154692.89  156713.08\n",
        "  158733.3   160753.5   162773.7   164793.91  166814.09  168834.3   170854.5\n",
        "  172874.7   174894.91  176915.09  178935.31  180955.52  182975.72\n",
        "  184995.92  187016.12]\n",
        "irpp"
       ]
      },
      {
       "output_type": "stream",
       "stream": "stdout",
       "text": [
        " [       0.      -7997.38   -23740.95   -43629.66   -65885.66   -88612.93\n",
        "  -112568.21  -136810.62  -161053.05  -185295.48  -209537.91  -234214.92\n",
        "  -258962.39  -283709.88  -308457.31  -333204.81  -357952.28  -382699.78\n",
        "  -407447.25  -432194.72  -456942.19  -481689.62  -506437.12  -531184.56\n",
        "  -555932.12  -580679.56  -605427.06  -630174.5   -654921.94  -679669.5\n",
        "  -704416.94  -729164.44  -753911.88  -778659.38  -803406.88  -828154.31\n",
        "  -852901.81  -877649.25  -902396.75  -927144.25  -951891.69  -976639.12\n",
        " -1001386.62 -1026134.12 -1050881.62 -1075629.   -1100376.5  -1125123.88\n",
        " -1149871.62 -1174619.   -1199366.5  -1224113.88 -1248861.38 -1273608.88\n",
        " -1298356.25 -1323103.75 -1347851.12 -1372598.75 -1397346.25 -1422093.62\n",
        " -1446841.12 -1471588.5  -1496336.12 -1521083.62 -1545831.   -1570578.5\n",
        " -1595326.   -1620073.5  -1644821.   -1669568.5  -1694315.88 -1719063.38\n",
        " -1743810.88 -1768558.38 -1793305.75 -1818053.25 -1842800.75 -1867548.25\n",
        " -1892295.75 -1917043.25 -1941790.62 -1966538.12 -1991285.75 -2016033.12\n",
        " -2040780.5  -2065528.12 -2090275.62 -2115023.   -2139770.5  -2164518.\n",
        " -2189265.5  -2214013.   -2238760.25 -2263507.75 -2288255.   -2313002.75\n",
        " -2337750.25 -2362497.75 -2387245.25 -2411992.5 ]\n"
       ]
      }
     ],
     "prompt_number": 17
    },
    {
     "cell_type": "heading",
     "level": 3,
     "metadata": {},
     "source": [
      "Taux de cotisation sociale en fontion du revenu :"
     ]
    },
    {
     "cell_type": "code",
     "collapsed": false,
     "input": [
      "print homme_celibataire_tehr(year = 2014).calculate('cotisations_salariales', '2014')\n",
      "a = abs(simulation.calculate('cotisations_salariales') #la fonction abs() renvoie la valeur absolue.\n",
      "    + simulation.calculate('csgsald') \n",
      "    + simulation.calculate('csgsali')\n",
      "    + simulation.calculate('crdssal')\n",
      "    )/simulation.calculate('salbrut')  #on fait la somme des cotisations et on divise par le salaire brut.\n",
      "print a"
     ],
     "language": "python",
     "metadata": {},
     "outputs": []
    },
    {
     "cell_type": "code",
     "collapsed": false,
     "input": [
      "revdisp = homme_celibataire_tehr(year = 2014).calculate('revdisp', '2014')\n",
      "revdisp \n",
      "salaire_de_base =  homme_celibataire_tehr(year = 2014).calculate('salaire_de_base', '2014')\n",
      "impo = homme_celibataire_tehr(year = 2014).calculate('impo', '2014')\n",
      "\n",
      "taux_de_cotisation_sociale_approx = ((revdisp + impo)[1:]/salaire_de_base[1:])\n",
      "print taux_de_cotisation_sociale_approx"
     ],
     "language": "python",
     "metadata": {},
     "outputs": [],
     "prompt_number": 25
    },
    {
     "cell_type": "code",
     "collapsed": false,
     "input": [
      "fig = plt.figure()\n",
      "plt.plot(salaire_de_base[1:], taux_de_cotisation_sociale_approx, label = \"taux moyen cotsoc approxime\")\n",
      "plt.legend(loc = 2, shadow=True, fancybox=False, bbox_to_anchor=(1.05, 1), borderaxespad=0.)\n",
      "plt.xlim([0,salaire_maximal])"
     ],
     "language": "python",
     "metadata": {},
     "outputs": [
      {
       "metadata": {},
       "output_type": "pyout",
       "prompt_number": 28,
       "text": [
        "(0, 5000000)"
       ]
      },
      {
       "metadata": {},
       "output_type": "display_data",
       "png": "[encoded data removed]",
       "text": [
        "<matplotlib.figure.Figure at 0x7ff435a64690>"
       ]
      }
     ],
     "prompt_number": 28
    },
    {
     "cell_type": "code",
     "collapsed": false,
     "input": [
      "homme_celibataire_tehr(year = 2014).calculate('csgsald', '2014')"
     ],
     "language": "python",
     "metadata": {},
     "outputs": [
      {
       "ename": "AssertionError",
       "evalue": "Requested period 2014 differs from 2014-01 returned by variable csgsald",
       "output_type": "pyerr",
       "traceback": [
        "\u001b[0;31m---------------------------------------------------------------------------\u001b[0m\n\u001b[0;31mAssertionError\u001b[0m                            Traceback (most recent call last)",
        "\u001b[0;32m<ipython-input-18-b0a05c83f292>\u001b[0m in \u001b[0;36m<module>\u001b[0;34m()\u001b[0m\n\u001b[0;32m----> 1\u001b[0;31m \u001b[0mhomme_celibataire_tehr\u001b[0m\u001b[0;34m(\u001b[0m\u001b[0myear\u001b[0m \u001b[0;34m=\u001b[0m \u001b[0;36m2014\u001b[0m\u001b[0;34m)\u001b[0m\u001b[0;34m.\u001b[0m\u001b[0mcalculate\u001b[0m\u001b[0;34m(\u001b[0m\u001b[0;34m'csgsald'\u001b[0m\u001b[0;34m,\u001b[0m \u001b[0;34m'2014'\u001b[0m\u001b[0;34m)\u001b[0m\u001b[0;34m\u001b[0m\u001b[0m\n\u001b[0m",
        "\u001b[0;32m/home/openfisca/openfisca-core/openfisca_core/simulations.pyc\u001b[0m in \u001b[0;36mcalculate\u001b[0;34m(self, column_name, period, accept_other_period, requested_formulas_by_period)\u001b[0m\n\u001b[1;32m     89\u001b[0m             \u001b[0mperiod\u001b[0m \u001b[0;34m=\u001b[0m \u001b[0mself\u001b[0m\u001b[0;34m.\u001b[0m\u001b[0mperiod\u001b[0m\u001b[0;34m\u001b[0m\u001b[0m\n\u001b[1;32m     90\u001b[0m         return self.compute(column_name, period = period, accept_other_period = accept_other_period,\n\u001b[0;32m---> 91\u001b[0;31m             requested_formulas_by_period = requested_formulas_by_period).array\n\u001b[0m\u001b[1;32m     92\u001b[0m \u001b[0;34m\u001b[0m\u001b[0m\n\u001b[1;32m     93\u001b[0m     \u001b[0;32mdef\u001b[0m \u001b[0mcalculate_add\u001b[0m\u001b[0;34m(\u001b[0m\u001b[0mself\u001b[0m\u001b[0;34m,\u001b[0m \u001b[0mcolumn_name\u001b[0m\u001b[0;34m,\u001b[0m \u001b[0mperiod\u001b[0m \u001b[0;34m=\u001b[0m \u001b[0mNone\u001b[0m\u001b[0;34m,\u001b[0m \u001b[0mrequested_formulas_by_period\u001b[0m \u001b[0;34m=\u001b[0m \u001b[0mNone\u001b[0m\u001b[0;34m)\u001b[0m\u001b[0;34m:\u001b[0m\u001b[0;34m\u001b[0m\u001b[0m\n",
        "\u001b[0;32m/home/openfisca/openfisca-core/openfisca_core/simulations.pyc\u001b[0m in \u001b[0;36mcompute\u001b[0;34m(self, column_name, period, accept_other_period, requested_formulas_by_period)\u001b[0m\n\u001b[1;32m    160\u001b[0m                 \u001b[0mcaller_input_variables_infos\u001b[0m\u001b[0;34m.\u001b[0m\u001b[0mappend\u001b[0m\u001b[0;34m(\u001b[0m\u001b[0mvariable_infos\u001b[0m\u001b[0;34m)\u001b[0m\u001b[0;34m\u001b[0m\u001b[0m\n\u001b[1;32m    161\u001b[0m         return self.entity_by_column_name[column_name].compute(column_name, period = period,\n\u001b[0;32m--> 162\u001b[0;31m             accept_other_period = accept_other_period, requested_formulas_by_period = requested_formulas_by_period)\n\u001b[0m\u001b[1;32m    163\u001b[0m \u001b[0;34m\u001b[0m\u001b[0m\n\u001b[1;32m    164\u001b[0m     \u001b[0;32mdef\u001b[0m \u001b[0mcompute_add\u001b[0m\u001b[0;34m(\u001b[0m\u001b[0mself\u001b[0m\u001b[0;34m,\u001b[0m \u001b[0mcolumn_name\u001b[0m\u001b[0;34m,\u001b[0m \u001b[0mperiod\u001b[0m \u001b[0;34m=\u001b[0m \u001b[0mNone\u001b[0m\u001b[0;34m,\u001b[0m \u001b[0mrequested_formulas_by_period\u001b[0m \u001b[0;34m=\u001b[0m \u001b[0mNone\u001b[0m\u001b[0;34m)\u001b[0m\u001b[0;34m:\u001b[0m\u001b[0;34m\u001b[0m\u001b[0m\n",
        "\u001b[0;32m/home/openfisca/openfisca-core/openfisca_core/entities.pyc\u001b[0m in \u001b[0;36mcompute\u001b[0;34m(self, column_name, period, accept_other_period, requested_formulas_by_period)\u001b[0m\n\u001b[1;32m     73\u001b[0m     \u001b[0;32mdef\u001b[0m \u001b[0mcompute\u001b[0m\u001b[0;34m(\u001b[0m\u001b[0mself\u001b[0m\u001b[0;34m,\u001b[0m \u001b[0mcolumn_name\u001b[0m\u001b[0;34m,\u001b[0m \u001b[0mperiod\u001b[0m \u001b[0;34m=\u001b[0m \u001b[0mNone\u001b[0m\u001b[0;34m,\u001b[0m \u001b[0maccept_other_period\u001b[0m \u001b[0;34m=\u001b[0m \u001b[0mFalse\u001b[0m\u001b[0;34m,\u001b[0m \u001b[0mrequested_formulas_by_period\u001b[0m \u001b[0;34m=\u001b[0m \u001b[0mNone\u001b[0m\u001b[0;34m)\u001b[0m\u001b[0;34m:\u001b[0m\u001b[0;34m\u001b[0m\u001b[0m\n\u001b[1;32m     74\u001b[0m         return self.get_or_new_holder(column_name).compute(period = period, accept_other_period = accept_other_period,\n\u001b[0;32m---> 75\u001b[0;31m             requested_formulas_by_period = requested_formulas_by_period)\n\u001b[0m\u001b[1;32m     76\u001b[0m \u001b[0;34m\u001b[0m\u001b[0m\n\u001b[1;32m     77\u001b[0m     \u001b[0;32mdef\u001b[0m \u001b[0mcompute_add\u001b[0m\u001b[0;34m(\u001b[0m\u001b[0mself\u001b[0m\u001b[0;34m,\u001b[0m \u001b[0mcolumn_name\u001b[0m\u001b[0;34m,\u001b[0m \u001b[0mperiod\u001b[0m \u001b[0;34m=\u001b[0m \u001b[0mNone\u001b[0m\u001b[0;34m,\u001b[0m \u001b[0mrequested_formulas_by_period\u001b[0m \u001b[0;34m=\u001b[0m \u001b[0mNone\u001b[0m\u001b[0;34m)\u001b[0m\u001b[0;34m:\u001b[0m\u001b[0;34m\u001b[0m\u001b[0m\n",
        "\u001b[0;32m/home/openfisca/openfisca-core/openfisca_core/holders.pyc\u001b[0m in \u001b[0;36mcompute\u001b[0;34m(self, period, accept_other_period, requested_formulas_by_period)\u001b[0m\n\u001b[1;32m    162\u001b[0m                 \u001b[0;32massert\u001b[0m \u001b[0maccept_other_period\u001b[0m \u001b[0;32mor\u001b[0m \u001b[0mformula_dated_holder\u001b[0m\u001b[0;34m.\u001b[0m\u001b[0mperiod\u001b[0m \u001b[0;34m==\u001b[0m \u001b[0mperiod\u001b[0m\u001b[0;34m,\u001b[0m\u001b[0;31m \u001b[0m\u001b[0;31m\\\u001b[0m\u001b[0;34m\u001b[0m\u001b[0m\n\u001b[1;32m    163\u001b[0m                     u\"Requested period {} differs from {} returned by variable {}\".format(period,\n\u001b[0;32m--> 164\u001b[0;31m                         formula_dated_holder.period, column.name)\n\u001b[0m\u001b[1;32m    165\u001b[0m             \u001b[0;32mreturn\u001b[0m \u001b[0mformula_dated_holder\u001b[0m\u001b[0;34m\u001b[0m\u001b[0m\n\u001b[1;32m    166\u001b[0m         \u001b[0marray\u001b[0m \u001b[0;34m=\u001b[0m \u001b[0mnp\u001b[0m\u001b[0;34m.\u001b[0m\u001b[0mempty\u001b[0m\u001b[0;34m(\u001b[0m\u001b[0mentity\u001b[0m\u001b[0;34m.\u001b[0m\u001b[0mcount\u001b[0m\u001b[0;34m,\u001b[0m \u001b[0mdtype\u001b[0m \u001b[0;34m=\u001b[0m \u001b[0mcolumn\u001b[0m\u001b[0;34m.\u001b[0m\u001b[0mdtype\u001b[0m\u001b[0;34m)\u001b[0m\u001b[0;34m\u001b[0m\u001b[0m\n",
        "\u001b[0;31mAssertionError\u001b[0m: Requested period 2014 differs from 2014-01 returned by variable csgsald"
       ]
      }
     ],
     "prompt_number": 18
    },
    {
     "cell_type": "code",
     "collapsed": false,
     "input": [
      "cotsoc = np.zeros(salaire_de_base.shape)\n",
      "for variable in ['cotisations_salariales', ]: #'csgsald','csgsali', 'crdssal'\n",
      "    cotsoc += homme_celibataire_tehr(year = 2014).calculate(variable, '2014')\n",
      "taux_cotsoc = abs(cotsoc) / homme_celibataire_tehr.calculate('salbrut', '2014')  #on fait la somme des cotisations et on divise par le salaire brut.\n",
      "print cotsoc"
     ],
     "language": "python",
     "metadata": {},
     "outputs": [],
     "prompt_number": 21
    },
    {
     "cell_type": "code",
     "collapsed": false,
     "input": [
      "a = abs(simulation.calculate('cotisations_salariales') #la fonction abs() renvoie la valeur absolue.\n",
      "    + simulation.calculate('csgsald') \n",
      "    + simulation.calculate('csgsali')\n",
      "    + simulation.calculate('crdssal')\n",
      "    )/simulation.calculate('salbrut')  #on fait la somme des cotisations et on divise par le salaire brut.\n",
      "print a"
     ],
     "language": "python",
     "metadata": {},
     "outputs": [],
     "prompt_number": 22
    },
    {
     "cell_type": "code",
     "collapsed": false,
     "input": [
      "print homme_celibataire_tehr(year = 2014).calculate('salaire_de_base', '2013')\n",
      "print homme_celibataire_tehr(year = 2014).calculate('salaire_de_base', '2014')\n",
      "print homme_celibataire_tehr(year = 2014).calculate('salaire_de_base', '2015')"
     ],
     "language": "python",
     "metadata": {},
     "outputs": []
    },
    {
     "cell_type": "heading",
     "level": 3,
     "metadata": {},
     "source": [
      "Projet initial: fixer un taux marginal d'IRPP \u00e0 75% pour toute part du revenu excedant 1 Million d'euros"
     ]
    },
    {
     "cell_type": "code",
     "collapsed": false,
     "input": [
      "def homme_celibataire_irpp75(nombre_enfants = 0):\n",
      "    simulation = tax_benef_ir75.new_scenario().init_single_entity(\n",
      "        axes = [\n",
      "            dict(\n",
      "                count = 100,\n",
      "                min = 0,\n",
      "                max = salaire_maximal,\n",
      "                name = 'salaire_de_base',\n",
      "                ),\n",
      "            ],\n",
      "        period = 2013,\n",
      "        parent1 = dict(\n",
      "            birth = date(1980, 1, 1),\n",
      "            salaire_de_base = {\"2012\": salaire_maximal, \"2013\": salaire_maximal}\n",
      "            ),\n",
      "        menage = dict(\n",
      "            loyer = 1000 * 3,\n",
      "            so = 4,\n",
      "            ),\n",
      "        ).new_simulation(debug = True)\n",
      "    return simulation"
     ],
     "language": "python",
     "metadata": {},
     "outputs": []
    },
    {
     "cell_type": "code",
     "collapsed": false,
     "input": [
      "irpp75 = homme_celibataire_irpp75().calculate('salaire_de_base', '2013')\n",
      "irpp75"
     ],
     "language": "python",
     "metadata": {},
     "outputs": []
    },
    {
     "cell_type": "code",
     "collapsed": false,
     "input": [
      "cesthra = homme_celibataire_irpp75().calculate('cesthra', '2013')\n",
      "print cesthra\n",
      "print homme_celibataire_irpp75().calculate('irpp', '2013')\n",
      "print homme_celibataire_tehr(year = 2013).calculate('irpp', '2013')"
     ],
     "language": "python",
     "metadata": {},
     "outputs": []
    },
    {
     "cell_type": "code",
     "collapsed": false,
     "input": [
      "difference_revenu_disponible_2reformes = irpp75 - tehr\n",
      "difference_revenu_disponible_2reformes"
     ],
     "language": "python",
     "metadata": {},
     "outputs": []
    },
    {
     "cell_type": "code",
     "collapsed": false,
     "input": [],
     "language": "python",
     "metadata": {},
     "outputs": []
    },
    {
     "cell_type": "heading",
     "level": 5,
     "metadata": {},
     "source": [
      "Graphique Diff\u00e9rence revenu disponible (entre irpp75/tehr) / revenu imposable"
     ]
    },
    {
     "cell_type": "code",
     "collapsed": false,
     "input": [
      "fig = plt.figure()\n",
      "plt.plot(homme_celibataire_irpp75().calculate('salaire_de_base'), difference_revenu_disponible_2reformes, label = \"macourbe\")\n",
      "plt.legend(loc = 4, shadow=True, fancybox=True)\n",
      "plt.xlim([0,salaire_maximal])"
     ],
     "language": "python",
     "metadata": {},
     "outputs": []
    },
    {
     "cell_type": "heading",
     "level": 2,
     "metadata": {},
     "source": [
      "Diff\u00e9rence d'imposition entre les deux r\u00e9formes dans le cadre du quotient familliale (marriage homme/femme avec revenus diff\u00e9rents)"
     ]
    },
    {
     "cell_type": "heading",
     "level": 3,
     "metadata": {},
     "source": [
      "Nouveau projet: taxe exceptionelle sur les hauts revenus"
     ]
    },
    {
     "cell_type": "code",
     "collapsed": false,
     "input": [
      "def couple_sans_enfant_tehr(nombre_enfants = 0, year = 2015):\n",
      "    enfant = [dict(\n",
      "        birth = date(2005, 1, 1),\n",
      "        )]\n",
      "    enfants = enfant * nombre_enfants\n",
      "    simulation = tax_benefit_system.new_scenario().init_single_entity(\n",
      "        axes = [\n",
      "            dict(\n",
      "                count = 100,\n",
      "                min = 0,\n",
      "                max = salaire_maximal * 3,\n",
      "                name = 'sal',\n",
      "                ),\n",
      "            ],\n",
      "        period = \"{}:3\".format(year-2),\n",
      "        parent1 = dict(\n",
      "            birth = date(1980, 1, 1),\n",
      "            ),\n",
      "        parent2 = dict(\n",
      "            birth = date(1980, 1, 1)\n",
      "            ),\n",
      "        menage = dict(\n",
      "            loyer = 1000 * 3,\n",
      "            so = 4,\n",
      "            ),\n",
      "        ).new_simulation(debug = True)\n",
      "    return simulation"
     ],
     "language": "python",
     "metadata": {},
     "outputs": []
    },
    {
     "cell_type": "code",
     "collapsed": false,
     "input": [
      "tehr = couple_sans_enfant_tehr().calculate('revdisp', 2014)\n",
      "tehr"
     ],
     "language": "python",
     "metadata": {},
     "outputs": []
    },
    {
     "cell_type": "heading",
     "level": 3,
     "metadata": {},
     "source": [
      "Projet initial: fixer un taux marginal d'IRPP \u00e0 75% pour toute part du revenu excedant 1 Million d'euros"
     ]
    },
    {
     "cell_type": "code",
     "collapsed": false,
     "input": [
      "def couple_sans_enfant_irpp75(nombre_enfants = 0, year = 2015):\n",
      "    enfant = [dict(\n",
      "        birth = date(2005, 1, 1),\n",
      "        )]\n",
      "    enfants = enfant * nombre_enfants\n",
      "    simulation = tax_benefit_system.new_scenario().init_single_entity(\n",
      "        axes = [\n",
      "            dict(\n",
      "                count = 100,\n",
      "                min = 0,\n",
      "                max = salaire_maximal * 3,\n",
      "                name = 'sal',\n",
      "                ),\n",
      "            ],\n",
      "        period = \"{}:3\".format(year-2),\n",
      "        parent1 = dict(\n",
      "            birth = date(1980, 1, 1),\n",
      "            ),\n",
      "        parent2 = dict(\n",
      "            birth = date(1980, 1, 1)\n",
      "            ),\n",
      "        menage = dict(\n",
      "            loyer = 1000 * 3,\n",
      "            so = 4,\n",
      "            ),\n",
      "        ).new_simulation(debug = True)\n",
      "    return simulation"
     ],
     "language": "python",
     "metadata": {},
     "outputs": []
    },
    {
     "cell_type": "code",
     "collapsed": false,
     "input": [
      "irpp75 = couple_sans_enfant_irpp75().calculate('revdisp')\n",
      "irpp75"
     ],
     "language": "python",
     "metadata": {},
     "outputs": []
    },
    {
     "cell_type": "code",
     "collapsed": false,
     "input": [
      "difference_revenu_disponible_2reformes = irpp75 - tehr\n",
      "difference_revenu_disponible_2reformes"
     ],
     "language": "python",
     "metadata": {},
     "outputs": []
    },
    {
     "cell_type": "heading",
     "level": 5,
     "metadata": {},
     "source": [
      "Graphique Diff\u00e9rence revenu disponible (entre irpp75/tehr) / revenu imposable"
     ]
    },
    {
     "cell_type": "code",
     "collapsed": false,
     "input": [
      "fig = plt.figure()\n",
      "plt.plot(couple_avec_enfants_irpp75().calculate('salaire_de_base'), difference_revenu_disponible_2reformes, label = \"macourbe\")\n",
      "plt.legend(loc = 4, shadow=True, fancybox=True)\n",
      "plt.xlim([0,salaire_maximal])"
     ],
     "language": "python",
     "metadata": {},
     "outputs": []
    },
    {
     "cell_type": "heading",
     "level": 2,
     "metadata": {},
     "source": [
      "Incitation \u00e0 se marrier"
     ]
    },
    {
     "cell_type": "heading",
     "level": 3,
     "metadata": {},
     "source": [
      "Incitation \u00e0 se marrier sous le projet initial"
     ]
    },
    {
     "cell_type": "code",
     "collapsed": false,
     "input": [
      "D\u00e9finir Couple non-mari\u00e9"
     ],
     "language": "python",
     "metadata": {},
     "outputs": []
    },
    {
     "cell_type": "code",
     "collapsed": false,
     "input": [
      "D\u00e9terminer revenu disponible"
     ],
     "language": "python",
     "metadata": {},
     "outputs": []
    },
    {
     "cell_type": "code",
     "collapsed": false,
     "input": [
      "Graphique revenu Revenu disponible / revenu imposable"
     ],
     "language": "python",
     "metadata": {},
     "outputs": []
    },
    {
     "cell_type": "code",
     "collapsed": false,
     "input": [],
     "language": "python",
     "metadata": {},
     "outputs": []
    },
    {
     "cell_type": "code",
     "collapsed": false,
     "input": [
      "D\u00e9finir Couple mari\u00e9"
     ],
     "language": "python",
     "metadata": {},
     "outputs": []
    },
    {
     "cell_type": "code",
     "collapsed": false,
     "input": [
      "D\u00e9terminer revenu disponible"
     ],
     "language": "python",
     "metadata": {},
     "outputs": []
    },
    {
     "cell_type": "code",
     "collapsed": false,
     "input": [
      "Graphique revenu disponible / revenu imposable"
     ],
     "language": "python",
     "metadata": {},
     "outputs": []
    },
    {
     "cell_type": "code",
     "collapsed": false,
     "input": [],
     "language": "python",
     "metadata": {},
     "outputs": []
    },
    {
     "cell_type": "code",
     "collapsed": false,
     "input": [
      "Definir A = diff\u00e9rence entre le revenu disponible du couple non-mari\u00e9 et celui du couple mari\u00e9"
     ],
     "language": "python",
     "metadata": {},
     "outputs": []
    },
    {
     "cell_type": "heading",
     "level": 2,
     "metadata": {},
     "source": [
      "Graphique diff\u00e9rence entre le revenu disponible du couple non-mari\u00e9 et celui du couple mari\u00e9 / revenu imposable"
     ]
    },
    {
     "cell_type": "heading",
     "level": 3,
     "metadata": {},
     "source": [
      "Incitation \u00e0 se marrier sous la loi des finances 2013"
     ]
    },
    {
     "cell_type": "code",
     "collapsed": false,
     "input": [
      "D\u00e9finir Couple non-mari\u00e9"
     ],
     "language": "python",
     "metadata": {},
     "outputs": []
    },
    {
     "cell_type": "code",
     "collapsed": false,
     "input": [
      "D\u00e9terminer revenu disponible"
     ],
     "language": "python",
     "metadata": {},
     "outputs": []
    },
    {
     "cell_type": "code",
     "collapsed": false,
     "input": [
      "Graphique revenu Revenu disponible / revenu imposable"
     ],
     "language": "python",
     "metadata": {},
     "outputs": []
    },
    {
     "cell_type": "code",
     "collapsed": false,
     "input": [],
     "language": "python",
     "metadata": {},
     "outputs": []
    },
    {
     "cell_type": "code",
     "collapsed": false,
     "input": [
      "D\u00e9finir Couple mari\u00e9"
     ],
     "language": "python",
     "metadata": {},
     "outputs": []
    },
    {
     "cell_type": "code",
     "collapsed": false,
     "input": [
      "D\u00e9terminer revenu disponible"
     ],
     "language": "python",
     "metadata": {},
     "outputs": []
    },
    {
     "cell_type": "code",
     "collapsed": false,
     "input": [
      "Graphique revenu disponible / revenu imposable"
     ],
     "language": "python",
     "metadata": {},
     "outputs": []
    },
    {
     "cell_type": "code",
     "collapsed": false,
     "input": [],
     "language": "python",
     "metadata": {},
     "outputs": []
    },
    {
     "cell_type": "code",
     "collapsed": false,
     "input": [
      "Definir B = diff\u00e9rence entre le revenu disponible du couple non-mari\u00e9 et celui du couple mari\u00e9"
     ],
     "language": "python",
     "metadata": {},
     "outputs": []
    },
    {
     "cell_type": "code",
     "collapsed": false,
     "input": [
      "Graphique diff\u00e9rence entre le revenu disponible du couple non-mari\u00e9 et celui du couple mari\u00e9 / revenu imposable"
     ],
     "language": "python",
     "metadata": {},
     "outputs": []
    },
    {
     "cell_type": "heading",
     "level": 3,
     "metadata": {},
     "source": [
      "Diff\u00e9rence d'incitation au marriage entre les deux r\u00e9formes"
     ]
    },
    {
     "cell_type": "code",
     "collapsed": false,
     "input": [
      "A - B"
     ],
     "language": "python",
     "metadata": {},
     "outputs": []
    },
    {
     "cell_type": "code",
     "collapsed": false,
     "input": [
      "Graphique A - B / revenu imposable"
     ],
     "language": "python",
     "metadata": {},
     "outputs": []
    },
    {
     "cell_type": "code",
     "collapsed": false,
     "input": [
      "simulation_menage_1et2 = tax_benefit_system.new_scenario().init_single_entity(\n",
      "    period = \"2012:3\",\n",
      "    parent1 = dict(\n",
      "        birth = date(1980, 1, 1),\n",
      "        sal = 100000 * 3,\n",
      "        statmarit = 1, #il faut que les individus soient mari\u00e9s pour b\u00e9n\u00e9ficier du QF\n",
      "        ),\n",
      "    parent2 = dict(\n",
      "        birth = date(1980, 1, 1),\n",
      "        sal = 80000 * 3,\n",
      "        statmarit = 1, #modif\n",
      "    )\n",
      "    \n",
      "    ).new_simulation(debug = True)"
     ],
     "language": "python",
     "metadata": {},
     "outputs": []
    }
   ],
   "metadata": {}
  }
 ]
}