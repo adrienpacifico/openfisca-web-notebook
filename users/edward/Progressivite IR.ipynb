{
 "metadata": {
  "name": "",
  "signature": "sha256:f7f73547998513818468743e0b654e99cc1523435081c4c0eb2f921ff9196e1f"
 },
 "nbformat": 3,
 "nbformat_minor": 0,
 "worksheets": [
  {
   "cells": [
    {
     "cell_type": "heading",
     "level": 1,
     "metadata": {},
     "source": [
      "Illustration de la progressivit\u00e9 de l'imp\u00f4t sur le revenu"
     ]
    },
    {
     "cell_type": "heading",
     "level": 2,
     "metadata": {},
     "source": [
      "Initialisation\n"
     ]
    },
    {
     "cell_type": "markdown",
     "metadata": {},
     "source": [
      "Nous importons les modules n\u00e9c\u00e9ssaires et initialisons le syst\u00e8me socio-fiscal.\n"
     ]
    },
    {
     "cell_type": "code",
     "collapsed": false,
     "input": [
      "%matplotlib inline\n",
      "import matplotlib.pyplot as plt"
     ],
     "language": "python",
     "metadata": {},
     "outputs": [],
     "prompt_number": 17
    },
    {
     "cell_type": "code",
     "collapsed": false,
     "input": [
      "from datetime import date  # module n\u00e9cessaire pour la d\u00e9finition des dates, dont notamment les dates de naissances\n",
      "import openfisca_france    # module d\u00e9crivant le syst\u00e8me socio-fiscal fran\u00e7ais\n",
      "\n",
      "TaxBenefitSystem = openfisca_france.init_country()  # Initialisation de la classe d\u00e9crivant le syst\u00e8me socio-fiscal fran\u00e7ais\n",
      "tax_benefit_system = TaxBenefitSystem()  # Cr\u00e9ation d'une instance du syst\u00e8me socio-fiscal fran\u00e7ais "
     ],
     "language": "python",
     "metadata": {},
     "outputs": [],
     "prompt_number": 18
    },
    {
     "cell_type": "heading",
     "level": 2,
     "metadata": {},
     "source": [
      "Concavit\u00e9 de l'imp\u00f4t"
     ]
    },
    {
     "cell_type": "code",
     "collapsed": false,
     "input": [
      "simulation = tax_benefit_system.new_scenario().init_single_entity(\n",
      "    axes = [\n",
      "        dict(\n",
      "            count = 100,\n",
      "            min = 0,\n",
      "            max = 250000,\n",
      "            name = 'sal',\n",
      "            ),\n",
      "        ],\n",
      "    period = 2013,\n",
      "    parent1 = dict(\n",
      "        birth = date(1980, 1, 1),\n",
      "        )\n",
      "    ).new_simulation(debug = True)"
     ],
     "language": "python",
     "metadata": {},
     "outputs": [],
     "prompt_number": 19
    },
    {
     "cell_type": "code",
     "collapsed": false,
     "input": [
      "simulation"
     ],
     "language": "python",
     "metadata": {},
     "outputs": [
      {
       "metadata": {},
       "output_type": "pyout",
       "prompt_number": 20,
       "text": [
        "<openfisca_core.simulations.Simulation at 0x7f9d114239d0>"
       ]
      }
     ],
     "prompt_number": 20
    },
    {
     "cell_type": "code",
     "collapsed": false,
     "input": [
      "salaire_imposable = simulation.calculate('sal')\n",
      "salaire_imposable"
     ],
     "language": "python",
     "metadata": {},
     "outputs": [
      {
       "metadata": {},
       "output_type": "pyout",
       "prompt_number": 21,
       "text": [
        "array([      0.        ,    2525.25244141,    5050.50488281,\n",
        "          7575.7578125 ,   10101.00976562,   12626.26269531,\n",
        "         15151.515625  ,   17676.76757812,   20202.01953125,\n",
        "         22727.2734375 ,   25252.52539062,   27777.77734375,\n",
        "         30303.03125   ,   32828.28125   ,   35353.53515625,\n",
        "         37878.7890625 ,   40404.0390625 ,   42929.29296875,\n",
        "         45454.546875  ,   47979.796875  ,   50505.05078125,\n",
        "         53030.3046875 ,   55555.5546875 ,   58080.80859375,\n",
        "         60606.0625    ,   63131.3125    ,   65656.5625    ,\n",
        "         68181.8203125 ,   70707.0703125 ,   73232.3203125 ,\n",
        "         75757.578125  ,   78282.828125  ,   80808.078125  ,\n",
        "         83333.3359375 ,   85858.5859375 ,   88383.8359375 ,\n",
        "         90909.09375   ,   93434.34375   ,   95959.59375   ,\n",
        "         98484.8515625 ,  101010.1015625 ,  103535.3515625 ,\n",
        "        106060.609375  ,  108585.859375  ,  111111.109375  ,\n",
        "        113636.3671875 ,  116161.6171875 ,  118686.8671875 ,\n",
        "        121212.125     ,  123737.375     ,  126262.625     ,\n",
        "        128787.875     ,  131313.125     ,  133838.390625  ,\n",
        "        136363.640625  ,  138888.890625  ,  141414.140625  ,\n",
        "        143939.390625  ,  146464.640625  ,  148989.90625   ,\n",
        "        151515.15625   ,  154040.40625   ,  156565.65625   ,\n",
        "        159090.90625   ,  161616.15625   ,  164141.421875  ,\n",
        "        166666.671875  ,  169191.921875  ,  171717.171875  ,\n",
        "        174242.421875  ,  176767.671875  ,  179292.921875  ,\n",
        "        181818.1875    ,  184343.4375    ,  186868.6875    ,\n",
        "        189393.9375    ,  191919.1875    ,  194444.4375    ,\n",
        "        196969.703125  ,  199494.953125  ,  202020.203125  ,\n",
        "        204545.453125  ,  207070.703125  ,  209595.953125  ,\n",
        "        212121.21875   ,  214646.46875   ,  217171.71875   ,\n",
        "        219696.96875   ,  222222.21875   ,  224747.46875   ,\n",
        "        227272.734375  ,  229797.984375  ,  232323.234375  ,\n",
        "        234848.484375  ,  237373.734375  ,  239898.984375  ,\n",
        "        242424.25      ,  244949.5       ,  247474.75      ,  250000.        ], dtype=float32)"
       ]
      }
     ],
     "prompt_number": 21
    },
    {
     "cell_type": "code",
     "collapsed": false,
     "input": [
      "salaire_imposable = simulation.calculate('sal')\n",
      "impot = - simulation.calculate('impo')"
     ],
     "language": "python",
     "metadata": {},
     "outputs": [],
     "prompt_number": 22
    },
    {
     "cell_type": "code",
     "collapsed": false,
     "input": [
      "plt.plot(salaire_imposable, impot)\n",
      "plt.ylabel(u\"Imp\u00f4t sur le revenu\")\n",
      "plt.xlabel(u\"Salaires imposables\")"
     ],
     "language": "python",
     "metadata": {},
     "outputs": [
      {
       "metadata": {},
       "output_type": "pyout",
       "prompt_number": 23,
       "text": [
        "<matplotlib.text.Text at 0x7f9d1072a890>"
       ]
      },
      {
       "metadata": {},
       "output_type": "display_data",
       "png": "[encoded data removed]",
       "text": [
        "<matplotlib.figure.Figure at 0x7f9d10bf6150>"
       ]
      }
     ],
     "prompt_number": 23
    },
    {
     "cell_type": "markdown",
     "metadata": {},
     "source": [
      "L'imp\u00f4t pay\u00e9 est continu: il n'augmente brusquement son imp\u00f4t lorsque l'on change de tranche contrairement \n",
      "\u00e0 ce que pensent beaucoup de personnes."
     ]
    },
    {
     "cell_type": "heading",
     "level": 2,
     "metadata": {},
     "source": [
      "Taux moyen"
     ]
    },
    {
     "cell_type": "code",
     "collapsed": false,
     "input": [
      "taux_moyen = impot / salaire_imposable "
     ],
     "language": "python",
     "metadata": {},
     "outputs": [],
     "prompt_number": 24
    },
    {
     "cell_type": "code",
     "collapsed": false,
     "input": [
      "print (2 != 1)*1\n",
      "(2 == 1)*1"
     ],
     "language": "python",
     "metadata": {},
     "outputs": [
      {
       "output_type": "stream",
       "stream": "stdout",
       "text": [
        "1\n"
       ]
      },
      {
       "metadata": {},
       "output_type": "pyout",
       "prompt_number": 25,
       "text": [
        "0"
       ]
      }
     ],
     "prompt_number": 25
    },
    {
     "cell_type": "code",
     "collapsed": false,
     "input": [
      "taux_moyen = impot / (salaire_imposable * (salaire_imposable != 0) + (salaire_imposable == 0) )  "
     ],
     "language": "python",
     "metadata": {},
     "outputs": [],
     "prompt_number": 26
    },
    {
     "cell_type": "code",
     "collapsed": false,
     "input": [
      "plt.plot(salaire_imposable, taux_moyen)\n",
      "plt.ylabel(\"Taux moyen\")\n",
      "plt.xlabel(\"Salaire imposable\")"
     ],
     "language": "python",
     "metadata": {},
     "outputs": [
      {
       "metadata": {},
       "output_type": "pyout",
       "prompt_number": 27,
       "text": [
        "<matplotlib.text.Text at 0x7f9d104e6590>"
       ]
      },
      {
       "metadata": {},
       "output_type": "display_data",
       "png": "[encoded data removed]",
       "text": [
        "<matplotlib.figure.Figure at 0x7f9d10414a50>"
       ]
      }
     ],
     "prompt_number": 27
    },
    {
     "cell_type": "code",
     "collapsed": false,
     "input": [
      "taux moyen = I/R taux marginal = dI/dR ...\n",
      "x = np.arange(10)\n",
      "x ...\n",
      "y = x[:3]\n",
      "z = x [1;3]\n",
      "u = x [1:8:2]\n",
      "v = x [:-3]\n",
      "w = x[-2:]\n",
      "print y\n",
      "print z\n",
      "print u\n",
      "print v\n",
      "print w\n",
      "print 'y=', y\n",
      "print 'z=', z\n",
      "print 'u=', u\n",
      "print 'v=', v\n",
      "print 'w=', w"
     ],
     "language": "python",
     "metadata": {},
     "outputs": [
      {
       "ename": "SyntaxError",
       "evalue": "invalid syntax (<ipython-input-28-2d8eca6690a3>, line 1)",
       "output_type": "pyerr",
       "traceback": [
        "\u001b[0;36m  File \u001b[0;32m\"<ipython-input-28-2d8eca6690a3>\"\u001b[0;36m, line \u001b[0;32m1\u001b[0m\n\u001b[0;31m    taux moyen = I/R taux marginal = dI/dR ...\u001b[0m\n\u001b[0m             ^\u001b[0m\n\u001b[0;31mSyntaxError\u001b[0m\u001b[0;31m:\u001b[0m invalid syntax\n"
       ]
      }
     ],
     "prompt_number": 28
    },
    {
     "cell_type": "heading",
     "level": 2,
     "metadata": {},
     "source": [
      "Taux marginal"
     ]
    },
    {
     "cell_type": "code",
     "collapsed": false,
     "input": [
      "taux_marginal =  (impot[1:] - impot[:-1]) / (salaire_imposable[1:] - salaire_imposable[:-1] ) \n",
      "taux_marginal.shape"
     ],
     "language": "python",
     "metadata": {},
     "outputs": [
      {
       "metadata": {},
       "output_type": "pyout",
       "prompt_number": 29,
       "text": [
        "(99,)"
       ]
      }
     ],
     "prompt_number": 29
    },
    {
     "cell_type": "code",
     "collapsed": false,
     "input": [
      "plt.plot(salaire_imposable[:-1], taux_marginal)"
     ],
     "language": "python",
     "metadata": {},
     "outputs": [
      {
       "metadata": {},
       "output_type": "pyout",
       "prompt_number": 30,
       "text": [
        "[<matplotlib.lines.Line2D at 0x7f9d1031f7d0>]"
       ]
      },
      {
       "metadata": {},
       "output_type": "display_data",
       "png": "[encoded data removed]",
       "text": [
        "<matplotlib.figure.Figure at 0x7f9d1145c150>"
       ]
      }
     ],
     "prompt_number": 30
    },
    {
     "cell_type": "code",
     "collapsed": false,
     "input": [
      "taux_marginal[5], taux_marginal[30], taux_marginal[40], taux_marginal[60], taux_marginal[95]"
     ],
     "language": "python",
     "metadata": {},
     "outputs": [
      {
       "metadata": {},
       "output_type": "pyout",
       "prompt_number": 31,
       "text": [
        "(0.13103968, 0.27006221, 0.3689231, 0.41000119, 0.44999906)"
       ]
      }
     ],
     "prompt_number": 31
    },
    {
     "cell_type": "markdown",
     "metadata": {},
     "source": [
      "On retrouve les atux marginaux des tranches \u00e0 14% et \u00e0 30% (il ne faut pas oublier l'abattement de 10% pour frais professionnels)"
     ]
    },
    {
     "cell_type": "heading",
     "level": 3,
     "metadata": {},
     "source": [
      "Remarque: utilisation de fonction d\u00e9di\u00e9es"
     ]
    },
    {
     "cell_type": "markdown",
     "metadata": {},
     "source": [
      "Il est possible d'utiliser des fonctions d\u00e9di\u00e9es au calcul des taux marginaux et des taux moyens pay\u00e9s sur certaines concept de revenus. On reproduit ci-dessous "
     ]
    },
    {
     "cell_type": "code",
     "collapsed": false,
     "input": [
      "from openfisca_core.rates import average_rate, marginal_rate"
     ],
     "language": "python",
     "metadata": {},
     "outputs": [],
     "prompt_number": 32
    },
    {
     "cell_type": "code",
     "collapsed": false,
     "input": [
      "revenu_apres_impot = simulation.calculate('revenu_net_individu') + simulation.calculate('impo') "
     ],
     "language": "python",
     "metadata": {},
     "outputs": [],
     "prompt_number": 33
    },
    {
     "cell_type": "code",
     "collapsed": false,
     "input": [
      "plt.plot(average_rate(revenu_apres_impot[1:], salaire_imposable[1:]))"
     ],
     "language": "python",
     "metadata": {},
     "outputs": [
      {
       "metadata": {},
       "output_type": "pyout",
       "prompt_number": 34,
       "text": [
        "[<matplotlib.lines.Line2D at 0x7f9d102b9c10>]"
       ]
      },
      {
       "metadata": {},
       "output_type": "display_data",
       "png": "[encoded data removed]",
       "text": [
        "<matplotlib.figure.Figure at 0x7f9d103671d0>"
       ]
      }
     ],
     "prompt_number": 34
    },
    {
     "cell_type": "code",
     "collapsed": false,
     "input": [
      "plt.plot(marginal_rate(revenu_apres_impot[1:], salaire_imposable[1:]))"
     ],
     "language": "python",
     "metadata": {},
     "outputs": [
      {
       "metadata": {},
       "output_type": "pyout",
       "prompt_number": 35,
       "text": [
        "[<matplotlib.lines.Line2D at 0x7f9d101e1d10>]"
       ]
      },
      {
       "metadata": {},
       "output_type": "display_data",
       "png": "[encoded data removed]",
       "text": [
        "<matplotlib.figure.Figure at 0x7f9d113abdd0>"
       ]
      }
     ],
     "prompt_number": 35
    },
    {
     "cell_type": "markdown",
     "metadata": {},
     "source": [
      "Exercice: montrer que le taux moyen tend vers le taux marginal \u00e0 l'infini"
     ]
    },
    {
     "cell_type": "code",
     "collapsed": false,
     "input": [
      "plt.plot(average_rate(revenu_apres_import[1:], salaire_imposable[1:]), label=\"taux_moyen\"\n",
      "plt.plot(marginal_rate(revenu_apres_impot, salaire_imposable), label = \"taux marginal\")\n"
     ],
     "language": "python",
     "metadata": {},
     "outputs": [
      {
       "ename": "SyntaxError",
       "evalue": "invalid syntax (<ipython-input-36-8a146281c8ae>, line 2)",
       "output_type": "pyerr",
       "traceback": [
        "\u001b[0;36m  File \u001b[0;32m\"<ipython-input-36-8a146281c8ae>\"\u001b[0;36m, line \u001b[0;32m2\u001b[0m\n\u001b[0;31m    plt.plot(marginal_rate(revenu_apres_impot, salaire_imposable), label = \"taux marginal\")\u001b[0m\n\u001b[0m      ^\u001b[0m\n\u001b[0;31mSyntaxError\u001b[0m\u001b[0;31m:\u001b[0m invalid syntax\n"
       ]
      }
     ],
     "prompt_number": 36
    },
    {
     "cell_type": "code",
     "collapsed": false,
     "input": [],
     "language": "python",
     "metadata": {},
     "outputs": []
    },
    {
     "cell_type": "code",
     "collapsed": false,
     "input": [],
     "language": "python",
     "metadata": {},
     "outputs": []
    },
    {
     "cell_type": "code",
     "collapsed": false,
     "input": [],
     "language": "python",
     "metadata": {},
     "outputs": []
    },
    {
     "cell_type": "code",
     "collapsed": false,
     "input": [],
     "language": "python",
     "metadata": {},
     "outputs": []
    },
    {
     "cell_type": "code",
     "collapsed": false,
     "input": [],
     "language": "python",
     "metadata": {},
     "outputs": []
    },
    {
     "cell_type": "code",
     "collapsed": false,
     "input": [],
     "language": "python",
     "metadata": {},
     "outputs": []
    },
    {
     "cell_type": "code",
     "collapsed": false,
     "input": [],
     "language": "python",
     "metadata": {},
     "outputs": []
    },
    {
     "cell_type": "code",
     "collapsed": false,
     "input": [],
     "language": "python",
     "metadata": {},
     "outputs": []
    },
    {
     "cell_type": "code",
     "collapsed": false,
     "input": [],
     "language": "python",
     "metadata": {},
     "outputs": []
    },
    {
     "cell_type": "code",
     "collapsed": false,
     "input": [],
     "language": "python",
     "metadata": {},
     "outputs": []
    },
    {
     "cell_type": "code",
     "collapsed": false,
     "input": [],
     "language": "python",
     "metadata": {},
     "outputs": []
    }
   ],
   "metadata": {}
  }
 ]
}