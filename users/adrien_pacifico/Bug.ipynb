{
 "metadata": {
  "name": "",
  "signature": "sha256:4c2c8f3b414bf8c628259c9223a29c6ed9e90f841b8249b556795563ca4a1fbf"
 },
 "nbformat": 3,
 "nbformat_minor": 0,
 "worksheets": [
  {
   "cells": [
    {
     "cell_type": "heading",
     "level": 2,
     "metadata": {},
     "source": [
      "Cr\u00e9er mes 4 cas types"
     ]
    },
    {
     "cell_type": "markdown",
     "metadata": {},
     "source": [
      "1- 4 individus avec niveaux de revenus du travail diff\u00e9rents : Individu 1 : 100 000\u20ac Individu 2 : 80 000\u20ac Individu 3 : 20 000\u20ac Individu 4 : 0\u20ac $ \\rightarrow $ Calcul de leur revenu dispo individuel"
     ]
    },
    {
     "cell_type": "code",
     "collapsed": false,
     "input": [
      "%matplotlib inline\n",
      "import matplotlib.pyplot as plt\n",
      "from openfisca_matplotlib import graphs\n",
      "from openfisca_core import periods"
     ],
     "language": "python",
     "metadata": {},
     "outputs": [],
     "prompt_number": 12
    },
    {
     "cell_type": "code",
     "collapsed": false,
     "input": [
      "from datetime import date  \n",
      "import openfisca_france   \n",
      "\n",
      "TaxBenefitSystem = openfisca_france.init_country()  \n",
      "tax_benefit_system = TaxBenefitSystem()  "
     ],
     "language": "python",
     "metadata": {},
     "outputs": [],
     "prompt_number": 13
    },
    {
     "cell_type": "markdown",
     "metadata": {},
     "source": [
      "Simulation pour l'individu 1 : celui avec le plus haut revenu du travail"
     ]
    },
    {
     "cell_type": "code",
     "collapsed": false,
     "input": [
      "period = periods.period(\"year\", \"2014\")\n",
      "\n",
      "simulation_individu1 = tax_benefit_system.new_scenario().init_single_entity(\n",
      "    period = \"2012:3\", #modif on dit que l'on fait la simulation a partir de 2012 pour 3 ans\n",
      "    parent1 = dict(\n",
      "        birth = date(1980, 1, 1),\n",
      "        sal = 100000 * 3, #modif\n",
      "    )\n",
      "    ).new_simulation(debug = True)\n",
      "\n",
      "simulation_individu2 = tax_benefit_system.new_scenario().init_single_entity(\n",
      "    period = \"2012:3\", #modif\n",
      "    parent1 = dict(\n",
      "        birth = date(1980, 1, 1),\n",
      "        sal = 80000 * 3, #modif\n",
      "    )\n",
      "    ).new_simulation(debug = True)"
     ],
     "language": "python",
     "metadata": {},
     "outputs": [],
     "prompt_number": 14
    },
    {
     "cell_type": "code",
     "collapsed": false,
     "input": [],
     "language": "python",
     "metadata": {},
     "outputs": [],
     "prompt_number": 14
    },
    {
     "cell_type": "heading",
     "level": 2,
     "metadata": {},
     "source": [
      "1-Issue : Possibilit\u00e9 d'avoir un couple mari\u00e9 avec parent1 mari\u00e9 et l'autre pacs\u00e9 (ou n'importe quel autre statut)"
     ]
    },
    {
     "cell_type": "code",
     "collapsed": false,
     "input": [
      "simulation_menage_1et2 = tax_benefit_system.new_scenario().init_single_entity(\n",
      "    period = \"2012:3\",\n",
      "    parent1 = dict(\n",
      "        birth = date(1980, 1, 1),\n",
      "        sal = 100000 * 3,\n",
      "        statmarit = 1, #elle est mari\u00e9\n",
      "        ),\n",
      "    parent2 = dict(\n",
      "        birth = date(1980, 1, 1),\n",
      "        sal = 80000 * 3,\n",
      "        statmarit = 2, #il est pacs\u00e9\n",
      "    )\n",
      "    \n",
      "    ).new_simulation(debug = True)\n"
     ],
     "language": "python",
     "metadata": {},
     "outputs": [],
     "prompt_number": 15
    },
    {
     "cell_type": "code",
     "collapsed": false,
     "input": [
      "print simulation_menage_1et2.calculate('maries', period)"
     ],
     "language": "python",
     "metadata": {},
     "outputs": [
      {
       "output_type": "stream",
       "stream": "stdout",
       "text": [
        "[ True]\n"
       ]
      }
     ],
     "prompt_number": 16
    },
    {
     "cell_type": "markdown",
     "metadata": {},
     "source": [
      "Le couple parent1 parent2 est mari\u00e9 quelque soit le statut du parent 2. Besoin d'un assert ou d'un warning quand les varaibles statmarit sont diff\u00e9rentes pour parent1 et parent2."
     ]
    },
    {
     "cell_type": "heading",
     "level": 2,
     "metadata": {},
     "source": [
      "1.2-Bug : Couple sans statut marital renseign\u00e9 payent plus d'imp\u00f4t que deux c\u00e9libataires ?"
     ]
    },
    {
     "cell_type": "code",
     "collapsed": false,
     "input": [
      "simulation_menage_1et2 = tax_benefit_system.new_scenario().init_single_entity(\n",
      "    period = \"2012:3\",\n",
      "    parent1 = dict(\n",
      "        birth = date(1980, 1, 1),\n",
      "        sal = 100000 * 3,\n",
      "        ),\n",
      "    parent2 = dict(\n",
      "        birth = date(1980, 1, 1),\n",
      "        sal = 80000 * 3,\n",
      "#        statmarit = 2, #il est pacs\u00e9\n",
      "    )\n",
      "    \n",
      "    ).new_simulation(debug = True)"
     ],
     "language": "python",
     "metadata": {},
     "outputs": [],
     "prompt_number": 17
    },
    {
     "cell_type": "code",
     "collapsed": false,
     "input": [
      "print simulation_menage_1et2.calculate('impo', period)\n",
      "print simulation_individu1.calculate('impo', period) + simulation_individu2.calculate('impo', period)\n",
      "print simulation_menage_1et2.calculate('irpp', period)\n",
      "print simulation_menage_1et2.compute('irpp', period).array"
     ],
     "language": "python",
     "metadata": {},
     "outputs": [
      {
       "output_type": "stream",
       "stream": "stdout",
       "text": [
        "[-53320.21875]\n",
        "[-39356.44140625]"
       ]
      },
      {
       "output_type": "stream",
       "stream": "stdout",
       "text": [
        "\n",
        "[-53320.21875]\n",
        "[-53320.21875]\n"
       ]
      }
     ],
     "prompt_number": 18
    },
    {
     "cell_type": "code",
     "collapsed": false,
     "input": [
      "simulation_menage_1et2 = tax_benefit_system.new_scenario().init_single_entity(\n",
      "    period = \"2012:3\",\n",
      "    parent1 = dict(\n",
      "        birth = date(1980, 1, 1),\n",
      "        sal = 100000 * 3,\n",
      "        statmarit = 1, #elle est mari\u00e9\n",
      "        ),\n",
      "    parent2 = dict(\n",
      "        birth = date(1980, 1, 1),\n",
      "        sal = 20000 * 3,\n",
      "        statmarit = 1,\n",
      "    )\n",
      "    \n",
      "    ).new_simulation(debug = True)"
     ],
     "language": "python",
     "metadata": {},
     "outputs": [],
     "prompt_number": 19
    },
    {
     "cell_type": "code",
     "collapsed": false,
     "input": [
      "print simulation_menage_1et2.calculate('impo', period)\n",
      "print simulation_individu1.calculate('impo', period) + simulation_individu2.calculate('impo', period)\n",
      "print simulation_menage_1et2.calculate('irpp', period)\n",
      "print simulation_menage_1et2.compute('irpp', period).array"
     ],
     "language": "python",
     "metadata": {},
     "outputs": [
      {
       "output_type": "stream",
       "stream": "stdout",
       "text": [
        "[-21122.3203125]\n",
        "[-39356.44140625]\n",
        "[-21122.3203125]\n",
        "[-21122.3203125]\n"
       ]
      }
     ],
     "prompt_number": 20
    },
    {
     "cell_type": "code",
     "collapsed": false,
     "input": [
      "import git"
     ],
     "language": "python",
     "metadata": {},
     "outputs": [
      {
       "ename": "ImportError",
       "evalue": "No module named git",
       "output_type": "pyerr",
       "traceback": [
        "\u001b[0;31m---------------------------------------------------------------------------\u001b[0m\n\u001b[0;31mImportError\u001b[0m                               Traceback (most recent call last)",
        "\u001b[0;32m<ipython-input-1-6e2aff111637>\u001b[0m in \u001b[0;36m<module>\u001b[0;34m()\u001b[0m\n\u001b[0;32m----> 1\u001b[0;31m \u001b[0;32mimport\u001b[0m \u001b[0mgit\u001b[0m\u001b[0;34m\u001b[0m\u001b[0m\n\u001b[0m",
        "\u001b[0;31mImportError\u001b[0m: No module named git"
       ]
      }
     ],
     "prompt_number": 1
    },
    {
     "cell_type": "code",
     "collapsed": false,
     "input": [],
     "language": "python",
     "metadata": {},
     "outputs": []
    }
   ],
   "metadata": {}
  }
 ]
}