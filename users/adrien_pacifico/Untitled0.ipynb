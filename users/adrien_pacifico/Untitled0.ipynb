{
 "metadata": {
  "name": "",
  "signature": "sha256:276379137fcde7b2e791127ed8c61a17e6fc08c2602384b21e71d25349f02cdd"
 },
 "nbformat": 3,
 "nbformat_minor": 0,
 "worksheets": []
}